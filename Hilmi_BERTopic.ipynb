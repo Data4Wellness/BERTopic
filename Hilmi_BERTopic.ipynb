{
  "nbformat": 4,
  "nbformat_minor": 0,
  "metadata": {
    "colab": {
      "name": "Hilmi_BERTopic.ipynb",
      "provenance": [],
      "collapsed_sections": [],
      "toc_visible": true,
      "include_colab_link": true
    },
    "kernelspec": {
      "name": "python3",
      "display_name": "Python 3"
    },
    "accelerator": "GPU",
    "widgets": {
      "application/vnd.jupyter.widget-state+json": {
        "8cfb1fa9b07542bdb38af3442a49c2e9": {
          "model_module": "@jupyter-widgets/controls",
          "model_name": "HBoxModel",
          "state": {
            "_view_name": "HBoxView",
            "_dom_classes": [],
            "_model_name": "HBoxModel",
            "_view_module": "@jupyter-widgets/controls",
            "_model_module_version": "1.5.0",
            "_view_count": null,
            "_view_module_version": "1.5.0",
            "box_style": "",
            "layout": "IPY_MODEL_c12d6ca3dd424bc596204ebbce339b7f",
            "_model_module": "@jupyter-widgets/controls",
            "children": [
              "IPY_MODEL_784e30b97b664dbb99eb21f2648653ae",
              "IPY_MODEL_49aaf93c1fd04a18824ed8134600d304"
            ]
          }
        },
        "c12d6ca3dd424bc596204ebbce339b7f": {
          "model_module": "@jupyter-widgets/base",
          "model_name": "LayoutModel",
          "state": {
            "_view_name": "LayoutView",
            "grid_template_rows": null,
            "right": null,
            "justify_content": null,
            "_view_module": "@jupyter-widgets/base",
            "overflow": null,
            "_model_module_version": "1.2.0",
            "_view_count": null,
            "flex_flow": null,
            "width": null,
            "min_width": null,
            "border": null,
            "align_items": null,
            "bottom": null,
            "_model_module": "@jupyter-widgets/base",
            "top": null,
            "grid_column": null,
            "overflow_y": null,
            "overflow_x": null,
            "grid_auto_flow": null,
            "grid_area": null,
            "grid_template_columns": null,
            "flex": null,
            "_model_name": "LayoutModel",
            "justify_items": null,
            "grid_row": null,
            "max_height": null,
            "align_content": null,
            "visibility": null,
            "align_self": null,
            "height": null,
            "min_height": null,
            "padding": null,
            "grid_auto_rows": null,
            "grid_gap": null,
            "max_width": null,
            "order": null,
            "_view_module_version": "1.2.0",
            "grid_template_areas": null,
            "object_position": null,
            "object_fit": null,
            "grid_auto_columns": null,
            "margin": null,
            "display": null,
            "left": null
          }
        },
        "784e30b97b664dbb99eb21f2648653ae": {
          "model_module": "@jupyter-widgets/controls",
          "model_name": "FloatProgressModel",
          "state": {
            "_view_name": "ProgressView",
            "style": "IPY_MODEL_2e9a346b91934fdeb25e7cc3c4749e55",
            "_dom_classes": [],
            "description": "Downloading: 100%",
            "_model_name": "FloatProgressModel",
            "bar_style": "success",
            "max": 690,
            "_view_module": "@jupyter-widgets/controls",
            "_model_module_version": "1.5.0",
            "value": 690,
            "_view_count": null,
            "_view_module_version": "1.5.0",
            "orientation": "horizontal",
            "min": 0,
            "description_tooltip": null,
            "_model_module": "@jupyter-widgets/controls",
            "layout": "IPY_MODEL_9329b111d52247048b550516282cef8e"
          }
        },
        "49aaf93c1fd04a18824ed8134600d304": {
          "model_module": "@jupyter-widgets/controls",
          "model_name": "HTMLModel",
          "state": {
            "_view_name": "HTMLView",
            "style": "IPY_MODEL_117adaef06954718b3c46f47ab7385d2",
            "_dom_classes": [],
            "description": "",
            "_model_name": "HTMLModel",
            "placeholder": "​",
            "_view_module": "@jupyter-widgets/controls",
            "_model_module_version": "1.5.0",
            "value": " 690/690 [00:00&lt;00:00, 2.49kB/s]",
            "_view_count": null,
            "_view_module_version": "1.5.0",
            "description_tooltip": null,
            "_model_module": "@jupyter-widgets/controls",
            "layout": "IPY_MODEL_8a8815f3dd10461ea2cd9e3deaaf8e01"
          }
        },
        "2e9a346b91934fdeb25e7cc3c4749e55": {
          "model_module": "@jupyter-widgets/controls",
          "model_name": "ProgressStyleModel",
          "state": {
            "_view_name": "StyleView",
            "_model_name": "ProgressStyleModel",
            "description_width": "initial",
            "_view_module": "@jupyter-widgets/base",
            "_model_module_version": "1.5.0",
            "_view_count": null,
            "_view_module_version": "1.2.0",
            "bar_color": null,
            "_model_module": "@jupyter-widgets/controls"
          }
        },
        "9329b111d52247048b550516282cef8e": {
          "model_module": "@jupyter-widgets/base",
          "model_name": "LayoutModel",
          "state": {
            "_view_name": "LayoutView",
            "grid_template_rows": null,
            "right": null,
            "justify_content": null,
            "_view_module": "@jupyter-widgets/base",
            "overflow": null,
            "_model_module_version": "1.2.0",
            "_view_count": null,
            "flex_flow": null,
            "width": null,
            "min_width": null,
            "border": null,
            "align_items": null,
            "bottom": null,
            "_model_module": "@jupyter-widgets/base",
            "top": null,
            "grid_column": null,
            "overflow_y": null,
            "overflow_x": null,
            "grid_auto_flow": null,
            "grid_area": null,
            "grid_template_columns": null,
            "flex": null,
            "_model_name": "LayoutModel",
            "justify_items": null,
            "grid_row": null,
            "max_height": null,
            "align_content": null,
            "visibility": null,
            "align_self": null,
            "height": null,
            "min_height": null,
            "padding": null,
            "grid_auto_rows": null,
            "grid_gap": null,
            "max_width": null,
            "order": null,
            "_view_module_version": "1.2.0",
            "grid_template_areas": null,
            "object_position": null,
            "object_fit": null,
            "grid_auto_columns": null,
            "margin": null,
            "display": null,
            "left": null
          }
        },
        "117adaef06954718b3c46f47ab7385d2": {
          "model_module": "@jupyter-widgets/controls",
          "model_name": "DescriptionStyleModel",
          "state": {
            "_view_name": "StyleView",
            "_model_name": "DescriptionStyleModel",
            "description_width": "",
            "_view_module": "@jupyter-widgets/base",
            "_model_module_version": "1.5.0",
            "_view_count": null,
            "_view_module_version": "1.2.0",
            "_model_module": "@jupyter-widgets/controls"
          }
        },
        "8a8815f3dd10461ea2cd9e3deaaf8e01": {
          "model_module": "@jupyter-widgets/base",
          "model_name": "LayoutModel",
          "state": {
            "_view_name": "LayoutView",
            "grid_template_rows": null,
            "right": null,
            "justify_content": null,
            "_view_module": "@jupyter-widgets/base",
            "overflow": null,
            "_model_module_version": "1.2.0",
            "_view_count": null,
            "flex_flow": null,
            "width": null,
            "min_width": null,
            "border": null,
            "align_items": null,
            "bottom": null,
            "_model_module": "@jupyter-widgets/base",
            "top": null,
            "grid_column": null,
            "overflow_y": null,
            "overflow_x": null,
            "grid_auto_flow": null,
            "grid_area": null,
            "grid_template_columns": null,
            "flex": null,
            "_model_name": "LayoutModel",
            "justify_items": null,
            "grid_row": null,
            "max_height": null,
            "align_content": null,
            "visibility": null,
            "align_self": null,
            "height": null,
            "min_height": null,
            "padding": null,
            "grid_auto_rows": null,
            "grid_gap": null,
            "max_width": null,
            "order": null,
            "_view_module_version": "1.2.0",
            "grid_template_areas": null,
            "object_position": null,
            "object_fit": null,
            "grid_auto_columns": null,
            "margin": null,
            "display": null,
            "left": null
          }
        },
        "79a1bd914a6a4edd801d5c0e0050fd1f": {
          "model_module": "@jupyter-widgets/controls",
          "model_name": "HBoxModel",
          "state": {
            "_view_name": "HBoxView",
            "_dom_classes": [],
            "_model_name": "HBoxModel",
            "_view_module": "@jupyter-widgets/controls",
            "_model_module_version": "1.5.0",
            "_view_count": null,
            "_view_module_version": "1.5.0",
            "box_style": "",
            "layout": "IPY_MODEL_e8fd8e744d52451f994b748a362ee09c",
            "_model_module": "@jupyter-widgets/controls",
            "children": [
              "IPY_MODEL_afe0e90e2c694a2ba51d1d104d4d1492",
              "IPY_MODEL_80b3d2b8ead543e2b3ba86bb20fccd2d"
            ]
          }
        },
        "e8fd8e744d52451f994b748a362ee09c": {
          "model_module": "@jupyter-widgets/base",
          "model_name": "LayoutModel",
          "state": {
            "_view_name": "LayoutView",
            "grid_template_rows": null,
            "right": null,
            "justify_content": null,
            "_view_module": "@jupyter-widgets/base",
            "overflow": null,
            "_model_module_version": "1.2.0",
            "_view_count": null,
            "flex_flow": null,
            "width": null,
            "min_width": null,
            "border": null,
            "align_items": null,
            "bottom": null,
            "_model_module": "@jupyter-widgets/base",
            "top": null,
            "grid_column": null,
            "overflow_y": null,
            "overflow_x": null,
            "grid_auto_flow": null,
            "grid_area": null,
            "grid_template_columns": null,
            "flex": null,
            "_model_name": "LayoutModel",
            "justify_items": null,
            "grid_row": null,
            "max_height": null,
            "align_content": null,
            "visibility": null,
            "align_self": null,
            "height": null,
            "min_height": null,
            "padding": null,
            "grid_auto_rows": null,
            "grid_gap": null,
            "max_width": null,
            "order": null,
            "_view_module_version": "1.2.0",
            "grid_template_areas": null,
            "object_position": null,
            "object_fit": null,
            "grid_auto_columns": null,
            "margin": null,
            "display": null,
            "left": null
          }
        },
        "afe0e90e2c694a2ba51d1d104d4d1492": {
          "model_module": "@jupyter-widgets/controls",
          "model_name": "FloatProgressModel",
          "state": {
            "_view_name": "ProgressView",
            "style": "IPY_MODEL_c76dc7b432824dd4a4af655e0284a625",
            "_dom_classes": [],
            "description": "Downloading: 100%",
            "_model_name": "FloatProgressModel",
            "bar_style": "success",
            "max": 3673,
            "_view_module": "@jupyter-widgets/controls",
            "_model_module_version": "1.5.0",
            "value": 3673,
            "_view_count": null,
            "_view_module_version": "1.5.0",
            "orientation": "horizontal",
            "min": 0,
            "description_tooltip": null,
            "_model_module": "@jupyter-widgets/controls",
            "layout": "IPY_MODEL_c924feefe6ed43c68db040b2c09734ab"
          }
        },
        "80b3d2b8ead543e2b3ba86bb20fccd2d": {
          "model_module": "@jupyter-widgets/controls",
          "model_name": "HTMLModel",
          "state": {
            "_view_name": "HTMLView",
            "style": "IPY_MODEL_137826922df048aab52a5f43713f405e",
            "_dom_classes": [],
            "description": "",
            "_model_name": "HTMLModel",
            "placeholder": "​",
            "_view_module": "@jupyter-widgets/controls",
            "_model_module_version": "1.5.0",
            "value": " 3.67k/3.67k [00:01&lt;00:00, 2.06kB/s]",
            "_view_count": null,
            "_view_module_version": "1.5.0",
            "description_tooltip": null,
            "_model_module": "@jupyter-widgets/controls",
            "layout": "IPY_MODEL_bfbe3926520e4092b797da2bbda6a90f"
          }
        },
        "c76dc7b432824dd4a4af655e0284a625": {
          "model_module": "@jupyter-widgets/controls",
          "model_name": "ProgressStyleModel",
          "state": {
            "_view_name": "StyleView",
            "_model_name": "ProgressStyleModel",
            "description_width": "initial",
            "_view_module": "@jupyter-widgets/base",
            "_model_module_version": "1.5.0",
            "_view_count": null,
            "_view_module_version": "1.2.0",
            "bar_color": null,
            "_model_module": "@jupyter-widgets/controls"
          }
        },
        "c924feefe6ed43c68db040b2c09734ab": {
          "model_module": "@jupyter-widgets/base",
          "model_name": "LayoutModel",
          "state": {
            "_view_name": "LayoutView",
            "grid_template_rows": null,
            "right": null,
            "justify_content": null,
            "_view_module": "@jupyter-widgets/base",
            "overflow": null,
            "_model_module_version": "1.2.0",
            "_view_count": null,
            "flex_flow": null,
            "width": null,
            "min_width": null,
            "border": null,
            "align_items": null,
            "bottom": null,
            "_model_module": "@jupyter-widgets/base",
            "top": null,
            "grid_column": null,
            "overflow_y": null,
            "overflow_x": null,
            "grid_auto_flow": null,
            "grid_area": null,
            "grid_template_columns": null,
            "flex": null,
            "_model_name": "LayoutModel",
            "justify_items": null,
            "grid_row": null,
            "max_height": null,
            "align_content": null,
            "visibility": null,
            "align_self": null,
            "height": null,
            "min_height": null,
            "padding": null,
            "grid_auto_rows": null,
            "grid_gap": null,
            "max_width": null,
            "order": null,
            "_view_module_version": "1.2.0",
            "grid_template_areas": null,
            "object_position": null,
            "object_fit": null,
            "grid_auto_columns": null,
            "margin": null,
            "display": null,
            "left": null
          }
        },
        "137826922df048aab52a5f43713f405e": {
          "model_module": "@jupyter-widgets/controls",
          "model_name": "DescriptionStyleModel",
          "state": {
            "_view_name": "StyleView",
            "_model_name": "DescriptionStyleModel",
            "description_width": "",
            "_view_module": "@jupyter-widgets/base",
            "_model_module_version": "1.5.0",
            "_view_count": null,
            "_view_module_version": "1.2.0",
            "_model_module": "@jupyter-widgets/controls"
          }
        },
        "bfbe3926520e4092b797da2bbda6a90f": {
          "model_module": "@jupyter-widgets/base",
          "model_name": "LayoutModel",
          "state": {
            "_view_name": "LayoutView",
            "grid_template_rows": null,
            "right": null,
            "justify_content": null,
            "_view_module": "@jupyter-widgets/base",
            "overflow": null,
            "_model_module_version": "1.2.0",
            "_view_count": null,
            "flex_flow": null,
            "width": null,
            "min_width": null,
            "border": null,
            "align_items": null,
            "bottom": null,
            "_model_module": "@jupyter-widgets/base",
            "top": null,
            "grid_column": null,
            "overflow_y": null,
            "overflow_x": null,
            "grid_auto_flow": null,
            "grid_area": null,
            "grid_template_columns": null,
            "flex": null,
            "_model_name": "LayoutModel",
            "justify_items": null,
            "grid_row": null,
            "max_height": null,
            "align_content": null,
            "visibility": null,
            "align_self": null,
            "height": null,
            "min_height": null,
            "padding": null,
            "grid_auto_rows": null,
            "grid_gap": null,
            "max_width": null,
            "order": null,
            "_view_module_version": "1.2.0",
            "grid_template_areas": null,
            "object_position": null,
            "object_fit": null,
            "grid_auto_columns": null,
            "margin": null,
            "display": null,
            "left": null
          }
        },
        "63e9e02b479c4d6a818f768cd7d6d455": {
          "model_module": "@jupyter-widgets/controls",
          "model_name": "HBoxModel",
          "state": {
            "_view_name": "HBoxView",
            "_dom_classes": [],
            "_model_name": "HBoxModel",
            "_view_module": "@jupyter-widgets/controls",
            "_model_module_version": "1.5.0",
            "_view_count": null,
            "_view_module_version": "1.5.0",
            "box_style": "",
            "layout": "IPY_MODEL_8c2b8ccfc64c419eb98e81886f32effa",
            "_model_module": "@jupyter-widgets/controls",
            "children": [
              "IPY_MODEL_8685b40f71274533baf5052b8b3b8910",
              "IPY_MODEL_1dd758d87e67425cb17366b5a0cc8ede"
            ]
          }
        },
        "8c2b8ccfc64c419eb98e81886f32effa": {
          "model_module": "@jupyter-widgets/base",
          "model_name": "LayoutModel",
          "state": {
            "_view_name": "LayoutView",
            "grid_template_rows": null,
            "right": null,
            "justify_content": null,
            "_view_module": "@jupyter-widgets/base",
            "overflow": null,
            "_model_module_version": "1.2.0",
            "_view_count": null,
            "flex_flow": null,
            "width": null,
            "min_width": null,
            "border": null,
            "align_items": null,
            "bottom": null,
            "_model_module": "@jupyter-widgets/base",
            "top": null,
            "grid_column": null,
            "overflow_y": null,
            "overflow_x": null,
            "grid_auto_flow": null,
            "grid_area": null,
            "grid_template_columns": null,
            "flex": null,
            "_model_name": "LayoutModel",
            "justify_items": null,
            "grid_row": null,
            "max_height": null,
            "align_content": null,
            "visibility": null,
            "align_self": null,
            "height": null,
            "min_height": null,
            "padding": null,
            "grid_auto_rows": null,
            "grid_gap": null,
            "max_width": null,
            "order": null,
            "_view_module_version": "1.2.0",
            "grid_template_areas": null,
            "object_position": null,
            "object_fit": null,
            "grid_auto_columns": null,
            "margin": null,
            "display": null,
            "left": null
          }
        },
        "8685b40f71274533baf5052b8b3b8910": {
          "model_module": "@jupyter-widgets/controls",
          "model_name": "FloatProgressModel",
          "state": {
            "_view_name": "ProgressView",
            "style": "IPY_MODEL_c067db51d72b4a4ab05a2c61a99e5c33",
            "_dom_classes": [],
            "description": "Downloading: 100%",
            "_model_name": "FloatProgressModel",
            "bar_style": "success",
            "max": 629,
            "_view_module": "@jupyter-widgets/controls",
            "_model_module_version": "1.5.0",
            "value": 629,
            "_view_count": null,
            "_view_module_version": "1.5.0",
            "orientation": "horizontal",
            "min": 0,
            "description_tooltip": null,
            "_model_module": "@jupyter-widgets/controls",
            "layout": "IPY_MODEL_b0580b9298e64430809071175a58f1a7"
          }
        },
        "1dd758d87e67425cb17366b5a0cc8ede": {
          "model_module": "@jupyter-widgets/controls",
          "model_name": "HTMLModel",
          "state": {
            "_view_name": "HTMLView",
            "style": "IPY_MODEL_d95af67eb95941878b8b30f929e8cfd2",
            "_dom_classes": [],
            "description": "",
            "_model_name": "HTMLModel",
            "placeholder": "​",
            "_view_module": "@jupyter-widgets/controls",
            "_model_module_version": "1.5.0",
            "value": " 629/629 [00:01&lt;00:00, 529B/s]",
            "_view_count": null,
            "_view_module_version": "1.5.0",
            "description_tooltip": null,
            "_model_module": "@jupyter-widgets/controls",
            "layout": "IPY_MODEL_0e01a63e0988495ab10be303bebc7c58"
          }
        },
        "c067db51d72b4a4ab05a2c61a99e5c33": {
          "model_module": "@jupyter-widgets/controls",
          "model_name": "ProgressStyleModel",
          "state": {
            "_view_name": "StyleView",
            "_model_name": "ProgressStyleModel",
            "description_width": "initial",
            "_view_module": "@jupyter-widgets/base",
            "_model_module_version": "1.5.0",
            "_view_count": null,
            "_view_module_version": "1.2.0",
            "bar_color": null,
            "_model_module": "@jupyter-widgets/controls"
          }
        },
        "b0580b9298e64430809071175a58f1a7": {
          "model_module": "@jupyter-widgets/base",
          "model_name": "LayoutModel",
          "state": {
            "_view_name": "LayoutView",
            "grid_template_rows": null,
            "right": null,
            "justify_content": null,
            "_view_module": "@jupyter-widgets/base",
            "overflow": null,
            "_model_module_version": "1.2.0",
            "_view_count": null,
            "flex_flow": null,
            "width": null,
            "min_width": null,
            "border": null,
            "align_items": null,
            "bottom": null,
            "_model_module": "@jupyter-widgets/base",
            "top": null,
            "grid_column": null,
            "overflow_y": null,
            "overflow_x": null,
            "grid_auto_flow": null,
            "grid_area": null,
            "grid_template_columns": null,
            "flex": null,
            "_model_name": "LayoutModel",
            "justify_items": null,
            "grid_row": null,
            "max_height": null,
            "align_content": null,
            "visibility": null,
            "align_self": null,
            "height": null,
            "min_height": null,
            "padding": null,
            "grid_auto_rows": null,
            "grid_gap": null,
            "max_width": null,
            "order": null,
            "_view_module_version": "1.2.0",
            "grid_template_areas": null,
            "object_position": null,
            "object_fit": null,
            "grid_auto_columns": null,
            "margin": null,
            "display": null,
            "left": null
          }
        },
        "d95af67eb95941878b8b30f929e8cfd2": {
          "model_module": "@jupyter-widgets/controls",
          "model_name": "DescriptionStyleModel",
          "state": {
            "_view_name": "StyleView",
            "_model_name": "DescriptionStyleModel",
            "description_width": "",
            "_view_module": "@jupyter-widgets/base",
            "_model_module_version": "1.5.0",
            "_view_count": null,
            "_view_module_version": "1.2.0",
            "_model_module": "@jupyter-widgets/controls"
          }
        },
        "0e01a63e0988495ab10be303bebc7c58": {
          "model_module": "@jupyter-widgets/base",
          "model_name": "LayoutModel",
          "state": {
            "_view_name": "LayoutView",
            "grid_template_rows": null,
            "right": null,
            "justify_content": null,
            "_view_module": "@jupyter-widgets/base",
            "overflow": null,
            "_model_module_version": "1.2.0",
            "_view_count": null,
            "flex_flow": null,
            "width": null,
            "min_width": null,
            "border": null,
            "align_items": null,
            "bottom": null,
            "_model_module": "@jupyter-widgets/base",
            "top": null,
            "grid_column": null,
            "overflow_y": null,
            "overflow_x": null,
            "grid_auto_flow": null,
            "grid_area": null,
            "grid_template_columns": null,
            "flex": null,
            "_model_name": "LayoutModel",
            "justify_items": null,
            "grid_row": null,
            "max_height": null,
            "align_content": null,
            "visibility": null,
            "align_self": null,
            "height": null,
            "min_height": null,
            "padding": null,
            "grid_auto_rows": null,
            "grid_gap": null,
            "max_width": null,
            "order": null,
            "_view_module_version": "1.2.0",
            "grid_template_areas": null,
            "object_position": null,
            "object_fit": null,
            "grid_auto_columns": null,
            "margin": null,
            "display": null,
            "left": null
          }
        },
        "a59497d9d7ab4c0d836721f39de86ee2": {
          "model_module": "@jupyter-widgets/controls",
          "model_name": "HBoxModel",
          "state": {
            "_view_name": "HBoxView",
            "_dom_classes": [],
            "_model_name": "HBoxModel",
            "_view_module": "@jupyter-widgets/controls",
            "_model_module_version": "1.5.0",
            "_view_count": null,
            "_view_module_version": "1.5.0",
            "box_style": "",
            "layout": "IPY_MODEL_f573e056cab1412fb42292abefb8ef3c",
            "_model_module": "@jupyter-widgets/controls",
            "children": [
              "IPY_MODEL_304e54f15dd64592bbcc6b1b77482e3e",
              "IPY_MODEL_ac36dab182e64a1d9baace93f6fca1c2"
            ]
          }
        },
        "f573e056cab1412fb42292abefb8ef3c": {
          "model_module": "@jupyter-widgets/base",
          "model_name": "LayoutModel",
          "state": {
            "_view_name": "LayoutView",
            "grid_template_rows": null,
            "right": null,
            "justify_content": null,
            "_view_module": "@jupyter-widgets/base",
            "overflow": null,
            "_model_module_version": "1.2.0",
            "_view_count": null,
            "flex_flow": null,
            "width": null,
            "min_width": null,
            "border": null,
            "align_items": null,
            "bottom": null,
            "_model_module": "@jupyter-widgets/base",
            "top": null,
            "grid_column": null,
            "overflow_y": null,
            "overflow_x": null,
            "grid_auto_flow": null,
            "grid_area": null,
            "grid_template_columns": null,
            "flex": null,
            "_model_name": "LayoutModel",
            "justify_items": null,
            "grid_row": null,
            "max_height": null,
            "align_content": null,
            "visibility": null,
            "align_self": null,
            "height": null,
            "min_height": null,
            "padding": null,
            "grid_auto_rows": null,
            "grid_gap": null,
            "max_width": null,
            "order": null,
            "_view_module_version": "1.2.0",
            "grid_template_areas": null,
            "object_position": null,
            "object_fit": null,
            "grid_auto_columns": null,
            "margin": null,
            "display": null,
            "left": null
          }
        },
        "304e54f15dd64592bbcc6b1b77482e3e": {
          "model_module": "@jupyter-widgets/controls",
          "model_name": "FloatProgressModel",
          "state": {
            "_view_name": "ProgressView",
            "style": "IPY_MODEL_89b99759026d48fbbfe9f49d8c9553b2",
            "_dom_classes": [],
            "description": "Downloading: 100%",
            "_model_name": "FloatProgressModel",
            "bar_style": "success",
            "max": 122,
            "_view_module": "@jupyter-widgets/controls",
            "_model_module_version": "1.5.0",
            "value": 122,
            "_view_count": null,
            "_view_module_version": "1.5.0",
            "orientation": "horizontal",
            "min": 0,
            "description_tooltip": null,
            "_model_module": "@jupyter-widgets/controls",
            "layout": "IPY_MODEL_129d37f1bb244b019637b516b151dbcf"
          }
        },
        "ac36dab182e64a1d9baace93f6fca1c2": {
          "model_module": "@jupyter-widgets/controls",
          "model_name": "HTMLModel",
          "state": {
            "_view_name": "HTMLView",
            "style": "IPY_MODEL_ef713ed419734ea4ada217bd54506ede",
            "_dom_classes": [],
            "description": "",
            "_model_name": "HTMLModel",
            "placeholder": "​",
            "_view_module": "@jupyter-widgets/controls",
            "_model_module_version": "1.5.0",
            "value": " 122/122 [00:00&lt;00:00, 202B/s]",
            "_view_count": null,
            "_view_module_version": "1.5.0",
            "description_tooltip": null,
            "_model_module": "@jupyter-widgets/controls",
            "layout": "IPY_MODEL_fb5a9ac371854d64b31d3ec549ec61a7"
          }
        },
        "89b99759026d48fbbfe9f49d8c9553b2": {
          "model_module": "@jupyter-widgets/controls",
          "model_name": "ProgressStyleModel",
          "state": {
            "_view_name": "StyleView",
            "_model_name": "ProgressStyleModel",
            "description_width": "initial",
            "_view_module": "@jupyter-widgets/base",
            "_model_module_version": "1.5.0",
            "_view_count": null,
            "_view_module_version": "1.2.0",
            "bar_color": null,
            "_model_module": "@jupyter-widgets/controls"
          }
        },
        "129d37f1bb244b019637b516b151dbcf": {
          "model_module": "@jupyter-widgets/base",
          "model_name": "LayoutModel",
          "state": {
            "_view_name": "LayoutView",
            "grid_template_rows": null,
            "right": null,
            "justify_content": null,
            "_view_module": "@jupyter-widgets/base",
            "overflow": null,
            "_model_module_version": "1.2.0",
            "_view_count": null,
            "flex_flow": null,
            "width": null,
            "min_width": null,
            "border": null,
            "align_items": null,
            "bottom": null,
            "_model_module": "@jupyter-widgets/base",
            "top": null,
            "grid_column": null,
            "overflow_y": null,
            "overflow_x": null,
            "grid_auto_flow": null,
            "grid_area": null,
            "grid_template_columns": null,
            "flex": null,
            "_model_name": "LayoutModel",
            "justify_items": null,
            "grid_row": null,
            "max_height": null,
            "align_content": null,
            "visibility": null,
            "align_self": null,
            "height": null,
            "min_height": null,
            "padding": null,
            "grid_auto_rows": null,
            "grid_gap": null,
            "max_width": null,
            "order": null,
            "_view_module_version": "1.2.0",
            "grid_template_areas": null,
            "object_position": null,
            "object_fit": null,
            "grid_auto_columns": null,
            "margin": null,
            "display": null,
            "left": null
          }
        },
        "ef713ed419734ea4ada217bd54506ede": {
          "model_module": "@jupyter-widgets/controls",
          "model_name": "DescriptionStyleModel",
          "state": {
            "_view_name": "StyleView",
            "_model_name": "DescriptionStyleModel",
            "description_width": "",
            "_view_module": "@jupyter-widgets/base",
            "_model_module_version": "1.5.0",
            "_view_count": null,
            "_view_module_version": "1.2.0",
            "_model_module": "@jupyter-widgets/controls"
          }
        },
        "fb5a9ac371854d64b31d3ec549ec61a7": {
          "model_module": "@jupyter-widgets/base",
          "model_name": "LayoutModel",
          "state": {
            "_view_name": "LayoutView",
            "grid_template_rows": null,
            "right": null,
            "justify_content": null,
            "_view_module": "@jupyter-widgets/base",
            "overflow": null,
            "_model_module_version": "1.2.0",
            "_view_count": null,
            "flex_flow": null,
            "width": null,
            "min_width": null,
            "border": null,
            "align_items": null,
            "bottom": null,
            "_model_module": "@jupyter-widgets/base",
            "top": null,
            "grid_column": null,
            "overflow_y": null,
            "overflow_x": null,
            "grid_auto_flow": null,
            "grid_area": null,
            "grid_template_columns": null,
            "flex": null,
            "_model_name": "LayoutModel",
            "justify_items": null,
            "grid_row": null,
            "max_height": null,
            "align_content": null,
            "visibility": null,
            "align_self": null,
            "height": null,
            "min_height": null,
            "padding": null,
            "grid_auto_rows": null,
            "grid_gap": null,
            "max_width": null,
            "order": null,
            "_view_module_version": "1.2.0",
            "grid_template_areas": null,
            "object_position": null,
            "object_fit": null,
            "grid_auto_columns": null,
            "margin": null,
            "display": null,
            "left": null
          }
        },
        "706ec9ba0af54d8e989d1b5410fc0dd8": {
          "model_module": "@jupyter-widgets/controls",
          "model_name": "HBoxModel",
          "state": {
            "_view_name": "HBoxView",
            "_dom_classes": [],
            "_model_name": "HBoxModel",
            "_view_module": "@jupyter-widgets/controls",
            "_model_module_version": "1.5.0",
            "_view_count": null,
            "_view_module_version": "1.5.0",
            "box_style": "",
            "layout": "IPY_MODEL_cdb844bcc8a447a4a316d75adcc4d50d",
            "_model_module": "@jupyter-widgets/controls",
            "children": [
              "IPY_MODEL_15546558b09f4763870d92bf93b187d0",
              "IPY_MODEL_255f54d28ced4d0c80eec49c8ce99207"
            ]
          }
        },
        "cdb844bcc8a447a4a316d75adcc4d50d": {
          "model_module": "@jupyter-widgets/base",
          "model_name": "LayoutModel",
          "state": {
            "_view_name": "LayoutView",
            "grid_template_rows": null,
            "right": null,
            "justify_content": null,
            "_view_module": "@jupyter-widgets/base",
            "overflow": null,
            "_model_module_version": "1.2.0",
            "_view_count": null,
            "flex_flow": null,
            "width": null,
            "min_width": null,
            "border": null,
            "align_items": null,
            "bottom": null,
            "_model_module": "@jupyter-widgets/base",
            "top": null,
            "grid_column": null,
            "overflow_y": null,
            "overflow_x": null,
            "grid_auto_flow": null,
            "grid_area": null,
            "grid_template_columns": null,
            "flex": null,
            "_model_name": "LayoutModel",
            "justify_items": null,
            "grid_row": null,
            "max_height": null,
            "align_content": null,
            "visibility": null,
            "align_self": null,
            "height": null,
            "min_height": null,
            "padding": null,
            "grid_auto_rows": null,
            "grid_gap": null,
            "max_width": null,
            "order": null,
            "_view_module_version": "1.2.0",
            "grid_template_areas": null,
            "object_position": null,
            "object_fit": null,
            "grid_auto_columns": null,
            "margin": null,
            "display": null,
            "left": null
          }
        },
        "15546558b09f4763870d92bf93b187d0": {
          "model_module": "@jupyter-widgets/controls",
          "model_name": "FloatProgressModel",
          "state": {
            "_view_name": "ProgressView",
            "style": "IPY_MODEL_2761755eeb564e6ea40ef7714a9e7206",
            "_dom_classes": [],
            "description": "Downloading: 100%",
            "_model_name": "FloatProgressModel",
            "bar_style": "success",
            "max": 229,
            "_view_module": "@jupyter-widgets/controls",
            "_model_module_version": "1.5.0",
            "value": 229,
            "_view_count": null,
            "_view_module_version": "1.5.0",
            "orientation": "horizontal",
            "min": 0,
            "description_tooltip": null,
            "_model_module": "@jupyter-widgets/controls",
            "layout": "IPY_MODEL_d4874a88ad2f45568ede8c4d3ca187f7"
          }
        },
        "255f54d28ced4d0c80eec49c8ce99207": {
          "model_module": "@jupyter-widgets/controls",
          "model_name": "HTMLModel",
          "state": {
            "_view_name": "HTMLView",
            "style": "IPY_MODEL_b136d875cbbc460784d1ab86af3307fb",
            "_dom_classes": [],
            "description": "",
            "_model_name": "HTMLModel",
            "placeholder": "​",
            "_view_module": "@jupyter-widgets/controls",
            "_model_module_version": "1.5.0",
            "value": " 229/229 [00:03&lt;00:00, 76.1B/s]",
            "_view_count": null,
            "_view_module_version": "1.5.0",
            "description_tooltip": null,
            "_model_module": "@jupyter-widgets/controls",
            "layout": "IPY_MODEL_56f0f4d0d4ae44f49839dc6e8edf456b"
          }
        },
        "2761755eeb564e6ea40ef7714a9e7206": {
          "model_module": "@jupyter-widgets/controls",
          "model_name": "ProgressStyleModel",
          "state": {
            "_view_name": "StyleView",
            "_model_name": "ProgressStyleModel",
            "description_width": "initial",
            "_view_module": "@jupyter-widgets/base",
            "_model_module_version": "1.5.0",
            "_view_count": null,
            "_view_module_version": "1.2.0",
            "bar_color": null,
            "_model_module": "@jupyter-widgets/controls"
          }
        },
        "d4874a88ad2f45568ede8c4d3ca187f7": {
          "model_module": "@jupyter-widgets/base",
          "model_name": "LayoutModel",
          "state": {
            "_view_name": "LayoutView",
            "grid_template_rows": null,
            "right": null,
            "justify_content": null,
            "_view_module": "@jupyter-widgets/base",
            "overflow": null,
            "_model_module_version": "1.2.0",
            "_view_count": null,
            "flex_flow": null,
            "width": null,
            "min_width": null,
            "border": null,
            "align_items": null,
            "bottom": null,
            "_model_module": "@jupyter-widgets/base",
            "top": null,
            "grid_column": null,
            "overflow_y": null,
            "overflow_x": null,
            "grid_auto_flow": null,
            "grid_area": null,
            "grid_template_columns": null,
            "flex": null,
            "_model_name": "LayoutModel",
            "justify_items": null,
            "grid_row": null,
            "max_height": null,
            "align_content": null,
            "visibility": null,
            "align_self": null,
            "height": null,
            "min_height": null,
            "padding": null,
            "grid_auto_rows": null,
            "grid_gap": null,
            "max_width": null,
            "order": null,
            "_view_module_version": "1.2.0",
            "grid_template_areas": null,
            "object_position": null,
            "object_fit": null,
            "grid_auto_columns": null,
            "margin": null,
            "display": null,
            "left": null
          }
        },
        "b136d875cbbc460784d1ab86af3307fb": {
          "model_module": "@jupyter-widgets/controls",
          "model_name": "DescriptionStyleModel",
          "state": {
            "_view_name": "StyleView",
            "_model_name": "DescriptionStyleModel",
            "description_width": "",
            "_view_module": "@jupyter-widgets/base",
            "_model_module_version": "1.5.0",
            "_view_count": null,
            "_view_module_version": "1.2.0",
            "_model_module": "@jupyter-widgets/controls"
          }
        },
        "56f0f4d0d4ae44f49839dc6e8edf456b": {
          "model_module": "@jupyter-widgets/base",
          "model_name": "LayoutModel",
          "state": {
            "_view_name": "LayoutView",
            "grid_template_rows": null,
            "right": null,
            "justify_content": null,
            "_view_module": "@jupyter-widgets/base",
            "overflow": null,
            "_model_module_version": "1.2.0",
            "_view_count": null,
            "flex_flow": null,
            "width": null,
            "min_width": null,
            "border": null,
            "align_items": null,
            "bottom": null,
            "_model_module": "@jupyter-widgets/base",
            "top": null,
            "grid_column": null,
            "overflow_y": null,
            "overflow_x": null,
            "grid_auto_flow": null,
            "grid_area": null,
            "grid_template_columns": null,
            "flex": null,
            "_model_name": "LayoutModel",
            "justify_items": null,
            "grid_row": null,
            "max_height": null,
            "align_content": null,
            "visibility": null,
            "align_self": null,
            "height": null,
            "min_height": null,
            "padding": null,
            "grid_auto_rows": null,
            "grid_gap": null,
            "max_width": null,
            "order": null,
            "_view_module_version": "1.2.0",
            "grid_template_areas": null,
            "object_position": null,
            "object_fit": null,
            "grid_auto_columns": null,
            "margin": null,
            "display": null,
            "left": null
          }
        },
        "ecadcd8d993849cd824edaaae6a10d53": {
          "model_module": "@jupyter-widgets/controls",
          "model_name": "HBoxModel",
          "state": {
            "_view_name": "HBoxView",
            "_dom_classes": [],
            "_model_name": "HBoxModel",
            "_view_module": "@jupyter-widgets/controls",
            "_model_module_version": "1.5.0",
            "_view_count": null,
            "_view_module_version": "1.5.0",
            "box_style": "",
            "layout": "IPY_MODEL_918277f2cc2149a2aafedb91879f169d",
            "_model_module": "@jupyter-widgets/controls",
            "children": [
              "IPY_MODEL_07b8cc58c1054ec1bf663c4504e07319",
              "IPY_MODEL_912584f584074a0fb506700bc95f7127"
            ]
          }
        },
        "918277f2cc2149a2aafedb91879f169d": {
          "model_module": "@jupyter-widgets/base",
          "model_name": "LayoutModel",
          "state": {
            "_view_name": "LayoutView",
            "grid_template_rows": null,
            "right": null,
            "justify_content": null,
            "_view_module": "@jupyter-widgets/base",
            "overflow": null,
            "_model_module_version": "1.2.0",
            "_view_count": null,
            "flex_flow": null,
            "width": null,
            "min_width": null,
            "border": null,
            "align_items": null,
            "bottom": null,
            "_model_module": "@jupyter-widgets/base",
            "top": null,
            "grid_column": null,
            "overflow_y": null,
            "overflow_x": null,
            "grid_auto_flow": null,
            "grid_area": null,
            "grid_template_columns": null,
            "flex": null,
            "_model_name": "LayoutModel",
            "justify_items": null,
            "grid_row": null,
            "max_height": null,
            "align_content": null,
            "visibility": null,
            "align_self": null,
            "height": null,
            "min_height": null,
            "padding": null,
            "grid_auto_rows": null,
            "grid_gap": null,
            "max_width": null,
            "order": null,
            "_view_module_version": "1.2.0",
            "grid_template_areas": null,
            "object_position": null,
            "object_fit": null,
            "grid_auto_columns": null,
            "margin": null,
            "display": null,
            "left": null
          }
        },
        "07b8cc58c1054ec1bf663c4504e07319": {
          "model_module": "@jupyter-widgets/controls",
          "model_name": "FloatProgressModel",
          "state": {
            "_view_name": "ProgressView",
            "style": "IPY_MODEL_8b24484e5ea74e6087fba4bf4cc7a8d1",
            "_dom_classes": [],
            "description": "Downloading: 100%",
            "_model_name": "FloatProgressModel",
            "bar_style": "success",
            "max": 90895153,
            "_view_module": "@jupyter-widgets/controls",
            "_model_module_version": "1.5.0",
            "value": 90895153,
            "_view_count": null,
            "_view_module_version": "1.5.0",
            "orientation": "horizontal",
            "min": 0,
            "description_tooltip": null,
            "_model_module": "@jupyter-widgets/controls",
            "layout": "IPY_MODEL_ffcf75a987e947bcbc47532e1f884ef3"
          }
        },
        "912584f584074a0fb506700bc95f7127": {
          "model_module": "@jupyter-widgets/controls",
          "model_name": "HTMLModel",
          "state": {
            "_view_name": "HTMLView",
            "style": "IPY_MODEL_a7b1ec5698564bfabf3fbc4275fcf98f",
            "_dom_classes": [],
            "description": "",
            "_model_name": "HTMLModel",
            "placeholder": "​",
            "_view_module": "@jupyter-widgets/controls",
            "_model_module_version": "1.5.0",
            "value": " 90.9M/90.9M [00:02&lt;00:00, 36.7MB/s]",
            "_view_count": null,
            "_view_module_version": "1.5.0",
            "description_tooltip": null,
            "_model_module": "@jupyter-widgets/controls",
            "layout": "IPY_MODEL_df2272846e12428abc855be81b854975"
          }
        },
        "8b24484e5ea74e6087fba4bf4cc7a8d1": {
          "model_module": "@jupyter-widgets/controls",
          "model_name": "ProgressStyleModel",
          "state": {
            "_view_name": "StyleView",
            "_model_name": "ProgressStyleModel",
            "description_width": "initial",
            "_view_module": "@jupyter-widgets/base",
            "_model_module_version": "1.5.0",
            "_view_count": null,
            "_view_module_version": "1.2.0",
            "bar_color": null,
            "_model_module": "@jupyter-widgets/controls"
          }
        },
        "ffcf75a987e947bcbc47532e1f884ef3": {
          "model_module": "@jupyter-widgets/base",
          "model_name": "LayoutModel",
          "state": {
            "_view_name": "LayoutView",
            "grid_template_rows": null,
            "right": null,
            "justify_content": null,
            "_view_module": "@jupyter-widgets/base",
            "overflow": null,
            "_model_module_version": "1.2.0",
            "_view_count": null,
            "flex_flow": null,
            "width": null,
            "min_width": null,
            "border": null,
            "align_items": null,
            "bottom": null,
            "_model_module": "@jupyter-widgets/base",
            "top": null,
            "grid_column": null,
            "overflow_y": null,
            "overflow_x": null,
            "grid_auto_flow": null,
            "grid_area": null,
            "grid_template_columns": null,
            "flex": null,
            "_model_name": "LayoutModel",
            "justify_items": null,
            "grid_row": null,
            "max_height": null,
            "align_content": null,
            "visibility": null,
            "align_self": null,
            "height": null,
            "min_height": null,
            "padding": null,
            "grid_auto_rows": null,
            "grid_gap": null,
            "max_width": null,
            "order": null,
            "_view_module_version": "1.2.0",
            "grid_template_areas": null,
            "object_position": null,
            "object_fit": null,
            "grid_auto_columns": null,
            "margin": null,
            "display": null,
            "left": null
          }
        },
        "a7b1ec5698564bfabf3fbc4275fcf98f": {
          "model_module": "@jupyter-widgets/controls",
          "model_name": "DescriptionStyleModel",
          "state": {
            "_view_name": "StyleView",
            "_model_name": "DescriptionStyleModel",
            "description_width": "",
            "_view_module": "@jupyter-widgets/base",
            "_model_module_version": "1.5.0",
            "_view_count": null,
            "_view_module_version": "1.2.0",
            "_model_module": "@jupyter-widgets/controls"
          }
        },
        "df2272846e12428abc855be81b854975": {
          "model_module": "@jupyter-widgets/base",
          "model_name": "LayoutModel",
          "state": {
            "_view_name": "LayoutView",
            "grid_template_rows": null,
            "right": null,
            "justify_content": null,
            "_view_module": "@jupyter-widgets/base",
            "overflow": null,
            "_model_module_version": "1.2.0",
            "_view_count": null,
            "flex_flow": null,
            "width": null,
            "min_width": null,
            "border": null,
            "align_items": null,
            "bottom": null,
            "_model_module": "@jupyter-widgets/base",
            "top": null,
            "grid_column": null,
            "overflow_y": null,
            "overflow_x": null,
            "grid_auto_flow": null,
            "grid_area": null,
            "grid_template_columns": null,
            "flex": null,
            "_model_name": "LayoutModel",
            "justify_items": null,
            "grid_row": null,
            "max_height": null,
            "align_content": null,
            "visibility": null,
            "align_self": null,
            "height": null,
            "min_height": null,
            "padding": null,
            "grid_auto_rows": null,
            "grid_gap": null,
            "max_width": null,
            "order": null,
            "_view_module_version": "1.2.0",
            "grid_template_areas": null,
            "object_position": null,
            "object_fit": null,
            "grid_auto_columns": null,
            "margin": null,
            "display": null,
            "left": null
          }
        },
        "cd6cfa5a19564f16a33c7dab70c83315": {
          "model_module": "@jupyter-widgets/controls",
          "model_name": "HBoxModel",
          "state": {
            "_view_name": "HBoxView",
            "_dom_classes": [],
            "_model_name": "HBoxModel",
            "_view_module": "@jupyter-widgets/controls",
            "_model_module_version": "1.5.0",
            "_view_count": null,
            "_view_module_version": "1.5.0",
            "box_style": "",
            "layout": "IPY_MODEL_61cb4d20a9a64c18be40cb2d92b7cd9d",
            "_model_module": "@jupyter-widgets/controls",
            "children": [
              "IPY_MODEL_4b08f430bce9465b9a7cfd210474c87a",
              "IPY_MODEL_33aa07d8c2004dcc8d6d986d90ee4cb2"
            ]
          }
        },
        "61cb4d20a9a64c18be40cb2d92b7cd9d": {
          "model_module": "@jupyter-widgets/base",
          "model_name": "LayoutModel",
          "state": {
            "_view_name": "LayoutView",
            "grid_template_rows": null,
            "right": null,
            "justify_content": null,
            "_view_module": "@jupyter-widgets/base",
            "overflow": null,
            "_model_module_version": "1.2.0",
            "_view_count": null,
            "flex_flow": null,
            "width": null,
            "min_width": null,
            "border": null,
            "align_items": null,
            "bottom": null,
            "_model_module": "@jupyter-widgets/base",
            "top": null,
            "grid_column": null,
            "overflow_y": null,
            "overflow_x": null,
            "grid_auto_flow": null,
            "grid_area": null,
            "grid_template_columns": null,
            "flex": null,
            "_model_name": "LayoutModel",
            "justify_items": null,
            "grid_row": null,
            "max_height": null,
            "align_content": null,
            "visibility": null,
            "align_self": null,
            "height": null,
            "min_height": null,
            "padding": null,
            "grid_auto_rows": null,
            "grid_gap": null,
            "max_width": null,
            "order": null,
            "_view_module_version": "1.2.0",
            "grid_template_areas": null,
            "object_position": null,
            "object_fit": null,
            "grid_auto_columns": null,
            "margin": null,
            "display": null,
            "left": null
          }
        },
        "4b08f430bce9465b9a7cfd210474c87a": {
          "model_module": "@jupyter-widgets/controls",
          "model_name": "FloatProgressModel",
          "state": {
            "_view_name": "ProgressView",
            "style": "IPY_MODEL_2a5bcffd4a924312bc5a8d1c0695e494",
            "_dom_classes": [],
            "description": "Downloading: 100%",
            "_model_name": "FloatProgressModel",
            "bar_style": "success",
            "max": 53,
            "_view_module": "@jupyter-widgets/controls",
            "_model_module_version": "1.5.0",
            "value": 53,
            "_view_count": null,
            "_view_module_version": "1.5.0",
            "orientation": "horizontal",
            "min": 0,
            "description_tooltip": null,
            "_model_module": "@jupyter-widgets/controls",
            "layout": "IPY_MODEL_52592d0575c64c34ac48758b6fc4c41f"
          }
        },
        "33aa07d8c2004dcc8d6d986d90ee4cb2": {
          "model_module": "@jupyter-widgets/controls",
          "model_name": "HTMLModel",
          "state": {
            "_view_name": "HTMLView",
            "style": "IPY_MODEL_3f8f32493b7441bdb8b7aa97d985c4c6",
            "_dom_classes": [],
            "description": "",
            "_model_name": "HTMLModel",
            "placeholder": "​",
            "_view_module": "@jupyter-widgets/controls",
            "_model_module_version": "1.5.0",
            "value": " 53.0/53.0 [00:27&lt;00:00, 1.94B/s]",
            "_view_count": null,
            "_view_module_version": "1.5.0",
            "description_tooltip": null,
            "_model_module": "@jupyter-widgets/controls",
            "layout": "IPY_MODEL_246ca014f1544378b9fc51d7c76df4f0"
          }
        },
        "2a5bcffd4a924312bc5a8d1c0695e494": {
          "model_module": "@jupyter-widgets/controls",
          "model_name": "ProgressStyleModel",
          "state": {
            "_view_name": "StyleView",
            "_model_name": "ProgressStyleModel",
            "description_width": "initial",
            "_view_module": "@jupyter-widgets/base",
            "_model_module_version": "1.5.0",
            "_view_count": null,
            "_view_module_version": "1.2.0",
            "bar_color": null,
            "_model_module": "@jupyter-widgets/controls"
          }
        },
        "52592d0575c64c34ac48758b6fc4c41f": {
          "model_module": "@jupyter-widgets/base",
          "model_name": "LayoutModel",
          "state": {
            "_view_name": "LayoutView",
            "grid_template_rows": null,
            "right": null,
            "justify_content": null,
            "_view_module": "@jupyter-widgets/base",
            "overflow": null,
            "_model_module_version": "1.2.0",
            "_view_count": null,
            "flex_flow": null,
            "width": null,
            "min_width": null,
            "border": null,
            "align_items": null,
            "bottom": null,
            "_model_module": "@jupyter-widgets/base",
            "top": null,
            "grid_column": null,
            "overflow_y": null,
            "overflow_x": null,
            "grid_auto_flow": null,
            "grid_area": null,
            "grid_template_columns": null,
            "flex": null,
            "_model_name": "LayoutModel",
            "justify_items": null,
            "grid_row": null,
            "max_height": null,
            "align_content": null,
            "visibility": null,
            "align_self": null,
            "height": null,
            "min_height": null,
            "padding": null,
            "grid_auto_rows": null,
            "grid_gap": null,
            "max_width": null,
            "order": null,
            "_view_module_version": "1.2.0",
            "grid_template_areas": null,
            "object_position": null,
            "object_fit": null,
            "grid_auto_columns": null,
            "margin": null,
            "display": null,
            "left": null
          }
        },
        "3f8f32493b7441bdb8b7aa97d985c4c6": {
          "model_module": "@jupyter-widgets/controls",
          "model_name": "DescriptionStyleModel",
          "state": {
            "_view_name": "StyleView",
            "_model_name": "DescriptionStyleModel",
            "description_width": "",
            "_view_module": "@jupyter-widgets/base",
            "_model_module_version": "1.5.0",
            "_view_count": null,
            "_view_module_version": "1.2.0",
            "_model_module": "@jupyter-widgets/controls"
          }
        },
        "246ca014f1544378b9fc51d7c76df4f0": {
          "model_module": "@jupyter-widgets/base",
          "model_name": "LayoutModel",
          "state": {
            "_view_name": "LayoutView",
            "grid_template_rows": null,
            "right": null,
            "justify_content": null,
            "_view_module": "@jupyter-widgets/base",
            "overflow": null,
            "_model_module_version": "1.2.0",
            "_view_count": null,
            "flex_flow": null,
            "width": null,
            "min_width": null,
            "border": null,
            "align_items": null,
            "bottom": null,
            "_model_module": "@jupyter-widgets/base",
            "top": null,
            "grid_column": null,
            "overflow_y": null,
            "overflow_x": null,
            "grid_auto_flow": null,
            "grid_area": null,
            "grid_template_columns": null,
            "flex": null,
            "_model_name": "LayoutModel",
            "justify_items": null,
            "grid_row": null,
            "max_height": null,
            "align_content": null,
            "visibility": null,
            "align_self": null,
            "height": null,
            "min_height": null,
            "padding": null,
            "grid_auto_rows": null,
            "grid_gap": null,
            "max_width": null,
            "order": null,
            "_view_module_version": "1.2.0",
            "grid_template_areas": null,
            "object_position": null,
            "object_fit": null,
            "grid_auto_columns": null,
            "margin": null,
            "display": null,
            "left": null
          }
        },
        "f0a807626a1d440aaf380bd58b6e75cf": {
          "model_module": "@jupyter-widgets/controls",
          "model_name": "HBoxModel",
          "state": {
            "_view_name": "HBoxView",
            "_dom_classes": [],
            "_model_name": "HBoxModel",
            "_view_module": "@jupyter-widgets/controls",
            "_model_module_version": "1.5.0",
            "_view_count": null,
            "_view_module_version": "1.5.0",
            "box_style": "",
            "layout": "IPY_MODEL_64b5445cc03d45ea992febad237d29c2",
            "_model_module": "@jupyter-widgets/controls",
            "children": [
              "IPY_MODEL_126366ba475d436380f519c53fac0c5d",
              "IPY_MODEL_062aec05a32f424e9137c033d7ab8910"
            ]
          }
        },
        "64b5445cc03d45ea992febad237d29c2": {
          "model_module": "@jupyter-widgets/base",
          "model_name": "LayoutModel",
          "state": {
            "_view_name": "LayoutView",
            "grid_template_rows": null,
            "right": null,
            "justify_content": null,
            "_view_module": "@jupyter-widgets/base",
            "overflow": null,
            "_model_module_version": "1.2.0",
            "_view_count": null,
            "flex_flow": null,
            "width": null,
            "min_width": null,
            "border": null,
            "align_items": null,
            "bottom": null,
            "_model_module": "@jupyter-widgets/base",
            "top": null,
            "grid_column": null,
            "overflow_y": null,
            "overflow_x": null,
            "grid_auto_flow": null,
            "grid_area": null,
            "grid_template_columns": null,
            "flex": null,
            "_model_name": "LayoutModel",
            "justify_items": null,
            "grid_row": null,
            "max_height": null,
            "align_content": null,
            "visibility": null,
            "align_self": null,
            "height": null,
            "min_height": null,
            "padding": null,
            "grid_auto_rows": null,
            "grid_gap": null,
            "max_width": null,
            "order": null,
            "_view_module_version": "1.2.0",
            "grid_template_areas": null,
            "object_position": null,
            "object_fit": null,
            "grid_auto_columns": null,
            "margin": null,
            "display": null,
            "left": null
          }
        },
        "126366ba475d436380f519c53fac0c5d": {
          "model_module": "@jupyter-widgets/controls",
          "model_name": "FloatProgressModel",
          "state": {
            "_view_name": "ProgressView",
            "style": "IPY_MODEL_a02d7c83d9e74f43ae22e078ef66268e",
            "_dom_classes": [],
            "description": "Downloading: 100%",
            "_model_name": "FloatProgressModel",
            "bar_style": "success",
            "max": 112,
            "_view_module": "@jupyter-widgets/controls",
            "_model_module_version": "1.5.0",
            "value": 112,
            "_view_count": null,
            "_view_module_version": "1.5.0",
            "orientation": "horizontal",
            "min": 0,
            "description_tooltip": null,
            "_model_module": "@jupyter-widgets/controls",
            "layout": "IPY_MODEL_5334b91603db44fa8cddbd36775c1812"
          }
        },
        "062aec05a32f424e9137c033d7ab8910": {
          "model_module": "@jupyter-widgets/controls",
          "model_name": "HTMLModel",
          "state": {
            "_view_name": "HTMLView",
            "style": "IPY_MODEL_364d78176d5641119cb71c9ada34f08b",
            "_dom_classes": [],
            "description": "",
            "_model_name": "HTMLModel",
            "placeholder": "​",
            "_view_module": "@jupyter-widgets/controls",
            "_model_module_version": "1.5.0",
            "value": " 112/112 [00:01&lt;00:00, 76.0B/s]",
            "_view_count": null,
            "_view_module_version": "1.5.0",
            "description_tooltip": null,
            "_model_module": "@jupyter-widgets/controls",
            "layout": "IPY_MODEL_e801eb3f364340529b881c36cde19ab7"
          }
        },
        "a02d7c83d9e74f43ae22e078ef66268e": {
          "model_module": "@jupyter-widgets/controls",
          "model_name": "ProgressStyleModel",
          "state": {
            "_view_name": "StyleView",
            "_model_name": "ProgressStyleModel",
            "description_width": "initial",
            "_view_module": "@jupyter-widgets/base",
            "_model_module_version": "1.5.0",
            "_view_count": null,
            "_view_module_version": "1.2.0",
            "bar_color": null,
            "_model_module": "@jupyter-widgets/controls"
          }
        },
        "5334b91603db44fa8cddbd36775c1812": {
          "model_module": "@jupyter-widgets/base",
          "model_name": "LayoutModel",
          "state": {
            "_view_name": "LayoutView",
            "grid_template_rows": null,
            "right": null,
            "justify_content": null,
            "_view_module": "@jupyter-widgets/base",
            "overflow": null,
            "_model_module_version": "1.2.0",
            "_view_count": null,
            "flex_flow": null,
            "width": null,
            "min_width": null,
            "border": null,
            "align_items": null,
            "bottom": null,
            "_model_module": "@jupyter-widgets/base",
            "top": null,
            "grid_column": null,
            "overflow_y": null,
            "overflow_x": null,
            "grid_auto_flow": null,
            "grid_area": null,
            "grid_template_columns": null,
            "flex": null,
            "_model_name": "LayoutModel",
            "justify_items": null,
            "grid_row": null,
            "max_height": null,
            "align_content": null,
            "visibility": null,
            "align_self": null,
            "height": null,
            "min_height": null,
            "padding": null,
            "grid_auto_rows": null,
            "grid_gap": null,
            "max_width": null,
            "order": null,
            "_view_module_version": "1.2.0",
            "grid_template_areas": null,
            "object_position": null,
            "object_fit": null,
            "grid_auto_columns": null,
            "margin": null,
            "display": null,
            "left": null
          }
        },
        "364d78176d5641119cb71c9ada34f08b": {
          "model_module": "@jupyter-widgets/controls",
          "model_name": "DescriptionStyleModel",
          "state": {
            "_view_name": "StyleView",
            "_model_name": "DescriptionStyleModel",
            "description_width": "",
            "_view_module": "@jupyter-widgets/base",
            "_model_module_version": "1.5.0",
            "_view_count": null,
            "_view_module_version": "1.2.0",
            "_model_module": "@jupyter-widgets/controls"
          }
        },
        "e801eb3f364340529b881c36cde19ab7": {
          "model_module": "@jupyter-widgets/base",
          "model_name": "LayoutModel",
          "state": {
            "_view_name": "LayoutView",
            "grid_template_rows": null,
            "right": null,
            "justify_content": null,
            "_view_module": "@jupyter-widgets/base",
            "overflow": null,
            "_model_module_version": "1.2.0",
            "_view_count": null,
            "flex_flow": null,
            "width": null,
            "min_width": null,
            "border": null,
            "align_items": null,
            "bottom": null,
            "_model_module": "@jupyter-widgets/base",
            "top": null,
            "grid_column": null,
            "overflow_y": null,
            "overflow_x": null,
            "grid_auto_flow": null,
            "grid_area": null,
            "grid_template_columns": null,
            "flex": null,
            "_model_name": "LayoutModel",
            "justify_items": null,
            "grid_row": null,
            "max_height": null,
            "align_content": null,
            "visibility": null,
            "align_self": null,
            "height": null,
            "min_height": null,
            "padding": null,
            "grid_auto_rows": null,
            "grid_gap": null,
            "max_width": null,
            "order": null,
            "_view_module_version": "1.2.0",
            "grid_template_areas": null,
            "object_position": null,
            "object_fit": null,
            "grid_auto_columns": null,
            "margin": null,
            "display": null,
            "left": null
          }
        },
        "555320d33039404097e1d8ec351c9bfd": {
          "model_module": "@jupyter-widgets/controls",
          "model_name": "HBoxModel",
          "state": {
            "_view_name": "HBoxView",
            "_dom_classes": [],
            "_model_name": "HBoxModel",
            "_view_module": "@jupyter-widgets/controls",
            "_model_module_version": "1.5.0",
            "_view_count": null,
            "_view_module_version": "1.5.0",
            "box_style": "",
            "layout": "IPY_MODEL_1de11f40b12c405dbd84a1c64b027daa",
            "_model_module": "@jupyter-widgets/controls",
            "children": [
              "IPY_MODEL_85100cb6acf246c696fa066341146d37",
              "IPY_MODEL_5bb88d8bc7f94f6381e9f22611b93474"
            ]
          }
        },
        "1de11f40b12c405dbd84a1c64b027daa": {
          "model_module": "@jupyter-widgets/base",
          "model_name": "LayoutModel",
          "state": {
            "_view_name": "LayoutView",
            "grid_template_rows": null,
            "right": null,
            "justify_content": null,
            "_view_module": "@jupyter-widgets/base",
            "overflow": null,
            "_model_module_version": "1.2.0",
            "_view_count": null,
            "flex_flow": null,
            "width": null,
            "min_width": null,
            "border": null,
            "align_items": null,
            "bottom": null,
            "_model_module": "@jupyter-widgets/base",
            "top": null,
            "grid_column": null,
            "overflow_y": null,
            "overflow_x": null,
            "grid_auto_flow": null,
            "grid_area": null,
            "grid_template_columns": null,
            "flex": null,
            "_model_name": "LayoutModel",
            "justify_items": null,
            "grid_row": null,
            "max_height": null,
            "align_content": null,
            "visibility": null,
            "align_self": null,
            "height": null,
            "min_height": null,
            "padding": null,
            "grid_auto_rows": null,
            "grid_gap": null,
            "max_width": null,
            "order": null,
            "_view_module_version": "1.2.0",
            "grid_template_areas": null,
            "object_position": null,
            "object_fit": null,
            "grid_auto_columns": null,
            "margin": null,
            "display": null,
            "left": null
          }
        },
        "85100cb6acf246c696fa066341146d37": {
          "model_module": "@jupyter-widgets/controls",
          "model_name": "FloatProgressModel",
          "state": {
            "_view_name": "ProgressView",
            "style": "IPY_MODEL_ef5a60b0295d4ffcadac0007f408a4a9",
            "_dom_classes": [],
            "description": "Downloading: 100%",
            "_model_name": "FloatProgressModel",
            "bar_style": "success",
            "max": 466081,
            "_view_module": "@jupyter-widgets/controls",
            "_model_module_version": "1.5.0",
            "value": 466081,
            "_view_count": null,
            "_view_module_version": "1.5.0",
            "orientation": "horizontal",
            "min": 0,
            "description_tooltip": null,
            "_model_module": "@jupyter-widgets/controls",
            "layout": "IPY_MODEL_e4d32d9521c84396bba9b215d9e39045"
          }
        },
        "5bb88d8bc7f94f6381e9f22611b93474": {
          "model_module": "@jupyter-widgets/controls",
          "model_name": "HTMLModel",
          "state": {
            "_view_name": "HTMLView",
            "style": "IPY_MODEL_f26ba038c1324102a85c1d4c0e61b99c",
            "_dom_classes": [],
            "description": "",
            "_model_name": "HTMLModel",
            "placeholder": "​",
            "_view_module": "@jupyter-widgets/controls",
            "_model_module_version": "1.5.0",
            "value": " 466k/466k [00:00&lt;00:00, 542kB/s]",
            "_view_count": null,
            "_view_module_version": "1.5.0",
            "description_tooltip": null,
            "_model_module": "@jupyter-widgets/controls",
            "layout": "IPY_MODEL_b8e3189f4ed747d4a27deebafa420060"
          }
        },
        "ef5a60b0295d4ffcadac0007f408a4a9": {
          "model_module": "@jupyter-widgets/controls",
          "model_name": "ProgressStyleModel",
          "state": {
            "_view_name": "StyleView",
            "_model_name": "ProgressStyleModel",
            "description_width": "initial",
            "_view_module": "@jupyter-widgets/base",
            "_model_module_version": "1.5.0",
            "_view_count": null,
            "_view_module_version": "1.2.0",
            "bar_color": null,
            "_model_module": "@jupyter-widgets/controls"
          }
        },
        "e4d32d9521c84396bba9b215d9e39045": {
          "model_module": "@jupyter-widgets/base",
          "model_name": "LayoutModel",
          "state": {
            "_view_name": "LayoutView",
            "grid_template_rows": null,
            "right": null,
            "justify_content": null,
            "_view_module": "@jupyter-widgets/base",
            "overflow": null,
            "_model_module_version": "1.2.0",
            "_view_count": null,
            "flex_flow": null,
            "width": null,
            "min_width": null,
            "border": null,
            "align_items": null,
            "bottom": null,
            "_model_module": "@jupyter-widgets/base",
            "top": null,
            "grid_column": null,
            "overflow_y": null,
            "overflow_x": null,
            "grid_auto_flow": null,
            "grid_area": null,
            "grid_template_columns": null,
            "flex": null,
            "_model_name": "LayoutModel",
            "justify_items": null,
            "grid_row": null,
            "max_height": null,
            "align_content": null,
            "visibility": null,
            "align_self": null,
            "height": null,
            "min_height": null,
            "padding": null,
            "grid_auto_rows": null,
            "grid_gap": null,
            "max_width": null,
            "order": null,
            "_view_module_version": "1.2.0",
            "grid_template_areas": null,
            "object_position": null,
            "object_fit": null,
            "grid_auto_columns": null,
            "margin": null,
            "display": null,
            "left": null
          }
        },
        "f26ba038c1324102a85c1d4c0e61b99c": {
          "model_module": "@jupyter-widgets/controls",
          "model_name": "DescriptionStyleModel",
          "state": {
            "_view_name": "StyleView",
            "_model_name": "DescriptionStyleModel",
            "description_width": "",
            "_view_module": "@jupyter-widgets/base",
            "_model_module_version": "1.5.0",
            "_view_count": null,
            "_view_module_version": "1.2.0",
            "_model_module": "@jupyter-widgets/controls"
          }
        },
        "b8e3189f4ed747d4a27deebafa420060": {
          "model_module": "@jupyter-widgets/base",
          "model_name": "LayoutModel",
          "state": {
            "_view_name": "LayoutView",
            "grid_template_rows": null,
            "right": null,
            "justify_content": null,
            "_view_module": "@jupyter-widgets/base",
            "overflow": null,
            "_model_module_version": "1.2.0",
            "_view_count": null,
            "flex_flow": null,
            "width": null,
            "min_width": null,
            "border": null,
            "align_items": null,
            "bottom": null,
            "_model_module": "@jupyter-widgets/base",
            "top": null,
            "grid_column": null,
            "overflow_y": null,
            "overflow_x": null,
            "grid_auto_flow": null,
            "grid_area": null,
            "grid_template_columns": null,
            "flex": null,
            "_model_name": "LayoutModel",
            "justify_items": null,
            "grid_row": null,
            "max_height": null,
            "align_content": null,
            "visibility": null,
            "align_self": null,
            "height": null,
            "min_height": null,
            "padding": null,
            "grid_auto_rows": null,
            "grid_gap": null,
            "max_width": null,
            "order": null,
            "_view_module_version": "1.2.0",
            "grid_template_areas": null,
            "object_position": null,
            "object_fit": null,
            "grid_auto_columns": null,
            "margin": null,
            "display": null,
            "left": null
          }
        },
        "bba8a888a6344a7aafe81784ad362e00": {
          "model_module": "@jupyter-widgets/controls",
          "model_name": "HBoxModel",
          "state": {
            "_view_name": "HBoxView",
            "_dom_classes": [],
            "_model_name": "HBoxModel",
            "_view_module": "@jupyter-widgets/controls",
            "_model_module_version": "1.5.0",
            "_view_count": null,
            "_view_module_version": "1.5.0",
            "box_style": "",
            "layout": "IPY_MODEL_ed4afb1c21d046f59c23895a1c5b1e77",
            "_model_module": "@jupyter-widgets/controls",
            "children": [
              "IPY_MODEL_b36b658584f6456d9cd971f7ab2b5c7a",
              "IPY_MODEL_ffb4534b32ab40188a4e5c943a05839e"
            ]
          }
        },
        "ed4afb1c21d046f59c23895a1c5b1e77": {
          "model_module": "@jupyter-widgets/base",
          "model_name": "LayoutModel",
          "state": {
            "_view_name": "LayoutView",
            "grid_template_rows": null,
            "right": null,
            "justify_content": null,
            "_view_module": "@jupyter-widgets/base",
            "overflow": null,
            "_model_module_version": "1.2.0",
            "_view_count": null,
            "flex_flow": null,
            "width": null,
            "min_width": null,
            "border": null,
            "align_items": null,
            "bottom": null,
            "_model_module": "@jupyter-widgets/base",
            "top": null,
            "grid_column": null,
            "overflow_y": null,
            "overflow_x": null,
            "grid_auto_flow": null,
            "grid_area": null,
            "grid_template_columns": null,
            "flex": null,
            "_model_name": "LayoutModel",
            "justify_items": null,
            "grid_row": null,
            "max_height": null,
            "align_content": null,
            "visibility": null,
            "align_self": null,
            "height": null,
            "min_height": null,
            "padding": null,
            "grid_auto_rows": null,
            "grid_gap": null,
            "max_width": null,
            "order": null,
            "_view_module_version": "1.2.0",
            "grid_template_areas": null,
            "object_position": null,
            "object_fit": null,
            "grid_auto_columns": null,
            "margin": null,
            "display": null,
            "left": null
          }
        },
        "b36b658584f6456d9cd971f7ab2b5c7a": {
          "model_module": "@jupyter-widgets/controls",
          "model_name": "FloatProgressModel",
          "state": {
            "_view_name": "ProgressView",
            "style": "IPY_MODEL_74cd9814387a491ea1c2ed938a689c85",
            "_dom_classes": [],
            "description": "Downloading: 100%",
            "_model_name": "FloatProgressModel",
            "bar_style": "success",
            "max": 516,
            "_view_module": "@jupyter-widgets/controls",
            "_model_module_version": "1.5.0",
            "value": 516,
            "_view_count": null,
            "_view_module_version": "1.5.0",
            "orientation": "horizontal",
            "min": 0,
            "description_tooltip": null,
            "_model_module": "@jupyter-widgets/controls",
            "layout": "IPY_MODEL_17d52ad600b544aaae7abb76fd41e880"
          }
        },
        "ffb4534b32ab40188a4e5c943a05839e": {
          "model_module": "@jupyter-widgets/controls",
          "model_name": "HTMLModel",
          "state": {
            "_view_name": "HTMLView",
            "style": "IPY_MODEL_c23491f5559c436eb8ac85a1265a96e4",
            "_dom_classes": [],
            "description": "",
            "_model_name": "HTMLModel",
            "placeholder": "​",
            "_view_module": "@jupyter-widgets/controls",
            "_model_module_version": "1.5.0",
            "value": " 516/516 [00:17&lt;00:00, 30.1B/s]",
            "_view_count": null,
            "_view_module_version": "1.5.0",
            "description_tooltip": null,
            "_model_module": "@jupyter-widgets/controls",
            "layout": "IPY_MODEL_8b3b92a4e44b42db9c3c7e14fd71495f"
          }
        },
        "74cd9814387a491ea1c2ed938a689c85": {
          "model_module": "@jupyter-widgets/controls",
          "model_name": "ProgressStyleModel",
          "state": {
            "_view_name": "StyleView",
            "_model_name": "ProgressStyleModel",
            "description_width": "initial",
            "_view_module": "@jupyter-widgets/base",
            "_model_module_version": "1.5.0",
            "_view_count": null,
            "_view_module_version": "1.2.0",
            "bar_color": null,
            "_model_module": "@jupyter-widgets/controls"
          }
        },
        "17d52ad600b544aaae7abb76fd41e880": {
          "model_module": "@jupyter-widgets/base",
          "model_name": "LayoutModel",
          "state": {
            "_view_name": "LayoutView",
            "grid_template_rows": null,
            "right": null,
            "justify_content": null,
            "_view_module": "@jupyter-widgets/base",
            "overflow": null,
            "_model_module_version": "1.2.0",
            "_view_count": null,
            "flex_flow": null,
            "width": null,
            "min_width": null,
            "border": null,
            "align_items": null,
            "bottom": null,
            "_model_module": "@jupyter-widgets/base",
            "top": null,
            "grid_column": null,
            "overflow_y": null,
            "overflow_x": null,
            "grid_auto_flow": null,
            "grid_area": null,
            "grid_template_columns": null,
            "flex": null,
            "_model_name": "LayoutModel",
            "justify_items": null,
            "grid_row": null,
            "max_height": null,
            "align_content": null,
            "visibility": null,
            "align_self": null,
            "height": null,
            "min_height": null,
            "padding": null,
            "grid_auto_rows": null,
            "grid_gap": null,
            "max_width": null,
            "order": null,
            "_view_module_version": "1.2.0",
            "grid_template_areas": null,
            "object_position": null,
            "object_fit": null,
            "grid_auto_columns": null,
            "margin": null,
            "display": null,
            "left": null
          }
        },
        "c23491f5559c436eb8ac85a1265a96e4": {
          "model_module": "@jupyter-widgets/controls",
          "model_name": "DescriptionStyleModel",
          "state": {
            "_view_name": "StyleView",
            "_model_name": "DescriptionStyleModel",
            "description_width": "",
            "_view_module": "@jupyter-widgets/base",
            "_model_module_version": "1.5.0",
            "_view_count": null,
            "_view_module_version": "1.2.0",
            "_model_module": "@jupyter-widgets/controls"
          }
        },
        "8b3b92a4e44b42db9c3c7e14fd71495f": {
          "model_module": "@jupyter-widgets/base",
          "model_name": "LayoutModel",
          "state": {
            "_view_name": "LayoutView",
            "grid_template_rows": null,
            "right": null,
            "justify_content": null,
            "_view_module": "@jupyter-widgets/base",
            "overflow": null,
            "_model_module_version": "1.2.0",
            "_view_count": null,
            "flex_flow": null,
            "width": null,
            "min_width": null,
            "border": null,
            "align_items": null,
            "bottom": null,
            "_model_module": "@jupyter-widgets/base",
            "top": null,
            "grid_column": null,
            "overflow_y": null,
            "overflow_x": null,
            "grid_auto_flow": null,
            "grid_area": null,
            "grid_template_columns": null,
            "flex": null,
            "_model_name": "LayoutModel",
            "justify_items": null,
            "grid_row": null,
            "max_height": null,
            "align_content": null,
            "visibility": null,
            "align_self": null,
            "height": null,
            "min_height": null,
            "padding": null,
            "grid_auto_rows": null,
            "grid_gap": null,
            "max_width": null,
            "order": null,
            "_view_module_version": "1.2.0",
            "grid_template_areas": null,
            "object_position": null,
            "object_fit": null,
            "grid_auto_columns": null,
            "margin": null,
            "display": null,
            "left": null
          }
        },
        "a2b5d0d8daa5467e8ea7a4a1f8c17170": {
          "model_module": "@jupyter-widgets/controls",
          "model_name": "HBoxModel",
          "state": {
            "_view_name": "HBoxView",
            "_dom_classes": [],
            "_model_name": "HBoxModel",
            "_view_module": "@jupyter-widgets/controls",
            "_model_module_version": "1.5.0",
            "_view_count": null,
            "_view_module_version": "1.5.0",
            "box_style": "",
            "layout": "IPY_MODEL_6b1d8fa177ac40c2848a277947c9d9bb",
            "_model_module": "@jupyter-widgets/controls",
            "children": [
              "IPY_MODEL_58266e647122403fbc193049bf4dbc4f",
              "IPY_MODEL_a427fbdaf943472bac4f9cce9fcaa41a"
            ]
          }
        },
        "6b1d8fa177ac40c2848a277947c9d9bb": {
          "model_module": "@jupyter-widgets/base",
          "model_name": "LayoutModel",
          "state": {
            "_view_name": "LayoutView",
            "grid_template_rows": null,
            "right": null,
            "justify_content": null,
            "_view_module": "@jupyter-widgets/base",
            "overflow": null,
            "_model_module_version": "1.2.0",
            "_view_count": null,
            "flex_flow": null,
            "width": null,
            "min_width": null,
            "border": null,
            "align_items": null,
            "bottom": null,
            "_model_module": "@jupyter-widgets/base",
            "top": null,
            "grid_column": null,
            "overflow_y": null,
            "overflow_x": null,
            "grid_auto_flow": null,
            "grid_area": null,
            "grid_template_columns": null,
            "flex": null,
            "_model_name": "LayoutModel",
            "justify_items": null,
            "grid_row": null,
            "max_height": null,
            "align_content": null,
            "visibility": null,
            "align_self": null,
            "height": null,
            "min_height": null,
            "padding": null,
            "grid_auto_rows": null,
            "grid_gap": null,
            "max_width": null,
            "order": null,
            "_view_module_version": "1.2.0",
            "grid_template_areas": null,
            "object_position": null,
            "object_fit": null,
            "grid_auto_columns": null,
            "margin": null,
            "display": null,
            "left": null
          }
        },
        "58266e647122403fbc193049bf4dbc4f": {
          "model_module": "@jupyter-widgets/controls",
          "model_name": "FloatProgressModel",
          "state": {
            "_view_name": "ProgressView",
            "style": "IPY_MODEL_544862242b674cef8b0fd7c95629a474",
            "_dom_classes": [],
            "description": "Downloading: 100%",
            "_model_name": "FloatProgressModel",
            "bar_style": "success",
            "max": 231508,
            "_view_module": "@jupyter-widgets/controls",
            "_model_module_version": "1.5.0",
            "value": 231508,
            "_view_count": null,
            "_view_module_version": "1.5.0",
            "orientation": "horizontal",
            "min": 0,
            "description_tooltip": null,
            "_model_module": "@jupyter-widgets/controls",
            "layout": "IPY_MODEL_bf25c1d684aa43faa9e7c7372955135a"
          }
        },
        "a427fbdaf943472bac4f9cce9fcaa41a": {
          "model_module": "@jupyter-widgets/controls",
          "model_name": "HTMLModel",
          "state": {
            "_view_name": "HTMLView",
            "style": "IPY_MODEL_06f0fae36fe441d5b03c21ff99a4de2e",
            "_dom_classes": [],
            "description": "",
            "_model_name": "HTMLModel",
            "placeholder": "​",
            "_view_module": "@jupyter-widgets/controls",
            "_model_module_version": "1.5.0",
            "value": " 232k/232k [00:00&lt;00:00, 291kB/s]",
            "_view_count": null,
            "_view_module_version": "1.5.0",
            "description_tooltip": null,
            "_model_module": "@jupyter-widgets/controls",
            "layout": "IPY_MODEL_c952471a094d458b8a093989eeb3001b"
          }
        },
        "544862242b674cef8b0fd7c95629a474": {
          "model_module": "@jupyter-widgets/controls",
          "model_name": "ProgressStyleModel",
          "state": {
            "_view_name": "StyleView",
            "_model_name": "ProgressStyleModel",
            "description_width": "initial",
            "_view_module": "@jupyter-widgets/base",
            "_model_module_version": "1.5.0",
            "_view_count": null,
            "_view_module_version": "1.2.0",
            "bar_color": null,
            "_model_module": "@jupyter-widgets/controls"
          }
        },
        "bf25c1d684aa43faa9e7c7372955135a": {
          "model_module": "@jupyter-widgets/base",
          "model_name": "LayoutModel",
          "state": {
            "_view_name": "LayoutView",
            "grid_template_rows": null,
            "right": null,
            "justify_content": null,
            "_view_module": "@jupyter-widgets/base",
            "overflow": null,
            "_model_module_version": "1.2.0",
            "_view_count": null,
            "flex_flow": null,
            "width": null,
            "min_width": null,
            "border": null,
            "align_items": null,
            "bottom": null,
            "_model_module": "@jupyter-widgets/base",
            "top": null,
            "grid_column": null,
            "overflow_y": null,
            "overflow_x": null,
            "grid_auto_flow": null,
            "grid_area": null,
            "grid_template_columns": null,
            "flex": null,
            "_model_name": "LayoutModel",
            "justify_items": null,
            "grid_row": null,
            "max_height": null,
            "align_content": null,
            "visibility": null,
            "align_self": null,
            "height": null,
            "min_height": null,
            "padding": null,
            "grid_auto_rows": null,
            "grid_gap": null,
            "max_width": null,
            "order": null,
            "_view_module_version": "1.2.0",
            "grid_template_areas": null,
            "object_position": null,
            "object_fit": null,
            "grid_auto_columns": null,
            "margin": null,
            "display": null,
            "left": null
          }
        },
        "06f0fae36fe441d5b03c21ff99a4de2e": {
          "model_module": "@jupyter-widgets/controls",
          "model_name": "DescriptionStyleModel",
          "state": {
            "_view_name": "StyleView",
            "_model_name": "DescriptionStyleModel",
            "description_width": "",
            "_view_module": "@jupyter-widgets/base",
            "_model_module_version": "1.5.0",
            "_view_count": null,
            "_view_module_version": "1.2.0",
            "_model_module": "@jupyter-widgets/controls"
          }
        },
        "c952471a094d458b8a093989eeb3001b": {
          "model_module": "@jupyter-widgets/base",
          "model_name": "LayoutModel",
          "state": {
            "_view_name": "LayoutView",
            "grid_template_rows": null,
            "right": null,
            "justify_content": null,
            "_view_module": "@jupyter-widgets/base",
            "overflow": null,
            "_model_module_version": "1.2.0",
            "_view_count": null,
            "flex_flow": null,
            "width": null,
            "min_width": null,
            "border": null,
            "align_items": null,
            "bottom": null,
            "_model_module": "@jupyter-widgets/base",
            "top": null,
            "grid_column": null,
            "overflow_y": null,
            "overflow_x": null,
            "grid_auto_flow": null,
            "grid_area": null,
            "grid_template_columns": null,
            "flex": null,
            "_model_name": "LayoutModel",
            "justify_items": null,
            "grid_row": null,
            "max_height": null,
            "align_content": null,
            "visibility": null,
            "align_self": null,
            "height": null,
            "min_height": null,
            "padding": null,
            "grid_auto_rows": null,
            "grid_gap": null,
            "max_width": null,
            "order": null,
            "_view_module_version": "1.2.0",
            "grid_template_areas": null,
            "object_position": null,
            "object_fit": null,
            "grid_auto_columns": null,
            "margin": null,
            "display": null,
            "left": null
          }
        },
        "d8dc159abbd649fba7ccfa320df0466e": {
          "model_module": "@jupyter-widgets/controls",
          "model_name": "HBoxModel",
          "state": {
            "_view_name": "HBoxView",
            "_dom_classes": [],
            "_model_name": "HBoxModel",
            "_view_module": "@jupyter-widgets/controls",
            "_model_module_version": "1.5.0",
            "_view_count": null,
            "_view_module_version": "1.5.0",
            "box_style": "",
            "layout": "IPY_MODEL_3dd533add7df472fa55c657ff8d96638",
            "_model_module": "@jupyter-widgets/controls",
            "children": [
              "IPY_MODEL_4dad66ce3feb4d829d2c9e9540c26d38",
              "IPY_MODEL_03f16ef78cd7461d84406dd99c398caa"
            ]
          }
        },
        "3dd533add7df472fa55c657ff8d96638": {
          "model_module": "@jupyter-widgets/base",
          "model_name": "LayoutModel",
          "state": {
            "_view_name": "LayoutView",
            "grid_template_rows": null,
            "right": null,
            "justify_content": null,
            "_view_module": "@jupyter-widgets/base",
            "overflow": null,
            "_model_module_version": "1.2.0",
            "_view_count": null,
            "flex_flow": null,
            "width": null,
            "min_width": null,
            "border": null,
            "align_items": null,
            "bottom": null,
            "_model_module": "@jupyter-widgets/base",
            "top": null,
            "grid_column": null,
            "overflow_y": null,
            "overflow_x": null,
            "grid_auto_flow": null,
            "grid_area": null,
            "grid_template_columns": null,
            "flex": null,
            "_model_name": "LayoutModel",
            "justify_items": null,
            "grid_row": null,
            "max_height": null,
            "align_content": null,
            "visibility": null,
            "align_self": null,
            "height": null,
            "min_height": null,
            "padding": null,
            "grid_auto_rows": null,
            "grid_gap": null,
            "max_width": null,
            "order": null,
            "_view_module_version": "1.2.0",
            "grid_template_areas": null,
            "object_position": null,
            "object_fit": null,
            "grid_auto_columns": null,
            "margin": null,
            "display": null,
            "left": null
          }
        },
        "4dad66ce3feb4d829d2c9e9540c26d38": {
          "model_module": "@jupyter-widgets/controls",
          "model_name": "FloatProgressModel",
          "state": {
            "_view_name": "ProgressView",
            "style": "IPY_MODEL_1aa617b3655443269768c4ca0c961c0b",
            "_dom_classes": [],
            "description": "Downloading: 100%",
            "_model_name": "FloatProgressModel",
            "bar_style": "success",
            "max": 190,
            "_view_module": "@jupyter-widgets/controls",
            "_model_module_version": "1.5.0",
            "value": 190,
            "_view_count": null,
            "_view_module_version": "1.5.0",
            "orientation": "horizontal",
            "min": 0,
            "description_tooltip": null,
            "_model_module": "@jupyter-widgets/controls",
            "layout": "IPY_MODEL_a0d19033c2de4aa7a765b43dc81a0317"
          }
        },
        "03f16ef78cd7461d84406dd99c398caa": {
          "model_module": "@jupyter-widgets/controls",
          "model_name": "HTMLModel",
          "state": {
            "_view_name": "HTMLView",
            "style": "IPY_MODEL_6034d21a67f14285be79d92135f91a01",
            "_dom_classes": [],
            "description": "",
            "_model_name": "HTMLModel",
            "placeholder": "​",
            "_view_module": "@jupyter-widgets/controls",
            "_model_module_version": "1.5.0",
            "value": " 190/190 [00:00&lt;00:00, 1.84kB/s]",
            "_view_count": null,
            "_view_module_version": "1.5.0",
            "description_tooltip": null,
            "_model_module": "@jupyter-widgets/controls",
            "layout": "IPY_MODEL_960742502aac426197edcb9e8556895d"
          }
        },
        "1aa617b3655443269768c4ca0c961c0b": {
          "model_module": "@jupyter-widgets/controls",
          "model_name": "ProgressStyleModel",
          "state": {
            "_view_name": "StyleView",
            "_model_name": "ProgressStyleModel",
            "description_width": "initial",
            "_view_module": "@jupyter-widgets/base",
            "_model_module_version": "1.5.0",
            "_view_count": null,
            "_view_module_version": "1.2.0",
            "bar_color": null,
            "_model_module": "@jupyter-widgets/controls"
          }
        },
        "a0d19033c2de4aa7a765b43dc81a0317": {
          "model_module": "@jupyter-widgets/base",
          "model_name": "LayoutModel",
          "state": {
            "_view_name": "LayoutView",
            "grid_template_rows": null,
            "right": null,
            "justify_content": null,
            "_view_module": "@jupyter-widgets/base",
            "overflow": null,
            "_model_module_version": "1.2.0",
            "_view_count": null,
            "flex_flow": null,
            "width": null,
            "min_width": null,
            "border": null,
            "align_items": null,
            "bottom": null,
            "_model_module": "@jupyter-widgets/base",
            "top": null,
            "grid_column": null,
            "overflow_y": null,
            "overflow_x": null,
            "grid_auto_flow": null,
            "grid_area": null,
            "grid_template_columns": null,
            "flex": null,
            "_model_name": "LayoutModel",
            "justify_items": null,
            "grid_row": null,
            "max_height": null,
            "align_content": null,
            "visibility": null,
            "align_self": null,
            "height": null,
            "min_height": null,
            "padding": null,
            "grid_auto_rows": null,
            "grid_gap": null,
            "max_width": null,
            "order": null,
            "_view_module_version": "1.2.0",
            "grid_template_areas": null,
            "object_position": null,
            "object_fit": null,
            "grid_auto_columns": null,
            "margin": null,
            "display": null,
            "left": null
          }
        },
        "6034d21a67f14285be79d92135f91a01": {
          "model_module": "@jupyter-widgets/controls",
          "model_name": "DescriptionStyleModel",
          "state": {
            "_view_name": "StyleView",
            "_model_name": "DescriptionStyleModel",
            "description_width": "",
            "_view_module": "@jupyter-widgets/base",
            "_model_module_version": "1.5.0",
            "_view_count": null,
            "_view_module_version": "1.2.0",
            "_model_module": "@jupyter-widgets/controls"
          }
        },
        "960742502aac426197edcb9e8556895d": {
          "model_module": "@jupyter-widgets/base",
          "model_name": "LayoutModel",
          "state": {
            "_view_name": "LayoutView",
            "grid_template_rows": null,
            "right": null,
            "justify_content": null,
            "_view_module": "@jupyter-widgets/base",
            "overflow": null,
            "_model_module_version": "1.2.0",
            "_view_count": null,
            "flex_flow": null,
            "width": null,
            "min_width": null,
            "border": null,
            "align_items": null,
            "bottom": null,
            "_model_module": "@jupyter-widgets/base",
            "top": null,
            "grid_column": null,
            "overflow_y": null,
            "overflow_x": null,
            "grid_auto_flow": null,
            "grid_area": null,
            "grid_template_columns": null,
            "flex": null,
            "_model_name": "LayoutModel",
            "justify_items": null,
            "grid_row": null,
            "max_height": null,
            "align_content": null,
            "visibility": null,
            "align_self": null,
            "height": null,
            "min_height": null,
            "padding": null,
            "grid_auto_rows": null,
            "grid_gap": null,
            "max_width": null,
            "order": null,
            "_view_module_version": "1.2.0",
            "grid_template_areas": null,
            "object_position": null,
            "object_fit": null,
            "grid_auto_columns": null,
            "margin": null,
            "display": null,
            "left": null
          }
        },
        "0743e88b0b8d43bdad71d328797dc194": {
          "model_module": "@jupyter-widgets/controls",
          "model_name": "HBoxModel",
          "state": {
            "_view_name": "HBoxView",
            "_dom_classes": [],
            "_model_name": "HBoxModel",
            "_view_module": "@jupyter-widgets/controls",
            "_model_module_version": "1.5.0",
            "_view_count": null,
            "_view_module_version": "1.5.0",
            "box_style": "",
            "layout": "IPY_MODEL_59b9c7ac4d4e450ea3070902f6a8247c",
            "_model_module": "@jupyter-widgets/controls",
            "children": [
              "IPY_MODEL_98aadd86524348f6977e99267ca3ef22",
              "IPY_MODEL_7d95f0f5035e4ae1969dfec2fa2608b2"
            ]
          }
        },
        "59b9c7ac4d4e450ea3070902f6a8247c": {
          "model_module": "@jupyter-widgets/base",
          "model_name": "LayoutModel",
          "state": {
            "_view_name": "LayoutView",
            "grid_template_rows": null,
            "right": null,
            "justify_content": null,
            "_view_module": "@jupyter-widgets/base",
            "overflow": null,
            "_model_module_version": "1.2.0",
            "_view_count": null,
            "flex_flow": null,
            "width": null,
            "min_width": null,
            "border": null,
            "align_items": null,
            "bottom": null,
            "_model_module": "@jupyter-widgets/base",
            "top": null,
            "grid_column": null,
            "overflow_y": null,
            "overflow_x": null,
            "grid_auto_flow": null,
            "grid_area": null,
            "grid_template_columns": null,
            "flex": null,
            "_model_name": "LayoutModel",
            "justify_items": null,
            "grid_row": null,
            "max_height": null,
            "align_content": null,
            "visibility": null,
            "align_self": null,
            "height": null,
            "min_height": null,
            "padding": null,
            "grid_auto_rows": null,
            "grid_gap": null,
            "max_width": null,
            "order": null,
            "_view_module_version": "1.2.0",
            "grid_template_areas": null,
            "object_position": null,
            "object_fit": null,
            "grid_auto_columns": null,
            "margin": null,
            "display": null,
            "left": null
          }
        },
        "98aadd86524348f6977e99267ca3ef22": {
          "model_module": "@jupyter-widgets/controls",
          "model_name": "FloatProgressModel",
          "state": {
            "_view_name": "ProgressView",
            "style": "IPY_MODEL_35e1b624c04047bb89d5a0583c593b04",
            "_dom_classes": [],
            "description": "Batches: 100%",
            "_model_name": "FloatProgressModel",
            "bar_style": "success",
            "max": 948,
            "_view_module": "@jupyter-widgets/controls",
            "_model_module_version": "1.5.0",
            "value": 948,
            "_view_count": null,
            "_view_module_version": "1.5.0",
            "orientation": "horizontal",
            "min": 0,
            "description_tooltip": null,
            "_model_module": "@jupyter-widgets/controls",
            "layout": "IPY_MODEL_89c4e80bba8a417c8ac3111d7bb3ca5c"
          }
        },
        "7d95f0f5035e4ae1969dfec2fa2608b2": {
          "model_module": "@jupyter-widgets/controls",
          "model_name": "HTMLModel",
          "state": {
            "_view_name": "HTMLView",
            "style": "IPY_MODEL_6fbda6b59e744a568eadd218597a39d7",
            "_dom_classes": [],
            "description": "",
            "_model_name": "HTMLModel",
            "placeholder": "​",
            "_view_module": "@jupyter-widgets/controls",
            "_model_module_version": "1.5.0",
            "value": " 948/948 [00:11&lt;00:00, 84.89it/s]",
            "_view_count": null,
            "_view_module_version": "1.5.0",
            "description_tooltip": null,
            "_model_module": "@jupyter-widgets/controls",
            "layout": "IPY_MODEL_c29e83e104424227b5f0d52e333a5470"
          }
        },
        "35e1b624c04047bb89d5a0583c593b04": {
          "model_module": "@jupyter-widgets/controls",
          "model_name": "ProgressStyleModel",
          "state": {
            "_view_name": "StyleView",
            "_model_name": "ProgressStyleModel",
            "description_width": "initial",
            "_view_module": "@jupyter-widgets/base",
            "_model_module_version": "1.5.0",
            "_view_count": null,
            "_view_module_version": "1.2.0",
            "bar_color": null,
            "_model_module": "@jupyter-widgets/controls"
          }
        },
        "89c4e80bba8a417c8ac3111d7bb3ca5c": {
          "model_module": "@jupyter-widgets/base",
          "model_name": "LayoutModel",
          "state": {
            "_view_name": "LayoutView",
            "grid_template_rows": null,
            "right": null,
            "justify_content": null,
            "_view_module": "@jupyter-widgets/base",
            "overflow": null,
            "_model_module_version": "1.2.0",
            "_view_count": null,
            "flex_flow": null,
            "width": null,
            "min_width": null,
            "border": null,
            "align_items": null,
            "bottom": null,
            "_model_module": "@jupyter-widgets/base",
            "top": null,
            "grid_column": null,
            "overflow_y": null,
            "overflow_x": null,
            "grid_auto_flow": null,
            "grid_area": null,
            "grid_template_columns": null,
            "flex": null,
            "_model_name": "LayoutModel",
            "justify_items": null,
            "grid_row": null,
            "max_height": null,
            "align_content": null,
            "visibility": null,
            "align_self": null,
            "height": null,
            "min_height": null,
            "padding": null,
            "grid_auto_rows": null,
            "grid_gap": null,
            "max_width": null,
            "order": null,
            "_view_module_version": "1.2.0",
            "grid_template_areas": null,
            "object_position": null,
            "object_fit": null,
            "grid_auto_columns": null,
            "margin": null,
            "display": null,
            "left": null
          }
        },
        "6fbda6b59e744a568eadd218597a39d7": {
          "model_module": "@jupyter-widgets/controls",
          "model_name": "DescriptionStyleModel",
          "state": {
            "_view_name": "StyleView",
            "_model_name": "DescriptionStyleModel",
            "description_width": "",
            "_view_module": "@jupyter-widgets/base",
            "_model_module_version": "1.5.0",
            "_view_count": null,
            "_view_module_version": "1.2.0",
            "_model_module": "@jupyter-widgets/controls"
          }
        },
        "c29e83e104424227b5f0d52e333a5470": {
          "model_module": "@jupyter-widgets/base",
          "model_name": "LayoutModel",
          "state": {
            "_view_name": "LayoutView",
            "grid_template_rows": null,
            "right": null,
            "justify_content": null,
            "_view_module": "@jupyter-widgets/base",
            "overflow": null,
            "_model_module_version": "1.2.0",
            "_view_count": null,
            "flex_flow": null,
            "width": null,
            "min_width": null,
            "border": null,
            "align_items": null,
            "bottom": null,
            "_model_module": "@jupyter-widgets/base",
            "top": null,
            "grid_column": null,
            "overflow_y": null,
            "overflow_x": null,
            "grid_auto_flow": null,
            "grid_area": null,
            "grid_template_columns": null,
            "flex": null,
            "_model_name": "LayoutModel",
            "justify_items": null,
            "grid_row": null,
            "max_height": null,
            "align_content": null,
            "visibility": null,
            "align_self": null,
            "height": null,
            "min_height": null,
            "padding": null,
            "grid_auto_rows": null,
            "grid_gap": null,
            "max_width": null,
            "order": null,
            "_view_module_version": "1.2.0",
            "grid_template_areas": null,
            "object_position": null,
            "object_fit": null,
            "grid_auto_columns": null,
            "margin": null,
            "display": null,
            "left": null
          }
        }
      }
    }
  },
  "cells": [
    {
      "cell_type": "markdown",
      "metadata": {
        "id": "view-in-github",
        "colab_type": "text"
      },
      "source": [
        "<a href=\"https://colab.research.google.com/github/Data4Wellness/BERTopic/blob/master/Hilmi_BERTopic.ipynb\" target=\"_parent\"><img src=\"https://colab.research.google.com/assets/colab-badge.svg\" alt=\"Open In Colab\"/></a>"
      ]
    },
    {
      "cell_type": "markdown",
      "metadata": {
        "id": "AXHLDxJdRzBi"
      },
      "source": [
        " \n",
        "## BERTopic\n",
        "BERTopic is a topic modeling technique that leverages transformers and a custom class-based TF-IDF to create dense clusters allowing for easily interpretable topics whilst keeping important words in the topic descriptions. \n"
      ]
    },
    {
      "cell_type": "markdown",
      "metadata": {
        "id": "130PIKarkY1_"
      },
      "source": [
        "# Enabling the GPU\n",
        "First, you'll need to enable GPUs for the notebook:\n",
        "\n",
        "- Navigate to Edit→Notebook Settings\n",
        "- select GPU from the Hardware Accelerator drop-down\n",
        "\n",
        "[Reference](https://colab.research.google.com/notebooks/gpu.ipynb)"
      ]
    },
    {
      "cell_type": "markdown",
      "metadata": {
        "id": "lj2MUI9Mkdxu"
      },
      "source": [
        "# **Installing BERTopic**\n",
        "\n",
        "We start by installing BERTopic from PyPi:"
      ]
    },
    {
      "cell_type": "code",
      "metadata": {
        "id": "SNa-KtKDRnus",
        "colab": {
          "base_uri": "https://localhost:8080/"
        },
        "outputId": "4a58e95e-0a9a-4810-99f1-4c68bc1efaa9"
      },
      "source": [
        "!pip install bertopic\n",
        "!pip install nltk"
      ],
      "execution_count": 1,
      "outputs": [
        {
          "output_type": "stream",
          "text": [
            "Requirement already satisfied: bertopic in /usr/local/lib/python3.7/dist-packages (0.8.1)\n",
            "Requirement already satisfied: numpy>=1.20.0 in /usr/local/lib/python3.7/dist-packages (from bertopic) (1.21.1)\n",
            "Requirement already satisfied: plotly<4.14.3,>=4.7.0 in /usr/local/lib/python3.7/dist-packages (from bertopic) (4.14.2)\n",
            "Requirement already satisfied: hdbscan>=0.8.27 in /usr/local/lib/python3.7/dist-packages (from bertopic) (0.8.27)\n",
            "Requirement already satisfied: tqdm>=4.41.1 in /usr/local/lib/python3.7/dist-packages (from bertopic) (4.41.1)\n",
            "Requirement already satisfied: pandas>=1.1.5 in /usr/local/lib/python3.7/dist-packages (from bertopic) (1.1.5)\n",
            "Requirement already satisfied: umap-learn>=0.5.0 in /usr/local/lib/python3.7/dist-packages (from bertopic) (0.5.1)\n",
            "Requirement already satisfied: sentence-transformers>=0.4.1 in /usr/local/lib/python3.7/dist-packages (from bertopic) (2.0.0)\n",
            "Requirement already satisfied: scikit-learn>=0.22.2.post1 in /usr/local/lib/python3.7/dist-packages (from bertopic) (0.22.2.post1)\n",
            "Requirement already satisfied: scipy>=1.0 in /usr/local/lib/python3.7/dist-packages (from hdbscan>=0.8.27->bertopic) (1.4.1)\n",
            "Requirement already satisfied: joblib>=1.0 in /usr/local/lib/python3.7/dist-packages (from hdbscan>=0.8.27->bertopic) (1.0.1)\n",
            "Requirement already satisfied: cython>=0.27 in /usr/local/lib/python3.7/dist-packages (from hdbscan>=0.8.27->bertopic) (0.29.23)\n",
            "Requirement already satisfied: six in /usr/local/lib/python3.7/dist-packages (from hdbscan>=0.8.27->bertopic) (1.15.0)\n",
            "Requirement already satisfied: python-dateutil>=2.7.3 in /usr/local/lib/python3.7/dist-packages (from pandas>=1.1.5->bertopic) (2.8.1)\n",
            "Requirement already satisfied: pytz>=2017.2 in /usr/local/lib/python3.7/dist-packages (from pandas>=1.1.5->bertopic) (2018.9)\n",
            "Requirement already satisfied: retrying>=1.3.3 in /usr/local/lib/python3.7/dist-packages (from plotly<4.14.3,>=4.7.0->bertopic) (1.3.3)\n",
            "Requirement already satisfied: sentencepiece in /usr/local/lib/python3.7/dist-packages (from sentence-transformers>=0.4.1->bertopic) (0.1.96)\n",
            "Requirement already satisfied: transformers<5.0.0,>=4.6.0 in /usr/local/lib/python3.7/dist-packages (from sentence-transformers>=0.4.1->bertopic) (4.9.1)\n",
            "Requirement already satisfied: torch>=1.6.0 in /usr/local/lib/python3.7/dist-packages (from sentence-transformers>=0.4.1->bertopic) (1.9.0+cu102)\n",
            "Requirement already satisfied: huggingface-hub in /usr/local/lib/python3.7/dist-packages (from sentence-transformers>=0.4.1->bertopic) (0.0.12)\n",
            "Requirement already satisfied: nltk in /usr/local/lib/python3.7/dist-packages (from sentence-transformers>=0.4.1->bertopic) (3.2.5)\n",
            "Requirement already satisfied: torchvision in /usr/local/lib/python3.7/dist-packages (from sentence-transformers>=0.4.1->bertopic) (0.10.0+cu102)\n",
            "Requirement already satisfied: typing-extensions in /usr/local/lib/python3.7/dist-packages (from torch>=1.6.0->sentence-transformers>=0.4.1->bertopic) (3.7.4.3)\n",
            "Requirement already satisfied: pyyaml>=5.1 in /usr/local/lib/python3.7/dist-packages (from transformers<5.0.0,>=4.6.0->sentence-transformers>=0.4.1->bertopic) (5.4.1)\n",
            "Requirement already satisfied: packaging in /usr/local/lib/python3.7/dist-packages (from transformers<5.0.0,>=4.6.0->sentence-transformers>=0.4.1->bertopic) (21.0)\n",
            "Requirement already satisfied: requests in /usr/local/lib/python3.7/dist-packages (from transformers<5.0.0,>=4.6.0->sentence-transformers>=0.4.1->bertopic) (2.23.0)\n",
            "Requirement already satisfied: tokenizers<0.11,>=0.10.1 in /usr/local/lib/python3.7/dist-packages (from transformers<5.0.0,>=4.6.0->sentence-transformers>=0.4.1->bertopic) (0.10.3)\n",
            "Requirement already satisfied: regex!=2019.12.17 in /usr/local/lib/python3.7/dist-packages (from transformers<5.0.0,>=4.6.0->sentence-transformers>=0.4.1->bertopic) (2019.12.20)\n",
            "Requirement already satisfied: importlib-metadata in /usr/local/lib/python3.7/dist-packages (from transformers<5.0.0,>=4.6.0->sentence-transformers>=0.4.1->bertopic) (4.6.1)\n",
            "Requirement already satisfied: filelock in /usr/local/lib/python3.7/dist-packages (from transformers<5.0.0,>=4.6.0->sentence-transformers>=0.4.1->bertopic) (3.0.12)\n",
            "Requirement already satisfied: sacremoses in /usr/local/lib/python3.7/dist-packages (from transformers<5.0.0,>=4.6.0->sentence-transformers>=0.4.1->bertopic) (0.0.45)\n",
            "Requirement already satisfied: pyparsing>=2.0.2 in /usr/local/lib/python3.7/dist-packages (from packaging->transformers<5.0.0,>=4.6.0->sentence-transformers>=0.4.1->bertopic) (2.4.7)\n",
            "Requirement already satisfied: numba>=0.49 in /usr/local/lib/python3.7/dist-packages (from umap-learn>=0.5.0->bertopic) (0.51.2)\n",
            "Requirement already satisfied: pynndescent>=0.5 in /usr/local/lib/python3.7/dist-packages (from umap-learn>=0.5.0->bertopic) (0.5.4)\n",
            "Requirement already satisfied: setuptools in /usr/local/lib/python3.7/dist-packages (from numba>=0.49->umap-learn>=0.5.0->bertopic) (57.2.0)\n",
            "Requirement already satisfied: llvmlite<0.35,>=0.34.0.dev0 in /usr/local/lib/python3.7/dist-packages (from numba>=0.49->umap-learn>=0.5.0->bertopic) (0.34.0)\n",
            "Requirement already satisfied: zipp>=0.5 in /usr/local/lib/python3.7/dist-packages (from importlib-metadata->transformers<5.0.0,>=4.6.0->sentence-transformers>=0.4.1->bertopic) (3.5.0)\n",
            "Requirement already satisfied: chardet<4,>=3.0.2 in /usr/local/lib/python3.7/dist-packages (from requests->transformers<5.0.0,>=4.6.0->sentence-transformers>=0.4.1->bertopic) (3.0.4)\n",
            "Requirement already satisfied: idna<3,>=2.5 in /usr/local/lib/python3.7/dist-packages (from requests->transformers<5.0.0,>=4.6.0->sentence-transformers>=0.4.1->bertopic) (2.10)\n",
            "Requirement already satisfied: urllib3!=1.25.0,!=1.25.1,<1.26,>=1.21.1 in /usr/local/lib/python3.7/dist-packages (from requests->transformers<5.0.0,>=4.6.0->sentence-transformers>=0.4.1->bertopic) (1.24.3)\n",
            "Requirement already satisfied: certifi>=2017.4.17 in /usr/local/lib/python3.7/dist-packages (from requests->transformers<5.0.0,>=4.6.0->sentence-transformers>=0.4.1->bertopic) (2021.5.30)\n",
            "Requirement already satisfied: click in /usr/local/lib/python3.7/dist-packages (from sacremoses->transformers<5.0.0,>=4.6.0->sentence-transformers>=0.4.1->bertopic) (7.1.2)\n",
            "Requirement already satisfied: pillow>=5.3.0 in /usr/local/lib/python3.7/dist-packages (from torchvision->sentence-transformers>=0.4.1->bertopic) (7.1.2)\n",
            "Requirement already satisfied: nltk in /usr/local/lib/python3.7/dist-packages (3.2.5)\n",
            "Requirement already satisfied: six in /usr/local/lib/python3.7/dist-packages (from nltk) (1.15.0)\n"
          ],
          "name": "stdout"
        }
      ]
    },
    {
      "cell_type": "markdown",
      "metadata": {
        "id": "0ehO3emgk96g"
      },
      "source": [
        "## Restart the Notebook\n",
        "After installing BERTopic, some packages that were already loaded were updated and in order to correctly use them, we should now restart the notebook.\n",
        "\n",
        "From the Menu:\n",
        "\n",
        "Runtime → Restart Runtime"
      ]
    },
    {
      "cell_type": "markdown",
      "metadata": {
        "id": "Y3VGFZ1USMTu"
      },
      "source": [
        "# Data\n",
        "I will use the  Kaggle Glassdoor Employee Review Dataset which contains roughly 33000 positive and 30000 negative reviews"
      ]
    },
    {
      "cell_type": "code",
      "metadata": {
        "colab": {
          "base_uri": "https://localhost:8080/"
        },
        "id": "oDXq-zH8J9sX",
        "outputId": "d9041988-c78d-4cec-dd77-c8068b9505b0"
      },
      "source": [
        "from google.colab import drive\n",
        "drive.mount(\"/content/gdrive\")"
      ],
      "execution_count": 2,
      "outputs": [
        {
          "output_type": "stream",
          "text": [
            "Mounted at /content/gdrive\n"
          ],
          "name": "stdout"
        }
      ]
    },
    {
      "cell_type": "code",
      "metadata": {
        "id": "FAslWdVrKDs9"
      },
      "source": [
        "import pandas as pd\n",
        "train_df = pd.read_csv('/content/gdrive/My Drive/BERTopic_glassdoor/train.csv')"
      ],
      "execution_count": 3,
      "outputs": []
    },
    {
      "cell_type": "code",
      "metadata": {
        "colab": {
          "base_uri": "https://localhost:8080/"
        },
        "id": "qnSKRwDgKHjF",
        "outputId": "e179924d-fca6-4ccb-becc-83eb527c929e"
      },
      "source": [
        "pos_docs = [review for review in train_df['positives']]\n",
        "pos_docs[:5]"
      ],
      "execution_count": 4,
      "outputs": [
        {
          "output_type": "execute_result",
          "data": {
            "text/plain": [
              "['People are smart and friendly',\n",
              " '1) Food, food, food. 15+ cafes on main campus (MTV) alone. Mini-kitchens, snacks, drinks, free breakfast/lunch/dinner, all day, errr\\'day.  2) Benefits/perks. Free 24:7 gym access (on MTV campus). Free (self service) laundry (washer/dryer) available. Bowling alley. Volley ball pit. Custom-built and exclusive employee use only outdoor sport park (MTV). Free health/fitness assessments. Dog-friendly. Etc. etc. etc.  3) Compensation. In ~2010 or 2011, Google updated its compensation packages so that they were more competitive.  4) For the size of the organization (30K+), it has remained relatively innovative, nimble, and fast-paced and open with communication but, that is definitely changing (for the worse).  5) With so many departments, focus areas, and products, *in theory*, you should have plenty of opportunity to grow your career (horizontally or vertically). In practice, not true.  6) You get to work with some of the brightest, most innovative and hard-working/diligent minds in the industry. There\\'s a \"con\" to that, too (see below).',\n",
              " '* If you\\'re a software engineer, you\\'re among the kings of the hill at Google. It\\'s an engineer-driven company without a doubt (that *is* changing, but it\\'s still very engineer-focused). * The perks are amazing. Yes, free breakfast, lunch, an dinner every weekday. Aaaaaamazing holiday parties (at Waldorf Astoria, NY Public Library, MoMA, etc.), overnight ski trips to Vermont, overnight nature trips to the Poconos in the summer, summer picnics at Chelsea piers, and on and on and on. I don\\'t see this going away unless the company starts hurting financially. * Speaking of which, the company is doing quite well, which reflects in bonuses and equity grants. * There a huge diversity of work ranging from defending independent journalism worldwide (Google Project Shield) to crisis response during disasters (see Maps during Hurricane Sandy or Tsunamis), to the best machine learning experts and projects in the world, to more mundane revenue-driving projects in advertising, there\\'s really something for everybody. * It\\'s easy to move around within the company as long as you\\'re in good standing (the vast majority of engineers are). * The company is amazingly open: every week Larry Page and Sergey Brin host what\\'s called TGIF where food, beer, wine, etc. is served, a new project is presented, and afterward there\\'s an open forum to ask the executives anything you want. It\\'s truly fair game to ask anything, no matter how controversial, and frequently the executives will be responsive. * No, nobody cares if you use an iPhone, Facebook, shop with Amazon, stream using Spotify, or refuse to use Google+. The company is amazingly open and flexible.  Neither pro nor con, but general information on work-life balance, promotions, and advancement. * Work life balance can be what you want it to be on most teams. (Some teams are in more competitive sectors and require more crazy hours all the time - but very few of them). If you do what\\'s expected, you\\'ll be fine at least for a handful of years. Working a roughly 40 hour work week is possible, and many people do it. There are also people who are hyper-motived and work like crazy just because they love it, or because they\\'re competitive, or they want to get a promotion. If you work 40 hour weeks without putting in anything extra, you\\'ll fall behind them as they advance and you stand still - and maybe that doesn\\'t matter, so it works out for everybody. But at least know where you would realistically stand. * If you excel and work your butt off, you\\'ll be compensated and promoted. If you let yourself be a code monkey, and just sit coding with your head down all day, you\\'ll be fine but won\\'t advance. A big complaint from some Googlers is about not being able to advance \"even at Google\" with pure coding. Sure, if you\\'re the uber genius who created MapReduce and Bigtable, you\\'re going to advance like a rocket without having to do anything but coding, but if you\\'re like most engineers at Google -- smarter than average, but just average compared to other Googlers -- you\\'re just a good coder and not revolutionary. Code monkeys are important to actually get stuff done, and to be sure you absolutely need to be a good coder as a software engineer (it\\'s the minimum requirement), but code monkeys won\\'t advance because they\\'re not leaders and they\\'re easy to replace. To get promoted you need to lead and do more than just code. There are plenty of ways to lead other than being an official tech lead, so this isn\\'t actually _that_ hard, so the real point is just that you can\\'t just sit there coding what other people tell you to code all day and expect to advance.',\n",
              " \"You can't find a more well-regarded company that actually deserves the hype it gets.  You'll work on cutting edge projects / solve important issues that impact your community and the world  You'll meet interesting people who are your colleagues, managers, and senior management.  You'll open the paper and see your company in the news almost every day, and read about projects you're working on, which is a cool thing  You'll see Larry and Sergey at TGIF and you'll admire how they lead the company. They are brilliant, goofy, low key but intense, and likeable.  There are 22 cafes (more or less), the food is excellent, and it's free.  Your pay will typically be competitive, though it needs to be tweaked up a bit since the economy has improved.  Google cares about how it treats its employees.  The campus is like an academic campus in many ways.  There are tons of activities on campus, like authors speaking about their books, films after work, and gyms where you can work out - but you'll need to make sure to carve out time to do these things.  You'll get plenty of external validation from people who suddenly think you're smart and rich because you work there, even if you're not rich and you're as smart when you didn't work at Google.  If and when you leave, you'll never regret having that company on your resume. It opens doors.  The company is flexible - if you're lucky, you won't have a micromanager boss and you can be somewhat flexible in how you work - but don't get me wrong - you'll work a LOT. But you don't have to do all of it chained to your desk.\",\n",
              " 'Impact driven. Best tech in the world.']"
            ]
          },
          "metadata": {
            "tags": []
          },
          "execution_count": 4
        }
      ]
    },
    {
      "cell_type": "code",
      "metadata": {
        "colab": {
          "base_uri": "https://localhost:8080/"
        },
        "id": "BjghbjRPKMag",
        "outputId": "c25d0d09-4303-4299-de82-49417973ef00"
      },
      "source": [
        "len(pos_docs)"
      ],
      "execution_count": 5,
      "outputs": [
        {
          "output_type": "execute_result",
          "data": {
            "text/plain": [
              "30336"
            ]
          },
          "metadata": {
            "tags": []
          },
          "execution_count": 5
        }
      ]
    },
    {
      "cell_type": "code",
      "metadata": {
        "colab": {
          "base_uri": "https://localhost:8080/"
        },
        "id": "69tQhrfeumkH",
        "outputId": "26772f64-39cb-418e-99c0-b37ab6ec472e"
      },
      "source": [
        "import nltk\n",
        "nltk.download('stopwords')\n",
        "nltk.download('punkt')\n",
        "from nltk.corpus import stopwords\n",
        "from nltk.tokenize import word_tokenize\n",
        "print(stopwords.words('english'))\n",
        "stop_words = set(stopwords.words('english'))"
      ],
      "execution_count": 6,
      "outputs": [
        {
          "output_type": "stream",
          "text": [
            "[nltk_data] Downloading package stopwords to /root/nltk_data...\n",
            "[nltk_data]   Unzipping corpora/stopwords.zip.\n",
            "[nltk_data] Downloading package punkt to /root/nltk_data...\n",
            "[nltk_data]   Unzipping tokenizers/punkt.zip.\n",
            "['i', 'me', 'my', 'myself', 'we', 'our', 'ours', 'ourselves', 'you', \"you're\", \"you've\", \"you'll\", \"you'd\", 'your', 'yours', 'yourself', 'yourselves', 'he', 'him', 'his', 'himself', 'she', \"she's\", 'her', 'hers', 'herself', 'it', \"it's\", 'its', 'itself', 'they', 'them', 'their', 'theirs', 'themselves', 'what', 'which', 'who', 'whom', 'this', 'that', \"that'll\", 'these', 'those', 'am', 'is', 'are', 'was', 'were', 'be', 'been', 'being', 'have', 'has', 'had', 'having', 'do', 'does', 'did', 'doing', 'a', 'an', 'the', 'and', 'but', 'if', 'or', 'because', 'as', 'until', 'while', 'of', 'at', 'by', 'for', 'with', 'about', 'against', 'between', 'into', 'through', 'during', 'before', 'after', 'above', 'below', 'to', 'from', 'up', 'down', 'in', 'out', 'on', 'off', 'over', 'under', 'again', 'further', 'then', 'once', 'here', 'there', 'when', 'where', 'why', 'how', 'all', 'any', 'both', 'each', 'few', 'more', 'most', 'other', 'some', 'such', 'no', 'nor', 'not', 'only', 'own', 'same', 'so', 'than', 'too', 'very', 's', 't', 'can', 'will', 'just', 'don', \"don't\", 'should', \"should've\", 'now', 'd', 'll', 'm', 'o', 're', 've', 'y', 'ain', 'aren', \"aren't\", 'couldn', \"couldn't\", 'didn', \"didn't\", 'doesn', \"doesn't\", 'hadn', \"hadn't\", 'hasn', \"hasn't\", 'haven', \"haven't\", 'isn', \"isn't\", 'ma', 'mightn', \"mightn't\", 'mustn', \"mustn't\", 'needn', \"needn't\", 'shan', \"shan't\", 'shouldn', \"shouldn't\", 'wasn', \"wasn't\", 'weren', \"weren't\", 'won', \"won't\", 'wouldn', \"wouldn't\"]\n"
          ],
          "name": "stdout"
        }
      ]
    },
    {
      "cell_type": "code",
      "metadata": {
        "id": "XoUzUaJCuvQX"
      },
      "source": [
        "def clean_stopwords(sentence):\n",
        "  word_tokens = word_tokenize(sentence)\n",
        "  filtered_sentence = [w for w in word_tokens if not w.lower() in stop_words]\n",
        "  filtered_sentence =' '.join(filtered_sentence)\n",
        "  return filtered_sentence "
      ],
      "execution_count": 7,
      "outputs": []
    },
    {
      "cell_type": "code",
      "metadata": {
        "colab": {
          "base_uri": "https://localhost:8080/"
        },
        "id": "tDjHpjVfxfif",
        "outputId": "e9d7350a-56ff-4f75-c631-fdcb89dd19a8"
      },
      "source": [
        "pos_docs_clean = [clean_stopwords(sentence) for sentence in pos_docs]\n",
        "pos_docs_clean[:5]"
      ],
      "execution_count": 8,
      "outputs": [
        {
          "output_type": "execute_result",
          "data": {
            "text/plain": [
              "['People smart friendly',\n",
              " \"1 ) Food , food , food . 15+ cafes main campus ( MTV ) alone . Mini-kitchens , snacks , drinks , free breakfast/lunch/dinner , day , errr'day . 2 ) Benefits/perks . Free 24:7 gym access ( MTV campus ) . Free ( self service ) laundry ( washer/dryer ) available . Bowling alley . Volley ball pit . Custom-built exclusive employee use outdoor sport park ( MTV ) . Free health/fitness assessments . Dog-friendly . Etc . etc . etc . 3 ) Compensation . ~2010 2011 , Google updated compensation packages competitive . 4 ) size organization ( 30K+ ) , remained relatively innovative , nimble , fast-paced open communication , definitely changing ( worse ) . 5 ) many departments , focus areas , products , *in theory* , plenty opportunity grow career ( horizontally vertically ) . practice , true . 6 ) get work brightest , innovative hard-working/diligent minds industry . 's `` con '' , ( see ) .\",\n",
              " \"* 're software engineer , 're among kings hill Google . 's engineer-driven company without doubt ( *is* changing , 's still engineer-focused ) . * perks amazing . Yes , free breakfast , lunch , dinner every weekday . Aaaaaamazing holiday parties ( Waldorf Astoria , NY Public Library , MoMA , etc . ) , overnight ski trips Vermont , overnight nature trips Poconos summer , summer picnics Chelsea piers , . n't see going away unless company starts hurting financially . * Speaking , company quite well , reflects bonuses equity grants . * huge diversity work ranging defending independent journalism worldwide ( Google Project Shield ) crisis response disasters ( see Maps Hurricane Sandy Tsunamis ) , best machine learning experts projects world , mundane revenue-driving projects advertising , 's really something everybody . * 's easy move around within company long 're good standing ( vast majority engineers ) . * company amazingly open : every week Larry Page Sergey Brin host 's called TGIF food , beer , wine , etc . served , new project presented , afterward 's open forum ask executives anything want . 's truly fair game ask anything , matter controversial , frequently executives responsive . * , nobody cares use iPhone , Facebook , shop Amazon , stream using Spotify , refuse use Google+ . company amazingly open flexible . Neither pro con , general information work-life balance , promotions , advancement . * Work life balance want teams . ( teams competitive sectors require crazy hours time - ) . 's expected , 'll fine least handful years . Working roughly 40 hour work week possible , many people . also people hyper-motived work like crazy love , 're competitive , want get promotion . work 40 hour weeks without putting anything extra , 'll fall behind advance stand still - maybe n't matter , works everybody . least know would realistically stand . * excel work butt , 'll compensated promoted . let code monkey , sit coding head day , 'll fine wo n't advance . big complaint Googlers able advance `` even Google '' pure coding . Sure , 're uber genius created MapReduce Bigtable , 're going advance like rocket without anything coding , 're like engineers Google -- smarter average , average compared Googlers -- 're good coder revolutionary . Code monkeys important actually get stuff done , sure absolutely need good coder software engineer ( 's minimum requirement ) , code monkeys wo n't advance 're leaders 're easy replace . get promoted need lead code . plenty ways lead official tech lead , n't actually _that_ hard , real point ca n't sit coding people tell code day expect advance .\",\n",
              " \"ca n't find well-regarded company actually deserves hype gets . 'll work cutting edge projects / solve important issues impact community world 'll meet interesting people colleagues , managers , senior management . 'll open paper see company news almost every day , read projects 're working , cool thing 'll see Larry Sergey TGIF 'll admire lead company . brilliant , goofy , low key intense , likeable . 22 cafes ( less ) , food excellent , 's free . pay typically competitive , though needs tweaked bit since economy improved . Google cares treats employees . campus like academic campus many ways . tons activities campus , like authors speaking books , films work , gyms work - 'll need make sure carve time things . 'll get plenty external validation people suddenly think 're smart rich work , even 're rich 're smart n't work Google . leave , 'll never regret company resume . opens doors . company flexible - 're lucky , wo n't micromanager boss somewhat flexible work - n't get wrong - 'll work LOT . n't chained desk .\",\n",
              " 'Impact driven . Best tech world .']"
            ]
          },
          "metadata": {
            "tags": []
          },
          "execution_count": 8
        }
      ]
    },
    {
      "cell_type": "code",
      "metadata": {
        "colab": {
          "base_uri": "https://localhost:8080/"
        },
        "id": "I3_5xMsDyKTJ",
        "outputId": "6c27be21-9688-4c32-8b13-3dacda8cfd83"
      },
      "source": [
        "len(pos_docs_clean)"
      ],
      "execution_count": 9,
      "outputs": [
        {
          "output_type": "execute_result",
          "data": {
            "text/plain": [
              "30336"
            ]
          },
          "metadata": {
            "tags": []
          },
          "execution_count": 9
        }
      ]
    },
    {
      "cell_type": "markdown",
      "metadata": {
        "id": "SBcNmZJzSTY8"
      },
      "source": [
        "# **Topic Modeling**\n",
        "\n",
        "We will go through the main components of BERTopic and the steps necessary to create a strong topic model. \n",
        "\n",
        "\n"
      ]
    },
    {
      "cell_type": "markdown",
      "metadata": {
        "id": "QI6vwelqnTL-"
      },
      "source": [
        "## Training\n",
        "\n",
        "We start by instantiating BERTopic. We set language to `english` since our documents are in the English language. If you would like to use a multi-lingual model, please use `language=\"multilingual\"` instead. \n",
        "\n",
        "We will also calculate the topic probabilities. However, this can slow down BERTopic significantly at large amounts of data (>100_000 documents). It is advised to turn this off if you want to speed up the model. \n"
      ]
    },
    {
      "cell_type": "code",
      "metadata": {
        "id": "TfhfzqkoSJ1I",
        "colab": {
          "base_uri": "https://localhost:8080/",
          "height": 810,
          "referenced_widgets": [
            "8cfb1fa9b07542bdb38af3442a49c2e9",
            "c12d6ca3dd424bc596204ebbce339b7f",
            "784e30b97b664dbb99eb21f2648653ae",
            "49aaf93c1fd04a18824ed8134600d304",
            "2e9a346b91934fdeb25e7cc3c4749e55",
            "9329b111d52247048b550516282cef8e",
            "117adaef06954718b3c46f47ab7385d2",
            "8a8815f3dd10461ea2cd9e3deaaf8e01",
            "79a1bd914a6a4edd801d5c0e0050fd1f",
            "e8fd8e744d52451f994b748a362ee09c",
            "afe0e90e2c694a2ba51d1d104d4d1492",
            "80b3d2b8ead543e2b3ba86bb20fccd2d",
            "c76dc7b432824dd4a4af655e0284a625",
            "c924feefe6ed43c68db040b2c09734ab",
            "137826922df048aab52a5f43713f405e",
            "bfbe3926520e4092b797da2bbda6a90f",
            "63e9e02b479c4d6a818f768cd7d6d455",
            "8c2b8ccfc64c419eb98e81886f32effa",
            "8685b40f71274533baf5052b8b3b8910",
            "1dd758d87e67425cb17366b5a0cc8ede",
            "c067db51d72b4a4ab05a2c61a99e5c33",
            "b0580b9298e64430809071175a58f1a7",
            "d95af67eb95941878b8b30f929e8cfd2",
            "0e01a63e0988495ab10be303bebc7c58",
            "a59497d9d7ab4c0d836721f39de86ee2",
            "f573e056cab1412fb42292abefb8ef3c",
            "304e54f15dd64592bbcc6b1b77482e3e",
            "ac36dab182e64a1d9baace93f6fca1c2",
            "89b99759026d48fbbfe9f49d8c9553b2",
            "129d37f1bb244b019637b516b151dbcf",
            "ef713ed419734ea4ada217bd54506ede",
            "fb5a9ac371854d64b31d3ec549ec61a7",
            "706ec9ba0af54d8e989d1b5410fc0dd8",
            "cdb844bcc8a447a4a316d75adcc4d50d",
            "15546558b09f4763870d92bf93b187d0",
            "255f54d28ced4d0c80eec49c8ce99207",
            "2761755eeb564e6ea40ef7714a9e7206",
            "d4874a88ad2f45568ede8c4d3ca187f7",
            "b136d875cbbc460784d1ab86af3307fb",
            "56f0f4d0d4ae44f49839dc6e8edf456b",
            "ecadcd8d993849cd824edaaae6a10d53",
            "918277f2cc2149a2aafedb91879f169d",
            "07b8cc58c1054ec1bf663c4504e07319",
            "912584f584074a0fb506700bc95f7127",
            "8b24484e5ea74e6087fba4bf4cc7a8d1",
            "ffcf75a987e947bcbc47532e1f884ef3",
            "a7b1ec5698564bfabf3fbc4275fcf98f",
            "df2272846e12428abc855be81b854975",
            "cd6cfa5a19564f16a33c7dab70c83315",
            "61cb4d20a9a64c18be40cb2d92b7cd9d",
            "4b08f430bce9465b9a7cfd210474c87a",
            "33aa07d8c2004dcc8d6d986d90ee4cb2",
            "2a5bcffd4a924312bc5a8d1c0695e494",
            "52592d0575c64c34ac48758b6fc4c41f",
            "3f8f32493b7441bdb8b7aa97d985c4c6",
            "246ca014f1544378b9fc51d7c76df4f0",
            "f0a807626a1d440aaf380bd58b6e75cf",
            "64b5445cc03d45ea992febad237d29c2",
            "126366ba475d436380f519c53fac0c5d",
            "062aec05a32f424e9137c033d7ab8910",
            "a02d7c83d9e74f43ae22e078ef66268e",
            "5334b91603db44fa8cddbd36775c1812",
            "364d78176d5641119cb71c9ada34f08b",
            "e801eb3f364340529b881c36cde19ab7",
            "555320d33039404097e1d8ec351c9bfd",
            "1de11f40b12c405dbd84a1c64b027daa",
            "85100cb6acf246c696fa066341146d37",
            "5bb88d8bc7f94f6381e9f22611b93474",
            "ef5a60b0295d4ffcadac0007f408a4a9",
            "e4d32d9521c84396bba9b215d9e39045",
            "f26ba038c1324102a85c1d4c0e61b99c",
            "b8e3189f4ed747d4a27deebafa420060",
            "bba8a888a6344a7aafe81784ad362e00",
            "ed4afb1c21d046f59c23895a1c5b1e77",
            "b36b658584f6456d9cd971f7ab2b5c7a",
            "ffb4534b32ab40188a4e5c943a05839e",
            "74cd9814387a491ea1c2ed938a689c85",
            "17d52ad600b544aaae7abb76fd41e880",
            "c23491f5559c436eb8ac85a1265a96e4",
            "8b3b92a4e44b42db9c3c7e14fd71495f",
            "a2b5d0d8daa5467e8ea7a4a1f8c17170",
            "6b1d8fa177ac40c2848a277947c9d9bb",
            "58266e647122403fbc193049bf4dbc4f",
            "a427fbdaf943472bac4f9cce9fcaa41a",
            "544862242b674cef8b0fd7c95629a474",
            "bf25c1d684aa43faa9e7c7372955135a",
            "06f0fae36fe441d5b03c21ff99a4de2e",
            "c952471a094d458b8a093989eeb3001b",
            "d8dc159abbd649fba7ccfa320df0466e",
            "3dd533add7df472fa55c657ff8d96638",
            "4dad66ce3feb4d829d2c9e9540c26d38",
            "03f16ef78cd7461d84406dd99c398caa",
            "1aa617b3655443269768c4ca0c961c0b",
            "a0d19033c2de4aa7a765b43dc81a0317",
            "6034d21a67f14285be79d92135f91a01",
            "960742502aac426197edcb9e8556895d",
            "0743e88b0b8d43bdad71d328797dc194",
            "59b9c7ac4d4e450ea3070902f6a8247c",
            "98aadd86524348f6977e99267ca3ef22",
            "7d95f0f5035e4ae1969dfec2fa2608b2",
            "35e1b624c04047bb89d5a0583c593b04",
            "89c4e80bba8a417c8ac3111d7bb3ca5c",
            "6fbda6b59e744a568eadd218597a39d7",
            "c29e83e104424227b5f0d52e333a5470"
          ]
        },
        "outputId": "58666097-8e2a-4872-b60f-457825cf457c"
      },
      "source": [
        "from bertopic import BERTopic\n",
        "\n",
        "topic_model = BERTopic(language=\"english\",\n",
        "                       top_n_words=15,\n",
        "                       n_gram_range=(1, 2),\n",
        "                       min_topic_size=30,\n",
        "                       nr_topics='auto',\n",
        "                       calculate_probabilities=True, \n",
        "                       verbose=True)\n",
        "topics, probs = topic_model.fit_transform(pos_docs_clean)"
      ],
      "execution_count": 10,
      "outputs": [
        {
          "output_type": "stream",
          "text": [
            "/usr/local/lib/python3.7/dist-packages/distributed/config.py:20: YAMLLoadWarning: calling yaml.load() without Loader=... is deprecated, as the default Loader is unsafe. Please read https://msg.pyyaml.org/load for full details.\n",
            "  defaults = yaml.load(f)\n"
          ],
          "name": "stderr"
        },
        {
          "output_type": "display_data",
          "data": {
            "application/vnd.jupyter.widget-view+json": {
              "model_id": "8cfb1fa9b07542bdb38af3442a49c2e9",
              "version_minor": 0,
              "version_major": 2
            },
            "text/plain": [
              "HBox(children=(FloatProgress(value=0.0, description='Downloading', max=690.0, style=ProgressStyle(description_…"
            ]
          },
          "metadata": {
            "tags": []
          }
        },
        {
          "output_type": "stream",
          "text": [
            "\n"
          ],
          "name": "stdout"
        },
        {
          "output_type": "display_data",
          "data": {
            "application/vnd.jupyter.widget-view+json": {
              "model_id": "79a1bd914a6a4edd801d5c0e0050fd1f",
              "version_minor": 0,
              "version_major": 2
            },
            "text/plain": [
              "HBox(children=(FloatProgress(value=0.0, description='Downloading', max=3673.0, style=ProgressStyle(description…"
            ]
          },
          "metadata": {
            "tags": []
          }
        },
        {
          "output_type": "stream",
          "text": [
            "\n"
          ],
          "name": "stdout"
        },
        {
          "output_type": "display_data",
          "data": {
            "application/vnd.jupyter.widget-view+json": {
              "model_id": "63e9e02b479c4d6a818f768cd7d6d455",
              "version_minor": 0,
              "version_major": 2
            },
            "text/plain": [
              "HBox(children=(FloatProgress(value=0.0, description='Downloading', max=629.0, style=ProgressStyle(description_…"
            ]
          },
          "metadata": {
            "tags": []
          }
        },
        {
          "output_type": "stream",
          "text": [
            "\n"
          ],
          "name": "stdout"
        },
        {
          "output_type": "display_data",
          "data": {
            "application/vnd.jupyter.widget-view+json": {
              "model_id": "a59497d9d7ab4c0d836721f39de86ee2",
              "version_minor": 0,
              "version_major": 2
            },
            "text/plain": [
              "HBox(children=(FloatProgress(value=0.0, description='Downloading', max=122.0, style=ProgressStyle(description_…"
            ]
          },
          "metadata": {
            "tags": []
          }
        },
        {
          "output_type": "stream",
          "text": [
            "\n"
          ],
          "name": "stdout"
        },
        {
          "output_type": "display_data",
          "data": {
            "application/vnd.jupyter.widget-view+json": {
              "model_id": "706ec9ba0af54d8e989d1b5410fc0dd8",
              "version_minor": 0,
              "version_major": 2
            },
            "text/plain": [
              "HBox(children=(FloatProgress(value=0.0, description='Downloading', max=229.0, style=ProgressStyle(description_…"
            ]
          },
          "metadata": {
            "tags": []
          }
        },
        {
          "output_type": "stream",
          "text": [
            "\n"
          ],
          "name": "stdout"
        },
        {
          "output_type": "display_data",
          "data": {
            "application/vnd.jupyter.widget-view+json": {
              "model_id": "ecadcd8d993849cd824edaaae6a10d53",
              "version_minor": 0,
              "version_major": 2
            },
            "text/plain": [
              "HBox(children=(FloatProgress(value=0.0, description='Downloading', max=90895153.0, style=ProgressStyle(descrip…"
            ]
          },
          "metadata": {
            "tags": []
          }
        },
        {
          "output_type": "stream",
          "text": [
            "\n"
          ],
          "name": "stdout"
        },
        {
          "output_type": "display_data",
          "data": {
            "application/vnd.jupyter.widget-view+json": {
              "model_id": "cd6cfa5a19564f16a33c7dab70c83315",
              "version_minor": 0,
              "version_major": 2
            },
            "text/plain": [
              "HBox(children=(FloatProgress(value=0.0, description='Downloading', max=53.0, style=ProgressStyle(description_w…"
            ]
          },
          "metadata": {
            "tags": []
          }
        },
        {
          "output_type": "stream",
          "text": [
            "\n"
          ],
          "name": "stdout"
        },
        {
          "output_type": "display_data",
          "data": {
            "application/vnd.jupyter.widget-view+json": {
              "model_id": "f0a807626a1d440aaf380bd58b6e75cf",
              "version_minor": 0,
              "version_major": 2
            },
            "text/plain": [
              "HBox(children=(FloatProgress(value=0.0, description='Downloading', max=112.0, style=ProgressStyle(description_…"
            ]
          },
          "metadata": {
            "tags": []
          }
        },
        {
          "output_type": "stream",
          "text": [
            "\n"
          ],
          "name": "stdout"
        },
        {
          "output_type": "display_data",
          "data": {
            "application/vnd.jupyter.widget-view+json": {
              "model_id": "555320d33039404097e1d8ec351c9bfd",
              "version_minor": 0,
              "version_major": 2
            },
            "text/plain": [
              "HBox(children=(FloatProgress(value=0.0, description='Downloading', max=466081.0, style=ProgressStyle(descripti…"
            ]
          },
          "metadata": {
            "tags": []
          }
        },
        {
          "output_type": "stream",
          "text": [
            "\n"
          ],
          "name": "stdout"
        },
        {
          "output_type": "display_data",
          "data": {
            "application/vnd.jupyter.widget-view+json": {
              "model_id": "bba8a888a6344a7aafe81784ad362e00",
              "version_minor": 0,
              "version_major": 2
            },
            "text/plain": [
              "HBox(children=(FloatProgress(value=0.0, description='Downloading', max=516.0, style=ProgressStyle(description_…"
            ]
          },
          "metadata": {
            "tags": []
          }
        },
        {
          "output_type": "stream",
          "text": [
            "\n"
          ],
          "name": "stdout"
        },
        {
          "output_type": "display_data",
          "data": {
            "application/vnd.jupyter.widget-view+json": {
              "model_id": "a2b5d0d8daa5467e8ea7a4a1f8c17170",
              "version_minor": 0,
              "version_major": 2
            },
            "text/plain": [
              "HBox(children=(FloatProgress(value=0.0, description='Downloading', max=231508.0, style=ProgressStyle(descripti…"
            ]
          },
          "metadata": {
            "tags": []
          }
        },
        {
          "output_type": "stream",
          "text": [
            "\n"
          ],
          "name": "stdout"
        },
        {
          "output_type": "display_data",
          "data": {
            "application/vnd.jupyter.widget-view+json": {
              "model_id": "d8dc159abbd649fba7ccfa320df0466e",
              "version_minor": 0,
              "version_major": 2
            },
            "text/plain": [
              "HBox(children=(FloatProgress(value=0.0, description='Downloading', max=190.0, style=ProgressStyle(description_…"
            ]
          },
          "metadata": {
            "tags": []
          }
        },
        {
          "output_type": "stream",
          "text": [
            "\n"
          ],
          "name": "stdout"
        },
        {
          "output_type": "display_data",
          "data": {
            "application/vnd.jupyter.widget-view+json": {
              "model_id": "0743e88b0b8d43bdad71d328797dc194",
              "version_minor": 0,
              "version_major": 2
            },
            "text/plain": [
              "HBox(children=(FloatProgress(value=0.0, description='Batches', max=948.0, style=ProgressStyle(description_widt…"
            ]
          },
          "metadata": {
            "tags": []
          }
        },
        {
          "output_type": "stream",
          "text": [
            "2021-08-02 02:24:13,548 - BERTopic - Transformed documents to Embeddings\n"
          ],
          "name": "stderr"
        },
        {
          "output_type": "stream",
          "text": [
            "\n"
          ],
          "name": "stdout"
        },
        {
          "output_type": "stream",
          "text": [
            "/usr/local/lib/python3.7/dist-packages/numba/np/ufunc/parallel.py:363: NumbaWarning: The TBB threading layer requires TBB version 2019.5 or later i.e., TBB_INTERFACE_VERSION >= 11005. Found TBB_INTERFACE_VERSION = 9107. The TBB threading layer is disabled.\n",
            "  warnings.warn(problem)\n",
            "2021-08-02 02:24:55,641 - BERTopic - Reduced dimensionality with UMAP\n",
            "2021-08-02 02:25:18,167 - BERTopic - Clustered UMAP embeddings with HDBSCAN\n",
            "2021-08-02 02:25:27,710 - BERTopic - Reduced number of topics from 120 to 69\n"
          ],
          "name": "stderr"
        }
      ]
    },
    {
      "cell_type": "markdown",
      "metadata": {
        "id": "A5O3KpHTnVpz"
      },
      "source": [
        "## Extracting Topics\n",
        "After fitting our model, we can start by looking at the results. Typically, we look at the most frequent topics first as they best represent the collection of documents. "
      ]
    },
    {
      "cell_type": "code",
      "metadata": {
        "colab": {
          "base_uri": "https://localhost:8080/",
          "height": 419
        },
        "id": "ScBUgXn06IK6",
        "outputId": "823d0a4b-13bc-440e-cba9-0b495223f747"
      },
      "source": [
        "freq = topic_model.get_topic_info()\n",
        "freq"
      ],
      "execution_count": 11,
      "outputs": [
        {
          "output_type": "execute_result",
          "data": {
            "text/html": [
              "<div>\n",
              "<style scoped>\n",
              "    .dataframe tbody tr th:only-of-type {\n",
              "        vertical-align: middle;\n",
              "    }\n",
              "\n",
              "    .dataframe tbody tr th {\n",
              "        vertical-align: top;\n",
              "    }\n",
              "\n",
              "    .dataframe thead th {\n",
              "        text-align: right;\n",
              "    }\n",
              "</style>\n",
              "<table border=\"1\" class=\"dataframe\">\n",
              "  <thead>\n",
              "    <tr style=\"text-align: right;\">\n",
              "      <th></th>\n",
              "      <th>Topic</th>\n",
              "      <th>Count</th>\n",
              "      <th>Name</th>\n",
              "    </tr>\n",
              "  </thead>\n",
              "  <tbody>\n",
              "    <tr>\n",
              "      <th>0</th>\n",
              "      <td>-1</td>\n",
              "      <td>11983</td>\n",
              "      <td>-1_smart_environment_opportunities_pay</td>\n",
              "    </tr>\n",
              "    <tr>\n",
              "      <th>1</th>\n",
              "      <td>0</td>\n",
              "      <td>2393</td>\n",
              "      <td>0_amazon_apple_working_employees</td>\n",
              "    </tr>\n",
              "    <tr>\n",
              "      <th>2</th>\n",
              "      <td>1</td>\n",
              "      <td>1202</td>\n",
              "      <td>1_team_teams_great team_team great</td>\n",
              "    </tr>\n",
              "    <tr>\n",
              "      <th>3</th>\n",
              "      <td>2</td>\n",
              "      <td>1173</td>\n",
              "      <td>2_learn_technology_learning_cutting edge</td>\n",
              "    </tr>\n",
              "    <tr>\n",
              "      <th>4</th>\n",
              "      <td>3</td>\n",
              "      <td>1082</td>\n",
              "      <td>3_microsoft_software_microsoft great_working m...</td>\n",
              "    </tr>\n",
              "    <tr>\n",
              "      <th>...</th>\n",
              "      <td>...</td>\n",
              "      <td>...</td>\n",
              "      <td>...</td>\n",
              "    </tr>\n",
              "    <tr>\n",
              "      <th>64</th>\n",
              "      <td>63</td>\n",
              "      <td>39</td>\n",
              "      <td>63_diversity_diversity work_work diversity_div...</td>\n",
              "    </tr>\n",
              "    <tr>\n",
              "      <th>65</th>\n",
              "      <td>64</td>\n",
              "      <td>39</td>\n",
              "      <td>64_smart people_company smart_people company_g...</td>\n",
              "    </tr>\n",
              "    <tr>\n",
              "      <th>66</th>\n",
              "      <td>65</td>\n",
              "      <td>36</td>\n",
              "      <td>65_solve_problems_problems solve_interesting p...</td>\n",
              "    </tr>\n",
              "    <tr>\n",
              "      <th>67</th>\n",
              "      <td>66</td>\n",
              "      <td>35</td>\n",
              "      <td>66_shift_shifts_night shift_hour shifts</td>\n",
              "    </tr>\n",
              "    <tr>\n",
              "      <th>68</th>\n",
              "      <td>67</td>\n",
              "      <td>33</td>\n",
              "      <td>67_warehouse_warehouse work_warehouse job_pay ...</td>\n",
              "    </tr>\n",
              "  </tbody>\n",
              "</table>\n",
              "<p>69 rows × 3 columns</p>\n",
              "</div>"
            ],
            "text/plain": [
              "    Topic  Count                                               Name\n",
              "0      -1  11983             -1_smart_environment_opportunities_pay\n",
              "1       0   2393                   0_amazon_apple_working_employees\n",
              "2       1   1202                 1_team_teams_great team_team great\n",
              "3       2   1173           2_learn_technology_learning_cutting edge\n",
              "4       3   1082  3_microsoft_software_microsoft great_working m...\n",
              "..    ...    ...                                                ...\n",
              "64     63     39  63_diversity_diversity work_work diversity_div...\n",
              "65     64     39  64_smart people_company smart_people company_g...\n",
              "66     65     36  65_solve_problems_problems solve_interesting p...\n",
              "67     66     35            66_shift_shifts_night shift_hour shifts\n",
              "68     67     33  67_warehouse_warehouse work_warehouse job_pay ...\n",
              "\n",
              "[69 rows x 3 columns]"
            ]
          },
          "metadata": {
            "tags": []
          },
          "execution_count": 11
        }
      ]
    },
    {
      "cell_type": "markdown",
      "metadata": {
        "id": "-BtOgifV7Q-H"
      },
      "source": [
        "-1 refers to all outliers and should typically be ignored. Next, let's take a look at a frequent topic that were generated:"
      ]
    },
    {
      "cell_type": "code",
      "metadata": {
        "colab": {
          "base_uri": "https://localhost:8080/"
        },
        "id": "IVpvT4bA6KiN",
        "outputId": "23b800bd-62f2-4feb-d76b-fe5b6a253ae5"
      },
      "source": [
        "topic_model.get_topic(0)  # Select the most frequent topic"
      ],
      "execution_count": 12,
      "outputs": [
        {
          "output_type": "execute_result",
          "data": {
            "text/plain": [
              "[('amazon', 0.025349582300605685),\n",
              " ('apple', 0.02104518097199698),\n",
              " ('working', 0.006237041576259761),\n",
              " ('employees', 0.005483538023302047),\n",
              " ('nt', 0.005240492488007998),\n",
              " ('customer', 0.005055908323604561),\n",
              " ('make', 0.004720758062657242),\n",
              " ('job', 0.004558217732306532),\n",
              " ('working apple', 0.004544142427626432),\n",
              " ('always', 0.004473779642419827),\n",
              " ('customers', 0.004322257419905556),\n",
              " ('company', 0.004228831661091897),\n",
              " ('apple products', 0.004127444760637589),\n",
              " ('working amazon', 0.004074478483798206),\n",
              " ('part', 0.0040404287041674635)]"
            ]
          },
          "metadata": {
            "tags": []
          },
          "execution_count": 12
        }
      ]
    },
    {
      "cell_type": "code",
      "metadata": {
        "colab": {
          "base_uri": "https://localhost:8080/"
        },
        "id": "dlfbCyM6IHiQ",
        "outputId": "c2a3a36c-b059-4611-932f-f6c59c0f4e04"
      },
      "source": [
        "topic_model.get_topic(1)"
      ],
      "execution_count": 13,
      "outputs": [
        {
          "output_type": "execute_result",
          "data": {
            "text/plain": [
              "[('team', 0.04571927591767117),\n",
              " ('teams', 0.03469095795302661),\n",
              " ('great team', 0.020126547257301244),\n",
              " ('team great', 0.010665687029080414),\n",
              " ('team work', 0.010637824430103643),\n",
              " ('good team', 0.009487999196297942),\n",
              " ('teammates', 0.008224659791208865),\n",
              " ('team members', 0.007670258627455578),\n",
              " ('teamwork', 0.006908714224615448),\n",
              " ('projects', 0.006718949447773446),\n",
              " ('team environment', 0.006606031362118422),\n",
              " ('environment', 0.006383055833453011),\n",
              " ('team good', 0.0062837390232654885),\n",
              " ('teams good', 0.005719284778164232),\n",
              " ('teams great', 0.004860395802974622)]"
            ]
          },
          "metadata": {
            "tags": []
          },
          "execution_count": 13
        }
      ]
    },
    {
      "cell_type": "code",
      "metadata": {
        "colab": {
          "base_uri": "https://localhost:8080/"
        },
        "id": "SRsln0oRs3Qb",
        "outputId": "90314a7a-d29f-4a52-e546-3a256dc0fce8"
      },
      "source": [
        "topic_model.get_topic(2)"
      ],
      "execution_count": 14,
      "outputs": [
        {
          "output_type": "execute_result",
          "data": {
            "text/plain": [
              "[('learn', 0.0297567369326339),\n",
              " ('technology', 0.027079729982007042),\n",
              " ('learning', 0.022519446139429546),\n",
              " ('cutting edge', 0.015823729776352796),\n",
              " ('technologies', 0.015249119765251977),\n",
              " ('innovation', 0.013179695536923362),\n",
              " ('learn lot', 0.01279227657245076),\n",
              " ('smart', 0.011341732664270732),\n",
              " ('smart people', 0.011228965333637562),\n",
              " ('tech', 0.010896395116708585),\n",
              " ('edge technology', 0.010523078981258377),\n",
              " ('place learn', 0.009028332808253494),\n",
              " ('learn new', 0.0073267592595787825),\n",
              " ('great learning', 0.00699621492989919),\n",
              " ('good learning', 0.006806450496027125)]"
            ]
          },
          "metadata": {
            "tags": []
          },
          "execution_count": 14
        }
      ]
    },
    {
      "cell_type": "markdown",
      "metadata": {
        "id": "ixc-X2JzodrZ"
      },
      "source": [
        "**NOTE**: BERTopic is stocastich which means that the topics might differ across runs. This is mostly due to the stocastisch nature of UMAP."
      ]
    },
    {
      "cell_type": "markdown",
      "metadata": {
        "id": "UbT2Bd9gqaJ3"
      },
      "source": [
        "# **Visualization**\n",
        "There are several visualization options available in BERTopic, namely the visualization of topics, probabilities and topics over time. Topic modeling is, to a certain extent, quite subjective. Visualizations help understand the topics that were created. "
      ]
    },
    {
      "cell_type": "markdown",
      "metadata": {
        "id": "M8c8LenB8Zyl"
      },
      "source": [
        "## Visualize Topics\n",
        "After having trained our `BERTopic` model, we can iteratively go through perhaps a hundred topic to get a good \n",
        "understanding of the topics that were extract. However, that takes quite some time and lacks a global representation. \n",
        "Instead, we can visualize the topics that were generated in a way very similar to \n",
        "[LDAvis](https://github.com/cpsievert/LDAvis):"
      ]
    },
    {
      "cell_type": "code",
      "metadata": {
        "colab": {
          "base_uri": "https://localhost:8080/",
          "height": 667
        },
        "id": "S9qDqEHddgKq",
        "outputId": "061c57fb-48b1-482f-afaf-c053067d75f6"
      },
      "source": [
        "topic_model.visualize_topics()"
      ],
      "execution_count": 15,
      "outputs": [
        {
          "output_type": "display_data",
          "data": {
            "text/html": [
              "<html>\n",
              "<head><meta charset=\"utf-8\" /></head>\n",
              "<body>\n",
              "    <div>            <script src=\"https://cdnjs.cloudflare.com/ajax/libs/mathjax/2.7.5/MathJax.js?config=TeX-AMS-MML_SVG\"></script><script type=\"text/javascript\">if (window.MathJax) {MathJax.Hub.Config({SVG: {font: \"STIX-Web\"}});}</script>                <script type=\"text/javascript\">window.PlotlyConfig = {MathJaxConfig: 'local'};</script>\n",
              "        <script src=\"https://cdn.plot.ly/plotly-latest.min.js\"></script>                <div id=\"0f076252-dc99-46e2-a62f-cd50fb327c2e\" class=\"plotly-graph-div\" style=\"height:650px; width:650px;\"></div>            <script type=\"text/javascript\">                                    window.PLOTLYENV=window.PLOTLYENV || {};                                    if (document.getElementById(\"0f076252-dc99-46e2-a62f-cd50fb327c2e\")) {                    Plotly.newPlot(                        \"0f076252-dc99-46e2-a62f-cd50fb327c2e\",                        [{\"customdata\": [[12.317434310913086, -1.965272068977356, 0, \"amazon | apple | working | employees | nt\", 2393], [11.914923667907715, 4.548633098602295, 1, \"team | teams | great team | team great | team work\", 1202], [1.19796884059906, 14.52208423614502, 2, \"learn | technology | learning | cutting edge | technologies\", 1173], [11.912492752075195, 4.551033973693848, 3, \"microsoft | software | microsoft great | working microsoft | work microsoft\", 1082], [-0.30331656336784363, 13.066082954406738, 4, \"food | free food | gym | lunch | snacks\", 888], [1.1537113189697266, 14.474806785583496, 5, \"customer | retail | customers | pay retail | obsession\", 649], [0.8321658372879028, 14.168354034423828, 6, \"environment | work environment | working environment | environment good | environment work\", 628], [0.0827789232134819, 12.698040008544922, 7, \"company work | great company | good company | best company | company great\", 572], [15.805299758911133, 12.612883567810059, 8, \"life balance | work life | worklife | worklife balance | good work\", 548], [0.022316820919513702, 13.332823753356934, 9, \"great benefits | good benefits | benefits | benefits good | benefits great\", 508], [11.989672660827637, 4.473820209503174, 10, \"google | facebook | working google | perks | food\", 474], [15.890351295471191, 12.712017059326172, 11, \"leadership | leadership principles | great leadership | ceo | senior\", 434], [-0.045872755348682404, 13.223231315612793, 12, \"coworkers | great coworkers | co workers | coworkers great | friendly coworkers\", 431], [6.702417373657227, 7.323901176452637, 13, \"pay | good pay | pay good | decent pay | ok\", 388], [-9.22686767578125, 11.934234619140625, 14, \"stock | stock options | options | stocks | benefits stock\", 360], [-0.7984395623207092, -2.337716579437256, 15, \"place work | place | great place | best place | good place\", 333], [6.233395576477051, 15.150701522827148, 16, \"flexible | flexible working | flexible work | working hours | flexible hours\", 298], [8.534926414489746, -7.976494789123535, 17, \"career | opportunities | career opportunities | good career | career development\", 268], [15.793377876281738, 11.256582260131836, 18, \"good salary | salary good | culture good | good pay | salary competitive\", 225], [8.703475952148438, -7.458966255187988, 19, \"growing | growth | company | growing company | opportunity growth\", 221], [1.4294846057891846, 1.3549851179122925, 20, \"work culture | great culture | culture great | culture good | good culture\", 219], [6.339373588562012, 15.248520851135254, 21, \"home | work home | working home | home great | home work\", 202], [1.45722234249115, 1.4945229291915894, 22, \"projects | interesting projects | smart people | projects work | challenging projects\", 201], [-9.676790237426758, 12.383883476257324, 23, \"discounts | great discounts | discounts great | discounts products | perks benefits\", 198], [9.055563926696777, -7.122848033905029, 24, \"de | et | und | les | en\", 196], [15.538567543029785, 12.062657356262207, 25, \"pay benefits | benefits pay | good pay | pay great | good benefits\", 195], [-9.591095924377441, 12.298173904418945, 26, \"insurance | health insurance | health benefits | great health | health care\", 192], [15.491477966308594, 12.026644706726074, 27, \"training | great training | training great | training program | training good\", 192], [6.671715259552002, 7.290599346160889, 28, \"easy job | easy get | easy work | get hired | hired\", 185], [8.396288871765137, -7.764896869659424, 29, \"opportunities | opportunity | lots opportunities | growth opportunities | lot opportunities\", 181], [2.1563632488250732, 0.9091836810112, 30, \"smart | smart people | work smart | people work | people smart\", 171], [8.938790321350098, -7.220518112182617, 31, \"brand | name | brand name | innovative company | name resume\", 167], [0.03761056810617447, 12.792909622192383, 32, \"great company | great benefits | company great | benefits great | company good\", 158], [8.223834037780762, -7.728472709655762, 33, \"freedom | autonomy | ownership | freedom work | responsibility\", 147], [10.427105903625488, 23.74612045288086, 34, \"overtime | lots overtime | lot overtime | overtime opportunities | mandatory overtime\", 142], [0.1519644409418106, 12.637868881225586, 35, \"care | employees | care employees | cares | cares employees\", 135], [-2.4144320487976074, 7.464372158050537, 36, \"fast paced | pace | paced environment | fast pace | fun fast\", 131], [15.66018295288086, 12.403446197509766, 37, \"worklife balance | benefits work | balance benefits | good benefits | benefits worklife\", 127], [0.8460798263549805, 14.194995880126953, 38, \"dress | dress code | code | casual dress | culture dress\", 122], [10.566559791564941, 23.895830154418945, 39, \"days | day work | work week | days week | work days\", 114], [10.210314750671387, 23.521381378173828, 40, \"vacation | vacation time | paid time | time vacation | time paid\", 113], [-1.027148962020874, -2.1071419715881348, 41, \"good people | new people | lot fun | nice people | people nice\", 107], [0.06909896433353424, 13.293371200561523, 42, \"nice campus | good campus | campus good | great campus | campus great\", 100], [-0.9375002384185791, -2.198572874069214, 43, \"people work | great people | work great | work people | work amazing\", 95], [15.565438270568848, 11.591008186340332, 44, \"bonuses | bonus | salary good | great salary | good benefits\", 93], [1.716943621635437, 1.5734399557113647, 45, \"compensation | compensation benefits | compensation good | great compensation | good compensation\", 92], [-6.291988849639893, 1.1044775247573853, 46, \"none | nothing | none none | nothing nothing | none think\", 91], [1.399294137954712, 1.0684994459152222, 47, \"smart people | smart | benefits smart | great benefits | people lots\", 89], [1.3750396966934204, 1.2918827533721924, 48, \"engineers | engineering | engineering talent | smart engineers | engineering culture\", 87], [8.766427993774414, -7.458406448364258, 49, \"cloud | aws | cloud services | cloud computing | azure\", 86], [10.120950698852539, 23.43031883239746, 50, \"day one | benefits day | benefits start | start day | first day\", 81], [-2.284207344055176, 7.593769550323486, 51, \"atmosphere | good atmosphere | great atmosphere | work atmosphere | atmosphere work\", 78], [-9.3828125, 12.090047836303711, 52, \"dental | medical dental | dental vision | dental benefits | 401k\", 75], [-6.2919487953186035, 1.1044894456863403, 53, \"everything | good good | everything great | good everything | good like\", 74], [15.727128028869629, 11.277206420898438, 54, \"seattle | seattle great | city | downtown | downtown seattle\", 70], [2.077103614807129, 0.7940862774848938, 55, \"netflix | free netflix | work netflix | netflix account | business\", 61], [1.105044960975647, 0.8468807339668274, 56, \"intern | interns | internship | experience interns | internship program\", 56], [1.2036921977996826, 0.917750358581543, 57, \"mentors | mentoring | mentorship | great mentor | good mentors\", 54], [-2.3380138874053955, 7.540572643280029, 58, \"environment career | environment | work environment | career growth | growth opportunities\", 46], [-10.562254905700684, -15.588872909545898, 59, \"vision | vision company | term vision | great vision | company vision\", 45], [15.784945487976074, 11.26449203491211, 60, \"resume | good resume | looks good | resume good | great resume\", 44], [-10.562263488769531, -15.588875770568848, 61, \"satya | satya nadella | satya leadership | leadership | ceo\", 42], [-4.159096717834473, -6.201514720916748, 62, \"talent | talented people | best talent | talent work | talent around\", 42], [-4.159125328063965, -6.201538562774658, 63, \"diversity | diversity work | work diversity | diverse | diversity benefits\", 39], [1.7438640594482422, 1.358123779296875, 64, \"smart people | company smart | people company | great company | company work\", 39], [2.296008586883545, 1.0188647508621216, 65, \"solve | problems | problems solve | interesting problems | smart people\", 36], [10.683862686157227, 24.036651611328125, 66, \"shift | shifts | night shift | hour shifts | hour shift\", 35], [10.82921028137207, 24.189802169799805, 67, \"warehouse | warehouse work | warehouse job | pay warehouse | typical warehouse\", 33]], \"hovertemplate\": \"<b>Topic %{customdata[2]}</b><br>Words: %{customdata[3]}<br>Size: %{customdata[4]}\", \"legendgroup\": \"\", \"marker\": {\"color\": \"#B0BEC5\", \"line\": {\"color\": \"DarkSlateGrey\", \"width\": 2}, \"size\": [2393, 1202, 1173, 1082, 888, 649, 628, 572, 548, 508, 474, 434, 431, 388, 360, 333, 298, 268, 225, 221, 219, 202, 201, 198, 196, 195, 192, 192, 185, 181, 171, 167, 158, 147, 142, 135, 131, 127, 122, 114, 113, 107, 100, 95, 93, 92, 91, 89, 87, 86, 81, 78, 75, 74, 70, 61, 56, 54, 46, 45, 44, 42, 42, 39, 39, 36, 35, 33], \"sizemode\": \"area\", \"sizeref\": 1.495625, \"symbol\": \"circle\"}, \"mode\": \"markers\", \"name\": \"\", \"orientation\": \"v\", \"showlegend\": false, \"type\": \"scatter\", \"x\": [12.317434310913086, 11.914923667907715, 1.19796884059906, 11.912492752075195, -0.30331656336784363, 1.1537113189697266, 0.8321658372879028, 0.0827789232134819, 15.805299758911133, 0.022316820919513702, 11.989672660827637, 15.890351295471191, -0.045872755348682404, 6.702417373657227, -9.22686767578125, -0.7984395623207092, 6.233395576477051, 8.534926414489746, 15.793377876281738, 8.703475952148438, 1.4294846057891846, 6.339373588562012, 1.45722234249115, -9.676790237426758, 9.055563926696777, 15.538567543029785, -9.591095924377441, 15.491477966308594, 6.671715259552002, 8.396288871765137, 2.1563632488250732, 8.938790321350098, 0.03761056810617447, 8.223834037780762, 10.427105903625488, 0.1519644409418106, -2.4144320487976074, 15.66018295288086, 0.8460798263549805, 10.566559791564941, 10.210314750671387, -1.027148962020874, 0.06909896433353424, -0.9375002384185791, 15.565438270568848, 1.716943621635437, -6.291988849639893, 1.399294137954712, 1.3750396966934204, 8.766427993774414, 10.120950698852539, -2.284207344055176, -9.3828125, -6.2919487953186035, 15.727128028869629, 2.077103614807129, 1.105044960975647, 1.2036921977996826, -2.3380138874053955, -10.562254905700684, 15.784945487976074, -10.562263488769531, -4.159096717834473, -4.159125328063965, 1.7438640594482422, 2.296008586883545, 10.683862686157227, 10.82921028137207], \"xaxis\": \"x\", \"y\": [-1.965272068977356, 4.548633098602295, 14.52208423614502, 4.551033973693848, 13.066082954406738, 14.474806785583496, 14.168354034423828, 12.698040008544922, 12.612883567810059, 13.332823753356934, 4.473820209503174, 12.712017059326172, 13.223231315612793, 7.323901176452637, 11.934234619140625, -2.337716579437256, 15.150701522827148, -7.976494789123535, 11.256582260131836, -7.458966255187988, 1.3549851179122925, 15.248520851135254, 1.4945229291915894, 12.383883476257324, -7.122848033905029, 12.062657356262207, 12.298173904418945, 12.026644706726074, 7.290599346160889, -7.764896869659424, 0.9091836810112, -7.220518112182617, 12.792909622192383, -7.728472709655762, 23.74612045288086, 12.637868881225586, 7.464372158050537, 12.403446197509766, 14.194995880126953, 23.895830154418945, 23.521381378173828, -2.1071419715881348, 13.293371200561523, -2.198572874069214, 11.591008186340332, 1.5734399557113647, 1.1044775247573853, 1.0684994459152222, 1.2918827533721924, -7.458406448364258, 23.43031883239746, 7.593769550323486, 12.090047836303711, 1.1044894456863403, 11.277206420898438, 0.7940862774848938, 0.8468807339668274, 0.917750358581543, 7.540572643280029, -15.588872909545898, 11.26449203491211, -15.588875770568848, -6.201514720916748, -6.201538562774658, 1.358123779296875, 1.0188647508621216, 24.036651611328125, 24.189802169799805], \"yaxis\": \"y\"}],                        {\"annotations\": [{\"showarrow\": false, \"text\": \"D1\", \"x\": -12.146603012084961, \"y\": 4.9455326795578, \"yshift\": 10}, {\"showarrow\": false, \"text\": \"D2\", \"x\": 3.0636504888534537, \"xshift\": 10, \"y\": 27.818272495269774}], \"height\": 650, \"hoverlabel\": {\"bgcolor\": \"white\", \"font\": {\"family\": \"Rockwell\", \"size\": 16}}, \"legend\": {\"itemsizing\": \"constant\", \"tracegroupgap\": 0}, \"margin\": {\"t\": 60}, \"shapes\": [{\"line\": {\"color\": \"#CFD8DC\", \"width\": 2}, \"type\": \"line\", \"x0\": 3.0636504888534537, \"x1\": 3.0636504888534537, \"y0\": -17.927207136154173, \"y1\": 27.818272495269774}, {\"line\": {\"color\": \"#9E9E9E\", \"width\": 2}, \"type\": \"line\", \"x0\": -12.146603012084961, \"x1\": 18.27390398979187, \"y0\": 4.9455326795578, \"y1\": 4.9455326795578}], \"sliders\": [{\"active\": 0, \"pad\": {\"t\": 50}, \"steps\": [{\"args\": [{\"marker.color\": [[\"red\", \"#B0BEC5\", \"#B0BEC5\", \"#B0BEC5\", \"#B0BEC5\", \"#B0BEC5\", \"#B0BEC5\", \"#B0BEC5\", \"#B0BEC5\", \"#B0BEC5\", \"#B0BEC5\", \"#B0BEC5\", \"#B0BEC5\", \"#B0BEC5\", \"#B0BEC5\", \"#B0BEC5\", \"#B0BEC5\", \"#B0BEC5\", \"#B0BEC5\", \"#B0BEC5\", \"#B0BEC5\", \"#B0BEC5\", \"#B0BEC5\", \"#B0BEC5\", \"#B0BEC5\", \"#B0BEC5\", \"#B0BEC5\", \"#B0BEC5\", \"#B0BEC5\", \"#B0BEC5\", \"#B0BEC5\", \"#B0BEC5\", \"#B0BEC5\", \"#B0BEC5\", \"#B0BEC5\", \"#B0BEC5\", \"#B0BEC5\", \"#B0BEC5\", \"#B0BEC5\", \"#B0BEC5\", \"#B0BEC5\", \"#B0BEC5\", \"#B0BEC5\", \"#B0BEC5\", \"#B0BEC5\", \"#B0BEC5\", \"#B0BEC5\", \"#B0BEC5\", \"#B0BEC5\", \"#B0BEC5\", \"#B0BEC5\", \"#B0BEC5\", \"#B0BEC5\", \"#B0BEC5\", \"#B0BEC5\", \"#B0BEC5\", \"#B0BEC5\", \"#B0BEC5\", \"#B0BEC5\", \"#B0BEC5\", \"#B0BEC5\", \"#B0BEC5\", \"#B0BEC5\", \"#B0BEC5\", \"#B0BEC5\", \"#B0BEC5\", \"#B0BEC5\", \"#B0BEC5\"]]}], \"label\": \"Topic 0\", \"method\": \"update\"}, {\"args\": [{\"marker.color\": [[\"#B0BEC5\", \"red\", \"#B0BEC5\", \"#B0BEC5\", \"#B0BEC5\", \"#B0BEC5\", \"#B0BEC5\", \"#B0BEC5\", \"#B0BEC5\", \"#B0BEC5\", \"#B0BEC5\", \"#B0BEC5\", \"#B0BEC5\", \"#B0BEC5\", \"#B0BEC5\", \"#B0BEC5\", \"#B0BEC5\", \"#B0BEC5\", \"#B0BEC5\", \"#B0BEC5\", \"#B0BEC5\", \"#B0BEC5\", \"#B0BEC5\", \"#B0BEC5\", \"#B0BEC5\", \"#B0BEC5\", \"#B0BEC5\", \"#B0BEC5\", \"#B0BEC5\", \"#B0BEC5\", \"#B0BEC5\", \"#B0BEC5\", \"#B0BEC5\", \"#B0BEC5\", \"#B0BEC5\", \"#B0BEC5\", \"#B0BEC5\", \"#B0BEC5\", \"#B0BEC5\", \"#B0BEC5\", \"#B0BEC5\", \"#B0BEC5\", \"#B0BEC5\", \"#B0BEC5\", \"#B0BEC5\", \"#B0BEC5\", \"#B0BEC5\", \"#B0BEC5\", \"#B0BEC5\", \"#B0BEC5\", \"#B0BEC5\", \"#B0BEC5\", \"#B0BEC5\", \"#B0BEC5\", \"#B0BEC5\", \"#B0BEC5\", \"#B0BEC5\", \"#B0BEC5\", \"#B0BEC5\", \"#B0BEC5\", \"#B0BEC5\", \"#B0BEC5\", \"#B0BEC5\", \"#B0BEC5\", \"#B0BEC5\", \"#B0BEC5\", \"#B0BEC5\", \"#B0BEC5\"]]}], \"label\": \"Topic 1\", \"method\": \"update\"}, {\"args\": [{\"marker.color\": [[\"#B0BEC5\", \"#B0BEC5\", \"red\", \"#B0BEC5\", \"#B0BEC5\", \"#B0BEC5\", \"#B0BEC5\", \"#B0BEC5\", \"#B0BEC5\", \"#B0BEC5\", \"#B0BEC5\", \"#B0BEC5\", \"#B0BEC5\", \"#B0BEC5\", \"#B0BEC5\", \"#B0BEC5\", \"#B0BEC5\", \"#B0BEC5\", \"#B0BEC5\", \"#B0BEC5\", \"#B0BEC5\", \"#B0BEC5\", \"#B0BEC5\", \"#B0BEC5\", \"#B0BEC5\", \"#B0BEC5\", \"#B0BEC5\", \"#B0BEC5\", \"#B0BEC5\", \"#B0BEC5\", \"#B0BEC5\", \"#B0BEC5\", \"#B0BEC5\", \"#B0BEC5\", \"#B0BEC5\", \"#B0BEC5\", \"#B0BEC5\", \"#B0BEC5\", \"#B0BEC5\", \"#B0BEC5\", \"#B0BEC5\", \"#B0BEC5\", \"#B0BEC5\", \"#B0BEC5\", \"#B0BEC5\", \"#B0BEC5\", \"#B0BEC5\", \"#B0BEC5\", \"#B0BEC5\", \"#B0BEC5\", \"#B0BEC5\", \"#B0BEC5\", \"#B0BEC5\", \"#B0BEC5\", \"#B0BEC5\", \"#B0BEC5\", \"#B0BEC5\", \"#B0BEC5\", \"#B0BEC5\", \"#B0BEC5\", \"#B0BEC5\", \"#B0BEC5\", \"#B0BEC5\", \"#B0BEC5\", \"#B0BEC5\", \"#B0BEC5\", \"#B0BEC5\", \"#B0BEC5\"]]}], \"label\": \"Topic 2\", \"method\": \"update\"}, {\"args\": [{\"marker.color\": [[\"#B0BEC5\", \"#B0BEC5\", \"#B0BEC5\", \"red\", \"#B0BEC5\", \"#B0BEC5\", \"#B0BEC5\", \"#B0BEC5\", \"#B0BEC5\", \"#B0BEC5\", \"#B0BEC5\", \"#B0BEC5\", \"#B0BEC5\", \"#B0BEC5\", \"#B0BEC5\", \"#B0BEC5\", \"#B0BEC5\", \"#B0BEC5\", \"#B0BEC5\", \"#B0BEC5\", \"#B0BEC5\", \"#B0BEC5\", \"#B0BEC5\", \"#B0BEC5\", \"#B0BEC5\", \"#B0BEC5\", \"#B0BEC5\", \"#B0BEC5\", \"#B0BEC5\", \"#B0BEC5\", \"#B0BEC5\", \"#B0BEC5\", \"#B0BEC5\", \"#B0BEC5\", \"#B0BEC5\", \"#B0BEC5\", \"#B0BEC5\", \"#B0BEC5\", \"#B0BEC5\", \"#B0BEC5\", \"#B0BEC5\", \"#B0BEC5\", \"#B0BEC5\", \"#B0BEC5\", \"#B0BEC5\", \"#B0BEC5\", \"#B0BEC5\", \"#B0BEC5\", \"#B0BEC5\", \"#B0BEC5\", \"#B0BEC5\", \"#B0BEC5\", \"#B0BEC5\", \"#B0BEC5\", \"#B0BEC5\", \"#B0BEC5\", \"#B0BEC5\", \"#B0BEC5\", \"#B0BEC5\", \"#B0BEC5\", \"#B0BEC5\", \"#B0BEC5\", \"#B0BEC5\", \"#B0BEC5\", \"#B0BEC5\", \"#B0BEC5\", \"#B0BEC5\", \"#B0BEC5\"]]}], \"label\": \"Topic 3\", \"method\": \"update\"}, {\"args\": [{\"marker.color\": [[\"#B0BEC5\", \"#B0BEC5\", \"#B0BEC5\", \"#B0BEC5\", \"red\", \"#B0BEC5\", \"#B0BEC5\", \"#B0BEC5\", \"#B0BEC5\", \"#B0BEC5\", \"#B0BEC5\", \"#B0BEC5\", \"#B0BEC5\", \"#B0BEC5\", \"#B0BEC5\", \"#B0BEC5\", \"#B0BEC5\", \"#B0BEC5\", \"#B0BEC5\", \"#B0BEC5\", \"#B0BEC5\", \"#B0BEC5\", \"#B0BEC5\", \"#B0BEC5\", \"#B0BEC5\", \"#B0BEC5\", \"#B0BEC5\", \"#B0BEC5\", \"#B0BEC5\", \"#B0BEC5\", \"#B0BEC5\", \"#B0BEC5\", \"#B0BEC5\", \"#B0BEC5\", \"#B0BEC5\", \"#B0BEC5\", \"#B0BEC5\", \"#B0BEC5\", \"#B0BEC5\", \"#B0BEC5\", \"#B0BEC5\", \"#B0BEC5\", \"#B0BEC5\", \"#B0BEC5\", \"#B0BEC5\", \"#B0BEC5\", \"#B0BEC5\", \"#B0BEC5\", \"#B0BEC5\", \"#B0BEC5\", \"#B0BEC5\", \"#B0BEC5\", \"#B0BEC5\", \"#B0BEC5\", \"#B0BEC5\", \"#B0BEC5\", \"#B0BEC5\", \"#B0BEC5\", \"#B0BEC5\", \"#B0BEC5\", \"#B0BEC5\", \"#B0BEC5\", \"#B0BEC5\", \"#B0BEC5\", \"#B0BEC5\", \"#B0BEC5\", \"#B0BEC5\", \"#B0BEC5\"]]}], \"label\": \"Topic 4\", \"method\": \"update\"}, {\"args\": [{\"marker.color\": [[\"#B0BEC5\", \"#B0BEC5\", \"#B0BEC5\", \"#B0BEC5\", \"#B0BEC5\", \"red\", \"#B0BEC5\", \"#B0BEC5\", \"#B0BEC5\", \"#B0BEC5\", \"#B0BEC5\", \"#B0BEC5\", \"#B0BEC5\", \"#B0BEC5\", \"#B0BEC5\", \"#B0BEC5\", \"#B0BEC5\", \"#B0BEC5\", \"#B0BEC5\", \"#B0BEC5\", \"#B0BEC5\", \"#B0BEC5\", \"#B0BEC5\", \"#B0BEC5\", \"#B0BEC5\", \"#B0BEC5\", \"#B0BEC5\", \"#B0BEC5\", \"#B0BEC5\", \"#B0BEC5\", \"#B0BEC5\", \"#B0BEC5\", \"#B0BEC5\", \"#B0BEC5\", \"#B0BEC5\", \"#B0BEC5\", \"#B0BEC5\", \"#B0BEC5\", \"#B0BEC5\", \"#B0BEC5\", \"#B0BEC5\", \"#B0BEC5\", \"#B0BEC5\", \"#B0BEC5\", \"#B0BEC5\", \"#B0BEC5\", \"#B0BEC5\", \"#B0BEC5\", \"#B0BEC5\", \"#B0BEC5\", \"#B0BEC5\", \"#B0BEC5\", \"#B0BEC5\", \"#B0BEC5\", \"#B0BEC5\", \"#B0BEC5\", \"#B0BEC5\", \"#B0BEC5\", \"#B0BEC5\", \"#B0BEC5\", \"#B0BEC5\", \"#B0BEC5\", \"#B0BEC5\", \"#B0BEC5\", \"#B0BEC5\", \"#B0BEC5\", \"#B0BEC5\", \"#B0BEC5\"]]}], \"label\": \"Topic 5\", \"method\": \"update\"}, {\"args\": [{\"marker.color\": [[\"#B0BEC5\", \"#B0BEC5\", \"#B0BEC5\", \"#B0BEC5\", \"#B0BEC5\", \"#B0BEC5\", \"red\", \"#B0BEC5\", \"#B0BEC5\", \"#B0BEC5\", \"#B0BEC5\", \"#B0BEC5\", \"#B0BEC5\", \"#B0BEC5\", \"#B0BEC5\", \"#B0BEC5\", \"#B0BEC5\", \"#B0BEC5\", \"#B0BEC5\", \"#B0BEC5\", \"#B0BEC5\", \"#B0BEC5\", \"#B0BEC5\", \"#B0BEC5\", \"#B0BEC5\", \"#B0BEC5\", \"#B0BEC5\", \"#B0BEC5\", \"#B0BEC5\", \"#B0BEC5\", \"#B0BEC5\", \"#B0BEC5\", \"#B0BEC5\", \"#B0BEC5\", \"#B0BEC5\", \"#B0BEC5\", \"#B0BEC5\", \"#B0BEC5\", \"#B0BEC5\", \"#B0BEC5\", \"#B0BEC5\", \"#B0BEC5\", \"#B0BEC5\", \"#B0BEC5\", \"#B0BEC5\", \"#B0BEC5\", \"#B0BEC5\", \"#B0BEC5\", \"#B0BEC5\", \"#B0BEC5\", \"#B0BEC5\", \"#B0BEC5\", \"#B0BEC5\", \"#B0BEC5\", \"#B0BEC5\", \"#B0BEC5\", \"#B0BEC5\", \"#B0BEC5\", \"#B0BEC5\", \"#B0BEC5\", \"#B0BEC5\", \"#B0BEC5\", \"#B0BEC5\", \"#B0BEC5\", \"#B0BEC5\", \"#B0BEC5\", \"#B0BEC5\", \"#B0BEC5\"]]}], \"label\": \"Topic 6\", \"method\": \"update\"}, {\"args\": [{\"marker.color\": [[\"#B0BEC5\", \"#B0BEC5\", \"#B0BEC5\", \"#B0BEC5\", \"#B0BEC5\", \"#B0BEC5\", \"#B0BEC5\", \"red\", \"#B0BEC5\", \"#B0BEC5\", \"#B0BEC5\", \"#B0BEC5\", \"#B0BEC5\", \"#B0BEC5\", \"#B0BEC5\", \"#B0BEC5\", \"#B0BEC5\", \"#B0BEC5\", \"#B0BEC5\", \"#B0BEC5\", \"#B0BEC5\", \"#B0BEC5\", \"#B0BEC5\", \"#B0BEC5\", \"#B0BEC5\", \"#B0BEC5\", \"#B0BEC5\", \"#B0BEC5\", \"#B0BEC5\", \"#B0BEC5\", \"#B0BEC5\", \"#B0BEC5\", \"#B0BEC5\", \"#B0BEC5\", \"#B0BEC5\", \"#B0BEC5\", \"#B0BEC5\", \"#B0BEC5\", \"#B0BEC5\", \"#B0BEC5\", \"#B0BEC5\", \"#B0BEC5\", \"#B0BEC5\", \"#B0BEC5\", \"#B0BEC5\", \"#B0BEC5\", \"#B0BEC5\", \"#B0BEC5\", \"#B0BEC5\", \"#B0BEC5\", \"#B0BEC5\", \"#B0BEC5\", \"#B0BEC5\", \"#B0BEC5\", \"#B0BEC5\", \"#B0BEC5\", \"#B0BEC5\", \"#B0BEC5\", \"#B0BEC5\", \"#B0BEC5\", \"#B0BEC5\", \"#B0BEC5\", \"#B0BEC5\", \"#B0BEC5\", \"#B0BEC5\", \"#B0BEC5\", \"#B0BEC5\", \"#B0BEC5\"]]}], \"label\": \"Topic 7\", \"method\": \"update\"}, {\"args\": [{\"marker.color\": [[\"#B0BEC5\", \"#B0BEC5\", \"#B0BEC5\", \"#B0BEC5\", \"#B0BEC5\", \"#B0BEC5\", \"#B0BEC5\", \"#B0BEC5\", \"red\", \"#B0BEC5\", \"#B0BEC5\", \"#B0BEC5\", \"#B0BEC5\", \"#B0BEC5\", \"#B0BEC5\", \"#B0BEC5\", \"#B0BEC5\", \"#B0BEC5\", \"#B0BEC5\", \"#B0BEC5\", \"#B0BEC5\", \"#B0BEC5\", \"#B0BEC5\", \"#B0BEC5\", \"#B0BEC5\", \"#B0BEC5\", \"#B0BEC5\", \"#B0BEC5\", \"#B0BEC5\", \"#B0BEC5\", \"#B0BEC5\", \"#B0BEC5\", \"#B0BEC5\", \"#B0BEC5\", \"#B0BEC5\", \"#B0BEC5\", \"#B0BEC5\", \"#B0BEC5\", \"#B0BEC5\", \"#B0BEC5\", \"#B0BEC5\", \"#B0BEC5\", \"#B0BEC5\", \"#B0BEC5\", \"#B0BEC5\", \"#B0BEC5\", \"#B0BEC5\", \"#B0BEC5\", \"#B0BEC5\", \"#B0BEC5\", \"#B0BEC5\", \"#B0BEC5\", \"#B0BEC5\", \"#B0BEC5\", \"#B0BEC5\", \"#B0BEC5\", \"#B0BEC5\", \"#B0BEC5\", \"#B0BEC5\", \"#B0BEC5\", \"#B0BEC5\", \"#B0BEC5\", \"#B0BEC5\", \"#B0BEC5\", \"#B0BEC5\", \"#B0BEC5\", \"#B0BEC5\", \"#B0BEC5\"]]}], \"label\": \"Topic 8\", \"method\": \"update\"}, {\"args\": [{\"marker.color\": [[\"#B0BEC5\", \"#B0BEC5\", \"#B0BEC5\", \"#B0BEC5\", \"#B0BEC5\", \"#B0BEC5\", \"#B0BEC5\", \"#B0BEC5\", \"#B0BEC5\", \"red\", \"#B0BEC5\", \"#B0BEC5\", \"#B0BEC5\", \"#B0BEC5\", \"#B0BEC5\", \"#B0BEC5\", \"#B0BEC5\", \"#B0BEC5\", \"#B0BEC5\", \"#B0BEC5\", \"#B0BEC5\", \"#B0BEC5\", \"#B0BEC5\", \"#B0BEC5\", \"#B0BEC5\", \"#B0BEC5\", \"#B0BEC5\", \"#B0BEC5\", \"#B0BEC5\", \"#B0BEC5\", \"#B0BEC5\", \"#B0BEC5\", \"#B0BEC5\", \"#B0BEC5\", \"#B0BEC5\", \"#B0BEC5\", \"#B0BEC5\", \"#B0BEC5\", \"#B0BEC5\", \"#B0BEC5\", \"#B0BEC5\", \"#B0BEC5\", \"#B0BEC5\", \"#B0BEC5\", \"#B0BEC5\", \"#B0BEC5\", \"#B0BEC5\", \"#B0BEC5\", \"#B0BEC5\", \"#B0BEC5\", \"#B0BEC5\", \"#B0BEC5\", \"#B0BEC5\", \"#B0BEC5\", \"#B0BEC5\", \"#B0BEC5\", \"#B0BEC5\", \"#B0BEC5\", \"#B0BEC5\", \"#B0BEC5\", \"#B0BEC5\", \"#B0BEC5\", \"#B0BEC5\", \"#B0BEC5\", \"#B0BEC5\", \"#B0BEC5\", \"#B0BEC5\", \"#B0BEC5\"]]}], \"label\": \"Topic 9\", \"method\": \"update\"}, {\"args\": [{\"marker.color\": [[\"#B0BEC5\", \"#B0BEC5\", \"#B0BEC5\", \"#B0BEC5\", \"#B0BEC5\", \"#B0BEC5\", \"#B0BEC5\", \"#B0BEC5\", \"#B0BEC5\", \"#B0BEC5\", \"red\", \"#B0BEC5\", \"#B0BEC5\", \"#B0BEC5\", \"#B0BEC5\", \"#B0BEC5\", \"#B0BEC5\", \"#B0BEC5\", \"#B0BEC5\", \"#B0BEC5\", \"#B0BEC5\", \"#B0BEC5\", \"#B0BEC5\", \"#B0BEC5\", \"#B0BEC5\", \"#B0BEC5\", \"#B0BEC5\", \"#B0BEC5\", \"#B0BEC5\", \"#B0BEC5\", \"#B0BEC5\", \"#B0BEC5\", \"#B0BEC5\", \"#B0BEC5\", \"#B0BEC5\", \"#B0BEC5\", \"#B0BEC5\", \"#B0BEC5\", \"#B0BEC5\", \"#B0BEC5\", \"#B0BEC5\", \"#B0BEC5\", \"#B0BEC5\", \"#B0BEC5\", \"#B0BEC5\", \"#B0BEC5\", \"#B0BEC5\", \"#B0BEC5\", \"#B0BEC5\", \"#B0BEC5\", \"#B0BEC5\", \"#B0BEC5\", \"#B0BEC5\", \"#B0BEC5\", \"#B0BEC5\", \"#B0BEC5\", \"#B0BEC5\", \"#B0BEC5\", \"#B0BEC5\", \"#B0BEC5\", \"#B0BEC5\", \"#B0BEC5\", \"#B0BEC5\", \"#B0BEC5\", \"#B0BEC5\", \"#B0BEC5\", \"#B0BEC5\", \"#B0BEC5\"]]}], \"label\": \"Topic 10\", \"method\": \"update\"}, {\"args\": [{\"marker.color\": [[\"#B0BEC5\", \"#B0BEC5\", \"#B0BEC5\", \"#B0BEC5\", \"#B0BEC5\", \"#B0BEC5\", \"#B0BEC5\", \"#B0BEC5\", \"#B0BEC5\", \"#B0BEC5\", \"#B0BEC5\", \"red\", \"#B0BEC5\", \"#B0BEC5\", \"#B0BEC5\", \"#B0BEC5\", \"#B0BEC5\", \"#B0BEC5\", \"#B0BEC5\", \"#B0BEC5\", \"#B0BEC5\", \"#B0BEC5\", \"#B0BEC5\", \"#B0BEC5\", \"#B0BEC5\", \"#B0BEC5\", \"#B0BEC5\", \"#B0BEC5\", \"#B0BEC5\", \"#B0BEC5\", \"#B0BEC5\", \"#B0BEC5\", \"#B0BEC5\", \"#B0BEC5\", \"#B0BEC5\", \"#B0BEC5\", \"#B0BEC5\", \"#B0BEC5\", \"#B0BEC5\", \"#B0BEC5\", \"#B0BEC5\", \"#B0BEC5\", \"#B0BEC5\", \"#B0BEC5\", \"#B0BEC5\", \"#B0BEC5\", \"#B0BEC5\", \"#B0BEC5\", \"#B0BEC5\", \"#B0BEC5\", \"#B0BEC5\", \"#B0BEC5\", \"#B0BEC5\", \"#B0BEC5\", \"#B0BEC5\", \"#B0BEC5\", \"#B0BEC5\", \"#B0BEC5\", \"#B0BEC5\", \"#B0BEC5\", \"#B0BEC5\", \"#B0BEC5\", \"#B0BEC5\", \"#B0BEC5\", \"#B0BEC5\", \"#B0BEC5\", \"#B0BEC5\", \"#B0BEC5\"]]}], \"label\": \"Topic 11\", \"method\": \"update\"}, {\"args\": [{\"marker.color\": [[\"#B0BEC5\", \"#B0BEC5\", \"#B0BEC5\", \"#B0BEC5\", \"#B0BEC5\", \"#B0BEC5\", \"#B0BEC5\", \"#B0BEC5\", \"#B0BEC5\", \"#B0BEC5\", \"#B0BEC5\", \"#B0BEC5\", \"red\", \"#B0BEC5\", \"#B0BEC5\", \"#B0BEC5\", \"#B0BEC5\", \"#B0BEC5\", \"#B0BEC5\", \"#B0BEC5\", \"#B0BEC5\", \"#B0BEC5\", \"#B0BEC5\", \"#B0BEC5\", \"#B0BEC5\", \"#B0BEC5\", \"#B0BEC5\", \"#B0BEC5\", \"#B0BEC5\", \"#B0BEC5\", \"#B0BEC5\", \"#B0BEC5\", \"#B0BEC5\", \"#B0BEC5\", \"#B0BEC5\", \"#B0BEC5\", \"#B0BEC5\", \"#B0BEC5\", \"#B0BEC5\", \"#B0BEC5\", \"#B0BEC5\", \"#B0BEC5\", \"#B0BEC5\", \"#B0BEC5\", \"#B0BEC5\", \"#B0BEC5\", \"#B0BEC5\", \"#B0BEC5\", \"#B0BEC5\", \"#B0BEC5\", \"#B0BEC5\", \"#B0BEC5\", \"#B0BEC5\", \"#B0BEC5\", \"#B0BEC5\", \"#B0BEC5\", \"#B0BEC5\", \"#B0BEC5\", \"#B0BEC5\", \"#B0BEC5\", \"#B0BEC5\", \"#B0BEC5\", \"#B0BEC5\", \"#B0BEC5\", \"#B0BEC5\", \"#B0BEC5\", \"#B0BEC5\", \"#B0BEC5\"]]}], \"label\": \"Topic 12\", \"method\": \"update\"}, {\"args\": [{\"marker.color\": [[\"#B0BEC5\", \"#B0BEC5\", \"#B0BEC5\", \"#B0BEC5\", \"#B0BEC5\", \"#B0BEC5\", \"#B0BEC5\", \"#B0BEC5\", \"#B0BEC5\", \"#B0BEC5\", \"#B0BEC5\", \"#B0BEC5\", \"#B0BEC5\", \"red\", \"#B0BEC5\", \"#B0BEC5\", \"#B0BEC5\", \"#B0BEC5\", \"#B0BEC5\", \"#B0BEC5\", \"#B0BEC5\", \"#B0BEC5\", \"#B0BEC5\", \"#B0BEC5\", \"#B0BEC5\", \"#B0BEC5\", \"#B0BEC5\", \"#B0BEC5\", \"#B0BEC5\", \"#B0BEC5\", \"#B0BEC5\", \"#B0BEC5\", \"#B0BEC5\", \"#B0BEC5\", \"#B0BEC5\", \"#B0BEC5\", \"#B0BEC5\", \"#B0BEC5\", \"#B0BEC5\", \"#B0BEC5\", \"#B0BEC5\", \"#B0BEC5\", \"#B0BEC5\", \"#B0BEC5\", \"#B0BEC5\", \"#B0BEC5\", \"#B0BEC5\", \"#B0BEC5\", \"#B0BEC5\", \"#B0BEC5\", \"#B0BEC5\", \"#B0BEC5\", \"#B0BEC5\", \"#B0BEC5\", \"#B0BEC5\", \"#B0BEC5\", \"#B0BEC5\", \"#B0BEC5\", \"#B0BEC5\", \"#B0BEC5\", \"#B0BEC5\", \"#B0BEC5\", \"#B0BEC5\", \"#B0BEC5\", \"#B0BEC5\", \"#B0BEC5\", \"#B0BEC5\", \"#B0BEC5\"]]}], \"label\": \"Topic 13\", \"method\": \"update\"}, {\"args\": [{\"marker.color\": [[\"#B0BEC5\", \"#B0BEC5\", \"#B0BEC5\", \"#B0BEC5\", \"#B0BEC5\", \"#B0BEC5\", \"#B0BEC5\", \"#B0BEC5\", \"#B0BEC5\", \"#B0BEC5\", \"#B0BEC5\", \"#B0BEC5\", \"#B0BEC5\", \"#B0BEC5\", \"red\", \"#B0BEC5\", \"#B0BEC5\", \"#B0BEC5\", \"#B0BEC5\", \"#B0BEC5\", \"#B0BEC5\", \"#B0BEC5\", \"#B0BEC5\", \"#B0BEC5\", \"#B0BEC5\", \"#B0BEC5\", \"#B0BEC5\", \"#B0BEC5\", \"#B0BEC5\", \"#B0BEC5\", \"#B0BEC5\", \"#B0BEC5\", \"#B0BEC5\", \"#B0BEC5\", \"#B0BEC5\", \"#B0BEC5\", \"#B0BEC5\", \"#B0BEC5\", \"#B0BEC5\", \"#B0BEC5\", \"#B0BEC5\", \"#B0BEC5\", \"#B0BEC5\", \"#B0BEC5\", \"#B0BEC5\", \"#B0BEC5\", \"#B0BEC5\", \"#B0BEC5\", \"#B0BEC5\", \"#B0BEC5\", \"#B0BEC5\", \"#B0BEC5\", \"#B0BEC5\", \"#B0BEC5\", \"#B0BEC5\", \"#B0BEC5\", \"#B0BEC5\", \"#B0BEC5\", \"#B0BEC5\", \"#B0BEC5\", \"#B0BEC5\", \"#B0BEC5\", \"#B0BEC5\", \"#B0BEC5\", \"#B0BEC5\", \"#B0BEC5\", \"#B0BEC5\", \"#B0BEC5\"]]}], \"label\": \"Topic 14\", \"method\": \"update\"}, {\"args\": [{\"marker.color\": [[\"#B0BEC5\", \"#B0BEC5\", \"#B0BEC5\", \"#B0BEC5\", \"#B0BEC5\", \"#B0BEC5\", \"#B0BEC5\", \"#B0BEC5\", \"#B0BEC5\", \"#B0BEC5\", \"#B0BEC5\", \"#B0BEC5\", \"#B0BEC5\", \"#B0BEC5\", \"#B0BEC5\", \"red\", \"#B0BEC5\", \"#B0BEC5\", \"#B0BEC5\", \"#B0BEC5\", \"#B0BEC5\", \"#B0BEC5\", \"#B0BEC5\", \"#B0BEC5\", \"#B0BEC5\", \"#B0BEC5\", \"#B0BEC5\", \"#B0BEC5\", \"#B0BEC5\", \"#B0BEC5\", \"#B0BEC5\", \"#B0BEC5\", \"#B0BEC5\", \"#B0BEC5\", \"#B0BEC5\", \"#B0BEC5\", \"#B0BEC5\", \"#B0BEC5\", \"#B0BEC5\", \"#B0BEC5\", \"#B0BEC5\", \"#B0BEC5\", \"#B0BEC5\", \"#B0BEC5\", \"#B0BEC5\", \"#B0BEC5\", \"#B0BEC5\", \"#B0BEC5\", \"#B0BEC5\", \"#B0BEC5\", \"#B0BEC5\", \"#B0BEC5\", \"#B0BEC5\", \"#B0BEC5\", \"#B0BEC5\", \"#B0BEC5\", \"#B0BEC5\", \"#B0BEC5\", \"#B0BEC5\", \"#B0BEC5\", \"#B0BEC5\", \"#B0BEC5\", \"#B0BEC5\", \"#B0BEC5\", \"#B0BEC5\", \"#B0BEC5\", \"#B0BEC5\", \"#B0BEC5\"]]}], \"label\": \"Topic 15\", \"method\": \"update\"}, {\"args\": [{\"marker.color\": [[\"#B0BEC5\", \"#B0BEC5\", \"#B0BEC5\", \"#B0BEC5\", \"#B0BEC5\", \"#B0BEC5\", \"#B0BEC5\", \"#B0BEC5\", \"#B0BEC5\", \"#B0BEC5\", \"#B0BEC5\", \"#B0BEC5\", \"#B0BEC5\", \"#B0BEC5\", \"#B0BEC5\", \"#B0BEC5\", \"red\", \"#B0BEC5\", \"#B0BEC5\", \"#B0BEC5\", \"#B0BEC5\", \"#B0BEC5\", \"#B0BEC5\", \"#B0BEC5\", \"#B0BEC5\", \"#B0BEC5\", \"#B0BEC5\", \"#B0BEC5\", \"#B0BEC5\", \"#B0BEC5\", \"#B0BEC5\", \"#B0BEC5\", \"#B0BEC5\", \"#B0BEC5\", \"#B0BEC5\", \"#B0BEC5\", \"#B0BEC5\", \"#B0BEC5\", \"#B0BEC5\", \"#B0BEC5\", \"#B0BEC5\", \"#B0BEC5\", \"#B0BEC5\", \"#B0BEC5\", \"#B0BEC5\", \"#B0BEC5\", \"#B0BEC5\", \"#B0BEC5\", \"#B0BEC5\", \"#B0BEC5\", \"#B0BEC5\", \"#B0BEC5\", \"#B0BEC5\", \"#B0BEC5\", \"#B0BEC5\", \"#B0BEC5\", \"#B0BEC5\", \"#B0BEC5\", \"#B0BEC5\", \"#B0BEC5\", \"#B0BEC5\", \"#B0BEC5\", \"#B0BEC5\", \"#B0BEC5\", \"#B0BEC5\", \"#B0BEC5\", \"#B0BEC5\", \"#B0BEC5\"]]}], \"label\": \"Topic 16\", \"method\": \"update\"}, {\"args\": [{\"marker.color\": [[\"#B0BEC5\", \"#B0BEC5\", \"#B0BEC5\", \"#B0BEC5\", \"#B0BEC5\", \"#B0BEC5\", \"#B0BEC5\", \"#B0BEC5\", \"#B0BEC5\", \"#B0BEC5\", \"#B0BEC5\", \"#B0BEC5\", \"#B0BEC5\", \"#B0BEC5\", \"#B0BEC5\", \"#B0BEC5\", \"#B0BEC5\", \"red\", \"#B0BEC5\", \"#B0BEC5\", \"#B0BEC5\", \"#B0BEC5\", \"#B0BEC5\", \"#B0BEC5\", \"#B0BEC5\", \"#B0BEC5\", \"#B0BEC5\", \"#B0BEC5\", \"#B0BEC5\", \"#B0BEC5\", \"#B0BEC5\", \"#B0BEC5\", \"#B0BEC5\", \"#B0BEC5\", \"#B0BEC5\", \"#B0BEC5\", \"#B0BEC5\", \"#B0BEC5\", \"#B0BEC5\", \"#B0BEC5\", \"#B0BEC5\", \"#B0BEC5\", \"#B0BEC5\", \"#B0BEC5\", \"#B0BEC5\", \"#B0BEC5\", \"#B0BEC5\", \"#B0BEC5\", \"#B0BEC5\", \"#B0BEC5\", \"#B0BEC5\", \"#B0BEC5\", \"#B0BEC5\", \"#B0BEC5\", \"#B0BEC5\", \"#B0BEC5\", \"#B0BEC5\", \"#B0BEC5\", \"#B0BEC5\", \"#B0BEC5\", \"#B0BEC5\", \"#B0BEC5\", \"#B0BEC5\", \"#B0BEC5\", \"#B0BEC5\", \"#B0BEC5\", \"#B0BEC5\", \"#B0BEC5\"]]}], \"label\": \"Topic 17\", \"method\": \"update\"}, {\"args\": [{\"marker.color\": [[\"#B0BEC5\", \"#B0BEC5\", \"#B0BEC5\", \"#B0BEC5\", \"#B0BEC5\", \"#B0BEC5\", \"#B0BEC5\", \"#B0BEC5\", \"#B0BEC5\", \"#B0BEC5\", \"#B0BEC5\", \"#B0BEC5\", \"#B0BEC5\", \"#B0BEC5\", \"#B0BEC5\", \"#B0BEC5\", \"#B0BEC5\", \"#B0BEC5\", \"red\", \"#B0BEC5\", \"#B0BEC5\", \"#B0BEC5\", \"#B0BEC5\", \"#B0BEC5\", \"#B0BEC5\", \"#B0BEC5\", \"#B0BEC5\", \"#B0BEC5\", \"#B0BEC5\", \"#B0BEC5\", \"#B0BEC5\", \"#B0BEC5\", \"#B0BEC5\", \"#B0BEC5\", \"#B0BEC5\", \"#B0BEC5\", \"#B0BEC5\", \"#B0BEC5\", \"#B0BEC5\", \"#B0BEC5\", \"#B0BEC5\", \"#B0BEC5\", \"#B0BEC5\", \"#B0BEC5\", \"#B0BEC5\", \"#B0BEC5\", \"#B0BEC5\", \"#B0BEC5\", \"#B0BEC5\", \"#B0BEC5\", \"#B0BEC5\", \"#B0BEC5\", \"#B0BEC5\", \"#B0BEC5\", \"#B0BEC5\", \"#B0BEC5\", \"#B0BEC5\", \"#B0BEC5\", \"#B0BEC5\", \"#B0BEC5\", \"#B0BEC5\", \"#B0BEC5\", \"#B0BEC5\", \"#B0BEC5\", \"#B0BEC5\", \"#B0BEC5\", \"#B0BEC5\", \"#B0BEC5\"]]}], \"label\": \"Topic 18\", \"method\": \"update\"}, {\"args\": [{\"marker.color\": [[\"#B0BEC5\", \"#B0BEC5\", \"#B0BEC5\", \"#B0BEC5\", \"#B0BEC5\", \"#B0BEC5\", \"#B0BEC5\", \"#B0BEC5\", \"#B0BEC5\", \"#B0BEC5\", \"#B0BEC5\", \"#B0BEC5\", \"#B0BEC5\", \"#B0BEC5\", \"#B0BEC5\", \"#B0BEC5\", \"#B0BEC5\", \"#B0BEC5\", \"#B0BEC5\", \"red\", \"#B0BEC5\", \"#B0BEC5\", \"#B0BEC5\", \"#B0BEC5\", \"#B0BEC5\", \"#B0BEC5\", \"#B0BEC5\", \"#B0BEC5\", \"#B0BEC5\", \"#B0BEC5\", \"#B0BEC5\", \"#B0BEC5\", \"#B0BEC5\", \"#B0BEC5\", \"#B0BEC5\", \"#B0BEC5\", \"#B0BEC5\", \"#B0BEC5\", \"#B0BEC5\", \"#B0BEC5\", \"#B0BEC5\", \"#B0BEC5\", \"#B0BEC5\", \"#B0BEC5\", \"#B0BEC5\", \"#B0BEC5\", \"#B0BEC5\", \"#B0BEC5\", \"#B0BEC5\", \"#B0BEC5\", \"#B0BEC5\", \"#B0BEC5\", \"#B0BEC5\", \"#B0BEC5\", \"#B0BEC5\", \"#B0BEC5\", \"#B0BEC5\", \"#B0BEC5\", \"#B0BEC5\", \"#B0BEC5\", \"#B0BEC5\", \"#B0BEC5\", \"#B0BEC5\", \"#B0BEC5\", \"#B0BEC5\", \"#B0BEC5\", \"#B0BEC5\", \"#B0BEC5\"]]}], \"label\": \"Topic 19\", \"method\": \"update\"}, {\"args\": [{\"marker.color\": [[\"#B0BEC5\", \"#B0BEC5\", \"#B0BEC5\", \"#B0BEC5\", \"#B0BEC5\", \"#B0BEC5\", \"#B0BEC5\", \"#B0BEC5\", \"#B0BEC5\", \"#B0BEC5\", \"#B0BEC5\", \"#B0BEC5\", \"#B0BEC5\", \"#B0BEC5\", \"#B0BEC5\", \"#B0BEC5\", \"#B0BEC5\", \"#B0BEC5\", \"#B0BEC5\", \"#B0BEC5\", \"red\", \"#B0BEC5\", \"#B0BEC5\", \"#B0BEC5\", \"#B0BEC5\", \"#B0BEC5\", \"#B0BEC5\", \"#B0BEC5\", \"#B0BEC5\", \"#B0BEC5\", \"#B0BEC5\", \"#B0BEC5\", \"#B0BEC5\", \"#B0BEC5\", \"#B0BEC5\", \"#B0BEC5\", \"#B0BEC5\", \"#B0BEC5\", \"#B0BEC5\", \"#B0BEC5\", \"#B0BEC5\", \"#B0BEC5\", \"#B0BEC5\", \"#B0BEC5\", \"#B0BEC5\", \"#B0BEC5\", \"#B0BEC5\", \"#B0BEC5\", \"#B0BEC5\", \"#B0BEC5\", \"#B0BEC5\", \"#B0BEC5\", \"#B0BEC5\", \"#B0BEC5\", \"#B0BEC5\", \"#B0BEC5\", \"#B0BEC5\", \"#B0BEC5\", \"#B0BEC5\", \"#B0BEC5\", \"#B0BEC5\", \"#B0BEC5\", \"#B0BEC5\", \"#B0BEC5\", \"#B0BEC5\", \"#B0BEC5\", \"#B0BEC5\", \"#B0BEC5\"]]}], \"label\": \"Topic 20\", \"method\": \"update\"}, {\"args\": [{\"marker.color\": [[\"#B0BEC5\", \"#B0BEC5\", \"#B0BEC5\", \"#B0BEC5\", \"#B0BEC5\", \"#B0BEC5\", \"#B0BEC5\", \"#B0BEC5\", \"#B0BEC5\", \"#B0BEC5\", \"#B0BEC5\", \"#B0BEC5\", \"#B0BEC5\", \"#B0BEC5\", \"#B0BEC5\", \"#B0BEC5\", \"#B0BEC5\", \"#B0BEC5\", \"#B0BEC5\", \"#B0BEC5\", \"#B0BEC5\", \"red\", \"#B0BEC5\", \"#B0BEC5\", \"#B0BEC5\", \"#B0BEC5\", \"#B0BEC5\", \"#B0BEC5\", \"#B0BEC5\", \"#B0BEC5\", \"#B0BEC5\", \"#B0BEC5\", \"#B0BEC5\", \"#B0BEC5\", \"#B0BEC5\", \"#B0BEC5\", \"#B0BEC5\", \"#B0BEC5\", \"#B0BEC5\", \"#B0BEC5\", \"#B0BEC5\", \"#B0BEC5\", \"#B0BEC5\", \"#B0BEC5\", \"#B0BEC5\", \"#B0BEC5\", \"#B0BEC5\", \"#B0BEC5\", \"#B0BEC5\", \"#B0BEC5\", \"#B0BEC5\", \"#B0BEC5\", \"#B0BEC5\", \"#B0BEC5\", \"#B0BEC5\", \"#B0BEC5\", \"#B0BEC5\", \"#B0BEC5\", \"#B0BEC5\", \"#B0BEC5\", \"#B0BEC5\", \"#B0BEC5\", \"#B0BEC5\", \"#B0BEC5\", \"#B0BEC5\", \"#B0BEC5\", \"#B0BEC5\", \"#B0BEC5\"]]}], \"label\": \"Topic 21\", \"method\": \"update\"}, {\"args\": [{\"marker.color\": [[\"#B0BEC5\", \"#B0BEC5\", \"#B0BEC5\", \"#B0BEC5\", \"#B0BEC5\", \"#B0BEC5\", \"#B0BEC5\", \"#B0BEC5\", \"#B0BEC5\", \"#B0BEC5\", \"#B0BEC5\", \"#B0BEC5\", \"#B0BEC5\", \"#B0BEC5\", \"#B0BEC5\", \"#B0BEC5\", \"#B0BEC5\", \"#B0BEC5\", \"#B0BEC5\", \"#B0BEC5\", \"#B0BEC5\", \"#B0BEC5\", \"red\", \"#B0BEC5\", \"#B0BEC5\", \"#B0BEC5\", \"#B0BEC5\", \"#B0BEC5\", \"#B0BEC5\", \"#B0BEC5\", \"#B0BEC5\", \"#B0BEC5\", \"#B0BEC5\", \"#B0BEC5\", \"#B0BEC5\", \"#B0BEC5\", \"#B0BEC5\", \"#B0BEC5\", \"#B0BEC5\", \"#B0BEC5\", \"#B0BEC5\", \"#B0BEC5\", \"#B0BEC5\", \"#B0BEC5\", \"#B0BEC5\", \"#B0BEC5\", \"#B0BEC5\", \"#B0BEC5\", \"#B0BEC5\", \"#B0BEC5\", \"#B0BEC5\", \"#B0BEC5\", \"#B0BEC5\", \"#B0BEC5\", \"#B0BEC5\", \"#B0BEC5\", \"#B0BEC5\", \"#B0BEC5\", \"#B0BEC5\", \"#B0BEC5\", \"#B0BEC5\", \"#B0BEC5\", \"#B0BEC5\", \"#B0BEC5\", \"#B0BEC5\", \"#B0BEC5\", \"#B0BEC5\", \"#B0BEC5\"]]}], \"label\": \"Topic 22\", \"method\": \"update\"}, {\"args\": [{\"marker.color\": [[\"#B0BEC5\", \"#B0BEC5\", \"#B0BEC5\", \"#B0BEC5\", \"#B0BEC5\", \"#B0BEC5\", \"#B0BEC5\", \"#B0BEC5\", \"#B0BEC5\", \"#B0BEC5\", \"#B0BEC5\", \"#B0BEC5\", \"#B0BEC5\", \"#B0BEC5\", \"#B0BEC5\", \"#B0BEC5\", \"#B0BEC5\", \"#B0BEC5\", \"#B0BEC5\", \"#B0BEC5\", \"#B0BEC5\", \"#B0BEC5\", \"#B0BEC5\", \"red\", \"#B0BEC5\", \"#B0BEC5\", \"#B0BEC5\", \"#B0BEC5\", \"#B0BEC5\", \"#B0BEC5\", \"#B0BEC5\", \"#B0BEC5\", \"#B0BEC5\", \"#B0BEC5\", \"#B0BEC5\", \"#B0BEC5\", \"#B0BEC5\", \"#B0BEC5\", \"#B0BEC5\", \"#B0BEC5\", \"#B0BEC5\", \"#B0BEC5\", \"#B0BEC5\", \"#B0BEC5\", \"#B0BEC5\", \"#B0BEC5\", \"#B0BEC5\", \"#B0BEC5\", \"#B0BEC5\", \"#B0BEC5\", \"#B0BEC5\", \"#B0BEC5\", \"#B0BEC5\", \"#B0BEC5\", \"#B0BEC5\", \"#B0BEC5\", \"#B0BEC5\", \"#B0BEC5\", \"#B0BEC5\", \"#B0BEC5\", \"#B0BEC5\", \"#B0BEC5\", \"#B0BEC5\", \"#B0BEC5\", \"#B0BEC5\", \"#B0BEC5\", \"#B0BEC5\", \"#B0BEC5\"]]}], \"label\": \"Topic 23\", \"method\": \"update\"}, {\"args\": [{\"marker.color\": [[\"#B0BEC5\", \"#B0BEC5\", \"#B0BEC5\", \"#B0BEC5\", \"#B0BEC5\", \"#B0BEC5\", \"#B0BEC5\", \"#B0BEC5\", \"#B0BEC5\", \"#B0BEC5\", \"#B0BEC5\", \"#B0BEC5\", \"#B0BEC5\", \"#B0BEC5\", \"#B0BEC5\", \"#B0BEC5\", \"#B0BEC5\", \"#B0BEC5\", \"#B0BEC5\", \"#B0BEC5\", \"#B0BEC5\", \"#B0BEC5\", \"#B0BEC5\", \"#B0BEC5\", \"red\", \"#B0BEC5\", \"#B0BEC5\", \"#B0BEC5\", \"#B0BEC5\", \"#B0BEC5\", \"#B0BEC5\", \"#B0BEC5\", \"#B0BEC5\", \"#B0BEC5\", \"#B0BEC5\", \"#B0BEC5\", \"#B0BEC5\", \"#B0BEC5\", \"#B0BEC5\", \"#B0BEC5\", \"#B0BEC5\", \"#B0BEC5\", \"#B0BEC5\", \"#B0BEC5\", \"#B0BEC5\", \"#B0BEC5\", \"#B0BEC5\", \"#B0BEC5\", \"#B0BEC5\", \"#B0BEC5\", \"#B0BEC5\", \"#B0BEC5\", \"#B0BEC5\", \"#B0BEC5\", \"#B0BEC5\", \"#B0BEC5\", \"#B0BEC5\", \"#B0BEC5\", \"#B0BEC5\", \"#B0BEC5\", \"#B0BEC5\", \"#B0BEC5\", \"#B0BEC5\", \"#B0BEC5\", \"#B0BEC5\", \"#B0BEC5\", \"#B0BEC5\", \"#B0BEC5\"]]}], \"label\": \"Topic 24\", \"method\": \"update\"}, {\"args\": [{\"marker.color\": [[\"#B0BEC5\", \"#B0BEC5\", \"#B0BEC5\", \"#B0BEC5\", \"#B0BEC5\", \"#B0BEC5\", \"#B0BEC5\", \"#B0BEC5\", \"#B0BEC5\", \"#B0BEC5\", \"#B0BEC5\", \"#B0BEC5\", \"#B0BEC5\", \"#B0BEC5\", \"#B0BEC5\", \"#B0BEC5\", \"#B0BEC5\", \"#B0BEC5\", \"#B0BEC5\", \"#B0BEC5\", \"#B0BEC5\", \"#B0BEC5\", \"#B0BEC5\", \"#B0BEC5\", \"#B0BEC5\", \"red\", \"#B0BEC5\", \"#B0BEC5\", \"#B0BEC5\", \"#B0BEC5\", \"#B0BEC5\", \"#B0BEC5\", \"#B0BEC5\", \"#B0BEC5\", \"#B0BEC5\", \"#B0BEC5\", \"#B0BEC5\", \"#B0BEC5\", \"#B0BEC5\", \"#B0BEC5\", \"#B0BEC5\", \"#B0BEC5\", \"#B0BEC5\", \"#B0BEC5\", \"#B0BEC5\", \"#B0BEC5\", \"#B0BEC5\", \"#B0BEC5\", \"#B0BEC5\", \"#B0BEC5\", \"#B0BEC5\", \"#B0BEC5\", \"#B0BEC5\", \"#B0BEC5\", \"#B0BEC5\", \"#B0BEC5\", \"#B0BEC5\", \"#B0BEC5\", \"#B0BEC5\", \"#B0BEC5\", \"#B0BEC5\", \"#B0BEC5\", \"#B0BEC5\", \"#B0BEC5\", \"#B0BEC5\", \"#B0BEC5\", \"#B0BEC5\", \"#B0BEC5\"]]}], \"label\": \"Topic 25\", \"method\": \"update\"}, {\"args\": [{\"marker.color\": [[\"#B0BEC5\", \"#B0BEC5\", \"#B0BEC5\", \"#B0BEC5\", \"#B0BEC5\", \"#B0BEC5\", \"#B0BEC5\", \"#B0BEC5\", \"#B0BEC5\", \"#B0BEC5\", \"#B0BEC5\", \"#B0BEC5\", \"#B0BEC5\", \"#B0BEC5\", \"#B0BEC5\", \"#B0BEC5\", \"#B0BEC5\", \"#B0BEC5\", \"#B0BEC5\", \"#B0BEC5\", \"#B0BEC5\", \"#B0BEC5\", \"#B0BEC5\", \"#B0BEC5\", \"#B0BEC5\", \"#B0BEC5\", \"red\", \"#B0BEC5\", \"#B0BEC5\", \"#B0BEC5\", \"#B0BEC5\", \"#B0BEC5\", \"#B0BEC5\", \"#B0BEC5\", \"#B0BEC5\", \"#B0BEC5\", \"#B0BEC5\", \"#B0BEC5\", \"#B0BEC5\", \"#B0BEC5\", \"#B0BEC5\", \"#B0BEC5\", \"#B0BEC5\", \"#B0BEC5\", \"#B0BEC5\", \"#B0BEC5\", \"#B0BEC5\", \"#B0BEC5\", \"#B0BEC5\", \"#B0BEC5\", \"#B0BEC5\", \"#B0BEC5\", \"#B0BEC5\", \"#B0BEC5\", \"#B0BEC5\", \"#B0BEC5\", \"#B0BEC5\", \"#B0BEC5\", \"#B0BEC5\", \"#B0BEC5\", \"#B0BEC5\", \"#B0BEC5\", \"#B0BEC5\", \"#B0BEC5\", \"#B0BEC5\", \"#B0BEC5\", \"#B0BEC5\", \"#B0BEC5\"]]}], \"label\": \"Topic 26\", \"method\": \"update\"}, {\"args\": [{\"marker.color\": [[\"#B0BEC5\", \"#B0BEC5\", \"#B0BEC5\", \"#B0BEC5\", \"#B0BEC5\", \"#B0BEC5\", \"#B0BEC5\", \"#B0BEC5\", \"#B0BEC5\", \"#B0BEC5\", \"#B0BEC5\", \"#B0BEC5\", \"#B0BEC5\", \"#B0BEC5\", \"#B0BEC5\", \"#B0BEC5\", \"#B0BEC5\", \"#B0BEC5\", \"#B0BEC5\", \"#B0BEC5\", \"#B0BEC5\", \"#B0BEC5\", \"#B0BEC5\", \"#B0BEC5\", \"#B0BEC5\", \"#B0BEC5\", \"#B0BEC5\", \"red\", \"#B0BEC5\", \"#B0BEC5\", \"#B0BEC5\", \"#B0BEC5\", \"#B0BEC5\", \"#B0BEC5\", \"#B0BEC5\", \"#B0BEC5\", \"#B0BEC5\", \"#B0BEC5\", \"#B0BEC5\", \"#B0BEC5\", \"#B0BEC5\", \"#B0BEC5\", \"#B0BEC5\", \"#B0BEC5\", \"#B0BEC5\", \"#B0BEC5\", \"#B0BEC5\", \"#B0BEC5\", \"#B0BEC5\", \"#B0BEC5\", \"#B0BEC5\", \"#B0BEC5\", \"#B0BEC5\", \"#B0BEC5\", \"#B0BEC5\", \"#B0BEC5\", \"#B0BEC5\", \"#B0BEC5\", \"#B0BEC5\", \"#B0BEC5\", \"#B0BEC5\", \"#B0BEC5\", \"#B0BEC5\", \"#B0BEC5\", \"#B0BEC5\", \"#B0BEC5\", \"#B0BEC5\", \"#B0BEC5\"]]}], \"label\": \"Topic 27\", \"method\": \"update\"}, {\"args\": [{\"marker.color\": [[\"#B0BEC5\", \"#B0BEC5\", \"#B0BEC5\", \"#B0BEC5\", \"#B0BEC5\", \"#B0BEC5\", \"#B0BEC5\", \"#B0BEC5\", \"#B0BEC5\", \"#B0BEC5\", \"#B0BEC5\", \"#B0BEC5\", \"#B0BEC5\", \"#B0BEC5\", \"#B0BEC5\", \"#B0BEC5\", \"#B0BEC5\", \"#B0BEC5\", \"#B0BEC5\", \"#B0BEC5\", \"#B0BEC5\", \"#B0BEC5\", \"#B0BEC5\", \"#B0BEC5\", \"#B0BEC5\", \"#B0BEC5\", \"#B0BEC5\", \"#B0BEC5\", \"red\", \"#B0BEC5\", \"#B0BEC5\", \"#B0BEC5\", \"#B0BEC5\", \"#B0BEC5\", \"#B0BEC5\", \"#B0BEC5\", \"#B0BEC5\", \"#B0BEC5\", \"#B0BEC5\", \"#B0BEC5\", \"#B0BEC5\", \"#B0BEC5\", \"#B0BEC5\", \"#B0BEC5\", \"#B0BEC5\", \"#B0BEC5\", \"#B0BEC5\", \"#B0BEC5\", \"#B0BEC5\", \"#B0BEC5\", \"#B0BEC5\", \"#B0BEC5\", \"#B0BEC5\", \"#B0BEC5\", \"#B0BEC5\", \"#B0BEC5\", \"#B0BEC5\", \"#B0BEC5\", \"#B0BEC5\", \"#B0BEC5\", \"#B0BEC5\", \"#B0BEC5\", \"#B0BEC5\", \"#B0BEC5\", \"#B0BEC5\", \"#B0BEC5\", \"#B0BEC5\", \"#B0BEC5\"]]}], \"label\": \"Topic 28\", \"method\": \"update\"}, {\"args\": [{\"marker.color\": [[\"#B0BEC5\", \"#B0BEC5\", \"#B0BEC5\", \"#B0BEC5\", \"#B0BEC5\", \"#B0BEC5\", \"#B0BEC5\", \"#B0BEC5\", \"#B0BEC5\", \"#B0BEC5\", \"#B0BEC5\", \"#B0BEC5\", \"#B0BEC5\", \"#B0BEC5\", \"#B0BEC5\", \"#B0BEC5\", \"#B0BEC5\", \"#B0BEC5\", \"#B0BEC5\", \"#B0BEC5\", \"#B0BEC5\", \"#B0BEC5\", \"#B0BEC5\", \"#B0BEC5\", \"#B0BEC5\", \"#B0BEC5\", \"#B0BEC5\", \"#B0BEC5\", \"#B0BEC5\", \"red\", \"#B0BEC5\", \"#B0BEC5\", \"#B0BEC5\", \"#B0BEC5\", \"#B0BEC5\", \"#B0BEC5\", \"#B0BEC5\", \"#B0BEC5\", \"#B0BEC5\", \"#B0BEC5\", \"#B0BEC5\", \"#B0BEC5\", \"#B0BEC5\", \"#B0BEC5\", \"#B0BEC5\", \"#B0BEC5\", \"#B0BEC5\", \"#B0BEC5\", \"#B0BEC5\", \"#B0BEC5\", \"#B0BEC5\", \"#B0BEC5\", \"#B0BEC5\", \"#B0BEC5\", \"#B0BEC5\", \"#B0BEC5\", \"#B0BEC5\", \"#B0BEC5\", \"#B0BEC5\", \"#B0BEC5\", \"#B0BEC5\", \"#B0BEC5\", \"#B0BEC5\", \"#B0BEC5\", \"#B0BEC5\", \"#B0BEC5\", \"#B0BEC5\", \"#B0BEC5\"]]}], \"label\": \"Topic 29\", \"method\": \"update\"}, {\"args\": [{\"marker.color\": [[\"#B0BEC5\", \"#B0BEC5\", \"#B0BEC5\", \"#B0BEC5\", \"#B0BEC5\", \"#B0BEC5\", \"#B0BEC5\", \"#B0BEC5\", \"#B0BEC5\", \"#B0BEC5\", \"#B0BEC5\", \"#B0BEC5\", \"#B0BEC5\", \"#B0BEC5\", \"#B0BEC5\", \"#B0BEC5\", \"#B0BEC5\", \"#B0BEC5\", \"#B0BEC5\", \"#B0BEC5\", \"#B0BEC5\", \"#B0BEC5\", \"#B0BEC5\", \"#B0BEC5\", \"#B0BEC5\", \"#B0BEC5\", \"#B0BEC5\", \"#B0BEC5\", \"#B0BEC5\", \"#B0BEC5\", \"red\", \"#B0BEC5\", \"#B0BEC5\", \"#B0BEC5\", \"#B0BEC5\", \"#B0BEC5\", \"#B0BEC5\", \"#B0BEC5\", \"#B0BEC5\", \"#B0BEC5\", \"#B0BEC5\", \"#B0BEC5\", \"#B0BEC5\", \"#B0BEC5\", \"#B0BEC5\", \"#B0BEC5\", \"#B0BEC5\", \"#B0BEC5\", \"#B0BEC5\", \"#B0BEC5\", \"#B0BEC5\", \"#B0BEC5\", \"#B0BEC5\", \"#B0BEC5\", \"#B0BEC5\", \"#B0BEC5\", \"#B0BEC5\", \"#B0BEC5\", \"#B0BEC5\", \"#B0BEC5\", \"#B0BEC5\", \"#B0BEC5\", \"#B0BEC5\", \"#B0BEC5\", \"#B0BEC5\", \"#B0BEC5\", \"#B0BEC5\", \"#B0BEC5\"]]}], \"label\": \"Topic 30\", \"method\": \"update\"}, {\"args\": [{\"marker.color\": [[\"#B0BEC5\", \"#B0BEC5\", \"#B0BEC5\", \"#B0BEC5\", \"#B0BEC5\", \"#B0BEC5\", \"#B0BEC5\", \"#B0BEC5\", \"#B0BEC5\", \"#B0BEC5\", \"#B0BEC5\", \"#B0BEC5\", \"#B0BEC5\", \"#B0BEC5\", \"#B0BEC5\", \"#B0BEC5\", \"#B0BEC5\", \"#B0BEC5\", \"#B0BEC5\", \"#B0BEC5\", \"#B0BEC5\", \"#B0BEC5\", \"#B0BEC5\", \"#B0BEC5\", \"#B0BEC5\", \"#B0BEC5\", \"#B0BEC5\", \"#B0BEC5\", \"#B0BEC5\", \"#B0BEC5\", \"#B0BEC5\", \"red\", \"#B0BEC5\", \"#B0BEC5\", \"#B0BEC5\", \"#B0BEC5\", \"#B0BEC5\", \"#B0BEC5\", \"#B0BEC5\", \"#B0BEC5\", \"#B0BEC5\", \"#B0BEC5\", \"#B0BEC5\", \"#B0BEC5\", \"#B0BEC5\", \"#B0BEC5\", \"#B0BEC5\", \"#B0BEC5\", \"#B0BEC5\", \"#B0BEC5\", \"#B0BEC5\", \"#B0BEC5\", \"#B0BEC5\", \"#B0BEC5\", \"#B0BEC5\", \"#B0BEC5\", \"#B0BEC5\", \"#B0BEC5\", \"#B0BEC5\", \"#B0BEC5\", \"#B0BEC5\", \"#B0BEC5\", \"#B0BEC5\", \"#B0BEC5\", \"#B0BEC5\", \"#B0BEC5\", \"#B0BEC5\", \"#B0BEC5\"]]}], \"label\": \"Topic 31\", \"method\": \"update\"}, {\"args\": [{\"marker.color\": [[\"#B0BEC5\", \"#B0BEC5\", \"#B0BEC5\", \"#B0BEC5\", \"#B0BEC5\", \"#B0BEC5\", \"#B0BEC5\", \"#B0BEC5\", \"#B0BEC5\", \"#B0BEC5\", \"#B0BEC5\", \"#B0BEC5\", \"#B0BEC5\", \"#B0BEC5\", \"#B0BEC5\", \"#B0BEC5\", \"#B0BEC5\", \"#B0BEC5\", \"#B0BEC5\", \"#B0BEC5\", \"#B0BEC5\", \"#B0BEC5\", \"#B0BEC5\", \"#B0BEC5\", \"#B0BEC5\", \"#B0BEC5\", \"#B0BEC5\", \"#B0BEC5\", \"#B0BEC5\", \"#B0BEC5\", \"#B0BEC5\", \"#B0BEC5\", \"red\", \"#B0BEC5\", \"#B0BEC5\", \"#B0BEC5\", \"#B0BEC5\", \"#B0BEC5\", \"#B0BEC5\", \"#B0BEC5\", \"#B0BEC5\", \"#B0BEC5\", \"#B0BEC5\", \"#B0BEC5\", \"#B0BEC5\", \"#B0BEC5\", \"#B0BEC5\", \"#B0BEC5\", \"#B0BEC5\", \"#B0BEC5\", \"#B0BEC5\", \"#B0BEC5\", \"#B0BEC5\", \"#B0BEC5\", \"#B0BEC5\", \"#B0BEC5\", \"#B0BEC5\", \"#B0BEC5\", \"#B0BEC5\", \"#B0BEC5\", \"#B0BEC5\", \"#B0BEC5\", \"#B0BEC5\", \"#B0BEC5\", \"#B0BEC5\", \"#B0BEC5\", \"#B0BEC5\", \"#B0BEC5\"]]}], \"label\": \"Topic 32\", \"method\": \"update\"}, {\"args\": [{\"marker.color\": [[\"#B0BEC5\", \"#B0BEC5\", \"#B0BEC5\", \"#B0BEC5\", \"#B0BEC5\", \"#B0BEC5\", \"#B0BEC5\", \"#B0BEC5\", \"#B0BEC5\", \"#B0BEC5\", \"#B0BEC5\", \"#B0BEC5\", \"#B0BEC5\", \"#B0BEC5\", \"#B0BEC5\", \"#B0BEC5\", \"#B0BEC5\", \"#B0BEC5\", \"#B0BEC5\", \"#B0BEC5\", \"#B0BEC5\", \"#B0BEC5\", \"#B0BEC5\", \"#B0BEC5\", \"#B0BEC5\", \"#B0BEC5\", \"#B0BEC5\", \"#B0BEC5\", \"#B0BEC5\", \"#B0BEC5\", \"#B0BEC5\", \"#B0BEC5\", \"#B0BEC5\", \"red\", \"#B0BEC5\", \"#B0BEC5\", \"#B0BEC5\", \"#B0BEC5\", \"#B0BEC5\", \"#B0BEC5\", \"#B0BEC5\", \"#B0BEC5\", \"#B0BEC5\", \"#B0BEC5\", \"#B0BEC5\", \"#B0BEC5\", \"#B0BEC5\", \"#B0BEC5\", \"#B0BEC5\", \"#B0BEC5\", \"#B0BEC5\", \"#B0BEC5\", \"#B0BEC5\", \"#B0BEC5\", \"#B0BEC5\", \"#B0BEC5\", \"#B0BEC5\", \"#B0BEC5\", \"#B0BEC5\", \"#B0BEC5\", \"#B0BEC5\", \"#B0BEC5\", \"#B0BEC5\", \"#B0BEC5\", \"#B0BEC5\", \"#B0BEC5\", \"#B0BEC5\", \"#B0BEC5\"]]}], \"label\": \"Topic 33\", \"method\": \"update\"}, {\"args\": [{\"marker.color\": [[\"#B0BEC5\", \"#B0BEC5\", \"#B0BEC5\", \"#B0BEC5\", \"#B0BEC5\", \"#B0BEC5\", \"#B0BEC5\", \"#B0BEC5\", \"#B0BEC5\", \"#B0BEC5\", \"#B0BEC5\", \"#B0BEC5\", \"#B0BEC5\", \"#B0BEC5\", \"#B0BEC5\", \"#B0BEC5\", \"#B0BEC5\", \"#B0BEC5\", \"#B0BEC5\", \"#B0BEC5\", \"#B0BEC5\", \"#B0BEC5\", \"#B0BEC5\", \"#B0BEC5\", \"#B0BEC5\", \"#B0BEC5\", \"#B0BEC5\", \"#B0BEC5\", \"#B0BEC5\", \"#B0BEC5\", \"#B0BEC5\", \"#B0BEC5\", \"#B0BEC5\", \"#B0BEC5\", \"red\", \"#B0BEC5\", \"#B0BEC5\", \"#B0BEC5\", \"#B0BEC5\", \"#B0BEC5\", \"#B0BEC5\", \"#B0BEC5\", \"#B0BEC5\", \"#B0BEC5\", \"#B0BEC5\", \"#B0BEC5\", \"#B0BEC5\", \"#B0BEC5\", \"#B0BEC5\", \"#B0BEC5\", \"#B0BEC5\", \"#B0BEC5\", \"#B0BEC5\", \"#B0BEC5\", \"#B0BEC5\", \"#B0BEC5\", \"#B0BEC5\", \"#B0BEC5\", \"#B0BEC5\", \"#B0BEC5\", \"#B0BEC5\", \"#B0BEC5\", \"#B0BEC5\", \"#B0BEC5\", \"#B0BEC5\", \"#B0BEC5\", \"#B0BEC5\", \"#B0BEC5\"]]}], \"label\": \"Topic 34\", \"method\": \"update\"}, {\"args\": [{\"marker.color\": [[\"#B0BEC5\", \"#B0BEC5\", \"#B0BEC5\", \"#B0BEC5\", \"#B0BEC5\", \"#B0BEC5\", \"#B0BEC5\", \"#B0BEC5\", \"#B0BEC5\", \"#B0BEC5\", \"#B0BEC5\", \"#B0BEC5\", \"#B0BEC5\", \"#B0BEC5\", \"#B0BEC5\", \"#B0BEC5\", \"#B0BEC5\", \"#B0BEC5\", \"#B0BEC5\", \"#B0BEC5\", \"#B0BEC5\", \"#B0BEC5\", \"#B0BEC5\", \"#B0BEC5\", \"#B0BEC5\", \"#B0BEC5\", \"#B0BEC5\", \"#B0BEC5\", \"#B0BEC5\", \"#B0BEC5\", \"#B0BEC5\", \"#B0BEC5\", \"#B0BEC5\", \"#B0BEC5\", \"#B0BEC5\", \"red\", \"#B0BEC5\", \"#B0BEC5\", \"#B0BEC5\", \"#B0BEC5\", \"#B0BEC5\", \"#B0BEC5\", \"#B0BEC5\", \"#B0BEC5\", \"#B0BEC5\", \"#B0BEC5\", \"#B0BEC5\", \"#B0BEC5\", \"#B0BEC5\", \"#B0BEC5\", \"#B0BEC5\", \"#B0BEC5\", \"#B0BEC5\", \"#B0BEC5\", \"#B0BEC5\", \"#B0BEC5\", \"#B0BEC5\", \"#B0BEC5\", \"#B0BEC5\", \"#B0BEC5\", \"#B0BEC5\", \"#B0BEC5\", \"#B0BEC5\", \"#B0BEC5\", \"#B0BEC5\", \"#B0BEC5\", \"#B0BEC5\", \"#B0BEC5\"]]}], \"label\": \"Topic 35\", \"method\": \"update\"}, {\"args\": [{\"marker.color\": [[\"#B0BEC5\", \"#B0BEC5\", \"#B0BEC5\", \"#B0BEC5\", \"#B0BEC5\", \"#B0BEC5\", \"#B0BEC5\", \"#B0BEC5\", \"#B0BEC5\", \"#B0BEC5\", \"#B0BEC5\", \"#B0BEC5\", \"#B0BEC5\", \"#B0BEC5\", \"#B0BEC5\", \"#B0BEC5\", \"#B0BEC5\", \"#B0BEC5\", \"#B0BEC5\", \"#B0BEC5\", \"#B0BEC5\", \"#B0BEC5\", \"#B0BEC5\", \"#B0BEC5\", \"#B0BEC5\", \"#B0BEC5\", \"#B0BEC5\", \"#B0BEC5\", \"#B0BEC5\", \"#B0BEC5\", \"#B0BEC5\", \"#B0BEC5\", \"#B0BEC5\", \"#B0BEC5\", \"#B0BEC5\", \"#B0BEC5\", \"red\", \"#B0BEC5\", \"#B0BEC5\", \"#B0BEC5\", \"#B0BEC5\", \"#B0BEC5\", \"#B0BEC5\", \"#B0BEC5\", \"#B0BEC5\", \"#B0BEC5\", \"#B0BEC5\", \"#B0BEC5\", \"#B0BEC5\", \"#B0BEC5\", \"#B0BEC5\", \"#B0BEC5\", \"#B0BEC5\", \"#B0BEC5\", \"#B0BEC5\", \"#B0BEC5\", \"#B0BEC5\", \"#B0BEC5\", \"#B0BEC5\", \"#B0BEC5\", \"#B0BEC5\", \"#B0BEC5\", \"#B0BEC5\", \"#B0BEC5\", \"#B0BEC5\", \"#B0BEC5\", \"#B0BEC5\", \"#B0BEC5\"]]}], \"label\": \"Topic 36\", \"method\": \"update\"}, {\"args\": [{\"marker.color\": [[\"#B0BEC5\", \"#B0BEC5\", \"#B0BEC5\", \"#B0BEC5\", \"#B0BEC5\", \"#B0BEC5\", \"#B0BEC5\", \"#B0BEC5\", \"#B0BEC5\", \"#B0BEC5\", \"#B0BEC5\", \"#B0BEC5\", \"#B0BEC5\", \"#B0BEC5\", \"#B0BEC5\", \"#B0BEC5\", \"#B0BEC5\", \"#B0BEC5\", \"#B0BEC5\", \"#B0BEC5\", \"#B0BEC5\", \"#B0BEC5\", \"#B0BEC5\", \"#B0BEC5\", \"#B0BEC5\", \"#B0BEC5\", \"#B0BEC5\", \"#B0BEC5\", \"#B0BEC5\", \"#B0BEC5\", \"#B0BEC5\", \"#B0BEC5\", \"#B0BEC5\", \"#B0BEC5\", \"#B0BEC5\", \"#B0BEC5\", \"#B0BEC5\", \"red\", \"#B0BEC5\", \"#B0BEC5\", \"#B0BEC5\", \"#B0BEC5\", \"#B0BEC5\", \"#B0BEC5\", \"#B0BEC5\", \"#B0BEC5\", \"#B0BEC5\", \"#B0BEC5\", \"#B0BEC5\", \"#B0BEC5\", \"#B0BEC5\", \"#B0BEC5\", \"#B0BEC5\", \"#B0BEC5\", \"#B0BEC5\", \"#B0BEC5\", \"#B0BEC5\", \"#B0BEC5\", \"#B0BEC5\", \"#B0BEC5\", \"#B0BEC5\", \"#B0BEC5\", \"#B0BEC5\", \"#B0BEC5\", \"#B0BEC5\", \"#B0BEC5\", \"#B0BEC5\", \"#B0BEC5\"]]}], \"label\": \"Topic 37\", \"method\": \"update\"}, {\"args\": [{\"marker.color\": [[\"#B0BEC5\", \"#B0BEC5\", \"#B0BEC5\", \"#B0BEC5\", \"#B0BEC5\", \"#B0BEC5\", \"#B0BEC5\", \"#B0BEC5\", \"#B0BEC5\", \"#B0BEC5\", \"#B0BEC5\", \"#B0BEC5\", \"#B0BEC5\", \"#B0BEC5\", \"#B0BEC5\", \"#B0BEC5\", \"#B0BEC5\", \"#B0BEC5\", \"#B0BEC5\", \"#B0BEC5\", \"#B0BEC5\", \"#B0BEC5\", \"#B0BEC5\", \"#B0BEC5\", \"#B0BEC5\", \"#B0BEC5\", \"#B0BEC5\", \"#B0BEC5\", \"#B0BEC5\", \"#B0BEC5\", \"#B0BEC5\", \"#B0BEC5\", \"#B0BEC5\", \"#B0BEC5\", \"#B0BEC5\", \"#B0BEC5\", \"#B0BEC5\", \"#B0BEC5\", \"red\", \"#B0BEC5\", \"#B0BEC5\", \"#B0BEC5\", \"#B0BEC5\", \"#B0BEC5\", \"#B0BEC5\", \"#B0BEC5\", \"#B0BEC5\", \"#B0BEC5\", \"#B0BEC5\", \"#B0BEC5\", \"#B0BEC5\", \"#B0BEC5\", \"#B0BEC5\", \"#B0BEC5\", \"#B0BEC5\", \"#B0BEC5\", \"#B0BEC5\", \"#B0BEC5\", \"#B0BEC5\", \"#B0BEC5\", \"#B0BEC5\", \"#B0BEC5\", \"#B0BEC5\", \"#B0BEC5\", \"#B0BEC5\", \"#B0BEC5\", \"#B0BEC5\", \"#B0BEC5\"]]}], \"label\": \"Topic 38\", \"method\": \"update\"}, {\"args\": [{\"marker.color\": [[\"#B0BEC5\", \"#B0BEC5\", \"#B0BEC5\", \"#B0BEC5\", \"#B0BEC5\", \"#B0BEC5\", \"#B0BEC5\", \"#B0BEC5\", \"#B0BEC5\", \"#B0BEC5\", \"#B0BEC5\", \"#B0BEC5\", \"#B0BEC5\", \"#B0BEC5\", \"#B0BEC5\", \"#B0BEC5\", \"#B0BEC5\", \"#B0BEC5\", \"#B0BEC5\", \"#B0BEC5\", \"#B0BEC5\", \"#B0BEC5\", \"#B0BEC5\", \"#B0BEC5\", \"#B0BEC5\", \"#B0BEC5\", \"#B0BEC5\", \"#B0BEC5\", \"#B0BEC5\", \"#B0BEC5\", \"#B0BEC5\", \"#B0BEC5\", \"#B0BEC5\", \"#B0BEC5\", \"#B0BEC5\", \"#B0BEC5\", \"#B0BEC5\", \"#B0BEC5\", \"#B0BEC5\", \"red\", \"#B0BEC5\", \"#B0BEC5\", \"#B0BEC5\", \"#B0BEC5\", \"#B0BEC5\", \"#B0BEC5\", \"#B0BEC5\", \"#B0BEC5\", \"#B0BEC5\", \"#B0BEC5\", \"#B0BEC5\", \"#B0BEC5\", \"#B0BEC5\", \"#B0BEC5\", \"#B0BEC5\", \"#B0BEC5\", \"#B0BEC5\", \"#B0BEC5\", \"#B0BEC5\", \"#B0BEC5\", \"#B0BEC5\", \"#B0BEC5\", \"#B0BEC5\", \"#B0BEC5\", \"#B0BEC5\", \"#B0BEC5\", \"#B0BEC5\", \"#B0BEC5\"]]}], \"label\": \"Topic 39\", \"method\": \"update\"}, {\"args\": [{\"marker.color\": [[\"#B0BEC5\", \"#B0BEC5\", \"#B0BEC5\", \"#B0BEC5\", \"#B0BEC5\", \"#B0BEC5\", \"#B0BEC5\", \"#B0BEC5\", \"#B0BEC5\", \"#B0BEC5\", \"#B0BEC5\", \"#B0BEC5\", \"#B0BEC5\", \"#B0BEC5\", \"#B0BEC5\", \"#B0BEC5\", \"#B0BEC5\", \"#B0BEC5\", \"#B0BEC5\", \"#B0BEC5\", \"#B0BEC5\", \"#B0BEC5\", \"#B0BEC5\", \"#B0BEC5\", \"#B0BEC5\", \"#B0BEC5\", \"#B0BEC5\", \"#B0BEC5\", \"#B0BEC5\", \"#B0BEC5\", \"#B0BEC5\", \"#B0BEC5\", \"#B0BEC5\", \"#B0BEC5\", \"#B0BEC5\", \"#B0BEC5\", \"#B0BEC5\", \"#B0BEC5\", \"#B0BEC5\", \"#B0BEC5\", \"red\", \"#B0BEC5\", \"#B0BEC5\", \"#B0BEC5\", \"#B0BEC5\", \"#B0BEC5\", \"#B0BEC5\", \"#B0BEC5\", \"#B0BEC5\", \"#B0BEC5\", \"#B0BEC5\", \"#B0BEC5\", \"#B0BEC5\", \"#B0BEC5\", \"#B0BEC5\", \"#B0BEC5\", \"#B0BEC5\", \"#B0BEC5\", \"#B0BEC5\", \"#B0BEC5\", \"#B0BEC5\", \"#B0BEC5\", \"#B0BEC5\", \"#B0BEC5\", \"#B0BEC5\", \"#B0BEC5\", \"#B0BEC5\", \"#B0BEC5\"]]}], \"label\": \"Topic 40\", \"method\": \"update\"}, {\"args\": [{\"marker.color\": [[\"#B0BEC5\", \"#B0BEC5\", \"#B0BEC5\", \"#B0BEC5\", \"#B0BEC5\", \"#B0BEC5\", \"#B0BEC5\", \"#B0BEC5\", \"#B0BEC5\", \"#B0BEC5\", \"#B0BEC5\", \"#B0BEC5\", \"#B0BEC5\", \"#B0BEC5\", \"#B0BEC5\", \"#B0BEC5\", \"#B0BEC5\", \"#B0BEC5\", \"#B0BEC5\", \"#B0BEC5\", \"#B0BEC5\", \"#B0BEC5\", \"#B0BEC5\", \"#B0BEC5\", \"#B0BEC5\", \"#B0BEC5\", \"#B0BEC5\", \"#B0BEC5\", \"#B0BEC5\", \"#B0BEC5\", \"#B0BEC5\", \"#B0BEC5\", \"#B0BEC5\", \"#B0BEC5\", \"#B0BEC5\", \"#B0BEC5\", \"#B0BEC5\", \"#B0BEC5\", \"#B0BEC5\", \"#B0BEC5\", \"#B0BEC5\", \"red\", \"#B0BEC5\", \"#B0BEC5\", \"#B0BEC5\", \"#B0BEC5\", \"#B0BEC5\", \"#B0BEC5\", \"#B0BEC5\", \"#B0BEC5\", \"#B0BEC5\", \"#B0BEC5\", \"#B0BEC5\", \"#B0BEC5\", \"#B0BEC5\", \"#B0BEC5\", \"#B0BEC5\", \"#B0BEC5\", \"#B0BEC5\", \"#B0BEC5\", \"#B0BEC5\", \"#B0BEC5\", \"#B0BEC5\", \"#B0BEC5\", \"#B0BEC5\", \"#B0BEC5\", \"#B0BEC5\", \"#B0BEC5\"]]}], \"label\": \"Topic 41\", \"method\": \"update\"}, {\"args\": [{\"marker.color\": [[\"#B0BEC5\", \"#B0BEC5\", \"#B0BEC5\", \"#B0BEC5\", \"#B0BEC5\", \"#B0BEC5\", \"#B0BEC5\", \"#B0BEC5\", \"#B0BEC5\", \"#B0BEC5\", \"#B0BEC5\", \"#B0BEC5\", \"#B0BEC5\", \"#B0BEC5\", \"#B0BEC5\", \"#B0BEC5\", \"#B0BEC5\", \"#B0BEC5\", \"#B0BEC5\", \"#B0BEC5\", \"#B0BEC5\", \"#B0BEC5\", \"#B0BEC5\", \"#B0BEC5\", \"#B0BEC5\", \"#B0BEC5\", \"#B0BEC5\", \"#B0BEC5\", \"#B0BEC5\", \"#B0BEC5\", \"#B0BEC5\", \"#B0BEC5\", \"#B0BEC5\", \"#B0BEC5\", \"#B0BEC5\", \"#B0BEC5\", \"#B0BEC5\", \"#B0BEC5\", \"#B0BEC5\", \"#B0BEC5\", \"#B0BEC5\", \"#B0BEC5\", \"red\", \"#B0BEC5\", \"#B0BEC5\", \"#B0BEC5\", \"#B0BEC5\", \"#B0BEC5\", \"#B0BEC5\", \"#B0BEC5\", \"#B0BEC5\", \"#B0BEC5\", \"#B0BEC5\", \"#B0BEC5\", \"#B0BEC5\", \"#B0BEC5\", \"#B0BEC5\", \"#B0BEC5\", \"#B0BEC5\", \"#B0BEC5\", \"#B0BEC5\", \"#B0BEC5\", \"#B0BEC5\", \"#B0BEC5\", \"#B0BEC5\", \"#B0BEC5\", \"#B0BEC5\", \"#B0BEC5\"]]}], \"label\": \"Topic 42\", \"method\": \"update\"}, {\"args\": [{\"marker.color\": [[\"#B0BEC5\", \"#B0BEC5\", \"#B0BEC5\", \"#B0BEC5\", \"#B0BEC5\", \"#B0BEC5\", \"#B0BEC5\", \"#B0BEC5\", \"#B0BEC5\", \"#B0BEC5\", \"#B0BEC5\", \"#B0BEC5\", \"#B0BEC5\", \"#B0BEC5\", \"#B0BEC5\", \"#B0BEC5\", \"#B0BEC5\", \"#B0BEC5\", \"#B0BEC5\", \"#B0BEC5\", \"#B0BEC5\", \"#B0BEC5\", \"#B0BEC5\", \"#B0BEC5\", \"#B0BEC5\", \"#B0BEC5\", \"#B0BEC5\", \"#B0BEC5\", \"#B0BEC5\", \"#B0BEC5\", \"#B0BEC5\", \"#B0BEC5\", \"#B0BEC5\", \"#B0BEC5\", \"#B0BEC5\", \"#B0BEC5\", \"#B0BEC5\", \"#B0BEC5\", \"#B0BEC5\", \"#B0BEC5\", \"#B0BEC5\", \"#B0BEC5\", \"#B0BEC5\", \"red\", \"#B0BEC5\", \"#B0BEC5\", \"#B0BEC5\", \"#B0BEC5\", \"#B0BEC5\", \"#B0BEC5\", \"#B0BEC5\", \"#B0BEC5\", \"#B0BEC5\", \"#B0BEC5\", \"#B0BEC5\", \"#B0BEC5\", \"#B0BEC5\", \"#B0BEC5\", \"#B0BEC5\", \"#B0BEC5\", \"#B0BEC5\", \"#B0BEC5\", \"#B0BEC5\", \"#B0BEC5\", \"#B0BEC5\", \"#B0BEC5\", \"#B0BEC5\", \"#B0BEC5\"]]}], \"label\": \"Topic 43\", \"method\": \"update\"}, {\"args\": [{\"marker.color\": [[\"#B0BEC5\", \"#B0BEC5\", \"#B0BEC5\", \"#B0BEC5\", \"#B0BEC5\", \"#B0BEC5\", \"#B0BEC5\", \"#B0BEC5\", \"#B0BEC5\", \"#B0BEC5\", \"#B0BEC5\", \"#B0BEC5\", \"#B0BEC5\", \"#B0BEC5\", \"#B0BEC5\", \"#B0BEC5\", \"#B0BEC5\", \"#B0BEC5\", \"#B0BEC5\", \"#B0BEC5\", \"#B0BEC5\", \"#B0BEC5\", \"#B0BEC5\", \"#B0BEC5\", \"#B0BEC5\", \"#B0BEC5\", \"#B0BEC5\", \"#B0BEC5\", \"#B0BEC5\", \"#B0BEC5\", \"#B0BEC5\", \"#B0BEC5\", \"#B0BEC5\", \"#B0BEC5\", \"#B0BEC5\", \"#B0BEC5\", \"#B0BEC5\", \"#B0BEC5\", \"#B0BEC5\", \"#B0BEC5\", \"#B0BEC5\", \"#B0BEC5\", \"#B0BEC5\", \"#B0BEC5\", \"red\", \"#B0BEC5\", \"#B0BEC5\", \"#B0BEC5\", \"#B0BEC5\", \"#B0BEC5\", \"#B0BEC5\", \"#B0BEC5\", \"#B0BEC5\", \"#B0BEC5\", \"#B0BEC5\", \"#B0BEC5\", \"#B0BEC5\", \"#B0BEC5\", \"#B0BEC5\", \"#B0BEC5\", \"#B0BEC5\", \"#B0BEC5\", \"#B0BEC5\", \"#B0BEC5\", \"#B0BEC5\", \"#B0BEC5\", \"#B0BEC5\", \"#B0BEC5\"]]}], \"label\": \"Topic 44\", \"method\": \"update\"}, {\"args\": [{\"marker.color\": [[\"#B0BEC5\", \"#B0BEC5\", \"#B0BEC5\", \"#B0BEC5\", \"#B0BEC5\", \"#B0BEC5\", \"#B0BEC5\", \"#B0BEC5\", \"#B0BEC5\", \"#B0BEC5\", \"#B0BEC5\", \"#B0BEC5\", \"#B0BEC5\", \"#B0BEC5\", \"#B0BEC5\", \"#B0BEC5\", \"#B0BEC5\", \"#B0BEC5\", \"#B0BEC5\", \"#B0BEC5\", \"#B0BEC5\", \"#B0BEC5\", \"#B0BEC5\", \"#B0BEC5\", \"#B0BEC5\", \"#B0BEC5\", \"#B0BEC5\", \"#B0BEC5\", \"#B0BEC5\", \"#B0BEC5\", \"#B0BEC5\", \"#B0BEC5\", \"#B0BEC5\", \"#B0BEC5\", \"#B0BEC5\", \"#B0BEC5\", \"#B0BEC5\", \"#B0BEC5\", \"#B0BEC5\", \"#B0BEC5\", \"#B0BEC5\", \"#B0BEC5\", \"#B0BEC5\", \"#B0BEC5\", \"#B0BEC5\", \"red\", \"#B0BEC5\", \"#B0BEC5\", \"#B0BEC5\", \"#B0BEC5\", \"#B0BEC5\", \"#B0BEC5\", \"#B0BEC5\", \"#B0BEC5\", \"#B0BEC5\", \"#B0BEC5\", \"#B0BEC5\", \"#B0BEC5\", \"#B0BEC5\", \"#B0BEC5\", \"#B0BEC5\", \"#B0BEC5\", \"#B0BEC5\", \"#B0BEC5\", \"#B0BEC5\", \"#B0BEC5\", \"#B0BEC5\", \"#B0BEC5\"]]}], \"label\": \"Topic 45\", \"method\": \"update\"}, {\"args\": [{\"marker.color\": [[\"#B0BEC5\", \"#B0BEC5\", \"#B0BEC5\", \"#B0BEC5\", \"#B0BEC5\", \"#B0BEC5\", \"#B0BEC5\", \"#B0BEC5\", \"#B0BEC5\", \"#B0BEC5\", \"#B0BEC5\", \"#B0BEC5\", \"#B0BEC5\", \"#B0BEC5\", \"#B0BEC5\", \"#B0BEC5\", \"#B0BEC5\", \"#B0BEC5\", \"#B0BEC5\", \"#B0BEC5\", \"#B0BEC5\", \"#B0BEC5\", \"#B0BEC5\", \"#B0BEC5\", \"#B0BEC5\", \"#B0BEC5\", \"#B0BEC5\", \"#B0BEC5\", \"#B0BEC5\", \"#B0BEC5\", \"#B0BEC5\", \"#B0BEC5\", \"#B0BEC5\", \"#B0BEC5\", \"#B0BEC5\", \"#B0BEC5\", \"#B0BEC5\", \"#B0BEC5\", \"#B0BEC5\", \"#B0BEC5\", \"#B0BEC5\", \"#B0BEC5\", \"#B0BEC5\", \"#B0BEC5\", \"#B0BEC5\", \"#B0BEC5\", \"red\", \"#B0BEC5\", \"#B0BEC5\", \"#B0BEC5\", \"#B0BEC5\", \"#B0BEC5\", \"#B0BEC5\", \"#B0BEC5\", \"#B0BEC5\", \"#B0BEC5\", \"#B0BEC5\", \"#B0BEC5\", \"#B0BEC5\", \"#B0BEC5\", \"#B0BEC5\", \"#B0BEC5\", \"#B0BEC5\", \"#B0BEC5\", \"#B0BEC5\", \"#B0BEC5\", \"#B0BEC5\", \"#B0BEC5\"]]}], \"label\": \"Topic 46\", \"method\": \"update\"}, {\"args\": [{\"marker.color\": [[\"#B0BEC5\", \"#B0BEC5\", \"#B0BEC5\", \"#B0BEC5\", \"#B0BEC5\", \"#B0BEC5\", \"#B0BEC5\", \"#B0BEC5\", \"#B0BEC5\", \"#B0BEC5\", \"#B0BEC5\", \"#B0BEC5\", \"#B0BEC5\", \"#B0BEC5\", \"#B0BEC5\", \"#B0BEC5\", \"#B0BEC5\", \"#B0BEC5\", \"#B0BEC5\", \"#B0BEC5\", \"#B0BEC5\", \"#B0BEC5\", \"#B0BEC5\", \"#B0BEC5\", \"#B0BEC5\", \"#B0BEC5\", \"#B0BEC5\", \"#B0BEC5\", \"#B0BEC5\", \"#B0BEC5\", \"#B0BEC5\", \"#B0BEC5\", \"#B0BEC5\", \"#B0BEC5\", \"#B0BEC5\", \"#B0BEC5\", \"#B0BEC5\", \"#B0BEC5\", \"#B0BEC5\", \"#B0BEC5\", \"#B0BEC5\", \"#B0BEC5\", \"#B0BEC5\", \"#B0BEC5\", \"#B0BEC5\", \"#B0BEC5\", \"#B0BEC5\", \"red\", \"#B0BEC5\", \"#B0BEC5\", \"#B0BEC5\", \"#B0BEC5\", \"#B0BEC5\", \"#B0BEC5\", \"#B0BEC5\", \"#B0BEC5\", \"#B0BEC5\", \"#B0BEC5\", \"#B0BEC5\", \"#B0BEC5\", \"#B0BEC5\", \"#B0BEC5\", \"#B0BEC5\", \"#B0BEC5\", \"#B0BEC5\", \"#B0BEC5\", \"#B0BEC5\", \"#B0BEC5\"]]}], \"label\": \"Topic 47\", \"method\": \"update\"}, {\"args\": [{\"marker.color\": [[\"#B0BEC5\", \"#B0BEC5\", \"#B0BEC5\", \"#B0BEC5\", \"#B0BEC5\", \"#B0BEC5\", \"#B0BEC5\", \"#B0BEC5\", \"#B0BEC5\", \"#B0BEC5\", \"#B0BEC5\", \"#B0BEC5\", \"#B0BEC5\", \"#B0BEC5\", \"#B0BEC5\", \"#B0BEC5\", \"#B0BEC5\", \"#B0BEC5\", \"#B0BEC5\", \"#B0BEC5\", \"#B0BEC5\", \"#B0BEC5\", \"#B0BEC5\", \"#B0BEC5\", \"#B0BEC5\", \"#B0BEC5\", \"#B0BEC5\", \"#B0BEC5\", \"#B0BEC5\", \"#B0BEC5\", \"#B0BEC5\", \"#B0BEC5\", \"#B0BEC5\", \"#B0BEC5\", \"#B0BEC5\", \"#B0BEC5\", \"#B0BEC5\", \"#B0BEC5\", \"#B0BEC5\", \"#B0BEC5\", \"#B0BEC5\", \"#B0BEC5\", \"#B0BEC5\", \"#B0BEC5\", \"#B0BEC5\", \"#B0BEC5\", \"#B0BEC5\", \"#B0BEC5\", \"red\", \"#B0BEC5\", \"#B0BEC5\", \"#B0BEC5\", \"#B0BEC5\", \"#B0BEC5\", \"#B0BEC5\", \"#B0BEC5\", \"#B0BEC5\", \"#B0BEC5\", \"#B0BEC5\", \"#B0BEC5\", \"#B0BEC5\", \"#B0BEC5\", \"#B0BEC5\", \"#B0BEC5\", \"#B0BEC5\", \"#B0BEC5\", \"#B0BEC5\", \"#B0BEC5\"]]}], \"label\": \"Topic 48\", \"method\": \"update\"}, {\"args\": [{\"marker.color\": [[\"#B0BEC5\", \"#B0BEC5\", \"#B0BEC5\", \"#B0BEC5\", \"#B0BEC5\", \"#B0BEC5\", \"#B0BEC5\", \"#B0BEC5\", \"#B0BEC5\", \"#B0BEC5\", \"#B0BEC5\", \"#B0BEC5\", \"#B0BEC5\", \"#B0BEC5\", \"#B0BEC5\", \"#B0BEC5\", \"#B0BEC5\", \"#B0BEC5\", \"#B0BEC5\", \"#B0BEC5\", \"#B0BEC5\", \"#B0BEC5\", \"#B0BEC5\", \"#B0BEC5\", \"#B0BEC5\", \"#B0BEC5\", \"#B0BEC5\", \"#B0BEC5\", \"#B0BEC5\", \"#B0BEC5\", \"#B0BEC5\", \"#B0BEC5\", \"#B0BEC5\", \"#B0BEC5\", \"#B0BEC5\", \"#B0BEC5\", \"#B0BEC5\", \"#B0BEC5\", \"#B0BEC5\", \"#B0BEC5\", \"#B0BEC5\", \"#B0BEC5\", \"#B0BEC5\", \"#B0BEC5\", \"#B0BEC5\", \"#B0BEC5\", \"#B0BEC5\", \"#B0BEC5\", \"#B0BEC5\", \"red\", \"#B0BEC5\", \"#B0BEC5\", \"#B0BEC5\", \"#B0BEC5\", \"#B0BEC5\", \"#B0BEC5\", \"#B0BEC5\", \"#B0BEC5\", \"#B0BEC5\", \"#B0BEC5\", \"#B0BEC5\", \"#B0BEC5\", \"#B0BEC5\", \"#B0BEC5\", \"#B0BEC5\", \"#B0BEC5\", \"#B0BEC5\", \"#B0BEC5\"]]}], \"label\": \"Topic 49\", \"method\": \"update\"}, {\"args\": [{\"marker.color\": [[\"#B0BEC5\", \"#B0BEC5\", \"#B0BEC5\", \"#B0BEC5\", \"#B0BEC5\", \"#B0BEC5\", \"#B0BEC5\", \"#B0BEC5\", \"#B0BEC5\", \"#B0BEC5\", \"#B0BEC5\", \"#B0BEC5\", \"#B0BEC5\", \"#B0BEC5\", \"#B0BEC5\", \"#B0BEC5\", \"#B0BEC5\", \"#B0BEC5\", \"#B0BEC5\", \"#B0BEC5\", \"#B0BEC5\", \"#B0BEC5\", \"#B0BEC5\", \"#B0BEC5\", \"#B0BEC5\", \"#B0BEC5\", \"#B0BEC5\", \"#B0BEC5\", \"#B0BEC5\", \"#B0BEC5\", \"#B0BEC5\", \"#B0BEC5\", \"#B0BEC5\", \"#B0BEC5\", \"#B0BEC5\", \"#B0BEC5\", \"#B0BEC5\", \"#B0BEC5\", \"#B0BEC5\", \"#B0BEC5\", \"#B0BEC5\", \"#B0BEC5\", \"#B0BEC5\", \"#B0BEC5\", \"#B0BEC5\", \"#B0BEC5\", \"#B0BEC5\", \"#B0BEC5\", \"#B0BEC5\", \"#B0BEC5\", \"red\", \"#B0BEC5\", \"#B0BEC5\", \"#B0BEC5\", \"#B0BEC5\", \"#B0BEC5\", \"#B0BEC5\", \"#B0BEC5\", \"#B0BEC5\", \"#B0BEC5\", \"#B0BEC5\", \"#B0BEC5\", \"#B0BEC5\", \"#B0BEC5\", \"#B0BEC5\", \"#B0BEC5\", \"#B0BEC5\", \"#B0BEC5\"]]}], \"label\": \"Topic 50\", \"method\": \"update\"}, {\"args\": [{\"marker.color\": [[\"#B0BEC5\", \"#B0BEC5\", \"#B0BEC5\", \"#B0BEC5\", \"#B0BEC5\", \"#B0BEC5\", \"#B0BEC5\", \"#B0BEC5\", \"#B0BEC5\", \"#B0BEC5\", \"#B0BEC5\", \"#B0BEC5\", \"#B0BEC5\", \"#B0BEC5\", \"#B0BEC5\", \"#B0BEC5\", \"#B0BEC5\", \"#B0BEC5\", \"#B0BEC5\", \"#B0BEC5\", \"#B0BEC5\", \"#B0BEC5\", \"#B0BEC5\", \"#B0BEC5\", \"#B0BEC5\", \"#B0BEC5\", \"#B0BEC5\", \"#B0BEC5\", \"#B0BEC5\", \"#B0BEC5\", \"#B0BEC5\", \"#B0BEC5\", \"#B0BEC5\", \"#B0BEC5\", \"#B0BEC5\", \"#B0BEC5\", \"#B0BEC5\", \"#B0BEC5\", \"#B0BEC5\", \"#B0BEC5\", \"#B0BEC5\", \"#B0BEC5\", \"#B0BEC5\", \"#B0BEC5\", \"#B0BEC5\", \"#B0BEC5\", \"#B0BEC5\", \"#B0BEC5\", \"#B0BEC5\", \"#B0BEC5\", \"#B0BEC5\", \"red\", \"#B0BEC5\", \"#B0BEC5\", \"#B0BEC5\", \"#B0BEC5\", \"#B0BEC5\", \"#B0BEC5\", \"#B0BEC5\", \"#B0BEC5\", \"#B0BEC5\", \"#B0BEC5\", \"#B0BEC5\", \"#B0BEC5\", \"#B0BEC5\", \"#B0BEC5\", \"#B0BEC5\", \"#B0BEC5\"]]}], \"label\": \"Topic 51\", \"method\": \"update\"}, {\"args\": [{\"marker.color\": [[\"#B0BEC5\", \"#B0BEC5\", \"#B0BEC5\", \"#B0BEC5\", \"#B0BEC5\", \"#B0BEC5\", \"#B0BEC5\", \"#B0BEC5\", \"#B0BEC5\", \"#B0BEC5\", \"#B0BEC5\", \"#B0BEC5\", \"#B0BEC5\", \"#B0BEC5\", \"#B0BEC5\", \"#B0BEC5\", \"#B0BEC5\", \"#B0BEC5\", \"#B0BEC5\", \"#B0BEC5\", \"#B0BEC5\", \"#B0BEC5\", \"#B0BEC5\", \"#B0BEC5\", \"#B0BEC5\", \"#B0BEC5\", \"#B0BEC5\", \"#B0BEC5\", \"#B0BEC5\", \"#B0BEC5\", \"#B0BEC5\", \"#B0BEC5\", \"#B0BEC5\", \"#B0BEC5\", \"#B0BEC5\", \"#B0BEC5\", \"#B0BEC5\", \"#B0BEC5\", \"#B0BEC5\", \"#B0BEC5\", \"#B0BEC5\", \"#B0BEC5\", \"#B0BEC5\", \"#B0BEC5\", \"#B0BEC5\", \"#B0BEC5\", \"#B0BEC5\", \"#B0BEC5\", \"#B0BEC5\", \"#B0BEC5\", \"#B0BEC5\", \"#B0BEC5\", \"red\", \"#B0BEC5\", \"#B0BEC5\", \"#B0BEC5\", \"#B0BEC5\", \"#B0BEC5\", \"#B0BEC5\", \"#B0BEC5\", \"#B0BEC5\", \"#B0BEC5\", \"#B0BEC5\", \"#B0BEC5\", \"#B0BEC5\", \"#B0BEC5\", \"#B0BEC5\", \"#B0BEC5\"]]}], \"label\": \"Topic 52\", \"method\": \"update\"}, {\"args\": [{\"marker.color\": [[\"#B0BEC5\", \"#B0BEC5\", \"#B0BEC5\", \"#B0BEC5\", \"#B0BEC5\", \"#B0BEC5\", \"#B0BEC5\", \"#B0BEC5\", \"#B0BEC5\", \"#B0BEC5\", \"#B0BEC5\", \"#B0BEC5\", \"#B0BEC5\", \"#B0BEC5\", \"#B0BEC5\", \"#B0BEC5\", \"#B0BEC5\", \"#B0BEC5\", \"#B0BEC5\", \"#B0BEC5\", \"#B0BEC5\", \"#B0BEC5\", \"#B0BEC5\", \"#B0BEC5\", \"#B0BEC5\", \"#B0BEC5\", \"#B0BEC5\", \"#B0BEC5\", \"#B0BEC5\", \"#B0BEC5\", \"#B0BEC5\", \"#B0BEC5\", \"#B0BEC5\", \"#B0BEC5\", \"#B0BEC5\", \"#B0BEC5\", \"#B0BEC5\", \"#B0BEC5\", \"#B0BEC5\", \"#B0BEC5\", \"#B0BEC5\", \"#B0BEC5\", \"#B0BEC5\", \"#B0BEC5\", \"#B0BEC5\", \"#B0BEC5\", \"#B0BEC5\", \"#B0BEC5\", \"#B0BEC5\", \"#B0BEC5\", \"#B0BEC5\", \"#B0BEC5\", \"#B0BEC5\", \"red\", \"#B0BEC5\", \"#B0BEC5\", \"#B0BEC5\", \"#B0BEC5\", \"#B0BEC5\", \"#B0BEC5\", \"#B0BEC5\", \"#B0BEC5\", \"#B0BEC5\", \"#B0BEC5\", \"#B0BEC5\", \"#B0BEC5\", \"#B0BEC5\", \"#B0BEC5\"]]}], \"label\": \"Topic 53\", \"method\": \"update\"}, {\"args\": [{\"marker.color\": [[\"#B0BEC5\", \"#B0BEC5\", \"#B0BEC5\", \"#B0BEC5\", \"#B0BEC5\", \"#B0BEC5\", \"#B0BEC5\", \"#B0BEC5\", \"#B0BEC5\", \"#B0BEC5\", \"#B0BEC5\", \"#B0BEC5\", \"#B0BEC5\", \"#B0BEC5\", \"#B0BEC5\", \"#B0BEC5\", \"#B0BEC5\", \"#B0BEC5\", \"#B0BEC5\", \"#B0BEC5\", \"#B0BEC5\", \"#B0BEC5\", \"#B0BEC5\", \"#B0BEC5\", \"#B0BEC5\", \"#B0BEC5\", \"#B0BEC5\", \"#B0BEC5\", \"#B0BEC5\", \"#B0BEC5\", \"#B0BEC5\", \"#B0BEC5\", \"#B0BEC5\", \"#B0BEC5\", \"#B0BEC5\", \"#B0BEC5\", \"#B0BEC5\", \"#B0BEC5\", \"#B0BEC5\", \"#B0BEC5\", \"#B0BEC5\", \"#B0BEC5\", \"#B0BEC5\", \"#B0BEC5\", \"#B0BEC5\", \"#B0BEC5\", \"#B0BEC5\", \"#B0BEC5\", \"#B0BEC5\", \"#B0BEC5\", \"#B0BEC5\", \"#B0BEC5\", \"#B0BEC5\", \"#B0BEC5\", \"red\", \"#B0BEC5\", \"#B0BEC5\", \"#B0BEC5\", \"#B0BEC5\", \"#B0BEC5\", \"#B0BEC5\", \"#B0BEC5\", \"#B0BEC5\", \"#B0BEC5\", \"#B0BEC5\", \"#B0BEC5\", \"#B0BEC5\", \"#B0BEC5\"]]}], \"label\": \"Topic 54\", \"method\": \"update\"}, {\"args\": [{\"marker.color\": [[\"#B0BEC5\", \"#B0BEC5\", \"#B0BEC5\", \"#B0BEC5\", \"#B0BEC5\", \"#B0BEC5\", \"#B0BEC5\", \"#B0BEC5\", \"#B0BEC5\", \"#B0BEC5\", \"#B0BEC5\", \"#B0BEC5\", \"#B0BEC5\", \"#B0BEC5\", \"#B0BEC5\", \"#B0BEC5\", \"#B0BEC5\", \"#B0BEC5\", \"#B0BEC5\", \"#B0BEC5\", \"#B0BEC5\", \"#B0BEC5\", \"#B0BEC5\", \"#B0BEC5\", \"#B0BEC5\", \"#B0BEC5\", \"#B0BEC5\", \"#B0BEC5\", \"#B0BEC5\", \"#B0BEC5\", \"#B0BEC5\", \"#B0BEC5\", \"#B0BEC5\", \"#B0BEC5\", \"#B0BEC5\", \"#B0BEC5\", \"#B0BEC5\", \"#B0BEC5\", \"#B0BEC5\", \"#B0BEC5\", \"#B0BEC5\", \"#B0BEC5\", \"#B0BEC5\", \"#B0BEC5\", \"#B0BEC5\", \"#B0BEC5\", \"#B0BEC5\", \"#B0BEC5\", \"#B0BEC5\", \"#B0BEC5\", \"#B0BEC5\", \"#B0BEC5\", \"#B0BEC5\", \"#B0BEC5\", \"#B0BEC5\", \"red\", \"#B0BEC5\", \"#B0BEC5\", \"#B0BEC5\", \"#B0BEC5\", \"#B0BEC5\", \"#B0BEC5\", \"#B0BEC5\", \"#B0BEC5\", \"#B0BEC5\", \"#B0BEC5\", \"#B0BEC5\", \"#B0BEC5\"]]}], \"label\": \"Topic 55\", \"method\": \"update\"}, {\"args\": [{\"marker.color\": [[\"#B0BEC5\", \"#B0BEC5\", \"#B0BEC5\", \"#B0BEC5\", \"#B0BEC5\", \"#B0BEC5\", \"#B0BEC5\", \"#B0BEC5\", \"#B0BEC5\", \"#B0BEC5\", \"#B0BEC5\", \"#B0BEC5\", \"#B0BEC5\", \"#B0BEC5\", \"#B0BEC5\", \"#B0BEC5\", \"#B0BEC5\", \"#B0BEC5\", \"#B0BEC5\", \"#B0BEC5\", \"#B0BEC5\", \"#B0BEC5\", \"#B0BEC5\", \"#B0BEC5\", \"#B0BEC5\", \"#B0BEC5\", \"#B0BEC5\", \"#B0BEC5\", \"#B0BEC5\", \"#B0BEC5\", \"#B0BEC5\", \"#B0BEC5\", \"#B0BEC5\", \"#B0BEC5\", \"#B0BEC5\", \"#B0BEC5\", \"#B0BEC5\", \"#B0BEC5\", \"#B0BEC5\", \"#B0BEC5\", \"#B0BEC5\", \"#B0BEC5\", \"#B0BEC5\", \"#B0BEC5\", \"#B0BEC5\", \"#B0BEC5\", \"#B0BEC5\", \"#B0BEC5\", \"#B0BEC5\", \"#B0BEC5\", \"#B0BEC5\", \"#B0BEC5\", \"#B0BEC5\", \"#B0BEC5\", \"#B0BEC5\", \"#B0BEC5\", \"red\", \"#B0BEC5\", \"#B0BEC5\", \"#B0BEC5\", \"#B0BEC5\", \"#B0BEC5\", \"#B0BEC5\", \"#B0BEC5\", \"#B0BEC5\", \"#B0BEC5\", \"#B0BEC5\", \"#B0BEC5\"]]}], \"label\": \"Topic 56\", \"method\": \"update\"}, {\"args\": [{\"marker.color\": [[\"#B0BEC5\", \"#B0BEC5\", \"#B0BEC5\", \"#B0BEC5\", \"#B0BEC5\", \"#B0BEC5\", \"#B0BEC5\", \"#B0BEC5\", \"#B0BEC5\", \"#B0BEC5\", \"#B0BEC5\", \"#B0BEC5\", \"#B0BEC5\", \"#B0BEC5\", \"#B0BEC5\", \"#B0BEC5\", \"#B0BEC5\", \"#B0BEC5\", \"#B0BEC5\", \"#B0BEC5\", \"#B0BEC5\", \"#B0BEC5\", \"#B0BEC5\", \"#B0BEC5\", \"#B0BEC5\", \"#B0BEC5\", \"#B0BEC5\", \"#B0BEC5\", \"#B0BEC5\", \"#B0BEC5\", \"#B0BEC5\", \"#B0BEC5\", \"#B0BEC5\", \"#B0BEC5\", \"#B0BEC5\", \"#B0BEC5\", \"#B0BEC5\", \"#B0BEC5\", \"#B0BEC5\", \"#B0BEC5\", \"#B0BEC5\", \"#B0BEC5\", \"#B0BEC5\", \"#B0BEC5\", \"#B0BEC5\", \"#B0BEC5\", \"#B0BEC5\", \"#B0BEC5\", \"#B0BEC5\", \"#B0BEC5\", \"#B0BEC5\", \"#B0BEC5\", \"#B0BEC5\", \"#B0BEC5\", \"#B0BEC5\", \"#B0BEC5\", \"#B0BEC5\", \"red\", \"#B0BEC5\", \"#B0BEC5\", \"#B0BEC5\", \"#B0BEC5\", \"#B0BEC5\", \"#B0BEC5\", \"#B0BEC5\", \"#B0BEC5\", \"#B0BEC5\", \"#B0BEC5\"]]}], \"label\": \"Topic 57\", \"method\": \"update\"}, {\"args\": [{\"marker.color\": [[\"#B0BEC5\", \"#B0BEC5\", \"#B0BEC5\", \"#B0BEC5\", \"#B0BEC5\", \"#B0BEC5\", \"#B0BEC5\", \"#B0BEC5\", \"#B0BEC5\", \"#B0BEC5\", \"#B0BEC5\", \"#B0BEC5\", \"#B0BEC5\", \"#B0BEC5\", \"#B0BEC5\", \"#B0BEC5\", \"#B0BEC5\", \"#B0BEC5\", \"#B0BEC5\", \"#B0BEC5\", \"#B0BEC5\", \"#B0BEC5\", \"#B0BEC5\", \"#B0BEC5\", \"#B0BEC5\", \"#B0BEC5\", \"#B0BEC5\", \"#B0BEC5\", \"#B0BEC5\", \"#B0BEC5\", \"#B0BEC5\", \"#B0BEC5\", \"#B0BEC5\", \"#B0BEC5\", \"#B0BEC5\", \"#B0BEC5\", \"#B0BEC5\", \"#B0BEC5\", \"#B0BEC5\", \"#B0BEC5\", \"#B0BEC5\", \"#B0BEC5\", \"#B0BEC5\", \"#B0BEC5\", \"#B0BEC5\", \"#B0BEC5\", \"#B0BEC5\", \"#B0BEC5\", \"#B0BEC5\", \"#B0BEC5\", \"#B0BEC5\", \"#B0BEC5\", \"#B0BEC5\", \"#B0BEC5\", \"#B0BEC5\", \"#B0BEC5\", \"#B0BEC5\", \"#B0BEC5\", \"red\", \"#B0BEC5\", \"#B0BEC5\", \"#B0BEC5\", \"#B0BEC5\", \"#B0BEC5\", \"#B0BEC5\", \"#B0BEC5\", \"#B0BEC5\", \"#B0BEC5\"]]}], \"label\": \"Topic 58\", \"method\": \"update\"}, {\"args\": [{\"marker.color\": [[\"#B0BEC5\", \"#B0BEC5\", \"#B0BEC5\", \"#B0BEC5\", \"#B0BEC5\", \"#B0BEC5\", \"#B0BEC5\", \"#B0BEC5\", \"#B0BEC5\", \"#B0BEC5\", \"#B0BEC5\", \"#B0BEC5\", \"#B0BEC5\", \"#B0BEC5\", \"#B0BEC5\", \"#B0BEC5\", \"#B0BEC5\", \"#B0BEC5\", \"#B0BEC5\", \"#B0BEC5\", \"#B0BEC5\", \"#B0BEC5\", \"#B0BEC5\", \"#B0BEC5\", \"#B0BEC5\", \"#B0BEC5\", \"#B0BEC5\", \"#B0BEC5\", \"#B0BEC5\", \"#B0BEC5\", \"#B0BEC5\", \"#B0BEC5\", \"#B0BEC5\", \"#B0BEC5\", \"#B0BEC5\", \"#B0BEC5\", \"#B0BEC5\", \"#B0BEC5\", \"#B0BEC5\", \"#B0BEC5\", \"#B0BEC5\", \"#B0BEC5\", \"#B0BEC5\", \"#B0BEC5\", \"#B0BEC5\", \"#B0BEC5\", \"#B0BEC5\", \"#B0BEC5\", \"#B0BEC5\", \"#B0BEC5\", \"#B0BEC5\", \"#B0BEC5\", \"#B0BEC5\", \"#B0BEC5\", \"#B0BEC5\", \"#B0BEC5\", \"#B0BEC5\", \"#B0BEC5\", \"#B0BEC5\", \"red\", \"#B0BEC5\", \"#B0BEC5\", \"#B0BEC5\", \"#B0BEC5\", \"#B0BEC5\", \"#B0BEC5\", \"#B0BEC5\", \"#B0BEC5\"]]}], \"label\": \"Topic 59\", \"method\": \"update\"}, {\"args\": [{\"marker.color\": [[\"#B0BEC5\", \"#B0BEC5\", \"#B0BEC5\", \"#B0BEC5\", \"#B0BEC5\", \"#B0BEC5\", \"#B0BEC5\", \"#B0BEC5\", \"#B0BEC5\", \"#B0BEC5\", \"#B0BEC5\", \"#B0BEC5\", \"#B0BEC5\", \"#B0BEC5\", \"#B0BEC5\", \"#B0BEC5\", \"#B0BEC5\", \"#B0BEC5\", \"#B0BEC5\", \"#B0BEC5\", \"#B0BEC5\", \"#B0BEC5\", \"#B0BEC5\", \"#B0BEC5\", \"#B0BEC5\", \"#B0BEC5\", \"#B0BEC5\", \"#B0BEC5\", \"#B0BEC5\", \"#B0BEC5\", \"#B0BEC5\", \"#B0BEC5\", \"#B0BEC5\", \"#B0BEC5\", \"#B0BEC5\", \"#B0BEC5\", \"#B0BEC5\", \"#B0BEC5\", \"#B0BEC5\", \"#B0BEC5\", \"#B0BEC5\", \"#B0BEC5\", \"#B0BEC5\", \"#B0BEC5\", \"#B0BEC5\", \"#B0BEC5\", \"#B0BEC5\", \"#B0BEC5\", \"#B0BEC5\", \"#B0BEC5\", \"#B0BEC5\", \"#B0BEC5\", \"#B0BEC5\", \"#B0BEC5\", \"#B0BEC5\", \"#B0BEC5\", \"#B0BEC5\", \"#B0BEC5\", \"#B0BEC5\", \"#B0BEC5\", \"red\", \"#B0BEC5\", \"#B0BEC5\", \"#B0BEC5\", \"#B0BEC5\", \"#B0BEC5\", \"#B0BEC5\", \"#B0BEC5\"]]}], \"label\": \"Topic 60\", \"method\": \"update\"}, {\"args\": [{\"marker.color\": [[\"#B0BEC5\", \"#B0BEC5\", \"#B0BEC5\", \"#B0BEC5\", \"#B0BEC5\", \"#B0BEC5\", \"#B0BEC5\", \"#B0BEC5\", \"#B0BEC5\", \"#B0BEC5\", \"#B0BEC5\", \"#B0BEC5\", \"#B0BEC5\", \"#B0BEC5\", \"#B0BEC5\", \"#B0BEC5\", \"#B0BEC5\", \"#B0BEC5\", \"#B0BEC5\", \"#B0BEC5\", \"#B0BEC5\", \"#B0BEC5\", \"#B0BEC5\", \"#B0BEC5\", \"#B0BEC5\", \"#B0BEC5\", \"#B0BEC5\", \"#B0BEC5\", \"#B0BEC5\", \"#B0BEC5\", \"#B0BEC5\", \"#B0BEC5\", \"#B0BEC5\", \"#B0BEC5\", \"#B0BEC5\", \"#B0BEC5\", \"#B0BEC5\", \"#B0BEC5\", \"#B0BEC5\", \"#B0BEC5\", \"#B0BEC5\", \"#B0BEC5\", \"#B0BEC5\", \"#B0BEC5\", \"#B0BEC5\", \"#B0BEC5\", \"#B0BEC5\", \"#B0BEC5\", \"#B0BEC5\", \"#B0BEC5\", \"#B0BEC5\", \"#B0BEC5\", \"#B0BEC5\", \"#B0BEC5\", \"#B0BEC5\", \"#B0BEC5\", \"#B0BEC5\", \"#B0BEC5\", \"#B0BEC5\", \"#B0BEC5\", \"#B0BEC5\", \"red\", \"#B0BEC5\", \"#B0BEC5\", \"#B0BEC5\", \"#B0BEC5\", \"#B0BEC5\", \"#B0BEC5\"]]}], \"label\": \"Topic 61\", \"method\": \"update\"}, {\"args\": [{\"marker.color\": [[\"#B0BEC5\", \"#B0BEC5\", \"#B0BEC5\", \"#B0BEC5\", \"#B0BEC5\", \"#B0BEC5\", \"#B0BEC5\", \"#B0BEC5\", \"#B0BEC5\", \"#B0BEC5\", \"#B0BEC5\", \"#B0BEC5\", \"#B0BEC5\", \"#B0BEC5\", \"#B0BEC5\", \"#B0BEC5\", \"#B0BEC5\", \"#B0BEC5\", \"#B0BEC5\", \"#B0BEC5\", \"#B0BEC5\", \"#B0BEC5\", \"#B0BEC5\", \"#B0BEC5\", \"#B0BEC5\", \"#B0BEC5\", \"#B0BEC5\", \"#B0BEC5\", \"#B0BEC5\", \"#B0BEC5\", \"#B0BEC5\", \"#B0BEC5\", \"#B0BEC5\", \"#B0BEC5\", \"#B0BEC5\", \"#B0BEC5\", \"#B0BEC5\", \"#B0BEC5\", \"#B0BEC5\", \"#B0BEC5\", \"#B0BEC5\", \"#B0BEC5\", \"#B0BEC5\", \"#B0BEC5\", \"#B0BEC5\", \"#B0BEC5\", \"#B0BEC5\", \"#B0BEC5\", \"#B0BEC5\", \"#B0BEC5\", \"#B0BEC5\", \"#B0BEC5\", \"#B0BEC5\", \"#B0BEC5\", \"#B0BEC5\", \"#B0BEC5\", \"#B0BEC5\", \"#B0BEC5\", \"#B0BEC5\", \"#B0BEC5\", \"#B0BEC5\", \"#B0BEC5\", \"red\", \"#B0BEC5\", \"#B0BEC5\", \"#B0BEC5\", \"#B0BEC5\", \"#B0BEC5\"]]}], \"label\": \"Topic 62\", \"method\": \"update\"}, {\"args\": [{\"marker.color\": [[\"#B0BEC5\", \"#B0BEC5\", \"#B0BEC5\", \"#B0BEC5\", \"#B0BEC5\", \"#B0BEC5\", \"#B0BEC5\", \"#B0BEC5\", \"#B0BEC5\", \"#B0BEC5\", \"#B0BEC5\", \"#B0BEC5\", \"#B0BEC5\", \"#B0BEC5\", \"#B0BEC5\", \"#B0BEC5\", \"#B0BEC5\", \"#B0BEC5\", \"#B0BEC5\", \"#B0BEC5\", \"#B0BEC5\", \"#B0BEC5\", \"#B0BEC5\", \"#B0BEC5\", \"#B0BEC5\", \"#B0BEC5\", \"#B0BEC5\", \"#B0BEC5\", \"#B0BEC5\", \"#B0BEC5\", \"#B0BEC5\", \"#B0BEC5\", \"#B0BEC5\", \"#B0BEC5\", \"#B0BEC5\", \"#B0BEC5\", \"#B0BEC5\", \"#B0BEC5\", \"#B0BEC5\", \"#B0BEC5\", \"#B0BEC5\", \"#B0BEC5\", \"#B0BEC5\", \"#B0BEC5\", \"#B0BEC5\", \"#B0BEC5\", \"#B0BEC5\", \"#B0BEC5\", \"#B0BEC5\", \"#B0BEC5\", \"#B0BEC5\", \"#B0BEC5\", \"#B0BEC5\", \"#B0BEC5\", \"#B0BEC5\", \"#B0BEC5\", \"#B0BEC5\", \"#B0BEC5\", \"#B0BEC5\", \"#B0BEC5\", \"#B0BEC5\", \"#B0BEC5\", \"#B0BEC5\", \"red\", \"#B0BEC5\", \"#B0BEC5\", \"#B0BEC5\", \"#B0BEC5\"]]}], \"label\": \"Topic 63\", \"method\": \"update\"}, {\"args\": [{\"marker.color\": [[\"#B0BEC5\", \"#B0BEC5\", \"#B0BEC5\", \"#B0BEC5\", \"#B0BEC5\", \"#B0BEC5\", \"#B0BEC5\", \"#B0BEC5\", \"#B0BEC5\", \"#B0BEC5\", \"#B0BEC5\", \"#B0BEC5\", \"#B0BEC5\", \"#B0BEC5\", \"#B0BEC5\", \"#B0BEC5\", \"#B0BEC5\", \"#B0BEC5\", \"#B0BEC5\", \"#B0BEC5\", \"#B0BEC5\", \"#B0BEC5\", \"#B0BEC5\", \"#B0BEC5\", \"#B0BEC5\", \"#B0BEC5\", \"#B0BEC5\", \"#B0BEC5\", \"#B0BEC5\", \"#B0BEC5\", \"#B0BEC5\", \"#B0BEC5\", \"#B0BEC5\", \"#B0BEC5\", \"#B0BEC5\", \"#B0BEC5\", \"#B0BEC5\", \"#B0BEC5\", \"#B0BEC5\", \"#B0BEC5\", \"#B0BEC5\", \"#B0BEC5\", \"#B0BEC5\", \"#B0BEC5\", \"#B0BEC5\", \"#B0BEC5\", \"#B0BEC5\", \"#B0BEC5\", \"#B0BEC5\", \"#B0BEC5\", \"#B0BEC5\", \"#B0BEC5\", \"#B0BEC5\", \"#B0BEC5\", \"#B0BEC5\", \"#B0BEC5\", \"#B0BEC5\", \"#B0BEC5\", \"#B0BEC5\", \"#B0BEC5\", \"#B0BEC5\", \"#B0BEC5\", \"#B0BEC5\", \"#B0BEC5\", \"red\", \"#B0BEC5\", \"#B0BEC5\", \"#B0BEC5\"]]}], \"label\": \"Topic 64\", \"method\": \"update\"}, {\"args\": [{\"marker.color\": [[\"#B0BEC5\", \"#B0BEC5\", \"#B0BEC5\", \"#B0BEC5\", \"#B0BEC5\", \"#B0BEC5\", \"#B0BEC5\", \"#B0BEC5\", \"#B0BEC5\", \"#B0BEC5\", \"#B0BEC5\", \"#B0BEC5\", \"#B0BEC5\", \"#B0BEC5\", \"#B0BEC5\", \"#B0BEC5\", \"#B0BEC5\", \"#B0BEC5\", \"#B0BEC5\", \"#B0BEC5\", \"#B0BEC5\", \"#B0BEC5\", \"#B0BEC5\", \"#B0BEC5\", \"#B0BEC5\", \"#B0BEC5\", \"#B0BEC5\", \"#B0BEC5\", \"#B0BEC5\", \"#B0BEC5\", \"#B0BEC5\", \"#B0BEC5\", \"#B0BEC5\", \"#B0BEC5\", \"#B0BEC5\", \"#B0BEC5\", \"#B0BEC5\", \"#B0BEC5\", \"#B0BEC5\", \"#B0BEC5\", \"#B0BEC5\", \"#B0BEC5\", \"#B0BEC5\", \"#B0BEC5\", \"#B0BEC5\", \"#B0BEC5\", \"#B0BEC5\", \"#B0BEC5\", \"#B0BEC5\", \"#B0BEC5\", \"#B0BEC5\", \"#B0BEC5\", \"#B0BEC5\", \"#B0BEC5\", \"#B0BEC5\", \"#B0BEC5\", \"#B0BEC5\", \"#B0BEC5\", \"#B0BEC5\", \"#B0BEC5\", \"#B0BEC5\", \"#B0BEC5\", \"#B0BEC5\", \"#B0BEC5\", \"#B0BEC5\", \"red\", \"#B0BEC5\", \"#B0BEC5\"]]}], \"label\": \"Topic 65\", \"method\": \"update\"}, {\"args\": [{\"marker.color\": [[\"#B0BEC5\", \"#B0BEC5\", \"#B0BEC5\", \"#B0BEC5\", \"#B0BEC5\", \"#B0BEC5\", \"#B0BEC5\", \"#B0BEC5\", \"#B0BEC5\", \"#B0BEC5\", \"#B0BEC5\", \"#B0BEC5\", \"#B0BEC5\", \"#B0BEC5\", \"#B0BEC5\", \"#B0BEC5\", \"#B0BEC5\", \"#B0BEC5\", \"#B0BEC5\", \"#B0BEC5\", \"#B0BEC5\", \"#B0BEC5\", \"#B0BEC5\", \"#B0BEC5\", \"#B0BEC5\", \"#B0BEC5\", \"#B0BEC5\", \"#B0BEC5\", \"#B0BEC5\", \"#B0BEC5\", \"#B0BEC5\", \"#B0BEC5\", \"#B0BEC5\", \"#B0BEC5\", \"#B0BEC5\", \"#B0BEC5\", \"#B0BEC5\", \"#B0BEC5\", \"#B0BEC5\", \"#B0BEC5\", \"#B0BEC5\", \"#B0BEC5\", \"#B0BEC5\", \"#B0BEC5\", \"#B0BEC5\", \"#B0BEC5\", \"#B0BEC5\", \"#B0BEC5\", \"#B0BEC5\", \"#B0BEC5\", \"#B0BEC5\", \"#B0BEC5\", \"#B0BEC5\", \"#B0BEC5\", \"#B0BEC5\", \"#B0BEC5\", \"#B0BEC5\", \"#B0BEC5\", \"#B0BEC5\", \"#B0BEC5\", \"#B0BEC5\", \"#B0BEC5\", \"#B0BEC5\", \"#B0BEC5\", \"#B0BEC5\", \"#B0BEC5\", \"red\", \"#B0BEC5\"]]}], \"label\": \"Topic 66\", \"method\": \"update\"}, {\"args\": [{\"marker.color\": [[\"#B0BEC5\", \"#B0BEC5\", \"#B0BEC5\", \"#B0BEC5\", \"#B0BEC5\", \"#B0BEC5\", \"#B0BEC5\", \"#B0BEC5\", \"#B0BEC5\", \"#B0BEC5\", \"#B0BEC5\", \"#B0BEC5\", \"#B0BEC5\", \"#B0BEC5\", \"#B0BEC5\", \"#B0BEC5\", \"#B0BEC5\", \"#B0BEC5\", \"#B0BEC5\", \"#B0BEC5\", \"#B0BEC5\", \"#B0BEC5\", \"#B0BEC5\", \"#B0BEC5\", \"#B0BEC5\", \"#B0BEC5\", \"#B0BEC5\", \"#B0BEC5\", \"#B0BEC5\", \"#B0BEC5\", \"#B0BEC5\", \"#B0BEC5\", \"#B0BEC5\", \"#B0BEC5\", \"#B0BEC5\", \"#B0BEC5\", \"#B0BEC5\", \"#B0BEC5\", \"#B0BEC5\", \"#B0BEC5\", \"#B0BEC5\", \"#B0BEC5\", \"#B0BEC5\", \"#B0BEC5\", \"#B0BEC5\", \"#B0BEC5\", \"#B0BEC5\", \"#B0BEC5\", \"#B0BEC5\", \"#B0BEC5\", \"#B0BEC5\", \"#B0BEC5\", \"#B0BEC5\", \"#B0BEC5\", \"#B0BEC5\", \"#B0BEC5\", \"#B0BEC5\", \"#B0BEC5\", \"#B0BEC5\", \"#B0BEC5\", \"#B0BEC5\", \"#B0BEC5\", \"#B0BEC5\", \"#B0BEC5\", \"#B0BEC5\", \"#B0BEC5\", \"#B0BEC5\", \"red\"]]}], \"label\": \"Topic 67\", \"method\": \"update\"}]}], \"template\": {\"data\": {\"bar\": [{\"error_x\": {\"color\": \"rgb(36,36,36)\"}, \"error_y\": {\"color\": \"rgb(36,36,36)\"}, \"marker\": {\"line\": {\"color\": \"white\", \"width\": 0.5}}, \"type\": \"bar\"}], \"barpolar\": [{\"marker\": {\"line\": {\"color\": \"white\", \"width\": 0.5}}, \"type\": \"barpolar\"}], \"carpet\": [{\"aaxis\": {\"endlinecolor\": \"rgb(36,36,36)\", \"gridcolor\": \"white\", \"linecolor\": \"white\", \"minorgridcolor\": \"white\", \"startlinecolor\": \"rgb(36,36,36)\"}, \"baxis\": {\"endlinecolor\": \"rgb(36,36,36)\", \"gridcolor\": \"white\", \"linecolor\": \"white\", \"minorgridcolor\": \"white\", \"startlinecolor\": \"rgb(36,36,36)\"}, \"type\": \"carpet\"}], \"choropleth\": [{\"colorbar\": {\"outlinewidth\": 1, \"tickcolor\": \"rgb(36,36,36)\", \"ticks\": \"outside\"}, \"type\": \"choropleth\"}], \"contour\": [{\"colorbar\": {\"outlinewidth\": 1, \"tickcolor\": \"rgb(36,36,36)\", \"ticks\": \"outside\"}, \"colorscale\": [[0.0, \"#440154\"], [0.1111111111111111, \"#482878\"], [0.2222222222222222, \"#3e4989\"], [0.3333333333333333, \"#31688e\"], [0.4444444444444444, \"#26828e\"], [0.5555555555555556, \"#1f9e89\"], [0.6666666666666666, \"#35b779\"], [0.7777777777777778, \"#6ece58\"], [0.8888888888888888, \"#b5de2b\"], [1.0, \"#fde725\"]], \"type\": \"contour\"}], \"contourcarpet\": [{\"colorbar\": {\"outlinewidth\": 1, \"tickcolor\": \"rgb(36,36,36)\", \"ticks\": \"outside\"}, \"type\": \"contourcarpet\"}], \"heatmap\": [{\"colorbar\": {\"outlinewidth\": 1, \"tickcolor\": \"rgb(36,36,36)\", \"ticks\": \"outside\"}, \"colorscale\": [[0.0, \"#440154\"], [0.1111111111111111, \"#482878\"], [0.2222222222222222, \"#3e4989\"], [0.3333333333333333, \"#31688e\"], [0.4444444444444444, \"#26828e\"], [0.5555555555555556, \"#1f9e89\"], [0.6666666666666666, \"#35b779\"], [0.7777777777777778, \"#6ece58\"], [0.8888888888888888, \"#b5de2b\"], [1.0, \"#fde725\"]], \"type\": \"heatmap\"}], \"heatmapgl\": [{\"colorbar\": {\"outlinewidth\": 1, \"tickcolor\": \"rgb(36,36,36)\", \"ticks\": \"outside\"}, \"colorscale\": [[0.0, \"#440154\"], [0.1111111111111111, \"#482878\"], [0.2222222222222222, \"#3e4989\"], [0.3333333333333333, \"#31688e\"], [0.4444444444444444, \"#26828e\"], [0.5555555555555556, \"#1f9e89\"], [0.6666666666666666, \"#35b779\"], [0.7777777777777778, \"#6ece58\"], [0.8888888888888888, \"#b5de2b\"], [1.0, \"#fde725\"]], \"type\": \"heatmapgl\"}], \"histogram\": [{\"marker\": {\"line\": {\"color\": \"white\", \"width\": 0.6}}, \"type\": \"histogram\"}], \"histogram2d\": [{\"colorbar\": {\"outlinewidth\": 1, \"tickcolor\": \"rgb(36,36,36)\", \"ticks\": \"outside\"}, \"colorscale\": [[0.0, \"#440154\"], [0.1111111111111111, \"#482878\"], [0.2222222222222222, \"#3e4989\"], [0.3333333333333333, \"#31688e\"], [0.4444444444444444, \"#26828e\"], [0.5555555555555556, \"#1f9e89\"], [0.6666666666666666, \"#35b779\"], [0.7777777777777778, \"#6ece58\"], [0.8888888888888888, \"#b5de2b\"], [1.0, \"#fde725\"]], \"type\": \"histogram2d\"}], \"histogram2dcontour\": [{\"colorbar\": {\"outlinewidth\": 1, \"tickcolor\": \"rgb(36,36,36)\", \"ticks\": \"outside\"}, \"colorscale\": [[0.0, \"#440154\"], [0.1111111111111111, \"#482878\"], [0.2222222222222222, \"#3e4989\"], [0.3333333333333333, \"#31688e\"], [0.4444444444444444, \"#26828e\"], [0.5555555555555556, \"#1f9e89\"], [0.6666666666666666, \"#35b779\"], [0.7777777777777778, \"#6ece58\"], [0.8888888888888888, \"#b5de2b\"], [1.0, \"#fde725\"]], \"type\": \"histogram2dcontour\"}], \"mesh3d\": [{\"colorbar\": {\"outlinewidth\": 1, \"tickcolor\": \"rgb(36,36,36)\", \"ticks\": \"outside\"}, \"type\": \"mesh3d\"}], \"parcoords\": [{\"line\": {\"colorbar\": {\"outlinewidth\": 1, \"tickcolor\": \"rgb(36,36,36)\", \"ticks\": \"outside\"}}, \"type\": \"parcoords\"}], \"pie\": [{\"automargin\": true, \"type\": \"pie\"}], \"scatter\": [{\"marker\": {\"colorbar\": {\"outlinewidth\": 1, \"tickcolor\": \"rgb(36,36,36)\", \"ticks\": \"outside\"}}, \"type\": \"scatter\"}], \"scatter3d\": [{\"line\": {\"colorbar\": {\"outlinewidth\": 1, \"tickcolor\": \"rgb(36,36,36)\", \"ticks\": \"outside\"}}, \"marker\": {\"colorbar\": {\"outlinewidth\": 1, \"tickcolor\": \"rgb(36,36,36)\", \"ticks\": \"outside\"}}, \"type\": \"scatter3d\"}], \"scattercarpet\": [{\"marker\": {\"colorbar\": {\"outlinewidth\": 1, \"tickcolor\": \"rgb(36,36,36)\", \"ticks\": \"outside\"}}, \"type\": \"scattercarpet\"}], \"scattergeo\": [{\"marker\": {\"colorbar\": {\"outlinewidth\": 1, \"tickcolor\": \"rgb(36,36,36)\", \"ticks\": \"outside\"}}, \"type\": \"scattergeo\"}], \"scattergl\": [{\"marker\": {\"colorbar\": {\"outlinewidth\": 1, \"tickcolor\": \"rgb(36,36,36)\", \"ticks\": \"outside\"}}, \"type\": \"scattergl\"}], \"scattermapbox\": [{\"marker\": {\"colorbar\": {\"outlinewidth\": 1, \"tickcolor\": \"rgb(36,36,36)\", \"ticks\": \"outside\"}}, \"type\": \"scattermapbox\"}], \"scatterpolar\": [{\"marker\": {\"colorbar\": {\"outlinewidth\": 1, \"tickcolor\": \"rgb(36,36,36)\", \"ticks\": \"outside\"}}, \"type\": \"scatterpolar\"}], \"scatterpolargl\": [{\"marker\": {\"colorbar\": {\"outlinewidth\": 1, \"tickcolor\": \"rgb(36,36,36)\", \"ticks\": \"outside\"}}, \"type\": \"scatterpolargl\"}], \"scatterternary\": [{\"marker\": {\"colorbar\": {\"outlinewidth\": 1, \"tickcolor\": \"rgb(36,36,36)\", \"ticks\": \"outside\"}}, \"type\": \"scatterternary\"}], \"surface\": [{\"colorbar\": {\"outlinewidth\": 1, \"tickcolor\": \"rgb(36,36,36)\", \"ticks\": \"outside\"}, \"colorscale\": [[0.0, \"#440154\"], [0.1111111111111111, \"#482878\"], [0.2222222222222222, \"#3e4989\"], [0.3333333333333333, \"#31688e\"], [0.4444444444444444, \"#26828e\"], [0.5555555555555556, \"#1f9e89\"], [0.6666666666666666, \"#35b779\"], [0.7777777777777778, \"#6ece58\"], [0.8888888888888888, \"#b5de2b\"], [1.0, \"#fde725\"]], \"type\": \"surface\"}], \"table\": [{\"cells\": {\"fill\": {\"color\": \"rgb(237,237,237)\"}, \"line\": {\"color\": \"white\"}}, \"header\": {\"fill\": {\"color\": \"rgb(217,217,217)\"}, \"line\": {\"color\": \"white\"}}, \"type\": \"table\"}]}, \"layout\": {\"annotationdefaults\": {\"arrowhead\": 0, \"arrowwidth\": 1}, \"autotypenumbers\": \"strict\", \"coloraxis\": {\"colorbar\": {\"outlinewidth\": 1, \"tickcolor\": \"rgb(36,36,36)\", \"ticks\": \"outside\"}}, \"colorscale\": {\"diverging\": [[0.0, \"rgb(103,0,31)\"], [0.1, \"rgb(178,24,43)\"], [0.2, \"rgb(214,96,77)\"], [0.3, \"rgb(244,165,130)\"], [0.4, \"rgb(253,219,199)\"], [0.5, \"rgb(247,247,247)\"], [0.6, \"rgb(209,229,240)\"], [0.7, \"rgb(146,197,222)\"], [0.8, \"rgb(67,147,195)\"], [0.9, \"rgb(33,102,172)\"], [1.0, \"rgb(5,48,97)\"]], \"sequential\": [[0.0, \"#440154\"], [0.1111111111111111, \"#482878\"], [0.2222222222222222, \"#3e4989\"], [0.3333333333333333, \"#31688e\"], [0.4444444444444444, \"#26828e\"], [0.5555555555555556, \"#1f9e89\"], [0.6666666666666666, \"#35b779\"], [0.7777777777777778, \"#6ece58\"], [0.8888888888888888, \"#b5de2b\"], [1.0, \"#fde725\"]], \"sequentialminus\": [[0.0, \"#440154\"], [0.1111111111111111, \"#482878\"], [0.2222222222222222, \"#3e4989\"], [0.3333333333333333, \"#31688e\"], [0.4444444444444444, \"#26828e\"], [0.5555555555555556, \"#1f9e89\"], [0.6666666666666666, \"#35b779\"], [0.7777777777777778, \"#6ece58\"], [0.8888888888888888, \"#b5de2b\"], [1.0, \"#fde725\"]]}, \"colorway\": [\"#1F77B4\", \"#FF7F0E\", \"#2CA02C\", \"#D62728\", \"#9467BD\", \"#8C564B\", \"#E377C2\", \"#7F7F7F\", \"#BCBD22\", \"#17BECF\"], \"font\": {\"color\": \"rgb(36,36,36)\"}, \"geo\": {\"bgcolor\": \"white\", \"lakecolor\": \"white\", \"landcolor\": \"white\", \"showlakes\": true, \"showland\": true, \"subunitcolor\": \"white\"}, \"hoverlabel\": {\"align\": \"left\"}, \"hovermode\": \"closest\", \"mapbox\": {\"style\": \"light\"}, \"paper_bgcolor\": \"white\", \"plot_bgcolor\": \"white\", \"polar\": {\"angularaxis\": {\"gridcolor\": \"rgb(232,232,232)\", \"linecolor\": \"rgb(36,36,36)\", \"showgrid\": false, \"showline\": true, \"ticks\": \"outside\"}, \"bgcolor\": \"white\", \"radialaxis\": {\"gridcolor\": \"rgb(232,232,232)\", \"linecolor\": \"rgb(36,36,36)\", \"showgrid\": false, \"showline\": true, \"ticks\": \"outside\"}}, \"scene\": {\"xaxis\": {\"backgroundcolor\": \"white\", \"gridcolor\": \"rgb(232,232,232)\", \"gridwidth\": 2, \"linecolor\": \"rgb(36,36,36)\", \"showbackground\": true, \"showgrid\": false, \"showline\": true, \"ticks\": \"outside\", \"zeroline\": false, \"zerolinecolor\": \"rgb(36,36,36)\"}, \"yaxis\": {\"backgroundcolor\": \"white\", \"gridcolor\": \"rgb(232,232,232)\", \"gridwidth\": 2, \"linecolor\": \"rgb(36,36,36)\", \"showbackground\": true, \"showgrid\": false, \"showline\": true, \"ticks\": \"outside\", \"zeroline\": false, \"zerolinecolor\": \"rgb(36,36,36)\"}, \"zaxis\": {\"backgroundcolor\": \"white\", \"gridcolor\": \"rgb(232,232,232)\", \"gridwidth\": 2, \"linecolor\": \"rgb(36,36,36)\", \"showbackground\": true, \"showgrid\": false, \"showline\": true, \"ticks\": \"outside\", \"zeroline\": false, \"zerolinecolor\": \"rgb(36,36,36)\"}}, \"shapedefaults\": {\"fillcolor\": \"black\", \"line\": {\"width\": 0}, \"opacity\": 0.3}, \"ternary\": {\"aaxis\": {\"gridcolor\": \"rgb(232,232,232)\", \"linecolor\": \"rgb(36,36,36)\", \"showgrid\": false, \"showline\": true, \"ticks\": \"outside\"}, \"baxis\": {\"gridcolor\": \"rgb(232,232,232)\", \"linecolor\": \"rgb(36,36,36)\", \"showgrid\": false, \"showline\": true, \"ticks\": \"outside\"}, \"bgcolor\": \"white\", \"caxis\": {\"gridcolor\": \"rgb(232,232,232)\", \"linecolor\": \"rgb(36,36,36)\", \"showgrid\": false, \"showline\": true, \"ticks\": \"outside\"}}, \"title\": {\"x\": 0.05}, \"xaxis\": {\"automargin\": true, \"gridcolor\": \"rgb(232,232,232)\", \"linecolor\": \"rgb(36,36,36)\", \"showgrid\": false, \"showline\": true, \"ticks\": \"outside\", \"title\": {\"standoff\": 15}, \"zeroline\": false, \"zerolinecolor\": \"rgb(36,36,36)\"}, \"yaxis\": {\"automargin\": true, \"gridcolor\": \"rgb(232,232,232)\", \"linecolor\": \"rgb(36,36,36)\", \"showgrid\": false, \"showline\": true, \"ticks\": \"outside\", \"title\": {\"standoff\": 15}, \"zeroline\": false, \"zerolinecolor\": \"rgb(36,36,36)\"}}}, \"title\": {\"font\": {\"color\": \"Black\", \"size\": 22}, \"text\": \"<b>Intertopic Distance Map\", \"x\": 0.5, \"xanchor\": \"center\", \"y\": 0.95, \"yanchor\": \"top\"}, \"width\": 650, \"xaxis\": {\"anchor\": \"y\", \"domain\": [0.0, 1.0], \"range\": [-12.146603012084961, 18.27390398979187], \"title\": {\"text\": \"\"}, \"visible\": false}, \"yaxis\": {\"anchor\": \"x\", \"domain\": [0.0, 1.0], \"range\": [-17.927207136154173, 27.818272495269774], \"title\": {\"text\": \"\"}, \"visible\": false}},                        {\"responsive\": true}                    ).then(function(){\n",
              "                            \n",
              "var gd = document.getElementById('0f076252-dc99-46e2-a62f-cd50fb327c2e');\n",
              "var x = new MutationObserver(function (mutations, observer) {{\n",
              "        var display = window.getComputedStyle(gd).display;\n",
              "        if (!display || display === 'none') {{\n",
              "            console.log([gd, 'removed!']);\n",
              "            Plotly.purge(gd);\n",
              "            observer.disconnect();\n",
              "        }}\n",
              "}});\n",
              "\n",
              "// Listen for the removal of the full notebook cells\n",
              "var notebookContainer = gd.closest('#notebook-container');\n",
              "if (notebookContainer) {{\n",
              "    x.observe(notebookContainer, {childList: true});\n",
              "}}\n",
              "\n",
              "// Listen for the clearing of the current output cell\n",
              "var outputEl = gd.closest('.output');\n",
              "if (outputEl) {{\n",
              "    x.observe(outputEl, {childList: true});\n",
              "}}\n",
              "\n",
              "                        })                };                            </script>        </div>\n",
              "</body>\n",
              "</html>"
            ]
          },
          "metadata": {
            "tags": []
          }
        }
      ]
    },
    {
      "cell_type": "markdown",
      "metadata": {
        "id": "ITB7bf6q8nWQ"
      },
      "source": [
        "## Visualize Topic Probabilities\n",
        "\n",
        "The variable `probabilities` that is returned from `transform()` or `fit_transform()` can \n",
        "be used to understand how confident BERTopic is that certain topics can be found in a document. \n",
        "\n",
        "To visualize the distributions, we simply call:"
      ]
    },
    {
      "cell_type": "code",
      "metadata": {
        "colab": {
          "base_uri": "https://localhost:8080/",
          "height": 617
        },
        "id": "ypfI1-KHdmcX",
        "outputId": "1afb1c00-19ba-4d8c-902a-ee82a1aa9640"
      },
      "source": [
        "topic_model.visualize_distribution(probs[0], min_probability=0.02)"
      ],
      "execution_count": 16,
      "outputs": [
        {
          "output_type": "display_data",
          "data": {
            "text/html": [
              "<html>\n",
              "<head><meta charset=\"utf-8\" /></head>\n",
              "<body>\n",
              "    <div>            <script src=\"https://cdnjs.cloudflare.com/ajax/libs/mathjax/2.7.5/MathJax.js?config=TeX-AMS-MML_SVG\"></script><script type=\"text/javascript\">if (window.MathJax) {MathJax.Hub.Config({SVG: {font: \"STIX-Web\"}});}</script>                <script type=\"text/javascript\">window.PlotlyConfig = {MathJaxConfig: 'local'};</script>\n",
              "        <script src=\"https://cdn.plot.ly/plotly-latest.min.js\"></script>                <div id=\"770f1260-52da-45a5-9d15-fba059f6076d\" class=\"plotly-graph-div\" style=\"height:600px; width:800px;\"></div>            <script type=\"text/javascript\">                                    window.PLOTLYENV=window.PLOTLYENV || {};                                    if (document.getElementById(\"770f1260-52da-45a5-9d15-fba059f6076d\")) {                    Plotly.newPlot(                        \"770f1260-52da-45a5-9d15-fba059f6076d\",                        [{\"marker\": {\"color\": \"#C8D2D7\", \"line\": {\"color\": \"#6E8484\", \"width\": 1}}, \"orientation\": \"h\", \"type\": \"bar\", \"x\": [0.03, 0.067, 0.034, 0.036, 0.484], \"y\": [\"<b>Topic 2</b>: learn_technology_learnin...\", \"<b>Topic 6</b>: environment_work environ...\", \"<b>Topic 8</b>: life balance_work life_w...\", \"<b>Topic 20</b>: work culture_great cult...\", \"<b>Topic 30</b>: smart_smart people_work...\"]}],                        {\"height\": 600, \"hoverlabel\": {\"bgcolor\": \"white\", \"font\": {\"family\": \"Rockwell\", \"size\": 16}}, \"template\": {\"data\": {\"bar\": [{\"error_x\": {\"color\": \"rgb(36,36,36)\"}, \"error_y\": {\"color\": \"rgb(36,36,36)\"}, \"marker\": {\"line\": {\"color\": \"white\", \"width\": 0.5}}, \"type\": \"bar\"}], \"barpolar\": [{\"marker\": {\"line\": {\"color\": \"white\", \"width\": 0.5}}, \"type\": \"barpolar\"}], \"carpet\": [{\"aaxis\": {\"endlinecolor\": \"rgb(36,36,36)\", \"gridcolor\": \"white\", \"linecolor\": \"white\", \"minorgridcolor\": \"white\", \"startlinecolor\": \"rgb(36,36,36)\"}, \"baxis\": {\"endlinecolor\": \"rgb(36,36,36)\", \"gridcolor\": \"white\", \"linecolor\": \"white\", \"minorgridcolor\": \"white\", \"startlinecolor\": \"rgb(36,36,36)\"}, \"type\": \"carpet\"}], \"choropleth\": [{\"colorbar\": {\"outlinewidth\": 1, \"tickcolor\": \"rgb(36,36,36)\", \"ticks\": \"outside\"}, \"type\": \"choropleth\"}], \"contour\": [{\"colorbar\": {\"outlinewidth\": 1, \"tickcolor\": \"rgb(36,36,36)\", \"ticks\": \"outside\"}, \"colorscale\": [[0.0, \"#440154\"], [0.1111111111111111, \"#482878\"], [0.2222222222222222, \"#3e4989\"], [0.3333333333333333, \"#31688e\"], [0.4444444444444444, \"#26828e\"], [0.5555555555555556, \"#1f9e89\"], [0.6666666666666666, \"#35b779\"], [0.7777777777777778, \"#6ece58\"], [0.8888888888888888, \"#b5de2b\"], [1.0, \"#fde725\"]], \"type\": \"contour\"}], \"contourcarpet\": [{\"colorbar\": {\"outlinewidth\": 1, \"tickcolor\": \"rgb(36,36,36)\", \"ticks\": \"outside\"}, \"type\": \"contourcarpet\"}], \"heatmap\": [{\"colorbar\": {\"outlinewidth\": 1, \"tickcolor\": \"rgb(36,36,36)\", \"ticks\": \"outside\"}, \"colorscale\": [[0.0, \"#440154\"], [0.1111111111111111, \"#482878\"], [0.2222222222222222, \"#3e4989\"], [0.3333333333333333, \"#31688e\"], [0.4444444444444444, \"#26828e\"], [0.5555555555555556, \"#1f9e89\"], [0.6666666666666666, \"#35b779\"], [0.7777777777777778, \"#6ece58\"], [0.8888888888888888, \"#b5de2b\"], [1.0, \"#fde725\"]], \"type\": \"heatmap\"}], \"heatmapgl\": [{\"colorbar\": {\"outlinewidth\": 1, \"tickcolor\": \"rgb(36,36,36)\", \"ticks\": \"outside\"}, \"colorscale\": [[0.0, \"#440154\"], [0.1111111111111111, \"#482878\"], [0.2222222222222222, \"#3e4989\"], [0.3333333333333333, \"#31688e\"], [0.4444444444444444, \"#26828e\"], [0.5555555555555556, \"#1f9e89\"], [0.6666666666666666, \"#35b779\"], [0.7777777777777778, \"#6ece58\"], [0.8888888888888888, \"#b5de2b\"], [1.0, \"#fde725\"]], \"type\": \"heatmapgl\"}], \"histogram\": [{\"marker\": {\"line\": {\"color\": \"white\", \"width\": 0.6}}, \"type\": \"histogram\"}], \"histogram2d\": [{\"colorbar\": {\"outlinewidth\": 1, \"tickcolor\": \"rgb(36,36,36)\", \"ticks\": \"outside\"}, \"colorscale\": [[0.0, \"#440154\"], [0.1111111111111111, \"#482878\"], [0.2222222222222222, \"#3e4989\"], [0.3333333333333333, \"#31688e\"], [0.4444444444444444, \"#26828e\"], [0.5555555555555556, \"#1f9e89\"], [0.6666666666666666, \"#35b779\"], [0.7777777777777778, \"#6ece58\"], [0.8888888888888888, \"#b5de2b\"], [1.0, \"#fde725\"]], \"type\": \"histogram2d\"}], \"histogram2dcontour\": [{\"colorbar\": {\"outlinewidth\": 1, \"tickcolor\": \"rgb(36,36,36)\", \"ticks\": \"outside\"}, \"colorscale\": [[0.0, \"#440154\"], [0.1111111111111111, \"#482878\"], [0.2222222222222222, \"#3e4989\"], [0.3333333333333333, \"#31688e\"], [0.4444444444444444, \"#26828e\"], [0.5555555555555556, \"#1f9e89\"], [0.6666666666666666, \"#35b779\"], [0.7777777777777778, \"#6ece58\"], [0.8888888888888888, \"#b5de2b\"], [1.0, \"#fde725\"]], \"type\": \"histogram2dcontour\"}], \"mesh3d\": [{\"colorbar\": {\"outlinewidth\": 1, \"tickcolor\": \"rgb(36,36,36)\", \"ticks\": \"outside\"}, \"type\": \"mesh3d\"}], \"parcoords\": [{\"line\": {\"colorbar\": {\"outlinewidth\": 1, \"tickcolor\": \"rgb(36,36,36)\", \"ticks\": \"outside\"}}, \"type\": \"parcoords\"}], \"pie\": [{\"automargin\": true, \"type\": \"pie\"}], \"scatter\": [{\"marker\": {\"colorbar\": {\"outlinewidth\": 1, \"tickcolor\": \"rgb(36,36,36)\", \"ticks\": \"outside\"}}, \"type\": \"scatter\"}], \"scatter3d\": [{\"line\": {\"colorbar\": {\"outlinewidth\": 1, \"tickcolor\": \"rgb(36,36,36)\", \"ticks\": \"outside\"}}, \"marker\": {\"colorbar\": {\"outlinewidth\": 1, \"tickcolor\": \"rgb(36,36,36)\", \"ticks\": \"outside\"}}, \"type\": \"scatter3d\"}], \"scattercarpet\": [{\"marker\": {\"colorbar\": {\"outlinewidth\": 1, \"tickcolor\": \"rgb(36,36,36)\", \"ticks\": \"outside\"}}, \"type\": \"scattercarpet\"}], \"scattergeo\": [{\"marker\": {\"colorbar\": {\"outlinewidth\": 1, \"tickcolor\": \"rgb(36,36,36)\", \"ticks\": \"outside\"}}, \"type\": \"scattergeo\"}], \"scattergl\": [{\"marker\": {\"colorbar\": {\"outlinewidth\": 1, \"tickcolor\": \"rgb(36,36,36)\", \"ticks\": \"outside\"}}, \"type\": \"scattergl\"}], \"scattermapbox\": [{\"marker\": {\"colorbar\": {\"outlinewidth\": 1, \"tickcolor\": \"rgb(36,36,36)\", \"ticks\": \"outside\"}}, \"type\": \"scattermapbox\"}], \"scatterpolar\": [{\"marker\": {\"colorbar\": {\"outlinewidth\": 1, \"tickcolor\": \"rgb(36,36,36)\", \"ticks\": \"outside\"}}, \"type\": \"scatterpolar\"}], \"scatterpolargl\": [{\"marker\": {\"colorbar\": {\"outlinewidth\": 1, \"tickcolor\": \"rgb(36,36,36)\", \"ticks\": \"outside\"}}, \"type\": \"scatterpolargl\"}], \"scatterternary\": [{\"marker\": {\"colorbar\": {\"outlinewidth\": 1, \"tickcolor\": \"rgb(36,36,36)\", \"ticks\": \"outside\"}}, \"type\": \"scatterternary\"}], \"surface\": [{\"colorbar\": {\"outlinewidth\": 1, \"tickcolor\": \"rgb(36,36,36)\", \"ticks\": \"outside\"}, \"colorscale\": [[0.0, \"#440154\"], [0.1111111111111111, \"#482878\"], [0.2222222222222222, \"#3e4989\"], [0.3333333333333333, \"#31688e\"], [0.4444444444444444, \"#26828e\"], [0.5555555555555556, \"#1f9e89\"], [0.6666666666666666, \"#35b779\"], [0.7777777777777778, \"#6ece58\"], [0.8888888888888888, \"#b5de2b\"], [1.0, \"#fde725\"]], \"type\": \"surface\"}], \"table\": [{\"cells\": {\"fill\": {\"color\": \"rgb(237,237,237)\"}, \"line\": {\"color\": \"white\"}}, \"header\": {\"fill\": {\"color\": \"rgb(217,217,217)\"}, \"line\": {\"color\": \"white\"}}, \"type\": \"table\"}]}, \"layout\": {\"annotationdefaults\": {\"arrowhead\": 0, \"arrowwidth\": 1}, \"autotypenumbers\": \"strict\", \"coloraxis\": {\"colorbar\": {\"outlinewidth\": 1, \"tickcolor\": \"rgb(36,36,36)\", \"ticks\": \"outside\"}}, \"colorscale\": {\"diverging\": [[0.0, \"rgb(103,0,31)\"], [0.1, \"rgb(178,24,43)\"], [0.2, \"rgb(214,96,77)\"], [0.3, \"rgb(244,165,130)\"], [0.4, \"rgb(253,219,199)\"], [0.5, \"rgb(247,247,247)\"], [0.6, \"rgb(209,229,240)\"], [0.7, \"rgb(146,197,222)\"], [0.8, \"rgb(67,147,195)\"], [0.9, \"rgb(33,102,172)\"], [1.0, \"rgb(5,48,97)\"]], \"sequential\": [[0.0, \"#440154\"], [0.1111111111111111, \"#482878\"], [0.2222222222222222, \"#3e4989\"], [0.3333333333333333, \"#31688e\"], [0.4444444444444444, \"#26828e\"], [0.5555555555555556, \"#1f9e89\"], [0.6666666666666666, \"#35b779\"], [0.7777777777777778, \"#6ece58\"], [0.8888888888888888, \"#b5de2b\"], [1.0, \"#fde725\"]], \"sequentialminus\": [[0.0, \"#440154\"], [0.1111111111111111, \"#482878\"], [0.2222222222222222, \"#3e4989\"], [0.3333333333333333, \"#31688e\"], [0.4444444444444444, \"#26828e\"], [0.5555555555555556, \"#1f9e89\"], [0.6666666666666666, \"#35b779\"], [0.7777777777777778, \"#6ece58\"], [0.8888888888888888, \"#b5de2b\"], [1.0, \"#fde725\"]]}, \"colorway\": [\"#1F77B4\", \"#FF7F0E\", \"#2CA02C\", \"#D62728\", \"#9467BD\", \"#8C564B\", \"#E377C2\", \"#7F7F7F\", \"#BCBD22\", \"#17BECF\"], \"font\": {\"color\": \"rgb(36,36,36)\"}, \"geo\": {\"bgcolor\": \"white\", \"lakecolor\": \"white\", \"landcolor\": \"white\", \"showlakes\": true, \"showland\": true, \"subunitcolor\": \"white\"}, \"hoverlabel\": {\"align\": \"left\"}, \"hovermode\": \"closest\", \"mapbox\": {\"style\": \"light\"}, \"paper_bgcolor\": \"white\", \"plot_bgcolor\": \"white\", \"polar\": {\"angularaxis\": {\"gridcolor\": \"rgb(232,232,232)\", \"linecolor\": \"rgb(36,36,36)\", \"showgrid\": false, \"showline\": true, \"ticks\": \"outside\"}, \"bgcolor\": \"white\", \"radialaxis\": {\"gridcolor\": \"rgb(232,232,232)\", \"linecolor\": \"rgb(36,36,36)\", \"showgrid\": false, \"showline\": true, \"ticks\": \"outside\"}}, \"scene\": {\"xaxis\": {\"backgroundcolor\": \"white\", \"gridcolor\": \"rgb(232,232,232)\", \"gridwidth\": 2, \"linecolor\": \"rgb(36,36,36)\", \"showbackground\": true, \"showgrid\": false, \"showline\": true, \"ticks\": \"outside\", \"zeroline\": false, \"zerolinecolor\": \"rgb(36,36,36)\"}, \"yaxis\": {\"backgroundcolor\": \"white\", \"gridcolor\": \"rgb(232,232,232)\", \"gridwidth\": 2, \"linecolor\": \"rgb(36,36,36)\", \"showbackground\": true, \"showgrid\": false, \"showline\": true, \"ticks\": \"outside\", \"zeroline\": false, \"zerolinecolor\": \"rgb(36,36,36)\"}, \"zaxis\": {\"backgroundcolor\": \"white\", \"gridcolor\": \"rgb(232,232,232)\", \"gridwidth\": 2, \"linecolor\": \"rgb(36,36,36)\", \"showbackground\": true, \"showgrid\": false, \"showline\": true, \"ticks\": \"outside\", \"zeroline\": false, \"zerolinecolor\": \"rgb(36,36,36)\"}}, \"shapedefaults\": {\"fillcolor\": \"black\", \"line\": {\"width\": 0}, \"opacity\": 0.3}, \"ternary\": {\"aaxis\": {\"gridcolor\": \"rgb(232,232,232)\", \"linecolor\": \"rgb(36,36,36)\", \"showgrid\": false, \"showline\": true, \"ticks\": \"outside\"}, \"baxis\": {\"gridcolor\": \"rgb(232,232,232)\", \"linecolor\": \"rgb(36,36,36)\", \"showgrid\": false, \"showline\": true, \"ticks\": \"outside\"}, \"bgcolor\": \"white\", \"caxis\": {\"gridcolor\": \"rgb(232,232,232)\", \"linecolor\": \"rgb(36,36,36)\", \"showgrid\": false, \"showline\": true, \"ticks\": \"outside\"}}, \"title\": {\"x\": 0.05}, \"xaxis\": {\"automargin\": true, \"gridcolor\": \"rgb(232,232,232)\", \"linecolor\": \"rgb(36,36,36)\", \"showgrid\": false, \"showline\": true, \"ticks\": \"outside\", \"title\": {\"standoff\": 15}, \"zeroline\": false, \"zerolinecolor\": \"rgb(36,36,36)\"}, \"yaxis\": {\"automargin\": true, \"gridcolor\": \"rgb(232,232,232)\", \"linecolor\": \"rgb(36,36,36)\", \"showgrid\": false, \"showline\": true, \"ticks\": \"outside\", \"title\": {\"standoff\": 15}, \"zeroline\": false, \"zerolinecolor\": \"rgb(36,36,36)\"}}}, \"title\": {\"font\": {\"color\": \"Black\", \"size\": 22}, \"text\": \"<b>Topic Probability Distribution\", \"x\": 0.5, \"xanchor\": \"center\", \"y\": 0.95, \"yanchor\": \"top\"}, \"width\": 800, \"xaxis\": {\"title\": {\"text\": \"Probability\"}}},                        {\"responsive\": true}                    ).then(function(){\n",
              "                            \n",
              "var gd = document.getElementById('770f1260-52da-45a5-9d15-fba059f6076d');\n",
              "var x = new MutationObserver(function (mutations, observer) {{\n",
              "        var display = window.getComputedStyle(gd).display;\n",
              "        if (!display || display === 'none') {{\n",
              "            console.log([gd, 'removed!']);\n",
              "            Plotly.purge(gd);\n",
              "            observer.disconnect();\n",
              "        }}\n",
              "}});\n",
              "\n",
              "// Listen for the removal of the full notebook cells\n",
              "var notebookContainer = gd.closest('#notebook-container');\n",
              "if (notebookContainer) {{\n",
              "    x.observe(notebookContainer, {childList: true});\n",
              "}}\n",
              "\n",
              "// Listen for the clearing of the current output cell\n",
              "var outputEl = gd.closest('.output');\n",
              "if (outputEl) {{\n",
              "    x.observe(outputEl, {childList: true});\n",
              "}}\n",
              "\n",
              "                        })                };                            </script>        </div>\n",
              "</body>\n",
              "</html>"
            ]
          },
          "metadata": {
            "tags": []
          }
        }
      ]
    },
    {
      "cell_type": "markdown",
      "metadata": {
        "id": "QHRTeSpl5JYB"
      },
      "source": [
        "## Visualize Topic Hierarchy\n",
        "\n",
        "The topics that were created can be hierarchically reduced. In order to understand the potential hierarchical structure of the topics, we can use scipy.cluster.hierarchy to create clusters and visualize how they relate to one another. This might help selecting an appropriate nr_topics when reducing the number of topics that you have created."
      ]
    },
    {
      "cell_type": "code",
      "metadata": {
        "colab": {
          "base_uri": "https://localhost:8080/",
          "height": 617
        },
        "id": "ltmLFRR56a4X",
        "outputId": "97ce62a4-82c9-483f-c665-5851261f31cc"
      },
      "source": [
        "topic_model.visualize_hierarchy(top_n_topics=69)"
      ],
      "execution_count": 20,
      "outputs": [
        {
          "output_type": "display_data",
          "data": {
            "text/html": [
              "<html>\n",
              "<head><meta charset=\"utf-8\" /></head>\n",
              "<body>\n",
              "    <div>            <script src=\"https://cdnjs.cloudflare.com/ajax/libs/mathjax/2.7.5/MathJax.js?config=TeX-AMS-MML_SVG\"></script><script type=\"text/javascript\">if (window.MathJax) {MathJax.Hub.Config({SVG: {font: \"STIX-Web\"}});}</script>                <script type=\"text/javascript\">window.PlotlyConfig = {MathJaxConfig: 'local'};</script>\n",
              "        <script src=\"https://cdn.plot.ly/plotly-latest.min.js\"></script>                <div id=\"a942d1fd-f7b2-4d47-a319-d5dc19fc8738\" class=\"plotly-graph-div\" style=\"height:600px; width:1000px;\"></div>            <script type=\"text/javascript\">                                    window.PLOTLYENV=window.PLOTLYENV || {};                                    if (document.getElementById(\"a942d1fd-f7b2-4d47-a319-d5dc19fc8738\")) {                    Plotly.newPlot(                        \"a942d1fd-f7b2-4d47-a319-d5dc19fc8738\",                        [{\"hoverinfo\": \"text\", \"marker\": {\"color\": \"rgb(0,116,217)\"}, \"mode\": \"lines\", \"type\": \"scatter\", \"x\": [0.0, 1.125338930418325, 1.125338930418325, 0.0], \"xaxis\": \"x\", \"y\": [-5.0, -5.0, -15.0, -15.0], \"yaxis\": \"y\"}, {\"hoverinfo\": \"text\", \"marker\": {\"color\": \"rgb(61,153,112)\"}, \"mode\": \"lines\", \"type\": \"scatter\", \"x\": [0.0, 0.9573657863728782, 0.9573657863728782, 0.0], \"xaxis\": \"x\", \"y\": [-35.0, -35.0, -45.0, -45.0], \"yaxis\": \"y\"}, {\"hoverinfo\": \"text\", \"marker\": {\"color\": \"rgb(0,116,217)\"}, \"mode\": \"lines\", \"type\": \"scatter\", \"x\": [0.0, 1.1777575853651674, 1.1777575853651674, 0.9573657863728782], \"xaxis\": \"x\", \"y\": [-25.0, -25.0, -40.0, -40.0], \"yaxis\": \"y\"}, {\"hoverinfo\": \"text\", \"marker\": {\"color\": \"rgb(0,116,217)\"}, \"mode\": \"lines\", \"type\": \"scatter\", \"x\": [1.125338930418325, 1.6002187723184083, 1.6002187723184083, 1.1777575853651674], \"xaxis\": \"x\", \"y\": [-10.0, -10.0, -32.5, -32.5], \"yaxis\": \"y\"}, {\"hoverinfo\": \"text\", \"marker\": {\"color\": \"rgb(0,116,217)\"}, \"mode\": \"lines\", \"type\": \"scatter\", \"x\": [0.0, 1.3598985480712342, 1.3598985480712342, 0.0], \"xaxis\": \"x\", \"y\": [-55.0, -55.0, -65.0, -65.0], \"yaxis\": \"y\"}, {\"hoverinfo\": \"text\", \"marker\": {\"color\": \"rgb(0,116,217)\"}, \"mode\": \"lines\", \"type\": \"scatter\", \"x\": [0.0, 1.2590250205672888, 1.2590250205672888, 0.0], \"xaxis\": \"x\", \"y\": [-95.0, -95.0, -105.0, -105.0], \"yaxis\": \"y\"}, {\"hoverinfo\": \"text\", \"marker\": {\"color\": \"rgb(0,116,217)\"}, \"mode\": \"lines\", \"type\": \"scatter\", \"x\": [0.0, 1.377323701834403, 1.377323701834403, 1.2590250205672888], \"xaxis\": \"x\", \"y\": [-85.0, -85.0, -100.0, -100.0], \"yaxis\": \"y\"}, {\"hoverinfo\": \"text\", \"marker\": {\"color\": \"rgb(0,116,217)\"}, \"mode\": \"lines\", \"type\": \"scatter\", \"x\": [0.0, 1.4700058417612676, 1.4700058417612676, 1.377323701834403], \"xaxis\": \"x\", \"y\": [-75.0, -75.0, -92.5, -92.5], \"yaxis\": \"y\"}, {\"hoverinfo\": \"text\", \"marker\": {\"color\": \"rgb(0,116,217)\"}, \"mode\": \"lines\", \"type\": \"scatter\", \"x\": [1.3598985480712342, 1.8212646325775517, 1.8212646325775517, 1.4700058417612676], \"xaxis\": \"x\", \"y\": [-60.0, -60.0, -83.75, -83.75], \"yaxis\": \"y\"}, {\"hoverinfo\": \"text\", \"marker\": {\"color\": \"rgb(0,116,217)\"}, \"mode\": \"lines\", \"type\": \"scatter\", \"x\": [0.0, 1.151189420439783, 1.151189420439783, 0.0], \"xaxis\": \"x\", \"y\": [-115.0, -115.0, -125.0, -125.0], \"yaxis\": \"y\"}, {\"hoverinfo\": \"text\", \"marker\": {\"color\": \"rgb(0,116,217)\"}, \"mode\": \"lines\", \"type\": \"scatter\", \"x\": [0.0, 1.0792895740711703, 1.0792895740711703, 0.0], \"xaxis\": \"x\", \"y\": [-145.0, -145.0, -155.0, -155.0], \"yaxis\": \"y\"}, {\"hoverinfo\": \"text\", \"marker\": {\"color\": \"rgb(0,116,217)\"}, \"mode\": \"lines\", \"type\": \"scatter\", \"x\": [0.0, 1.1840110530887398, 1.1840110530887398, 1.0792895740711703], \"xaxis\": \"x\", \"y\": [-135.0, -135.0, -150.0, -150.0], \"yaxis\": \"y\"}, {\"hoverinfo\": \"text\", \"marker\": {\"color\": \"rgb(0,116,217)\"}, \"mode\": \"lines\", \"type\": \"scatter\", \"x\": [1.151189420439783, 1.3665342694492877, 1.3665342694492877, 1.1840110530887398], \"xaxis\": \"x\", \"y\": [-120.0, -120.0, -142.5, -142.5], \"yaxis\": \"y\"}, {\"hoverinfo\": \"text\", \"marker\": {\"color\": \"rgb(0,116,217)\"}, \"mode\": \"lines\", \"type\": \"scatter\", \"x\": [0.0, 1.1758013056851695, 1.1758013056851695, 0.0], \"xaxis\": \"x\", \"y\": [-175.0, -175.0, -185.0, -185.0], \"yaxis\": \"y\"}, {\"hoverinfo\": \"text\", \"marker\": {\"color\": \"rgb(0,116,217)\"}, \"mode\": \"lines\", \"type\": \"scatter\", \"x\": [0.0, 1.474381236122771, 1.474381236122771, 1.1758013056851695], \"xaxis\": \"x\", \"y\": [-165.0, -165.0, -180.0, -180.0], \"yaxis\": \"y\"}, {\"hoverinfo\": \"text\", \"marker\": {\"color\": \"rgb(0,116,217)\"}, \"mode\": \"lines\", \"type\": \"scatter\", \"x\": [0.0, 1.3021907137788944, 1.3021907137788944, 0.0], \"xaxis\": \"x\", \"y\": [-205.0, -205.0, -215.0, -215.0], \"yaxis\": \"y\"}, {\"hoverinfo\": \"text\", \"marker\": {\"color\": \"rgb(0,116,217)\"}, \"mode\": \"lines\", \"type\": \"scatter\", \"x\": [0.0, 1.4987876172450332, 1.4987876172450332, 1.3021907137788944], \"xaxis\": \"x\", \"y\": [-195.0, -195.0, -210.0, -210.0], \"yaxis\": \"y\"}, {\"hoverinfo\": \"text\", \"marker\": {\"color\": \"rgb(0,116,217)\"}, \"mode\": \"lines\", \"type\": \"scatter\", \"x\": [1.474381236122771, 1.5733034766501446, 1.5733034766501446, 1.4987876172450332], \"xaxis\": \"x\", \"y\": [-172.5, -172.5, -202.5, -202.5], \"yaxis\": \"y\"}, {\"hoverinfo\": \"text\", \"marker\": {\"color\": \"rgb(0,116,217)\"}, \"mode\": \"lines\", \"type\": \"scatter\", \"x\": [1.3665342694492877, 2.1722657308443725, 2.1722657308443725, 1.5733034766501446], \"xaxis\": \"x\", \"y\": [-131.25, -131.25, -187.5, -187.5], \"yaxis\": \"y\"}, {\"hoverinfo\": \"text\", \"marker\": {\"color\": \"rgb(0,116,217)\"}, \"mode\": \"lines\", \"type\": \"scatter\", \"x\": [1.8212646325775517, 2.543124206418533, 2.543124206418533, 2.1722657308443725], \"xaxis\": \"x\", \"y\": [-71.875, -71.875, -159.375, -159.375], \"yaxis\": \"y\"}, {\"hoverinfo\": \"text\", \"marker\": {\"color\": \"rgb(0,116,217)\"}, \"mode\": \"lines\", \"type\": \"scatter\", \"x\": [1.6002187723184083, 3.062828785121592, 3.062828785121592, 2.543124206418533], \"xaxis\": \"x\", \"y\": [-21.25, -21.25, -115.625, -115.625], \"yaxis\": \"y\"}, {\"hoverinfo\": \"text\", \"marker\": {\"color\": \"rgb(255,65,54)\"}, \"mode\": \"lines\", \"type\": \"scatter\", \"x\": [0.0, 0.5408404664055713, 0.5408404664055713, 0.0], \"xaxis\": \"x\", \"y\": [-245.0, -245.0, -255.0, -255.0], \"yaxis\": \"y\"}, {\"hoverinfo\": \"text\", \"marker\": {\"color\": \"rgb(255,65,54)\"}, \"mode\": \"lines\", \"type\": \"scatter\", \"x\": [0.0, 0.9919485120242846, 0.9919485120242846, 0.5408404664055713], \"xaxis\": \"x\", \"y\": [-235.0, -235.0, -250.0, -250.0], \"yaxis\": \"y\"}, {\"hoverinfo\": \"text\", \"marker\": {\"color\": \"rgb(0,116,217)\"}, \"mode\": \"lines\", \"type\": \"scatter\", \"x\": [0.0, 1.0806269656095624, 1.0806269656095624, 0.9919485120242846], \"xaxis\": \"x\", \"y\": [-225.0, -225.0, -242.5, -242.5], \"yaxis\": \"y\"}, {\"hoverinfo\": \"text\", \"marker\": {\"color\": \"rgb(35,205,205)\"}, \"mode\": \"lines\", \"type\": \"scatter\", \"x\": [0.0, 0.6330090030843619, 0.6330090030843619, 0.0], \"xaxis\": \"x\", \"y\": [-265.0, -265.0, -275.0, -275.0], \"yaxis\": \"y\"}, {\"hoverinfo\": \"text\", \"marker\": {\"color\": \"rgb(35,205,205)\"}, \"mode\": \"lines\", \"type\": \"scatter\", \"x\": [0.0, 0.6571525073199863, 0.6571525073199863, 0.0], \"xaxis\": \"x\", \"y\": [-285.0, -285.0, -295.0, -295.0], \"yaxis\": \"y\"}, {\"hoverinfo\": \"text\", \"marker\": {\"color\": \"rgb(35,205,205)\"}, \"mode\": \"lines\", \"type\": \"scatter\", \"x\": [0.6330090030843619, 0.9883078946092764, 0.9883078946092764, 0.6571525073199863], \"xaxis\": \"x\", \"y\": [-270.0, -270.0, -290.0, -290.0], \"yaxis\": \"y\"}, {\"hoverinfo\": \"text\", \"marker\": {\"color\": \"rgb(0,116,217)\"}, \"mode\": \"lines\", \"type\": \"scatter\", \"x\": [0.0, 1.012594292371746, 1.012594292371746, 0.0], \"xaxis\": \"x\", \"y\": [-315.0, -315.0, -325.0, -325.0], \"yaxis\": \"y\"}, {\"hoverinfo\": \"text\", \"marker\": {\"color\": \"rgb(0,116,217)\"}, \"mode\": \"lines\", \"type\": \"scatter\", \"x\": [0.0, 1.2027511128327797, 1.2027511128327797, 1.012594292371746], \"xaxis\": \"x\", \"y\": [-305.0, -305.0, -320.0, -320.0], \"yaxis\": \"y\"}, {\"hoverinfo\": \"text\", \"marker\": {\"color\": \"rgb(0,116,217)\"}, \"mode\": \"lines\", \"type\": \"scatter\", \"x\": [0.9883078946092764, 2.061092840995243, 2.061092840995243, 1.2027511128327797], \"xaxis\": \"x\", \"y\": [-280.0, -280.0, -312.5, -312.5], \"yaxis\": \"y\"}, {\"hoverinfo\": \"text\", \"marker\": {\"color\": \"rgb(0,116,217)\"}, \"mode\": \"lines\", \"type\": \"scatter\", \"x\": [1.0806269656095624, 2.7247511763090437, 2.7247511763090437, 2.061092840995243], \"xaxis\": \"x\", \"y\": [-233.75, -233.75, -296.25, -296.25], \"yaxis\": \"y\"}, {\"hoverinfo\": \"text\", \"marker\": {\"color\": \"rgb(133,20,75)\"}, \"mode\": \"lines\", \"type\": \"scatter\", \"x\": [0.0, 0.7138286956279142, 0.7138286956279142, 0.0], \"xaxis\": \"x\", \"y\": [-355.0, -355.0, -365.0, -365.0], \"yaxis\": \"y\"}, {\"hoverinfo\": \"text\", \"marker\": {\"color\": \"rgb(133,20,75)\"}, \"mode\": \"lines\", \"type\": \"scatter\", \"x\": [0.0, 0.7825874790272944, 0.7825874790272944, 0.7138286956279142], \"xaxis\": \"x\", \"y\": [-345.0, -345.0, -360.0, -360.0], \"yaxis\": \"y\"}, {\"hoverinfo\": \"text\", \"marker\": {\"color\": \"rgb(0,116,217)\"}, \"mode\": \"lines\", \"type\": \"scatter\", \"x\": [0.0, 1.089271707496786, 1.089271707496786, 0.7825874790272944], \"xaxis\": \"x\", \"y\": [-335.0, -335.0, -352.5, -352.5], \"yaxis\": \"y\"}, {\"hoverinfo\": \"text\", \"marker\": {\"color\": \"rgb(0,116,217)\"}, \"mode\": \"lines\", \"type\": \"scatter\", \"x\": [0.0, 1.0733257726180878, 1.0733257726180878, 0.0], \"xaxis\": \"x\", \"y\": [-385.0, -385.0, -395.0, -395.0], \"yaxis\": \"y\"}, {\"hoverinfo\": \"text\", \"marker\": {\"color\": \"rgb(0,116,217)\"}, \"mode\": \"lines\", \"type\": \"scatter\", \"x\": [0.0, 1.1378404650311649, 1.1378404650311649, 1.0733257726180878], \"xaxis\": \"x\", \"y\": [-375.0, -375.0, -390.0, -390.0], \"yaxis\": \"y\"}, {\"hoverinfo\": \"text\", \"marker\": {\"color\": \"rgb(0,116,217)\"}, \"mode\": \"lines\", \"type\": \"scatter\", \"x\": [1.089271707496786, 1.5175174341916897, 1.5175174341916897, 1.1378404650311649], \"xaxis\": \"x\", \"y\": [-343.75, -343.75, -382.5, -382.5], \"yaxis\": \"y\"}, {\"hoverinfo\": \"text\", \"marker\": {\"color\": \"rgb(0,116,217)\"}, \"mode\": \"lines\", \"type\": \"scatter\", \"x\": [0.0, 1.0523959955205275, 1.0523959955205275, 0.0], \"xaxis\": \"x\", \"y\": [-415.0, -415.0, -425.0, -425.0], \"yaxis\": \"y\"}, {\"hoverinfo\": \"text\", \"marker\": {\"color\": \"rgb(0,116,217)\"}, \"mode\": \"lines\", \"type\": \"scatter\", \"x\": [0.0, 1.1719486575477192, 1.1719486575477192, 1.0523959955205275], \"xaxis\": \"x\", \"y\": [-405.0, -405.0, -420.0, -420.0], \"yaxis\": \"y\"}, {\"hoverinfo\": \"text\", \"marker\": {\"color\": \"rgb(0,116,217)\"}, \"mode\": \"lines\", \"type\": \"scatter\", \"x\": [0.0, 1.050121361606155, 1.050121361606155, 0.0], \"xaxis\": \"x\", \"y\": [-445.0, -445.0, -455.0, -455.0], \"yaxis\": \"y\"}, {\"hoverinfo\": \"text\", \"marker\": {\"color\": \"rgb(0,116,217)\"}, \"mode\": \"lines\", \"type\": \"scatter\", \"x\": [0.0, 1.1365920584338227, 1.1365920584338227, 1.050121361606155], \"xaxis\": \"x\", \"y\": [-435.0, -435.0, -450.0, -450.0], \"yaxis\": \"y\"}, {\"hoverinfo\": \"text\", \"marker\": {\"color\": \"rgb(255,220,0)\"}, \"mode\": \"lines\", \"type\": \"scatter\", \"x\": [0.0, 0.9045032510346178, 0.9045032510346178, 0.0], \"xaxis\": \"x\", \"y\": [-465.0, -465.0, -475.0, -475.0], \"yaxis\": \"y\"}, {\"hoverinfo\": \"text\", \"marker\": {\"color\": \"rgb(40,35,35)\"}, \"mode\": \"lines\", \"type\": \"scatter\", \"x\": [0.0, 0.9598627750613405, 0.9598627750613405, 0.0], \"xaxis\": \"x\", \"y\": [-485.0, -485.0, -495.0, -495.0], \"yaxis\": \"y\"}, {\"hoverinfo\": \"text\", \"marker\": {\"color\": \"rgb(0,116,217)\"}, \"mode\": \"lines\", \"type\": \"scatter\", \"x\": [0.9045032510346178, 1.413510132248731, 1.413510132248731, 0.9598627750613405], \"xaxis\": \"x\", \"y\": [-470.0, -470.0, -490.0, -490.0], \"yaxis\": \"y\"}, {\"hoverinfo\": \"text\", \"marker\": {\"color\": \"rgb(0,116,217)\"}, \"mode\": \"lines\", \"type\": \"scatter\", \"x\": [1.1365920584338227, 1.760064233081903, 1.760064233081903, 1.413510132248731], \"xaxis\": \"x\", \"y\": [-442.5, -442.5, -480.0, -480.0], \"yaxis\": \"y\"}, {\"hoverinfo\": \"text\", \"marker\": {\"color\": \"rgb(0,116,217)\"}, \"mode\": \"lines\", \"type\": \"scatter\", \"x\": [1.1719486575477192, 1.793132977742957, 1.793132977742957, 1.760064233081903], \"xaxis\": \"x\", \"y\": [-412.5, -412.5, -461.25, -461.25], \"yaxis\": \"y\"}, {\"hoverinfo\": \"text\", \"marker\": {\"color\": \"rgb(61,153,112)\"}, \"mode\": \"lines\", \"type\": \"scatter\", \"x\": [0.0, 0.730633218460178, 0.730633218460178, 0.0], \"xaxis\": \"x\", \"y\": [-505.0, -505.0, -515.0, -515.0], \"yaxis\": \"y\"}, {\"hoverinfo\": \"text\", \"marker\": {\"color\": \"rgb(255,65,54)\"}, \"mode\": \"lines\", \"type\": \"scatter\", \"x\": [0.0, 0.9703222361261896, 0.9703222361261896, 0.0], \"xaxis\": \"x\", \"y\": [-525.0, -525.0, -535.0, -535.0], \"yaxis\": \"y\"}, {\"hoverinfo\": \"text\", \"marker\": {\"color\": \"rgb(0,116,217)\"}, \"mode\": \"lines\", \"type\": \"scatter\", \"x\": [0.0, 1.1587335147950968, 1.1587335147950968, 0.0], \"xaxis\": \"x\", \"y\": [-545.0, -545.0, -555.0, -555.0], \"yaxis\": \"y\"}, {\"hoverinfo\": \"text\", \"marker\": {\"color\": \"rgb(0,116,217)\"}, \"mode\": \"lines\", \"type\": \"scatter\", \"x\": [0.9703222361261896, 1.299594159531651, 1.299594159531651, 1.1587335147950968], \"xaxis\": \"x\", \"y\": [-530.0, -530.0, -550.0, -550.0], \"yaxis\": \"y\"}, {\"hoverinfo\": \"text\", \"marker\": {\"color\": \"rgb(0,116,217)\"}, \"mode\": \"lines\", \"type\": \"scatter\", \"x\": [0.730633218460178, 1.4199307167700674, 1.4199307167700674, 1.299594159531651], \"xaxis\": \"x\", \"y\": [-510.0, -510.0, -540.0, -540.0], \"yaxis\": \"y\"}, {\"hoverinfo\": \"text\", \"marker\": {\"color\": \"rgb(35,205,205)\"}, \"mode\": \"lines\", \"type\": \"scatter\", \"x\": [0.0, 0.9509459364326315, 0.9509459364326315, 0.0], \"xaxis\": \"x\", \"y\": [-585.0, -585.0, -595.0, -595.0], \"yaxis\": \"y\"}, {\"hoverinfo\": \"text\", \"marker\": {\"color\": \"rgb(0,116,217)\"}, \"mode\": \"lines\", \"type\": \"scatter\", \"x\": [0.0, 1.0615518133759392, 1.0615518133759392, 0.9509459364326315], \"xaxis\": \"x\", \"y\": [-575.0, -575.0, -590.0, -590.0], \"yaxis\": \"y\"}, {\"hoverinfo\": \"text\", \"marker\": {\"color\": \"rgb(0,116,217)\"}, \"mode\": \"lines\", \"type\": \"scatter\", \"x\": [0.0, 1.0997483233199337, 1.0997483233199337, 1.0615518133759392], \"xaxis\": \"x\", \"y\": [-565.0, -565.0, -582.5, -582.5], \"yaxis\": \"y\"}, {\"hoverinfo\": \"text\", \"marker\": {\"color\": \"rgb(0,116,217)\"}, \"mode\": \"lines\", \"type\": \"scatter\", \"x\": [0.0, 1.0417223598374388, 1.0417223598374388, 0.0], \"xaxis\": \"x\", \"y\": [-605.0, -605.0, -615.0, -615.0], \"yaxis\": \"y\"}, {\"hoverinfo\": \"text\", \"marker\": {\"color\": \"rgb(0,116,217)\"}, \"mode\": \"lines\", \"type\": \"scatter\", \"x\": [0.0, 1.0773399391635967, 1.0773399391635967, 0.0], \"xaxis\": \"x\", \"y\": [-625.0, -625.0, -635.0, -635.0], \"yaxis\": \"y\"}, {\"hoverinfo\": \"text\", \"marker\": {\"color\": \"rgb(0,116,217)\"}, \"mode\": \"lines\", \"type\": \"scatter\", \"x\": [1.0417223598374388, 1.274561579604438, 1.274561579604438, 1.0773399391635967], \"xaxis\": \"x\", \"y\": [-610.0, -610.0, -630.0, -630.0], \"yaxis\": \"y\"}, {\"hoverinfo\": \"text\", \"marker\": {\"color\": \"rgb(133,20,75)\"}, \"mode\": \"lines\", \"type\": \"scatter\", \"x\": [0.0, 0.8326192619281821, 0.8326192619281821, 0.0], \"xaxis\": \"x\", \"y\": [-645.0, -645.0, -655.0, -655.0], \"yaxis\": \"y\"}, {\"hoverinfo\": \"text\", \"marker\": {\"color\": \"rgb(255,220,0)\"}, \"mode\": \"lines\", \"type\": \"scatter\", \"x\": [0.0, 0.9049880252608578, 0.9049880252608578, 0.0], \"xaxis\": \"x\", \"y\": [-665.0, -665.0, -675.0, -675.0], \"yaxis\": \"y\"}, {\"hoverinfo\": \"text\", \"marker\": {\"color\": \"rgb(0,116,217)\"}, \"mode\": \"lines\", \"type\": \"scatter\", \"x\": [0.8326192619281821, 1.2769036371473275, 1.2769036371473275, 0.9049880252608578], \"xaxis\": \"x\", \"y\": [-650.0, -650.0, -670.0, -670.0], \"yaxis\": \"y\"}, {\"hoverinfo\": \"text\", \"marker\": {\"color\": \"rgb(0,116,217)\"}, \"mode\": \"lines\", \"type\": \"scatter\", \"x\": [1.274561579604438, 1.8812687777319375, 1.8812687777319375, 1.2769036371473275], \"xaxis\": \"x\", \"y\": [-620.0, -620.0, -660.0, -660.0], \"yaxis\": \"y\"}, {\"hoverinfo\": \"text\", \"marker\": {\"color\": \"rgb(0,116,217)\"}, \"mode\": \"lines\", \"type\": \"scatter\", \"x\": [1.0997483233199337, 2.0301439968597244, 2.0301439968597244, 1.8812687777319375], \"xaxis\": \"x\", \"y\": [-573.75, -573.75, -640.0, -640.0], \"yaxis\": \"y\"}, {\"hoverinfo\": \"text\", \"marker\": {\"color\": \"rgb(0,116,217)\"}, \"mode\": \"lines\", \"type\": \"scatter\", \"x\": [1.4199307167700674, 2.5981342980589965, 2.5981342980589965, 2.0301439968597244], \"xaxis\": \"x\", \"y\": [-525.0, -525.0, -606.875, -606.875], \"yaxis\": \"y\"}, {\"hoverinfo\": \"text\", \"marker\": {\"color\": \"rgb(0,116,217)\"}, \"mode\": \"lines\", \"type\": \"scatter\", \"x\": [1.793132977742957, 2.7251757975900084, 2.7251757975900084, 2.5981342980589965], \"xaxis\": \"x\", \"y\": [-436.875, -436.875, -565.9375, -565.9375], \"yaxis\": \"y\"}, {\"hoverinfo\": \"text\", \"marker\": {\"color\": \"rgb(0,116,217)\"}, \"mode\": \"lines\", \"type\": \"scatter\", \"x\": [1.5175174341916897, 3.338333413489875, 3.338333413489875, 2.7251757975900084], \"xaxis\": \"x\", \"y\": [-363.125, -363.125, -501.40625, -501.40625], \"yaxis\": \"y\"}, {\"hoverinfo\": \"text\", \"marker\": {\"color\": \"rgb(0,116,217)\"}, \"mode\": \"lines\", \"type\": \"scatter\", \"x\": [2.7247511763090437, 5.300256919803004, 5.300256919803004, 3.338333413489875], \"xaxis\": \"x\", \"y\": [-265.0, -265.0, -432.265625, -432.265625], \"yaxis\": \"y\"}, {\"hoverinfo\": \"text\", \"marker\": {\"color\": \"rgb(0,116,217)\"}, \"mode\": \"lines\", \"type\": \"scatter\", \"x\": [3.062828785121592, 5.909842045823267, 5.909842045823267, 5.300256919803004], \"xaxis\": \"x\", \"y\": [-68.4375, -68.4375, -348.6328125, -348.6328125], \"yaxis\": \"y\"}],                        {\"autosize\": false, \"height\": 600, \"hoverlabel\": {\"bgcolor\": \"white\", \"font\": {\"family\": \"Rockwell\", \"size\": 16}}, \"hovermode\": \"closest\", \"plot_bgcolor\": \"#ECEFF1\", \"showlegend\": false, \"template\": {\"data\": {\"bar\": [{\"error_x\": {\"color\": \"#2a3f5f\"}, \"error_y\": {\"color\": \"#2a3f5f\"}, \"marker\": {\"line\": {\"color\": \"white\", \"width\": 0.5}}, \"type\": \"bar\"}], \"barpolar\": [{\"marker\": {\"line\": {\"color\": \"white\", \"width\": 0.5}}, \"type\": \"barpolar\"}], \"carpet\": [{\"aaxis\": {\"endlinecolor\": \"#2a3f5f\", \"gridcolor\": \"#C8D4E3\", \"linecolor\": \"#C8D4E3\", \"minorgridcolor\": \"#C8D4E3\", \"startlinecolor\": \"#2a3f5f\"}, \"baxis\": {\"endlinecolor\": \"#2a3f5f\", \"gridcolor\": \"#C8D4E3\", \"linecolor\": \"#C8D4E3\", \"minorgridcolor\": \"#C8D4E3\", \"startlinecolor\": \"#2a3f5f\"}, \"type\": \"carpet\"}], \"choropleth\": [{\"colorbar\": {\"outlinewidth\": 0, \"ticks\": \"\"}, \"type\": \"choropleth\"}], \"contour\": [{\"colorbar\": {\"outlinewidth\": 0, \"ticks\": \"\"}, \"colorscale\": [[0.0, \"#0d0887\"], [0.1111111111111111, \"#46039f\"], [0.2222222222222222, \"#7201a8\"], [0.3333333333333333, \"#9c179e\"], [0.4444444444444444, \"#bd3786\"], [0.5555555555555556, \"#d8576b\"], [0.6666666666666666, \"#ed7953\"], [0.7777777777777778, \"#fb9f3a\"], [0.8888888888888888, \"#fdca26\"], [1.0, \"#f0f921\"]], \"type\": \"contour\"}], \"contourcarpet\": [{\"colorbar\": {\"outlinewidth\": 0, \"ticks\": \"\"}, \"type\": \"contourcarpet\"}], \"heatmap\": [{\"colorbar\": {\"outlinewidth\": 0, \"ticks\": \"\"}, \"colorscale\": [[0.0, \"#0d0887\"], [0.1111111111111111, \"#46039f\"], [0.2222222222222222, \"#7201a8\"], [0.3333333333333333, \"#9c179e\"], [0.4444444444444444, \"#bd3786\"], [0.5555555555555556, \"#d8576b\"], [0.6666666666666666, \"#ed7953\"], [0.7777777777777778, \"#fb9f3a\"], [0.8888888888888888, \"#fdca26\"], [1.0, \"#f0f921\"]], \"type\": \"heatmap\"}], \"heatmapgl\": [{\"colorbar\": {\"outlinewidth\": 0, \"ticks\": \"\"}, \"colorscale\": [[0.0, \"#0d0887\"], [0.1111111111111111, \"#46039f\"], [0.2222222222222222, \"#7201a8\"], [0.3333333333333333, \"#9c179e\"], [0.4444444444444444, \"#bd3786\"], [0.5555555555555556, \"#d8576b\"], [0.6666666666666666, \"#ed7953\"], [0.7777777777777778, \"#fb9f3a\"], [0.8888888888888888, \"#fdca26\"], [1.0, \"#f0f921\"]], \"type\": \"heatmapgl\"}], \"histogram\": [{\"marker\": {\"colorbar\": {\"outlinewidth\": 0, \"ticks\": \"\"}}, \"type\": \"histogram\"}], \"histogram2d\": [{\"colorbar\": {\"outlinewidth\": 0, \"ticks\": \"\"}, \"colorscale\": [[0.0, \"#0d0887\"], [0.1111111111111111, \"#46039f\"], [0.2222222222222222, \"#7201a8\"], [0.3333333333333333, \"#9c179e\"], [0.4444444444444444, \"#bd3786\"], [0.5555555555555556, \"#d8576b\"], [0.6666666666666666, \"#ed7953\"], [0.7777777777777778, \"#fb9f3a\"], [0.8888888888888888, \"#fdca26\"], [1.0, \"#f0f921\"]], \"type\": \"histogram2d\"}], \"histogram2dcontour\": [{\"colorbar\": {\"outlinewidth\": 0, \"ticks\": \"\"}, \"colorscale\": [[0.0, \"#0d0887\"], [0.1111111111111111, \"#46039f\"], [0.2222222222222222, \"#7201a8\"], [0.3333333333333333, \"#9c179e\"], [0.4444444444444444, \"#bd3786\"], [0.5555555555555556, \"#d8576b\"], [0.6666666666666666, \"#ed7953\"], [0.7777777777777778, \"#fb9f3a\"], [0.8888888888888888, \"#fdca26\"], [1.0, \"#f0f921\"]], \"type\": \"histogram2dcontour\"}], \"mesh3d\": [{\"colorbar\": {\"outlinewidth\": 0, \"ticks\": \"\"}, \"type\": \"mesh3d\"}], \"parcoords\": [{\"line\": {\"colorbar\": {\"outlinewidth\": 0, \"ticks\": \"\"}}, \"type\": \"parcoords\"}], \"pie\": [{\"automargin\": true, \"type\": \"pie\"}], \"scatter\": [{\"marker\": {\"colorbar\": {\"outlinewidth\": 0, \"ticks\": \"\"}}, \"type\": \"scatter\"}], \"scatter3d\": [{\"line\": {\"colorbar\": {\"outlinewidth\": 0, \"ticks\": \"\"}}, \"marker\": {\"colorbar\": {\"outlinewidth\": 0, \"ticks\": \"\"}}, \"type\": \"scatter3d\"}], \"scattercarpet\": [{\"marker\": {\"colorbar\": {\"outlinewidth\": 0, \"ticks\": \"\"}}, \"type\": \"scattercarpet\"}], \"scattergeo\": [{\"marker\": {\"colorbar\": {\"outlinewidth\": 0, \"ticks\": \"\"}}, \"type\": \"scattergeo\"}], \"scattergl\": [{\"marker\": {\"colorbar\": {\"outlinewidth\": 0, \"ticks\": \"\"}}, \"type\": \"scattergl\"}], \"scattermapbox\": [{\"marker\": {\"colorbar\": {\"outlinewidth\": 0, \"ticks\": \"\"}}, \"type\": \"scattermapbox\"}], \"scatterpolar\": [{\"marker\": {\"colorbar\": {\"outlinewidth\": 0, \"ticks\": \"\"}}, \"type\": \"scatterpolar\"}], \"scatterpolargl\": [{\"marker\": {\"colorbar\": {\"outlinewidth\": 0, \"ticks\": \"\"}}, \"type\": \"scatterpolargl\"}], \"scatterternary\": [{\"marker\": {\"colorbar\": {\"outlinewidth\": 0, \"ticks\": \"\"}}, \"type\": \"scatterternary\"}], \"surface\": [{\"colorbar\": {\"outlinewidth\": 0, \"ticks\": \"\"}, \"colorscale\": [[0.0, \"#0d0887\"], [0.1111111111111111, \"#46039f\"], [0.2222222222222222, \"#7201a8\"], [0.3333333333333333, \"#9c179e\"], [0.4444444444444444, \"#bd3786\"], [0.5555555555555556, \"#d8576b\"], [0.6666666666666666, \"#ed7953\"], [0.7777777777777778, \"#fb9f3a\"], [0.8888888888888888, \"#fdca26\"], [1.0, \"#f0f921\"]], \"type\": \"surface\"}], \"table\": [{\"cells\": {\"fill\": {\"color\": \"#EBF0F8\"}, \"line\": {\"color\": \"white\"}}, \"header\": {\"fill\": {\"color\": \"#C8D4E3\"}, \"line\": {\"color\": \"white\"}}, \"type\": \"table\"}]}, \"layout\": {\"annotationdefaults\": {\"arrowcolor\": \"#2a3f5f\", \"arrowhead\": 0, \"arrowwidth\": 1}, \"autotypenumbers\": \"strict\", \"coloraxis\": {\"colorbar\": {\"outlinewidth\": 0, \"ticks\": \"\"}}, \"colorscale\": {\"diverging\": [[0, \"#8e0152\"], [0.1, \"#c51b7d\"], [0.2, \"#de77ae\"], [0.3, \"#f1b6da\"], [0.4, \"#fde0ef\"], [0.5, \"#f7f7f7\"], [0.6, \"#e6f5d0\"], [0.7, \"#b8e186\"], [0.8, \"#7fbc41\"], [0.9, \"#4d9221\"], [1, \"#276419\"]], \"sequential\": [[0.0, \"#0d0887\"], [0.1111111111111111, \"#46039f\"], [0.2222222222222222, \"#7201a8\"], [0.3333333333333333, \"#9c179e\"], [0.4444444444444444, \"#bd3786\"], [0.5555555555555556, \"#d8576b\"], [0.6666666666666666, \"#ed7953\"], [0.7777777777777778, \"#fb9f3a\"], [0.8888888888888888, \"#fdca26\"], [1.0, \"#f0f921\"]], \"sequentialminus\": [[0.0, \"#0d0887\"], [0.1111111111111111, \"#46039f\"], [0.2222222222222222, \"#7201a8\"], [0.3333333333333333, \"#9c179e\"], [0.4444444444444444, \"#bd3786\"], [0.5555555555555556, \"#d8576b\"], [0.6666666666666666, \"#ed7953\"], [0.7777777777777778, \"#fb9f3a\"], [0.8888888888888888, \"#fdca26\"], [1.0, \"#f0f921\"]]}, \"colorway\": [\"#636efa\", \"#EF553B\", \"#00cc96\", \"#ab63fa\", \"#FFA15A\", \"#19d3f3\", \"#FF6692\", \"#B6E880\", \"#FF97FF\", \"#FECB52\"], \"font\": {\"color\": \"#2a3f5f\"}, \"geo\": {\"bgcolor\": \"white\", \"lakecolor\": \"white\", \"landcolor\": \"white\", \"showlakes\": true, \"showland\": true, \"subunitcolor\": \"#C8D4E3\"}, \"hoverlabel\": {\"align\": \"left\"}, \"hovermode\": \"closest\", \"mapbox\": {\"style\": \"light\"}, \"paper_bgcolor\": \"white\", \"plot_bgcolor\": \"white\", \"polar\": {\"angularaxis\": {\"gridcolor\": \"#EBF0F8\", \"linecolor\": \"#EBF0F8\", \"ticks\": \"\"}, \"bgcolor\": \"white\", \"radialaxis\": {\"gridcolor\": \"#EBF0F8\", \"linecolor\": \"#EBF0F8\", \"ticks\": \"\"}}, \"scene\": {\"xaxis\": {\"backgroundcolor\": \"white\", \"gridcolor\": \"#DFE8F3\", \"gridwidth\": 2, \"linecolor\": \"#EBF0F8\", \"showbackground\": true, \"ticks\": \"\", \"zerolinecolor\": \"#EBF0F8\"}, \"yaxis\": {\"backgroundcolor\": \"white\", \"gridcolor\": \"#DFE8F3\", \"gridwidth\": 2, \"linecolor\": \"#EBF0F8\", \"showbackground\": true, \"ticks\": \"\", \"zerolinecolor\": \"#EBF0F8\"}, \"zaxis\": {\"backgroundcolor\": \"white\", \"gridcolor\": \"#DFE8F3\", \"gridwidth\": 2, \"linecolor\": \"#EBF0F8\", \"showbackground\": true, \"ticks\": \"\", \"zerolinecolor\": \"#EBF0F8\"}}, \"shapedefaults\": {\"line\": {\"color\": \"#2a3f5f\"}}, \"ternary\": {\"aaxis\": {\"gridcolor\": \"#DFE8F3\", \"linecolor\": \"#A2B1C6\", \"ticks\": \"\"}, \"baxis\": {\"gridcolor\": \"#DFE8F3\", \"linecolor\": \"#A2B1C6\", \"ticks\": \"\"}, \"bgcolor\": \"white\", \"caxis\": {\"gridcolor\": \"#DFE8F3\", \"linecolor\": \"#A2B1C6\", \"ticks\": \"\"}}, \"title\": {\"x\": 0.05}, \"xaxis\": {\"automargin\": true, \"gridcolor\": \"#EBF0F8\", \"linecolor\": \"#EBF0F8\", \"ticks\": \"\", \"title\": {\"standoff\": 15}, \"zerolinecolor\": \"#EBF0F8\", \"zerolinewidth\": 2}, \"yaxis\": {\"automargin\": true, \"gridcolor\": \"#EBF0F8\", \"linecolor\": \"#EBF0F8\", \"ticks\": \"\", \"title\": {\"standoff\": 15}, \"zerolinecolor\": \"#EBF0F8\", \"zerolinewidth\": 2}}}, \"title\": {\"font\": {\"color\": \"Black\", \"size\": 22}, \"text\": \"<b>Hierarchical Clustering\", \"x\": 0.5, \"xanchor\": \"center\", \"y\": 0.95, \"yanchor\": \"top\"}, \"width\": 1000, \"xaxis\": {\"mirror\": \"allticks\", \"rangemode\": \"tozero\", \"showgrid\": false, \"showline\": true, \"showticklabels\": true, \"ticks\": \"outside\", \"type\": \"linear\", \"zeroline\": false}, \"yaxis\": {\"mirror\": \"allticks\", \"rangemode\": \"tozero\", \"showgrid\": false, \"showline\": true, \"showticklabels\": true, \"tickmode\": \"array\", \"ticks\": \"outside\", \"ticktext\": [\"40_vacation_vacation time_p...\", \"50_day one_benefits day_ben...\", \"34_overtime_lots overtime_l...\", \"39_days_day work_work week\", \"66_shift_shifts_night shift\", \"38_dress_dress code_code\", \"52_dental_medical dental_de...\", \"14_stock_stock options_opti...\", \"55_netflix_free netflix_wor...\", \"4_food_free food_gym\", \"46_none_nothing_none none\", \"61_satya_satya nadella_saty...\", \"63_diversity_diversity work...\", \"65_solve_problems_problems ...\", \"24_de_et_und\", \"33_freedom_autonomy_ownership\", \"67_warehouse_warehouse work...\", \"49_cloud_aws_cloud services\", \"51_atmosphere_good atmosphe...\", \"36_fast paced_pace_paced en...\", \"54_seattle_seattle great_city\", \"59_vision_vision company_te...\", \"47_smart people_smart_benef...\", \"32_great company_great bene...\", \"9_great benefits_good benef...\", \"37_worklife balance_benefit...\", \"25_pay benefits_benefits pa...\", \"44_bonuses_bonus_salary good\", \"13_pay_good pay_pay good\", \"18_good salary_salary good_...\", \"26_insurance_health insuran...\", \"23_discounts_great discount...\", \"45_compensation_compensatio...\", \"5_customer_retail_customers\", \"3_microsoft_software_micros...\", \"0_amazon_apple_working\", \"10_google_facebook_working ...\", \"7_company work_great compan...\", \"19_growing_growth_company\", \"31_brand_name_brand name\", \"62_talent_talented people_b...\", \"1_team_teams_great team\", \"11_leadership_leadership pr...\", \"56_intern_interns_internship\", \"27_training_great training_...\", \"57_mentors_mentoring_mentor...\", \"17_career_opportunities_car...\", \"29_opportunities_opportunit...\", \"22_projects_interesting pro...\", \"48_engineers_engineering_en...\", \"6_environment_work environm...\", \"58_environment career_envir...\", \"15_place work_place_great p...\", \"21_home_work home_working h...\", \"8_life balance_work life_wo...\", \"16_flexible_flexible workin...\", \"42_nice campus_good campus_...\", \"20_work culture_great cultu...\", \"41_good people_new people_l...\", \"53_everything_good good_eve...\", \"12_coworkers_great coworker...\", \"35_care_employees_care empl...\", \"28_easy job_easy get_easy w...\", \"60_resume_good resume_looks...\", \"2_learn_technology_learning\", \"30_smart_smart people_work ...\", \"43_people work_great people...\", \"64_smart people_company sma...\"], \"tickvals\": [-5.0, -15.0, -25.0, -35.0, -45.0, -55.0, -65.0, -75.0, -85.0, -95.0, -105.0, -115.0, -125.0, -135.0, -145.0, -155.0, -165.0, -175.0, -185.0, -195.0, -205.0, -215.0, -225.0, -235.0, -245.0, -255.0, -265.0, -275.0, -285.0, -295.0, -305.0, -315.0, -325.0, -335.0, -345.0, -355.0, -365.0, -375.0, -385.0, -395.0, -405.0, -415.0, -425.0, -435.0, -445.0, -455.0, -465.0, -475.0, -485.0, -495.0, -505.0, -515.0, -525.0, -535.0, -545.0, -555.0, -565.0, -575.0, -585.0, -595.0, -605.0, -615.0, -625.0, -635.0, -645.0, -655.0, -665.0, -675.0], \"type\": \"linear\", \"zeroline\": false}},                        {\"responsive\": true}                    ).then(function(){\n",
              "                            \n",
              "var gd = document.getElementById('a942d1fd-f7b2-4d47-a319-d5dc19fc8738');\n",
              "var x = new MutationObserver(function (mutations, observer) {{\n",
              "        var display = window.getComputedStyle(gd).display;\n",
              "        if (!display || display === 'none') {{\n",
              "            console.log([gd, 'removed!']);\n",
              "            Plotly.purge(gd);\n",
              "            observer.disconnect();\n",
              "        }}\n",
              "}});\n",
              "\n",
              "// Listen for the removal of the full notebook cells\n",
              "var notebookContainer = gd.closest('#notebook-container');\n",
              "if (notebookContainer) {{\n",
              "    x.observe(notebookContainer, {childList: true});\n",
              "}}\n",
              "\n",
              "// Listen for the clearing of the current output cell\n",
              "var outputEl = gd.closest('.output');\n",
              "if (outputEl) {{\n",
              "    x.observe(outputEl, {childList: true});\n",
              "}}\n",
              "\n",
              "                        })                };                            </script>        </div>\n",
              "</body>\n",
              "</html>"
            ]
          },
          "metadata": {
            "tags": []
          }
        }
      ]
    },
    {
      "cell_type": "code",
      "metadata": {
        "colab": {
          "base_uri": "https://localhost:8080/",
          "height": 617
        },
        "id": "4yj-ZH3WtPtY",
        "outputId": "2e12afad-3e08-4323-8f1e-929c1b03dd53"
      },
      "source": [
        "topic_model.visualize_hierarchy(top_n_topics=30)"
      ],
      "execution_count": 21,
      "outputs": [
        {
          "output_type": "display_data",
          "data": {
            "text/html": [
              "<html>\n",
              "<head><meta charset=\"utf-8\" /></head>\n",
              "<body>\n",
              "    <div>            <script src=\"https://cdnjs.cloudflare.com/ajax/libs/mathjax/2.7.5/MathJax.js?config=TeX-AMS-MML_SVG\"></script><script type=\"text/javascript\">if (window.MathJax) {MathJax.Hub.Config({SVG: {font: \"STIX-Web\"}});}</script>                <script type=\"text/javascript\">window.PlotlyConfig = {MathJaxConfig: 'local'};</script>\n",
              "        <script src=\"https://cdn.plot.ly/plotly-latest.min.js\"></script>                <div id=\"3c4a5b56-80b7-428e-a3d6-fdeda24c59d2\" class=\"plotly-graph-div\" style=\"height:600px; width:1000px;\"></div>            <script type=\"text/javascript\">                                    window.PLOTLYENV=window.PLOTLYENV || {};                                    if (document.getElementById(\"3c4a5b56-80b7-428e-a3d6-fdeda24c59d2\")) {                    Plotly.newPlot(                        \"3c4a5b56-80b7-428e-a3d6-fdeda24c59d2\",                        [{\"hoverinfo\": \"text\", \"marker\": {\"color\": \"rgb(61,153,112)\"}, \"mode\": \"lines\", \"type\": \"scatter\", \"x\": [0.0, 0.4901103245260452, 0.4901103245260452, 0.0], \"xaxis\": \"x\", \"y\": [-5.0, -5.0, -15.0, -15.0], \"yaxis\": \"y\"}, {\"hoverinfo\": \"text\", \"marker\": {\"color\": \"rgb(255,65,54)\"}, \"mode\": \"lines\", \"type\": \"scatter\", \"x\": [0.0, 0.49466802917829117, 0.49466802917829117, 0.0], \"xaxis\": \"x\", \"y\": [-25.0, -25.0, -35.0, -35.0], \"yaxis\": \"y\"}, {\"hoverinfo\": \"text\", \"marker\": {\"color\": \"rgb(0,116,217)\"}, \"mode\": \"lines\", \"type\": \"scatter\", \"x\": [0.4901103245260452, 1.043158280701972, 1.043158280701972, 0.49466802917829117], \"xaxis\": \"x\", \"y\": [-10.0, -10.0, -30.0, -30.0], \"yaxis\": \"y\"}, {\"hoverinfo\": \"text\", \"marker\": {\"color\": \"rgb(35,205,205)\"}, \"mode\": \"lines\", \"type\": \"scatter\", \"x\": [0.0, 0.9951928017838979, 0.9951928017838979, 0.0], \"xaxis\": \"x\", \"y\": [-65.0, -65.0, -75.0, -75.0], \"yaxis\": \"y\"}, {\"hoverinfo\": \"text\", \"marker\": {\"color\": \"rgb(0,116,217)\"}, \"mode\": \"lines\", \"type\": \"scatter\", \"x\": [0.0, 1.107460427398085, 1.107460427398085, 0.9951928017838979], \"xaxis\": \"x\", \"y\": [-55.0, -55.0, -70.0, -70.0], \"yaxis\": \"y\"}, {\"hoverinfo\": \"text\", \"marker\": {\"color\": \"rgb(0,116,217)\"}, \"mode\": \"lines\", \"type\": \"scatter\", \"x\": [0.0, 1.3271995674245929, 1.3271995674245929, 1.107460427398085], \"xaxis\": \"x\", \"y\": [-45.0, -45.0, -62.5, -62.5], \"yaxis\": \"y\"}, {\"hoverinfo\": \"text\", \"marker\": {\"color\": \"rgb(0,116,217)\"}, \"mode\": \"lines\", \"type\": \"scatter\", \"x\": [1.043158280701972, 2.197793224908421, 2.197793224908421, 1.3271995674245929], \"xaxis\": \"x\", \"y\": [-20.0, -20.0, -53.75, -53.75], \"yaxis\": \"y\"}, {\"hoverinfo\": \"text\", \"marker\": {\"color\": \"rgb(133,20,75)\"}, \"mode\": \"lines\", \"type\": \"scatter\", \"x\": [0.0, 0.7582067740124921, 0.7582067740124921, 0.0], \"xaxis\": \"x\", \"y\": [-85.0, -85.0, -95.0, -95.0], \"yaxis\": \"y\"}, {\"hoverinfo\": \"text\", \"marker\": {\"color\": \"rgb(255,220,0)\"}, \"mode\": \"lines\", \"type\": \"scatter\", \"x\": [0.0, 0.6295258506790453, 0.6295258506790453, 0.0], \"xaxis\": \"x\", \"y\": [-125.0, -125.0, -135.0, -135.0], \"yaxis\": \"y\"}, {\"hoverinfo\": \"text\", \"marker\": {\"color\": \"rgb(255,220,0)\"}, \"mode\": \"lines\", \"type\": \"scatter\", \"x\": [0.0, 0.6831687211350274, 0.6831687211350274, 0.6295258506790453], \"xaxis\": \"x\", \"y\": [-115.0, -115.0, -130.0, -130.0], \"yaxis\": \"y\"}, {\"hoverinfo\": \"text\", \"marker\": {\"color\": \"rgb(255,220,0)\"}, \"mode\": \"lines\", \"type\": \"scatter\", \"x\": [0.0, 0.9442606436129769, 0.9442606436129769, 0.6831687211350274], \"xaxis\": \"x\", \"y\": [-105.0, -105.0, -122.5, -122.5], \"yaxis\": \"y\"}, {\"hoverinfo\": \"text\", \"marker\": {\"color\": \"rgb(0,116,217)\"}, \"mode\": \"lines\", \"type\": \"scatter\", \"x\": [0.7582067740124921, 1.2858218987958439, 1.2858218987958439, 0.9442606436129769], \"xaxis\": \"x\", \"y\": [-90.0, -90.0, -113.75, -113.75], \"yaxis\": \"y\"}, {\"hoverinfo\": \"text\", \"marker\": {\"color\": \"rgb(40,35,35)\"}, \"mode\": \"lines\", \"type\": \"scatter\", \"x\": [0.0, 0.837359959945626, 0.837359959945626, 0.0], \"xaxis\": \"x\", \"y\": [-155.0, -155.0, -165.0, -165.0], \"yaxis\": \"y\"}, {\"hoverinfo\": \"text\", \"marker\": {\"color\": \"rgb(0,116,217)\"}, \"mode\": \"lines\", \"type\": \"scatter\", \"x\": [0.0, 1.2136616996281693, 1.2136616996281693, 0.837359959945626], \"xaxis\": \"x\", \"y\": [-145.0, -145.0, -160.0, -160.0], \"yaxis\": \"y\"}, {\"hoverinfo\": \"text\", \"marker\": {\"color\": \"rgb(61,153,112)\"}, \"mode\": \"lines\", \"type\": \"scatter\", \"x\": [0.0, 0.7507467795420344, 0.7507467795420344, 0.0], \"xaxis\": \"x\", \"y\": [-185.0, -185.0, -195.0, -195.0], \"yaxis\": \"y\"}, {\"hoverinfo\": \"text\", \"marker\": {\"color\": \"rgb(61,153,112)\"}, \"mode\": \"lines\", \"type\": \"scatter\", \"x\": [0.0, 0.8559263244740021, 0.8559263244740021, 0.7507467795420344], \"xaxis\": \"x\", \"y\": [-175.0, -175.0, -190.0, -190.0], \"yaxis\": \"y\"}, {\"hoverinfo\": \"text\", \"marker\": {\"color\": \"rgb(255,65,54)\"}, \"mode\": \"lines\", \"type\": \"scatter\", \"x\": [0.0, 0.8919008587134987, 0.8919008587134987, 0.0], \"xaxis\": \"x\", \"y\": [-205.0, -205.0, -215.0, -215.0], \"yaxis\": \"y\"}, {\"hoverinfo\": \"text\", \"marker\": {\"color\": \"rgb(0,116,217)\"}, \"mode\": \"lines\", \"type\": \"scatter\", \"x\": [0.8559263244740021, 1.1763514978656922, 1.1763514978656922, 0.8919008587134987], \"xaxis\": \"x\", \"y\": [-182.5, -182.5, -210.0, -210.0], \"yaxis\": \"y\"}, {\"hoverinfo\": \"text\", \"marker\": {\"color\": \"rgb(35,205,205)\"}, \"mode\": \"lines\", \"type\": \"scatter\", \"x\": [0.0, 0.8742810111658891, 0.8742810111658891, 0.0], \"xaxis\": \"x\", \"y\": [-225.0, -225.0, -235.0, -235.0], \"yaxis\": \"y\"}, {\"hoverinfo\": \"text\", \"marker\": {\"color\": \"rgb(0,116,217)\"}, \"mode\": \"lines\", \"type\": \"scatter\", \"x\": [0.0, 1.0097195267748909, 1.0097195267748909, 0.0], \"xaxis\": \"x\", \"y\": [-245.0, -245.0, -255.0, -255.0], \"yaxis\": \"y\"}, {\"hoverinfo\": \"text\", \"marker\": {\"color\": \"rgb(0,116,217)\"}, \"mode\": \"lines\", \"type\": \"scatter\", \"x\": [0.8742810111658891, 1.0814003879705236, 1.0814003879705236, 1.0097195267748909], \"xaxis\": \"x\", \"y\": [-230.0, -230.0, -250.0, -250.0], \"yaxis\": \"y\"}, {\"hoverinfo\": \"text\", \"marker\": {\"color\": \"rgb(133,20,75)\"}, \"mode\": \"lines\", \"type\": \"scatter\", \"x\": [0.0, 0.7303534032080407, 0.7303534032080407, 0.0], \"xaxis\": \"x\", \"y\": [-265.0, -265.0, -275.0, -275.0], \"yaxis\": \"y\"}, {\"hoverinfo\": \"text\", \"marker\": {\"color\": \"rgb(255,220,0)\"}, \"mode\": \"lines\", \"type\": \"scatter\", \"x\": [0.0, 0.8371712753346946, 0.8371712753346946, 0.0], \"xaxis\": \"x\", \"y\": [-285.0, -285.0, -295.0, -295.0], \"yaxis\": \"y\"}, {\"hoverinfo\": \"text\", \"marker\": {\"color\": \"rgb(0,116,217)\"}, \"mode\": \"lines\", \"type\": \"scatter\", \"x\": [0.7303534032080407, 1.0853671931825404, 1.0853671931825404, 0.8371712753346946], \"xaxis\": \"x\", \"y\": [-270.0, -270.0, -290.0, -290.0], \"yaxis\": \"y\"}, {\"hoverinfo\": \"text\", \"marker\": {\"color\": \"rgb(0,116,217)\"}, \"mode\": \"lines\", \"type\": \"scatter\", \"x\": [1.0814003879705236, 1.3921335331902474, 1.3921335331902474, 1.0853671931825404], \"xaxis\": \"x\", \"y\": [-240.0, -240.0, -280.0, -280.0], \"yaxis\": \"y\"}, {\"hoverinfo\": \"text\", \"marker\": {\"color\": \"rgb(0,116,217)\"}, \"mode\": \"lines\", \"type\": \"scatter\", \"x\": [1.1763514978656922, 1.6255177008422845, 1.6255177008422845, 1.3921335331902474], \"xaxis\": \"x\", \"y\": [-196.25, -196.25, -260.0, -260.0], \"yaxis\": \"y\"}, {\"hoverinfo\": \"text\", \"marker\": {\"color\": \"rgb(0,116,217)\"}, \"mode\": \"lines\", \"type\": \"scatter\", \"x\": [1.2136616996281693, 1.6626400085781723, 1.6626400085781723, 1.6255177008422845], \"xaxis\": \"x\", \"y\": [-152.5, -152.5, -228.125, -228.125], \"yaxis\": \"y\"}, {\"hoverinfo\": \"text\", \"marker\": {\"color\": \"rgb(0,116,217)\"}, \"mode\": \"lines\", \"type\": \"scatter\", \"x\": [1.2858218987958439, 2.343923272812801, 2.343923272812801, 1.6626400085781723], \"xaxis\": \"x\", \"y\": [-101.875, -101.875, -190.3125, -190.3125], \"yaxis\": \"y\"}, {\"hoverinfo\": \"text\", \"marker\": {\"color\": \"rgb(0,116,217)\"}, \"mode\": \"lines\", \"type\": \"scatter\", \"x\": [2.197793224908421, 3.4993288140940715, 3.4993288140940715, 2.343923272812801], \"xaxis\": \"x\", \"y\": [-36.875, -36.875, -146.09375, -146.09375], \"yaxis\": \"y\"}],                        {\"autosize\": false, \"height\": 600, \"hoverlabel\": {\"bgcolor\": \"white\", \"font\": {\"family\": \"Rockwell\", \"size\": 16}}, \"hovermode\": \"closest\", \"plot_bgcolor\": \"#ECEFF1\", \"showlegend\": false, \"template\": {\"data\": {\"bar\": [{\"error_x\": {\"color\": \"#2a3f5f\"}, \"error_y\": {\"color\": \"#2a3f5f\"}, \"marker\": {\"line\": {\"color\": \"white\", \"width\": 0.5}}, \"type\": \"bar\"}], \"barpolar\": [{\"marker\": {\"line\": {\"color\": \"white\", \"width\": 0.5}}, \"type\": \"barpolar\"}], \"carpet\": [{\"aaxis\": {\"endlinecolor\": \"#2a3f5f\", \"gridcolor\": \"#C8D4E3\", \"linecolor\": \"#C8D4E3\", \"minorgridcolor\": \"#C8D4E3\", \"startlinecolor\": \"#2a3f5f\"}, \"baxis\": {\"endlinecolor\": \"#2a3f5f\", \"gridcolor\": \"#C8D4E3\", \"linecolor\": \"#C8D4E3\", \"minorgridcolor\": \"#C8D4E3\", \"startlinecolor\": \"#2a3f5f\"}, \"type\": \"carpet\"}], \"choropleth\": [{\"colorbar\": {\"outlinewidth\": 0, \"ticks\": \"\"}, \"type\": \"choropleth\"}], \"contour\": [{\"colorbar\": {\"outlinewidth\": 0, \"ticks\": \"\"}, \"colorscale\": [[0.0, \"#0d0887\"], [0.1111111111111111, \"#46039f\"], [0.2222222222222222, \"#7201a8\"], [0.3333333333333333, \"#9c179e\"], [0.4444444444444444, \"#bd3786\"], [0.5555555555555556, \"#d8576b\"], [0.6666666666666666, \"#ed7953\"], [0.7777777777777778, \"#fb9f3a\"], [0.8888888888888888, \"#fdca26\"], [1.0, \"#f0f921\"]], \"type\": \"contour\"}], \"contourcarpet\": [{\"colorbar\": {\"outlinewidth\": 0, \"ticks\": \"\"}, \"type\": \"contourcarpet\"}], \"heatmap\": [{\"colorbar\": {\"outlinewidth\": 0, \"ticks\": \"\"}, \"colorscale\": [[0.0, \"#0d0887\"], [0.1111111111111111, \"#46039f\"], [0.2222222222222222, \"#7201a8\"], [0.3333333333333333, \"#9c179e\"], [0.4444444444444444, \"#bd3786\"], [0.5555555555555556, \"#d8576b\"], [0.6666666666666666, \"#ed7953\"], [0.7777777777777778, \"#fb9f3a\"], [0.8888888888888888, \"#fdca26\"], [1.0, \"#f0f921\"]], \"type\": \"heatmap\"}], \"heatmapgl\": [{\"colorbar\": {\"outlinewidth\": 0, \"ticks\": \"\"}, \"colorscale\": [[0.0, \"#0d0887\"], [0.1111111111111111, \"#46039f\"], [0.2222222222222222, \"#7201a8\"], [0.3333333333333333, \"#9c179e\"], [0.4444444444444444, \"#bd3786\"], [0.5555555555555556, \"#d8576b\"], [0.6666666666666666, \"#ed7953\"], [0.7777777777777778, \"#fb9f3a\"], [0.8888888888888888, \"#fdca26\"], [1.0, \"#f0f921\"]], \"type\": \"heatmapgl\"}], \"histogram\": [{\"marker\": {\"colorbar\": {\"outlinewidth\": 0, \"ticks\": \"\"}}, \"type\": \"histogram\"}], \"histogram2d\": [{\"colorbar\": {\"outlinewidth\": 0, \"ticks\": \"\"}, \"colorscale\": [[0.0, \"#0d0887\"], [0.1111111111111111, \"#46039f\"], [0.2222222222222222, \"#7201a8\"], [0.3333333333333333, \"#9c179e\"], [0.4444444444444444, \"#bd3786\"], [0.5555555555555556, \"#d8576b\"], [0.6666666666666666, \"#ed7953\"], [0.7777777777777778, \"#fb9f3a\"], [0.8888888888888888, \"#fdca26\"], [1.0, \"#f0f921\"]], \"type\": \"histogram2d\"}], \"histogram2dcontour\": [{\"colorbar\": {\"outlinewidth\": 0, \"ticks\": \"\"}, \"colorscale\": [[0.0, \"#0d0887\"], [0.1111111111111111, \"#46039f\"], [0.2222222222222222, \"#7201a8\"], [0.3333333333333333, \"#9c179e\"], [0.4444444444444444, \"#bd3786\"], [0.5555555555555556, \"#d8576b\"], [0.6666666666666666, \"#ed7953\"], [0.7777777777777778, \"#fb9f3a\"], [0.8888888888888888, \"#fdca26\"], [1.0, \"#f0f921\"]], \"type\": \"histogram2dcontour\"}], \"mesh3d\": [{\"colorbar\": {\"outlinewidth\": 0, \"ticks\": \"\"}, \"type\": \"mesh3d\"}], \"parcoords\": [{\"line\": {\"colorbar\": {\"outlinewidth\": 0, \"ticks\": \"\"}}, \"type\": \"parcoords\"}], \"pie\": [{\"automargin\": true, \"type\": \"pie\"}], \"scatter\": [{\"marker\": {\"colorbar\": {\"outlinewidth\": 0, \"ticks\": \"\"}}, \"type\": \"scatter\"}], \"scatter3d\": [{\"line\": {\"colorbar\": {\"outlinewidth\": 0, \"ticks\": \"\"}}, \"marker\": {\"colorbar\": {\"outlinewidth\": 0, \"ticks\": \"\"}}, \"type\": \"scatter3d\"}], \"scattercarpet\": [{\"marker\": {\"colorbar\": {\"outlinewidth\": 0, \"ticks\": \"\"}}, \"type\": \"scattercarpet\"}], \"scattergeo\": [{\"marker\": {\"colorbar\": {\"outlinewidth\": 0, \"ticks\": \"\"}}, \"type\": \"scattergeo\"}], \"scattergl\": [{\"marker\": {\"colorbar\": {\"outlinewidth\": 0, \"ticks\": \"\"}}, \"type\": \"scattergl\"}], \"scattermapbox\": [{\"marker\": {\"colorbar\": {\"outlinewidth\": 0, \"ticks\": \"\"}}, \"type\": \"scattermapbox\"}], \"scatterpolar\": [{\"marker\": {\"colorbar\": {\"outlinewidth\": 0, \"ticks\": \"\"}}, \"type\": \"scatterpolar\"}], \"scatterpolargl\": [{\"marker\": {\"colorbar\": {\"outlinewidth\": 0, \"ticks\": \"\"}}, \"type\": \"scatterpolargl\"}], \"scatterternary\": [{\"marker\": {\"colorbar\": {\"outlinewidth\": 0, \"ticks\": \"\"}}, \"type\": \"scatterternary\"}], \"surface\": [{\"colorbar\": {\"outlinewidth\": 0, \"ticks\": \"\"}, \"colorscale\": [[0.0, \"#0d0887\"], [0.1111111111111111, \"#46039f\"], [0.2222222222222222, \"#7201a8\"], [0.3333333333333333, \"#9c179e\"], [0.4444444444444444, \"#bd3786\"], [0.5555555555555556, \"#d8576b\"], [0.6666666666666666, \"#ed7953\"], [0.7777777777777778, \"#fb9f3a\"], [0.8888888888888888, \"#fdca26\"], [1.0, \"#f0f921\"]], \"type\": \"surface\"}], \"table\": [{\"cells\": {\"fill\": {\"color\": \"#EBF0F8\"}, \"line\": {\"color\": \"white\"}}, \"header\": {\"fill\": {\"color\": \"#C8D4E3\"}, \"line\": {\"color\": \"white\"}}, \"type\": \"table\"}]}, \"layout\": {\"annotationdefaults\": {\"arrowcolor\": \"#2a3f5f\", \"arrowhead\": 0, \"arrowwidth\": 1}, \"autotypenumbers\": \"strict\", \"coloraxis\": {\"colorbar\": {\"outlinewidth\": 0, \"ticks\": \"\"}}, \"colorscale\": {\"diverging\": [[0, \"#8e0152\"], [0.1, \"#c51b7d\"], [0.2, \"#de77ae\"], [0.3, \"#f1b6da\"], [0.4, \"#fde0ef\"], [0.5, \"#f7f7f7\"], [0.6, \"#e6f5d0\"], [0.7, \"#b8e186\"], [0.8, \"#7fbc41\"], [0.9, \"#4d9221\"], [1, \"#276419\"]], \"sequential\": [[0.0, \"#0d0887\"], [0.1111111111111111, \"#46039f\"], [0.2222222222222222, \"#7201a8\"], [0.3333333333333333, \"#9c179e\"], [0.4444444444444444, \"#bd3786\"], [0.5555555555555556, \"#d8576b\"], [0.6666666666666666, \"#ed7953\"], [0.7777777777777778, \"#fb9f3a\"], [0.8888888888888888, \"#fdca26\"], [1.0, \"#f0f921\"]], \"sequentialminus\": [[0.0, \"#0d0887\"], [0.1111111111111111, \"#46039f\"], [0.2222222222222222, \"#7201a8\"], [0.3333333333333333, \"#9c179e\"], [0.4444444444444444, \"#bd3786\"], [0.5555555555555556, \"#d8576b\"], [0.6666666666666666, \"#ed7953\"], [0.7777777777777778, \"#fb9f3a\"], [0.8888888888888888, \"#fdca26\"], [1.0, \"#f0f921\"]]}, \"colorway\": [\"#636efa\", \"#EF553B\", \"#00cc96\", \"#ab63fa\", \"#FFA15A\", \"#19d3f3\", \"#FF6692\", \"#B6E880\", \"#FF97FF\", \"#FECB52\"], \"font\": {\"color\": \"#2a3f5f\"}, \"geo\": {\"bgcolor\": \"white\", \"lakecolor\": \"white\", \"landcolor\": \"white\", \"showlakes\": true, \"showland\": true, \"subunitcolor\": \"#C8D4E3\"}, \"hoverlabel\": {\"align\": \"left\"}, \"hovermode\": \"closest\", \"mapbox\": {\"style\": \"light\"}, \"paper_bgcolor\": \"white\", \"plot_bgcolor\": \"white\", \"polar\": {\"angularaxis\": {\"gridcolor\": \"#EBF0F8\", \"linecolor\": \"#EBF0F8\", \"ticks\": \"\"}, \"bgcolor\": \"white\", \"radialaxis\": {\"gridcolor\": \"#EBF0F8\", \"linecolor\": \"#EBF0F8\", \"ticks\": \"\"}}, \"scene\": {\"xaxis\": {\"backgroundcolor\": \"white\", \"gridcolor\": \"#DFE8F3\", \"gridwidth\": 2, \"linecolor\": \"#EBF0F8\", \"showbackground\": true, \"ticks\": \"\", \"zerolinecolor\": \"#EBF0F8\"}, \"yaxis\": {\"backgroundcolor\": \"white\", \"gridcolor\": \"#DFE8F3\", \"gridwidth\": 2, \"linecolor\": \"#EBF0F8\", \"showbackground\": true, \"ticks\": \"\", \"zerolinecolor\": \"#EBF0F8\"}, \"zaxis\": {\"backgroundcolor\": \"white\", \"gridcolor\": \"#DFE8F3\", \"gridwidth\": 2, \"linecolor\": \"#EBF0F8\", \"showbackground\": true, \"ticks\": \"\", \"zerolinecolor\": \"#EBF0F8\"}}, \"shapedefaults\": {\"line\": {\"color\": \"#2a3f5f\"}}, \"ternary\": {\"aaxis\": {\"gridcolor\": \"#DFE8F3\", \"linecolor\": \"#A2B1C6\", \"ticks\": \"\"}, \"baxis\": {\"gridcolor\": \"#DFE8F3\", \"linecolor\": \"#A2B1C6\", \"ticks\": \"\"}, \"bgcolor\": \"white\", \"caxis\": {\"gridcolor\": \"#DFE8F3\", \"linecolor\": \"#A2B1C6\", \"ticks\": \"\"}}, \"title\": {\"x\": 0.05}, \"xaxis\": {\"automargin\": true, \"gridcolor\": \"#EBF0F8\", \"linecolor\": \"#EBF0F8\", \"ticks\": \"\", \"title\": {\"standoff\": 15}, \"zerolinecolor\": \"#EBF0F8\", \"zerolinewidth\": 2}, \"yaxis\": {\"automargin\": true, \"gridcolor\": \"#EBF0F8\", \"linecolor\": \"#EBF0F8\", \"ticks\": \"\", \"title\": {\"standoff\": 15}, \"zerolinecolor\": \"#EBF0F8\", \"zerolinewidth\": 2}}}, \"title\": {\"font\": {\"color\": \"Black\", \"size\": 22}, \"text\": \"<b>Hierarchical Clustering\", \"x\": 0.5, \"xanchor\": \"center\", \"y\": 0.95, \"yanchor\": \"top\"}, \"width\": 1000, \"xaxis\": {\"mirror\": \"allticks\", \"rangemode\": \"tozero\", \"showgrid\": false, \"showline\": true, \"showticklabels\": true, \"ticks\": \"outside\", \"type\": \"linear\", \"zeroline\": false}, \"yaxis\": {\"mirror\": \"allticks\", \"rangemode\": \"tozero\", \"showgrid\": false, \"showline\": true, \"showticklabels\": true, \"tickmode\": \"array\", \"ticks\": \"outside\", \"ticktext\": [\"13_pay_good pay_pay good\", \"18_good salary_salary good_...\", \"9_great benefits_good benef...\", \"25_pay benefits_benefits pa...\", \"4_food_free food_gym\", \"14_stock_stock options_opti...\", \"23_discounts_great discount...\", \"26_insurance_health insuran...\", \"7_company work_great compan...\", \"19_growing_growth_company\", \"5_customer_retail_customers\", \"3_microsoft_software_micros...\", \"0_amazon_apple_working\", \"10_google_facebook_working ...\", \"24_de_et_und\", \"1_team_teams_great team\", \"11_leadership_leadership pr...\", \"15_place work_place_great p...\", \"6_environment_work environm...\", \"21_home_work home_working h...\", \"8_life balance_work life_wo...\", \"20_work culture_great cultu...\", \"16_flexible_flexible workin...\", \"28_easy job_easy get_easy w...\", \"12_coworkers_great coworker...\", \"27_training_great training_...\", \"17_career_opportunities_car...\", \"29_opportunities_opportunit...\", \"2_learn_technology_learning\", \"22_projects_interesting pro...\"], \"tickvals\": [-5.0, -15.0, -25.0, -35.0, -45.0, -55.0, -65.0, -75.0, -85.0, -95.0, -105.0, -115.0, -125.0, -135.0, -145.0, -155.0, -165.0, -175.0, -185.0, -195.0, -205.0, -215.0, -225.0, -235.0, -245.0, -255.0, -265.0, -275.0, -285.0, -295.0], \"type\": \"linear\", \"zeroline\": false}},                        {\"responsive\": true}                    ).then(function(){\n",
              "                            \n",
              "var gd = document.getElementById('3c4a5b56-80b7-428e-a3d6-fdeda24c59d2');\n",
              "var x = new MutationObserver(function (mutations, observer) {{\n",
              "        var display = window.getComputedStyle(gd).display;\n",
              "        if (!display || display === 'none') {{\n",
              "            console.log([gd, 'removed!']);\n",
              "            Plotly.purge(gd);\n",
              "            observer.disconnect();\n",
              "        }}\n",
              "}});\n",
              "\n",
              "// Listen for the removal of the full notebook cells\n",
              "var notebookContainer = gd.closest('#notebook-container');\n",
              "if (notebookContainer) {{\n",
              "    x.observe(notebookContainer, {childList: true});\n",
              "}}\n",
              "\n",
              "// Listen for the clearing of the current output cell\n",
              "var outputEl = gd.closest('.output');\n",
              "if (outputEl) {{\n",
              "    x.observe(outputEl, {childList: true});\n",
              "}}\n",
              "\n",
              "                        })                };                            </script>        </div>\n",
              "</body>\n",
              "</html>"
            ]
          },
          "metadata": {
            "tags": []
          }
        }
      ]
    },
    {
      "cell_type": "markdown",
      "metadata": {
        "id": "4spXl2_C6flq"
      },
      "source": [
        "## Visualize Terms\n",
        "\n",
        "We can visualize the selected terms for a few topics by creating bar charts out of the c-TF-IDF scores for each topic representation. Insights can be gained from the relative c-TF-IDF scores between and within topics. Moreover, you can easily compare topic representations to each other."
      ]
    },
    {
      "cell_type": "code",
      "metadata": {
        "colab": {
          "base_uri": "https://localhost:8080/",
          "height": 617
        },
        "id": "zpm9LsKW6mi5",
        "outputId": "40148d50-064b-447e-8012-8657b725373a"
      },
      "source": [
        "topic_model.visualize_barchart(top_n_topics=15)"
      ],
      "execution_count": 22,
      "outputs": [
        {
          "output_type": "display_data",
          "data": {
            "text/html": [
              "<html>\n",
              "<head><meta charset=\"utf-8\" /></head>\n",
              "<body>\n",
              "    <div>            <script src=\"https://cdnjs.cloudflare.com/ajax/libs/mathjax/2.7.5/MathJax.js?config=TeX-AMS-MML_SVG\"></script><script type=\"text/javascript\">if (window.MathJax) {MathJax.Hub.Config({SVG: {font: \"STIX-Web\"}});}</script>                <script type=\"text/javascript\">window.PlotlyConfig = {MathJaxConfig: 'local'};</script>\n",
              "        <script src=\"https://cdn.plot.ly/plotly-latest.min.js\"></script>                <div id=\"f2dfa586-c313-42a9-bc77-847847697735\" class=\"plotly-graph-div\" style=\"height:600px; width:800px;\"></div>            <script type=\"text/javascript\">                                    window.PLOTLYENV=window.PLOTLYENV || {};                                    if (document.getElementById(\"f2dfa586-c313-42a9-bc77-847847697735\")) {                    Plotly.newPlot(                        \"f2dfa586-c313-42a9-bc77-847847697735\",                        [{\"orientation\": \"h\", \"type\": \"bar\", \"x\": [0.005240492488007998, 0.005483538023302047, 0.006237041576259761, 0.02104518097199698, 0.025349582300605685], \"xaxis\": \"x\", \"y\": [\"nt  \", \"employees  \", \"working  \", \"apple  \", \"amazon  \"], \"yaxis\": \"y\"}, {\"orientation\": \"h\", \"type\": \"bar\", \"x\": [0.010637824430103643, 0.010665687029080414, 0.020126547257301244, 0.03469095795302661, 0.04571927591767117], \"xaxis\": \"x2\", \"y\": [\"team work  \", \"team great  \", \"great team  \", \"teams  \", \"team  \"], \"yaxis\": \"y2\"}, {\"orientation\": \"h\", \"type\": \"bar\", \"x\": [0.015249119765251977, 0.015823729776352796, 0.022519446139429546, 0.027079729982007042, 0.0297567369326339], \"xaxis\": \"x3\", \"y\": [\"technologies  \", \"cutting edge  \", \"learning  \", \"technology  \", \"learn  \"], \"yaxis\": \"y3\"}, {\"orientation\": \"h\", \"type\": \"bar\", \"x\": [0.005878642194348051, 0.0068944283246359, 0.008629148560597133, 0.015210194564806035, 0.048167308100920965], \"xaxis\": \"x4\", \"y\": [\"work microsoft  \", \"working microsoft  \", \"microsoft great  \", \"software  \", \"microsoft  \"], \"yaxis\": \"y4\"}, {\"orientation\": \"h\", \"type\": \"bar\", \"x\": [0.01261993121089305, 0.012992805023343192, 0.019510358844924584, 0.03708588084291362, 0.06611005735870848], \"xaxis\": \"x5\", \"y\": [\"snacks  \", \"lunch  \", \"gym  \", \"free food  \", \"food  \"], \"yaxis\": \"y5\"}, {\"orientation\": \"h\", \"type\": \"bar\", \"x\": [0.010376634866892626, 0.011962322775631149, 0.023532222008733207, 0.034943102634139814, 0.04094139989480969], \"xaxis\": \"x6\", \"y\": [\"obsession  \", \"pay retail  \", \"customers  \", \"retail  \", \"customer  \"], \"yaxis\": \"y6\"}, {\"orientation\": \"h\", \"type\": \"bar\", \"x\": [0.02450127904782678, 0.027901315332312975, 0.029537746124345957, 0.03559626398703907, 0.06414601161179607], \"xaxis\": \"x7\", \"y\": [\"environment work  \", \"environment good  \", \"working environment  \", \"work environment  \", \"environment  \"], \"yaxis\": \"y7\"}, {\"orientation\": \"h\", \"type\": \"bar\", \"x\": [0.024377945814552104, 0.027158618153951056, 0.04843287740110847, 0.05718574411240283, 0.0767317074071225], \"xaxis\": \"x8\", \"y\": [\"company great  \", \"best company  \", \"good company  \", \"great company  \", \"company work  \"], \"yaxis\": \"y8\"}, {\"orientation\": \"h\", \"type\": \"bar\", \"x\": [0.027840775576127456, 0.030793950443515124, 0.031079085866039073, 0.061106674528034026, 0.062439410304189265], \"xaxis\": \"x9\", \"y\": [\"good work  \", \"worklife balance  \", \"worklife  \", \"work life  \", \"life balance  \"], \"yaxis\": \"y9\"}, {\"orientation\": \"h\", \"type\": \"bar\", \"x\": [0.014392126270963517, 0.018143530399328096, 0.01984311432999827, 0.022338600624168592, 0.022534854619711834], \"xaxis\": \"x10\", \"y\": [\"benefits great  \", \"benefits good  \", \"benefits  \", \"good benefits  \", \"great benefits  \"], \"yaxis\": \"y10\"}, {\"orientation\": \"h\", \"type\": \"bar\", \"x\": [0.00724609857334909, 0.0073523662305844855, 0.007502676053246853, 0.020634691517978844, 0.04689085872842107], \"xaxis\": \"x11\", \"y\": [\"food  \", \"perks  \", \"working google  \", \"facebook  \", \"google  \"], \"yaxis\": \"y11\"}, {\"orientation\": \"h\", \"type\": \"bar\", \"x\": [0.009545672820795381, 0.01170270440014879, 0.013451175468848239, 0.0236107340191779, 0.06339336461160718], \"xaxis\": \"x12\", \"y\": [\"senior  \", \"ceo  \", \"great leadership  \", \"leadership principles  \", \"leadership  \"], \"yaxis\": \"y12\"}, {\"orientation\": \"h\", \"type\": \"bar\", \"x\": [0.015489590011062688, 0.02436259185163488, 0.025260064411763757, 0.034184820708476164, 0.08690608115321008], \"xaxis\": \"x13\", \"y\": [\"friendly coworkers  \", \"coworkers great  \", \"co workers  \", \"great coworkers  \", \"coworkers  \"], \"yaxis\": \"y13\"}, {\"orientation\": \"h\", \"type\": \"bar\", \"x\": [0.014212842435736844, 0.019244923237632428, 0.02728954591879197, 0.040350628412286677, 0.055187697642581385], \"xaxis\": \"x14\", \"y\": [\"ok  \", \"decent pay  \", \"pay good  \", \"good pay  \", \"pay  \"], \"yaxis\": \"y14\"}, {\"orientation\": \"h\", \"type\": \"bar\", \"x\": [0.015529245730661462, 0.029434458237728427, 0.047719860059312266, 0.051444125207016037, 0.08575536850950821], \"xaxis\": \"x15\", \"y\": [\"benefits stock  \", \"stocks  \", \"options  \", \"stock options  \", \"stock  \"], \"yaxis\": \"y15\"}],                        {\"annotations\": [{\"font\": {\"size\": 16}, \"showarrow\": false, \"text\": \"Topic 0\", \"x\": 0.11666666666666665, \"xanchor\": \"center\", \"xref\": \"paper\", \"y\": 0.9999999999999999, \"yanchor\": \"bottom\", \"yref\": \"paper\"}, {\"font\": {\"size\": 16}, \"showarrow\": false, \"text\": \"Topic 1\", \"x\": 0.49999999999999994, \"xanchor\": \"center\", \"xref\": \"paper\", \"y\": 0.9999999999999999, \"yanchor\": \"bottom\", \"yref\": \"paper\"}, {\"font\": {\"size\": 16}, \"showarrow\": false, \"text\": \"Topic 2\", \"x\": 0.8833333333333333, \"xanchor\": \"center\", \"xref\": \"paper\", \"y\": 0.9999999999999999, \"yanchor\": \"bottom\", \"yref\": \"paper\"}, {\"font\": {\"size\": 16}, \"showarrow\": false, \"text\": \"Topic 3\", \"x\": 0.11666666666666665, \"xanchor\": \"center\", \"xref\": \"paper\", \"y\": 0.7699999999999999, \"yanchor\": \"bottom\", \"yref\": \"paper\"}, {\"font\": {\"size\": 16}, \"showarrow\": false, \"text\": \"Topic 4\", \"x\": 0.49999999999999994, \"xanchor\": \"center\", \"xref\": \"paper\", \"y\": 0.7699999999999999, \"yanchor\": \"bottom\", \"yref\": \"paper\"}, {\"font\": {\"size\": 16}, \"showarrow\": false, \"text\": \"Topic 5\", \"x\": 0.8833333333333333, \"xanchor\": \"center\", \"xref\": \"paper\", \"y\": 0.7699999999999999, \"yanchor\": \"bottom\", \"yref\": \"paper\"}, {\"font\": {\"size\": 16}, \"showarrow\": false, \"text\": \"Topic 6\", \"x\": 0.11666666666666665, \"xanchor\": \"center\", \"xref\": \"paper\", \"y\": 0.5399999999999999, \"yanchor\": \"bottom\", \"yref\": \"paper\"}, {\"font\": {\"size\": 16}, \"showarrow\": false, \"text\": \"Topic 7\", \"x\": 0.49999999999999994, \"xanchor\": \"center\", \"xref\": \"paper\", \"y\": 0.5399999999999999, \"yanchor\": \"bottom\", \"yref\": \"paper\"}, {\"font\": {\"size\": 16}, \"showarrow\": false, \"text\": \"Topic 8\", \"x\": 0.8833333333333333, \"xanchor\": \"center\", \"xref\": \"paper\", \"y\": 0.5399999999999999, \"yanchor\": \"bottom\", \"yref\": \"paper\"}, {\"font\": {\"size\": 16}, \"showarrow\": false, \"text\": \"Topic 9\", \"x\": 0.11666666666666665, \"xanchor\": \"center\", \"xref\": \"paper\", \"y\": 0.31, \"yanchor\": \"bottom\", \"yref\": \"paper\"}, {\"font\": {\"size\": 16}, \"showarrow\": false, \"text\": \"Topic 10\", \"x\": 0.49999999999999994, \"xanchor\": \"center\", \"xref\": \"paper\", \"y\": 0.31, \"yanchor\": \"bottom\", \"yref\": \"paper\"}, {\"font\": {\"size\": 16}, \"showarrow\": false, \"text\": \"Topic 11\", \"x\": 0.8833333333333333, \"xanchor\": \"center\", \"xref\": \"paper\", \"y\": 0.31, \"yanchor\": \"bottom\", \"yref\": \"paper\"}, {\"font\": {\"size\": 16}, \"showarrow\": false, \"text\": \"Topic 12\", \"x\": 0.11666666666666665, \"xanchor\": \"center\", \"xref\": \"paper\", \"y\": 0.08, \"yanchor\": \"bottom\", \"yref\": \"paper\"}, {\"font\": {\"size\": 16}, \"showarrow\": false, \"text\": \"Topic 13\", \"x\": 0.49999999999999994, \"xanchor\": \"center\", \"xref\": \"paper\", \"y\": 0.08, \"yanchor\": \"bottom\", \"yref\": \"paper\"}, {\"font\": {\"size\": 16}, \"showarrow\": false, \"text\": \"Topic 14\", \"x\": 0.8833333333333333, \"xanchor\": \"center\", \"xref\": \"paper\", \"y\": 0.08, \"yanchor\": \"bottom\", \"yref\": \"paper\"}], \"height\": 600, \"hoverlabel\": {\"bgcolor\": \"white\", \"font\": {\"family\": \"Rockwell\", \"size\": 16}}, \"showlegend\": false, \"template\": {\"data\": {\"bar\": [{\"error_x\": {\"color\": \"#2a3f5f\"}, \"error_y\": {\"color\": \"#2a3f5f\"}, \"marker\": {\"line\": {\"color\": \"white\", \"width\": 0.5}}, \"type\": \"bar\"}], \"barpolar\": [{\"marker\": {\"line\": {\"color\": \"white\", \"width\": 0.5}}, \"type\": \"barpolar\"}], \"carpet\": [{\"aaxis\": {\"endlinecolor\": \"#2a3f5f\", \"gridcolor\": \"#C8D4E3\", \"linecolor\": \"#C8D4E3\", \"minorgridcolor\": \"#C8D4E3\", \"startlinecolor\": \"#2a3f5f\"}, \"baxis\": {\"endlinecolor\": \"#2a3f5f\", \"gridcolor\": \"#C8D4E3\", \"linecolor\": \"#C8D4E3\", \"minorgridcolor\": \"#C8D4E3\", \"startlinecolor\": \"#2a3f5f\"}, \"type\": \"carpet\"}], \"choropleth\": [{\"colorbar\": {\"outlinewidth\": 0, \"ticks\": \"\"}, \"type\": \"choropleth\"}], \"contour\": [{\"colorbar\": {\"outlinewidth\": 0, \"ticks\": \"\"}, \"colorscale\": [[0.0, \"#0d0887\"], [0.1111111111111111, \"#46039f\"], [0.2222222222222222, \"#7201a8\"], [0.3333333333333333, \"#9c179e\"], [0.4444444444444444, \"#bd3786\"], [0.5555555555555556, \"#d8576b\"], [0.6666666666666666, \"#ed7953\"], [0.7777777777777778, \"#fb9f3a\"], [0.8888888888888888, \"#fdca26\"], [1.0, \"#f0f921\"]], \"type\": \"contour\"}], \"contourcarpet\": [{\"colorbar\": {\"outlinewidth\": 0, \"ticks\": \"\"}, \"type\": \"contourcarpet\"}], \"heatmap\": [{\"colorbar\": {\"outlinewidth\": 0, \"ticks\": \"\"}, \"colorscale\": [[0.0, \"#0d0887\"], [0.1111111111111111, \"#46039f\"], [0.2222222222222222, \"#7201a8\"], [0.3333333333333333, \"#9c179e\"], [0.4444444444444444, \"#bd3786\"], [0.5555555555555556, \"#d8576b\"], [0.6666666666666666, \"#ed7953\"], [0.7777777777777778, \"#fb9f3a\"], [0.8888888888888888, \"#fdca26\"], [1.0, \"#f0f921\"]], \"type\": \"heatmap\"}], \"heatmapgl\": [{\"colorbar\": {\"outlinewidth\": 0, \"ticks\": \"\"}, \"colorscale\": [[0.0, \"#0d0887\"], [0.1111111111111111, \"#46039f\"], [0.2222222222222222, \"#7201a8\"], [0.3333333333333333, \"#9c179e\"], [0.4444444444444444, \"#bd3786\"], [0.5555555555555556, \"#d8576b\"], [0.6666666666666666, \"#ed7953\"], [0.7777777777777778, \"#fb9f3a\"], [0.8888888888888888, \"#fdca26\"], [1.0, \"#f0f921\"]], \"type\": \"heatmapgl\"}], \"histogram\": [{\"marker\": {\"colorbar\": {\"outlinewidth\": 0, \"ticks\": \"\"}}, \"type\": \"histogram\"}], \"histogram2d\": [{\"colorbar\": {\"outlinewidth\": 0, \"ticks\": \"\"}, \"colorscale\": [[0.0, \"#0d0887\"], [0.1111111111111111, \"#46039f\"], [0.2222222222222222, \"#7201a8\"], [0.3333333333333333, \"#9c179e\"], [0.4444444444444444, \"#bd3786\"], [0.5555555555555556, \"#d8576b\"], [0.6666666666666666, \"#ed7953\"], [0.7777777777777778, \"#fb9f3a\"], [0.8888888888888888, \"#fdca26\"], [1.0, \"#f0f921\"]], \"type\": \"histogram2d\"}], \"histogram2dcontour\": [{\"colorbar\": {\"outlinewidth\": 0, \"ticks\": \"\"}, \"colorscale\": [[0.0, \"#0d0887\"], [0.1111111111111111, \"#46039f\"], [0.2222222222222222, \"#7201a8\"], [0.3333333333333333, \"#9c179e\"], [0.4444444444444444, \"#bd3786\"], [0.5555555555555556, \"#d8576b\"], [0.6666666666666666, \"#ed7953\"], [0.7777777777777778, \"#fb9f3a\"], [0.8888888888888888, \"#fdca26\"], [1.0, \"#f0f921\"]], \"type\": \"histogram2dcontour\"}], \"mesh3d\": [{\"colorbar\": {\"outlinewidth\": 0, \"ticks\": \"\"}, \"type\": \"mesh3d\"}], \"parcoords\": [{\"line\": {\"colorbar\": {\"outlinewidth\": 0, \"ticks\": \"\"}}, \"type\": \"parcoords\"}], \"pie\": [{\"automargin\": true, \"type\": \"pie\"}], \"scatter\": [{\"marker\": {\"colorbar\": {\"outlinewidth\": 0, \"ticks\": \"\"}}, \"type\": \"scatter\"}], \"scatter3d\": [{\"line\": {\"colorbar\": {\"outlinewidth\": 0, \"ticks\": \"\"}}, \"marker\": {\"colorbar\": {\"outlinewidth\": 0, \"ticks\": \"\"}}, \"type\": \"scatter3d\"}], \"scattercarpet\": [{\"marker\": {\"colorbar\": {\"outlinewidth\": 0, \"ticks\": \"\"}}, \"type\": \"scattercarpet\"}], \"scattergeo\": [{\"marker\": {\"colorbar\": {\"outlinewidth\": 0, \"ticks\": \"\"}}, \"type\": \"scattergeo\"}], \"scattergl\": [{\"marker\": {\"colorbar\": {\"outlinewidth\": 0, \"ticks\": \"\"}}, \"type\": \"scattergl\"}], \"scattermapbox\": [{\"marker\": {\"colorbar\": {\"outlinewidth\": 0, \"ticks\": \"\"}}, \"type\": \"scattermapbox\"}], \"scatterpolar\": [{\"marker\": {\"colorbar\": {\"outlinewidth\": 0, \"ticks\": \"\"}}, \"type\": \"scatterpolar\"}], \"scatterpolargl\": [{\"marker\": {\"colorbar\": {\"outlinewidth\": 0, \"ticks\": \"\"}}, \"type\": \"scatterpolargl\"}], \"scatterternary\": [{\"marker\": {\"colorbar\": {\"outlinewidth\": 0, \"ticks\": \"\"}}, \"type\": \"scatterternary\"}], \"surface\": [{\"colorbar\": {\"outlinewidth\": 0, \"ticks\": \"\"}, \"colorscale\": [[0.0, \"#0d0887\"], [0.1111111111111111, \"#46039f\"], [0.2222222222222222, \"#7201a8\"], [0.3333333333333333, \"#9c179e\"], [0.4444444444444444, \"#bd3786\"], [0.5555555555555556, \"#d8576b\"], [0.6666666666666666, \"#ed7953\"], [0.7777777777777778, \"#fb9f3a\"], [0.8888888888888888, \"#fdca26\"], [1.0, \"#f0f921\"]], \"type\": \"surface\"}], \"table\": [{\"cells\": {\"fill\": {\"color\": \"#EBF0F8\"}, \"line\": {\"color\": \"white\"}}, \"header\": {\"fill\": {\"color\": \"#C8D4E3\"}, \"line\": {\"color\": \"white\"}}, \"type\": \"table\"}]}, \"layout\": {\"annotationdefaults\": {\"arrowcolor\": \"#2a3f5f\", \"arrowhead\": 0, \"arrowwidth\": 1}, \"autotypenumbers\": \"strict\", \"coloraxis\": {\"colorbar\": {\"outlinewidth\": 0, \"ticks\": \"\"}}, \"colorscale\": {\"diverging\": [[0, \"#8e0152\"], [0.1, \"#c51b7d\"], [0.2, \"#de77ae\"], [0.3, \"#f1b6da\"], [0.4, \"#fde0ef\"], [0.5, \"#f7f7f7\"], [0.6, \"#e6f5d0\"], [0.7, \"#b8e186\"], [0.8, \"#7fbc41\"], [0.9, \"#4d9221\"], [1, \"#276419\"]], \"sequential\": [[0.0, \"#0d0887\"], [0.1111111111111111, \"#46039f\"], [0.2222222222222222, \"#7201a8\"], [0.3333333333333333, \"#9c179e\"], [0.4444444444444444, \"#bd3786\"], [0.5555555555555556, \"#d8576b\"], [0.6666666666666666, \"#ed7953\"], [0.7777777777777778, \"#fb9f3a\"], [0.8888888888888888, \"#fdca26\"], [1.0, \"#f0f921\"]], \"sequentialminus\": [[0.0, \"#0d0887\"], [0.1111111111111111, \"#46039f\"], [0.2222222222222222, \"#7201a8\"], [0.3333333333333333, \"#9c179e\"], [0.4444444444444444, \"#bd3786\"], [0.5555555555555556, \"#d8576b\"], [0.6666666666666666, \"#ed7953\"], [0.7777777777777778, \"#fb9f3a\"], [0.8888888888888888, \"#fdca26\"], [1.0, \"#f0f921\"]]}, \"colorway\": [\"#636efa\", \"#EF553B\", \"#00cc96\", \"#ab63fa\", \"#FFA15A\", \"#19d3f3\", \"#FF6692\", \"#B6E880\", \"#FF97FF\", \"#FECB52\"], \"font\": {\"color\": \"#2a3f5f\"}, \"geo\": {\"bgcolor\": \"white\", \"lakecolor\": \"white\", \"landcolor\": \"white\", \"showlakes\": true, \"showland\": true, \"subunitcolor\": \"#C8D4E3\"}, \"hoverlabel\": {\"align\": \"left\"}, \"hovermode\": \"closest\", \"mapbox\": {\"style\": \"light\"}, \"paper_bgcolor\": \"white\", \"plot_bgcolor\": \"white\", \"polar\": {\"angularaxis\": {\"gridcolor\": \"#EBF0F8\", \"linecolor\": \"#EBF0F8\", \"ticks\": \"\"}, \"bgcolor\": \"white\", \"radialaxis\": {\"gridcolor\": \"#EBF0F8\", \"linecolor\": \"#EBF0F8\", \"ticks\": \"\"}}, \"scene\": {\"xaxis\": {\"backgroundcolor\": \"white\", \"gridcolor\": \"#DFE8F3\", \"gridwidth\": 2, \"linecolor\": \"#EBF0F8\", \"showbackground\": true, \"ticks\": \"\", \"zerolinecolor\": \"#EBF0F8\"}, \"yaxis\": {\"backgroundcolor\": \"white\", \"gridcolor\": \"#DFE8F3\", \"gridwidth\": 2, \"linecolor\": \"#EBF0F8\", \"showbackground\": true, \"ticks\": \"\", \"zerolinecolor\": \"#EBF0F8\"}, \"zaxis\": {\"backgroundcolor\": \"white\", \"gridcolor\": \"#DFE8F3\", \"gridwidth\": 2, \"linecolor\": \"#EBF0F8\", \"showbackground\": true, \"ticks\": \"\", \"zerolinecolor\": \"#EBF0F8\"}}, \"shapedefaults\": {\"line\": {\"color\": \"#2a3f5f\"}}, \"ternary\": {\"aaxis\": {\"gridcolor\": \"#DFE8F3\", \"linecolor\": \"#A2B1C6\", \"ticks\": \"\"}, \"baxis\": {\"gridcolor\": \"#DFE8F3\", \"linecolor\": \"#A2B1C6\", \"ticks\": \"\"}, \"bgcolor\": \"white\", \"caxis\": {\"gridcolor\": \"#DFE8F3\", \"linecolor\": \"#A2B1C6\", \"ticks\": \"\"}}, \"title\": {\"x\": 0.05}, \"xaxis\": {\"automargin\": true, \"gridcolor\": \"#EBF0F8\", \"linecolor\": \"#EBF0F8\", \"ticks\": \"\", \"title\": {\"standoff\": 15}, \"zerolinecolor\": \"#EBF0F8\", \"zerolinewidth\": 2}, \"yaxis\": {\"automargin\": true, \"gridcolor\": \"#EBF0F8\", \"linecolor\": \"#EBF0F8\", \"ticks\": \"\", \"title\": {\"standoff\": 15}, \"zerolinecolor\": \"#EBF0F8\", \"zerolinewidth\": 2}}}, \"title\": {\"font\": {\"color\": \"Black\", \"size\": 22}, \"text\": \"<b>Topic Word Scores\", \"x\": 0.15, \"xanchor\": \"center\", \"y\": 0.95, \"yanchor\": \"top\"}, \"width\": 800, \"xaxis\": {\"anchor\": \"y\", \"domain\": [0.0, 0.2333333333333333], \"matches\": \"x13\", \"showgrid\": true, \"showticklabels\": false}, \"xaxis10\": {\"anchor\": \"y10\", \"domain\": [0.0, 0.2333333333333333], \"matches\": \"x13\", \"showgrid\": true, \"showticklabels\": false}, \"xaxis11\": {\"anchor\": \"y11\", \"domain\": [0.3833333333333333, 0.6166666666666666], \"matches\": \"x14\", \"showgrid\": true, \"showticklabels\": false}, \"xaxis12\": {\"anchor\": \"y12\", \"domain\": [0.7666666666666666, 0.9999999999999999], \"matches\": \"x15\", \"showgrid\": true, \"showticklabels\": false}, \"xaxis13\": {\"anchor\": \"y13\", \"domain\": [0.0, 0.2333333333333333], \"showgrid\": true}, \"xaxis14\": {\"anchor\": \"y14\", \"domain\": [0.3833333333333333, 0.6166666666666666], \"showgrid\": true}, \"xaxis15\": {\"anchor\": \"y15\", \"domain\": [0.7666666666666666, 0.9999999999999999], \"showgrid\": true}, \"xaxis2\": {\"anchor\": \"y2\", \"domain\": [0.3833333333333333, 0.6166666666666666], \"matches\": \"x14\", \"showgrid\": true, \"showticklabels\": false}, \"xaxis3\": {\"anchor\": \"y3\", \"domain\": [0.7666666666666666, 0.9999999999999999], \"matches\": \"x15\", \"showgrid\": true, \"showticklabels\": false}, \"xaxis4\": {\"anchor\": \"y4\", \"domain\": [0.0, 0.2333333333333333], \"matches\": \"x13\", \"showgrid\": true, \"showticklabels\": false}, \"xaxis5\": {\"anchor\": \"y5\", \"domain\": [0.3833333333333333, 0.6166666666666666], \"matches\": \"x14\", \"showgrid\": true, \"showticklabels\": false}, \"xaxis6\": {\"anchor\": \"y6\", \"domain\": [0.7666666666666666, 0.9999999999999999], \"matches\": \"x15\", \"showgrid\": true, \"showticklabels\": false}, \"xaxis7\": {\"anchor\": \"y7\", \"domain\": [0.0, 0.2333333333333333], \"matches\": \"x13\", \"showgrid\": true, \"showticklabels\": false}, \"xaxis8\": {\"anchor\": \"y8\", \"domain\": [0.3833333333333333, 0.6166666666666666], \"matches\": \"x14\", \"showgrid\": true, \"showticklabels\": false}, \"xaxis9\": {\"anchor\": \"y9\", \"domain\": [0.7666666666666666, 0.9999999999999999], \"matches\": \"x15\", \"showgrid\": true, \"showticklabels\": false}, \"yaxis\": {\"anchor\": \"x\", \"domain\": [0.9199999999999999, 0.9999999999999999], \"showgrid\": true}, \"yaxis10\": {\"anchor\": \"x10\", \"domain\": [0.22999999999999998, 0.31], \"showgrid\": true}, \"yaxis11\": {\"anchor\": \"x11\", \"domain\": [0.22999999999999998, 0.31], \"showgrid\": true}, \"yaxis12\": {\"anchor\": \"x12\", \"domain\": [0.22999999999999998, 0.31], \"showgrid\": true}, \"yaxis13\": {\"anchor\": \"x13\", \"domain\": [0.0, 0.08], \"showgrid\": true}, \"yaxis14\": {\"anchor\": \"x14\", \"domain\": [0.0, 0.08], \"showgrid\": true}, \"yaxis15\": {\"anchor\": \"x15\", \"domain\": [0.0, 0.08], \"showgrid\": true}, \"yaxis2\": {\"anchor\": \"x2\", \"domain\": [0.9199999999999999, 0.9999999999999999], \"showgrid\": true}, \"yaxis3\": {\"anchor\": \"x3\", \"domain\": [0.9199999999999999, 0.9999999999999999], \"showgrid\": true}, \"yaxis4\": {\"anchor\": \"x4\", \"domain\": [0.69, 0.7699999999999999], \"showgrid\": true}, \"yaxis5\": {\"anchor\": \"x5\", \"domain\": [0.69, 0.7699999999999999], \"showgrid\": true}, \"yaxis6\": {\"anchor\": \"x6\", \"domain\": [0.69, 0.7699999999999999], \"showgrid\": true}, \"yaxis7\": {\"anchor\": \"x7\", \"domain\": [0.45999999999999996, 0.5399999999999999], \"showgrid\": true}, \"yaxis8\": {\"anchor\": \"x8\", \"domain\": [0.45999999999999996, 0.5399999999999999], \"showgrid\": true}, \"yaxis9\": {\"anchor\": \"x9\", \"domain\": [0.45999999999999996, 0.5399999999999999], \"showgrid\": true}},                        {\"responsive\": true}                    ).then(function(){\n",
              "                            \n",
              "var gd = document.getElementById('f2dfa586-c313-42a9-bc77-847847697735');\n",
              "var x = new MutationObserver(function (mutations, observer) {{\n",
              "        var display = window.getComputedStyle(gd).display;\n",
              "        if (!display || display === 'none') {{\n",
              "            console.log([gd, 'removed!']);\n",
              "            Plotly.purge(gd);\n",
              "            observer.disconnect();\n",
              "        }}\n",
              "}});\n",
              "\n",
              "// Listen for the removal of the full notebook cells\n",
              "var notebookContainer = gd.closest('#notebook-container');\n",
              "if (notebookContainer) {{\n",
              "    x.observe(notebookContainer, {childList: true});\n",
              "}}\n",
              "\n",
              "// Listen for the clearing of the current output cell\n",
              "var outputEl = gd.closest('.output');\n",
              "if (outputEl) {{\n",
              "    x.observe(outputEl, {childList: true});\n",
              "}}\n",
              "\n",
              "                        })                };                            </script>        </div>\n",
              "</body>\n",
              "</html>"
            ]
          },
          "metadata": {
            "tags": []
          }
        }
      ]
    },
    {
      "cell_type": "markdown",
      "metadata": {
        "id": "QCPdi6_z6sbT"
      },
      "source": [
        "## Visualize Topic Similarity\n",
        "Having generated topic embeddings, through both c-TF-IDF and embeddings, we can create a similarity matrix by simply applying cosine similarities through those topic embeddings. The result will be a matrix indicating how similar certain topics are to each other."
      ]
    },
    {
      "cell_type": "code",
      "metadata": {
        "colab": {
          "base_uri": "https://localhost:8080/",
          "height": 1000
        },
        "id": "edzNhZuZ6wTr",
        "outputId": "807831da-e2f7-4183-dd9e-9426a44e19b4"
      },
      "source": [
        "topic_model.visualize_heatmap(n_clusters=20, width=1000, height=1000)"
      ],
      "execution_count": 23,
      "outputs": [
        {
          "output_type": "display_data",
          "data": {
            "text/html": [
              "<html>\n",
              "<head><meta charset=\"utf-8\" /></head>\n",
              "<body>\n",
              "    <div>            <script src=\"https://cdnjs.cloudflare.com/ajax/libs/mathjax/2.7.5/MathJax.js?config=TeX-AMS-MML_SVG\"></script><script type=\"text/javascript\">if (window.MathJax) {MathJax.Hub.Config({SVG: {font: \"STIX-Web\"}});}</script>                <script type=\"text/javascript\">window.PlotlyConfig = {MathJaxConfig: 'local'};</script>\n",
              "        <script src=\"https://cdn.plot.ly/plotly-latest.min.js\"></script>                <div id=\"87cd8a20-e66c-44df-a80c-b2d453ad7bc7\" class=\"plotly-graph-div\" style=\"height:1000px; width:1000px;\"></div>            <script type=\"text/javascript\">                                    window.PLOTLYENV=window.PLOTLYENV || {};                                    if (document.getElementById(\"87cd8a20-e66c-44df-a80c-b2d453ad7bc7\")) {                    Plotly.newPlot(                        \"87cd8a20-e66c-44df-a80c-b2d453ad7bc7\",                        [{\"coloraxis\": \"coloraxis\", \"hovertemplate\": \"x: %{x}<br>y: %{y}<br>Similarity Score: %{z}<extra></extra>\", \"name\": \"0\", \"type\": \"heatmap\", \"x\": [\"-1_smart_environment_opport...\", \"43_people work_great people...\", \"64_smart people_company sma...\", \"0_amazon_apple_working\", \"3_microsoft_software_micros...\", \"5_customer_retail_customers\", \"10_google_facebook_working ...\", \"1_team_teams_great team\", \"11_leadership_leadership pr...\", \"62_talent_talented people_b...\", \"2_learn_technology_learning\", \"22_projects_interesting pro...\", \"30_smart_smart people_work ...\", \"48_engineers_engineering_en...\", \"4_food_free food_gym\", \"14_stock_stock options_opti...\", \"46_none_nothing_none none\", \"55_netflix_free netflix_wor...\", \"6_environment_work environm...\", \"15_place work_place_great p...\", \"21_home_work home_working h...\", \"58_environment career_envir...\", \"7_company work_great compan...\", \"19_growing_growth_company\", \"31_brand_name_brand name\", \"8_life balance_work life_wo...\", \"12_coworkers_great coworker...\", \"16_flexible_flexible workin...\", \"28_easy job_easy get_easy w...\", \"35_care_employees_care empl...\", \"60_resume_good resume_looks...\", \"9_great benefits_good benef...\", \"32_great company_great bene...\", \"37_worklife balance_benefit...\", \"47_smart people_smart_benef...\", \"13_pay_good pay_pay good\", \"18_good salary_salary good_...\", \"25_pay benefits_benefits pa...\", \"44_bonuses_bonus_salary good\", \"17_career_opportunities_car...\", \"29_opportunities_opportunit...\", \"20_work culture_great cultu...\", \"41_good people_new people_l...\", \"42_nice campus_good campus_...\", \"53_everything_good good_eve...\", \"23_discounts_great discount...\", \"26_insurance_health insuran...\", \"45_compensation_compensatio...\", \"24_de_et_und\", \"33_freedom_autonomy_ownership\", \"61_satya_satya nadella_saty...\", \"63_diversity_diversity work...\", \"65_solve_problems_problems ...\", \"27_training_great training_...\", \"56_intern_interns_internship\", \"57_mentors_mentoring_mentor...\", \"34_overtime_lots overtime_l...\", \"39_days_day work_work week\", \"66_shift_shifts_night shift\", \"36_fast paced_pace_paced en...\", \"54_seattle_seattle great_city\", \"59_vision_vision company_te...\", \"38_dress_dress code_code\", \"52_dental_medical dental_de...\", \"40_vacation_vacation time_p...\", \"50_day one_benefits day_ben...\", \"49_cloud_aws_cloud services\", \"51_atmosphere_good atmosphe...\", \"67_warehouse_warehouse work...\"], \"xaxis\": \"x\", \"y\": [\"-1_smart_environment_opport...\", \"43_people work_great people...\", \"64_smart people_company sma...\", \"0_amazon_apple_working\", \"3_microsoft_software_micros...\", \"5_customer_retail_customers\", \"10_google_facebook_working ...\", \"1_team_teams_great team\", \"11_leadership_leadership pr...\", \"62_talent_talented people_b...\", \"2_learn_technology_learning\", \"22_projects_interesting pro...\", \"30_smart_smart people_work ...\", \"48_engineers_engineering_en...\", \"4_food_free food_gym\", \"14_stock_stock options_opti...\", \"46_none_nothing_none none\", \"55_netflix_free netflix_wor...\", \"6_environment_work environm...\", \"15_place work_place_great p...\", \"21_home_work home_working h...\", \"58_environment career_envir...\", \"7_company work_great compan...\", \"19_growing_growth_company\", \"31_brand_name_brand name\", \"8_life balance_work life_wo...\", \"12_coworkers_great coworker...\", \"16_flexible_flexible workin...\", \"28_easy job_easy get_easy w...\", \"35_care_employees_care empl...\", \"60_resume_good resume_looks...\", \"9_great benefits_good benef...\", \"32_great company_great bene...\", \"37_worklife balance_benefit...\", \"47_smart people_smart_benef...\", \"13_pay_good pay_pay good\", \"18_good salary_salary good_...\", \"25_pay benefits_benefits pa...\", \"44_bonuses_bonus_salary good\", \"17_career_opportunities_car...\", \"29_opportunities_opportunit...\", \"20_work culture_great cultu...\", \"41_good people_new people_l...\", \"42_nice campus_good campus_...\", \"53_everything_good good_eve...\", \"23_discounts_great discount...\", \"26_insurance_health insuran...\", \"45_compensation_compensatio...\", \"24_de_et_und\", \"33_freedom_autonomy_ownership\", \"61_satya_satya nadella_saty...\", \"63_diversity_diversity work...\", \"65_solve_problems_problems ...\", \"27_training_great training_...\", \"56_intern_interns_internship\", \"57_mentors_mentoring_mentor...\", \"34_overtime_lots overtime_l...\", \"39_days_day work_work week\", \"66_shift_shifts_night shift\", \"36_fast paced_pace_paced en...\", \"54_seattle_seattle great_city\", \"59_vision_vision company_te...\", \"38_dress_dress code_code\", \"52_dental_medical dental_de...\", \"40_vacation_vacation time_p...\", \"50_day one_benefits day_ben...\", \"49_cloud_aws_cloud services\", \"51_atmosphere_good atmosphe...\", \"67_warehouse_warehouse work...\"], \"yaxis\": \"y\", \"z\": [[1.0, 0.6931893102418816, 0.7083909165216882, 0.5297915012947708, 0.4658179798407448, 0.5118071157855821, 0.5104687083003487, 0.33193292371895133, 0.4439326803486377, 0.5005109283688566, 0.692894668882882, 0.5534949717567377, 0.7122998561737037, 0.5259694899956087, 0.30515853876437227, 0.30075053668395035, 0.2969913083658307, 0.23601397948408678, 0.5552505524493633, 0.5388931244478015, 0.5251145866286625, 0.6671104445878618, 0.4894979328554633, 0.43683222557064333, 0.40509533535243414, 0.6754017703254516, 0.5388880817173067, 0.5572271316403246, 0.666699786137422, 0.6163364604139003, 0.4908132560550193, 0.6829065131202527, 0.64676937121676, 0.7034751153866903, 0.7634853939300019, 0.6385417330876733, 0.6391229641666873, 0.6916687877530976, 0.6476145996931659, 0.6784514460757438, 0.7232729335975584, 0.6188187397616114, 0.5077507260109275, 0.4881866269927353, 0.540602037713934, 0.40739364074390794, 0.4601573374261355, 0.4699560828567768, 0.5153364339767033, 0.4504441700894076, 0.3800752585122732, 0.44020982191219105, 0.43459917919625124, 0.5516203269886295, 0.46988242926883267, 0.40178835081323133, 0.3341147963583365, 0.40679207117751615, 0.39235072268995885, 0.3496255153178419, 0.3142060240818625, 0.3695242263528832, 0.3343932772731981, 0.3864677333467303, 0.46258458065984615, 0.471119817299698, 0.3105073622886785, 0.3050249276872566, 0.39131522278631725], [0.6931893102418816, 1.0, 0.7629048808748541, 0.39219378353576895, 0.29835837539066573, 0.3966692589822946, 0.3990294572380403, 0.41268174236863797, 0.3850473592024741, 0.4880413681183833, 0.495732673817478, 0.4551753649090504, 0.6511295072994239, 0.45056027339592036, 0.1988937368435576, 0.0480473859553498, 0.19594444547628517, 0.13973810605348103, 0.4123561222501355, 0.5341028632719155, 0.4695583657837946, 0.4201864150783587, 0.5165844167981613, 0.2577138515876869, 0.27009297567604945, 0.6458728901729356, 0.6985617647884683, 0.47868589955173735, 0.5312464613373536, 0.5466697127614475, 0.4207738549527321, 0.5112666946848142, 0.5004275110977344, 0.5029262402629421, 0.6093294956222197, 0.46524281372212417, 0.5124377214391596, 0.4612507505488913, 0.45231252099449604, 0.4209450564163758, 0.44409395775753907, 0.6305791865788414, 0.7273393111103711, 0.42621962109572514, 0.4848100055729566, 0.2435089032176636, 0.17052228355510812, 0.31307616544130723, 0.29326996042244835, 0.23998684967771236, 0.28120907761540037, 0.4244076171148161, 0.3701709672818089, 0.44898472842916737, 0.3227705286318297, 0.3787320510205017, 0.33541804267397446, 0.4330935273451258, 0.32547792761498073, 0.31111024897828204, 0.30656550301807284, 0.2688330732132763, 0.2505150943795545, 0.20532482946669017, 0.32937304743703966, 0.3258200944601267, 0.20834471110745262, 0.3283752945611518, 0.3793845876584616], [0.7083909165216882, 0.7629048808748541, 1.0, 0.5368436065416531, 0.5340969603837089, 0.5503289244303395, 0.5817619207176595, 0.4985827943171175, 0.499671794009114, 0.49864088175148147, 0.6128098616512188, 0.5675150467296687, 0.77303343924469, 0.5282740321084165, 0.16818255721275066, 0.24631156419467087, 0.2560862539264709, 0.2449270538137077, 0.3911668524652815, 0.4715697680969252, 0.42632912994506916, 0.4436265398713012, 0.7389825570250612, 0.5430927521310402, 0.5149789938767423, 0.568103849445772, 0.6204667363127421, 0.4432919699429125, 0.5269578419198168, 0.6075340632283002, 0.3713387754739527, 0.4579450491293199, 0.6081737513796148, 0.46514796067664216, 0.6941392558260273, 0.40373115214165156, 0.463917999794112, 0.4092712286572806, 0.3658021525542826, 0.4528926518468376, 0.4738042977009937, 0.5618824378879188, 0.5897711066824072, 0.39924540917772566, 0.4570475903124107, 0.2528622249237511, 0.2479769383127255, 0.2669643158995126, 0.34510442102981675, 0.40466579190767615, 0.3190015740249337, 0.4851126458994844, 0.3403096221050237, 0.3824550543403991, 0.3964587681925015, 0.3667659626090619, 0.19992399017633095, 0.26222945007950277, 0.2968570891524429, 0.2964337290426759, 0.312692158376316, 0.43160146531785787, 0.2586784597933715, 0.22485726643033288, 0.23987364380755216, 0.2848952078206441, 0.31327908767373824, 0.2124937365155761, 0.43335873236020095], [0.5297915012947708, 0.39219378353576895, 0.5368436065416531, 1.0000000000000002, 0.6382615139412773, 0.5954470231874291, 0.6161377200892966, 0.2907229397462827, 0.261245384567457, 0.26509499012922344, 0.49895568887176633, 0.3189470508303896, 0.420386229897837, 0.35955391437655004, 0.3586108295077759, 0.334716594159737, 0.3034312854421975, 0.4567890113109355, 0.2690729880355167, 0.3303750287100802, 0.3656887370287416, 0.3091981893311294, 0.5155686371350334, 0.43242866471284713, 0.49273897185412385, 0.3180985401050574, 0.3311339477698936, 0.34785478780555124, 0.47531898408251416, 0.4050448195377111, 0.338501590581047, 0.3095993014562112, 0.4433129077974704, 0.30233141319069556, 0.39394392329742167, 0.337092182665255, 0.2614661607398331, 0.31876799253540644, 0.2456491503049853, 0.2976801422923256, 0.3609112510770097, 0.3036269616671729, 0.2718284935016362, 0.26661707308387195, 0.41548170656396854, 0.28280197817854835, 0.22089965039016718, 0.16412757965283226, 0.41731950049077127, 0.29746630185726836, 0.34739073367623874, 0.2590631280616976, 0.2747485157490247, 0.2806255509187475, 0.30776338404448156, 0.1549117355512688, 0.1315904910961947, 0.23893994186404433, 0.2679721691157955, 0.15919109692516753, 0.2895118606196356, 0.2921580655541896, 0.09347190860399451, 0.2846982172987405, 0.17267511899037147, 0.29477408689215545, 0.35788408138600597, 0.18694677088096834, 0.40959109884130485], [0.4658179798407448, 0.29835837539066573, 0.5340969603837089, 0.6382615139412773, 0.9999999999999998, 0.4419111820145166, 0.570511821025206, 0.27167510319462157, 0.32983934971149675, 0.24704183280836217, 0.5295623488931269, 0.4186190439518195, 0.3815059390682846, 0.4205945663907501, 0.1889152273222699, 0.2532146080701889, 0.2502234000949843, 0.3691027759622853, 0.27506029717513025, 0.2477997406741104, 0.36189456028055056, 0.35382619875751153, 0.586408160202297, 0.4581127978915993, 0.4603853447714987, 0.29860862031347835, 0.3133786205946952, 0.31384481545320975, 0.451814428162019, 0.4026436093206358, 0.3354616774895688, 0.26604050908608046, 0.4713380535692071, 0.280987605922569, 0.33784068810265855, 0.21268968885380607, 0.20625472982758658, 0.24986764375797463, 0.2019269197813225, 0.41017677739346275, 0.3339938317648209, 0.2611511239786831, 0.17194897471088788, 0.3302388319102372, 0.36229703679932035, 0.1641421638183858, 0.25713371086992964, 0.10169761192148005, 0.25766414637628005, 0.27272241180562873, 0.280779085701786, 0.23451012448051967, 0.22767073096455165, 0.27876390677852636, 0.37035308770044034, 0.21233318940472828, 0.140578185841091, 0.11231855252149862, 0.1201807714394204, 0.1521496324116517, 0.2899047768519527, 0.2818818792990476, 0.1344121789101466, 0.28145770480104815, 0.06961371068841271, 0.17280018735781907, 0.4615647650938783, 0.1216468217809724, 0.37587541315023487], [0.5118071157855821, 0.3966692589822946, 0.5503289244303395, 0.5954470231874291, 0.4419111820145166, 0.9999999999999993, 0.49127574613922464, 0.16583451753881887, 0.2616514610045147, 0.23069555457299162, 0.41201922651358225, 0.22637528202731222, 0.4031371993775289, 0.1915319663014257, 0.30042556809788473, 0.3802704020473029, 0.1621909807225117, 0.3779141272479164, 0.2362240221409943, 0.35507990923077126, 0.305116385950858, 0.2829826299839079, 0.47424993619055045, 0.4268440403513784, 0.5379180969655273, 0.30097957290530575, 0.33628856152783637, 0.3173389678245147, 0.4191751872468229, 0.464120724526942, 0.32663871560984836, 0.2954192493759358, 0.4205813344266514, 0.28544768736534243, 0.4093874133009952, 0.3908039093054039, 0.3014544711785289, 0.3213297789773195, 0.2535993428421809, 0.2865695650676494, 0.3779838145184087, 0.26990802604653563, 0.33889794677010066, 0.2702734570089678, 0.33415302270380026, 0.5130954318829075, 0.26961758957108695, 0.26040124204524806, 0.2650271309185148, 0.30615264034999595, 0.20878294411281623, 0.25494559502604075, 0.20589077054534383, 0.17916696968786183, 0.23515804227361117, 0.196514793339589, 0.07371044525929693, 0.22102860498639448, 0.20755738717989775, 0.2200190485654656, 0.28281146613557884, 0.3122790594081753, 0.206345863187893, 0.2138956335659591, 0.2741463484191917, 0.28048511985997554, 0.20555992495918765, 0.16700800039993174, 0.42762511211298215], [0.5104687083003487, 0.3990294572380403, 0.5817619207176595, 0.6161377200892966, 0.570511821025206, 0.49127574613922464, 1.0, 0.307709653170829, 0.27559068927996033, 0.26388174794553176, 0.46952663167062947, 0.3835867743892325, 0.43996483347660686, 0.3461801849009378, 0.23837236888881924, 0.26255577362288096, 0.24062195207638154, 0.34662858396166907, 0.24528424748435482, 0.3321887683853167, 0.2620870059262552, 0.2895727473558899, 0.508199151781179, 0.42313394448253105, 0.4483333835887445, 0.3483210955495911, 0.2740592348395081, 0.25840628427137163, 0.4047417136575853, 0.33491974340274067, 0.268954624802327, 0.2829377191555226, 0.41980315524308887, 0.28661332532772976, 0.4043153651259226, 0.258308654630374, 0.24575585895581314, 0.2613934999942867, 0.21442393302734908, 0.30298653910211304, 0.3512986844522626, 0.3556790274699512, 0.296060144013489, 0.2543722398875248, 0.3568396570370765, 0.2297955220817421, 0.20230238910131418, 0.12065675122359484, 0.3297949354277294, 0.2803176099740907, 0.2558612481036306, 0.27647225077250304, 0.2344402229901918, 0.18974801954523557, 0.2639042668974073, 0.15200799404480042, 0.07684298742155654, 0.18578023707484143, 0.11146109644846172, 0.1674240131319567, 0.3298170451248322, 0.3264276614107147, 0.06622489249677718, 0.20260982495401514, 0.10372995735489005, 0.24067479721334178, 0.36442384133088057, 0.10151259101140828, 0.33046614576314537], [0.33193292371895133, 0.41268174236863797, 0.4985827943171175, 0.2907229397462827, 0.27167510319462157, 0.16583451753881887, 0.307709653170829, 1.0, 0.47976399674603476, 0.5019775769284255, 0.2684242482501309, 0.30584254519130755, 0.23811917692093576, 0.3305667339171232, 0.22127768636482115, 0.23425941159103078, 0.21931626484098207, 0.13511477662999546, 0.241210408471009, 0.3479695522076729, 0.21335012842494605, 0.25165924561557457, 0.5363101739811442, 0.36797965312348196, 0.37200332378224044, 0.2623669271031668, 0.38683697867889627, 0.1805683917524324, 0.2783495532517333, 0.35376243729166745, 0.3268418093398515, 0.22833156261054224, 0.4080352473144423, 0.20061095035770365, 0.2513333979088149, 0.12908453080167687, 0.25022347400183637, 0.15609266765406468, 0.26585533130312483, 0.2822140708262235, 0.26903115472595884, 0.3781466969874094, 0.37205542529113766, 0.3358046063632312, 0.4162160589459748, 0.0704704565843114, 0.13467376138718085, 0.12112199406927388, 0.2948892817492387, 0.23105368621300862, 0.17226612299674673, 0.36632191586720153, 0.24324414845283904, 0.3669493924361621, 0.18217185179205528, 0.28103108068301597, 0.31837553034941724, 0.19780644267729403, 0.16804674270658052, 0.27170291493274434, 0.38537189777589065, 0.22783915960367437, 0.07278391077822426, 0.12492989940042429, 0.15929075956660413, 0.18347119092282302, 0.15876463024666054, 0.17410173624381148, 0.15681044764371574], [0.4439326803486377, 0.3850473592024741, 0.499671794009114, 0.261245384567457, 0.32983934971149675, 0.2616514610045147, 0.27559068927996033, 0.47976399674603476, 1.0000000000000007, 0.4425381883136146, 0.31363984778120335, 0.3454498688989137, 0.3242229260376015, 0.4271807139113649, 0.07676465812788041, 0.19554733322906293, 0.1733694114381517, 0.09984103422333214, 0.2589360162448741, 0.24662002027391436, 0.2627435022965015, 0.3731771372564304, 0.4892941926122202, 0.42101340249172997, 0.407328349206965, 0.4381023173500447, 0.42881334556961026, 0.24650057302089406, 0.3821089343766491, 0.5112950621065128, 0.3881992079937292, 0.2649591465596193, 0.3963184842325731, 0.302185402045946, 0.3009848645955824, 0.11856490129100283, 0.2631688729944498, 0.17740943210176408, 0.24952594122990118, 0.48013034004000843, 0.360413811213842, 0.42845435820037625, 0.2995261353897497, 0.29748077703686315, 0.3247841608758131, 0.07484262577179293, 0.14866264343766383, 0.1585745583793277, 0.31309834917911733, 0.4729091084856323, 0.44984768904019734, 0.3422876984075421, 0.24323627644653495, 0.33628129819545355, 0.34529536723637927, 0.4912221601788514, 0.12245671301203037, 0.15274026024720766, 0.12806371871986885, 0.2783250892561743, 0.21011809308481844, 0.26048753565746496, 0.18448636661730633, 0.08101700824923116, 0.08126505221131547, 0.17398619865058274, 0.1668880535995403, 0.18611576332085467, 0.23520669604695202], [0.5005109283688566, 0.4880413681183833, 0.49864088175148147, 0.26509499012922344, 0.24704183280836217, 0.23069555457299162, 0.26388174794553176, 0.5019775769284255, 0.4425381883136146, 0.9999999999999998, 0.489917811236676, 0.3383563717858344, 0.500913967266639, 0.44857483346470706, 0.10447408668651986, 0.11254300476912873, 0.22237348050197314, 0.13616802151417828, 0.08353939268943626, 0.27226285012483686, 0.1724243480183913, 0.22564102166545094, 0.3372072861850643, 0.28023920418018833, 0.42424873771821, 0.3007510193753177, 0.3469848025161608, 0.11574790613236008, 0.3318718685596077, 0.2720108587827903, 0.3942000484924645, 0.3266242358421716, 0.37135399415270604, 0.25978870153771183, 0.4826483461123615, 0.24113156384306406, 0.42143784102828763, 0.2708180867073206, 0.3997443948475077, 0.5169108337938574, 0.44567370913896837, 0.509452881242133, 0.4771012453997341, 0.2926746710504318, 0.48415049699315366, 0.0708515948104533, 0.02344426111823128, 0.15855928342583955, 0.33778290350161655, 0.2244606237276942, 0.36628585965076654, 0.3747702159161296, 0.24381294976052653, 0.5259875119381339, 0.18172779076704632, 0.38025986642035947, 0.1270686151134674, 0.07879449042574085, 0.0645909701665016, 0.33524553725969275, 0.21304762910267633, 0.24277579234425195, 0.17390529137636812, 0.07233207178967017, 0.017960788616045498, 0.09266396371825354, 0.11466720813180707, 0.10684017270409402, 0.05067076894234391], [0.692894668882882, 0.495732673817478, 0.6128098616512188, 0.49895568887176633, 0.5295623488931269, 0.41201922651358225, 0.46952663167062947, 0.2684242482501309, 0.31363984778120335, 0.489917811236676, 1.0, 0.5744632945462589, 0.6852306469987595, 0.5704695177335257, 0.24947715119810737, 0.17396747007415936, 0.22557646488025815, 0.21750324640463775, 0.37823722222409983, 0.4338257837214678, 0.3344502798713058, 0.47449178153897265, 0.353778808788337, 0.4155012328430059, 0.39753952291051287, 0.3823544882443509, 0.34102944219474923, 0.3943149272452701, 0.5248366507066261, 0.3400455426157809, 0.3564400674831605, 0.43969343358795393, 0.42836436490014124, 0.37652090906124763, 0.6485126231888951, 0.2950224697873183, 0.28041408255045047, 0.3635575403169101, 0.3053305963423162, 0.48438946130798405, 0.5664578352520246, 0.47359845286883895, 0.42422452618205514, 0.4436165852533627, 0.5031945508104588, 0.2212768644647563, 0.22536232083892396, 0.15970811713161506, 0.41272546895852513, 0.3676903648004116, 0.2956251703585125, 0.3563637659494109, 0.4207232090294154, 0.6122508520091253, 0.41846813129137617, 0.3974268319702762, 0.1043795228119765, 0.16135201213719236, 0.2855806805570947, 0.3634168001062759, 0.23255255642824962, 0.33017899181770693, 0.21150788913543045, 0.24508355953355498, 0.11119873297178579, 0.3124371351745536, 0.3377265842765476, 0.2371436680183263, 0.24559941852765912], [0.5534949717567377, 0.4551753649090504, 0.5675150467296687, 0.3189470508303896, 0.4186190439518195, 0.22637528202731222, 0.3835867743892325, 0.30584254519130755, 0.3454498688989137, 0.3383563717858344, 0.5744632945462589, 1.0, 0.48142617448703007, 0.5120942592824043, 0.07997093350849861, 0.11038468438073179, 0.11814702015783117, 0.21890222589422162, 0.4352706572319657, 0.35864610128127766, 0.33756174656090665, 0.47897408588504164, 0.3815755724839185, 0.37372494400508527, 0.23937076652636996, 0.34521631082758186, 0.35339017424450114, 0.3552080914237603, 0.35547896835368403, 0.27753896476706835, 0.2205812870290665, 0.38381173557829706, 0.40683636985472543, 0.36327071518326337, 0.4913385261250589, 0.1845745455552088, 0.1838837021769943, 0.2883566894212802, 0.28166750728438983, 0.34928289361456, 0.5332099615682709, 0.39406007270841814, 0.3604042225144228, 0.39655550252334026, 0.3681111332262876, 0.1586044818205734, 0.1753737821117367, 0.13764508507141976, 0.3064758196313622, 0.2506122028459681, 0.23663875399096002, 0.3109425922294744, 0.4004844768928011, 0.29590775278342385, 0.3574145747268935, 0.32109429135710543, 0.12675508643493244, 0.23803671055216263, 0.20094398617200573, 0.23801624416016753, 0.22669248459502758, 0.3739561685576348, 0.10388136702551251, 0.14585221934347997, 0.18547595938634673, 0.2696150476262429, 0.3493822494243978, 0.19272357516586217, 0.31425036933718625], [0.7122998561737037, 0.6511295072994239, 0.77303343924469, 0.420386229897837, 0.3815059390682846, 0.4031371993775289, 0.43996483347660686, 0.23811917692093576, 0.3242229260376015, 0.500913967266639, 0.6852306469987595, 0.48142617448703007, 0.9999999999999991, 0.47392007131395797, 0.15770207290325583, 0.11980086767934293, 0.24891986135990302, 0.16082044023994585, 0.32994121739684923, 0.38668269148935197, 0.41786920013440676, 0.34391651037496146, 0.3549017849368169, 0.22678381120826646, 0.29801393713549873, 0.442205159978598, 0.4511631587619622, 0.4255268457090958, 0.5553747480040202, 0.47331757006656605, 0.2673226086252827, 0.466777418620399, 0.4162961421739508, 0.396250622596627, 0.852972186166286, 0.3923474127751342, 0.4304672082981461, 0.4153071890040884, 0.3449388996196928, 0.3548325869640004, 0.3739697899171912, 0.4592587923663276, 0.5738353850144551, 0.33858808847041205, 0.4840594994364341, 0.176306970251501, 0.26102669870186296, 0.21947976221632642, 0.3115072715714037, 0.35808709079508694, 0.27103525180365823, 0.3467673315888258, 0.3741475256827073, 0.3928337333867123, 0.3693419951295124, 0.2933924549898529, 0.12934135925516965, 0.18762793070502687, 0.2863135091421669, 0.37551688843541114, 0.22796018818364155, 0.3749106074836027, 0.27383522832209417, 0.21976678229423796, 0.15109592923047377, 0.24382960062247838, 0.29736381543619483, 0.23396257211527005, 0.2528461483463261], [0.5259694899956087, 0.45056027339592036, 0.5282740321084165, 0.35955391437655004, 0.4205945663907501, 0.1915319663014257, 0.3461801849009378, 0.3305667339171232, 0.4271807139113649, 0.44857483346470706, 0.5704695177335257, 0.5120942592824043, 0.47392007131395797, 0.9999999999999998, 0.02203260498028225, 0.13001213099104908, 0.11660719919790508, 0.04163386632200916, 0.3733355801090179, 0.2497503125308518, 0.2571197006071242, 0.46152723635675863, 0.45662946394572024, 0.3989766159347992, 0.3009624178478203, 0.33333276274220575, 0.42157084960102487, 0.35949371892238885, 0.4397913974055186, 0.31633708111753495, 0.35173020377949765, 0.26085295968756317, 0.3699339562849637, 0.2456848280707745, 0.3873979053621839, 0.1819232988892865, 0.26688037919340146, 0.21414971642186686, 0.23637277892844327, 0.44174321806349043, 0.4101492881765585, 0.394326763379428, 0.24672308341529064, 0.28261784819536656, 0.319412507142389, -0.008079932862765846, 0.12386128401017274, 0.1584923296964465, 0.3174415893389399, 0.19586707564941977, 0.2365322895592837, 0.28647842667325774, 0.2864879571376481, 0.4777131348366557, 0.43188396042196475, 0.2950189970332332, 0.1726026146648295, 0.1129685967490367, 0.18669507715334488, 0.2694737536933375, 0.13988882124816435, 0.3132939449510487, 0.07616647777097181, 0.14927206459743336, 0.005396119855615635, 0.09265965567888018, 0.1719276942709584, 0.21482322884070626, 0.2914106355519296], [0.30515853876437227, 0.1988937368435576, 0.16818255721275066, 0.3586108295077759, 0.1889152273222699, 0.30042556809788473, 0.23837236888881924, 0.22127768636482115, 0.07676465812788041, 0.10447408668651986, 0.24947715119810737, 0.07997093350849861, 0.15770207290325583, 0.02203260498028225, 0.9999999999999996, 0.28937107338350854, 0.2326495617238667, 0.15427095011342917, 0.21001177686287725, 0.22390456464100955, 0.23021953324464567, 0.13945804702671363, 0.1838518183379219, 0.13554657527207456, 0.19533087013878142, 0.2099974359391452, 0.08837369829267605, 0.23087343907699523, 0.18847976762554816, 0.19641116883805163, 0.18150673448615048, 0.2143962216361982, 0.23223456300343426, 0.21932404535654662, 0.20008084294098322, 0.2601023731154392, 0.22762810059887614, 0.2353824969981094, 0.24333493763130284, 0.03917995588996135, 0.13171640053166356, 0.2554841247757182, 0.21253595076392467, 0.18191379025074628, 0.3821141755428134, 0.3470658807110599, 0.17162440763274833, 0.09507243110813018, 0.22807135594515643, 0.12925326366354178, 0.179954449911992, 0.18259503086210946, 0.14003497369841034, 0.125886431954226, 0.09651845936726847, 0.015513445332384579, 0.07133803766008252, 0.16387595694130747, 0.17100806671085883, 0.1527424160388279, 0.15565514836314648, 0.0743802447978335, 0.15798243926931843, 0.15714335194945336, 0.2222002214228325, 0.22277206607838995, 0.06449685699707648, 0.16357688981584861, 0.09991453752904074], [0.30075053668395035, 0.0480473859553498, 0.24631156419467087, 0.334716594159737, 0.2532146080701889, 0.3802704020473029, 0.26255577362288096, 0.23425941159103078, 0.19554733322906293, 0.11254300476912873, 0.17396747007415936, 0.11038468438073179, 0.11980086767934293, 0.13001213099104908, 0.28937107338350854, 1.0000000000000002, 0.12192557174586266, 0.1975778405129403, 0.053018417981687514, 0.22848583126149105, 0.11658159558969063, 0.1594246064664399, 0.3417026577788689, 0.3729127448941375, 0.390124234028111, 0.1900500015071544, 0.12457838782064708, 0.19539194714556643, 0.2420125262259538, 0.2670223472406561, 0.23747156039453265, 0.2133621213771224, 0.3384756727272016, 0.2603985417582897, 0.19099036851676976, 0.33698798997235246, 0.2843468203747499, 0.3089782477838758, 0.33695245198337465, 0.19663617265195804, 0.2777882282492277, -0.013864096647727947, 0.03463415341411563, 0.09646757065213649, 0.24698111096907485, 0.4232899243385294, 0.349894138016147, 0.24416363231934776, 0.16371097898727632, 0.24197240163277595, 0.167593618026519, 0.13177996871524134, 0.2141586581278676, 0.062033951370271165, 0.09163532098715657, -0.037213116016746324, 0.13356382827545143, 0.14264538412555788, 0.12536897012434428, 0.07268644666549767, 0.09865757863775776, 0.11614816677711105, 0.1451186676452187, 0.08290414129778098, 0.14123414186826594, 0.2082386020804154, 0.14495119143240884, -0.026090378484115613, 0.18183235767109512], [0.2969913083658307, 0.19594444547628517, 0.2560862539264709, 0.3034312854421975, 0.2502234000949843, 0.1621909807225117, 0.24062195207638154, 0.21931626484098207, 0.1733694114381517, 0.22237348050197314, 0.22557646488025815, 0.11814702015783117, 0.24891986135990302, 0.11660719919790508, 0.2326495617238667, 0.12192557174586266, 0.9999999999999998, 0.21378774188145952, 0.16823490684852924, 0.155794104236073, 0.20156216201056115, 0.1514658426639829, 0.26162609531404585, 0.16497267748975758, 0.194044453764029, 0.19036864670035797, 0.052488973869941925, 0.12864812940998271, 0.2339385448312917, 0.18633836486341976, 0.09974377692509906, 0.19567713120437807, 0.2473615633724329, 0.1548041954895517, 0.23355193826277987, 0.14958961741437568, 0.126320326000635, 0.15863247460174484, 0.14543211948698126, 0.15856520154253553, 0.16083783727975098, 0.17915035069527765, 0.22317849707145615, 0.1847689929302783, 0.40376405356820844, 0.1296194298392224, 0.10142545666158848, 0.11501033269931289, 0.3469230490732431, 0.30758678083064134, 0.13685731562092274, 0.20018822103234746, 0.26399871246881723, 0.13885541151540393, 0.02440767786613922, -0.01156217436606268, 0.10517941735953434, 0.10621896854726645, 0.09567308356587584, 0.09031271137511357, 0.17176929227728524, 0.1348663006292276, 0.08338937881950519, 0.09968580703597217, 0.06479861003680894, 0.19007269997282927, 0.18267420182458285, 0.09567979894107917, 0.02419162765578467], [0.23601397948408678, 0.13973810605348103, 0.2449270538137077, 0.4567890113109355, 0.3691027759622853, 0.3779141272479164, 0.34662858396166907, 0.13511477662999546, 0.09984103422333214, 0.13616802151417828, 0.21750324640463775, 0.21890222589422162, 0.16082044023994585, 0.04163386632200916, 0.15427095011342917, 0.1975778405129403, 0.21378774188145952, 0.9999999999999993, 0.07376898628230251, 0.19999625655312087, 0.1902985267845086, 0.07453492721011365, 0.2532612834591515, 0.18577273644164824, 0.19678833670544238, 0.1225598506322626, 0.15958938148558388, 0.17033127557112424, 0.2361036477083747, 0.17249349050941834, 0.08872052070642875, 0.14200253595250187, 0.22003996558416405, 0.130275814638982, 0.17150657514630757, 0.1900161175600163, 0.08798190013392292, 0.16642928334103843, 0.10944993386096323, 0.11911300397624425, 0.16496291733543417, 0.12386644915245756, 0.17527909701465144, 0.12972175515726495, 0.22791518703046146, 0.17425873044004772, 0.12139169289451654, 0.09642204917400712, 0.18787574268540333, 0.2912929157260501, 0.15831080499850414, 0.13906041789405602, 0.1326728630674712, 0.09672740195057114, 0.21054824071615635, 0.1135356839496887, 0.06416627611939696, 0.042249164189655825, 0.1685726383585447, 0.111667301985366, 0.08626635134424772, 0.26720826763776817, -0.06765786243578523, 0.062106630886518396, 0.1702246300620191, 0.1075120828423794, 0.23396683791692613, 0.06556892061824703, 0.08257355083588819], [0.5552505524493633, 0.4123561222501355, 0.3911668524652815, 0.2690729880355167, 0.27506029717513025, 0.2362240221409943, 0.24528424748435482, 0.241210408471009, 0.2589360162448741, 0.08353939268943626, 0.37823722222409983, 0.4352706572319657, 0.32994121739684923, 0.3733355801090179, 0.21001177686287725, 0.053018417981687514, 0.16823490684852924, 0.07376898628230251, 1.0000000000000002, 0.48506823580934466, 0.5279771965457323, 0.8697880189161821, 0.2938199312854072, 0.25665587266577616, 0.15697762359047213, 0.48900260802758144, 0.25574591319481776, 0.43768526245610145, 0.3894379901232792, 0.3147826860446361, 0.27289716271985254, 0.3235796874117354, 0.3052926584426042, 0.36584965972004796, 0.3350277972381772, 0.20289003040381937, 0.18714561699104276, 0.2370548469217468, 0.11828098309942073, 0.2706577482328809, 0.3791581886895343, 0.45248773044549273, 0.3025851652025501, 0.3227206679179987, 0.37743752606890413, 0.11645491824453699, 0.18799282333352607, 0.12583303167715126, 0.3009979905284844, 0.2678437505491705, 0.2282553227064527, 0.37878040629630205, 0.2869355066585401, 0.19418355520538788, 0.31297299264925144, 0.24584932507200946, 0.16440742934482183, 0.2872552436958705, 0.2728438165302282, 0.34352612140949623, 0.2107486475861396, 0.20527176021660287, 0.17860165398548838, 0.25450538492112923, 0.2854305404956867, 0.20307550423562143, 0.3053235878971832, 0.47694153434012415, 0.34470714798758395], [0.5388931244478015, 0.5341028632719155, 0.4715697680969252, 0.3303750287100802, 0.2477997406741104, 0.35507990923077126, 0.3321887683853167, 0.3479695522076729, 0.24662002027391436, 0.27226285012483686, 0.4338257837214678, 0.35864610128127766, 0.38668269148935197, 0.2497503125308518, 0.22390456464100955, 0.22848583126149105, 0.155794104236073, 0.19999625655312087, 0.48506823580934466, 1.0000000000000009, 0.502819023174818, 0.4294602780334852, 0.4033371854510347, 0.2506803256853477, 0.2896152940471201, 0.4418911362742537, 0.329263512968659, 0.31018900336780997, 0.4374232229320049, 0.3880604791991067, 0.3460055208774472, 0.3342143215074125, 0.3685461527453949, 0.3004527716658803, 0.3890585293403446, 0.3010928320870827, 0.24523375576141743, 0.27932559838427884, 0.18666014233111883, 0.33531523890939235, 0.4377194455592283, 0.518581735724142, 0.4878638683280266, 0.5520207096506506, 0.4840601207225025, 0.19074789988794322, 0.20671013960908985, 0.19619100041466617, 0.3893338227442139, 0.33112265525710055, 0.32805522587243297, 0.3229111124390854, 0.3318698084716758, 0.27621430217743786, 0.3045046348967858, 0.23561171786971966, 0.17101144453679495, 0.3021969771612571, 0.29800456980292306, 0.26057457108920307, 0.430465082486568, 0.3044731766119888, 0.2221625822607287, 0.17849456968161476, 0.38821457978157003, 0.2589084034222371, 0.20336219560042254, 0.34762668514237716, 0.3328249978374309], [0.5251145866286625, 0.4695583657837946, 0.42632912994506916, 0.3656887370287416, 0.36189456028055056, 0.305116385950858, 0.2620870059262552, 0.21335012842494605, 0.2627435022965015, 0.1724243480183913, 0.3344502798713058, 0.33756174656090665, 0.41786920013440676, 0.2571197006071242, 0.23021953324464567, 0.11658159558969063, 0.20156216201056115, 0.1902985267845086, 0.5279771965457323, 0.502819023174818, 1.0, 0.49769627942311434, 0.33386800840716535, 0.18013469885347547, 0.1467886524094791, 0.5356638374695339, 0.34023878678488895, 0.4767032760096742, 0.47617679610435837, 0.42381243519512074, 0.38550480828160383, 0.28905082697702644, 0.29620926136981385, 0.36018493691818854, 0.34321851774495704, 0.3024328908678884, 0.23163651931112406, 0.2841647257575088, 0.20993259465947944, 0.3425826622885412, 0.33139387962737216, 0.29563083108133237, 0.24841953577455259, 0.3534457999872578, 0.39983591067551905, 0.15417338023587457, 0.17265665208013803, 0.20293866580062014, 0.27453430326187456, 0.30043474819601934, 0.25709114620609214, 0.25394741182876074, 0.2378991536862263, 0.2537591195557932, 0.33497195879709774, 0.2440894074371053, 0.19430301064391983, 0.374824442261023, 0.2878750759752944, 0.2751399375958691, 0.2677503254107819, 0.19963323324807297, 0.13886086459367047, 0.2586669383187751, 0.3882689957138302, 0.2422778208681674, 0.21415360660548088, 0.23058112204855918, 0.35858897828207836], [0.6671104445878618, 0.4201864150783587, 0.4436265398713012, 0.3091981893311294, 0.35382619875751153, 0.2829826299839079, 0.2895727473558899, 0.25165924561557457, 0.3731771372564304, 0.22564102166545094, 0.47449178153897265, 0.47897408588504164, 0.34391651037496146, 0.46152723635675863, 0.13945804702671363, 0.1594246064664399, 0.1514658426639829, 0.07453492721011365, 0.8697880189161821, 0.4294602780334852, 0.49769627942311434, 1.0, 0.3863019756984142, 0.5470401482148792, 0.23762799761124365, 0.6096128931746267, 0.30759036058851286, 0.44986448933684237, 0.4610305182576297, 0.33761146956545973, 0.35401510625540444, 0.3564299304828484, 0.3912063155170314, 0.4597826093707062, 0.35251715296215647, 0.24767558145734075, 0.31356668108673347, 0.29715628874667843, 0.25302541242154275, 0.5922248145583107, 0.6404417803329069, 0.4600428278039595, 0.2133200126973382, 0.3378527315523553, 0.3349935680562944, 0.1319871369724501, 0.20864269756095605, 0.12409975065432029, 0.3039819588779929, 0.269651413789771, 0.2755114301705094, 0.3916119022745488, 0.2670231609835865, 0.3333841748390344, 0.38636553715573074, 0.314378822234482, 0.18079136953035393, 0.30186996992300524, 0.28564018088125265, 0.35050664279032856, 0.20086662985224346, 0.25983484537491663, 0.1529929348095765, 0.24925758653852087, 0.2694956410817281, 0.23047002763675342, 0.34510892056604714, 0.4342480280245189, 0.3914130913759426], [0.4894979328554633, 0.5165844167981613, 0.7389825570250612, 0.5155686371350334, 0.586408160202297, 0.47424993619055045, 0.508199151781179, 0.5363101739811442, 0.4892941926122202, 0.3372072861850643, 0.353778808788337, 0.3815755724839185, 0.3549017849368169, 0.45662946394572024, 0.1838518183379219, 0.3417026577788689, 0.26162609531404585, 0.2532612834591515, 0.2938199312854072, 0.4033371854510347, 0.33386800840716535, 0.3863019756984142, 1.0000000000000007, 0.6958273757085679, 0.6201822609349048, 0.4409389268239643, 0.4933697927959332, 0.2816510775938703, 0.39924355207682644, 0.49659641505485597, 0.43160420177393155, 0.3804242025247098, 0.7640378112591186, 0.38512501248459574, 0.37855763554286226, 0.37167716299959497, 0.46116999532640834, 0.38157141797009275, 0.3539683320252297, 0.4303855197988201, 0.40891490348022297, 0.4415095669627408, 0.35686139445124204, 0.37015766625973384, 0.501328000475318, 0.27445026192829625, 0.26132873978846977, 0.23021487836826748, 0.2987542657706257, 0.25166373234505435, 0.26018053719413786, 0.2938214550273254, 0.16583075847141152, 0.25627439778022015, 0.22740358278881956, 0.23022087266799218, 0.21745658627931264, 0.18815548734773196, 0.15932856504195794, 0.19016641547862634, 0.3555085828710597, 0.4163059213866019, 0.10459981751265685, 0.180085955755215, 0.19565878898551897, 0.20423084280742912, 0.2592416054430304, 0.2046421382076486, 0.4680310390003683], [0.43683222557064333, 0.2577138515876869, 0.5430927521310402, 0.43242866471284713, 0.4581127978915993, 0.4268440403513784, 0.42313394448253105, 0.36797965312348196, 0.42101340249172997, 0.28023920418018833, 0.4155012328430059, 0.37372494400508527, 0.22678381120826646, 0.3989766159347992, 0.13554657527207456, 0.3729127448941375, 0.16497267748975758, 0.18577273644164824, 0.25665587266577616, 0.2506803256853477, 0.18013469885347547, 0.5470401482148792, 0.6958273757085679, 1.0000000000000002, 0.5238809241380973, 0.35085299655513436, 0.2692233280638612, 0.23501933219509485, 0.2859750108752047, 0.31773537998403567, 0.21250153598692723, 0.23622058249109068, 0.5310559161808643, 0.2966355582245001, 0.2644425051065945, 0.17628460788895595, 0.29042039096516786, 0.2061697680884686, 0.23252786896846747, 0.45327099739763516, 0.6371888692239631, 0.3466869523182091, 0.1415895469229108, 0.23441789074214192, 0.2485759340409351, 0.19784001575573673, 0.18273743353275484, 0.04188637300417661, 0.28194245684573804, 0.2921452946605968, 0.22851602740330018, 0.33333761682642904, 0.1691995300380181, 0.2085581059547777, 0.18552807324556733, 0.17149533896823854, 0.05170216611045957, 0.09312005047071403, 0.15896134521427235, 0.20536924620080638, 0.2681944843356392, 0.3682810687654394, 0.059505466757521636, 0.11132798161753052, 0.06029321479342248, 0.17212706524877575, 0.25646875258578034, 0.135851005719243, 0.4131194776301158], [0.40509533535243414, 0.27009297567604945, 0.5149789938767423, 0.49273897185412385, 0.4603853447714987, 0.5379180969655273, 0.4483333835887445, 0.37200332378224044, 0.407328349206965, 0.42424873771821, 0.39753952291051287, 0.23937076652636996, 0.29801393713549873, 0.3009624178478203, 0.19533087013878142, 0.390124234028111, 0.194044453764029, 0.19678833670544238, 0.15697762359047213, 0.2896152940471201, 0.1467886524094791, 0.23762799761124365, 0.6201822609349048, 0.5238809241380973, 1.0, 0.18179363026654366, 0.25279950330989664, 0.03521581247556646, 0.32062984864865063, 0.3061241984451784, 0.38306244169023196, 0.2886733587227885, 0.5300822699500245, 0.21912330267502894, 0.35150662587284043, 0.23231675289283393, 0.30384801559054614, 0.25555996603429404, 0.28626946562739874, 0.3463081271267695, 0.31542349802651953, 0.38908813964957595, 0.364983497969454, 0.23201651307900045, 0.4056290064857726, 0.2808029137983509, 0.20816323564143516, 0.12153895427276516, 0.39625689806319053, 0.2519229531277981, 0.2848974710764487, 0.2323692779389025, 0.15472125883999135, 0.15886544143768766, 0.13859884986661633, 0.2120649050967754, -0.006470431342069212, 0.041878313906025436, 0.053344124096172146, 0.10119143626841043, 0.3068698699221413, 0.3283480922777383, 0.2629901420551243, 0.25525742632604187, 0.09137202843323579, 0.26153170765118755, 0.1544417550822772, 0.10991656294627464, 0.23713828279506877], [0.6754017703254516, 0.6458728901729356, 0.568103849445772, 0.3180985401050574, 0.29860862031347835, 0.30097957290530575, 0.3483210955495911, 0.2623669271031668, 0.4381023173500447, 0.3007510193753177, 0.3823544882443509, 0.34521631082758186, 0.442205159978598, 0.33333276274220575, 0.2099974359391452, 0.1900500015071544, 0.19036864670035797, 0.1225598506322626, 0.48900260802758144, 0.4418911362742537, 0.5356638374695339, 0.6096128931746267, 0.4409389268239643, 0.35085299655513436, 0.18179363026654366, 0.9999999999999996, 0.45264400141368866, 0.5417972848900559, 0.42188118519422413, 0.5498528062063636, 0.4701708069593775, 0.42432700327582556, 0.4309450435111212, 0.6766110606870839, 0.4245362229351499, 0.3804219878854326, 0.4547657582333241, 0.4190575881699691, 0.38936605829644233, 0.5976635831978441, 0.47894011226429845, 0.5380450296448559, 0.2981235021759192, 0.3100724681564498, 0.3829880697597351, 0.19964575025424305, 0.23108238140542803, 0.2850167402636795, 0.2612497613720066, 0.3156795508303856, 0.33514957069597984, 0.4570052464658477, 0.28391291557923193, 0.33741156261673017, 0.3279932901176875, 0.30677987956050956, 0.3131022364176721, 0.4754023431247355, 0.39318413763693494, 0.2847075758425236, 0.16729696251869253, 0.2597229589444373, 0.19497114208392097, 0.2565238580418423, 0.412340617872402, 0.312909281258573, 0.21067542406232448, 0.283553731589486, 0.35058802960822233], [0.5388880817173067, 0.6985617647884683, 0.6204667363127421, 0.3311339477698936, 0.3133786205946952, 0.33628856152783637, 0.2740592348395081, 0.38683697867889627, 0.42881334556961026, 0.3469848025161608, 0.34102944219474923, 0.35339017424450114, 0.4511631587619622, 0.42157084960102487, 0.08837369829267605, 0.12457838782064708, 0.052488973869941925, 0.15958938148558388, 0.25574591319481776, 0.329263512968659, 0.34023878678488895, 0.30759036058851286, 0.4933697927959332, 0.2692233280638612, 0.25279950330989664, 0.45264400141368866, 0.9999999999999996, 0.3836162505258883, 0.46855494331388553, 0.5514031872767617, 0.41984921715791024, 0.40256657570202853, 0.4610246626548333, 0.422926818401968, 0.44136728603195957, 0.41828010708495933, 0.48874294354011694, 0.4233746584645202, 0.44808899539357355, 0.3923389790178378, 0.3212379116353016, 0.400903708570017, 0.44583675884541807, 0.3897051476527843, 0.23915147779571405, 0.24931507743872078, 0.18772263600403188, 0.32316994956862843, 0.24609883547757075, 0.12188358003748408, 0.16694630258398452, 0.32544333035121964, 0.19683203745130157, 0.40512013598997126, 0.39296961056934054, 0.45321658867122133, 0.3047015813692985, 0.3068420402306736, 0.2550932336373798, 0.14088196497701583, 0.1783076938364667, 0.17882149345516862, 0.11963177589691826, 0.14975823465108906, 0.2511029988020347, 0.21385410647961517, 0.170403616333616, 0.2028316048219094, 0.4084533691379406], [0.5572271316403246, 0.47868589955173735, 0.4432919699429125, 0.34785478780555124, 0.31384481545320975, 0.3173389678245147, 0.25840628427137163, 0.1805683917524324, 0.24650057302089406, 0.11574790613236008, 0.3943149272452701, 0.3552080914237603, 0.4255268457090958, 0.35949371892238885, 0.23087343907699523, 0.19539194714556643, 0.12864812940998271, 0.17033127557112424, 0.43768526245610145, 0.31018900336780997, 0.4767032760096742, 0.44986448933684237, 0.2816510775938703, 0.23501933219509485, 0.03521581247556646, 0.5417972848900559, 0.3836162505258883, 1.0000000000000002, 0.5385431686993922, 0.3894875587944524, 0.3813770021677632, 0.2862906427652607, 0.26286085810963766, 0.3898103766319107, 0.35000032094425315, 0.32421981583121134, 0.27467649917428794, 0.29711830129740047, 0.3340888398520896, 0.3371157370138909, 0.36466462096231755, 0.18057351203598238, 0.2214204188401407, 0.1990874916780267, 0.2667915986343843, 0.264815992505099, 0.1583297481655917, 0.2397211904608219, 0.23689268980575934, 0.2873658110154491, 0.16931596406158322, 0.28492704331691415, 0.3065601156470342, 0.3621671206246533, 0.338585851749014, 0.21114350321777323, 0.4242968492057528, 0.45232452837548554, 0.5162867025862947, 0.49728805499591766, 0.14210975980882823, 0.1607666979380426, 0.2727158601919749, 0.1834213827126286, 0.35128577682687157, 0.26604816642680185, 0.20259824049804814, 0.1727412335761421, 0.3672155528312462], [0.666699786137422, 0.5312464613373536, 0.5269578419198168, 0.47531898408251416, 0.451814428162019, 0.4191751872468229, 0.4047417136575853, 0.2783495532517333, 0.3821089343766491, 0.3318718685596077, 0.5248366507066261, 0.35547896835368403, 0.5553747480040202, 0.4397913974055186, 0.18847976762554816, 0.2420125262259538, 0.2339385448312917, 0.2361036477083747, 0.3894379901232792, 0.4374232229320049, 0.47617679610435837, 0.4610305182576297, 0.39924355207682644, 0.2859750108752047, 0.32062984864865063, 0.42188118519422413, 0.46855494331388553, 0.5385431686993922, 0.9999999999999993, 0.470597482870583, 0.5013692668942472, 0.34205743497852426, 0.36112039305456567, 0.32766177702070126, 0.43482413075964166, 0.48731323994792947, 0.4232939404112746, 0.3987691424341797, 0.4030600410985674, 0.5100919478427107, 0.4602994373503675, 0.2908128085148617, 0.335978891511342, 0.3341094949260943, 0.38435860065162974, 0.2287902909248788, 0.24294452478381817, 0.31529669552274586, 0.35702409291340986, 0.266259392458931, 0.23737917108826678, 0.26582647608515875, 0.3749948604869988, 0.534457702706603, 0.498653355580733, 0.4213895268727119, 0.3172975887796334, 0.28779176323701766, 0.2516699617321325, 0.3363995470880941, 0.23255048734090844, 0.15202926358755967, 0.26670315142595746, 0.23863662890281478, 0.23779268770941786, 0.2944348452548951, 0.302654586638273, 0.20367238705364393, 0.4155035856839611], [0.6163364604139003, 0.5466697127614475, 0.6075340632283002, 0.4050448195377111, 0.4026436093206358, 0.464120724526942, 0.33491974340274067, 0.35376243729166745, 0.5112950621065128, 0.2720108587827903, 0.3400455426157809, 0.27753896476706835, 0.47331757006656605, 0.31633708111753495, 0.19641116883805163, 0.2670223472406561, 0.18633836486341976, 0.17249349050941834, 0.3147826860446361, 0.3880604791991067, 0.42381243519512074, 0.33761146956545973, 0.49659641505485597, 0.31773537998403567, 0.3061241984451784, 0.5498528062063636, 0.5514031872767617, 0.3894875587944524, 0.470597482870583, 1.0000000000000004, 0.3578820701262372, 0.5288113124213936, 0.5542477817227214, 0.5891470626185851, 0.5235199064045396, 0.444055951223558, 0.40671759079404646, 0.5314392201577298, 0.40381208151169984, 0.37120403898983456, 0.342738506870392, 0.394886151702205, 0.3458126137992188, 0.33595509018765923, 0.36733337611377836, 0.277238425134389, 0.5835824494245458, 0.42708788122499974, 0.2986033974959271, 0.377805546508042, 0.30945781800121785, 0.311044948490641, 0.30464499724733796, 0.32360665717315784, 0.4523190016171663, 0.37206134955054426, 0.25424917039096445, 0.3016140805576658, 0.22630657328146986, 0.0943104460214881, 0.18511880899604127, 0.2675971197642715, 0.2474036771496536, 0.37669665351656, 0.3680849341110799, 0.33088657398445176, 0.22467514566723346, 0.16673831166333436, 0.3531742008478267], [0.4908132560550193, 0.4207738549527321, 0.3713387754739527, 0.338501590581047, 0.3354616774895688, 0.32663871560984836, 0.268954624802327, 0.3268418093398515, 0.3881992079937292, 0.3942000484924645, 0.3564400674831605, 0.2205812870290665, 0.2673226086252827, 0.35173020377949765, 0.18150673448615048, 0.23747156039453265, 0.09974377692509906, 0.08872052070642875, 0.27289716271985254, 0.3460055208774472, 0.38550480828160383, 0.35401510625540444, 0.43160420177393155, 0.21250153598692723, 0.38306244169023196, 0.4701708069593775, 0.41984921715791024, 0.3813770021677632, 0.5013692668942472, 0.3578820701262372, 1.0, 0.34573217319678884, 0.4256017386961135, 0.3922794539195057, 0.2893751412068779, 0.37849133533105483, 0.46274144649997756, 0.3719938278870173, 0.4425732245840983, 0.5185363317753164, 0.3488998680658547, 0.3288666975676502, 0.3128439578882428, 0.4136095863184956, 0.47017851633501506, 0.2483501797767389, 0.16757368041066184, 0.3034380549288483, 0.24383978350219243, 0.02620942950237523, 0.27282424454887966, 0.2824384597007221, 0.15082461365894212, 0.4196467190142763, 0.3307788920711242, 0.40520668134007254, 0.2827589166331247, 0.2926880724658979, 0.25361928242214904, 0.2764667323218666, 0.23344109308182576, 0.23758345794822733, 0.2601901797433789, 0.3029793589433871, 0.285602830197997, 0.2928374888784998, 0.17397225331412702, 0.2049236695727356, 0.3070941343960909], [0.6829065131202527, 0.5112666946848142, 0.4579450491293199, 0.3095993014562112, 0.26604050908608046, 0.2954192493759358, 0.2829377191555226, 0.22833156261054224, 0.2649591465596193, 0.3266242358421716, 0.43969343358795393, 0.38381173557829706, 0.466777418620399, 0.26085295968756317, 0.2143962216361982, 0.2133621213771224, 0.19567713120437807, 0.14200253595250187, 0.3235796874117354, 0.3342143215074125, 0.28905082697702644, 0.3564299304828484, 0.3804242025247098, 0.23622058249109068, 0.2886733587227885, 0.42432700327582556, 0.40256657570202853, 0.2862906427652607, 0.34205743497852426, 0.5288113124213936, 0.34573217319678884, 1.0000000000000009, 0.8627569535245809, 0.9055216489807534, 0.8246734100631439, 0.5102041247897509, 0.5078361555194906, 0.8945728309588882, 0.7170368127750868, 0.32751906989406687, 0.5211161737228193, 0.47396408577177546, 0.5561710278817813, 0.5558548557241898, 0.554181633791643, 0.46314633957660434, 0.608901098301787, 0.4479629138364322, 0.31948778567218783, 0.2701584380024964, 0.2672662735061576, 0.31884820925022966, 0.2563057550596241, 0.35957658970338574, 0.22721716024195315, 0.292714720005609, 0.18001086107051079, 0.24322899096591705, 0.15054271609798534, 0.09491124649356439, 0.21700957397740883, 0.22791085674778716, 0.19673374721775927, 0.36363779319551737, 0.3350615705080362, 0.5758569133771269, 0.14810045573790756, 0.23722508901757688, 0.0970241227090463], [0.64676937121676, 0.5004275110977344, 0.6081737513796148, 0.4433129077974704, 0.4713380535692071, 0.4205813344266514, 0.41980315524308887, 0.4080352473144423, 0.3963184842325731, 0.37135399415270604, 0.42836436490014124, 0.40683636985472543, 0.4162961421739508, 0.3699339562849637, 0.23223456300343426, 0.3384756727272016, 0.2473615633724329, 0.22003996558416405, 0.3052926584426042, 0.3685461527453949, 0.29620926136981385, 0.3912063155170314, 0.7640378112591186, 0.5310559161808643, 0.5300822699500245, 0.4309450435111212, 0.4610246626548333, 0.26286085810963766, 0.36112039305456567, 0.5542477817227214, 0.4256017386961135, 0.8627569535245809, 0.9999999999999993, 0.7885688917347153, 0.7155933581417533, 0.5050443140059371, 0.555739688662242, 0.7986313496955679, 0.6683112803454784, 0.41300113265909666, 0.5442467301853693, 0.49948783500645905, 0.49938943832947535, 0.5589477035789499, 0.6215030812916935, 0.4643146697631673, 0.551315505719703, 0.38682721482175286, 0.34260392914242777, 0.26985123641454734, 0.27834755137859346, 0.317356016800348, 0.20204808386253378, 0.3369749956747491, 0.2211468861224839, 0.2750455655102935, 0.19274297605261276, 0.19528531211561465, 0.1153405333299384, 0.1232359916080905, 0.31114706582924906, 0.3543438389658629, 0.15063781274626203, 0.3204415290298471, 0.28943764096964264, 0.47182310176855513, 0.20837582809944882, 0.24176781337903702, 0.2610913014318626], [0.7034751153866903, 0.5029262402629421, 0.46514796067664216, 0.30233141319069556, 0.280987605922569, 0.28544768736534243, 0.28661332532772976, 0.20061095035770365, 0.302185402045946, 0.25978870153771183, 0.37652090906124763, 0.36327071518326337, 0.396250622596627, 0.2456848280707745, 0.21932404535654662, 0.2603985417582897, 0.1548041954895517, 0.130275814638982, 0.36584965972004796, 0.3004527716658803, 0.36018493691818854, 0.4597826093707062, 0.38512501248459574, 0.2966355582245001, 0.21912330267502894, 0.6766110606870839, 0.422926818401968, 0.3898103766319107, 0.32766177702070126, 0.5891470626185851, 0.3922794539195057, 0.9055216489807534, 0.7885688917347153, 1.0, 0.7056062628071891, 0.5074957599464661, 0.5192587362713615, 0.8531823923076258, 0.7084005039062338, 0.4234165832422693, 0.5441297181056541, 0.43923913247609303, 0.37008160473077173, 0.4574624935981694, 0.4214322993269333, 0.4516380707721114, 0.5829369570391463, 0.480630874234514, 0.2666322038267921, 0.27714953055574787, 0.27874444565012957, 0.37124999638669665, 0.2544857137199212, 0.3278726818728215, 0.2638170457385303, 0.28999826680396784, 0.26302548287849703, 0.32716691091624833, 0.24605676090123463, 0.08453717094331913, 0.14855323541442075, 0.22170836334119387, 0.17585626284415418, 0.36893372420368487, 0.4083659859909421, 0.5587080555915338, 0.15939871957078036, 0.21010461518465665, 0.1781731048144874], [0.7634853939300019, 0.6093294956222197, 0.6941392558260273, 0.39394392329742167, 0.33784068810265855, 0.4093874133009952, 0.4043153651259226, 0.2513333979088149, 0.3009848645955824, 0.4826483461123615, 0.6485126231888951, 0.4913385261250589, 0.852972186166286, 0.3873979053621839, 0.20008084294098322, 0.19099036851676976, 0.23355193826277987, 0.17150657514630757, 0.3350277972381772, 0.3890585293403446, 0.34321851774495704, 0.35251715296215647, 0.37855763554286226, 0.2644425051065945, 0.35150662587284043, 0.4245362229351499, 0.44136728603195957, 0.35000032094425315, 0.43482413075964166, 0.5235199064045396, 0.2893751412068779, 0.8246734100631439, 0.7155933581417533, 0.7056062628071891, 0.9999999999999998, 0.4671474453529302, 0.49142370543648506, 0.7176559626473993, 0.5665709905634031, 0.34090801935045745, 0.5018550354755171, 0.5292579802011361, 0.677210951546396, 0.5113669834803292, 0.5917206165419642, 0.35758059028295347, 0.4884938402630153, 0.3224785257090054, 0.3492628408896088, 0.35883706515539626, 0.2791580610741495, 0.3758490411116132, 0.33452414834081956, 0.3911302478230133, 0.3015533257742733, 0.3036106709722991, 0.12557494332165287, 0.1841639440638907, 0.2219785534746408, 0.2659875934309221, 0.26076099831790867, 0.3495697135864798, 0.25247654468274766, 0.309627306678856, 0.2530121147120892, 0.44675221230069073, 0.24930241817275023, 0.26173974695979957, 0.1555681168390094], [0.6385417330876733, 0.46524281372212417, 0.40373115214165156, 0.337092182665255, 0.21268968885380607, 0.3908039093054039, 0.258308654630374, 0.12908453080167687, 0.11856490129100283, 0.24113156384306406, 0.2950224697873183, 0.1845745455552088, 0.3923474127751342, 0.1819232988892865, 0.2601023731154392, 0.33698798997235246, 0.14958961741437568, 0.1900161175600163, 0.20289003040381937, 0.3010928320870827, 0.3024328908678884, 0.24767558145734075, 0.37167716299959497, 0.17628460788895595, 0.23231675289283393, 0.3804219878854326, 0.41828010708495933, 0.32421981583121134, 0.48731323994792947, 0.444055951223558, 0.37849133533105483, 0.5102041247897509, 0.5050443140059371, 0.5074957599464661, 0.4671474453529302, 0.9999999999999998, 0.8468746940876335, 0.8051984719036777, 0.7363967565165745, 0.2972382121232959, 0.2904799296814521, 0.27465263423634856, 0.32602600546165716, 0.3147266326453274, 0.39966698838146647, 0.5314565815394674, 0.4593702802540286, 0.6832431899754674, 0.2599630567899319, 0.1885931202307396, 0.1244627163268196, 0.13099780612373618, 0.19212013838556247, 0.35095211817900784, 0.19580373380273255, 0.2649000715659104, 0.3844696035200069, 0.30651435158011053, 0.20351855721521733, 0.1531709179595288, 0.1727244139895162, 0.08732507588521234, 0.23216631415501993, 0.2532486484404882, 0.5112619929587415, 0.32877927312594624, 0.12340534633540334, 0.061438545713003036, 0.3180054784230296], [0.6391229641666873, 0.5124377214391596, 0.463917999794112, 0.2614661607398331, 0.20625472982758658, 0.3014544711785289, 0.24575585895581314, 0.25022347400183637, 0.2631688729944498, 0.42143784102828763, 0.28041408255045047, 0.1838837021769943, 0.4304672082981461, 0.26688037919340146, 0.22762810059887614, 0.2843468203747499, 0.126320326000635, 0.08798190013392292, 0.18714561699104276, 0.24523375576141743, 0.23163651931112406, 0.31356668108673347, 0.46116999532640834, 0.29042039096516786, 0.30384801559054614, 0.4547657582333241, 0.48874294354011694, 0.27467649917428794, 0.4232939404112746, 0.40671759079404646, 0.46274144649997756, 0.5078361555194906, 0.555739688662242, 0.5192587362713615, 0.49142370543648506, 0.8468746940876335, 1.0000000000000002, 0.7253036829679471, 0.7994704587657814, 0.44654099994014196, 0.3293097786636291, 0.45514433253171743, 0.375985706043636, 0.34500808308862435, 0.4194499191454718, 0.40800710784195826, 0.3518423555272481, 0.5822075483063175, 0.19969769682137584, 0.0950941121744215, 0.18390046154763923, 0.254862836286402, 0.10690116288372606, 0.36222321422508275, 0.19278700908923338, 0.2823493766757281, 0.29723209519860977, 0.2187253862279201, 0.171185406005734, 0.16916604844253205, 0.19623223616454671, 0.16829443024335583, 0.2557551613972642, 0.2239758149911326, 0.3709102257805625, 0.22445016468304863, 0.0923658524368413, 0.10387474198679103, 0.2908500102740287], [0.6916687877530976, 0.4612507505488913, 0.4092712286572806, 0.31876799253540644, 0.24986764375797463, 0.3213297789773195, 0.2613934999942867, 0.15609266765406468, 0.17740943210176408, 0.2708180867073206, 0.3635575403169101, 0.2883566894212802, 0.4153071890040884, 0.21414971642186686, 0.2353824969981094, 0.3089782477838758, 0.15863247460174484, 0.16642928334103843, 0.2370548469217468, 0.27932559838427884, 0.2841647257575088, 0.29715628874667843, 0.38157141797009275, 0.2061697680884686, 0.25555996603429404, 0.4190575881699691, 0.4233746584645202, 0.29711830129740047, 0.3987691424341797, 0.5314392201577298, 0.3719938278870173, 0.8945728309588882, 0.7986313496955679, 0.8531823923076258, 0.7176559626473993, 0.8051984719036777, 0.7253036829679471, 1.0000000000000004, 0.8397399805001318, 0.32913498168499356, 0.442936737557637, 0.3584391662091876, 0.4106566572249281, 0.4774325598116197, 0.4862071864160381, 0.5680218636434564, 0.6486675623929541, 0.6333591925872533, 0.2763757951592233, 0.21655195296342283, 0.1871874655983803, 0.21951793296056327, 0.2072690112868834, 0.37283727039032544, 0.20971678250703552, 0.28669912301090755, 0.27401859284474617, 0.23970107851773698, 0.1399971334879591, 0.06332627065925388, 0.16434625804563976, 0.15955737556273522, 0.19411427051564134, 0.35827826284406983, 0.43519631104780493, 0.5085215001574741, 0.12366800106197197, 0.12528654818987534, 0.17035983699123675], [0.6476145996931659, 0.45231252099449604, 0.3658021525542826, 0.2456491503049853, 0.2019269197813225, 0.2535993428421809, 0.21442393302734908, 0.26585533130312483, 0.24952594122990118, 0.3997443948475077, 0.3053305963423162, 0.28166750728438983, 0.3449388996196928, 0.23637277892844327, 0.24333493763130284, 0.33695245198337465, 0.14543211948698126, 0.10944993386096323, 0.11828098309942073, 0.18666014233111883, 0.20993259465947944, 0.25302541242154275, 0.3539683320252297, 0.23252786896846747, 0.28626946562739874, 0.38936605829644233, 0.44808899539357355, 0.3340888398520896, 0.4030600410985674, 0.40381208151169984, 0.4425732245840983, 0.7170368127750868, 0.6683112803454784, 0.7084005039062338, 0.5665709905634031, 0.7363967565165745, 0.7994704587657814, 0.8397399805001318, 1.0, 0.4041712199120486, 0.4208757414195575, 0.29438195825128144, 0.36611670462662665, 0.3623494983679222, 0.41780659056026825, 0.5436678878005663, 0.4571075577974655, 0.6612367187542243, 0.2197788615358691, 0.1461098863319396, 0.12465388228727348, 0.20819780706849916, 0.17119618254042568, 0.409379526591709, 0.20341329561392887, 0.29669321634904244, 0.4040897464498515, 0.26005711940776377, 0.1816353741461234, 0.10569609800571672, 0.18255015147395937, 0.13155290558655786, 0.2508871194378585, 0.27041598769143194, 0.39384052269339187, 0.4332187306520765, 0.0890245545442391, 0.08072205183137249, 0.1751989862347079], [0.6784514460757438, 0.4209450564163758, 0.4528926518468376, 0.2976801422923256, 0.41017677739346275, 0.2865695650676494, 0.30298653910211304, 0.2822140708262235, 0.48013034004000843, 0.5169108337938574, 0.48438946130798405, 0.34928289361456, 0.3548325869640004, 0.44174321806349043, 0.03917995588996135, 0.19663617265195804, 0.15856520154253553, 0.11911300397624425, 0.2706577482328809, 0.33531523890939235, 0.3425826622885412, 0.5922248145583107, 0.4303855197988201, 0.45327099739763516, 0.3463081271267695, 0.5976635831978441, 0.3923389790178378, 0.3371157370138909, 0.5100919478427107, 0.37120403898983456, 0.5185363317753164, 0.32751906989406687, 0.41300113265909666, 0.4234165832422693, 0.34090801935045745, 0.2972382121232959, 0.44654099994014196, 0.32913498168499356, 0.4041712199120486, 1.0000000000000002, 0.6601595565002629, 0.42567555171722726, 0.1951654201851375, 0.3590550446826146, 0.32008478071717705, 0.12197645592473455, 0.2092676657456061, 0.18303083673659826, 0.3099707632442926, 0.24268790723640232, 0.3050698240084978, 0.3126367511217745, 0.15127641247636708, 0.5648924494972963, 0.4193958409226686, 0.41258781359646074, 0.20286975452322242, 0.23646073271133458, 0.18007889014097644, 0.23987084985735085, 0.17832974780018832, 0.25854338694347834, 0.18054057474572605, 0.22379217012618252, 0.2710731253122442, 0.19168611662377213, 0.1973528767817479, 0.13554947530669295, 0.25591714812271626], [0.7232729335975584, 0.44409395775753907, 0.4738042977009937, 0.3609112510770097, 0.3339938317648209, 0.3779838145184087, 0.3512986844522626, 0.26903115472595884, 0.360413811213842, 0.44567370913896837, 0.5664578352520246, 0.5332099615682709, 0.3739697899171912, 0.4101492881765585, 0.13171640053166356, 0.2777882282492277, 0.16083783727975098, 0.16496291733543417, 0.3791581886895343, 0.4377194455592283, 0.33139387962737216, 0.6404417803329069, 0.40891490348022297, 0.6371888692239631, 0.31542349802651953, 0.47894011226429845, 0.3212379116353016, 0.36466462096231755, 0.4602994373503675, 0.342738506870392, 0.3488998680658547, 0.5211161737228193, 0.5442467301853693, 0.5441297181056541, 0.5018550354755171, 0.2904799296814521, 0.3293097786636291, 0.442936737557637, 0.4208757414195575, 0.6601595565002629, 0.9999999999999998, 0.4728613515347496, 0.32315533318341233, 0.4243008709207452, 0.34987957447941664, 0.3274847221340219, 0.23921930683839943, 0.20627333436350598, 0.4051679862912756, 0.39346034406287134, 0.304787680813242, 0.4306199382128463, 0.34619248628087407, 0.4464759443333979, 0.3422001617342355, 0.3097399088918271, 0.18853893451821027, 0.19830396150486623, 0.21540338203034018, 0.246157905224067, 0.2939118308054531, 0.31857431554388116, 0.07892469615296965, 0.2172957301243198, 0.2473440322723519, 0.311427283112772, 0.2652123773383376, 0.2640309467458136, 0.32522655599453076], [0.6188187397616114, 0.6305791865788414, 0.5618824378879188, 0.3036269616671729, 0.2611511239786831, 0.26990802604653563, 0.3556790274699512, 0.3781466969874094, 0.42845435820037625, 0.509452881242133, 0.47359845286883895, 0.39406007270841814, 0.4592587923663276, 0.394326763379428, 0.2554841247757182, -0.013864096647727947, 0.17915035069527765, 0.12386644915245756, 0.45248773044549273, 0.518581735724142, 0.29563083108133237, 0.4600428278039595, 0.4415095669627408, 0.3466869523182091, 0.38908813964957595, 0.5380450296448559, 0.400903708570017, 0.18057351203598238, 0.2908128085148617, 0.394886151702205, 0.3288666975676502, 0.47396408577177546, 0.49948783500645905, 0.43923913247609303, 0.5292579802011361, 0.27465263423634856, 0.45514433253171743, 0.3584391662091876, 0.29438195825128144, 0.42567555171722726, 0.4728613515347496, 1.0000000000000004, 0.6169335947158401, 0.5029263717061809, 0.4903876006083916, 0.12156894087931869, 0.13212263841925312, 0.12714871096201188, 0.40273397227692587, 0.3136083775785542, 0.4569116695547168, 0.5279662931711229, 0.2503083772734461, 0.324969618152098, 0.263708174951719, 0.3492412895232349, 0.055457687064601045, 0.19484324862890978, 0.160249412984271, 0.16914411847878966, 0.29797819462935604, 0.3060392133526534, 0.2514763645589251, 0.23136126792507813, 0.23368412583921838, 0.22822312778136108, 0.13745771721874095, 0.31099313033980297, 0.23219381784669252], [0.5077507260109275, 0.7273393111103711, 0.5897711066824072, 0.2718284935016362, 0.17194897471088788, 0.33889794677010066, 0.296060144013489, 0.37205542529113766, 0.2995261353897497, 0.4771012453997341, 0.42422452618205514, 0.3604042225144228, 0.5738353850144551, 0.24672308341529064, 0.21253595076392467, 0.03463415341411563, 0.22317849707145615, 0.17527909701465144, 0.3025851652025501, 0.4878638683280266, 0.24841953577455259, 0.2133200126973382, 0.35686139445124204, 0.1415895469229108, 0.364983497969454, 0.2981235021759192, 0.44583675884541807, 0.2214204188401407, 0.335978891511342, 0.3458126137992188, 0.3128439578882428, 0.5561710278817813, 0.49938943832947535, 0.37008160473077173, 0.677210951546396, 0.32602600546165716, 0.375985706043636, 0.4106566572249281, 0.36611670462662665, 0.1951654201851375, 0.32315533318341233, 0.6169335947158401, 1.0000000000000009, 0.49303800950870086, 0.6047713300395932, 0.24211508526311368, 0.18709096216483054, 0.15990295202134536, 0.32380721179878935, 0.24524031840211308, 0.2593746042608339, 0.36685016125518993, 0.27492677774857266, 0.26795747618521837, 0.18202226979776226, 0.3031604627549809, 0.12008194369857622, 0.21593588760081134, 0.1641891118795204, 0.27807396554368946, 0.3751536969899222, 0.21006330027250117, 0.2722412378117276, 0.13250216295551884, 0.26632698687765416, 0.3441910239812407, 0.19012045887391565, 0.3598819332154618, 0.12214649753249571], [0.4881866269927353, 0.42621962109572514, 0.39924540917772566, 0.26661707308387195, 0.3302388319102372, 0.2702734570089678, 0.2543722398875248, 0.3358046063632312, 0.29748077703686315, 0.2926746710504318, 0.4436165852533627, 0.39655550252334026, 0.33858808847041205, 0.28261784819536656, 0.18191379025074628, 0.09646757065213649, 0.1847689929302783, 0.12972175515726495, 0.3227206679179987, 0.5520207096506506, 0.3534457999872578, 0.3378527315523553, 0.37015766625973384, 0.23441789074214192, 0.23201651307900045, 0.3100724681564498, 0.3897051476527843, 0.1990874916780267, 0.3341094949260943, 0.33595509018765923, 0.4136095863184956, 0.5558548557241898, 0.5589477035789499, 0.4574624935981694, 0.5113669834803292, 0.3147266326453274, 0.34500808308862435, 0.4774325598116197, 0.3623494983679222, 0.3590550446826146, 0.4243008709207452, 0.5029263717061809, 0.49303800950870086, 1.0, 0.48842636976456966, 0.26432452673560125, 0.23258596788009545, 0.13465401362229007, 0.27982587804220355, 0.15038561071443685, 0.27139322414609035, 0.4072041531645862, 0.16429326389774435, 0.4080160190333957, 0.35760894633389406, 0.3898889699590593, 0.07114461290978644, 0.21940975867433654, 0.11518629106727152, 0.09683066196036909, 0.38011688989601156, 0.20487229312491645, 0.14991395232511368, 0.130905037028277, 0.26769844011541916, 0.3849395720702321, 0.248413789421655, 0.3216253108184982, 0.25164579511704543], [0.540602037713934, 0.4848100055729566, 0.4570475903124107, 0.41548170656396854, 0.36229703679932035, 0.33415302270380026, 0.3568396570370765, 0.4162160589459748, 0.3247841608758131, 0.48415049699315366, 0.5031945508104588, 0.3681111332262876, 0.4840594994364341, 0.319412507142389, 0.3821141755428134, 0.24698111096907485, 0.40376405356820844, 0.22791518703046146, 0.37743752606890413, 0.4840601207225025, 0.39983591067551905, 0.3349935680562944, 0.501328000475318, 0.2485759340409351, 0.4056290064857726, 0.3829880697597351, 0.23915147779571405, 0.2667915986343843, 0.38435860065162974, 0.36733337611377836, 0.47017851633501506, 0.554181633791643, 0.6215030812916935, 0.4214322993269333, 0.5917206165419642, 0.39966698838146647, 0.4194499191454718, 0.4862071864160381, 0.41780659056026825, 0.32008478071717705, 0.34987957447941664, 0.4903876006083916, 0.6047713300395932, 0.48842636976456966, 0.9999999999999998, 0.30365253976406903, 0.3310557179367592, 0.2119458325888343, 0.38357127130207336, 0.2605088013943508, 0.2991720229937812, 0.303219296900906, 0.30940698885351203, 0.3293721115723287, 0.13136572267871255, 0.2251496865198377, 0.14388441737921587, 0.20915088893234987, 0.14450879568531516, 0.34790917910894253, 0.2908393560333534, 0.30447833468019125, 0.22837279404841987, 0.24787262581093134, 0.22583648073476864, 0.2931551347222131, 0.22127899072524365, 0.3551961743457762, 0.1530334488885423], [0.40739364074390794, 0.2435089032176636, 0.2528622249237511, 0.28280197817854835, 0.1641421638183858, 0.5130954318829075, 0.2297955220817421, 0.0704704565843114, 0.07484262577179293, 0.0708515948104533, 0.2212768644647563, 0.1586044818205734, 0.176306970251501, -0.008079932862765846, 0.3470658807110599, 0.4232899243385294, 0.1296194298392224, 0.17425873044004772, 0.11645491824453699, 0.19074789988794322, 0.15417338023587457, 0.1319871369724501, 0.27445026192829625, 0.19784001575573673, 0.2808029137983509, 0.19964575025424305, 0.24931507743872078, 0.264815992505099, 0.2287902909248788, 0.277238425134389, 0.2483501797767389, 0.46314633957660434, 0.4643146697631673, 0.4516380707721114, 0.35758059028295347, 0.5314565815394674, 0.40800710784195826, 0.5680218636434564, 0.5436678878005663, 0.12197645592473455, 0.3274847221340219, 0.12156894087931869, 0.24211508526311368, 0.26432452673560125, 0.30365253976406903, 0.9999999999999999, 0.36977413512821156, 0.5353197794450906, 0.20061384757605571, 0.2335587122382511, 0.0926124074091722, 0.2180436947332307, 0.1694332707209848, 0.12950967191638363, 0.0848859668928609, 0.13367375483256802, 0.17448076725542194, 0.15001291491385838, 0.17502975033712745, 0.07124723345781801, 0.18258990138925169, 0.09716418497721413, 0.18867658612166816, 0.20011766454125113, 0.36114529554353403, 0.29810746544733385, 0.09736680696319731, 0.11160052409282809, 0.251653997694589], [0.4601573374261355, 0.17052228355510812, 0.2479769383127255, 0.22089965039016718, 0.25713371086992964, 0.26961758957108695, 0.20230238910131418, 0.13467376138718085, 0.14866264343766383, 0.02344426111823128, 0.22536232083892396, 0.1753737821117367, 0.26102669870186296, 0.12386128401017274, 0.17162440763274833, 0.349894138016147, 0.10142545666158848, 0.12139169289451654, 0.18799282333352607, 0.20671013960908985, 0.17265665208013803, 0.20864269756095605, 0.26132873978846977, 0.18273743353275484, 0.20816323564143516, 0.23108238140542803, 0.18772263600403188, 0.1583297481655917, 0.24294452478381817, 0.5835824494245458, 0.16757368041066184, 0.608901098301787, 0.551315505719703, 0.5829369570391463, 0.4884938402630153, 0.4593702802540286, 0.3518423555272481, 0.6486675623929541, 0.4571075577974655, 0.2092676657456061, 0.23921930683839943, 0.13212263841925312, 0.18709096216483054, 0.23258596788009545, 0.3310557179367592, 0.36977413512821156, 0.9999999999999993, 0.4645746738624913, 0.248458642888071, 0.23126042554662896, 0.10021584049690704, 0.06914281018897454, 0.18368182697310237, 0.16328411767552536, 0.19825099831070336, 0.09344332999008642, 0.17976915726075365, 0.13458817338813697, 0.10617456755437393, 0.08692128222206508, 0.13193727907302105, 0.22609373076734723, 0.14478279381967607, 0.39965431301483956, 0.305800129247361, 0.4083243879162969, 0.143199848307224, 0.10401778232350048, 0.07356083340183568], [0.4699560828567768, 0.31307616544130723, 0.2669643158995126, 0.16412757965283226, 0.10169761192148005, 0.26040124204524806, 0.12065675122359484, 0.12112199406927388, 0.1585745583793277, 0.15855928342583955, 0.15970811713161506, 0.13764508507141976, 0.21947976221632642, 0.1584923296964465, 0.09507243110813018, 0.24416363231934776, 0.11501033269931289, 0.09642204917400712, 0.12583303167715126, 0.19619100041466617, 0.20293866580062014, 0.12409975065432029, 0.23021487836826748, 0.04188637300417661, 0.12153895427276516, 0.2850167402636795, 0.32316994956862843, 0.2397211904608219, 0.31529669552274586, 0.42708788122499974, 0.3034380549288483, 0.4479629138364322, 0.38682721482175286, 0.480630874234514, 0.3224785257090054, 0.6832431899754674, 0.5822075483063175, 0.6333591925872533, 0.6612367187542243, 0.18303083673659826, 0.20627333436350598, 0.12714871096201188, 0.15990295202134536, 0.13465401362229007, 0.2119458325888343, 0.5353197794450906, 0.4645746738624913, 1.0, 0.20359011013901893, 0.28985917650550463, 0.07898481745687638, 0.1732189624072744, 0.2212356511937587, 0.2104896517801726, 0.09014011278530915, 0.22008905458145753, 0.3693556164037774, 0.14346749972873551, 0.164530429995371, 0.012147928109691817, 0.09252534932618302, 0.04330670037687731, 0.1538184058455246, 0.21849618355804, 0.38897220579916775, 0.22813672737944024, 0.004096128473060512, 0.007142462679851396, 0.23150245054523944], [0.5153364339767033, 0.29326996042244835, 0.34510442102981675, 0.41731950049077127, 0.25766414637628005, 0.2650271309185148, 0.3297949354277294, 0.2948892817492387, 0.31309834917911733, 0.33778290350161655, 0.41272546895852513, 0.3064758196313622, 0.3115072715714037, 0.3174415893389399, 0.22807135594515643, 0.16371097898727632, 0.3469230490732431, 0.18787574268540333, 0.3009979905284844, 0.3893338227442139, 0.27453430326187456, 0.3039819588779929, 0.2987542657706257, 0.28194245684573804, 0.39625689806319053, 0.2612497613720066, 0.24609883547757075, 0.23689268980575934, 0.35702409291340986, 0.2986033974959271, 0.24383978350219243, 0.31948778567218783, 0.34260392914242777, 0.2666322038267921, 0.3492628408896088, 0.2599630567899319, 0.19969769682137584, 0.2763757951592233, 0.2197788615358691, 0.3099707632442926, 0.4051679862912756, 0.40273397227692587, 0.32380721179878935, 0.27982587804220355, 0.38357127130207336, 0.20061384757605571, 0.248458642888071, 0.20359011013901893, 1.0000000000000002, 0.43060212383270946, 0.3732891073801686, 0.26060540221384354, 0.34328983033936006, 0.2897469396846346, 0.24965169748044375, 0.14448303376650495, 0.15705644276335246, 0.2006293619273792, 0.2592390270288147, 0.247619735389854, 0.2624753118034554, 0.2367386966070302, 0.20662838557636592, 0.18451266290132187, 0.25102238488810996, 0.2587687929117015, 0.2218039733420824, 0.2312853354080251, 0.15370911513902108], [0.4504441700894076, 0.23998684967771236, 0.40466579190767615, 0.29746630185726836, 0.27272241180562873, 0.30615264034999595, 0.2803176099740907, 0.23105368621300862, 0.4729091084856323, 0.2244606237276942, 0.3676903648004116, 0.2506122028459681, 0.35808709079508694, 0.19586707564941977, 0.12925326366354178, 0.24197240163277595, 0.30758678083064134, 0.2912929157260501, 0.2678437505491705, 0.33112265525710055, 0.30043474819601934, 0.269651413789771, 0.25166373234505435, 0.2921452946605968, 0.2519229531277981, 0.3156795508303856, 0.12188358003748408, 0.2873658110154491, 0.266259392458931, 0.377805546508042, 0.02620942950237523, 0.2701584380024964, 0.26985123641454734, 0.27714953055574787, 0.35883706515539626, 0.1885931202307396, 0.0950941121744215, 0.21655195296342283, 0.1461098863319396, 0.24268790723640232, 0.39346034406287134, 0.3136083775785542, 0.24524031840211308, 0.15038561071443685, 0.2605088013943508, 0.2335587122382511, 0.23126042554662896, 0.28985917650550463, 0.43060212383270946, 1.0, 0.271934552128112, 0.3940955811328202, 0.31004078685197733, 0.1769077645813823, 0.16270893008671272, 0.14361403409644083, 0.06754434560078992, 0.04008430711852287, 0.16475885519088543, 0.16139131731875636, 0.10696241102456416, 0.19340157626085022, 0.15932569525415535, 0.13200529614790327, 0.17859415906394996, 0.16120578931905655, 0.14228317632999346, 0.028853061483068716, 0.1206629257130224], [0.3800752585122732, 0.28120907761540037, 0.3190015740249337, 0.34739073367623874, 0.280779085701786, 0.20878294411281623, 0.2558612481036306, 0.17226612299674673, 0.44984768904019734, 0.36628585965076654, 0.2956251703585125, 0.23663875399096002, 0.27103525180365823, 0.2365322895592837, 0.179954449911992, 0.167593618026519, 0.13685731562092274, 0.15831080499850414, 0.2282553227064527, 0.32805522587243297, 0.25709114620609214, 0.2755114301705094, 0.26018053719413786, 0.22851602740330018, 0.2848974710764487, 0.33514957069597984, 0.16694630258398452, 0.16931596406158322, 0.23737917108826678, 0.30945781800121785, 0.27282424454887966, 0.2672662735061576, 0.27834755137859346, 0.27874444565012957, 0.2791580610741495, 0.1244627163268196, 0.18390046154763923, 0.1871874655983803, 0.12465388228727348, 0.3050698240084978, 0.304787680813242, 0.4569116695547168, 0.2593746042608339, 0.27139322414609035, 0.2991720229937812, 0.0926124074091722, 0.10021584049690704, 0.07898481745687638, 0.3732891073801686, 0.271934552128112, 1.0000000000000004, 0.3273255943161773, 0.2816483088892503, 0.25092198816812744, 0.308381055122661, 0.3034007604907766, 0.0037106411988399417, 0.1934427252785088, 0.19739540263205402, 0.14747607097605947, 0.17623075742502406, 0.23853998955000036, 0.13397658600647805, 0.08227507849667519, 0.12622919187724568, 0.1488520883405568, 0.23352428400213138, 0.19187693754931548, 0.13369947279133979], [0.44020982191219105, 0.4244076171148161, 0.4851126458994844, 0.2590631280616976, 0.23451012448051967, 0.25494559502604075, 0.27647225077250304, 0.36632191586720153, 0.3422876984075421, 0.3747702159161296, 0.3563637659494109, 0.3109425922294744, 0.3467673315888258, 0.28647842667325774, 0.18259503086210946, 0.13177996871524134, 0.20018822103234746, 0.13906041789405602, 0.37878040629630205, 0.3229111124390854, 0.25394741182876074, 0.3916119022745488, 0.2938214550273254, 0.33333761682642904, 0.2323692779389025, 0.4570052464658477, 0.32544333035121964, 0.28492704331691415, 0.26582647608515875, 0.311044948490641, 0.2824384597007221, 0.31884820925022966, 0.317356016800348, 0.37124999638669665, 0.3758490411116132, 0.13099780612373618, 0.254862836286402, 0.21951793296056327, 0.20819780706849916, 0.3126367511217745, 0.4306199382128463, 0.5279662931711229, 0.36685016125518993, 0.4072041531645862, 0.303219296900906, 0.2180436947332307, 0.06914281018897454, 0.1732189624072744, 0.26060540221384354, 0.3940955811328202, 0.3273255943161773, 1.0000000000000004, 0.17812225835538759, 0.2642802648719672, 0.25849039369559573, 0.2602459775374346, 0.05782403557909319, 0.1368760042751725, 0.2132359472504386, 0.180879385045554, 0.17897677481965596, 0.15846855845809954, 0.15815916841839428, 0.11015242042066684, 0.10835804657790613, 0.1086175150294704, 0.16259164384562802, 0.19314345811208256, 0.20524250450016565], [0.43459917919625124, 0.3701709672818089, 0.3403096221050237, 0.2747485157490247, 0.22767073096455165, 0.20589077054534383, 0.2344402229901918, 0.24324414845283904, 0.24323627644653495, 0.24381294976052653, 0.4207232090294154, 0.4004844768928011, 0.3741475256827073, 0.2864879571376481, 0.14003497369841034, 0.2141586581278676, 0.26399871246881723, 0.1326728630674712, 0.2869355066585401, 0.3318698084716758, 0.2378991536862263, 0.2670231609835865, 0.16583075847141152, 0.1691995300380181, 0.15472125883999135, 0.28391291557923193, 0.19683203745130157, 0.3065601156470342, 0.3749948604869988, 0.30464499724733796, 0.15082461365894212, 0.2563057550596241, 0.20204808386253378, 0.2544857137199212, 0.33452414834081956, 0.19212013838556247, 0.10690116288372606, 0.2072690112868834, 0.17119618254042568, 0.15127641247636708, 0.34619248628087407, 0.2503083772734461, 0.27492677774857266, 0.16429326389774435, 0.30940698885351203, 0.1694332707209848, 0.18368182697310237, 0.2212356511937587, 0.34328983033936006, 0.31004078685197733, 0.2816483088892503, 0.17812225835538759, 0.9999999999999993, 0.18427066720707558, 0.20667841382600644, 0.21346140637451516, 0.1703922086858165, 0.16661450959857743, 0.280676040425534, 0.23491317564697678, 0.14965995142999486, 0.17532844454276414, 0.13991353307885554, 0.13764483284583662, 0.0502389979261022, 0.14043613242472588, 0.12805847843166507, 0.12773603919086784, 0.14283639092568248], [0.5516203269886295, 0.44898472842916737, 0.3824550543403991, 0.2806255509187475, 0.27876390677852636, 0.17916696968786183, 0.18974801954523557, 0.3669493924361621, 0.33628129819545355, 0.5259875119381339, 0.6122508520091253, 0.29590775278342385, 0.3928337333867123, 0.4777131348366557, 0.125886431954226, 0.062033951370271165, 0.13885541151540393, 0.09672740195057114, 0.19418355520538788, 0.27621430217743786, 0.2537591195557932, 0.3333841748390344, 0.25627439778022015, 0.2085581059547777, 0.15886544143768766, 0.33741156261673017, 0.40512013598997126, 0.3621671206246533, 0.534457702706603, 0.32360665717315784, 0.4196467190142763, 0.35957658970338574, 0.3369749956747491, 0.3278726818728215, 0.3911302478230133, 0.35095211817900784, 0.36222321422508275, 0.37283727039032544, 0.409379526591709, 0.5648924494972963, 0.4464759443333979, 0.324969618152098, 0.26795747618521837, 0.4080160190333957, 0.3293721115723287, 0.12950967191638363, 0.16328411767552536, 0.2104896517801726, 0.2897469396846346, 0.1769077645813823, 0.25092198816812744, 0.2642802648719672, 0.18427066720707558, 0.9999999999999998, 0.46670295011650986, 0.5184642272267833, 0.3509821217404324, 0.25101515844987776, 0.2514180742163946, 0.3637406035147296, 0.16495731946916203, 0.1320392786900796, 0.18234879756706643, 0.14927072007505218, 0.19451989090187796, 0.2559432825056752, 0.12016980400884371, 0.15429311606499355, 0.1777149532898983], [0.46988242926883267, 0.3227705286318297, 0.3964587681925015, 0.30776338404448156, 0.37035308770044034, 0.23515804227361117, 0.2639042668974073, 0.18217185179205528, 0.34529536723637927, 0.18172779076704632, 0.41846813129137617, 0.3574145747268935, 0.3693419951295124, 0.43188396042196475, 0.09651845936726847, 0.09163532098715657, 0.02440767786613922, 0.21054824071615635, 0.31297299264925144, 0.3045046348967858, 0.33497195879709774, 0.38636553715573074, 0.22740358278881956, 0.18552807324556733, 0.13859884986661633, 0.3279932901176875, 0.39296961056934054, 0.338585851749014, 0.498653355580733, 0.4523190016171663, 0.3307788920711242, 0.22721716024195315, 0.2211468861224839, 0.2638170457385303, 0.3015533257742733, 0.19580373380273255, 0.19278700908923338, 0.20971678250703552, 0.20341329561392887, 0.4193958409226686, 0.3422001617342355, 0.263708174951719, 0.18202226979776226, 0.35760894633389406, 0.13136572267871255, 0.0848859668928609, 0.19825099831070336, 0.09014011278530915, 0.24965169748044375, 0.16270893008671272, 0.308381055122661, 0.25849039369559573, 0.20667841382600644, 0.46670295011650986, 1.0, 0.44335231614940696, 0.26053958458529974, 0.18124344152013208, 0.3092208477247247, 0.1309871996018217, 0.18548816577558563, 0.22412346314487008, 0.13227614999706053, 0.22218139430390507, 0.24213667566411912, 0.13494188102497684, 0.2880348188563957, 0.22642537667477192, 0.29686203043813236], [0.40178835081323133, 0.3787320510205017, 0.3667659626090619, 0.1549117355512688, 0.21233318940472828, 0.196514793339589, 0.15200799404480042, 0.28103108068301597, 0.4912221601788514, 0.38025986642035947, 0.3974268319702762, 0.32109429135710543, 0.2933924549898529, 0.2950189970332332, 0.015513445332384579, -0.037213116016746324, -0.01156217436606268, 0.1135356839496887, 0.24584932507200946, 0.23561171786971966, 0.2440894074371053, 0.314378822234482, 0.23022087266799218, 0.17149533896823854, 0.2120649050967754, 0.30677987956050956, 0.45321658867122133, 0.21114350321777323, 0.4213895268727119, 0.37206134955054426, 0.40520668134007254, 0.292714720005609, 0.2750455655102935, 0.28999826680396784, 0.3036106709722991, 0.2649000715659104, 0.2823493766757281, 0.28669912301090755, 0.29669321634904244, 0.41258781359646074, 0.3097399088918271, 0.3492412895232349, 0.3031604627549809, 0.3898889699590593, 0.2251496865198377, 0.13367375483256802, 0.09344332999008642, 0.22008905458145753, 0.14448303376650495, 0.14361403409644083, 0.3034007604907766, 0.2602459775374346, 0.21346140637451516, 0.5184642272267833, 0.44335231614940696, 1.0000000000000002, 0.10686717553658089, 0.07384203795424264, 0.031690585439166065, 0.14576320197396395, 0.14214784365104016, 0.15145128971614197, 0.08494109323663425, 0.06077078121177253, 0.151168495688199, 0.10453410828478281, 0.18400095525403937, 0.13549209321989836, 0.21513799683048146], [0.3341147963583365, 0.33541804267397446, 0.19992399017633095, 0.1315904910961947, 0.140578185841091, 0.07371044525929693, 0.07684298742155654, 0.31837553034941724, 0.12245671301203037, 0.1270686151134674, 0.1043795228119765, 0.12675508643493244, 0.12934135925516965, 0.1726026146648295, 0.07133803766008252, 0.13356382827545143, 0.10517941735953434, 0.06416627611939696, 0.16440742934482183, 0.17101144453679495, 0.19430301064391983, 0.18079136953035393, 0.21745658627931264, 0.05170216611045957, -0.006470431342069212, 0.3131022364176721, 0.3047015813692985, 0.4242968492057528, 0.3172975887796334, 0.25424917039096445, 0.2827589166331247, 0.18001086107051079, 0.19274297605261276, 0.26302548287849703, 0.12557494332165287, 0.3844696035200069, 0.29723209519860977, 0.27401859284474617, 0.4040897464498515, 0.20286975452322242, 0.18853893451821027, 0.055457687064601045, 0.12008194369857622, 0.07114461290978644, 0.14388441737921587, 0.17448076725542194, 0.17976915726075365, 0.3693556164037774, 0.15705644276335246, 0.06754434560078992, 0.0037106411988399417, 0.05782403557909319, 0.1703922086858165, 0.3509821217404324, 0.26053958458529974, 0.10686717553658089, 1.0000000000000004, 0.45783834893925146, 0.4630086546469547, 0.2498491874741422, 0.2753707777055577, 0.0004357598884082714, 0.09324215636257442, 0.1619456420382645, 0.392335943648066, 0.22558113760627646, 0.06742401733920382, 0.16910381976173436, 0.2457189249200369], [0.40679207117751615, 0.4330935273451258, 0.26222945007950277, 0.23893994186404433, 0.11231855252149862, 0.22102860498639448, 0.18578023707484143, 0.19780644267729403, 0.15274026024720766, 0.07879449042574085, 0.16135201213719236, 0.23803671055216263, 0.18762793070502687, 0.1129685967490367, 0.16387595694130747, 0.14264538412555788, 0.10621896854726645, 0.042249164189655825, 0.2872552436958705, 0.3021969771612571, 0.374824442261023, 0.30186996992300524, 0.18815548734773196, 0.09312005047071403, 0.041878313906025436, 0.4754023431247355, 0.3068420402306736, 0.45232452837548554, 0.28779176323701766, 0.3016140805576658, 0.2926880724658979, 0.24322899096591705, 0.19528531211561465, 0.32716691091624833, 0.1841639440638907, 0.30651435158011053, 0.2187253862279201, 0.23970107851773698, 0.26005711940776377, 0.23646073271133458, 0.19830396150486623, 0.19484324862890978, 0.21593588760081134, 0.21940975867433654, 0.20915088893234987, 0.15001291491385838, 0.13458817338813697, 0.14346749972873551, 0.2006293619273792, 0.04008430711852287, 0.1934427252785088, 0.1368760042751725, 0.16661450959857743, 0.25101515844987776, 0.18124344152013208, 0.07384203795424264, 0.45783834893925146, 0.9999999999999993, 0.5264035903627424, 0.3038675136020793, 0.23142417497132256, 0.07026634212516075, 0.16553482083089985, 0.14188004500252863, 0.5457901567177688, 0.6422686716862545, 0.16663531748226024, 0.24795567500581328, 0.19775459310667312], [0.39235072268995885, 0.32547792761498073, 0.2968570891524429, 0.2679721691157955, 0.1201807714394204, 0.20755738717989775, 0.11146109644846172, 0.16804674270658052, 0.12806371871986885, 0.0645909701665016, 0.2855806805570947, 0.20094398617200573, 0.2863135091421669, 0.18669507715334488, 0.17100806671085883, 0.12536897012434428, 0.09567308356587584, 0.1685726383585447, 0.2728438165302282, 0.29800456980292306, 0.2878750759752944, 0.28564018088125265, 0.15932856504195794, 0.15896134521427235, 0.053344124096172146, 0.39318413763693494, 0.2550932336373798, 0.5162867025862947, 0.2516699617321325, 0.22630657328146986, 0.25361928242214904, 0.15054271609798534, 0.1153405333299384, 0.24605676090123463, 0.2219785534746408, 0.20351855721521733, 0.171185406005734, 0.1399971334879591, 0.1816353741461234, 0.18007889014097644, 0.21540338203034018, 0.160249412984271, 0.1641891118795204, 0.11518629106727152, 0.14450879568531516, 0.17502975033712745, 0.10617456755437393, 0.164530429995371, 0.2592390270288147, 0.16475885519088543, 0.19739540263205402, 0.2132359472504386, 0.280676040425534, 0.2514180742163946, 0.3092208477247247, 0.031690585439166065, 0.4630086546469547, 0.5264035903627424, 1.0, 0.4339019555107835, 0.2029227833130774, 0.2690555821744676, 0.14849553309841634, 0.19676539234335283, 0.3795352391261257, 0.27165211358493707, 0.1331853047314934, 0.22994511344185284, 0.13542697045323782], [0.3496255153178419, 0.31111024897828204, 0.2964337290426759, 0.15919109692516753, 0.1521496324116517, 0.2200190485654656, 0.1674240131319567, 0.27170291493274434, 0.2783250892561743, 0.33524553725969275, 0.3634168001062759, 0.23801624416016753, 0.37551688843541114, 0.2694737536933375, 0.1527424160388279, 0.07268644666549767, 0.09031271137511357, 0.111667301985366, 0.34352612140949623, 0.26057457108920307, 0.2751399375958691, 0.35050664279032856, 0.19016641547862634, 0.20536924620080638, 0.10119143626841043, 0.2847075758425236, 0.14088196497701583, 0.49728805499591766, 0.3363995470880941, 0.0943104460214881, 0.2764667323218666, 0.09491124649356439, 0.1232359916080905, 0.08453717094331913, 0.2659875934309221, 0.1531709179595288, 0.16916604844253205, 0.06332627065925388, 0.10569609800571672, 0.23987084985735085, 0.246157905224067, 0.16914411847878966, 0.27807396554368946, 0.09683066196036909, 0.34790917910894253, 0.07124723345781801, 0.08692128222206508, 0.012147928109691817, 0.247619735389854, 0.16139131731875636, 0.14747607097605947, 0.180879385045554, 0.23491317564697678, 0.3637406035147296, 0.1309871996018217, 0.14576320197396395, 0.2498491874741422, 0.3038675136020793, 0.4339019555107835, 0.9999999999999996, 0.24794544758650078, 0.2200775238201766, 0.15964406493455302, -0.02701244794821657, 0.1434208883344187, 0.13436492775385817, 0.15270131100824055, 0.2717018526406908, 0.15137911895383566], [0.3142060240818625, 0.30656550301807284, 0.312692158376316, 0.2895118606196356, 0.2899047768519527, 0.28281146613557884, 0.3298170451248322, 0.38537189777589065, 0.21011809308481844, 0.21304762910267633, 0.23255255642824962, 0.22669248459502758, 0.22796018818364155, 0.13988882124816435, 0.15565514836314648, 0.09865757863775776, 0.17176929227728524, 0.08626635134424772, 0.2107486475861396, 0.430465082486568, 0.2677503254107819, 0.20086662985224346, 0.3555085828710597, 0.2681944843356392, 0.3068698699221413, 0.16729696251869253, 0.1783076938364667, 0.14210975980882823, 0.23255048734090844, 0.18511880899604127, 0.23344109308182576, 0.21700957397740883, 0.31114706582924906, 0.14855323541442075, 0.26076099831790867, 0.1727244139895162, 0.19623223616454671, 0.16434625804563976, 0.18255015147395937, 0.17832974780018832, 0.2939118308054531, 0.29797819462935604, 0.3751536969899222, 0.38011688989601156, 0.2908393560333534, 0.18258990138925169, 0.13193727907302105, 0.09252534932618302, 0.2624753118034554, 0.10696241102456416, 0.17623075742502406, 0.17897677481965596, 0.14965995142999486, 0.16495731946916203, 0.18548816577558563, 0.14214784365104016, 0.2753707777055577, 0.23142417497132256, 0.2029227833130774, 0.24794544758650078, 0.9999999999999993, 0.25282697558829725, 0.04588285617078755, 0.08542085578827532, 0.2511950067236492, 0.22818887642921132, 0.225951313337956, 0.2767927476200455, 0.27877016360747664], [0.3695242263528832, 0.2688330732132763, 0.43160146531785787, 0.2921580655541896, 0.2818818792990476, 0.3122790594081753, 0.3264276614107147, 0.22783915960367437, 0.26048753565746496, 0.24277579234425195, 0.33017899181770693, 0.3739561685576348, 0.3749106074836027, 0.3132939449510487, 0.0743802447978335, 0.11614816677711105, 0.1348663006292276, 0.26720826763776817, 0.20527176021660287, 0.3044731766119888, 0.19963323324807297, 0.25983484537491663, 0.4163059213866019, 0.3682810687654394, 0.3283480922777383, 0.2597229589444373, 0.17882149345516862, 0.1607666979380426, 0.15202926358755967, 0.2675971197642715, 0.23758345794822733, 0.22791085674778716, 0.3543438389658629, 0.22170836334119387, 0.3495697135864798, 0.08732507588521234, 0.16829443024335583, 0.15955737556273522, 0.13155290558655786, 0.25854338694347834, 0.31857431554388116, 0.3060392133526534, 0.21006330027250117, 0.20487229312491645, 0.30447833468019125, 0.09716418497721413, 0.22609373076734723, 0.04330670037687731, 0.2367386966070302, 0.19340157626085022, 0.23853998955000036, 0.15846855845809954, 0.17532844454276414, 0.1320392786900796, 0.22412346314487008, 0.15145128971614197, 0.0004357598884082714, 0.07026634212516075, 0.2690555821744676, 0.2200775238201766, 0.25282697558829725, 1.0, 0.15708815972353973, 0.307578137014099, 0.08052618981045889, 0.16482880702141084, 0.16095256796728352, 0.24253520117584523, 0.14598374190810592], [0.3343932772731981, 0.2505150943795545, 0.2586784597933715, 0.09347190860399451, 0.1344121789101466, 0.206345863187893, 0.06622489249677718, 0.07278391077822426, 0.18448636661730633, 0.17390529137636812, 0.21150788913543045, 0.10388136702551251, 0.27383522832209417, 0.07616647777097181, 0.15798243926931843, 0.1451186676452187, 0.08338937881950519, -0.06765786243578523, 0.17860165398548838, 0.2221625822607287, 0.13886086459367047, 0.1529929348095765, 0.10459981751265685, 0.059505466757521636, 0.2629901420551243, 0.19497114208392097, 0.11963177589691826, 0.2727158601919749, 0.26670315142595746, 0.2474036771496536, 0.2601901797433789, 0.19673374721775927, 0.15063781274626203, 0.17585626284415418, 0.25247654468274766, 0.23216631415501993, 0.2557551613972642, 0.19411427051564134, 0.2508871194378585, 0.18054057474572605, 0.07892469615296965, 0.2514763645589251, 0.2722412378117276, 0.14991395232511368, 0.22837279404841987, 0.18867658612166816, 0.14478279381967607, 0.1538184058455246, 0.20662838557636592, 0.15932569525415535, 0.13397658600647805, 0.15815916841839428, 0.13991353307885554, 0.18234879756706643, 0.13227614999706053, 0.08494109323663425, 0.09324215636257442, 0.16553482083089985, 0.14849553309841634, 0.15964406493455302, 0.04588285617078755, 0.15708815972353973, 0.9999999999999998, 0.19932776569472527, 0.20375071617042567, 0.20743275122110874, -0.0357360305503922, 0.1184545116326831, 0.105404462884661], [0.3864677333467303, 0.20532482946669017, 0.22485726643033288, 0.2846982172987405, 0.28145770480104815, 0.2138956335659591, 0.20260982495401514, 0.12492989940042429, 0.08101700824923116, 0.07233207178967017, 0.24508355953355498, 0.14585221934347997, 0.21976678229423796, 0.14927206459743336, 0.15714335194945336, 0.08290414129778098, 0.09968580703597217, 0.062106630886518396, 0.25450538492112923, 0.17849456968161476, 0.2586669383187751, 0.24925758653852087, 0.180085955755215, 0.11132798161753052, 0.25525742632604187, 0.2565238580418423, 0.14975823465108906, 0.1834213827126286, 0.23863662890281478, 0.37669665351656, 0.3029793589433871, 0.36363779319551737, 0.3204415290298471, 0.36893372420368487, 0.309627306678856, 0.2532486484404882, 0.2239758149911326, 0.35827826284406983, 0.27041598769143194, 0.22379217012618252, 0.2172957301243198, 0.23136126792507813, 0.13250216295551884, 0.130905037028277, 0.24787262581093134, 0.20011766454125113, 0.39965431301483956, 0.21849618355804, 0.18451266290132187, 0.13200529614790327, 0.08227507849667519, 0.11015242042066684, 0.13764483284583662, 0.14927072007505218, 0.22218139430390507, 0.06077078121177253, 0.1619456420382645, 0.14188004500252863, 0.19676539234335283, -0.02701244794821657, 0.08542085578827532, 0.307578137014099, 0.19932776569472527, 0.9999999999999997, 0.171719674737568, 0.2315456814603864, -0.04554179105429414, -0.0421855991011023, -0.005914346811715085], [0.46258458065984615, 0.32937304743703966, 0.23987364380755216, 0.17267511899037147, 0.06961371068841271, 0.2741463484191917, 0.10372995735489005, 0.15929075956660413, 0.08126505221131547, 0.017960788616045498, 0.11119873297178579, 0.18547595938634673, 0.15109592923047377, 0.005396119855615635, 0.2222002214228325, 0.14123414186826594, 0.06479861003680894, 0.1702246300620191, 0.2854305404956867, 0.38821457978157003, 0.3882689957138302, 0.2694956410817281, 0.19565878898551897, 0.06029321479342248, 0.09137202843323579, 0.412340617872402, 0.2511029988020347, 0.35128577682687157, 0.23779268770941786, 0.3680849341110799, 0.285602830197997, 0.3350615705080362, 0.28943764096964264, 0.4083659859909421, 0.2530121147120892, 0.5112619929587415, 0.3709102257805625, 0.43519631104780493, 0.39384052269339187, 0.2710731253122442, 0.2473440322723519, 0.23368412583921838, 0.26632698687765416, 0.26769844011541916, 0.22583648073476864, 0.36114529554353403, 0.305800129247361, 0.38897220579916775, 0.25102238488810996, 0.17859415906394996, 0.12622919187724568, 0.10835804657790613, 0.0502389979261022, 0.19451989090187796, 0.24213667566411912, 0.151168495688199, 0.392335943648066, 0.5457901567177688, 0.3795352391261257, 0.1434208883344187, 0.2511950067236492, 0.08052618981045889, 0.20375071617042567, 0.171719674737568, 0.9999999999999998, 0.4439597684035412, 0.09453865714808897, 0.1891144930878085, 0.15804314032317676], [0.471119817299698, 0.3258200944601267, 0.2848952078206441, 0.29477408689215545, 0.17280018735781907, 0.28048511985997554, 0.24067479721334178, 0.18347119092282302, 0.17398619865058274, 0.09266396371825354, 0.3124371351745536, 0.2696150476262429, 0.24382960062247838, 0.09265965567888018, 0.22277206607838995, 0.2082386020804154, 0.19007269997282927, 0.1075120828423794, 0.20307550423562143, 0.2589084034222371, 0.2422778208681674, 0.23047002763675342, 0.20423084280742912, 0.17212706524877575, 0.26153170765118755, 0.312909281258573, 0.21385410647961517, 0.26604816642680185, 0.2944348452548951, 0.33088657398445176, 0.2928374888784998, 0.5758569133771269, 0.47182310176855513, 0.5587080555915338, 0.44675221230069073, 0.32877927312594624, 0.22445016468304863, 0.5085215001574741, 0.4332187306520765, 0.19168611662377213, 0.311427283112772, 0.22822312778136108, 0.3441910239812407, 0.3849395720702321, 0.2931551347222131, 0.29810746544733385, 0.4083243879162969, 0.22813672737944024, 0.2587687929117015, 0.16120578931905655, 0.1488520883405568, 0.1086175150294704, 0.14043613242472588, 0.2559432825056752, 0.13494188102497684, 0.10453410828478281, 0.22558113760627646, 0.6422686716862545, 0.27165211358493707, 0.13436492775385817, 0.22818887642921132, 0.16482880702141084, 0.20743275122110874, 0.2315456814603864, 0.4439597684035412, 1.0000000000000002, 0.17517386240461727, 0.1602318783908946, 0.08145151007252953], [0.3105073622886785, 0.20834471110745262, 0.31327908767373824, 0.35788408138600597, 0.4615647650938783, 0.20555992495918765, 0.36442384133088057, 0.15876463024666054, 0.1668880535995403, 0.11466720813180707, 0.3377265842765476, 0.3493822494243978, 0.29736381543619483, 0.1719276942709584, 0.06449685699707648, 0.14495119143240884, 0.18267420182458285, 0.23396683791692613, 0.3053235878971832, 0.20336219560042254, 0.21415360660548088, 0.34510892056604714, 0.2592416054430304, 0.25646875258578034, 0.1544417550822772, 0.21067542406232448, 0.170403616333616, 0.20259824049804814, 0.302654586638273, 0.22467514566723346, 0.17397225331412702, 0.14810045573790756, 0.20837582809944882, 0.15939871957078036, 0.24930241817275023, 0.12340534633540334, 0.0923658524368413, 0.12366800106197197, 0.0890245545442391, 0.1973528767817479, 0.2652123773383376, 0.13745771721874095, 0.19012045887391565, 0.248413789421655, 0.22127899072524365, 0.09736680696319731, 0.143199848307224, 0.004096128473060512, 0.2218039733420824, 0.14228317632999346, 0.23352428400213138, 0.16259164384562802, 0.12805847843166507, 0.12016980400884371, 0.2880348188563957, 0.18400095525403937, 0.06742401733920382, 0.16663531748226024, 0.1331853047314934, 0.15270131100824055, 0.225951313337956, 0.16095256796728352, -0.0357360305503922, -0.04554179105429414, 0.09453865714808897, 0.17517386240461727, 0.9999999999999998, 0.40733573773099174, 0.35670494167515254], [0.3050249276872566, 0.3283752945611518, 0.2124937365155761, 0.18694677088096834, 0.1216468217809724, 0.16700800039993174, 0.10151259101140828, 0.17410173624381148, 0.18611576332085467, 0.10684017270409402, 0.2371436680183263, 0.19272357516586217, 0.23396257211527005, 0.21482322884070626, 0.16357688981584861, -0.026090378484115613, 0.09567979894107917, 0.06556892061824703, 0.47694153434012415, 0.34762668514237716, 0.23058112204855918, 0.4342480280245189, 0.2046421382076486, 0.135851005719243, 0.10991656294627464, 0.283553731589486, 0.2028316048219094, 0.1727412335761421, 0.20367238705364393, 0.16673831166333436, 0.2049236695727356, 0.23722508901757688, 0.24176781337903702, 0.21010461518465665, 0.26173974695979957, 0.061438545713003036, 0.10387474198679103, 0.12528654818987534, 0.08072205183137249, 0.13554947530669295, 0.2640309467458136, 0.31099313033980297, 0.3598819332154618, 0.3216253108184982, 0.3551961743457762, 0.11160052409282809, 0.10401778232350048, 0.007142462679851396, 0.2312853354080251, 0.028853061483068716, 0.19187693754931548, 0.19314345811208256, 0.12773603919086784, 0.15429311606499355, 0.22642537667477192, 0.13549209321989836, 0.16910381976173436, 0.24795567500581328, 0.22994511344185284, 0.2717018526406908, 0.2767927476200455, 0.24253520117584523, 0.1184545116326831, -0.0421855991011023, 0.1891144930878085, 0.1602318783908946, 0.40733573773099174, 0.9999999999999998, 0.23302451343676617], [0.39131522278631725, 0.3793845876584616, 0.43335873236020095, 0.40959109884130485, 0.37587541315023487, 0.42762511211298215, 0.33046614576314537, 0.15681044764371574, 0.23520669604695202, 0.05067076894234391, 0.24559941852765912, 0.31425036933718625, 0.2528461483463261, 0.2914106355519296, 0.09991453752904074, 0.18183235767109512, 0.02419162765578467, 0.08257355083588819, 0.34470714798758395, 0.3328249978374309, 0.35858897828207836, 0.3914130913759426, 0.4680310390003683, 0.4131194776301158, 0.23713828279506877, 0.35058802960822233, 0.4084533691379406, 0.3672155528312462, 0.4155035856839611, 0.3531742008478267, 0.3070941343960909, 0.0970241227090463, 0.2610913014318626, 0.1781731048144874, 0.1555681168390094, 0.3180054784230296, 0.2908500102740287, 0.17035983699123675, 0.1751989862347079, 0.25591714812271626, 0.32522655599453076, 0.23219381784669252, 0.12214649753249571, 0.25164579511704543, 0.1530334488885423, 0.251653997694589, 0.07356083340183568, 0.23150245054523944, 0.15370911513902108, 0.1206629257130224, 0.13369947279133979, 0.20524250450016565, 0.14283639092568248, 0.1777149532898983, 0.29686203043813236, 0.21513799683048146, 0.2457189249200369, 0.19775459310667312, 0.13542697045323782, 0.15137911895383566, 0.27877016360747664, 0.14598374190810592, 0.105404462884661, -0.005914346811715085, 0.15804314032317676, 0.08145151007252953, 0.35670494167515254, 0.23302451343676617, 0.9999999999999993]]}],                        {\"coloraxis\": {\"colorbar\": {\"title\": {\"text\": \"Similarity Score\"}}, \"colorscale\": [[0.0, \"rgb(247,252,240)\"], [0.125, \"rgb(224,243,219)\"], [0.25, \"rgb(204,235,197)\"], [0.375, \"rgb(168,221,181)\"], [0.5, \"rgb(123,204,196)\"], [0.625, \"rgb(78,179,211)\"], [0.75, \"rgb(43,140,190)\"], [0.875, \"rgb(8,104,172)\"], [1.0, \"rgb(8,64,129)\"]]}, \"height\": 1000, \"hoverlabel\": {\"bgcolor\": \"white\", \"font\": {\"family\": \"Rockwell\", \"size\": 16}}, \"legend\": {\"title\": {\"text\": \"Trend\"}}, \"margin\": {\"t\": 60}, \"showlegend\": true, \"template\": {\"data\": {\"bar\": [{\"error_x\": {\"color\": \"#2a3f5f\"}, \"error_y\": {\"color\": \"#2a3f5f\"}, \"marker\": {\"line\": {\"color\": \"#E5ECF6\", \"width\": 0.5}}, \"type\": \"bar\"}], \"barpolar\": [{\"marker\": {\"line\": {\"color\": \"#E5ECF6\", \"width\": 0.5}}, \"type\": \"barpolar\"}], \"carpet\": [{\"aaxis\": {\"endlinecolor\": \"#2a3f5f\", \"gridcolor\": \"white\", \"linecolor\": \"white\", \"minorgridcolor\": \"white\", \"startlinecolor\": \"#2a3f5f\"}, \"baxis\": {\"endlinecolor\": \"#2a3f5f\", \"gridcolor\": \"white\", \"linecolor\": \"white\", \"minorgridcolor\": \"white\", \"startlinecolor\": \"#2a3f5f\"}, \"type\": \"carpet\"}], \"choropleth\": [{\"colorbar\": {\"outlinewidth\": 0, \"ticks\": \"\"}, \"type\": \"choropleth\"}], \"contour\": [{\"colorbar\": {\"outlinewidth\": 0, \"ticks\": \"\"}, \"colorscale\": [[0.0, \"#0d0887\"], [0.1111111111111111, \"#46039f\"], [0.2222222222222222, \"#7201a8\"], [0.3333333333333333, \"#9c179e\"], [0.4444444444444444, \"#bd3786\"], [0.5555555555555556, \"#d8576b\"], [0.6666666666666666, \"#ed7953\"], [0.7777777777777778, \"#fb9f3a\"], [0.8888888888888888, \"#fdca26\"], [1.0, \"#f0f921\"]], \"type\": \"contour\"}], \"contourcarpet\": [{\"colorbar\": {\"outlinewidth\": 0, \"ticks\": \"\"}, \"type\": \"contourcarpet\"}], \"heatmap\": [{\"colorbar\": {\"outlinewidth\": 0, \"ticks\": \"\"}, \"colorscale\": [[0.0, \"#0d0887\"], [0.1111111111111111, \"#46039f\"], [0.2222222222222222, \"#7201a8\"], [0.3333333333333333, \"#9c179e\"], [0.4444444444444444, \"#bd3786\"], [0.5555555555555556, \"#d8576b\"], [0.6666666666666666, \"#ed7953\"], [0.7777777777777778, \"#fb9f3a\"], [0.8888888888888888, \"#fdca26\"], [1.0, \"#f0f921\"]], \"type\": \"heatmap\"}], \"heatmapgl\": [{\"colorbar\": {\"outlinewidth\": 0, \"ticks\": \"\"}, \"colorscale\": [[0.0, \"#0d0887\"], [0.1111111111111111, \"#46039f\"], [0.2222222222222222, \"#7201a8\"], [0.3333333333333333, \"#9c179e\"], [0.4444444444444444, \"#bd3786\"], [0.5555555555555556, \"#d8576b\"], [0.6666666666666666, \"#ed7953\"], [0.7777777777777778, \"#fb9f3a\"], [0.8888888888888888, \"#fdca26\"], [1.0, \"#f0f921\"]], \"type\": \"heatmapgl\"}], \"histogram\": [{\"marker\": {\"colorbar\": {\"outlinewidth\": 0, \"ticks\": \"\"}}, \"type\": \"histogram\"}], \"histogram2d\": [{\"colorbar\": {\"outlinewidth\": 0, \"ticks\": \"\"}, \"colorscale\": [[0.0, \"#0d0887\"], [0.1111111111111111, \"#46039f\"], [0.2222222222222222, \"#7201a8\"], [0.3333333333333333, \"#9c179e\"], [0.4444444444444444, \"#bd3786\"], [0.5555555555555556, \"#d8576b\"], [0.6666666666666666, \"#ed7953\"], [0.7777777777777778, \"#fb9f3a\"], [0.8888888888888888, \"#fdca26\"], [1.0, \"#f0f921\"]], \"type\": \"histogram2d\"}], \"histogram2dcontour\": [{\"colorbar\": {\"outlinewidth\": 0, \"ticks\": \"\"}, \"colorscale\": [[0.0, \"#0d0887\"], [0.1111111111111111, \"#46039f\"], [0.2222222222222222, \"#7201a8\"], [0.3333333333333333, \"#9c179e\"], [0.4444444444444444, \"#bd3786\"], [0.5555555555555556, \"#d8576b\"], [0.6666666666666666, \"#ed7953\"], [0.7777777777777778, \"#fb9f3a\"], [0.8888888888888888, \"#fdca26\"], [1.0, \"#f0f921\"]], \"type\": \"histogram2dcontour\"}], \"mesh3d\": [{\"colorbar\": {\"outlinewidth\": 0, \"ticks\": \"\"}, \"type\": \"mesh3d\"}], \"parcoords\": [{\"line\": {\"colorbar\": {\"outlinewidth\": 0, \"ticks\": \"\"}}, \"type\": \"parcoords\"}], \"pie\": [{\"automargin\": true, \"type\": \"pie\"}], \"scatter\": [{\"marker\": {\"colorbar\": {\"outlinewidth\": 0, \"ticks\": \"\"}}, \"type\": \"scatter\"}], \"scatter3d\": [{\"line\": {\"colorbar\": {\"outlinewidth\": 0, \"ticks\": \"\"}}, \"marker\": {\"colorbar\": {\"outlinewidth\": 0, \"ticks\": \"\"}}, \"type\": \"scatter3d\"}], \"scattercarpet\": [{\"marker\": {\"colorbar\": {\"outlinewidth\": 0, \"ticks\": \"\"}}, \"type\": \"scattercarpet\"}], \"scattergeo\": [{\"marker\": {\"colorbar\": {\"outlinewidth\": 0, \"ticks\": \"\"}}, \"type\": \"scattergeo\"}], \"scattergl\": [{\"marker\": {\"colorbar\": {\"outlinewidth\": 0, \"ticks\": \"\"}}, \"type\": \"scattergl\"}], \"scattermapbox\": [{\"marker\": {\"colorbar\": {\"outlinewidth\": 0, \"ticks\": \"\"}}, \"type\": \"scattermapbox\"}], \"scatterpolar\": [{\"marker\": {\"colorbar\": {\"outlinewidth\": 0, \"ticks\": \"\"}}, \"type\": \"scatterpolar\"}], \"scatterpolargl\": [{\"marker\": {\"colorbar\": {\"outlinewidth\": 0, \"ticks\": \"\"}}, \"type\": \"scatterpolargl\"}], \"scatterternary\": [{\"marker\": {\"colorbar\": {\"outlinewidth\": 0, \"ticks\": \"\"}}, \"type\": \"scatterternary\"}], \"surface\": [{\"colorbar\": {\"outlinewidth\": 0, \"ticks\": \"\"}, \"colorscale\": [[0.0, \"#0d0887\"], [0.1111111111111111, \"#46039f\"], [0.2222222222222222, \"#7201a8\"], [0.3333333333333333, \"#9c179e\"], [0.4444444444444444, \"#bd3786\"], [0.5555555555555556, \"#d8576b\"], [0.6666666666666666, \"#ed7953\"], [0.7777777777777778, \"#fb9f3a\"], [0.8888888888888888, \"#fdca26\"], [1.0, \"#f0f921\"]], \"type\": \"surface\"}], \"table\": [{\"cells\": {\"fill\": {\"color\": \"#EBF0F8\"}, \"line\": {\"color\": \"white\"}}, \"header\": {\"fill\": {\"color\": \"#C8D4E3\"}, \"line\": {\"color\": \"white\"}}, \"type\": \"table\"}]}, \"layout\": {\"annotationdefaults\": {\"arrowcolor\": \"#2a3f5f\", \"arrowhead\": 0, \"arrowwidth\": 1}, \"autotypenumbers\": \"strict\", \"coloraxis\": {\"colorbar\": {\"outlinewidth\": 0, \"ticks\": \"\"}}, \"colorscale\": {\"diverging\": [[0, \"#8e0152\"], [0.1, \"#c51b7d\"], [0.2, \"#de77ae\"], [0.3, \"#f1b6da\"], [0.4, \"#fde0ef\"], [0.5, \"#f7f7f7\"], [0.6, \"#e6f5d0\"], [0.7, \"#b8e186\"], [0.8, \"#7fbc41\"], [0.9, \"#4d9221\"], [1, \"#276419\"]], \"sequential\": [[0.0, \"#0d0887\"], [0.1111111111111111, \"#46039f\"], [0.2222222222222222, \"#7201a8\"], [0.3333333333333333, \"#9c179e\"], [0.4444444444444444, \"#bd3786\"], [0.5555555555555556, \"#d8576b\"], [0.6666666666666666, \"#ed7953\"], [0.7777777777777778, \"#fb9f3a\"], [0.8888888888888888, \"#fdca26\"], [1.0, \"#f0f921\"]], \"sequentialminus\": [[0.0, \"#0d0887\"], [0.1111111111111111, \"#46039f\"], [0.2222222222222222, \"#7201a8\"], [0.3333333333333333, \"#9c179e\"], [0.4444444444444444, \"#bd3786\"], [0.5555555555555556, \"#d8576b\"], [0.6666666666666666, \"#ed7953\"], [0.7777777777777778, \"#fb9f3a\"], [0.8888888888888888, \"#fdca26\"], [1.0, \"#f0f921\"]]}, \"colorway\": [\"#636efa\", \"#EF553B\", \"#00cc96\", \"#ab63fa\", \"#FFA15A\", \"#19d3f3\", \"#FF6692\", \"#B6E880\", \"#FF97FF\", \"#FECB52\"], \"font\": {\"color\": \"#2a3f5f\"}, \"geo\": {\"bgcolor\": \"white\", \"lakecolor\": \"white\", \"landcolor\": \"#E5ECF6\", \"showlakes\": true, \"showland\": true, \"subunitcolor\": \"white\"}, \"hoverlabel\": {\"align\": \"left\"}, \"hovermode\": \"closest\", \"mapbox\": {\"style\": \"light\"}, \"paper_bgcolor\": \"white\", \"plot_bgcolor\": \"#E5ECF6\", \"polar\": {\"angularaxis\": {\"gridcolor\": \"white\", \"linecolor\": \"white\", \"ticks\": \"\"}, \"bgcolor\": \"#E5ECF6\", \"radialaxis\": {\"gridcolor\": \"white\", \"linecolor\": \"white\", \"ticks\": \"\"}}, \"scene\": {\"xaxis\": {\"backgroundcolor\": \"#E5ECF6\", \"gridcolor\": \"white\", \"gridwidth\": 2, \"linecolor\": \"white\", \"showbackground\": true, \"ticks\": \"\", \"zerolinecolor\": \"white\"}, \"yaxis\": {\"backgroundcolor\": \"#E5ECF6\", \"gridcolor\": \"white\", \"gridwidth\": 2, \"linecolor\": \"white\", \"showbackground\": true, \"ticks\": \"\", \"zerolinecolor\": \"white\"}, \"zaxis\": {\"backgroundcolor\": \"#E5ECF6\", \"gridcolor\": \"white\", \"gridwidth\": 2, \"linecolor\": \"white\", \"showbackground\": true, \"ticks\": \"\", \"zerolinecolor\": \"white\"}}, \"shapedefaults\": {\"line\": {\"color\": \"#2a3f5f\"}}, \"ternary\": {\"aaxis\": {\"gridcolor\": \"white\", \"linecolor\": \"white\", \"ticks\": \"\"}, \"baxis\": {\"gridcolor\": \"white\", \"linecolor\": \"white\", \"ticks\": \"\"}, \"bgcolor\": \"#E5ECF6\", \"caxis\": {\"gridcolor\": \"white\", \"linecolor\": \"white\", \"ticks\": \"\"}}, \"title\": {\"x\": 0.05}, \"xaxis\": {\"automargin\": true, \"gridcolor\": \"white\", \"linecolor\": \"white\", \"ticks\": \"\", \"title\": {\"standoff\": 15}, \"zerolinecolor\": \"white\", \"zerolinewidth\": 2}, \"yaxis\": {\"automargin\": true, \"gridcolor\": \"white\", \"linecolor\": \"white\", \"ticks\": \"\", \"title\": {\"standoff\": 15}, \"zerolinecolor\": \"white\", \"zerolinewidth\": 2}}}, \"title\": {\"font\": {\"color\": \"Black\", \"size\": 22}, \"text\": \"<b>Similarity Matrix\", \"x\": 0.55, \"xanchor\": \"center\", \"y\": 0.95, \"yanchor\": \"top\"}, \"width\": 1000, \"xaxis\": {\"anchor\": \"y\", \"constrain\": \"domain\", \"domain\": [0.0, 1.0], \"scaleanchor\": \"y\"}, \"yaxis\": {\"anchor\": \"x\", \"autorange\": \"reversed\", \"constrain\": \"domain\", \"domain\": [0.0, 1.0]}},                        {\"responsive\": true}                    ).then(function(){\n",
              "                            \n",
              "var gd = document.getElementById('87cd8a20-e66c-44df-a80c-b2d453ad7bc7');\n",
              "var x = new MutationObserver(function (mutations, observer) {{\n",
              "        var display = window.getComputedStyle(gd).display;\n",
              "        if (!display || display === 'none') {{\n",
              "            console.log([gd, 'removed!']);\n",
              "            Plotly.purge(gd);\n",
              "            observer.disconnect();\n",
              "        }}\n",
              "}});\n",
              "\n",
              "// Listen for the removal of the full notebook cells\n",
              "var notebookContainer = gd.closest('#notebook-container');\n",
              "if (notebookContainer) {{\n",
              "    x.observe(notebookContainer, {childList: true});\n",
              "}}\n",
              "\n",
              "// Listen for the clearing of the current output cell\n",
              "var outputEl = gd.closest('.output');\n",
              "if (outputEl) {{\n",
              "    x.observe(outputEl, {childList: true});\n",
              "}}\n",
              "\n",
              "                        })                };                            </script>        </div>\n",
              "</body>\n",
              "</html>"
            ]
          },
          "metadata": {
            "tags": []
          }
        }
      ]
    },
    {
      "cell_type": "markdown",
      "metadata": {
        "id": "_ak_CLR164mx"
      },
      "source": [
        "## Visualize Term Score Decline\n",
        "Topics are represented by a number of words starting with the best representative word. Each word is represented by a c-TF-IDF score. The higher the score, the more representative a word to the topic is. Since the topic words are sorted by their c-TF-IDF score, the scores slowly decline with each word that is added. At some point adding words to the topic representation only marginally increases the total c-TF-IDF score and would not be beneficial for its representation.\n",
        "\n",
        "To visualize this effect, we can plot the c-TF-IDF scores for each topic by the term rank of each word. In other words, the position of the words (term rank), where the words with the highest c-TF-IDF score will have a rank of 1, will be put on the x-axis. Whereas the y-axis will be populated by the c-TF-IDF scores. The result is a visualization that shows you the decline of c-TF-IDF score when adding words to the topic representation. It allows you, using the elbow method, the select the best number of words in a topic.\n"
      ]
    },
    {
      "cell_type": "code",
      "metadata": {
        "colab": {
          "base_uri": "https://localhost:8080/",
          "height": 517
        },
        "id": "7gT3Korh6-MX",
        "outputId": "19e1ca11-01b6-4b25-bd24-0f65891d1eca"
      },
      "source": [
        "topic_model.visualize_term_rank()"
      ],
      "execution_count": 24,
      "outputs": [
        {
          "output_type": "display_data",
          "data": {
            "text/html": [
              "<html>\n",
              "<head><meta charset=\"utf-8\" /></head>\n",
              "<body>\n",
              "    <div>            <script src=\"https://cdnjs.cloudflare.com/ajax/libs/mathjax/2.7.5/MathJax.js?config=TeX-AMS-MML_SVG\"></script><script type=\"text/javascript\">if (window.MathJax) {MathJax.Hub.Config({SVG: {font: \"STIX-Web\"}});}</script>                <script type=\"text/javascript\">window.PlotlyConfig = {MathJaxConfig: 'local'};</script>\n",
              "        <script src=\"https://cdn.plot.ly/plotly-latest.min.js\"></script>                <div id=\"fbf77eb0-c196-42a7-9bc0-451591c47c8c\" class=\"plotly-graph-div\" style=\"height:500px; width:800px;\"></div>            <script type=\"text/javascript\">                                    window.PLOTLYENV=window.PLOTLYENV || {};                                    if (document.getElementById(\"fbf77eb0-c196-42a7-9bc0-451591c47c8c\")) {                    Plotly.newPlot(                        \"fbf77eb0-c196-42a7-9bc0-451591c47c8c\",                        [{\"hovertext\": \"<b>Topic -1</b>:smart_environment_opportunities_pa\", \"line\": {\"color\": \"black\", \"width\": 1.5}, \"mode\": \"lines+lines\", \"name\": \"\", \"opacity\": 0.1, \"type\": \"scatter\", \"x\": [1, 2, 3, 4, 5, 6, 7, 8, 9, 10, 11, 12, 13, 14, 15], \"y\": [0.0067438045388097285, 0.006453255372038686, 0.006251178973975746, 0.006201556085476883, 0.006144634382567219, 0.005695848784571135, 0.0051196183580523025, 0.00500250107453487, 0.004929677848161385, 0.004867375547794694, 0.004837712092359774, 0.004811367674295695, 0.0047520604698084, 0.004524992075593562, 0.0044271409057320505]}, {\"hovertext\": \"<b>Topic 0</b>:amazon_apple_working_employees_nt_c\", \"line\": {\"color\": \"black\", \"width\": 1.5}, \"mode\": \"lines+lines\", \"name\": \"\", \"opacity\": 0.1, \"type\": \"scatter\", \"x\": [1, 2, 3, 4, 5, 6, 7, 8, 9, 10, 11, 12, 13, 14, 15], \"y\": [0.025349582300605685, 0.02104518097199698, 0.006237041576259761, 0.005483538023302047, 0.005240492488007998, 0.005055908323604561, 0.004720758062657242, 0.004558217732306532, 0.004544142427626432, 0.004473779642419827, 0.004322257419905556, 0.004228831661091897, 0.004127444760637589, 0.004074478483798206, 0.0040404287041674635]}, {\"hovertext\": \"<b>Topic 1</b>:team_teams_great team_team great_te\", \"line\": {\"color\": \"black\", \"width\": 1.5}, \"mode\": \"lines+lines\", \"name\": \"\", \"opacity\": 0.1, \"type\": \"scatter\", \"x\": [1, 2, 3, 4, 5, 6, 7, 8, 9, 10, 11, 12, 13, 14, 15], \"y\": [0.04571927591767117, 0.03469095795302661, 0.020126547257301244, 0.010665687029080414, 0.010637824430103643, 0.009487999196297942, 0.008224659791208865, 0.007670258627455578, 0.006908714224615448, 0.006718949447773446, 0.006606031362118422, 0.006383055833453011, 0.0062837390232654885, 0.005719284778164232, 0.004860395802974622]}, {\"hovertext\": \"<b>Topic 2</b>:learn_technology_learning_cutting e\", \"line\": {\"color\": \"black\", \"width\": 1.5}, \"mode\": \"lines+lines\", \"name\": \"\", \"opacity\": 0.1, \"type\": \"scatter\", \"x\": [1, 2, 3, 4, 5, 6, 7, 8, 9, 10, 11, 12, 13, 14, 15], \"y\": [0.0297567369326339, 0.027079729982007042, 0.022519446139429546, 0.015823729776352796, 0.015249119765251977, 0.013179695536923362, 0.01279227657245076, 0.011341732664270732, 0.011228965333637562, 0.010896395116708585, 0.010523078981258377, 0.009028332808253494, 0.0073267592595787825, 0.00699621492989919, 0.006806450496027125]}, {\"hovertext\": \"<b>Topic 3</b>:microsoft_software_microsoft great_\", \"line\": {\"color\": \"black\", \"width\": 1.5}, \"mode\": \"lines+lines\", \"name\": \"\", \"opacity\": 0.1, \"type\": \"scatter\", \"x\": [1, 2, 3, 4, 5, 6, 7, 8, 9, 10, 11, 12, 13, 14, 15], \"y\": [0.048167308100920965, 0.015210194564806035, 0.008629148560597133, 0.0068944283246359, 0.005878642194348051, 0.00560232502766077, 0.005301194680704339, 0.005260930717073363, 0.005066937745242273, 0.004915868955945655, 0.004874998341759765, 0.004530540869199589, 0.00440407668550715, 0.004283736944509706, 0.0042645348705865945]}, {\"hovertext\": \"<b>Topic 4</b>:food_free food_gym_lunch_snacks_caf\", \"line\": {\"color\": \"black\", \"width\": 1.5}, \"mode\": \"lines+lines\", \"name\": \"\", \"opacity\": 0.1, \"type\": \"scatter\", \"x\": [1, 2, 3, 4, 5, 6, 7, 8, 9, 10, 11, 12, 13, 14, 15], \"y\": [0.06611005735870848, 0.03708588084291362, 0.019510358844924584, 0.012992805023343192, 0.01261993121089305, 0.012438750188446515, 0.012276252675650669, 0.011992196764750005, 0.009330873190025273, 0.008253788226952212, 0.007322466863422657, 0.007081312498044469, 0.006736669514348845, 0.006603030581561769, 0.006449938742013865]}, {\"hovertext\": \"<b>Topic 5</b>:customer_retail_customers_pay retai\", \"line\": {\"color\": \"black\", \"width\": 1.5}, \"mode\": \"lines+lines\", \"name\": \"\", \"opacity\": 0.1, \"type\": \"scatter\", \"x\": [1, 2, 3, 4, 5, 6, 7, 8, 9, 10, 11, 12, 13, 14, 15], \"y\": [0.04094139989480969, 0.034943102634139814, 0.023532222008733207, 0.011962322775631149, 0.010376634866892626, 0.010154013890145076, 0.009989608609964364, 0.009702774384375869, 0.00910032120253847, 0.008399461221051506, 0.006714902978453033, 0.0066350276930815, 0.006319073993410953, 0.006205672674841545, 0.006003120293740405]}, {\"hovertext\": \"<b>Topic 6</b>:environment_work environment_workin\", \"line\": {\"color\": \"black\", \"width\": 1.5}, \"mode\": \"lines+lines\", \"name\": \"\", \"opacity\": 0.1, \"type\": \"scatter\", \"x\": [1, 2, 3, 4, 5, 6, 7, 8, 9, 10, 11, 12, 13, 14, 15], \"y\": [0.06414601161179607, 0.03559626398703907, 0.029537746124345957, 0.027901315332312975, 0.02450127904782678, 0.02085222439654432, 0.019549965985602446, 0.016222252085153745, 0.01603195864178062, 0.014190837370095036, 0.012202048513703927, 0.007795779734120244, 0.007062249023917279, 0.007062249023917279, 0.007043176143604081]}, {\"hovertext\": \"<b>Topic 7</b>:company work_great company_good com\", \"line\": {\"color\": \"black\", \"width\": 1.5}, \"mode\": \"lines+lines\", \"name\": \"\", \"opacity\": 0.1, \"type\": \"scatter\", \"x\": [1, 2, 3, 4, 5, 6, 7, 8, 9, 10, 11, 12, 13, 14, 15], \"y\": [0.0767317074071225, 0.05718574411240283, 0.04843287740110847, 0.027158618153951056, 0.024377945814552104, 0.022554805198926876, 0.02000886523447872, 0.010770642653944975, 0.010433670831867628, 0.007990659252565183, 0.007404816824587171, 0.006812271416714283, 0.0064095082939444985, 0.00633576841793974, 0.006171770883613482]}, {\"hovertext\": \"<b>Topic 8</b>:life balance_work life_worklife_wor\", \"line\": {\"color\": \"black\", \"width\": 1.5}, \"mode\": \"lines+lines\", \"name\": \"\", \"opacity\": 0.1, \"type\": \"scatter\", \"x\": [1, 2, 3, 4, 5, 6, 7, 8, 9, 10, 11, 12, 13, 14, 15], \"y\": [0.062439410304189265, 0.061106674528034026, 0.031079085866039073, 0.030793950443515124, 0.027840775576127456, 0.013619455018951947, 0.011001187051269585, 0.010018469914217638, 0.007577437317995672, 0.006069930532954147, 0.0058778801293272, 0.005845625369585917, 0.005712540667004418, 0.005182308773813975, 0.005085300859395564]}, {\"hovertext\": \"<b>Topic 9</b>:great benefits_good benefits_benefi\", \"line\": {\"color\": \"black\", \"width\": 1.5}, \"mode\": \"lines+lines\", \"name\": \"\", \"opacity\": 0.1, \"type\": \"scatter\", \"x\": [1, 2, 3, 4, 5, 6, 7, 8, 9, 10, 11, 12, 13, 14, 15], \"y\": [0.022534854619711834, 0.022338600624168592, 0.01984311432999827, 0.018143530399328096, 0.014392126270963517, 0.01146958302307873, 0.008732058155785939, 0.00855214793556925, 0.008522790479458772, 0.008218228264655689, 0.00808127259722614, 0.007646388682052487, 0.007600846436992156, 0.007117399615909114, 0.00680607604423605]}, {\"hovertext\": \"<b>Topic 10</b>:google_facebook_working google_per\", \"line\": {\"color\": \"black\", \"width\": 1.5}, \"mode\": \"lines+lines\", \"name\": \"\", \"opacity\": 0.1, \"type\": \"scatter\", \"x\": [1, 2, 3, 4, 5, 6, 7, 8, 9, 10, 11, 12, 13, 14, 15], \"y\": [0.04689085872842107, 0.020634691517978844, 0.007502676053246853, 0.0073523662305844855, 0.00724609857334909, 0.006287821214085766, 0.006098813214935109, 0.005795117037716414, 0.005450484117082606, 0.005075489568760235, 0.004944520014243372, 0.004823353559885813, 0.004662848519886426, 0.00464990712449749, 0.004598117375509051]}, {\"hovertext\": \"<b>Topic 11</b>:leadership_leadership principles_g\", \"line\": {\"color\": \"black\", \"width\": 1.5}, \"mode\": \"lines+lines\", \"name\": \"\", \"opacity\": 0.1, \"type\": \"scatter\", \"x\": [1, 2, 3, 4, 5, 6, 7, 8, 9, 10, 11, 12, 13, 14, 15], \"y\": [0.06339336461160718, 0.0236107340191779, 0.013451175468848239, 0.01170270440014879, 0.009545672820795381, 0.008183180718514213, 0.007943739183006516, 0.007936531248646751, 0.007395887348402987, 0.007216536920234775, 0.006176869132768738, 0.006175381588503812, 0.00613974575848036, 0.005957804387254888, 0.005932381627073944]}, {\"hovertext\": \"<b>Topic 12</b>:coworkers_great coworkers_co worke\", \"line\": {\"color\": \"black\", \"width\": 1.5}, \"mode\": \"lines+lines\", \"name\": \"\", \"opacity\": 0.1, \"type\": \"scatter\", \"x\": [1, 2, 3, 4, 5, 6, 7, 8, 9, 10, 11, 12, 13, 14, 15], \"y\": [0.08690608115321008, 0.034184820708476164, 0.025260064411763757, 0.02436259185163488, 0.015489590011062688, 0.013687790732112659, 0.012935678487394731, 0.008960009391345933, 0.008123730402882775, 0.007905949807693317, 0.007671260050883187, 0.007520263115537926, 0.007273374131033992, 0.007156304529282815, 0.006917282871567745]}, {\"hovertext\": \"<b>Topic 13</b>:pay_good pay_pay good_decent pay_o\", \"line\": {\"color\": \"black\", \"width\": 1.5}, \"mode\": \"lines+lines\", \"name\": \"\", \"opacity\": 0.1, \"type\": \"scatter\", \"x\": [1, 2, 3, 4, 5, 6, 7, 8, 9, 10, 11, 12, 13, 14, 15], \"y\": [0.055187697642581385, 0.040350628412286677, 0.02728954591879197, 0.019244923237632428, 0.014212842435736844, 0.013859199408423891, 0.012996759514705594, 0.012280219470822373, 0.011299970968868313, 0.009915867311720816, 0.009899159102956242, 0.009677848139264237, 0.009168509951131523, 0.008574994273700063, 0.008572615316892221]}, {\"hovertext\": \"<b>Topic 14</b>:stock_stock options_options_stocks\", \"line\": {\"color\": \"black\", \"width\": 1.5}, \"mode\": \"lines+lines\", \"name\": \"\", \"opacity\": 0.1, \"type\": \"scatter\", \"x\": [1, 2, 3, 4, 5, 6, 7, 8, 9, 10, 11, 12, 13, 14, 15], \"y\": [0.08575536850950821, 0.051444125207016037, 0.047719860059312266, 0.029434458237728427, 0.015529245730661462, 0.011735608997107282, 0.011414076607104784, 0.009674241616099267, 0.00933354971070145, 0.00861128659288913, 0.008199058408315201, 0.00805881474897846, 0.007971591497493574, 0.007733729062015486, 0.00749666739162104]}, {\"hovertext\": \"<b>Topic 15</b>:place work_place_great place_best \", \"line\": {\"color\": \"black\", \"width\": 1.5}, \"mode\": \"lines+lines\", \"name\": \"\", \"opacity\": 0.1, \"type\": \"scatter\", \"x\": [1, 2, 3, 4, 5, 6, 7, 8, 9, 10, 11, 12, 13, 14, 15], \"y\": [0.14031855506853136, 0.11579652744543276, 0.07113053456264663, 0.050109742417856144, 0.046897048738132746, 0.022723640729188078, 0.0138901957730346, 0.012103250278980232, 0.010374049545920746, 0.009253114902291594, 0.008820299707994956, 0.008470187410639143, 0.008428757564736537, 0.008068833519320156, 0.007980963797606896]}, {\"hovertext\": \"<b>Topic 16</b>:flexible_flexible working_flexible\", \"line\": {\"color\": \"black\", \"width\": 1.5}, \"mode\": \"lines+lines\", \"name\": \"\", \"opacity\": 0.1, \"type\": \"scatter\", \"x\": [1, 2, 3, 4, 5, 6, 7, 8, 9, 10, 11, 12, 13, 14, 15], \"y\": [0.08229780114070341, 0.03991200268122372, 0.03148634666150428, 0.028295471142768473, 0.026645681299463146, 0.020139372512503334, 0.018743667477955552, 0.016351078508098055, 0.015572567659335703, 0.014566736384941522, 0.01408052583488767, 0.01184830548720258, 0.009810647104858832, 0.009431047259037472, 0.006654596324183007]}, {\"hovertext\": \"<b>Topic 17</b>:career_opportunities_career opport\", \"line\": {\"color\": \"black\", \"width\": 1.5}, \"mode\": \"lines+lines\", \"name\": \"\", \"opacity\": 0.1, \"type\": \"scatter\", \"x\": [1, 2, 3, 4, 5, 6, 7, 8, 9, 10, 11, 12, 13, 14, 15], \"y\": [0.08032875877232294, 0.0282134152683342, 0.02621217116206341, 0.018331266300600856, 0.017104264487560406, 0.015550982687920585, 0.015370321552811149, 0.012649391531015557, 0.010908045535288312, 0.010397880483946265, 0.008074501930087803, 0.007992747410641252, 0.007925630803283224, 0.007657066962188615, 0.007657066962188615]}, {\"hovertext\": \"<b>Topic 18</b>:good salary_salary good_culture go\", \"line\": {\"color\": \"black\", \"width\": 1.5}, \"mode\": \"lines+lines\", \"name\": \"\", \"opacity\": 0.1, \"type\": \"scatter\", \"x\": [1, 2, 3, 4, 5, 6, 7, 8, 9, 10, 11, 12, 13, 14, 15], \"y\": [0.07252874001623036, 0.04262908116742984, 0.017739807928762792, 0.017185662508896995, 0.01452158556048253, 0.014323808961161788, 0.013172552793347498, 0.012789656483267004, 0.011683597630034886, 0.011261394521351263, 0.010801275962156319, 0.008974517916482707, 0.008807516470362242, 0.008571189620554354, 0.008564986963486345]}, {\"hovertext\": \"<b>Topic 19</b>:growing_growth_company_growing com\", \"line\": {\"color\": \"black\", \"width\": 1.5}, \"mode\": \"lines+lines\", \"name\": \"\", \"opacity\": 0.1, \"type\": \"scatter\", \"x\": [1, 2, 3, 4, 5, 6, 7, 8, 9, 10, 11, 12, 13, 14, 15], \"y\": [0.03428806468734106, 0.028933319557865024, 0.02810006798441285, 0.01940083403848093, 0.013474558085548212, 0.01320291571242854, 0.012440804201660315, 0.012426749674183604, 0.012021246236670391, 0.011874057707904529, 0.01070130536738945, 0.009875680946617818, 0.009873179776118958, 0.009198938313505997, 0.008100043444729855]}, {\"hovertext\": \"<b>Topic 20</b>:work culture_great culture_culture\", \"line\": {\"color\": \"black\", \"width\": 1.5}, \"mode\": \"lines+lines\", \"name\": \"\", \"opacity\": 0.1, \"type\": \"scatter\", \"x\": [1, 2, 3, 4, 5, 6, 7, 8, 9, 10, 11, 12, 13, 14, 15], \"y\": [0.06239141061304953, 0.051775338106133606, 0.04071157312916774, 0.029549521684989897, 0.02733155768142728, 0.017836621620357852, 0.017510677080021887, 0.01733551063503072, 0.01562479252132795, 0.01451209377353719, 0.014339960310822557, 0.0121642026024901, 0.012033041848294318, 0.011084456080426595, 0.008759467598143066]}, {\"hovertext\": \"<b>Topic 21</b>:home_work home_working home_home g\", \"line\": {\"color\": \"black\", \"width\": 1.5}, \"mode\": \"lines+lines\", \"name\": \"\", \"opacity\": 0.1, \"type\": \"scatter\", \"x\": [1, 2, 3, 4, 5, 6, 7, 8, 9, 10, 11, 12, 13, 14, 15], \"y\": [0.15018701801948123, 0.12282321332743874, 0.04141073599005861, 0.02943630255742688, 0.028584377466429445, 0.02170825178249756, 0.021536434643960094, 0.014402185872239974, 0.011193109281235897, 0.0110277514225001, 0.01028216073422679, 0.00965627852294234, 0.009481636366750182, 0.009481636366750182, 0.008935757512614582]}, {\"hovertext\": \"<b>Topic 22</b>:projects_interesting projects_smar\", \"line\": {\"color\": \"black\", \"width\": 1.5}, \"mode\": \"lines+lines\", \"name\": \"\", \"opacity\": 0.1, \"type\": \"scatter\", \"x\": [1, 2, 3, 4, 5, 6, 7, 8, 9, 10, 11, 12, 13, 14, 15], \"y\": [0.10448892830078782, 0.04461977540463478, 0.026046442356467688, 0.01873728130825117, 0.018602282312031985, 0.0185268895053025, 0.015667107534646563, 0.014286302424810764, 0.014251453465617306, 0.012799104142529043, 0.010673997676051311, 0.010076906603423122, 0.008632314036234538, 0.008460015465106122, 0.008381790146633303]}, {\"hovertext\": \"<b>Topic 23</b>:discounts_great discounts_discount\", \"line\": {\"color\": \"black\", \"width\": 1.5}, \"mode\": \"lines+lines\", \"name\": \"\", \"opacity\": 0.1, \"type\": \"scatter\", \"x\": [1, 2, 3, 4, 5, 6, 7, 8, 9, 10, 11, 12, 13, 14, 15], \"y\": [0.09443475242158296, 0.02963067288804749, 0.026980021763714824, 0.02055383696557813, 0.01669952634635774, 0.015126392331061164, 0.015070098394603876, 0.015028302969029366, 0.012891415829892772, 0.012357379816146789, 0.011598492500131612, 0.01072422328585468, 0.010369113303810419, 0.009726727795989775, 0.009194072249570298]}, {\"hovertext\": \"<b>Topic 24</b>:de_et_und_les_en_ambiance_des_bonn\", \"line\": {\"color\": \"black\", \"width\": 1.5}, \"mode\": \"lines+lines\", \"name\": \"\", \"opacity\": 0.1, \"type\": \"scatter\", \"x\": [1, 2, 3, 4, 5, 6, 7, 8, 9, 10, 11, 12, 13, 14, 15], \"y\": [0.06883107047152187, 0.05175344553100194, 0.049584646330076476, 0.04435059469707165, 0.028812474671131367, 0.02846974378670884, 0.028106944971153933, 0.025944872281065172, 0.024590088083757677, 0.024247093944038657, 0.02364740076499653, 0.02269617786827821, 0.019447993080992643, 0.01745893396427381, 0.016782047535055498]}, {\"hovertext\": \"<b>Topic 25</b>:pay benefits_benefits pay_good pay\", \"line\": {\"color\": \"black\", \"width\": 1.5}, \"mode\": \"lines+lines\", \"name\": \"\", \"opacity\": 0.1, \"type\": \"scatter\", \"x\": [1, 2, 3, 4, 5, 6, 7, 8, 9, 10, 11, 12, 13, 14, 15], \"y\": [0.0631298860002464, 0.05042739676642242, 0.04664836578014936, 0.04647238724861724, 0.04600454473091399, 0.040751453402405116, 0.03633665992367159, 0.03475460904892741, 0.03167462437872565, 0.021168261253403722, 0.015984923764481924, 0.013944008001195584, 0.011245551261172321, 0.010864490429380421, 0.010562564856929673]}, {\"hovertext\": \"<b>Topic 26</b>:insurance_health insurance_health \", \"line\": {\"color\": \"black\", \"width\": 1.5}, \"mode\": \"lines+lines\", \"name\": \"\", \"opacity\": 0.1, \"type\": \"scatter\", \"x\": [1, 2, 3, 4, 5, 6, 7, 8, 9, 10, 11, 12, 13, 14, 15], \"y\": [0.08548512346057999, 0.050514388909222316, 0.026009428400367744, 0.01973182914839189, 0.01905789699888714, 0.017124197123851482, 0.0165989716494495, 0.013920773892249652, 0.013240025199777445, 0.011931287553266846, 0.01164979597218573, 0.011278090655809652, 0.010462462254128446, 0.008275015749860904, 0.007946571024635299]}, {\"hovertext\": \"<b>Topic 27</b>:training_great training_training g\", \"line\": {\"color\": \"black\", \"width\": 1.5}, \"mode\": \"lines+lines\", \"name\": \"\", \"opacity\": 0.1, \"type\": \"scatter\", \"x\": [1, 2, 3, 4, 5, 6, 7, 8, 9, 10, 11, 12, 13, 14, 15], \"y\": [0.11173534729995867, 0.044169814258315135, 0.029249748793400438, 0.02179759839579297, 0.01482730779158946, 0.01413923382190185, 0.01361813761137437, 0.011920005463138296, 0.011352786552210378, 0.010395367840397695, 0.010281445635043737, 0.01025194917150165, 0.00859787309514073, 0.008170745143866561, 0.007245843407732539]}, {\"hovertext\": \"<b>Topic 28</b>:easy job_easy get_easy work_get hi\", \"line\": {\"color\": \"black\", \"width\": 1.5}, \"mode\": \"lines+lines\", \"name\": \"\", \"opacity\": 0.1, \"type\": \"scatter\", \"x\": [1, 2, 3, 4, 5, 6, 7, 8, 9, 10, 11, 12, 13, 14, 15], \"y\": [0.0387966154322343, 0.03764436336203997, 0.03460272765047502, 0.03199390764389643, 0.029376043170894012, 0.02620108975030856, 0.02555948871011654, 0.024921542158846392, 0.023644186653565668, 0.020088255837244308, 0.018191787944397728, 0.017970703571015375, 0.017793687733790385, 0.015460864946585828, 0.01483721226551972]}, {\"hovertext\": \"<b>Topic 29</b>:opportunities_opportunity_lots opp\", \"line\": {\"color\": \"black\", \"width\": 1.5}, \"mode\": \"lines+lines\", \"name\": \"\", \"opacity\": 0.1, \"type\": \"scatter\", \"x\": [1, 2, 3, 4, 5, 6, 7, 8, 9, 10, 11, 12, 13, 14, 15], \"y\": [0.04595726911787872, 0.03578731342737877, 0.0235787310795806, 0.023562656472479092, 0.01430562326971204, 0.01313930257606662, 0.012910617323804727, 0.012269705631531205, 0.012017828051145934, 0.01175098064418447, 0.011570646585586396, 0.011171924745032825, 0.010962122845446157, 0.010628755545013779, 0.009400184055947574]}, {\"hovertext\": \"<b>Topic 30</b>:smart_smart people_work smart_peop\", \"line\": {\"color\": \"black\", \"width\": 1.5}, \"mode\": \"lines+lines\", \"name\": \"\", \"opacity\": 0.1, \"type\": \"scatter\", \"x\": [1, 2, 3, 4, 5, 6, 7, 8, 9, 10, 11, 12, 13, 14, 15], \"y\": [0.06331542273758754, 0.058867833336136606, 0.032966339307324316, 0.02590051966691979, 0.023994033685581225, 0.019307595275978723, 0.018839209751977577, 0.016287797579500055, 0.015222918780772378, 0.014954970694664053, 0.010893303712722943, 0.009408630518958976, 0.008872909713648397, 0.0082380371122134, 0.008079456463534989]}, {\"hovertext\": \"<b>Topic 31</b>:brand_name_brand name_innovative c\", \"line\": {\"color\": \"black\", \"width\": 1.5}, \"mode\": \"lines+lines\", \"name\": \"\", \"opacity\": 0.1, \"type\": \"scatter\", \"x\": [1, 2, 3, 4, 5, 6, 7, 8, 9, 10, 11, 12, 13, 14, 15], \"y\": [0.10696582677866853, 0.08450026098296462, 0.058570495357326155, 0.030898472739502605, 0.029519842805761892, 0.027634764417035825, 0.02213402091353389, 0.020530513399493293, 0.018769660780189327, 0.01645898370639445, 0.01575499017512987, 0.010972655804262967, 0.010511442060853297, 0.010000894996935808, 0.009672567281270857]}, {\"hovertext\": \"<b>Topic 32</b>:great company_great benefits_compa\", \"line\": {\"color\": \"black\", \"width\": 1.5}, \"mode\": \"lines+lines\", \"name\": \"\", \"opacity\": 0.1, \"type\": \"scatter\", \"x\": [1, 2, 3, 4, 5, 6, 7, 8, 9, 10, 11, 12, 13, 14, 15], \"y\": [0.03514365891623254, 0.028221707532549965, 0.024794101067143404, 0.021606466676857353, 0.021421511611418774, 0.020022170670422786, 0.018543584492055336, 0.018062812518262812, 0.015573837546968908, 0.01380670997349689, 0.010608964121027601, 0.01011022761172629, 0.009672678175254619, 0.009335322662407141, 0.008898858172976984]}, {\"hovertext\": \"<b>Topic 33</b>:freedom_autonomy_ownership_freedom\", \"line\": {\"color\": \"black\", \"width\": 1.5}, \"mode\": \"lines+lines\", \"name\": \"\", \"opacity\": 0.1, \"type\": \"scatter\", \"x\": [1, 2, 3, 4, 5, 6, 7, 8, 9, 10, 11, 12, 13, 14, 15], \"y\": [0.0851319100710063, 0.053244524935328504, 0.0528080405874761, 0.0363408764009569, 0.024137797899810732, 0.016281528047126674, 0.011754340000400343, 0.01148318203595869, 0.011476728189522604, 0.011476728189522604, 0.009399111251270175, 0.009186545628766954, 0.009070582047861212, 0.009070582047861212, 0.007915346899389405]}, {\"hovertext\": \"<b>Topic 34</b>:overtime_lots overtime_lot overtim\", \"line\": {\"color\": \"black\", \"width\": 1.5}, \"mode\": \"lines+lines\", \"name\": \"\", \"opacity\": 0.1, \"type\": \"scatter\", \"x\": [1, 2, 3, 4, 5, 6, 7, 8, 9, 10, 11, 12, 13, 14, 15], \"y\": [0.17615882414092773, 0.04729710623555916, 0.0221932880216498, 0.018826868348044482, 0.017659181129879534, 0.017083432932607338, 0.01691691260530804, 0.016760490801874556, 0.01621527751191125, 0.01609524798391853, 0.01422717065105589, 0.013360964183592314, 0.013360964183592314, 0.012083509003791458, 0.011710735490714537]}, {\"hovertext\": \"<b>Topic 35</b>:care_employees_care employees_care\", \"line\": {\"color\": \"black\", \"width\": 1.5}, \"mode\": \"lines+lines\", \"name\": \"\", \"opacity\": 0.1, \"type\": \"scatter\", \"x\": [1, 2, 3, 4, 5, 6, 7, 8, 9, 10, 11, 12, 13, 14, 15], \"y\": [0.05679259792164812, 0.05212414721956206, 0.05104961781271573, 0.035680177779050366, 0.02357640936132311, 0.022898699981072707, 0.02066369116668485, 0.016737512542367605, 0.01470252173815144, 0.014419943261906024, 0.013846414431790799, 0.011514218179413798, 0.010285278532310956, 0.009098757675238564, 0.008975338860341412]}, {\"hovertext\": \"<b>Topic 36</b>:fast paced_pace_paced environment_\", \"line\": {\"color\": \"black\", \"width\": 1.5}, \"mode\": \"lines+lines\", \"name\": \"\", \"opacity\": 0.1, \"type\": \"scatter\", \"x\": [1, 2, 3, 4, 5, 6, 7, 8, 9, 10, 11, 12, 13, 14, 15], \"y\": [0.11305276220552078, 0.062050996445789645, 0.060947073539794554, 0.05372367788469455, 0.03161795713324497, 0.024785966400042624, 0.020409175941651123, 0.017815392440640697, 0.015528517431444188, 0.013606117294434082, 0.013136125006119555, 0.013136125006119555, 0.01282587845457, 0.012336345716421764, 0.011156855335434902]}, {\"hovertext\": \"<b>Topic 37</b>:worklife balance_benefits work_bal\", \"line\": {\"color\": \"black\", \"width\": 1.5}, \"mode\": \"lines+lines\", \"name\": \"\", \"opacity\": 0.1, \"type\": \"scatter\", \"x\": [1, 2, 3, 4, 5, 6, 7, 8, 9, 10, 11, 12, 13, 14, 15], \"y\": [0.061583577226579284, 0.04796999158346688, 0.03873860654486181, 0.02689338566662809, 0.023850758739468837, 0.021891572493036953, 0.0210031785849481, 0.02096382459881726, 0.014572275215220247, 0.014362068312428675, 0.012893408617109437, 0.011846475997740823, 0.011825419051818581, 0.0116438215031255, 0.00969500916144101]}, {\"hovertext\": \"<b>Topic 38</b>:dress_dress code_code_casual dress\", \"line\": {\"color\": \"black\", \"width\": 1.5}, \"mode\": \"lines+lines\", \"name\": \"\", \"opacity\": 0.1, \"type\": \"scatter\", \"x\": [1, 2, 3, 4, 5, 6, 7, 8, 9, 10, 11, 12, 13, 14, 15], \"y\": [0.15888888488493172, 0.1570350498091669, 0.1385215980710525, 0.03060125659805944, 0.025377063618498424, 0.016768278617283583, 0.016009714719978346, 0.01563184786363288, 0.011178852411522389, 0.010577495187780209, 0.009155159531734056, 0.009155159531734056, 0.009155159531734056, 0.009155159531734056, 0.008835157226448426]}, {\"hovertext\": \"<b>Topic 39</b>:days_day work_work week_days week_\", \"line\": {\"color\": \"black\", \"width\": 1.5}, \"mode\": \"lines+lines\", \"name\": \"\", \"opacity\": 0.1, \"type\": \"scatter\", \"x\": [1, 2, 3, 4, 5, 6, 7, 8, 9, 10, 11, 12, 13, 14, 15], \"y\": [0.08423149524843591, 0.05700674867342975, 0.04664083341157078, 0.045288191174650785, 0.0337842177362721, 0.024702649731627706, 0.02409076460313391, 0.016823863764257464, 0.015884550957059995, 0.015423555275759738, 0.01528784079889401, 0.014111349684132975, 0.011930892344232641, 0.011930892344232641, 0.010799168375126898]}, {\"hovertext\": \"<b>Topic 40</b>:vacation_vacation time_paid time_t\", \"line\": {\"color\": \"black\", \"width\": 1.5}, \"mode\": \"lines+lines\", \"name\": \"\", \"opacity\": 0.1, \"type\": \"scatter\", \"x\": [1, 2, 3, 4, 5, 6, 7, 8, 9, 10, 11, 12, 13, 14, 15], \"y\": [0.10830159429882234, 0.045529682950671675, 0.04432743013640998, 0.03921119508979911, 0.032173608935893896, 0.023631169335480873, 0.022981149239924215, 0.022403074174364036, 0.019359128341635883, 0.017422593223689192, 0.015897132779600236, 0.014122526990813476, 0.012229168784574931, 0.010842287616489546, 0.010715487287501765]}, {\"hovertext\": \"<b>Topic 41</b>:good people_new people_lot fun_nic\", \"line\": {\"color\": \"black\", \"width\": 1.5}, \"mode\": \"lines+lines\", \"name\": \"\", \"opacity\": 0.1, \"type\": \"scatter\", \"x\": [1, 2, 3, 4, 5, 6, 7, 8, 9, 10, 11, 12, 13, 14, 15], \"y\": [0.03568552343334055, 0.027822768207931017, 0.027822768207931017, 0.02453326945143722, 0.0243426872528283, 0.0230164916402401, 0.022282113799344926, 0.020910711386715262, 0.020890359001745653, 0.02076542016254486, 0.01921157494936866, 0.014674517463274563, 0.01413316331464426, 0.013658815957888454, 0.013611172458282288]}, {\"hovertext\": \"<b>Topic 42</b>:nice campus_good campus_campus goo\", \"line\": {\"color\": \"black\", \"width\": 1.5}, \"mode\": \"lines+lines\", \"name\": \"\", \"opacity\": 0.1, \"type\": \"scatter\", \"x\": [1, 2, 3, 4, 5, 6, 7, 8, 9, 10, 11, 12, 13, 14, 15], \"y\": [0.03677275147706505, 0.03567660993972561, 0.03355848055630533, 0.031258846271068154, 0.02927124281981045, 0.017734800753127482, 0.01592171786748832, 0.013293547625742749, 0.010031524473240547, 0.009784110006670373, 0.009350761686534198, 0.009039133245070729, 0.008977511618907396, 0.008339081627417975, 0.008159615425103153]}, {\"hovertext\": \"<b>Topic 43</b>:people work_great people_work grea\", \"line\": {\"color\": \"black\", \"width\": 1.5}, \"mode\": \"lines+lines\", \"name\": \"\", \"opacity\": 0.1, \"type\": \"scatter\", \"x\": [1, 2, 3, 4, 5, 6, 7, 8, 9, 10, 11, 12, 13, 14, 15], \"y\": [0.12136630943399589, 0.07521349321540238, 0.06591711371208249, 0.0346993361287299, 0.0285862442801183, 0.025746547167596476, 0.021340289855915254, 0.02116202969081035, 0.018529113839826583, 0.01837678862863967, 0.016833954327156765, 0.016775235584710214, 0.01578500782925439, 0.015290952443128418, 0.013484249109530598]}, {\"hovertext\": \"<b>Topic 44</b>:bonuses_bonus_salary good_great sa\", \"line\": {\"color\": \"black\", \"width\": 1.5}, \"mode\": \"lines+lines\", \"name\": \"\", \"opacity\": 0.1, \"type\": \"scatter\", \"x\": [1, 2, 3, 4, 5, 6, 7, 8, 9, 10, 11, 12, 13, 14, 15], \"y\": [0.0516090253740201, 0.05034841705339064, 0.034636259341072874, 0.028340823172574713, 0.02799660242082285, 0.026844640490940697, 0.025152575827089515, 0.020430966646716744, 0.019745058195080704, 0.019720098387860773, 0.01852491752387208, 0.014835480158413107, 0.01363987482341371, 0.01359848241123599, 0.013328703395349036]}, {\"hovertext\": \"<b>Topic 45</b>:compensation_compensation benefits\", \"line\": {\"color\": \"black\", \"width\": 1.5}, \"mode\": \"lines+lines\", \"name\": \"\", \"opacity\": 0.1, \"type\": \"scatter\", \"x\": [1, 2, 3, 4, 5, 6, 7, 8, 9, 10, 11, 12, 13, 14, 15], \"y\": [0.1562756643153405, 0.048257186959200046, 0.04562786368742355, 0.04060598305271568, 0.03538322247851519, 0.034848963059628243, 0.03306291185921043, 0.03232598100844447, 0.02178958741521515, 0.020391354196885793, 0.015986936638781007, 0.014198106876186166, 0.013102698104707987, 0.009784408946260223, 0.00946540458412411]}, {\"hovertext\": \"<b>Topic 46</b>:none_nothing_none none_nothing not\", \"line\": {\"color\": \"black\", \"width\": 1.5}, \"mode\": \"lines+lines\", \"name\": \"\", \"opacity\": 0.1, \"type\": \"scatter\", \"x\": [1, 2, 3, 4, 5, 6, 7, 8, 9, 10, 11, 12, 13, 14, 15], \"y\": [0.2689137545503393, 0.1329243796273769, 0.08344931414120506, 0.045713993361595026, 0.045713993361595026, 0.04172465707060253, 0.035527288139693164, 0.035527288139693164, 0.029197775612527288, 0.028301490584707528, 0.024851664826293755, 0.024851664826293755, 0.024851664826293755, 0.024851664826293755, 0.024851664826293755]}, {\"hovertext\": \"<b>Topic 47</b>:smart people_smart_benefits smart_\", \"line\": {\"color\": \"black\", \"width\": 1.5}, \"mode\": \"lines+lines\", \"name\": \"\", \"opacity\": 0.1, \"type\": \"scatter\", \"x\": [1, 2, 3, 4, 5, 6, 7, 8, 9, 10, 11, 12, 13, 14, 15], \"y\": [0.06829199041640377, 0.05850282962977504, 0.036823712883799105, 0.03373242881813901, 0.025854229900564598, 0.020603681951587495, 0.019542895825646407, 0.018018916096912287, 0.01742942595428092, 0.015303943989129766, 0.014638394783086274, 0.0140057393187219, 0.011944625511711902, 0.010821194330357872, 0.009338984534482227]}, {\"hovertext\": \"<b>Topic 48</b>:engineers_engineering_engineering \", \"line\": {\"color\": \"black\", \"width\": 1.5}, \"mode\": \"lines+lines\", \"name\": \"\", \"opacity\": 0.1, \"type\": \"scatter\", \"x\": [1, 2, 3, 4, 5, 6, 7, 8, 9, 10, 11, 12, 13, 14, 15], \"y\": [0.09336473421318424, 0.0585556459042465, 0.01821604582102143, 0.0156683439624456, 0.015180038184184527, 0.015180038184184527, 0.014082486121383141, 0.013870714923659733, 0.013206029327146684, 0.01293594491220624, 0.011721495187177865, 0.009701958684154681, 0.009526490362703272, 0.009196521513456114, 0.007565443300163889]}, {\"hovertext\": \"<b>Topic 49</b>:cloud_aws_cloud services_cloud com\", \"line\": {\"color\": \"black\", \"width\": 1.5}, \"mode\": \"lines+lines\", \"name\": \"\", \"opacity\": 0.1, \"type\": \"scatter\", \"x\": [1, 2, 3, 4, 5, 6, 7, 8, 9, 10, 11, 12, 13, 14, 15], \"y\": [0.14900140316235205, 0.03238785278353815, 0.024925477108191575, 0.02315828012887555, 0.01818588151777136, 0.016425325035377258, 0.014223238683119163, 0.013140260028301808, 0.011373314259367457, 0.011373314259367457, 0.011373314259367457, 0.011373314259367457, 0.011373314259367457, 0.01097578030388365, 0.01097578030388365]}, {\"hovertext\": \"<b>Topic 50</b>:day one_benefits day_benefits star\", \"line\": {\"color\": \"black\", \"width\": 1.5}, \"mode\": \"lines+lines\", \"name\": \"\", \"opacity\": 0.1, \"type\": \"scatter\", \"x\": [1, 2, 3, 4, 5, 6, 7, 8, 9, 10, 11, 12, 13, 14, 15], \"y\": [0.10164659561955486, 0.08455492962614451, 0.08052369452502799, 0.0690908820673224, 0.05205088890485931, 0.04923466627249003, 0.039187027193773316, 0.030241170870787867, 0.01934754504002551, 0.015980228774139158, 0.015980228774139158, 0.015653407544823417, 0.015120585435393933, 0.01377219935754235, 0.013225565203544967]}, {\"hovertext\": \"<b>Topic 51</b>:atmosphere_good atmosphere_great a\", \"line\": {\"color\": \"black\", \"width\": 1.5}, \"mode\": \"lines+lines\", \"name\": \"\", \"opacity\": 0.1, \"type\": \"scatter\", \"x\": [1, 2, 3, 4, 5, 6, 7, 8, 9, 10, 11, 12, 13, 14, 15], \"y\": [0.18964755324695032, 0.08383164937242166, 0.05677673656205567, 0.04566556545642891, 0.04258827030922369, 0.026693471183644416, 0.02366924611588079, 0.021911081459110606, 0.0216463995340935, 0.01873942041949906, 0.01820011280745433, 0.01673931790637963, 0.01588480766800626, 0.014424012766931558, 0.012877186265181927]}, {\"hovertext\": \"<b>Topic 52</b>:dental_medical dental_dental visio\", \"line\": {\"color\": \"black\", \"width\": 1.5}, \"mode\": \"lines+lines\", \"name\": \"\", \"opacity\": 0.1, \"type\": \"scatter\", \"x\": [1, 2, 3, 4, 5, 6, 7, 8, 9, 10, 11, 12, 13, 14, 15], \"y\": [0.14174562786438977, 0.06911941690708412, 0.04492776560144559, 0.043168373567514795, 0.03663175228957575, 0.032171522714485354, 0.030239117095911806, 0.018390603739971135, 0.015507826490440583, 0.012289024775519033, 0.011693003166197667, 0.011661693509750857, 0.011347002189186037, 0.011216594893270536, 0.01058926362750236]}, {\"hovertext\": \"<b>Topic 53</b>:everything_good good_everything gr\", \"line\": {\"color\": \"black\", \"width\": 1.5}, \"mode\": \"lines+lines\", \"name\": \"\", \"opacity\": 0.1, \"type\": \"scatter\", \"x\": [1, 2, 3, 4, 5, 6, 7, 8, 9, 10, 11, 12, 13, 14, 15], \"y\": [0.1661359186405778, 0.12444723746750712, 0.09340137556224037, 0.06270225527508885, 0.045425962613763096, 0.03494899540988924, 0.03475718679292634, 0.032779884480946604, 0.029431870211883884, 0.029062395150356794, 0.025032329100687385, 0.0214540746865434, 0.021236982787199137, 0.020459622934947665, 0.019807007871968204]}, {\"hovertext\": \"<b>Topic 54</b>:seattle_seattle great_city_downtow\", \"line\": {\"color\": \"black\", \"width\": 1.5}, \"mode\": \"lines+lines\", \"name\": \"\", \"opacity\": 0.1, \"type\": \"scatter\", \"x\": [1, 2, 3, 4, 5, 6, 7, 8, 9, 10, 11, 12, 13, 14, 15], \"y\": [0.15134386864264254, 0.042290502133338986, 0.03375662374824696, 0.028037017477687883, 0.026222965739115037, 0.023808404486099145, 0.01777746952282652, 0.016901286908074277, 0.013042374953328629, 0.012376586598471215, 0.01212346561353319, 0.01212346561353319, 0.011904202243049573, 0.01123841388819216, 0.009453698442405123]}, {\"hovertext\": \"<b>Topic 55</b>:netflix_free netflix_work netflix_\", \"line\": {\"color\": \"black\", \"width\": 1.5}, \"mode\": \"lines+lines\", \"name\": \"\", \"opacity\": 0.1, \"type\": \"scatter\", \"x\": [1, 2, 3, 4, 5, 6, 7, 8, 9, 10, 11, 12, 13, 14, 15], \"y\": [0.10260475779582261, 0.0173720785660161, 0.012597705684011138, 0.008522480454032817, 0.007544774330105352, 0.0075205400923679, 0.007015064117091751, 0.0070004410557300495, 0.006817984363226253, 0.006620552216296999, 0.006602982958156182, 0.006096752282983778, 0.0058554956181917335, 0.005809398977998872, 0.005683076510954135]}, {\"hovertext\": \"<b>Topic 56</b>:intern_interns_internship_experien\", \"line\": {\"color\": \"black\", \"width\": 1.5}, \"mode\": \"lines+lines\", \"name\": \"\", \"opacity\": 0.1, \"type\": \"scatter\", \"x\": [1, 2, 3, 4, 5, 6, 7, 8, 9, 10, 11, 12, 13, 14, 15], \"y\": [0.10678006902664498, 0.08618424577374607, 0.058451183999447126, 0.022103544152506586, 0.016186130075452335, 0.012363569831262819, 0.012363569831262819, 0.012363569831262819, 0.012363569831262819, 0.012363569831262819, 0.012363569831262819, 0.011783090077349914, 0.011783090077349914, 0.011783090077349914, 0.011371233137547794]}, {\"hovertext\": \"<b>Topic 57</b>:mentors_mentoring_mentorship_great\", \"line\": {\"color\": \"black\", \"width\": 1.5}, \"mode\": \"lines+lines\", \"name\": \"\", \"opacity\": 0.1, \"type\": \"scatter\", \"x\": [1, 2, 3, 4, 5, 6, 7, 8, 9, 10, 11, 12, 13, 14, 15], \"y\": [0.07143312110690678, 0.06594086692630738, 0.03149354727207224, 0.01841272576963963, 0.017769141714937663, 0.017769141714937663, 0.012879871032270066, 0.012879871032270066, 0.012879871032270066, 0.012879871032270066, 0.012879871032270066, 0.012879871032270066, 0.012879871032270066, 0.012879871032270066, 0.011241373957448128]}, {\"hovertext\": \"<b>Topic 58</b>:environment career_environment_wor\", \"line\": {\"color\": \"black\", \"width\": 1.5}, \"mode\": \"lines+lines\", \"name\": \"\", \"opacity\": 0.1, \"type\": \"scatter\", \"x\": [1, 2, 3, 4, 5, 6, 7, 8, 9, 10, 11, 12, 13, 14, 15], \"y\": [0.05051065725394114, 0.0483960905984015, 0.044527255702319406, 0.041090372577606366, 0.030990420610877877, 0.027510116061075805, 0.026804481337207534, 0.02418458700201187, 0.01698049036525714, 0.016457671286794016, 0.015024373932358835, 0.014711315334805219, 0.013326144409025534, 0.012533811077736202, 0.011963573404778455]}, {\"hovertext\": \"<b>Topic 59</b>:vision_vision company_term vision_\", \"line\": {\"color\": \"black\", \"width\": 1.5}, \"mode\": \"lines+lines\", \"name\": \"\", \"opacity\": 0.1, \"type\": \"scatter\", \"x\": [1, 2, 3, 4, 5, 6, 7, 8, 9, 10, 11, 12, 13, 14, 15], \"y\": [0.1843137080870266, 0.06328363686112129, 0.04848854014505727, 0.03650074601450911, 0.03270821533050908, 0.02063549229901333, 0.02063549229901333, 0.020216307639665428, 0.019666638994095376, 0.018010373329674957, 0.017041520024757003, 0.016603643760234262, 0.016562020155074443, 0.01635410766525454, 0.013537727745680713]}, {\"hovertext\": \"<b>Topic 60</b>:resume_good resume_looks good_resu\", \"line\": {\"color\": \"black\", \"width\": 1.5}, \"mode\": \"lines+lines\", \"name\": \"\", \"opacity\": 0.1, \"type\": \"scatter\", \"x\": [1, 2, 3, 4, 5, 6, 7, 8, 9, 10, 11, 12, 13, 14, 15], \"y\": [0.22626869976503244, 0.191529168749916, 0.13473158903149254, 0.06517340428120773, 0.06184565147879958, 0.044665725857593895, 0.03357356480928817, 0.022332862928796948, 0.018917516232683215, 0.01848313556841099, 0.015311788789408374, 0.014670320833183675, 0.013820889937328926, 0.013820889937328926, 0.013820889937328926]}, {\"hovertext\": \"<b>Topic 61</b>:satya_satya nadella_satya leadersh\", \"line\": {\"color\": \"black\", \"width\": 1.5}, \"mode\": \"lines+lines\", \"name\": \"\", \"opacity\": 0.1, \"type\": \"scatter\", \"x\": [1, 2, 3, 4, 5, 6, 7, 8, 9, 10, 11, 12, 13, 14, 15], \"y\": [0.1455232296323935, 0.03870410019999139, 0.037864210394858246, 0.025112283260778443, 0.01385923624447952, 0.013296310280426604, 0.013296310280426604, 0.013296310280426604, 0.013296310280426604, 0.012541812854867343, 0.0122291090786407, 0.01188554702888826, 0.01188554702888826, 0.01188554702888826, 0.010980563711102087]}, {\"hovertext\": \"<b>Topic 62</b>:talent_talented people_best talent\", \"line\": {\"color\": \"black\", \"width\": 1.5}, \"mode\": \"lines+lines\", \"name\": \"\", \"opacity\": 0.1, \"type\": \"scatter\", \"x\": [1, 2, 3, 4, 5, 6, 7, 8, 9, 10, 11, 12, 13, 14, 15], \"y\": [0.14881220444591134, 0.08073668726206612, 0.06614484004326929, 0.0558632595067426, 0.05503798131621133, 0.04922646164470184, 0.04509636306598997, 0.042979051796495644, 0.038554519888468475, 0.03493495236596223, 0.03334027012287512, 0.024357965294248107, 0.024357965294248107, 0.024357965294248107, 0.024357965294248107]}, {\"hovertext\": \"<b>Topic 63</b>:diversity_diversity work_work dive\", \"line\": {\"color\": \"black\", \"width\": 1.5}, \"mode\": \"lines+lines\", \"name\": \"\", \"opacity\": 0.1, \"type\": \"scatter\", \"x\": [1, 2, 3, 4, 5, 6, 7, 8, 9, 10, 11, 12, 13, 14, 15], \"y\": [0.18129101400170602, 0.07578676317861457, 0.05585253594774414, 0.043663523282962316, 0.03568411153434326, 0.026613107941870814, 0.021978046626689694, 0.0206164664963999, 0.02043107831647948, 0.016344372933626738, 0.01623623327319139, 0.015874655094602442, 0.014374577361628699, 0.014374577361628699, 0.014374577361628699]}, {\"hovertext\": \"<b>Topic 64</b>:smart people_company smart_people \", \"line\": {\"color\": \"black\", \"width\": 1.5}, \"mode\": \"lines+lines\", \"name\": \"\", \"opacity\": 0.1, \"type\": \"scatter\", \"x\": [1, 2, 3, 4, 5, 6, 7, 8, 9, 10, 11, 12, 13, 14, 15], \"y\": [0.04047479162324796, 0.0306788132104549, 0.027308427022691817, 0.020676035874859198, 0.019274125955891667, 0.016908870404766872, 0.016407359819899946, 0.016359029901615446, 0.015190496863642475, 0.015158078916813615, 0.011785145746607363, 0.011635571077818376, 0.011432829500172825, 0.01094861971986927, 0.010738436957876664]}, {\"hovertext\": \"<b>Topic 65</b>:solve_problems_problems solve_inte\", \"line\": {\"color\": \"black\", \"width\": 1.5}, \"mode\": \"lines+lines\", \"name\": \"\", \"opacity\": 0.1, \"type\": \"scatter\", \"x\": [1, 2, 3, 4, 5, 6, 7, 8, 9, 10, 11, 12, 13, 14, 15], \"y\": [0.14178680420737344, 0.13271067086701163, 0.09405502391442998, 0.03423074729090941, 0.02913453185620582, 0.02499481947563587, 0.024022123858517607, 0.022094037125388412, 0.021473331836614533, 0.02069396184379696, 0.018815441864354628, 0.018237863659130025, 0.017481441641094858, 0.014607964572437569, 0.0129751052958234]}, {\"hovertext\": \"<b>Topic 66</b>:shift_shifts_night shift_hour shif\", \"line\": {\"color\": \"black\", \"width\": 1.5}, \"mode\": \"lines+lines\", \"name\": \"\", \"opacity\": 0.1, \"type\": \"scatter\", \"x\": [1, 2, 3, 4, 5, 6, 7, 8, 9, 10, 11, 12, 13, 14, 15], \"y\": [0.09107435909841015, 0.08240061061284727, 0.03864532069538689, 0.026968498219061197, 0.02425024961862699, 0.023677511743881583, 0.02082677227647093, 0.01808576654897818, 0.0172366249613171, 0.01663414941691547, 0.01616683307908466, 0.01578500782925439, 0.015462179180401494, 0.014611346807638231, 0.01401056204833878]}, {\"hovertext\": \"<b>Topic 67</b>:warehouse_warehouse work_warehouse\", \"line\": {\"color\": \"black\", \"width\": 1.5}, \"mode\": \"lines+lines\", \"name\": \"\", \"opacity\": 0.1, \"type\": \"scatter\", \"x\": [1, 2, 3, 4, 5, 6, 7, 8, 9, 10, 11, 12, 13, 14, 15], \"y\": [0.2143213703823207, 0.046781062681111714, 0.045567204113908286, 0.041116712624569514, 0.032878116187865174, 0.030837534468427134, 0.02806863760866703, 0.022998544679459602, 0.022998544679459602, 0.022998544679459602, 0.022998544679459602, 0.021152613439619536, 0.016067280537131017, 0.014031045798004278, 0.013762260230160658]}],                        {\"height\": 500, \"hoverlabel\": {\"bgcolor\": \"white\", \"font\": {\"family\": \"Rockwell\", \"size\": 16}}, \"showlegend\": false, \"template\": {\"data\": {\"bar\": [{\"error_x\": {\"color\": \"#2a3f5f\"}, \"error_y\": {\"color\": \"#2a3f5f\"}, \"marker\": {\"line\": {\"color\": \"white\", \"width\": 0.5}}, \"type\": \"bar\"}], \"barpolar\": [{\"marker\": {\"line\": {\"color\": \"white\", \"width\": 0.5}}, \"type\": \"barpolar\"}], \"carpet\": [{\"aaxis\": {\"endlinecolor\": \"#2a3f5f\", \"gridcolor\": \"#C8D4E3\", \"linecolor\": \"#C8D4E3\", \"minorgridcolor\": \"#C8D4E3\", \"startlinecolor\": \"#2a3f5f\"}, \"baxis\": {\"endlinecolor\": \"#2a3f5f\", \"gridcolor\": \"#C8D4E3\", \"linecolor\": \"#C8D4E3\", \"minorgridcolor\": \"#C8D4E3\", \"startlinecolor\": \"#2a3f5f\"}, \"type\": \"carpet\"}], \"choropleth\": [{\"colorbar\": {\"outlinewidth\": 0, \"ticks\": \"\"}, \"type\": \"choropleth\"}], \"contour\": [{\"colorbar\": {\"outlinewidth\": 0, \"ticks\": \"\"}, \"colorscale\": [[0.0, \"#0d0887\"], [0.1111111111111111, \"#46039f\"], [0.2222222222222222, \"#7201a8\"], [0.3333333333333333, \"#9c179e\"], [0.4444444444444444, \"#bd3786\"], [0.5555555555555556, \"#d8576b\"], [0.6666666666666666, \"#ed7953\"], [0.7777777777777778, \"#fb9f3a\"], [0.8888888888888888, \"#fdca26\"], [1.0, \"#f0f921\"]], \"type\": \"contour\"}], \"contourcarpet\": [{\"colorbar\": {\"outlinewidth\": 0, \"ticks\": \"\"}, \"type\": \"contourcarpet\"}], \"heatmap\": [{\"colorbar\": {\"outlinewidth\": 0, \"ticks\": \"\"}, \"colorscale\": [[0.0, \"#0d0887\"], [0.1111111111111111, \"#46039f\"], [0.2222222222222222, \"#7201a8\"], [0.3333333333333333, \"#9c179e\"], [0.4444444444444444, \"#bd3786\"], [0.5555555555555556, \"#d8576b\"], [0.6666666666666666, \"#ed7953\"], [0.7777777777777778, \"#fb9f3a\"], [0.8888888888888888, \"#fdca26\"], [1.0, \"#f0f921\"]], \"type\": \"heatmap\"}], \"heatmapgl\": [{\"colorbar\": {\"outlinewidth\": 0, \"ticks\": \"\"}, \"colorscale\": [[0.0, \"#0d0887\"], [0.1111111111111111, \"#46039f\"], [0.2222222222222222, \"#7201a8\"], [0.3333333333333333, \"#9c179e\"], [0.4444444444444444, \"#bd3786\"], [0.5555555555555556, \"#d8576b\"], [0.6666666666666666, \"#ed7953\"], [0.7777777777777778, \"#fb9f3a\"], [0.8888888888888888, \"#fdca26\"], [1.0, \"#f0f921\"]], \"type\": \"heatmapgl\"}], \"histogram\": [{\"marker\": {\"colorbar\": {\"outlinewidth\": 0, \"ticks\": \"\"}}, \"type\": \"histogram\"}], \"histogram2d\": [{\"colorbar\": {\"outlinewidth\": 0, \"ticks\": \"\"}, \"colorscale\": [[0.0, \"#0d0887\"], [0.1111111111111111, \"#46039f\"], [0.2222222222222222, \"#7201a8\"], [0.3333333333333333, \"#9c179e\"], [0.4444444444444444, \"#bd3786\"], [0.5555555555555556, \"#d8576b\"], [0.6666666666666666, \"#ed7953\"], [0.7777777777777778, \"#fb9f3a\"], [0.8888888888888888, \"#fdca26\"], [1.0, \"#f0f921\"]], \"type\": \"histogram2d\"}], \"histogram2dcontour\": [{\"colorbar\": {\"outlinewidth\": 0, \"ticks\": \"\"}, \"colorscale\": [[0.0, \"#0d0887\"], [0.1111111111111111, \"#46039f\"], [0.2222222222222222, \"#7201a8\"], [0.3333333333333333, \"#9c179e\"], [0.4444444444444444, \"#bd3786\"], [0.5555555555555556, \"#d8576b\"], [0.6666666666666666, \"#ed7953\"], [0.7777777777777778, \"#fb9f3a\"], [0.8888888888888888, \"#fdca26\"], [1.0, \"#f0f921\"]], \"type\": \"histogram2dcontour\"}], \"mesh3d\": [{\"colorbar\": {\"outlinewidth\": 0, \"ticks\": \"\"}, \"type\": \"mesh3d\"}], \"parcoords\": [{\"line\": {\"colorbar\": {\"outlinewidth\": 0, \"ticks\": \"\"}}, \"type\": \"parcoords\"}], \"pie\": [{\"automargin\": true, \"type\": \"pie\"}], \"scatter\": [{\"marker\": {\"colorbar\": {\"outlinewidth\": 0, \"ticks\": \"\"}}, \"type\": \"scatter\"}], \"scatter3d\": [{\"line\": {\"colorbar\": {\"outlinewidth\": 0, \"ticks\": \"\"}}, \"marker\": {\"colorbar\": {\"outlinewidth\": 0, \"ticks\": \"\"}}, \"type\": \"scatter3d\"}], \"scattercarpet\": [{\"marker\": {\"colorbar\": {\"outlinewidth\": 0, \"ticks\": \"\"}}, \"type\": \"scattercarpet\"}], \"scattergeo\": [{\"marker\": {\"colorbar\": {\"outlinewidth\": 0, \"ticks\": \"\"}}, \"type\": \"scattergeo\"}], \"scattergl\": [{\"marker\": {\"colorbar\": {\"outlinewidth\": 0, \"ticks\": \"\"}}, \"type\": \"scattergl\"}], \"scattermapbox\": [{\"marker\": {\"colorbar\": {\"outlinewidth\": 0, \"ticks\": \"\"}}, \"type\": \"scattermapbox\"}], \"scatterpolar\": [{\"marker\": {\"colorbar\": {\"outlinewidth\": 0, \"ticks\": \"\"}}, \"type\": \"scatterpolar\"}], \"scatterpolargl\": [{\"marker\": {\"colorbar\": {\"outlinewidth\": 0, \"ticks\": \"\"}}, \"type\": \"scatterpolargl\"}], \"scatterternary\": [{\"marker\": {\"colorbar\": {\"outlinewidth\": 0, \"ticks\": \"\"}}, \"type\": \"scatterternary\"}], \"surface\": [{\"colorbar\": {\"outlinewidth\": 0, \"ticks\": \"\"}, \"colorscale\": [[0.0, \"#0d0887\"], [0.1111111111111111, \"#46039f\"], [0.2222222222222222, \"#7201a8\"], [0.3333333333333333, \"#9c179e\"], [0.4444444444444444, \"#bd3786\"], [0.5555555555555556, \"#d8576b\"], [0.6666666666666666, \"#ed7953\"], [0.7777777777777778, \"#fb9f3a\"], [0.8888888888888888, \"#fdca26\"], [1.0, \"#f0f921\"]], \"type\": \"surface\"}], \"table\": [{\"cells\": {\"fill\": {\"color\": \"#EBF0F8\"}, \"line\": {\"color\": \"white\"}}, \"header\": {\"fill\": {\"color\": \"#C8D4E3\"}, \"line\": {\"color\": \"white\"}}, \"type\": \"table\"}]}, \"layout\": {\"annotationdefaults\": {\"arrowcolor\": \"#2a3f5f\", \"arrowhead\": 0, \"arrowwidth\": 1}, \"autotypenumbers\": \"strict\", \"coloraxis\": {\"colorbar\": {\"outlinewidth\": 0, \"ticks\": \"\"}}, \"colorscale\": {\"diverging\": [[0, \"#8e0152\"], [0.1, \"#c51b7d\"], [0.2, \"#de77ae\"], [0.3, \"#f1b6da\"], [0.4, \"#fde0ef\"], [0.5, \"#f7f7f7\"], [0.6, \"#e6f5d0\"], [0.7, \"#b8e186\"], [0.8, \"#7fbc41\"], [0.9, \"#4d9221\"], [1, \"#276419\"]], \"sequential\": [[0.0, \"#0d0887\"], [0.1111111111111111, \"#46039f\"], [0.2222222222222222, \"#7201a8\"], [0.3333333333333333, \"#9c179e\"], [0.4444444444444444, \"#bd3786\"], [0.5555555555555556, \"#d8576b\"], [0.6666666666666666, \"#ed7953\"], [0.7777777777777778, \"#fb9f3a\"], [0.8888888888888888, \"#fdca26\"], [1.0, \"#f0f921\"]], \"sequentialminus\": [[0.0, \"#0d0887\"], [0.1111111111111111, \"#46039f\"], [0.2222222222222222, \"#7201a8\"], [0.3333333333333333, \"#9c179e\"], [0.4444444444444444, \"#bd3786\"], [0.5555555555555556, \"#d8576b\"], [0.6666666666666666, \"#ed7953\"], [0.7777777777777778, \"#fb9f3a\"], [0.8888888888888888, \"#fdca26\"], [1.0, \"#f0f921\"]]}, \"colorway\": [\"#636efa\", \"#EF553B\", \"#00cc96\", \"#ab63fa\", \"#FFA15A\", \"#19d3f3\", \"#FF6692\", \"#B6E880\", \"#FF97FF\", \"#FECB52\"], \"font\": {\"color\": \"#2a3f5f\"}, \"geo\": {\"bgcolor\": \"white\", \"lakecolor\": \"white\", \"landcolor\": \"white\", \"showlakes\": true, \"showland\": true, \"subunitcolor\": \"#C8D4E3\"}, \"hoverlabel\": {\"align\": \"left\"}, \"hovermode\": \"closest\", \"mapbox\": {\"style\": \"light\"}, \"paper_bgcolor\": \"white\", \"plot_bgcolor\": \"white\", \"polar\": {\"angularaxis\": {\"gridcolor\": \"#EBF0F8\", \"linecolor\": \"#EBF0F8\", \"ticks\": \"\"}, \"bgcolor\": \"white\", \"radialaxis\": {\"gridcolor\": \"#EBF0F8\", \"linecolor\": \"#EBF0F8\", \"ticks\": \"\"}}, \"scene\": {\"xaxis\": {\"backgroundcolor\": \"white\", \"gridcolor\": \"#DFE8F3\", \"gridwidth\": 2, \"linecolor\": \"#EBF0F8\", \"showbackground\": true, \"ticks\": \"\", \"zerolinecolor\": \"#EBF0F8\"}, \"yaxis\": {\"backgroundcolor\": \"white\", \"gridcolor\": \"#DFE8F3\", \"gridwidth\": 2, \"linecolor\": \"#EBF0F8\", \"showbackground\": true, \"ticks\": \"\", \"zerolinecolor\": \"#EBF0F8\"}, \"zaxis\": {\"backgroundcolor\": \"white\", \"gridcolor\": \"#DFE8F3\", \"gridwidth\": 2, \"linecolor\": \"#EBF0F8\", \"showbackground\": true, \"ticks\": \"\", \"zerolinecolor\": \"#EBF0F8\"}}, \"shapedefaults\": {\"line\": {\"color\": \"#2a3f5f\"}}, \"ternary\": {\"aaxis\": {\"gridcolor\": \"#DFE8F3\", \"linecolor\": \"#A2B1C6\", \"ticks\": \"\"}, \"baxis\": {\"gridcolor\": \"#DFE8F3\", \"linecolor\": \"#A2B1C6\", \"ticks\": \"\"}, \"bgcolor\": \"white\", \"caxis\": {\"gridcolor\": \"#DFE8F3\", \"linecolor\": \"#A2B1C6\", \"ticks\": \"\"}}, \"title\": {\"x\": 0.05}, \"xaxis\": {\"automargin\": true, \"gridcolor\": \"#EBF0F8\", \"linecolor\": \"#EBF0F8\", \"ticks\": \"\", \"title\": {\"standoff\": 15}, \"zerolinecolor\": \"#EBF0F8\", \"zerolinewidth\": 2}, \"yaxis\": {\"automargin\": true, \"gridcolor\": \"#EBF0F8\", \"linecolor\": \"#EBF0F8\", \"ticks\": \"\", \"title\": {\"standoff\": 15}, \"zerolinecolor\": \"#EBF0F8\", \"zerolinewidth\": 2}}}, \"title\": {\"font\": {\"color\": \"Black\", \"size\": 22}, \"text\": \"<b>Term score decline per Topic</b>\", \"x\": 0.5, \"xanchor\": \"center\", \"y\": 0.9, \"yanchor\": \"top\"}, \"width\": 800, \"xaxis\": {\"dtick\": 2, \"range\": [0, 15], \"tick0\": 1, \"title\": {\"text\": \"Term Rank\"}}, \"yaxis\": {\"title\": {\"text\": \"c-TF-IDF score\"}}},                        {\"responsive\": true}                    ).then(function(){\n",
              "                            \n",
              "var gd = document.getElementById('fbf77eb0-c196-42a7-9bc0-451591c47c8c');\n",
              "var x = new MutationObserver(function (mutations, observer) {{\n",
              "        var display = window.getComputedStyle(gd).display;\n",
              "        if (!display || display === 'none') {{\n",
              "            console.log([gd, 'removed!']);\n",
              "            Plotly.purge(gd);\n",
              "            observer.disconnect();\n",
              "        }}\n",
              "}});\n",
              "\n",
              "// Listen for the removal of the full notebook cells\n",
              "var notebookContainer = gd.closest('#notebook-container');\n",
              "if (notebookContainer) {{\n",
              "    x.observe(notebookContainer, {childList: true});\n",
              "}}\n",
              "\n",
              "// Listen for the clearing of the current output cell\n",
              "var outputEl = gd.closest('.output');\n",
              "if (outputEl) {{\n",
              "    x.observe(outputEl, {childList: true});\n",
              "}}\n",
              "\n",
              "                        })                };                            </script>        </div>\n",
              "</body>\n",
              "</html>"
            ]
          },
          "metadata": {
            "tags": []
          }
        }
      ]
    },
    {
      "cell_type": "markdown",
      "metadata": {
        "id": "D48ienfZrfP0"
      },
      "source": [
        "# **Topic Representation**\n",
        "After having created the topic model, you might not be satisfied with some of the parameters you have chosen. Fortunately, BERTopic allows you to update the topics after they have been created. \n",
        "\n",
        "This allows for fine-tuning the model to your specifications and wishes. "
      ]
    },
    {
      "cell_type": "markdown",
      "metadata": {
        "id": "c4m3UMsw-Zxk"
      },
      "source": [
        "## Update Topics\n",
        "When you have trained a model and viewed the topics and the words that represent them,\n",
        "you might not be satisfied with the representation. Perhaps you forgot to remove\n",
        "stopwords or you want to try out a different `n_gram_range`. We can use the function `update_topics` to update \n",
        "the topic representation with new parameters for `c-TF-IDF`: \n"
      ]
    },
    {
      "cell_type": "code",
      "metadata": {
        "id": "KWm7B-FJ-iYW"
      },
      "source": [
        "topic_model.update_topics(pos_docs_clean, topics, n_gram_range=(1, 3))"
      ],
      "execution_count": 25,
      "outputs": []
    },
    {
      "cell_type": "code",
      "metadata": {
        "colab": {
          "base_uri": "https://localhost:8080/"
        },
        "id": "wf31gQavdtfG",
        "outputId": "42bc45e7-433f-488a-da6b-e737436cb043"
      },
      "source": [
        "topic_model.get_topic(0) #The most frequent topic is about Amazon"
      ],
      "execution_count": 26,
      "outputs": [
        {
          "output_type": "execute_result",
          "data": {
            "text/plain": [
              "[('amazon', 0.020718999347162665),\n",
              " ('apple', 0.016684284141934645),\n",
              " ('working', 0.005419892553384345),\n",
              " ('company', 0.004575293245689572),\n",
              " ('employees', 0.004438056600403737),\n",
              " ('customer', 0.003892189203172921),\n",
              " ('job', 0.00375597692786629),\n",
              " ('make', 0.0037087119856386093),\n",
              " ('retail', 0.0035621107871997636),\n",
              " ('always', 0.003499894287425272),\n",
              " ('lot', 0.003482448111654291),\n",
              " ('experience', 0.0033820754649375503),\n",
              " ('working apple', 0.0033070550049802386),\n",
              " ('customers', 0.003293725979774991),\n",
              " ('well', 0.003112837626149108)]"
            ]
          },
          "metadata": {
            "tags": []
          },
          "execution_count": 26
        }
      ]
    },
    {
      "cell_type": "code",
      "metadata": {
        "colab": {
          "base_uri": "https://localhost:8080/"
        },
        "id": "yEChXbMkd90M",
        "outputId": "6c7d2d2b-99e3-4b58-e1de-f025222563a3"
      },
      "source": [
        "topic_model.get_topic(1) #The second most frequent topic is seems to be about team and teamwork"
      ],
      "execution_count": 27,
      "outputs": [
        {
          "output_type": "execute_result",
          "data": {
            "text/plain": [
              "[('team', 0.037632281605950994),\n",
              " ('teams', 0.02672178253878484),\n",
              " ('great team', 0.014782503837503383),\n",
              " ('team work', 0.007743087508673815),\n",
              " ('team great', 0.007725993568612873),\n",
              " ('good team', 0.006869503202239288),\n",
              " ('teammates', 0.005929157689289428),\n",
              " ('members', 0.005837492113478688),\n",
              " ('team members', 0.005550627313082832),\n",
              " ('projects', 0.005246344241947346),\n",
              " ('good', 0.005208186921490718),\n",
              " ('teamwork', 0.004980492459003119),\n",
              " ('team environment', 0.004743027606672083),\n",
              " ('team good', 0.004528158957700133),\n",
              " ('teams good', 0.00408942187767159)]"
            ]
          },
          "metadata": {
            "tags": []
          },
          "execution_count": 27
        }
      ]
    },
    {
      "cell_type": "markdown",
      "metadata": {
        "id": "9antKpdC91A-"
      },
      "source": [
        "## Topic Reduction\n",
        "We can also reduce the number of topics after having trained a BERTopic model. The advantage of doing so, \n",
        "is that you can decide the number of topics after knowing how many are actually created. It is difficult to \n",
        "predict before training your model how many topics that are in your documents and how many will be extracted. \n",
        "Instead, we can decide afterwards how many topics seems realistic:\n",
        "\n",
        "\n",
        "\n"
      ]
    },
    {
      "cell_type": "code",
      "metadata": {
        "id": "5m4Nd7Us-Peg",
        "colab": {
          "base_uri": "https://localhost:8080/"
        },
        "outputId": "c5e4166d-756a-4022-8230-62505482b732"
      },
      "source": [
        "new_topics, new_probs = topic_model.reduce_topics(pos_docs_clean, topics, probs, nr_topics=30)"
      ],
      "execution_count": 28,
      "outputs": [
        {
          "output_type": "stream",
          "text": [
            "2021-08-02 02:34:33,137 - BERTopic - Reduced number of topics from 69 to 31\n"
          ],
          "name": "stderr"
        }
      ]
    },
    {
      "cell_type": "code",
      "metadata": {
        "colab": {
          "base_uri": "https://localhost:8080/",
          "height": 667
        },
        "id": "vbhY90zKepia",
        "outputId": "964d13c5-c938-40fa-aa81-ab883f92f182"
      },
      "source": [
        "topic_model.visualize_topics()"
      ],
      "execution_count": 29,
      "outputs": [
        {
          "output_type": "display_data",
          "data": {
            "text/html": [
              "<html>\n",
              "<head><meta charset=\"utf-8\" /></head>\n",
              "<body>\n",
              "    <div>            <script src=\"https://cdnjs.cloudflare.com/ajax/libs/mathjax/2.7.5/MathJax.js?config=TeX-AMS-MML_SVG\"></script><script type=\"text/javascript\">if (window.MathJax) {MathJax.Hub.Config({SVG: {font: \"STIX-Web\"}});}</script>                <script type=\"text/javascript\">window.PlotlyConfig = {MathJaxConfig: 'local'};</script>\n",
              "        <script src=\"https://cdn.plot.ly/plotly-latest.min.js\"></script>                <div id=\"aa6ec298-9513-453a-aa69-8e004786dd57\" class=\"plotly-graph-div\" style=\"height:650px; width:650px;\"></div>            <script type=\"text/javascript\">                                    window.PLOTLYENV=window.PLOTLYENV || {};                                    if (document.getElementById(\"aa6ec298-9513-453a-aa69-8e004786dd57\")) {                    Plotly.newPlot(                        \"aa6ec298-9513-453a-aa69-8e004786dd57\",                        [{\"customdata\": [[14.70154857635498, 3.2196245193481445, 0, \"amazon | apple | work | company | working\", 2454], [-5.19535493850708, 23.39222526550293, 1, \"learn | technology | learning | smart | technologies\", 1260], [1.296293020248413, 10.335040092468262, 2, \"team | teams | great team | team work | environment\", 1202], [1.3577296733856201, 10.395448684692383, 3, \"microsoft | software | company | work | benefits\", 1168], [1.9569448232650757, 10.995833396911621, 4, \"company work | great company | good company | great company work | company great\", 975], [-9.146021842956543, -13.953365325927734, 5, \"food | free food | gym | perks | lunch\", 888], [4.334859848022461, -9.58596134185791, 6, \"overtime | hours | day | days | benefits\", 801], [-9.753533363342285, -13.820045471191406, 7, \"environment | work environment | work | working environment | environment good\", 752], [-9.548321723937988, -13.21878719329834, 8, \"life balance | work life | work life balance | worklife balance | life balance good\", 675], [1.8562910556793213, 10.896167755126953, 9, \"customer | retail | customers | pay retail | pay\", 649], [1.703055739402771, 10.743145942687988, 10, \"leadership | leadership principles | freedom | company | ownership\", 623], [-9.187457084655762, -13.35754108428955, 11, \"benefits | good | great benefits | good benefits | nice\", 608], [4.559720039367676, -9.361185073852539, 12, \"pay | good pay | good | pay good | paid time\", 501], [1.061374306678772, 10.100507736206055, 13, \"google | facebook | people | company | work\", 474], [-4.652085781097412, 23.934900283813477, 14, \"place work | place | great place | great place work | work great place\", 467], [-9.680660247802734, 5.942999839782715, 15, \"career | opportunities | growth | opportunity | career opportunities\", 449], [-9.411765098571777, -13.546344757080078, 16, \"coworkers | great coworkers | great | workers | co workers\", 431], [-0.574211061000824, 4.745752334594727, 17, \"insurance | benefits | dental | health insurance | care employees\", 402], [-10.856892585754395, -12.715316772460938, 18, \"good | good benefits | pay benefits | great benefits | benefits good\", 380], [-0.5743101835250854, 4.745488166809082, 19, \"stock | stock options | options | stocks | benefits\", 360], [-5.044643402099609, 23.543004989624023, 20, \"smart | smart people | work smart | work smart people | people smart\", 299], [-4.452027797698975, 24.134559631347656, 21, \"de | et | und | les | la\", 287], [-11.221037864685059, -12.611085891723633, 22, \"great training | training great | mentors | benefits | mentoring\", 246], [4.772912502288818, -9.147879600524902, 23, \"intern | easy job | easy get | interns | easy work\", 241], [-4.943661689758301, 23.643861770629883, 24, \"projects | interesting projects | smart | smart people | projects work\", 237], [-11.44921588897705, -11.874981880187988, 25, \"good salary | good | salary good | good salary good | good pay\", 225], [-9.680834770202637, 5.9429426193237305, 26, \"company | growing | growth | growing company | opportunity growth\", 221], [-11.559420585632324, -11.745623588562012, 27, \"work culture | great culture | culture great | culture good | good culture\", 219], [-8.624438285827637, -13.847639083862305, 28, \"home | work home | working home | work | home great\", 202], [-8.785294532775879, -13.650030136108398, 29, \"discounts | discount | benefits | great | great discounts\", 198]], \"hovertemplate\": \"<b>Topic %{customdata[2]}</b><br>Words: %{customdata[3]}<br>Size: %{customdata[4]}\", \"legendgroup\": \"\", \"marker\": {\"color\": \"#B0BEC5\", \"line\": {\"color\": \"DarkSlateGrey\", \"width\": 2}, \"size\": [2454, 1260, 1202, 1168, 975, 888, 801, 752, 675, 649, 623, 608, 501, 474, 467, 449, 431, 402, 380, 360, 299, 287, 246, 241, 237, 225, 221, 219, 202, 198], \"sizemode\": \"area\", \"sizeref\": 1.53375, \"symbol\": \"circle\"}, \"mode\": \"markers\", \"name\": \"\", \"orientation\": \"v\", \"showlegend\": false, \"type\": \"scatter\", \"x\": [14.70154857635498, -5.19535493850708, 1.296293020248413, 1.3577296733856201, 1.9569448232650757, -9.146021842956543, 4.334859848022461, -9.753533363342285, -9.548321723937988, 1.8562910556793213, 1.703055739402771, -9.187457084655762, 4.559720039367676, 1.061374306678772, -4.652085781097412, -9.680660247802734, -9.411765098571777, -0.574211061000824, -10.856892585754395, -0.5743101835250854, -5.044643402099609, -4.452027797698975, -11.221037864685059, 4.772912502288818, -4.943661689758301, -11.44921588897705, -9.680834770202637, -11.559420585632324, -8.624438285827637, -8.785294532775879], \"xaxis\": \"x\", \"y\": [3.2196245193481445, 23.39222526550293, 10.335040092468262, 10.395448684692383, 10.995833396911621, -13.953365325927734, -9.58596134185791, -13.820045471191406, -13.21878719329834, 10.896167755126953, 10.743145942687988, -13.35754108428955, -9.361185073852539, 10.100507736206055, 23.934900283813477, 5.942999839782715, -13.546344757080078, 4.745752334594727, -12.715316772460938, 4.745488166809082, 23.543004989624023, 24.134559631347656, -12.611085891723633, -9.147879600524902, 23.643861770629883, -11.874981880187988, 5.9429426193237305, -11.745623588562012, -13.847639083862305, -13.650030136108398], \"yaxis\": \"y\"}],                        {\"annotations\": [{\"showarrow\": false, \"text\": \"D1\", \"x\": -13.293333673477173, \"y\": 5.854186725616454, \"yshift\": 10}, {\"showarrow\": false, \"text\": \"D2\", \"x\": 1.8067235946655265, \"xshift\": 10, \"y\": 27.754743576049805}], \"height\": 650, \"hoverlabel\": {\"bgcolor\": \"white\", \"font\": {\"family\": \"Rockwell\", \"size\": 16}}, \"legend\": {\"itemsizing\": \"constant\", \"tracegroupgap\": 0}, \"margin\": {\"t\": 60}, \"shapes\": [{\"line\": {\"color\": \"#CFD8DC\", \"width\": 2}, \"type\": \"line\", \"x0\": 1.8067235946655265, \"x1\": 1.8067235946655265, \"y0\": -16.046370124816896, \"y1\": 27.754743576049805}, {\"line\": {\"color\": \"#9E9E9E\", \"width\": 2}, \"type\": \"line\", \"x0\": -13.293333673477173, \"x1\": 16.906780862808226, \"y0\": 5.854186725616454, \"y1\": 5.854186725616454}], \"sliders\": [{\"active\": 0, \"pad\": {\"t\": 50}, \"steps\": [{\"args\": [{\"marker.color\": [[\"red\", \"#B0BEC5\", \"#B0BEC5\", \"#B0BEC5\", \"#B0BEC5\", \"#B0BEC5\", \"#B0BEC5\", \"#B0BEC5\", \"#B0BEC5\", \"#B0BEC5\", \"#B0BEC5\", \"#B0BEC5\", \"#B0BEC5\", \"#B0BEC5\", \"#B0BEC5\", \"#B0BEC5\", \"#B0BEC5\", \"#B0BEC5\", \"#B0BEC5\", \"#B0BEC5\", \"#B0BEC5\", \"#B0BEC5\", \"#B0BEC5\", \"#B0BEC5\", \"#B0BEC5\", \"#B0BEC5\", \"#B0BEC5\", \"#B0BEC5\", \"#B0BEC5\", \"#B0BEC5\"]]}], \"label\": \"Topic 0\", \"method\": \"update\"}, {\"args\": [{\"marker.color\": [[\"#B0BEC5\", \"red\", \"#B0BEC5\", \"#B0BEC5\", \"#B0BEC5\", \"#B0BEC5\", \"#B0BEC5\", \"#B0BEC5\", \"#B0BEC5\", \"#B0BEC5\", \"#B0BEC5\", \"#B0BEC5\", \"#B0BEC5\", \"#B0BEC5\", \"#B0BEC5\", \"#B0BEC5\", \"#B0BEC5\", \"#B0BEC5\", \"#B0BEC5\", \"#B0BEC5\", \"#B0BEC5\", \"#B0BEC5\", \"#B0BEC5\", \"#B0BEC5\", \"#B0BEC5\", \"#B0BEC5\", \"#B0BEC5\", \"#B0BEC5\", \"#B0BEC5\", \"#B0BEC5\"]]}], \"label\": \"Topic 1\", \"method\": \"update\"}, {\"args\": [{\"marker.color\": [[\"#B0BEC5\", \"#B0BEC5\", \"red\", \"#B0BEC5\", \"#B0BEC5\", \"#B0BEC5\", \"#B0BEC5\", \"#B0BEC5\", \"#B0BEC5\", \"#B0BEC5\", \"#B0BEC5\", \"#B0BEC5\", \"#B0BEC5\", \"#B0BEC5\", \"#B0BEC5\", \"#B0BEC5\", \"#B0BEC5\", \"#B0BEC5\", \"#B0BEC5\", \"#B0BEC5\", \"#B0BEC5\", \"#B0BEC5\", \"#B0BEC5\", \"#B0BEC5\", \"#B0BEC5\", \"#B0BEC5\", \"#B0BEC5\", \"#B0BEC5\", \"#B0BEC5\", \"#B0BEC5\"]]}], \"label\": \"Topic 2\", \"method\": \"update\"}, {\"args\": [{\"marker.color\": [[\"#B0BEC5\", \"#B0BEC5\", \"#B0BEC5\", \"red\", \"#B0BEC5\", \"#B0BEC5\", \"#B0BEC5\", \"#B0BEC5\", \"#B0BEC5\", \"#B0BEC5\", \"#B0BEC5\", \"#B0BEC5\", \"#B0BEC5\", \"#B0BEC5\", \"#B0BEC5\", \"#B0BEC5\", \"#B0BEC5\", \"#B0BEC5\", \"#B0BEC5\", \"#B0BEC5\", \"#B0BEC5\", \"#B0BEC5\", \"#B0BEC5\", \"#B0BEC5\", \"#B0BEC5\", \"#B0BEC5\", \"#B0BEC5\", \"#B0BEC5\", \"#B0BEC5\", \"#B0BEC5\"]]}], \"label\": \"Topic 3\", \"method\": \"update\"}, {\"args\": [{\"marker.color\": [[\"#B0BEC5\", \"#B0BEC5\", \"#B0BEC5\", \"#B0BEC5\", \"red\", \"#B0BEC5\", \"#B0BEC5\", \"#B0BEC5\", \"#B0BEC5\", \"#B0BEC5\", \"#B0BEC5\", \"#B0BEC5\", \"#B0BEC5\", \"#B0BEC5\", \"#B0BEC5\", \"#B0BEC5\", \"#B0BEC5\", \"#B0BEC5\", \"#B0BEC5\", \"#B0BEC5\", \"#B0BEC5\", \"#B0BEC5\", \"#B0BEC5\", \"#B0BEC5\", \"#B0BEC5\", \"#B0BEC5\", \"#B0BEC5\", \"#B0BEC5\", \"#B0BEC5\", \"#B0BEC5\"]]}], \"label\": \"Topic 4\", \"method\": \"update\"}, {\"args\": [{\"marker.color\": [[\"#B0BEC5\", \"#B0BEC5\", \"#B0BEC5\", \"#B0BEC5\", \"#B0BEC5\", \"red\", \"#B0BEC5\", \"#B0BEC5\", \"#B0BEC5\", \"#B0BEC5\", \"#B0BEC5\", \"#B0BEC5\", \"#B0BEC5\", \"#B0BEC5\", \"#B0BEC5\", \"#B0BEC5\", \"#B0BEC5\", \"#B0BEC5\", \"#B0BEC5\", \"#B0BEC5\", \"#B0BEC5\", \"#B0BEC5\", \"#B0BEC5\", \"#B0BEC5\", \"#B0BEC5\", \"#B0BEC5\", \"#B0BEC5\", \"#B0BEC5\", \"#B0BEC5\", \"#B0BEC5\"]]}], \"label\": \"Topic 5\", \"method\": \"update\"}, {\"args\": [{\"marker.color\": [[\"#B0BEC5\", \"#B0BEC5\", \"#B0BEC5\", \"#B0BEC5\", \"#B0BEC5\", \"#B0BEC5\", \"red\", \"#B0BEC5\", \"#B0BEC5\", \"#B0BEC5\", \"#B0BEC5\", \"#B0BEC5\", \"#B0BEC5\", \"#B0BEC5\", \"#B0BEC5\", \"#B0BEC5\", \"#B0BEC5\", \"#B0BEC5\", \"#B0BEC5\", \"#B0BEC5\", \"#B0BEC5\", \"#B0BEC5\", \"#B0BEC5\", \"#B0BEC5\", \"#B0BEC5\", \"#B0BEC5\", \"#B0BEC5\", \"#B0BEC5\", \"#B0BEC5\", \"#B0BEC5\"]]}], \"label\": \"Topic 6\", \"method\": \"update\"}, {\"args\": [{\"marker.color\": [[\"#B0BEC5\", \"#B0BEC5\", \"#B0BEC5\", \"#B0BEC5\", \"#B0BEC5\", \"#B0BEC5\", \"#B0BEC5\", \"red\", \"#B0BEC5\", \"#B0BEC5\", \"#B0BEC5\", \"#B0BEC5\", \"#B0BEC5\", \"#B0BEC5\", \"#B0BEC5\", \"#B0BEC5\", \"#B0BEC5\", \"#B0BEC5\", \"#B0BEC5\", \"#B0BEC5\", \"#B0BEC5\", \"#B0BEC5\", \"#B0BEC5\", \"#B0BEC5\", \"#B0BEC5\", \"#B0BEC5\", \"#B0BEC5\", \"#B0BEC5\", \"#B0BEC5\", \"#B0BEC5\"]]}], \"label\": \"Topic 7\", \"method\": \"update\"}, {\"args\": [{\"marker.color\": [[\"#B0BEC5\", \"#B0BEC5\", \"#B0BEC5\", \"#B0BEC5\", \"#B0BEC5\", \"#B0BEC5\", \"#B0BEC5\", \"#B0BEC5\", \"red\", \"#B0BEC5\", \"#B0BEC5\", \"#B0BEC5\", \"#B0BEC5\", \"#B0BEC5\", \"#B0BEC5\", \"#B0BEC5\", \"#B0BEC5\", \"#B0BEC5\", \"#B0BEC5\", \"#B0BEC5\", \"#B0BEC5\", \"#B0BEC5\", \"#B0BEC5\", \"#B0BEC5\", \"#B0BEC5\", \"#B0BEC5\", \"#B0BEC5\", \"#B0BEC5\", \"#B0BEC5\", \"#B0BEC5\"]]}], \"label\": \"Topic 8\", \"method\": \"update\"}, {\"args\": [{\"marker.color\": [[\"#B0BEC5\", \"#B0BEC5\", \"#B0BEC5\", \"#B0BEC5\", \"#B0BEC5\", \"#B0BEC5\", \"#B0BEC5\", \"#B0BEC5\", \"#B0BEC5\", \"red\", \"#B0BEC5\", \"#B0BEC5\", \"#B0BEC5\", \"#B0BEC5\", \"#B0BEC5\", \"#B0BEC5\", \"#B0BEC5\", \"#B0BEC5\", \"#B0BEC5\", \"#B0BEC5\", \"#B0BEC5\", \"#B0BEC5\", \"#B0BEC5\", \"#B0BEC5\", \"#B0BEC5\", \"#B0BEC5\", \"#B0BEC5\", \"#B0BEC5\", \"#B0BEC5\", \"#B0BEC5\"]]}], \"label\": \"Topic 9\", \"method\": \"update\"}, {\"args\": [{\"marker.color\": [[\"#B0BEC5\", \"#B0BEC5\", \"#B0BEC5\", \"#B0BEC5\", \"#B0BEC5\", \"#B0BEC5\", \"#B0BEC5\", \"#B0BEC5\", \"#B0BEC5\", \"#B0BEC5\", \"red\", \"#B0BEC5\", \"#B0BEC5\", \"#B0BEC5\", \"#B0BEC5\", \"#B0BEC5\", \"#B0BEC5\", \"#B0BEC5\", \"#B0BEC5\", \"#B0BEC5\", \"#B0BEC5\", \"#B0BEC5\", \"#B0BEC5\", \"#B0BEC5\", \"#B0BEC5\", \"#B0BEC5\", \"#B0BEC5\", \"#B0BEC5\", \"#B0BEC5\", \"#B0BEC5\"]]}], \"label\": \"Topic 10\", \"method\": \"update\"}, {\"args\": [{\"marker.color\": [[\"#B0BEC5\", \"#B0BEC5\", \"#B0BEC5\", \"#B0BEC5\", \"#B0BEC5\", \"#B0BEC5\", \"#B0BEC5\", \"#B0BEC5\", \"#B0BEC5\", \"#B0BEC5\", \"#B0BEC5\", \"red\", \"#B0BEC5\", \"#B0BEC5\", \"#B0BEC5\", \"#B0BEC5\", \"#B0BEC5\", \"#B0BEC5\", \"#B0BEC5\", \"#B0BEC5\", \"#B0BEC5\", \"#B0BEC5\", \"#B0BEC5\", \"#B0BEC5\", \"#B0BEC5\", \"#B0BEC5\", \"#B0BEC5\", \"#B0BEC5\", \"#B0BEC5\", \"#B0BEC5\"]]}], \"label\": \"Topic 11\", \"method\": \"update\"}, {\"args\": [{\"marker.color\": [[\"#B0BEC5\", \"#B0BEC5\", \"#B0BEC5\", \"#B0BEC5\", \"#B0BEC5\", \"#B0BEC5\", \"#B0BEC5\", \"#B0BEC5\", \"#B0BEC5\", \"#B0BEC5\", \"#B0BEC5\", \"#B0BEC5\", \"red\", \"#B0BEC5\", \"#B0BEC5\", \"#B0BEC5\", \"#B0BEC5\", \"#B0BEC5\", \"#B0BEC5\", \"#B0BEC5\", \"#B0BEC5\", \"#B0BEC5\", \"#B0BEC5\", \"#B0BEC5\", \"#B0BEC5\", \"#B0BEC5\", \"#B0BEC5\", \"#B0BEC5\", \"#B0BEC5\", \"#B0BEC5\"]]}], \"label\": \"Topic 12\", \"method\": \"update\"}, {\"args\": [{\"marker.color\": [[\"#B0BEC5\", \"#B0BEC5\", \"#B0BEC5\", \"#B0BEC5\", \"#B0BEC5\", \"#B0BEC5\", \"#B0BEC5\", \"#B0BEC5\", \"#B0BEC5\", \"#B0BEC5\", \"#B0BEC5\", \"#B0BEC5\", \"#B0BEC5\", \"red\", \"#B0BEC5\", \"#B0BEC5\", \"#B0BEC5\", \"#B0BEC5\", \"#B0BEC5\", \"#B0BEC5\", \"#B0BEC5\", \"#B0BEC5\", \"#B0BEC5\", \"#B0BEC5\", \"#B0BEC5\", \"#B0BEC5\", \"#B0BEC5\", \"#B0BEC5\", \"#B0BEC5\", \"#B0BEC5\"]]}], \"label\": \"Topic 13\", \"method\": \"update\"}, {\"args\": [{\"marker.color\": [[\"#B0BEC5\", \"#B0BEC5\", \"#B0BEC5\", \"#B0BEC5\", \"#B0BEC5\", \"#B0BEC5\", \"#B0BEC5\", \"#B0BEC5\", \"#B0BEC5\", \"#B0BEC5\", \"#B0BEC5\", \"#B0BEC5\", \"#B0BEC5\", \"#B0BEC5\", \"red\", \"#B0BEC5\", \"#B0BEC5\", \"#B0BEC5\", \"#B0BEC5\", \"#B0BEC5\", \"#B0BEC5\", \"#B0BEC5\", \"#B0BEC5\", \"#B0BEC5\", \"#B0BEC5\", \"#B0BEC5\", \"#B0BEC5\", \"#B0BEC5\", \"#B0BEC5\", \"#B0BEC5\"]]}], \"label\": \"Topic 14\", \"method\": \"update\"}, {\"args\": [{\"marker.color\": [[\"#B0BEC5\", \"#B0BEC5\", \"#B0BEC5\", \"#B0BEC5\", \"#B0BEC5\", \"#B0BEC5\", \"#B0BEC5\", \"#B0BEC5\", \"#B0BEC5\", \"#B0BEC5\", \"#B0BEC5\", \"#B0BEC5\", \"#B0BEC5\", \"#B0BEC5\", \"#B0BEC5\", \"red\", \"#B0BEC5\", \"#B0BEC5\", \"#B0BEC5\", \"#B0BEC5\", \"#B0BEC5\", \"#B0BEC5\", \"#B0BEC5\", \"#B0BEC5\", \"#B0BEC5\", \"#B0BEC5\", \"#B0BEC5\", \"#B0BEC5\", \"#B0BEC5\", \"#B0BEC5\"]]}], \"label\": \"Topic 15\", \"method\": \"update\"}, {\"args\": [{\"marker.color\": [[\"#B0BEC5\", \"#B0BEC5\", \"#B0BEC5\", \"#B0BEC5\", \"#B0BEC5\", \"#B0BEC5\", \"#B0BEC5\", \"#B0BEC5\", \"#B0BEC5\", \"#B0BEC5\", \"#B0BEC5\", \"#B0BEC5\", \"#B0BEC5\", \"#B0BEC5\", \"#B0BEC5\", \"#B0BEC5\", \"red\", \"#B0BEC5\", \"#B0BEC5\", \"#B0BEC5\", \"#B0BEC5\", \"#B0BEC5\", \"#B0BEC5\", \"#B0BEC5\", \"#B0BEC5\", \"#B0BEC5\", \"#B0BEC5\", \"#B0BEC5\", \"#B0BEC5\", \"#B0BEC5\"]]}], \"label\": \"Topic 16\", \"method\": \"update\"}, {\"args\": [{\"marker.color\": [[\"#B0BEC5\", \"#B0BEC5\", \"#B0BEC5\", \"#B0BEC5\", \"#B0BEC5\", \"#B0BEC5\", \"#B0BEC5\", \"#B0BEC5\", \"#B0BEC5\", \"#B0BEC5\", \"#B0BEC5\", \"#B0BEC5\", \"#B0BEC5\", \"#B0BEC5\", \"#B0BEC5\", \"#B0BEC5\", \"#B0BEC5\", \"red\", \"#B0BEC5\", \"#B0BEC5\", \"#B0BEC5\", \"#B0BEC5\", \"#B0BEC5\", \"#B0BEC5\", \"#B0BEC5\", \"#B0BEC5\", \"#B0BEC5\", \"#B0BEC5\", \"#B0BEC5\", \"#B0BEC5\"]]}], \"label\": \"Topic 17\", \"method\": \"update\"}, {\"args\": [{\"marker.color\": [[\"#B0BEC5\", \"#B0BEC5\", \"#B0BEC5\", \"#B0BEC5\", \"#B0BEC5\", \"#B0BEC5\", \"#B0BEC5\", \"#B0BEC5\", \"#B0BEC5\", \"#B0BEC5\", \"#B0BEC5\", \"#B0BEC5\", \"#B0BEC5\", \"#B0BEC5\", \"#B0BEC5\", \"#B0BEC5\", \"#B0BEC5\", \"#B0BEC5\", \"red\", \"#B0BEC5\", \"#B0BEC5\", \"#B0BEC5\", \"#B0BEC5\", \"#B0BEC5\", \"#B0BEC5\", \"#B0BEC5\", \"#B0BEC5\", \"#B0BEC5\", \"#B0BEC5\", \"#B0BEC5\"]]}], \"label\": \"Topic 18\", \"method\": \"update\"}, {\"args\": [{\"marker.color\": [[\"#B0BEC5\", \"#B0BEC5\", \"#B0BEC5\", \"#B0BEC5\", \"#B0BEC5\", \"#B0BEC5\", \"#B0BEC5\", \"#B0BEC5\", \"#B0BEC5\", \"#B0BEC5\", \"#B0BEC5\", \"#B0BEC5\", \"#B0BEC5\", \"#B0BEC5\", \"#B0BEC5\", \"#B0BEC5\", \"#B0BEC5\", \"#B0BEC5\", \"#B0BEC5\", \"red\", \"#B0BEC5\", \"#B0BEC5\", \"#B0BEC5\", \"#B0BEC5\", \"#B0BEC5\", \"#B0BEC5\", \"#B0BEC5\", \"#B0BEC5\", \"#B0BEC5\", \"#B0BEC5\"]]}], \"label\": \"Topic 19\", \"method\": \"update\"}, {\"args\": [{\"marker.color\": [[\"#B0BEC5\", \"#B0BEC5\", \"#B0BEC5\", \"#B0BEC5\", \"#B0BEC5\", \"#B0BEC5\", \"#B0BEC5\", \"#B0BEC5\", \"#B0BEC5\", \"#B0BEC5\", \"#B0BEC5\", \"#B0BEC5\", \"#B0BEC5\", \"#B0BEC5\", \"#B0BEC5\", \"#B0BEC5\", \"#B0BEC5\", \"#B0BEC5\", \"#B0BEC5\", \"#B0BEC5\", \"red\", \"#B0BEC5\", \"#B0BEC5\", \"#B0BEC5\", \"#B0BEC5\", \"#B0BEC5\", \"#B0BEC5\", \"#B0BEC5\", \"#B0BEC5\", \"#B0BEC5\"]]}], \"label\": \"Topic 20\", \"method\": \"update\"}, {\"args\": [{\"marker.color\": [[\"#B0BEC5\", \"#B0BEC5\", \"#B0BEC5\", \"#B0BEC5\", \"#B0BEC5\", \"#B0BEC5\", \"#B0BEC5\", \"#B0BEC5\", \"#B0BEC5\", \"#B0BEC5\", \"#B0BEC5\", \"#B0BEC5\", \"#B0BEC5\", \"#B0BEC5\", \"#B0BEC5\", \"#B0BEC5\", \"#B0BEC5\", \"#B0BEC5\", \"#B0BEC5\", \"#B0BEC5\", \"#B0BEC5\", \"red\", \"#B0BEC5\", \"#B0BEC5\", \"#B0BEC5\", \"#B0BEC5\", \"#B0BEC5\", \"#B0BEC5\", \"#B0BEC5\", \"#B0BEC5\"]]}], \"label\": \"Topic 21\", \"method\": \"update\"}, {\"args\": [{\"marker.color\": [[\"#B0BEC5\", \"#B0BEC5\", \"#B0BEC5\", \"#B0BEC5\", \"#B0BEC5\", \"#B0BEC5\", \"#B0BEC5\", \"#B0BEC5\", \"#B0BEC5\", \"#B0BEC5\", \"#B0BEC5\", \"#B0BEC5\", \"#B0BEC5\", \"#B0BEC5\", \"#B0BEC5\", \"#B0BEC5\", \"#B0BEC5\", \"#B0BEC5\", \"#B0BEC5\", \"#B0BEC5\", \"#B0BEC5\", \"#B0BEC5\", \"red\", \"#B0BEC5\", \"#B0BEC5\", \"#B0BEC5\", \"#B0BEC5\", \"#B0BEC5\", \"#B0BEC5\", \"#B0BEC5\"]]}], \"label\": \"Topic 22\", \"method\": \"update\"}, {\"args\": [{\"marker.color\": [[\"#B0BEC5\", \"#B0BEC5\", \"#B0BEC5\", \"#B0BEC5\", \"#B0BEC5\", \"#B0BEC5\", \"#B0BEC5\", \"#B0BEC5\", \"#B0BEC5\", \"#B0BEC5\", \"#B0BEC5\", \"#B0BEC5\", \"#B0BEC5\", \"#B0BEC5\", \"#B0BEC5\", \"#B0BEC5\", \"#B0BEC5\", \"#B0BEC5\", \"#B0BEC5\", \"#B0BEC5\", \"#B0BEC5\", \"#B0BEC5\", \"#B0BEC5\", \"red\", \"#B0BEC5\", \"#B0BEC5\", \"#B0BEC5\", \"#B0BEC5\", \"#B0BEC5\", \"#B0BEC5\"]]}], \"label\": \"Topic 23\", \"method\": \"update\"}, {\"args\": [{\"marker.color\": [[\"#B0BEC5\", \"#B0BEC5\", \"#B0BEC5\", \"#B0BEC5\", \"#B0BEC5\", \"#B0BEC5\", \"#B0BEC5\", \"#B0BEC5\", \"#B0BEC5\", \"#B0BEC5\", \"#B0BEC5\", \"#B0BEC5\", \"#B0BEC5\", \"#B0BEC5\", \"#B0BEC5\", \"#B0BEC5\", \"#B0BEC5\", \"#B0BEC5\", \"#B0BEC5\", \"#B0BEC5\", \"#B0BEC5\", \"#B0BEC5\", \"#B0BEC5\", \"#B0BEC5\", \"red\", \"#B0BEC5\", \"#B0BEC5\", \"#B0BEC5\", \"#B0BEC5\", \"#B0BEC5\"]]}], \"label\": \"Topic 24\", \"method\": \"update\"}, {\"args\": [{\"marker.color\": [[\"#B0BEC5\", \"#B0BEC5\", \"#B0BEC5\", \"#B0BEC5\", \"#B0BEC5\", \"#B0BEC5\", \"#B0BEC5\", \"#B0BEC5\", \"#B0BEC5\", \"#B0BEC5\", \"#B0BEC5\", \"#B0BEC5\", \"#B0BEC5\", \"#B0BEC5\", \"#B0BEC5\", \"#B0BEC5\", \"#B0BEC5\", \"#B0BEC5\", \"#B0BEC5\", \"#B0BEC5\", \"#B0BEC5\", \"#B0BEC5\", \"#B0BEC5\", \"#B0BEC5\", \"#B0BEC5\", \"red\", \"#B0BEC5\", \"#B0BEC5\", \"#B0BEC5\", \"#B0BEC5\"]]}], \"label\": \"Topic 25\", \"method\": \"update\"}, {\"args\": [{\"marker.color\": [[\"#B0BEC5\", \"#B0BEC5\", \"#B0BEC5\", \"#B0BEC5\", \"#B0BEC5\", \"#B0BEC5\", \"#B0BEC5\", \"#B0BEC5\", \"#B0BEC5\", \"#B0BEC5\", \"#B0BEC5\", \"#B0BEC5\", \"#B0BEC5\", \"#B0BEC5\", \"#B0BEC5\", \"#B0BEC5\", \"#B0BEC5\", \"#B0BEC5\", \"#B0BEC5\", \"#B0BEC5\", \"#B0BEC5\", \"#B0BEC5\", \"#B0BEC5\", \"#B0BEC5\", \"#B0BEC5\", \"#B0BEC5\", \"red\", \"#B0BEC5\", \"#B0BEC5\", \"#B0BEC5\"]]}], \"label\": \"Topic 26\", \"method\": \"update\"}, {\"args\": [{\"marker.color\": [[\"#B0BEC5\", \"#B0BEC5\", \"#B0BEC5\", \"#B0BEC5\", \"#B0BEC5\", \"#B0BEC5\", \"#B0BEC5\", \"#B0BEC5\", \"#B0BEC5\", \"#B0BEC5\", \"#B0BEC5\", \"#B0BEC5\", \"#B0BEC5\", \"#B0BEC5\", \"#B0BEC5\", \"#B0BEC5\", \"#B0BEC5\", \"#B0BEC5\", \"#B0BEC5\", \"#B0BEC5\", \"#B0BEC5\", \"#B0BEC5\", \"#B0BEC5\", \"#B0BEC5\", \"#B0BEC5\", \"#B0BEC5\", \"#B0BEC5\", \"red\", \"#B0BEC5\", \"#B0BEC5\"]]}], \"label\": \"Topic 27\", \"method\": \"update\"}, {\"args\": [{\"marker.color\": [[\"#B0BEC5\", \"#B0BEC5\", \"#B0BEC5\", \"#B0BEC5\", \"#B0BEC5\", \"#B0BEC5\", \"#B0BEC5\", \"#B0BEC5\", \"#B0BEC5\", \"#B0BEC5\", \"#B0BEC5\", \"#B0BEC5\", \"#B0BEC5\", \"#B0BEC5\", \"#B0BEC5\", \"#B0BEC5\", \"#B0BEC5\", \"#B0BEC5\", \"#B0BEC5\", \"#B0BEC5\", \"#B0BEC5\", \"#B0BEC5\", \"#B0BEC5\", \"#B0BEC5\", \"#B0BEC5\", \"#B0BEC5\", \"#B0BEC5\", \"#B0BEC5\", \"red\", \"#B0BEC5\"]]}], \"label\": \"Topic 28\", \"method\": \"update\"}, {\"args\": [{\"marker.color\": [[\"#B0BEC5\", \"#B0BEC5\", \"#B0BEC5\", \"#B0BEC5\", \"#B0BEC5\", \"#B0BEC5\", \"#B0BEC5\", \"#B0BEC5\", \"#B0BEC5\", \"#B0BEC5\", \"#B0BEC5\", \"#B0BEC5\", \"#B0BEC5\", \"#B0BEC5\", \"#B0BEC5\", \"#B0BEC5\", \"#B0BEC5\", \"#B0BEC5\", \"#B0BEC5\", \"#B0BEC5\", \"#B0BEC5\", \"#B0BEC5\", \"#B0BEC5\", \"#B0BEC5\", \"#B0BEC5\", \"#B0BEC5\", \"#B0BEC5\", \"#B0BEC5\", \"#B0BEC5\", \"red\"]]}], \"label\": \"Topic 29\", \"method\": \"update\"}]}], \"template\": {\"data\": {\"bar\": [{\"error_x\": {\"color\": \"rgb(36,36,36)\"}, \"error_y\": {\"color\": \"rgb(36,36,36)\"}, \"marker\": {\"line\": {\"color\": \"white\", \"width\": 0.5}}, \"type\": \"bar\"}], \"barpolar\": [{\"marker\": {\"line\": {\"color\": \"white\", \"width\": 0.5}}, \"type\": \"barpolar\"}], \"carpet\": [{\"aaxis\": {\"endlinecolor\": \"rgb(36,36,36)\", \"gridcolor\": \"white\", \"linecolor\": \"white\", \"minorgridcolor\": \"white\", \"startlinecolor\": \"rgb(36,36,36)\"}, \"baxis\": {\"endlinecolor\": \"rgb(36,36,36)\", \"gridcolor\": \"white\", \"linecolor\": \"white\", \"minorgridcolor\": \"white\", \"startlinecolor\": \"rgb(36,36,36)\"}, \"type\": \"carpet\"}], \"choropleth\": [{\"colorbar\": {\"outlinewidth\": 1, \"tickcolor\": \"rgb(36,36,36)\", \"ticks\": \"outside\"}, \"type\": \"choropleth\"}], \"contour\": [{\"colorbar\": {\"outlinewidth\": 1, \"tickcolor\": \"rgb(36,36,36)\", \"ticks\": \"outside\"}, \"colorscale\": [[0.0, \"#440154\"], [0.1111111111111111, \"#482878\"], [0.2222222222222222, \"#3e4989\"], [0.3333333333333333, \"#31688e\"], [0.4444444444444444, \"#26828e\"], [0.5555555555555556, \"#1f9e89\"], [0.6666666666666666, \"#35b779\"], [0.7777777777777778, \"#6ece58\"], [0.8888888888888888, \"#b5de2b\"], [1.0, \"#fde725\"]], \"type\": \"contour\"}], \"contourcarpet\": [{\"colorbar\": {\"outlinewidth\": 1, \"tickcolor\": \"rgb(36,36,36)\", \"ticks\": \"outside\"}, \"type\": \"contourcarpet\"}], \"heatmap\": [{\"colorbar\": {\"outlinewidth\": 1, \"tickcolor\": \"rgb(36,36,36)\", \"ticks\": \"outside\"}, \"colorscale\": [[0.0, \"#440154\"], [0.1111111111111111, \"#482878\"], [0.2222222222222222, \"#3e4989\"], [0.3333333333333333, \"#31688e\"], [0.4444444444444444, \"#26828e\"], [0.5555555555555556, \"#1f9e89\"], [0.6666666666666666, \"#35b779\"], [0.7777777777777778, \"#6ece58\"], [0.8888888888888888, \"#b5de2b\"], [1.0, \"#fde725\"]], \"type\": \"heatmap\"}], \"heatmapgl\": [{\"colorbar\": {\"outlinewidth\": 1, \"tickcolor\": \"rgb(36,36,36)\", \"ticks\": \"outside\"}, \"colorscale\": [[0.0, \"#440154\"], [0.1111111111111111, \"#482878\"], [0.2222222222222222, \"#3e4989\"], [0.3333333333333333, \"#31688e\"], [0.4444444444444444, \"#26828e\"], [0.5555555555555556, \"#1f9e89\"], [0.6666666666666666, \"#35b779\"], [0.7777777777777778, \"#6ece58\"], [0.8888888888888888, \"#b5de2b\"], [1.0, \"#fde725\"]], \"type\": \"heatmapgl\"}], \"histogram\": [{\"marker\": {\"line\": {\"color\": \"white\", \"width\": 0.6}}, \"type\": \"histogram\"}], \"histogram2d\": [{\"colorbar\": {\"outlinewidth\": 1, \"tickcolor\": \"rgb(36,36,36)\", \"ticks\": \"outside\"}, \"colorscale\": [[0.0, \"#440154\"], [0.1111111111111111, \"#482878\"], [0.2222222222222222, \"#3e4989\"], [0.3333333333333333, \"#31688e\"], [0.4444444444444444, \"#26828e\"], [0.5555555555555556, \"#1f9e89\"], [0.6666666666666666, \"#35b779\"], [0.7777777777777778, \"#6ece58\"], [0.8888888888888888, \"#b5de2b\"], [1.0, \"#fde725\"]], \"type\": \"histogram2d\"}], \"histogram2dcontour\": [{\"colorbar\": {\"outlinewidth\": 1, \"tickcolor\": \"rgb(36,36,36)\", \"ticks\": \"outside\"}, \"colorscale\": [[0.0, \"#440154\"], [0.1111111111111111, \"#482878\"], [0.2222222222222222, \"#3e4989\"], [0.3333333333333333, \"#31688e\"], [0.4444444444444444, \"#26828e\"], [0.5555555555555556, \"#1f9e89\"], [0.6666666666666666, \"#35b779\"], [0.7777777777777778, \"#6ece58\"], [0.8888888888888888, \"#b5de2b\"], [1.0, \"#fde725\"]], \"type\": \"histogram2dcontour\"}], \"mesh3d\": [{\"colorbar\": {\"outlinewidth\": 1, \"tickcolor\": \"rgb(36,36,36)\", \"ticks\": \"outside\"}, \"type\": \"mesh3d\"}], \"parcoords\": [{\"line\": {\"colorbar\": {\"outlinewidth\": 1, \"tickcolor\": \"rgb(36,36,36)\", \"ticks\": \"outside\"}}, \"type\": \"parcoords\"}], \"pie\": [{\"automargin\": true, \"type\": \"pie\"}], \"scatter\": [{\"marker\": {\"colorbar\": {\"outlinewidth\": 1, \"tickcolor\": \"rgb(36,36,36)\", \"ticks\": \"outside\"}}, \"type\": \"scatter\"}], \"scatter3d\": [{\"line\": {\"colorbar\": {\"outlinewidth\": 1, \"tickcolor\": \"rgb(36,36,36)\", \"ticks\": \"outside\"}}, \"marker\": {\"colorbar\": {\"outlinewidth\": 1, \"tickcolor\": \"rgb(36,36,36)\", \"ticks\": \"outside\"}}, \"type\": \"scatter3d\"}], \"scattercarpet\": [{\"marker\": {\"colorbar\": {\"outlinewidth\": 1, \"tickcolor\": \"rgb(36,36,36)\", \"ticks\": \"outside\"}}, \"type\": \"scattercarpet\"}], \"scattergeo\": [{\"marker\": {\"colorbar\": {\"outlinewidth\": 1, \"tickcolor\": \"rgb(36,36,36)\", \"ticks\": \"outside\"}}, \"type\": \"scattergeo\"}], \"scattergl\": [{\"marker\": {\"colorbar\": {\"outlinewidth\": 1, \"tickcolor\": \"rgb(36,36,36)\", \"ticks\": \"outside\"}}, \"type\": \"scattergl\"}], \"scattermapbox\": [{\"marker\": {\"colorbar\": {\"outlinewidth\": 1, \"tickcolor\": \"rgb(36,36,36)\", \"ticks\": \"outside\"}}, \"type\": \"scattermapbox\"}], \"scatterpolar\": [{\"marker\": {\"colorbar\": {\"outlinewidth\": 1, \"tickcolor\": \"rgb(36,36,36)\", \"ticks\": \"outside\"}}, \"type\": \"scatterpolar\"}], \"scatterpolargl\": [{\"marker\": {\"colorbar\": {\"outlinewidth\": 1, \"tickcolor\": \"rgb(36,36,36)\", \"ticks\": \"outside\"}}, \"type\": \"scatterpolargl\"}], \"scatterternary\": [{\"marker\": {\"colorbar\": {\"outlinewidth\": 1, \"tickcolor\": \"rgb(36,36,36)\", \"ticks\": \"outside\"}}, \"type\": \"scatterternary\"}], \"surface\": [{\"colorbar\": {\"outlinewidth\": 1, \"tickcolor\": \"rgb(36,36,36)\", \"ticks\": \"outside\"}, \"colorscale\": [[0.0, \"#440154\"], [0.1111111111111111, \"#482878\"], [0.2222222222222222, \"#3e4989\"], [0.3333333333333333, \"#31688e\"], [0.4444444444444444, \"#26828e\"], [0.5555555555555556, \"#1f9e89\"], [0.6666666666666666, \"#35b779\"], [0.7777777777777778, \"#6ece58\"], [0.8888888888888888, \"#b5de2b\"], [1.0, \"#fde725\"]], \"type\": \"surface\"}], \"table\": [{\"cells\": {\"fill\": {\"color\": \"rgb(237,237,237)\"}, \"line\": {\"color\": \"white\"}}, \"header\": {\"fill\": {\"color\": \"rgb(217,217,217)\"}, \"line\": {\"color\": \"white\"}}, \"type\": \"table\"}]}, \"layout\": {\"annotationdefaults\": {\"arrowhead\": 0, \"arrowwidth\": 1}, \"autotypenumbers\": \"strict\", \"coloraxis\": {\"colorbar\": {\"outlinewidth\": 1, \"tickcolor\": \"rgb(36,36,36)\", \"ticks\": \"outside\"}}, \"colorscale\": {\"diverging\": [[0.0, \"rgb(103,0,31)\"], [0.1, \"rgb(178,24,43)\"], [0.2, \"rgb(214,96,77)\"], [0.3, \"rgb(244,165,130)\"], [0.4, \"rgb(253,219,199)\"], [0.5, \"rgb(247,247,247)\"], [0.6, \"rgb(209,229,240)\"], [0.7, \"rgb(146,197,222)\"], [0.8, \"rgb(67,147,195)\"], [0.9, \"rgb(33,102,172)\"], [1.0, \"rgb(5,48,97)\"]], \"sequential\": [[0.0, \"#440154\"], [0.1111111111111111, \"#482878\"], [0.2222222222222222, \"#3e4989\"], [0.3333333333333333, \"#31688e\"], [0.4444444444444444, \"#26828e\"], [0.5555555555555556, \"#1f9e89\"], [0.6666666666666666, \"#35b779\"], [0.7777777777777778, \"#6ece58\"], [0.8888888888888888, \"#b5de2b\"], [1.0, \"#fde725\"]], \"sequentialminus\": [[0.0, \"#440154\"], [0.1111111111111111, \"#482878\"], [0.2222222222222222, \"#3e4989\"], [0.3333333333333333, \"#31688e\"], [0.4444444444444444, \"#26828e\"], [0.5555555555555556, \"#1f9e89\"], [0.6666666666666666, \"#35b779\"], [0.7777777777777778, \"#6ece58\"], [0.8888888888888888, \"#b5de2b\"], [1.0, \"#fde725\"]]}, \"colorway\": [\"#1F77B4\", \"#FF7F0E\", \"#2CA02C\", \"#D62728\", \"#9467BD\", \"#8C564B\", \"#E377C2\", \"#7F7F7F\", \"#BCBD22\", \"#17BECF\"], \"font\": {\"color\": \"rgb(36,36,36)\"}, \"geo\": {\"bgcolor\": \"white\", \"lakecolor\": \"white\", \"landcolor\": \"white\", \"showlakes\": true, \"showland\": true, \"subunitcolor\": \"white\"}, \"hoverlabel\": {\"align\": \"left\"}, \"hovermode\": \"closest\", \"mapbox\": {\"style\": \"light\"}, \"paper_bgcolor\": \"white\", \"plot_bgcolor\": \"white\", \"polar\": {\"angularaxis\": {\"gridcolor\": \"rgb(232,232,232)\", \"linecolor\": \"rgb(36,36,36)\", \"showgrid\": false, \"showline\": true, \"ticks\": \"outside\"}, \"bgcolor\": \"white\", \"radialaxis\": {\"gridcolor\": \"rgb(232,232,232)\", \"linecolor\": \"rgb(36,36,36)\", \"showgrid\": false, \"showline\": true, \"ticks\": \"outside\"}}, \"scene\": {\"xaxis\": {\"backgroundcolor\": \"white\", \"gridcolor\": \"rgb(232,232,232)\", \"gridwidth\": 2, \"linecolor\": \"rgb(36,36,36)\", \"showbackground\": true, \"showgrid\": false, \"showline\": true, \"ticks\": \"outside\", \"zeroline\": false, \"zerolinecolor\": \"rgb(36,36,36)\"}, \"yaxis\": {\"backgroundcolor\": \"white\", \"gridcolor\": \"rgb(232,232,232)\", \"gridwidth\": 2, \"linecolor\": \"rgb(36,36,36)\", \"showbackground\": true, \"showgrid\": false, \"showline\": true, \"ticks\": \"outside\", \"zeroline\": false, \"zerolinecolor\": \"rgb(36,36,36)\"}, \"zaxis\": {\"backgroundcolor\": \"white\", \"gridcolor\": \"rgb(232,232,232)\", \"gridwidth\": 2, \"linecolor\": \"rgb(36,36,36)\", \"showbackground\": true, \"showgrid\": false, \"showline\": true, \"ticks\": \"outside\", \"zeroline\": false, \"zerolinecolor\": \"rgb(36,36,36)\"}}, \"shapedefaults\": {\"fillcolor\": \"black\", \"line\": {\"width\": 0}, \"opacity\": 0.3}, \"ternary\": {\"aaxis\": {\"gridcolor\": \"rgb(232,232,232)\", \"linecolor\": \"rgb(36,36,36)\", \"showgrid\": false, \"showline\": true, \"ticks\": \"outside\"}, \"baxis\": {\"gridcolor\": \"rgb(232,232,232)\", \"linecolor\": \"rgb(36,36,36)\", \"showgrid\": false, \"showline\": true, \"ticks\": \"outside\"}, \"bgcolor\": \"white\", \"caxis\": {\"gridcolor\": \"rgb(232,232,232)\", \"linecolor\": \"rgb(36,36,36)\", \"showgrid\": false, \"showline\": true, \"ticks\": \"outside\"}}, \"title\": {\"x\": 0.05}, \"xaxis\": {\"automargin\": true, \"gridcolor\": \"rgb(232,232,232)\", \"linecolor\": \"rgb(36,36,36)\", \"showgrid\": false, \"showline\": true, \"ticks\": \"outside\", \"title\": {\"standoff\": 15}, \"zeroline\": false, \"zerolinecolor\": \"rgb(36,36,36)\"}, \"yaxis\": {\"automargin\": true, \"gridcolor\": \"rgb(232,232,232)\", \"linecolor\": \"rgb(36,36,36)\", \"showgrid\": false, \"showline\": true, \"ticks\": \"outside\", \"title\": {\"standoff\": 15}, \"zeroline\": false, \"zerolinecolor\": \"rgb(36,36,36)\"}}}, \"title\": {\"font\": {\"color\": \"Black\", \"size\": 22}, \"text\": \"<b>Intertopic Distance Map\", \"x\": 0.5, \"xanchor\": \"center\", \"y\": 0.95, \"yanchor\": \"top\"}, \"width\": 650, \"xaxis\": {\"anchor\": \"y\", \"domain\": [0.0, 1.0], \"range\": [-13.293333673477173, 16.906780862808226], \"title\": {\"text\": \"\"}, \"visible\": false}, \"yaxis\": {\"anchor\": \"x\", \"domain\": [0.0, 1.0], \"range\": [-16.046370124816896, 27.754743576049805], \"title\": {\"text\": \"\"}, \"visible\": false}},                        {\"responsive\": true}                    ).then(function(){\n",
              "                            \n",
              "var gd = document.getElementById('aa6ec298-9513-453a-aa69-8e004786dd57');\n",
              "var x = new MutationObserver(function (mutations, observer) {{\n",
              "        var display = window.getComputedStyle(gd).display;\n",
              "        if (!display || display === 'none') {{\n",
              "            console.log([gd, 'removed!']);\n",
              "            Plotly.purge(gd);\n",
              "            observer.disconnect();\n",
              "        }}\n",
              "}});\n",
              "\n",
              "// Listen for the removal of the full notebook cells\n",
              "var notebookContainer = gd.closest('#notebook-container');\n",
              "if (notebookContainer) {{\n",
              "    x.observe(notebookContainer, {childList: true});\n",
              "}}\n",
              "\n",
              "// Listen for the clearing of the current output cell\n",
              "var outputEl = gd.closest('.output');\n",
              "if (outputEl) {{\n",
              "    x.observe(outputEl, {childList: true});\n",
              "}}\n",
              "\n",
              "                        })                };                            </script>        </div>\n",
              "</body>\n",
              "</html>"
            ]
          },
          "metadata": {
            "tags": []
          }
        }
      ]
    },
    {
      "cell_type": "code",
      "metadata": {
        "colab": {
          "base_uri": "https://localhost:8080/",
          "height": 617
        },
        "id": "4AH86QIMepZ_",
        "outputId": "4dce6a07-8023-4bcb-e3f4-52b888baea68"
      },
      "source": [
        "topic_model.visualize_distribution(probs[1], min_probability=0.005)"
      ],
      "execution_count": 30,
      "outputs": [
        {
          "output_type": "display_data",
          "data": {
            "text/html": [
              "<html>\n",
              "<head><meta charset=\"utf-8\" /></head>\n",
              "<body>\n",
              "    <div>            <script src=\"https://cdnjs.cloudflare.com/ajax/libs/mathjax/2.7.5/MathJax.js?config=TeX-AMS-MML_SVG\"></script><script type=\"text/javascript\">if (window.MathJax) {MathJax.Hub.Config({SVG: {font: \"STIX-Web\"}});}</script>                <script type=\"text/javascript\">window.PlotlyConfig = {MathJaxConfig: 'local'};</script>\n",
              "        <script src=\"https://cdn.plot.ly/plotly-latest.min.js\"></script>                <div id=\"9373c0d9-cafe-45ae-9365-531957a926d9\" class=\"plotly-graph-div\" style=\"height:600px; width:800px;\"></div>            <script type=\"text/javascript\">                                    window.PLOTLYENV=window.PLOTLYENV || {};                                    if (document.getElementById(\"9373c0d9-cafe-45ae-9365-531957a926d9\")) {                    Plotly.newPlot(                        \"9373c0d9-cafe-45ae-9365-531957a926d9\",                        [{\"marker\": {\"color\": \"#C8D2D7\", \"line\": {\"color\": \"#6E8484\", \"width\": 1}}, \"orientation\": \"h\", \"type\": \"bar\", \"x\": [0.005, 0.029, 0.089, 0.015, 0.102, 0.022, 0.058, 0.045, 0.005, 0.028, 0.016, 0.031, 0.029, 0.029, 0.016, 0.005, 0.035, 0.015, 0.012, 0.011, 0.011, 0.013, 0.011, 0.014, 0.007, 0.009, 0.007], \"y\": [\"<b>Topic 1</b>: learn_technology_learnin...\", \"<b>Topic 2</b>: team_teams_great team_te...\", \"<b>Topic 3</b>: microsoft_software_compa...\", \"<b>Topic 4</b>: company work_great compa...\", \"<b>Topic 5</b>: food_free food_gym_perks...\", \"<b>Topic 6</b>: overtime_hours_day_days_...\", \"<b>Topic 7</b>: environment_work environ...\", \"<b>Topic 8</b>: life balance_work life_w...\", \"<b>Topic 9</b>: customer_retail_customer...\", \"<b>Topic 11</b>: benefits_good_great ben...\", \"<b>Topic 12</b>: pay_good pay_good_pay g...\", \"<b>Topic 13</b>: google_facebook_people_...\", \"<b>Topic 14</b>: place work_place_great ...\", \"<b>Topic 15</b>: career_opportunities_gr...\", \"<b>Topic 16</b>: coworkers_great coworke...\", \"<b>Topic 17</b>: insurance_benefits_dent...\", \"<b>Topic 18</b>: good_good benefits_pay ...\", \"<b>Topic 19</b>: stock_stock options_opt...\", \"<b>Topic 20</b>: smart_smart people_work...\", \"<b>Topic 21</b>: de_et_und_les_la\", \"<b>Topic 22</b>: great training_training...\", \"<b>Topic 23</b>: intern_easy job_easy ge...\", \"<b>Topic 25</b>: good salary_good_salary...\", \"<b>Topic 26</b>: company_growing_growth_...\", \"<b>Topic 27</b>: work culture_great cult...\", \"<b>Topic 28</b>: home_work home_working ...\", \"<b>Topic 29</b>: discounts_discount_bene...\"]}],                        {\"height\": 600, \"hoverlabel\": {\"bgcolor\": \"white\", \"font\": {\"family\": \"Rockwell\", \"size\": 16}}, \"template\": {\"data\": {\"bar\": [{\"error_x\": {\"color\": \"rgb(36,36,36)\"}, \"error_y\": {\"color\": \"rgb(36,36,36)\"}, \"marker\": {\"line\": {\"color\": \"white\", \"width\": 0.5}}, \"type\": \"bar\"}], \"barpolar\": [{\"marker\": {\"line\": {\"color\": \"white\", \"width\": 0.5}}, \"type\": \"barpolar\"}], \"carpet\": [{\"aaxis\": {\"endlinecolor\": \"rgb(36,36,36)\", \"gridcolor\": \"white\", \"linecolor\": \"white\", \"minorgridcolor\": \"white\", \"startlinecolor\": \"rgb(36,36,36)\"}, \"baxis\": {\"endlinecolor\": \"rgb(36,36,36)\", \"gridcolor\": \"white\", \"linecolor\": \"white\", \"minorgridcolor\": \"white\", \"startlinecolor\": \"rgb(36,36,36)\"}, \"type\": \"carpet\"}], \"choropleth\": [{\"colorbar\": {\"outlinewidth\": 1, \"tickcolor\": \"rgb(36,36,36)\", \"ticks\": \"outside\"}, \"type\": \"choropleth\"}], \"contour\": [{\"colorbar\": {\"outlinewidth\": 1, \"tickcolor\": \"rgb(36,36,36)\", \"ticks\": \"outside\"}, \"colorscale\": [[0.0, \"#440154\"], [0.1111111111111111, \"#482878\"], [0.2222222222222222, \"#3e4989\"], [0.3333333333333333, \"#31688e\"], [0.4444444444444444, \"#26828e\"], [0.5555555555555556, \"#1f9e89\"], [0.6666666666666666, \"#35b779\"], [0.7777777777777778, \"#6ece58\"], [0.8888888888888888, \"#b5de2b\"], [1.0, \"#fde725\"]], \"type\": \"contour\"}], \"contourcarpet\": [{\"colorbar\": {\"outlinewidth\": 1, \"tickcolor\": \"rgb(36,36,36)\", \"ticks\": \"outside\"}, \"type\": \"contourcarpet\"}], \"heatmap\": [{\"colorbar\": {\"outlinewidth\": 1, \"tickcolor\": \"rgb(36,36,36)\", \"ticks\": \"outside\"}, \"colorscale\": [[0.0, \"#440154\"], [0.1111111111111111, \"#482878\"], [0.2222222222222222, \"#3e4989\"], [0.3333333333333333, \"#31688e\"], [0.4444444444444444, \"#26828e\"], [0.5555555555555556, \"#1f9e89\"], [0.6666666666666666, \"#35b779\"], [0.7777777777777778, \"#6ece58\"], [0.8888888888888888, \"#b5de2b\"], [1.0, \"#fde725\"]], \"type\": \"heatmap\"}], \"heatmapgl\": [{\"colorbar\": {\"outlinewidth\": 1, \"tickcolor\": \"rgb(36,36,36)\", \"ticks\": \"outside\"}, \"colorscale\": [[0.0, \"#440154\"], [0.1111111111111111, \"#482878\"], [0.2222222222222222, \"#3e4989\"], [0.3333333333333333, \"#31688e\"], [0.4444444444444444, \"#26828e\"], [0.5555555555555556, \"#1f9e89\"], [0.6666666666666666, \"#35b779\"], [0.7777777777777778, \"#6ece58\"], [0.8888888888888888, \"#b5de2b\"], [1.0, \"#fde725\"]], \"type\": \"heatmapgl\"}], \"histogram\": [{\"marker\": {\"line\": {\"color\": \"white\", \"width\": 0.6}}, \"type\": \"histogram\"}], \"histogram2d\": [{\"colorbar\": {\"outlinewidth\": 1, \"tickcolor\": \"rgb(36,36,36)\", \"ticks\": \"outside\"}, \"colorscale\": [[0.0, \"#440154\"], [0.1111111111111111, \"#482878\"], [0.2222222222222222, \"#3e4989\"], [0.3333333333333333, \"#31688e\"], [0.4444444444444444, \"#26828e\"], [0.5555555555555556, \"#1f9e89\"], [0.6666666666666666, \"#35b779\"], [0.7777777777777778, \"#6ece58\"], [0.8888888888888888, \"#b5de2b\"], [1.0, \"#fde725\"]], \"type\": \"histogram2d\"}], \"histogram2dcontour\": [{\"colorbar\": {\"outlinewidth\": 1, \"tickcolor\": \"rgb(36,36,36)\", \"ticks\": \"outside\"}, \"colorscale\": [[0.0, \"#440154\"], [0.1111111111111111, \"#482878\"], [0.2222222222222222, \"#3e4989\"], [0.3333333333333333, \"#31688e\"], [0.4444444444444444, \"#26828e\"], [0.5555555555555556, \"#1f9e89\"], [0.6666666666666666, \"#35b779\"], [0.7777777777777778, \"#6ece58\"], [0.8888888888888888, \"#b5de2b\"], [1.0, \"#fde725\"]], \"type\": \"histogram2dcontour\"}], \"mesh3d\": [{\"colorbar\": {\"outlinewidth\": 1, \"tickcolor\": \"rgb(36,36,36)\", \"ticks\": \"outside\"}, \"type\": \"mesh3d\"}], \"parcoords\": [{\"line\": {\"colorbar\": {\"outlinewidth\": 1, \"tickcolor\": \"rgb(36,36,36)\", \"ticks\": \"outside\"}}, \"type\": \"parcoords\"}], \"pie\": [{\"automargin\": true, \"type\": \"pie\"}], \"scatter\": [{\"marker\": {\"colorbar\": {\"outlinewidth\": 1, \"tickcolor\": \"rgb(36,36,36)\", \"ticks\": \"outside\"}}, \"type\": \"scatter\"}], \"scatter3d\": [{\"line\": {\"colorbar\": {\"outlinewidth\": 1, \"tickcolor\": \"rgb(36,36,36)\", \"ticks\": \"outside\"}}, \"marker\": {\"colorbar\": {\"outlinewidth\": 1, \"tickcolor\": \"rgb(36,36,36)\", \"ticks\": \"outside\"}}, \"type\": \"scatter3d\"}], \"scattercarpet\": [{\"marker\": {\"colorbar\": {\"outlinewidth\": 1, \"tickcolor\": \"rgb(36,36,36)\", \"ticks\": \"outside\"}}, \"type\": \"scattercarpet\"}], \"scattergeo\": [{\"marker\": {\"colorbar\": {\"outlinewidth\": 1, \"tickcolor\": \"rgb(36,36,36)\", \"ticks\": \"outside\"}}, \"type\": \"scattergeo\"}], \"scattergl\": [{\"marker\": {\"colorbar\": {\"outlinewidth\": 1, \"tickcolor\": \"rgb(36,36,36)\", \"ticks\": \"outside\"}}, \"type\": \"scattergl\"}], \"scattermapbox\": [{\"marker\": {\"colorbar\": {\"outlinewidth\": 1, \"tickcolor\": \"rgb(36,36,36)\", \"ticks\": \"outside\"}}, \"type\": \"scattermapbox\"}], \"scatterpolar\": [{\"marker\": {\"colorbar\": {\"outlinewidth\": 1, \"tickcolor\": \"rgb(36,36,36)\", \"ticks\": \"outside\"}}, \"type\": \"scatterpolar\"}], \"scatterpolargl\": [{\"marker\": {\"colorbar\": {\"outlinewidth\": 1, \"tickcolor\": \"rgb(36,36,36)\", \"ticks\": \"outside\"}}, \"type\": \"scatterpolargl\"}], \"scatterternary\": [{\"marker\": {\"colorbar\": {\"outlinewidth\": 1, \"tickcolor\": \"rgb(36,36,36)\", \"ticks\": \"outside\"}}, \"type\": \"scatterternary\"}], \"surface\": [{\"colorbar\": {\"outlinewidth\": 1, \"tickcolor\": \"rgb(36,36,36)\", \"ticks\": \"outside\"}, \"colorscale\": [[0.0, \"#440154\"], [0.1111111111111111, \"#482878\"], [0.2222222222222222, \"#3e4989\"], [0.3333333333333333, \"#31688e\"], [0.4444444444444444, \"#26828e\"], [0.5555555555555556, \"#1f9e89\"], [0.6666666666666666, \"#35b779\"], [0.7777777777777778, \"#6ece58\"], [0.8888888888888888, \"#b5de2b\"], [1.0, \"#fde725\"]], \"type\": \"surface\"}], \"table\": [{\"cells\": {\"fill\": {\"color\": \"rgb(237,237,237)\"}, \"line\": {\"color\": \"white\"}}, \"header\": {\"fill\": {\"color\": \"rgb(217,217,217)\"}, \"line\": {\"color\": \"white\"}}, \"type\": \"table\"}]}, \"layout\": {\"annotationdefaults\": {\"arrowhead\": 0, \"arrowwidth\": 1}, \"autotypenumbers\": \"strict\", \"coloraxis\": {\"colorbar\": {\"outlinewidth\": 1, \"tickcolor\": \"rgb(36,36,36)\", \"ticks\": \"outside\"}}, \"colorscale\": {\"diverging\": [[0.0, \"rgb(103,0,31)\"], [0.1, \"rgb(178,24,43)\"], [0.2, \"rgb(214,96,77)\"], [0.3, \"rgb(244,165,130)\"], [0.4, \"rgb(253,219,199)\"], [0.5, \"rgb(247,247,247)\"], [0.6, \"rgb(209,229,240)\"], [0.7, \"rgb(146,197,222)\"], [0.8, \"rgb(67,147,195)\"], [0.9, \"rgb(33,102,172)\"], [1.0, \"rgb(5,48,97)\"]], \"sequential\": [[0.0, \"#440154\"], [0.1111111111111111, \"#482878\"], [0.2222222222222222, \"#3e4989\"], [0.3333333333333333, \"#31688e\"], [0.4444444444444444, \"#26828e\"], [0.5555555555555556, \"#1f9e89\"], [0.6666666666666666, \"#35b779\"], [0.7777777777777778, \"#6ece58\"], [0.8888888888888888, \"#b5de2b\"], [1.0, \"#fde725\"]], \"sequentialminus\": [[0.0, \"#440154\"], [0.1111111111111111, \"#482878\"], [0.2222222222222222, \"#3e4989\"], [0.3333333333333333, \"#31688e\"], [0.4444444444444444, \"#26828e\"], [0.5555555555555556, \"#1f9e89\"], [0.6666666666666666, \"#35b779\"], [0.7777777777777778, \"#6ece58\"], [0.8888888888888888, \"#b5de2b\"], [1.0, \"#fde725\"]]}, \"colorway\": [\"#1F77B4\", \"#FF7F0E\", \"#2CA02C\", \"#D62728\", \"#9467BD\", \"#8C564B\", \"#E377C2\", \"#7F7F7F\", \"#BCBD22\", \"#17BECF\"], \"font\": {\"color\": \"rgb(36,36,36)\"}, \"geo\": {\"bgcolor\": \"white\", \"lakecolor\": \"white\", \"landcolor\": \"white\", \"showlakes\": true, \"showland\": true, \"subunitcolor\": \"white\"}, \"hoverlabel\": {\"align\": \"left\"}, \"hovermode\": \"closest\", \"mapbox\": {\"style\": \"light\"}, \"paper_bgcolor\": \"white\", \"plot_bgcolor\": \"white\", \"polar\": {\"angularaxis\": {\"gridcolor\": \"rgb(232,232,232)\", \"linecolor\": \"rgb(36,36,36)\", \"showgrid\": false, \"showline\": true, \"ticks\": \"outside\"}, \"bgcolor\": \"white\", \"radialaxis\": {\"gridcolor\": \"rgb(232,232,232)\", \"linecolor\": \"rgb(36,36,36)\", \"showgrid\": false, \"showline\": true, \"ticks\": \"outside\"}}, \"scene\": {\"xaxis\": {\"backgroundcolor\": \"white\", \"gridcolor\": \"rgb(232,232,232)\", \"gridwidth\": 2, \"linecolor\": \"rgb(36,36,36)\", \"showbackground\": true, \"showgrid\": false, \"showline\": true, \"ticks\": \"outside\", \"zeroline\": false, \"zerolinecolor\": \"rgb(36,36,36)\"}, \"yaxis\": {\"backgroundcolor\": \"white\", \"gridcolor\": \"rgb(232,232,232)\", \"gridwidth\": 2, \"linecolor\": \"rgb(36,36,36)\", \"showbackground\": true, \"showgrid\": false, \"showline\": true, \"ticks\": \"outside\", \"zeroline\": false, \"zerolinecolor\": \"rgb(36,36,36)\"}, \"zaxis\": {\"backgroundcolor\": \"white\", \"gridcolor\": \"rgb(232,232,232)\", \"gridwidth\": 2, \"linecolor\": \"rgb(36,36,36)\", \"showbackground\": true, \"showgrid\": false, \"showline\": true, \"ticks\": \"outside\", \"zeroline\": false, \"zerolinecolor\": \"rgb(36,36,36)\"}}, \"shapedefaults\": {\"fillcolor\": \"black\", \"line\": {\"width\": 0}, \"opacity\": 0.3}, \"ternary\": {\"aaxis\": {\"gridcolor\": \"rgb(232,232,232)\", \"linecolor\": \"rgb(36,36,36)\", \"showgrid\": false, \"showline\": true, \"ticks\": \"outside\"}, \"baxis\": {\"gridcolor\": \"rgb(232,232,232)\", \"linecolor\": \"rgb(36,36,36)\", \"showgrid\": false, \"showline\": true, \"ticks\": \"outside\"}, \"bgcolor\": \"white\", \"caxis\": {\"gridcolor\": \"rgb(232,232,232)\", \"linecolor\": \"rgb(36,36,36)\", \"showgrid\": false, \"showline\": true, \"ticks\": \"outside\"}}, \"title\": {\"x\": 0.05}, \"xaxis\": {\"automargin\": true, \"gridcolor\": \"rgb(232,232,232)\", \"linecolor\": \"rgb(36,36,36)\", \"showgrid\": false, \"showline\": true, \"ticks\": \"outside\", \"title\": {\"standoff\": 15}, \"zeroline\": false, \"zerolinecolor\": \"rgb(36,36,36)\"}, \"yaxis\": {\"automargin\": true, \"gridcolor\": \"rgb(232,232,232)\", \"linecolor\": \"rgb(36,36,36)\", \"showgrid\": false, \"showline\": true, \"ticks\": \"outside\", \"title\": {\"standoff\": 15}, \"zeroline\": false, \"zerolinecolor\": \"rgb(36,36,36)\"}}}, \"title\": {\"font\": {\"color\": \"Black\", \"size\": 22}, \"text\": \"<b>Topic Probability Distribution\", \"x\": 0.5, \"xanchor\": \"center\", \"y\": 0.95, \"yanchor\": \"top\"}, \"width\": 800, \"xaxis\": {\"title\": {\"text\": \"Probability\"}}},                        {\"responsive\": true}                    ).then(function(){\n",
              "                            \n",
              "var gd = document.getElementById('9373c0d9-cafe-45ae-9365-531957a926d9');\n",
              "var x = new MutationObserver(function (mutations, observer) {{\n",
              "        var display = window.getComputedStyle(gd).display;\n",
              "        if (!display || display === 'none') {{\n",
              "            console.log([gd, 'removed!']);\n",
              "            Plotly.purge(gd);\n",
              "            observer.disconnect();\n",
              "        }}\n",
              "}});\n",
              "\n",
              "// Listen for the removal of the full notebook cells\n",
              "var notebookContainer = gd.closest('#notebook-container');\n",
              "if (notebookContainer) {{\n",
              "    x.observe(notebookContainer, {childList: true});\n",
              "}}\n",
              "\n",
              "// Listen for the clearing of the current output cell\n",
              "var outputEl = gd.closest('.output');\n",
              "if (outputEl) {{\n",
              "    x.observe(outputEl, {childList: true});\n",
              "}}\n",
              "\n",
              "                        })                };                            </script>        </div>\n",
              "</body>\n",
              "</html>"
            ]
          },
          "metadata": {
            "tags": []
          }
        }
      ]
    },
    {
      "cell_type": "code",
      "metadata": {
        "colab": {
          "base_uri": "https://localhost:8080/",
          "height": 617
        },
        "id": "DkzlpTsFepRI",
        "outputId": "380efc33-d751-40ae-f276-58884da7bebf"
      },
      "source": [
        "topic_model.visualize_hierarchy(top_n_topics=31)"
      ],
      "execution_count": 31,
      "outputs": [
        {
          "output_type": "display_data",
          "data": {
            "text/html": [
              "<html>\n",
              "<head><meta charset=\"utf-8\" /></head>\n",
              "<body>\n",
              "    <div>            <script src=\"https://cdnjs.cloudflare.com/ajax/libs/mathjax/2.7.5/MathJax.js?config=TeX-AMS-MML_SVG\"></script><script type=\"text/javascript\">if (window.MathJax) {MathJax.Hub.Config({SVG: {font: \"STIX-Web\"}});}</script>                <script type=\"text/javascript\">window.PlotlyConfig = {MathJaxConfig: 'local'};</script>\n",
              "        <script src=\"https://cdn.plot.ly/plotly-latest.min.js\"></script>                <div id=\"6df2a579-3673-46bb-bd3e-b67073305ad6\" class=\"plotly-graph-div\" style=\"height:600px; width:1000px;\"></div>            <script type=\"text/javascript\">                                    window.PLOTLYENV=window.PLOTLYENV || {};                                    if (document.getElementById(\"6df2a579-3673-46bb-bd3e-b67073305ad6\")) {                    Plotly.newPlot(                        \"6df2a579-3673-46bb-bd3e-b67073305ad6\",                        [{\"hoverinfo\": \"text\", \"marker\": {\"color\": \"rgb(61,153,112)\"}, \"mode\": \"lines\", \"type\": \"scatter\", \"x\": [0.0, 0.5836290469013571, 0.5836290469013571, 0.0], \"xaxis\": \"x\", \"y\": [-25.0, -25.0, -35.0, -35.0], \"yaxis\": \"y\"}, {\"hoverinfo\": \"text\", \"marker\": {\"color\": \"rgb(61,153,112)\"}, \"mode\": \"lines\", \"type\": \"scatter\", \"x\": [0.0, 0.6167711549805113, 0.6167711549805113, 0.5836290469013571], \"xaxis\": \"x\", \"y\": [-15.0, -15.0, -30.0, -30.0], \"yaxis\": \"y\"}, {\"hoverinfo\": \"text\", \"marker\": {\"color\": \"rgb(61,153,112)\"}, \"mode\": \"lines\", \"type\": \"scatter\", \"x\": [0.0, 0.8640007170966999, 0.8640007170966999, 0.6167711549805113], \"xaxis\": \"x\", \"y\": [-5.0, -5.0, -22.5, -22.5], \"yaxis\": \"y\"}, {\"hoverinfo\": \"text\", \"marker\": {\"color\": \"rgb(255,65,54)\"}, \"mode\": \"lines\", \"type\": \"scatter\", \"x\": [0.0, 0.8195977871737157, 0.8195977871737157, 0.0], \"xaxis\": \"x\", \"y\": [-45.0, -45.0, -55.0, -55.0], \"yaxis\": \"y\"}, {\"hoverinfo\": \"text\", \"marker\": {\"color\": \"rgb(255,65,54)\"}, \"mode\": \"lines\", \"type\": \"scatter\", \"x\": [0.0, 0.8851032370936499, 0.8851032370936499, 0.0], \"xaxis\": \"x\", \"y\": [-65.0, -65.0, -75.0, -75.0], \"yaxis\": \"y\"}, {\"hoverinfo\": \"text\", \"marker\": {\"color\": \"rgb(255,65,54)\"}, \"mode\": \"lines\", \"type\": \"scatter\", \"x\": [0.8195977871737157, 0.9596002972736534, 0.9596002972736534, 0.8851032370936499], \"xaxis\": \"x\", \"y\": [-50.0, -50.0, -70.0, -70.0], \"yaxis\": \"y\"}, {\"hoverinfo\": \"text\", \"marker\": {\"color\": \"rgb(0,116,217)\"}, \"mode\": \"lines\", \"type\": \"scatter\", \"x\": [0.8640007170966999, 1.3683084529550218, 1.3683084529550218, 0.9596002972736534], \"xaxis\": \"x\", \"y\": [-13.75, -13.75, -60.0, -60.0], \"yaxis\": \"y\"}, {\"hoverinfo\": \"text\", \"marker\": {\"color\": \"rgb(35,205,205)\"}, \"mode\": \"lines\", \"type\": \"scatter\", \"x\": [0.0, 0.7498390742060401, 0.7498390742060401, 0.0], \"xaxis\": \"x\", \"y\": [-85.0, -85.0, -95.0, -95.0], \"yaxis\": \"y\"}, {\"hoverinfo\": \"text\", \"marker\": {\"color\": \"rgb(35,205,205)\"}, \"mode\": \"lines\", \"type\": \"scatter\", \"x\": [0.0, 0.6369874831092373, 0.6369874831092373, 0.0], \"xaxis\": \"x\", \"y\": [-115.0, -115.0, -125.0, -125.0], \"yaxis\": \"y\"}, {\"hoverinfo\": \"text\", \"marker\": {\"color\": \"rgb(35,205,205)\"}, \"mode\": \"lines\", \"type\": \"scatter\", \"x\": [0.0, 0.7561077804709212, 0.7561077804709212, 0.6369874831092373], \"xaxis\": \"x\", \"y\": [-105.0, -105.0, -120.0, -120.0], \"yaxis\": \"y\"}, {\"hoverinfo\": \"text\", \"marker\": {\"color\": \"rgb(35,205,205)\"}, \"mode\": \"lines\", \"type\": \"scatter\", \"x\": [0.7498390742060401, 0.976443185023078, 0.976443185023078, 0.7561077804709212], \"xaxis\": \"x\", \"y\": [-90.0, -90.0, -112.5, -112.5], \"yaxis\": \"y\"}, {\"hoverinfo\": \"text\", \"marker\": {\"color\": \"rgb(133,20,75)\"}, \"mode\": \"lines\", \"type\": \"scatter\", \"x\": [0.0, 0.6207969566062993, 0.6207969566062993, 0.0], \"xaxis\": \"x\", \"y\": [-145.0, -145.0, -155.0, -155.0], \"yaxis\": \"y\"}, {\"hoverinfo\": \"text\", \"marker\": {\"color\": \"rgb(133,20,75)\"}, \"mode\": \"lines\", \"type\": \"scatter\", \"x\": [0.0, 0.7003207228678321, 0.7003207228678321, 0.6207969566062993], \"xaxis\": \"x\", \"y\": [-135.0, -135.0, -150.0, -150.0], \"yaxis\": \"y\"}, {\"hoverinfo\": \"text\", \"marker\": {\"color\": \"rgb(255,220,0)\"}, \"mode\": \"lines\", \"type\": \"scatter\", \"x\": [0.0, 0.7374958970677123, 0.7374958970677123, 0.0], \"xaxis\": \"x\", \"y\": [-185.0, -185.0, -195.0, -195.0], \"yaxis\": \"y\"}, {\"hoverinfo\": \"text\", \"marker\": {\"color\": \"rgb(255,220,0)\"}, \"mode\": \"lines\", \"type\": \"scatter\", \"x\": [0.0, 0.8339369570483613, 0.8339369570483613, 0.7374958970677123], \"xaxis\": \"x\", \"y\": [-175.0, -175.0, -190.0, -190.0], \"yaxis\": \"y\"}, {\"hoverinfo\": \"text\", \"marker\": {\"color\": \"rgb(0,116,217)\"}, \"mode\": \"lines\", \"type\": \"scatter\", \"x\": [0.0, 1.1062343060807747, 1.1062343060807747, 0.8339369570483613], \"xaxis\": \"x\", \"y\": [-165.0, -165.0, -182.5, -182.5], \"yaxis\": \"y\"}, {\"hoverinfo\": \"text\", \"marker\": {\"color\": \"rgb(0,116,217)\"}, \"mode\": \"lines\", \"type\": \"scatter\", \"x\": [0.7003207228678321, 1.2937117261805646, 1.2937117261805646, 1.1062343060807747], \"xaxis\": \"x\", \"y\": [-142.5, -142.5, -173.75, -173.75], \"yaxis\": \"y\"}, {\"hoverinfo\": \"text\", \"marker\": {\"color\": \"rgb(0,116,217)\"}, \"mode\": \"lines\", \"type\": \"scatter\", \"x\": [0.976443185023078, 1.750826197637085, 1.750826197637085, 1.2937117261805646], \"xaxis\": \"x\", \"y\": [-101.25, -101.25, -158.125, -158.125], \"yaxis\": \"y\"}, {\"hoverinfo\": \"text\", \"marker\": {\"color\": \"rgb(0,116,217)\"}, \"mode\": \"lines\", \"type\": \"scatter\", \"x\": [1.3683084529550218, 2.2196299428975665, 2.2196299428975665, 1.750826197637085], \"xaxis\": \"x\", \"y\": [-36.875, -36.875, -129.6875, -129.6875], \"yaxis\": \"y\"}, {\"hoverinfo\": \"text\", \"marker\": {\"color\": \"rgb(40,35,35)\"}, \"mode\": \"lines\", \"type\": \"scatter\", \"x\": [0.0, 0.5009751325624099, 0.5009751325624099, 0.0], \"xaxis\": \"x\", \"y\": [-205.0, -205.0, -215.0, -215.0], \"yaxis\": \"y\"}, {\"hoverinfo\": \"text\", \"marker\": {\"color\": \"rgb(61,153,112)\"}, \"mode\": \"lines\", \"type\": \"scatter\", \"x\": [0.0, 0.4029011784684499, 0.4029011784684499, 0.0], \"xaxis\": \"x\", \"y\": [-235.0, -235.0, -245.0, -245.0], \"yaxis\": \"y\"}, {\"hoverinfo\": \"text\", \"marker\": {\"color\": \"rgb(61,153,112)\"}, \"mode\": \"lines\", \"type\": \"scatter\", \"x\": [0.0, 0.8225062002558075, 0.8225062002558075, 0.4029011784684499], \"xaxis\": \"x\", \"y\": [-225.0, -225.0, -240.0, -240.0], \"yaxis\": \"y\"}, {\"hoverinfo\": \"text\", \"marker\": {\"color\": \"rgb(0,116,217)\"}, \"mode\": \"lines\", \"type\": \"scatter\", \"x\": [0.5009751325624099, 1.0544209638948978, 1.0544209638948978, 0.8225062002558075], \"xaxis\": \"x\", \"y\": [-210.0, -210.0, -232.5, -232.5], \"yaxis\": \"y\"}, {\"hoverinfo\": \"text\", \"marker\": {\"color\": \"rgb(0,116,217)\"}, \"mode\": \"lines\", \"type\": \"scatter\", \"x\": [0.0, 1.0700288325235694, 1.0700288325235694, 0.0], \"xaxis\": \"x\", \"y\": [-255.0, -255.0, -265.0, -265.0], \"yaxis\": \"y\"}, {\"hoverinfo\": \"text\", \"marker\": {\"color\": \"rgb(255,65,54)\"}, \"mode\": \"lines\", \"type\": \"scatter\", \"x\": [0.0, 0.9709163396896384, 0.9709163396896384, 0.0], \"xaxis\": \"x\", \"y\": [-285.0, -285.0, -295.0, -295.0], \"yaxis\": \"y\"}, {\"hoverinfo\": \"text\", \"marker\": {\"color\": \"rgb(0,116,217)\"}, \"mode\": \"lines\", \"type\": \"scatter\", \"x\": [0.0, 1.0866973965980793, 1.0866973965980793, 0.9709163396896384], \"xaxis\": \"x\", \"y\": [-275.0, -275.0, -290.0, -290.0], \"yaxis\": \"y\"}, {\"hoverinfo\": \"text\", \"marker\": {\"color\": \"rgb(0,116,217)\"}, \"mode\": \"lines\", \"type\": \"scatter\", \"x\": [1.0700288325235694, 1.661378612685488, 1.661378612685488, 1.0866973965980793], \"xaxis\": \"x\", \"y\": [-260.0, -260.0, -282.5, -282.5], \"yaxis\": \"y\"}, {\"hoverinfo\": \"text\", \"marker\": {\"color\": \"rgb(0,116,217)\"}, \"mode\": \"lines\", \"type\": \"scatter\", \"x\": [1.0544209638948978, 2.4386589708012427, 2.4386589708012427, 1.661378612685488], \"xaxis\": \"x\", \"y\": [-221.25, -221.25, -271.25, -271.25], \"yaxis\": \"y\"}, {\"hoverinfo\": \"text\", \"marker\": {\"color\": \"rgb(0,116,217)\"}, \"mode\": \"lines\", \"type\": \"scatter\", \"x\": [2.2196299428975665, 2.7728444104384824, 2.7728444104384824, 2.4386589708012427], \"xaxis\": \"x\", \"y\": [-83.28125, -83.28125, -246.25, -246.25], \"yaxis\": \"y\"}],                        {\"autosize\": false, \"height\": 600, \"hoverlabel\": {\"bgcolor\": \"white\", \"font\": {\"family\": \"Rockwell\", \"size\": 16}}, \"hovermode\": \"closest\", \"plot_bgcolor\": \"#ECEFF1\", \"showlegend\": false, \"template\": {\"data\": {\"bar\": [{\"error_x\": {\"color\": \"#2a3f5f\"}, \"error_y\": {\"color\": \"#2a3f5f\"}, \"marker\": {\"line\": {\"color\": \"white\", \"width\": 0.5}}, \"type\": \"bar\"}], \"barpolar\": [{\"marker\": {\"line\": {\"color\": \"white\", \"width\": 0.5}}, \"type\": \"barpolar\"}], \"carpet\": [{\"aaxis\": {\"endlinecolor\": \"#2a3f5f\", \"gridcolor\": \"#C8D4E3\", \"linecolor\": \"#C8D4E3\", \"minorgridcolor\": \"#C8D4E3\", \"startlinecolor\": \"#2a3f5f\"}, \"baxis\": {\"endlinecolor\": \"#2a3f5f\", \"gridcolor\": \"#C8D4E3\", \"linecolor\": \"#C8D4E3\", \"minorgridcolor\": \"#C8D4E3\", \"startlinecolor\": \"#2a3f5f\"}, \"type\": \"carpet\"}], \"choropleth\": [{\"colorbar\": {\"outlinewidth\": 0, \"ticks\": \"\"}, \"type\": \"choropleth\"}], \"contour\": [{\"colorbar\": {\"outlinewidth\": 0, \"ticks\": \"\"}, \"colorscale\": [[0.0, \"#0d0887\"], [0.1111111111111111, \"#46039f\"], [0.2222222222222222, \"#7201a8\"], [0.3333333333333333, \"#9c179e\"], [0.4444444444444444, \"#bd3786\"], [0.5555555555555556, \"#d8576b\"], [0.6666666666666666, \"#ed7953\"], [0.7777777777777778, \"#fb9f3a\"], [0.8888888888888888, \"#fdca26\"], [1.0, \"#f0f921\"]], \"type\": \"contour\"}], \"contourcarpet\": [{\"colorbar\": {\"outlinewidth\": 0, \"ticks\": \"\"}, \"type\": \"contourcarpet\"}], \"heatmap\": [{\"colorbar\": {\"outlinewidth\": 0, \"ticks\": \"\"}, \"colorscale\": [[0.0, \"#0d0887\"], [0.1111111111111111, \"#46039f\"], [0.2222222222222222, \"#7201a8\"], [0.3333333333333333, \"#9c179e\"], [0.4444444444444444, \"#bd3786\"], [0.5555555555555556, \"#d8576b\"], [0.6666666666666666, \"#ed7953\"], [0.7777777777777778, \"#fb9f3a\"], [0.8888888888888888, \"#fdca26\"], [1.0, \"#f0f921\"]], \"type\": \"heatmap\"}], \"heatmapgl\": [{\"colorbar\": {\"outlinewidth\": 0, \"ticks\": \"\"}, \"colorscale\": [[0.0, \"#0d0887\"], [0.1111111111111111, \"#46039f\"], [0.2222222222222222, \"#7201a8\"], [0.3333333333333333, \"#9c179e\"], [0.4444444444444444, \"#bd3786\"], [0.5555555555555556, \"#d8576b\"], [0.6666666666666666, \"#ed7953\"], [0.7777777777777778, \"#fb9f3a\"], [0.8888888888888888, \"#fdca26\"], [1.0, \"#f0f921\"]], \"type\": \"heatmapgl\"}], \"histogram\": [{\"marker\": {\"colorbar\": {\"outlinewidth\": 0, \"ticks\": \"\"}}, \"type\": \"histogram\"}], \"histogram2d\": [{\"colorbar\": {\"outlinewidth\": 0, \"ticks\": \"\"}, \"colorscale\": [[0.0, \"#0d0887\"], [0.1111111111111111, \"#46039f\"], [0.2222222222222222, \"#7201a8\"], [0.3333333333333333, \"#9c179e\"], [0.4444444444444444, \"#bd3786\"], [0.5555555555555556, \"#d8576b\"], [0.6666666666666666, \"#ed7953\"], [0.7777777777777778, \"#fb9f3a\"], [0.8888888888888888, \"#fdca26\"], [1.0, \"#f0f921\"]], \"type\": \"histogram2d\"}], \"histogram2dcontour\": [{\"colorbar\": {\"outlinewidth\": 0, \"ticks\": \"\"}, \"colorscale\": [[0.0, \"#0d0887\"], [0.1111111111111111, \"#46039f\"], [0.2222222222222222, \"#7201a8\"], [0.3333333333333333, \"#9c179e\"], [0.4444444444444444, \"#bd3786\"], [0.5555555555555556, \"#d8576b\"], [0.6666666666666666, \"#ed7953\"], [0.7777777777777778, \"#fb9f3a\"], [0.8888888888888888, \"#fdca26\"], [1.0, \"#f0f921\"]], \"type\": \"histogram2dcontour\"}], \"mesh3d\": [{\"colorbar\": {\"outlinewidth\": 0, \"ticks\": \"\"}, \"type\": \"mesh3d\"}], \"parcoords\": [{\"line\": {\"colorbar\": {\"outlinewidth\": 0, \"ticks\": \"\"}}, \"type\": \"parcoords\"}], \"pie\": [{\"automargin\": true, \"type\": \"pie\"}], \"scatter\": [{\"marker\": {\"colorbar\": {\"outlinewidth\": 0, \"ticks\": \"\"}}, \"type\": \"scatter\"}], \"scatter3d\": [{\"line\": {\"colorbar\": {\"outlinewidth\": 0, \"ticks\": \"\"}}, \"marker\": {\"colorbar\": {\"outlinewidth\": 0, \"ticks\": \"\"}}, \"type\": \"scatter3d\"}], \"scattercarpet\": [{\"marker\": {\"colorbar\": {\"outlinewidth\": 0, \"ticks\": \"\"}}, \"type\": \"scattercarpet\"}], \"scattergeo\": [{\"marker\": {\"colorbar\": {\"outlinewidth\": 0, \"ticks\": \"\"}}, \"type\": \"scattergeo\"}], \"scattergl\": [{\"marker\": {\"colorbar\": {\"outlinewidth\": 0, \"ticks\": \"\"}}, \"type\": \"scattergl\"}], \"scattermapbox\": [{\"marker\": {\"colorbar\": {\"outlinewidth\": 0, \"ticks\": \"\"}}, \"type\": \"scattermapbox\"}], \"scatterpolar\": [{\"marker\": {\"colorbar\": {\"outlinewidth\": 0, \"ticks\": \"\"}}, \"type\": \"scatterpolar\"}], \"scatterpolargl\": [{\"marker\": {\"colorbar\": {\"outlinewidth\": 0, \"ticks\": \"\"}}, \"type\": \"scatterpolargl\"}], \"scatterternary\": [{\"marker\": {\"colorbar\": {\"outlinewidth\": 0, \"ticks\": \"\"}}, \"type\": \"scatterternary\"}], \"surface\": [{\"colorbar\": {\"outlinewidth\": 0, \"ticks\": \"\"}, \"colorscale\": [[0.0, \"#0d0887\"], [0.1111111111111111, \"#46039f\"], [0.2222222222222222, \"#7201a8\"], [0.3333333333333333, \"#9c179e\"], [0.4444444444444444, \"#bd3786\"], [0.5555555555555556, \"#d8576b\"], [0.6666666666666666, \"#ed7953\"], [0.7777777777777778, \"#fb9f3a\"], [0.8888888888888888, \"#fdca26\"], [1.0, \"#f0f921\"]], \"type\": \"surface\"}], \"table\": [{\"cells\": {\"fill\": {\"color\": \"#EBF0F8\"}, \"line\": {\"color\": \"white\"}}, \"header\": {\"fill\": {\"color\": \"#C8D4E3\"}, \"line\": {\"color\": \"white\"}}, \"type\": \"table\"}]}, \"layout\": {\"annotationdefaults\": {\"arrowcolor\": \"#2a3f5f\", \"arrowhead\": 0, \"arrowwidth\": 1}, \"autotypenumbers\": \"strict\", \"coloraxis\": {\"colorbar\": {\"outlinewidth\": 0, \"ticks\": \"\"}}, \"colorscale\": {\"diverging\": [[0, \"#8e0152\"], [0.1, \"#c51b7d\"], [0.2, \"#de77ae\"], [0.3, \"#f1b6da\"], [0.4, \"#fde0ef\"], [0.5, \"#f7f7f7\"], [0.6, \"#e6f5d0\"], [0.7, \"#b8e186\"], [0.8, \"#7fbc41\"], [0.9, \"#4d9221\"], [1, \"#276419\"]], \"sequential\": [[0.0, \"#0d0887\"], [0.1111111111111111, \"#46039f\"], [0.2222222222222222, \"#7201a8\"], [0.3333333333333333, \"#9c179e\"], [0.4444444444444444, \"#bd3786\"], [0.5555555555555556, \"#d8576b\"], [0.6666666666666666, \"#ed7953\"], [0.7777777777777778, \"#fb9f3a\"], [0.8888888888888888, \"#fdca26\"], [1.0, \"#f0f921\"]], \"sequentialminus\": [[0.0, \"#0d0887\"], [0.1111111111111111, \"#46039f\"], [0.2222222222222222, \"#7201a8\"], [0.3333333333333333, \"#9c179e\"], [0.4444444444444444, \"#bd3786\"], [0.5555555555555556, \"#d8576b\"], [0.6666666666666666, \"#ed7953\"], [0.7777777777777778, \"#fb9f3a\"], [0.8888888888888888, \"#fdca26\"], [1.0, \"#f0f921\"]]}, \"colorway\": [\"#636efa\", \"#EF553B\", \"#00cc96\", \"#ab63fa\", \"#FFA15A\", \"#19d3f3\", \"#FF6692\", \"#B6E880\", \"#FF97FF\", \"#FECB52\"], \"font\": {\"color\": \"#2a3f5f\"}, \"geo\": {\"bgcolor\": \"white\", \"lakecolor\": \"white\", \"landcolor\": \"white\", \"showlakes\": true, \"showland\": true, \"subunitcolor\": \"#C8D4E3\"}, \"hoverlabel\": {\"align\": \"left\"}, \"hovermode\": \"closest\", \"mapbox\": {\"style\": \"light\"}, \"paper_bgcolor\": \"white\", \"plot_bgcolor\": \"white\", \"polar\": {\"angularaxis\": {\"gridcolor\": \"#EBF0F8\", \"linecolor\": \"#EBF0F8\", \"ticks\": \"\"}, \"bgcolor\": \"white\", \"radialaxis\": {\"gridcolor\": \"#EBF0F8\", \"linecolor\": \"#EBF0F8\", \"ticks\": \"\"}}, \"scene\": {\"xaxis\": {\"backgroundcolor\": \"white\", \"gridcolor\": \"#DFE8F3\", \"gridwidth\": 2, \"linecolor\": \"#EBF0F8\", \"showbackground\": true, \"ticks\": \"\", \"zerolinecolor\": \"#EBF0F8\"}, \"yaxis\": {\"backgroundcolor\": \"white\", \"gridcolor\": \"#DFE8F3\", \"gridwidth\": 2, \"linecolor\": \"#EBF0F8\", \"showbackground\": true, \"ticks\": \"\", \"zerolinecolor\": \"#EBF0F8\"}, \"zaxis\": {\"backgroundcolor\": \"white\", \"gridcolor\": \"#DFE8F3\", \"gridwidth\": 2, \"linecolor\": \"#EBF0F8\", \"showbackground\": true, \"ticks\": \"\", \"zerolinecolor\": \"#EBF0F8\"}}, \"shapedefaults\": {\"line\": {\"color\": \"#2a3f5f\"}}, \"ternary\": {\"aaxis\": {\"gridcolor\": \"#DFE8F3\", \"linecolor\": \"#A2B1C6\", \"ticks\": \"\"}, \"baxis\": {\"gridcolor\": \"#DFE8F3\", \"linecolor\": \"#A2B1C6\", \"ticks\": \"\"}, \"bgcolor\": \"white\", \"caxis\": {\"gridcolor\": \"#DFE8F3\", \"linecolor\": \"#A2B1C6\", \"ticks\": \"\"}}, \"title\": {\"x\": 0.05}, \"xaxis\": {\"automargin\": true, \"gridcolor\": \"#EBF0F8\", \"linecolor\": \"#EBF0F8\", \"ticks\": \"\", \"title\": {\"standoff\": 15}, \"zerolinecolor\": \"#EBF0F8\", \"zerolinewidth\": 2}, \"yaxis\": {\"automargin\": true, \"gridcolor\": \"#EBF0F8\", \"linecolor\": \"#EBF0F8\", \"ticks\": \"\", \"title\": {\"standoff\": 15}, \"zerolinecolor\": \"#EBF0F8\", \"zerolinewidth\": 2}}}, \"title\": {\"font\": {\"color\": \"Black\", \"size\": 22}, \"text\": \"<b>Hierarchical Clustering\", \"x\": 0.5, \"xanchor\": \"center\", \"y\": 0.95, \"yanchor\": \"top\"}, \"width\": 1000, \"xaxis\": {\"mirror\": \"allticks\", \"rangemode\": \"tozero\", \"showgrid\": false, \"showline\": true, \"showticklabels\": true, \"ticks\": \"outside\", \"type\": \"linear\", \"zeroline\": false}, \"yaxis\": {\"mirror\": \"allticks\", \"rangemode\": \"tozero\", \"showgrid\": false, \"showline\": true, \"showticklabels\": true, \"tickmode\": \"array\", \"ticks\": \"outside\", \"ticktext\": [\"9_customer_retail_customers\", \"0_amazon_apple_work\", \"3_microsoft_software_company\", \"13_google_facebook_people\", \"10_leadership_leadership pr...\", \"15_career_opportunities_gro...\", \"4_company work_great compan...\", \"26_company_growing_growth\", \"6_overtime_hours_day\", \"8_life balance_work life_wo...\", \"14_place work_place_great p...\", \"7_environment_work environm...\", \"28_home_work home_working h...\", \"20_smart_smart people_work ...\", \"1_learn_technology_learning\", \"24_projects_interesting pro...\", \"27_work culture_great cultu...\", \"23_intern_easy job_easy get\", \"16_coworkers_great coworker...\", \"22_great training_training ...\", \"12_pay_good pay_good\", \"25_good salary_good_salary ...\", \"17_insurance_benefits_dental\", \"11_benefits_good_great bene...\", \"18_good_good benefits_pay b...\", \"2_team_teams_great team\", \"21_de_et_und\", \"5_food_free food_gym\", \"19_stock_stock options_opti...\", \"29_discounts_discount_benef...\"], \"tickvals\": [-5.0, -15.0, -25.0, -35.0, -45.0, -55.0, -65.0, -75.0, -85.0, -95.0, -105.0, -115.0, -125.0, -135.0, -145.0, -155.0, -165.0, -175.0, -185.0, -195.0, -205.0, -215.0, -225.0, -235.0, -245.0, -255.0, -265.0, -275.0, -285.0, -295.0], \"type\": \"linear\", \"zeroline\": false}},                        {\"responsive\": true}                    ).then(function(){\n",
              "                            \n",
              "var gd = document.getElementById('6df2a579-3673-46bb-bd3e-b67073305ad6');\n",
              "var x = new MutationObserver(function (mutations, observer) {{\n",
              "        var display = window.getComputedStyle(gd).display;\n",
              "        if (!display || display === 'none') {{\n",
              "            console.log([gd, 'removed!']);\n",
              "            Plotly.purge(gd);\n",
              "            observer.disconnect();\n",
              "        }}\n",
              "}});\n",
              "\n",
              "// Listen for the removal of the full notebook cells\n",
              "var notebookContainer = gd.closest('#notebook-container');\n",
              "if (notebookContainer) {{\n",
              "    x.observe(notebookContainer, {childList: true});\n",
              "}}\n",
              "\n",
              "// Listen for the clearing of the current output cell\n",
              "var outputEl = gd.closest('.output');\n",
              "if (outputEl) {{\n",
              "    x.observe(outputEl, {childList: true});\n",
              "}}\n",
              "\n",
              "                        })                };                            </script>        </div>\n",
              "</body>\n",
              "</html>"
            ]
          },
          "metadata": {
            "tags": []
          }
        }
      ]
    },
    {
      "cell_type": "code",
      "metadata": {
        "colab": {
          "base_uri": "https://localhost:8080/",
          "height": 617
        },
        "id": "MCGI2KCAepHQ",
        "outputId": "9be602ff-4ae7-407a-cd97-b2aa92252329"
      },
      "source": [
        "topic_model.visualize_barchart(top_n_topics=10)"
      ],
      "execution_count": 32,
      "outputs": [
        {
          "output_type": "display_data",
          "data": {
            "text/html": [
              "<html>\n",
              "<head><meta charset=\"utf-8\" /></head>\n",
              "<body>\n",
              "    <div>            <script src=\"https://cdnjs.cloudflare.com/ajax/libs/mathjax/2.7.5/MathJax.js?config=TeX-AMS-MML_SVG\"></script><script type=\"text/javascript\">if (window.MathJax) {MathJax.Hub.Config({SVG: {font: \"STIX-Web\"}});}</script>                <script type=\"text/javascript\">window.PlotlyConfig = {MathJaxConfig: 'local'};</script>\n",
              "        <script src=\"https://cdn.plot.ly/plotly-latest.min.js\"></script>                <div id=\"0f7653f6-5a43-493d-a07c-747bb44e2c86\" class=\"plotly-graph-div\" style=\"height:600px; width:800px;\"></div>            <script type=\"text/javascript\">                                    window.PLOTLYENV=window.PLOTLYENV || {};                                    if (document.getElementById(\"0f7653f6-5a43-493d-a07c-747bb44e2c86\")) {                    Plotly.newPlot(                        \"0f7653f6-5a43-493d-a07c-747bb44e2c86\",                        [{\"orientation\": \"h\", \"type\": \"bar\", \"x\": [0.0078070723693398625, 0.007972751174604758, 0.008506149823228303, 0.021177135655004085, 0.027296159037024852], \"xaxis\": \"x\", \"y\": [\"working  \", \"company  \", \"work  \", \"apple  \", \"amazon  \"], \"yaxis\": \"y\"}, {\"orientation\": \"h\", \"type\": \"bar\", \"x\": [0.012911933715050247, 0.014329449459814906, 0.02084585070935442, 0.02513424469652154, 0.03184520146043598], \"xaxis\": \"x2\", \"y\": [\"technologies  \", \"smart  \", \"learning  \", \"technology  \", \"learn  \"], \"yaxis\": \"y2\"}, {\"orientation\": \"h\", \"type\": \"bar\", \"x\": [0.008949782038157059, 0.009028172262273286, 0.017475900649842002, 0.03381615453468329, 0.05175060999481095], \"xaxis\": \"x3\", \"y\": [\"environment  \", \"team work  \", \"great team  \", \"teams  \", \"team  \"], \"yaxis\": \"y3\"}, {\"orientation\": \"h\", \"type\": \"bar\", \"x\": [0.007784837920566532, 0.008674319952738766, 0.010043808127899715, 0.013793895878953407, 0.04791339811348853], \"xaxis\": \"x4\", \"y\": [\"benefits  \", \"work  \", \"company  \", \"software  \", \"microsoft  \"], \"yaxis\": \"y4\"}, {\"orientation\": \"h\", \"type\": \"bar\", \"x\": [0.01807392631323217, 0.022121718963536183, 0.02622758106913261, 0.037074862843296794, 0.04111823977732474], \"xaxis\": \"x5\", \"y\": [\"company great  \", \"great company work  \", \"good company  \", \"great company  \", \"company work  \"], \"yaxis\": \"y5\"}, {\"orientation\": \"h\", \"type\": \"bar\", \"x\": [0.011030946576525553, 0.011859774269898213, 0.016955292922749245, 0.03332706105677034, 0.06576730282437593], \"xaxis\": \"x6\", \"y\": [\"lunch  \", \"perks  \", \"gym  \", \"free food  \", \"food  \"], \"yaxis\": \"y6\"}, {\"orientation\": \"h\", \"type\": \"bar\", \"x\": [0.01715826502177195, 0.01758817084667729, 0.02420668311511934, 0.026300716453265864, 0.030917201101886123], \"xaxis\": \"x7\", \"y\": [\"benefits  \", \"days  \", \"day  \", \"hours  \", \"overtime  \"], \"yaxis\": \"y7\"}, {\"orientation\": \"h\", \"type\": \"bar\", \"x\": [0.022976378557137883, 0.024631334294276445, 0.025264404599101276, 0.03348272508925697, 0.08149851031804377], \"xaxis\": \"x8\", \"y\": [\"environment good  \", \"working environment  \", \"work  \", \"work environment  \", \"environment  \"], \"yaxis\": \"y8\"}, {\"orientation\": \"h\", \"type\": \"bar\", \"x\": [0.028114851301827712, 0.03392614272120608, 0.06375281882146036, 0.06464156197999943, 0.06505533802007586], \"xaxis\": \"x9\", \"y\": [\"life balance good  \", \"worklife balance  \", \"work life balance  \", \"work life  \", \"life balance  \"], \"yaxis\": \"y9\"}, {\"orientation\": \"h\", \"type\": \"bar\", \"x\": [0.009652115752925596, 0.009829447146310033, 0.022363832123696185, 0.03252091948748778, 0.03985740463317114], \"xaxis\": \"x10\", \"y\": [\"pay  \", \"pay retail  \", \"customers  \", \"retail  \", \"customer  \"], \"yaxis\": \"y10\"}],                        {\"annotations\": [{\"font\": {\"size\": 16}, \"showarrow\": false, \"text\": \"Topic 0\", \"x\": 0.11666666666666665, \"xanchor\": \"center\", \"xref\": \"paper\", \"y\": 1.0, \"yanchor\": \"bottom\", \"yref\": \"paper\"}, {\"font\": {\"size\": 16}, \"showarrow\": false, \"text\": \"Topic 1\", \"x\": 0.49999999999999994, \"xanchor\": \"center\", \"xref\": \"paper\", \"y\": 1.0, \"yanchor\": \"bottom\", \"yref\": \"paper\"}, {\"font\": {\"size\": 16}, \"showarrow\": false, \"text\": \"Topic 2\", \"x\": 0.8833333333333333, \"xanchor\": \"center\", \"xref\": \"paper\", \"y\": 1.0, \"yanchor\": \"bottom\", \"yref\": \"paper\"}, {\"font\": {\"size\": 16}, \"showarrow\": false, \"text\": \"Topic 3\", \"x\": 0.11666666666666665, \"xanchor\": \"center\", \"xref\": \"paper\", \"y\": 0.7124999999999999, \"yanchor\": \"bottom\", \"yref\": \"paper\"}, {\"font\": {\"size\": 16}, \"showarrow\": false, \"text\": \"Topic 4\", \"x\": 0.49999999999999994, \"xanchor\": \"center\", \"xref\": \"paper\", \"y\": 0.7124999999999999, \"yanchor\": \"bottom\", \"yref\": \"paper\"}, {\"font\": {\"size\": 16}, \"showarrow\": false, \"text\": \"Topic 5\", \"x\": 0.8833333333333333, \"xanchor\": \"center\", \"xref\": \"paper\", \"y\": 0.7124999999999999, \"yanchor\": \"bottom\", \"yref\": \"paper\"}, {\"font\": {\"size\": 16}, \"showarrow\": false, \"text\": \"Topic 6\", \"x\": 0.11666666666666665, \"xanchor\": \"center\", \"xref\": \"paper\", \"y\": 0.425, \"yanchor\": \"bottom\", \"yref\": \"paper\"}, {\"font\": {\"size\": 16}, \"showarrow\": false, \"text\": \"Topic 7\", \"x\": 0.49999999999999994, \"xanchor\": \"center\", \"xref\": \"paper\", \"y\": 0.425, \"yanchor\": \"bottom\", \"yref\": \"paper\"}, {\"font\": {\"size\": 16}, \"showarrow\": false, \"text\": \"Topic 8\", \"x\": 0.8833333333333333, \"xanchor\": \"center\", \"xref\": \"paper\", \"y\": 0.425, \"yanchor\": \"bottom\", \"yref\": \"paper\"}, {\"font\": {\"size\": 16}, \"showarrow\": false, \"text\": \"Topic 9\", \"x\": 0.11666666666666665, \"xanchor\": \"center\", \"xref\": \"paper\", \"y\": 0.1375, \"yanchor\": \"bottom\", \"yref\": \"paper\"}], \"height\": 600, \"hoverlabel\": {\"bgcolor\": \"white\", \"font\": {\"family\": \"Rockwell\", \"size\": 16}}, \"showlegend\": false, \"template\": {\"data\": {\"bar\": [{\"error_x\": {\"color\": \"#2a3f5f\"}, \"error_y\": {\"color\": \"#2a3f5f\"}, \"marker\": {\"line\": {\"color\": \"white\", \"width\": 0.5}}, \"type\": \"bar\"}], \"barpolar\": [{\"marker\": {\"line\": {\"color\": \"white\", \"width\": 0.5}}, \"type\": \"barpolar\"}], \"carpet\": [{\"aaxis\": {\"endlinecolor\": \"#2a3f5f\", \"gridcolor\": \"#C8D4E3\", \"linecolor\": \"#C8D4E3\", \"minorgridcolor\": \"#C8D4E3\", \"startlinecolor\": \"#2a3f5f\"}, \"baxis\": {\"endlinecolor\": \"#2a3f5f\", \"gridcolor\": \"#C8D4E3\", \"linecolor\": \"#C8D4E3\", \"minorgridcolor\": \"#C8D4E3\", \"startlinecolor\": \"#2a3f5f\"}, \"type\": \"carpet\"}], \"choropleth\": [{\"colorbar\": {\"outlinewidth\": 0, \"ticks\": \"\"}, \"type\": \"choropleth\"}], \"contour\": [{\"colorbar\": {\"outlinewidth\": 0, \"ticks\": \"\"}, \"colorscale\": [[0.0, \"#0d0887\"], [0.1111111111111111, \"#46039f\"], [0.2222222222222222, \"#7201a8\"], [0.3333333333333333, \"#9c179e\"], [0.4444444444444444, \"#bd3786\"], [0.5555555555555556, \"#d8576b\"], [0.6666666666666666, \"#ed7953\"], [0.7777777777777778, \"#fb9f3a\"], [0.8888888888888888, \"#fdca26\"], [1.0, \"#f0f921\"]], \"type\": \"contour\"}], \"contourcarpet\": [{\"colorbar\": {\"outlinewidth\": 0, \"ticks\": \"\"}, \"type\": \"contourcarpet\"}], \"heatmap\": [{\"colorbar\": {\"outlinewidth\": 0, \"ticks\": \"\"}, \"colorscale\": [[0.0, \"#0d0887\"], [0.1111111111111111, \"#46039f\"], [0.2222222222222222, \"#7201a8\"], [0.3333333333333333, \"#9c179e\"], [0.4444444444444444, \"#bd3786\"], [0.5555555555555556, \"#d8576b\"], [0.6666666666666666, \"#ed7953\"], [0.7777777777777778, \"#fb9f3a\"], [0.8888888888888888, \"#fdca26\"], [1.0, \"#f0f921\"]], \"type\": \"heatmap\"}], \"heatmapgl\": [{\"colorbar\": {\"outlinewidth\": 0, \"ticks\": \"\"}, \"colorscale\": [[0.0, \"#0d0887\"], [0.1111111111111111, \"#46039f\"], [0.2222222222222222, \"#7201a8\"], [0.3333333333333333, \"#9c179e\"], [0.4444444444444444, \"#bd3786\"], [0.5555555555555556, \"#d8576b\"], [0.6666666666666666, \"#ed7953\"], [0.7777777777777778, \"#fb9f3a\"], [0.8888888888888888, \"#fdca26\"], [1.0, \"#f0f921\"]], \"type\": \"heatmapgl\"}], \"histogram\": [{\"marker\": {\"colorbar\": {\"outlinewidth\": 0, \"ticks\": \"\"}}, \"type\": \"histogram\"}], \"histogram2d\": [{\"colorbar\": {\"outlinewidth\": 0, \"ticks\": \"\"}, \"colorscale\": [[0.0, \"#0d0887\"], [0.1111111111111111, \"#46039f\"], [0.2222222222222222, \"#7201a8\"], [0.3333333333333333, \"#9c179e\"], [0.4444444444444444, \"#bd3786\"], [0.5555555555555556, \"#d8576b\"], [0.6666666666666666, \"#ed7953\"], [0.7777777777777778, \"#fb9f3a\"], [0.8888888888888888, \"#fdca26\"], [1.0, \"#f0f921\"]], \"type\": \"histogram2d\"}], \"histogram2dcontour\": [{\"colorbar\": {\"outlinewidth\": 0, \"ticks\": \"\"}, \"colorscale\": [[0.0, \"#0d0887\"], [0.1111111111111111, \"#46039f\"], [0.2222222222222222, \"#7201a8\"], [0.3333333333333333, \"#9c179e\"], [0.4444444444444444, \"#bd3786\"], [0.5555555555555556, \"#d8576b\"], [0.6666666666666666, \"#ed7953\"], [0.7777777777777778, \"#fb9f3a\"], [0.8888888888888888, \"#fdca26\"], [1.0, \"#f0f921\"]], \"type\": \"histogram2dcontour\"}], \"mesh3d\": [{\"colorbar\": {\"outlinewidth\": 0, \"ticks\": \"\"}, \"type\": \"mesh3d\"}], \"parcoords\": [{\"line\": {\"colorbar\": {\"outlinewidth\": 0, \"ticks\": \"\"}}, \"type\": \"parcoords\"}], \"pie\": [{\"automargin\": true, \"type\": \"pie\"}], \"scatter\": [{\"marker\": {\"colorbar\": {\"outlinewidth\": 0, \"ticks\": \"\"}}, \"type\": \"scatter\"}], \"scatter3d\": [{\"line\": {\"colorbar\": {\"outlinewidth\": 0, \"ticks\": \"\"}}, \"marker\": {\"colorbar\": {\"outlinewidth\": 0, \"ticks\": \"\"}}, \"type\": \"scatter3d\"}], \"scattercarpet\": [{\"marker\": {\"colorbar\": {\"outlinewidth\": 0, \"ticks\": \"\"}}, \"type\": \"scattercarpet\"}], \"scattergeo\": [{\"marker\": {\"colorbar\": {\"outlinewidth\": 0, \"ticks\": \"\"}}, \"type\": \"scattergeo\"}], \"scattergl\": [{\"marker\": {\"colorbar\": {\"outlinewidth\": 0, \"ticks\": \"\"}}, \"type\": \"scattergl\"}], \"scattermapbox\": [{\"marker\": {\"colorbar\": {\"outlinewidth\": 0, \"ticks\": \"\"}}, \"type\": \"scattermapbox\"}], \"scatterpolar\": [{\"marker\": {\"colorbar\": {\"outlinewidth\": 0, \"ticks\": \"\"}}, \"type\": \"scatterpolar\"}], \"scatterpolargl\": [{\"marker\": {\"colorbar\": {\"outlinewidth\": 0, \"ticks\": \"\"}}, \"type\": \"scatterpolargl\"}], \"scatterternary\": [{\"marker\": {\"colorbar\": {\"outlinewidth\": 0, \"ticks\": \"\"}}, \"type\": \"scatterternary\"}], \"surface\": [{\"colorbar\": {\"outlinewidth\": 0, \"ticks\": \"\"}, \"colorscale\": [[0.0, \"#0d0887\"], [0.1111111111111111, \"#46039f\"], [0.2222222222222222, \"#7201a8\"], [0.3333333333333333, \"#9c179e\"], [0.4444444444444444, \"#bd3786\"], [0.5555555555555556, \"#d8576b\"], [0.6666666666666666, \"#ed7953\"], [0.7777777777777778, \"#fb9f3a\"], [0.8888888888888888, \"#fdca26\"], [1.0, \"#f0f921\"]], \"type\": \"surface\"}], \"table\": [{\"cells\": {\"fill\": {\"color\": \"#EBF0F8\"}, \"line\": {\"color\": \"white\"}}, \"header\": {\"fill\": {\"color\": \"#C8D4E3\"}, \"line\": {\"color\": \"white\"}}, \"type\": \"table\"}]}, \"layout\": {\"annotationdefaults\": {\"arrowcolor\": \"#2a3f5f\", \"arrowhead\": 0, \"arrowwidth\": 1}, \"autotypenumbers\": \"strict\", \"coloraxis\": {\"colorbar\": {\"outlinewidth\": 0, \"ticks\": \"\"}}, \"colorscale\": {\"diverging\": [[0, \"#8e0152\"], [0.1, \"#c51b7d\"], [0.2, \"#de77ae\"], [0.3, \"#f1b6da\"], [0.4, \"#fde0ef\"], [0.5, \"#f7f7f7\"], [0.6, \"#e6f5d0\"], [0.7, \"#b8e186\"], [0.8, \"#7fbc41\"], [0.9, \"#4d9221\"], [1, \"#276419\"]], \"sequential\": [[0.0, \"#0d0887\"], [0.1111111111111111, \"#46039f\"], [0.2222222222222222, \"#7201a8\"], [0.3333333333333333, \"#9c179e\"], [0.4444444444444444, \"#bd3786\"], [0.5555555555555556, \"#d8576b\"], [0.6666666666666666, \"#ed7953\"], [0.7777777777777778, \"#fb9f3a\"], [0.8888888888888888, \"#fdca26\"], [1.0, \"#f0f921\"]], \"sequentialminus\": [[0.0, \"#0d0887\"], [0.1111111111111111, \"#46039f\"], [0.2222222222222222, \"#7201a8\"], [0.3333333333333333, \"#9c179e\"], [0.4444444444444444, \"#bd3786\"], [0.5555555555555556, \"#d8576b\"], [0.6666666666666666, \"#ed7953\"], [0.7777777777777778, \"#fb9f3a\"], [0.8888888888888888, \"#fdca26\"], [1.0, \"#f0f921\"]]}, \"colorway\": [\"#636efa\", \"#EF553B\", \"#00cc96\", \"#ab63fa\", \"#FFA15A\", \"#19d3f3\", \"#FF6692\", \"#B6E880\", \"#FF97FF\", \"#FECB52\"], \"font\": {\"color\": \"#2a3f5f\"}, \"geo\": {\"bgcolor\": \"white\", \"lakecolor\": \"white\", \"landcolor\": \"white\", \"showlakes\": true, \"showland\": true, \"subunitcolor\": \"#C8D4E3\"}, \"hoverlabel\": {\"align\": \"left\"}, \"hovermode\": \"closest\", \"mapbox\": {\"style\": \"light\"}, \"paper_bgcolor\": \"white\", \"plot_bgcolor\": \"white\", \"polar\": {\"angularaxis\": {\"gridcolor\": \"#EBF0F8\", \"linecolor\": \"#EBF0F8\", \"ticks\": \"\"}, \"bgcolor\": \"white\", \"radialaxis\": {\"gridcolor\": \"#EBF0F8\", \"linecolor\": \"#EBF0F8\", \"ticks\": \"\"}}, \"scene\": {\"xaxis\": {\"backgroundcolor\": \"white\", \"gridcolor\": \"#DFE8F3\", \"gridwidth\": 2, \"linecolor\": \"#EBF0F8\", \"showbackground\": true, \"ticks\": \"\", \"zerolinecolor\": \"#EBF0F8\"}, \"yaxis\": {\"backgroundcolor\": \"white\", \"gridcolor\": \"#DFE8F3\", \"gridwidth\": 2, \"linecolor\": \"#EBF0F8\", \"showbackground\": true, \"ticks\": \"\", \"zerolinecolor\": \"#EBF0F8\"}, \"zaxis\": {\"backgroundcolor\": \"white\", \"gridcolor\": \"#DFE8F3\", \"gridwidth\": 2, \"linecolor\": \"#EBF0F8\", \"showbackground\": true, \"ticks\": \"\", \"zerolinecolor\": \"#EBF0F8\"}}, \"shapedefaults\": {\"line\": {\"color\": \"#2a3f5f\"}}, \"ternary\": {\"aaxis\": {\"gridcolor\": \"#DFE8F3\", \"linecolor\": \"#A2B1C6\", \"ticks\": \"\"}, \"baxis\": {\"gridcolor\": \"#DFE8F3\", \"linecolor\": \"#A2B1C6\", \"ticks\": \"\"}, \"bgcolor\": \"white\", \"caxis\": {\"gridcolor\": \"#DFE8F3\", \"linecolor\": \"#A2B1C6\", \"ticks\": \"\"}}, \"title\": {\"x\": 0.05}, \"xaxis\": {\"automargin\": true, \"gridcolor\": \"#EBF0F8\", \"linecolor\": \"#EBF0F8\", \"ticks\": \"\", \"title\": {\"standoff\": 15}, \"zerolinecolor\": \"#EBF0F8\", \"zerolinewidth\": 2}, \"yaxis\": {\"automargin\": true, \"gridcolor\": \"#EBF0F8\", \"linecolor\": \"#EBF0F8\", \"ticks\": \"\", \"title\": {\"standoff\": 15}, \"zerolinecolor\": \"#EBF0F8\", \"zerolinewidth\": 2}}}, \"title\": {\"font\": {\"color\": \"Black\", \"size\": 22}, \"text\": \"<b>Topic Word Scores\", \"x\": 0.15, \"xanchor\": \"center\", \"y\": 0.95, \"yanchor\": \"top\"}, \"width\": 800, \"xaxis\": {\"anchor\": \"y\", \"domain\": [0.0, 0.2333333333333333], \"matches\": \"x10\", \"showgrid\": true, \"showticklabels\": false}, \"xaxis10\": {\"anchor\": \"y10\", \"domain\": [0.0, 0.2333333333333333], \"showgrid\": true}, \"xaxis11\": {\"anchor\": \"y11\", \"domain\": [0.3833333333333333, 0.6166666666666666], \"showgrid\": true}, \"xaxis12\": {\"anchor\": \"y12\", \"domain\": [0.7666666666666666, 0.9999999999999999], \"showgrid\": true}, \"xaxis2\": {\"anchor\": \"y2\", \"domain\": [0.3833333333333333, 0.6166666666666666], \"matches\": \"x11\", \"showgrid\": true, \"showticklabels\": false}, \"xaxis3\": {\"anchor\": \"y3\", \"domain\": [0.7666666666666666, 0.9999999999999999], \"matches\": \"x12\", \"showgrid\": true, \"showticklabels\": false}, \"xaxis4\": {\"anchor\": \"y4\", \"domain\": [0.0, 0.2333333333333333], \"matches\": \"x10\", \"showgrid\": true, \"showticklabels\": false}, \"xaxis5\": {\"anchor\": \"y5\", \"domain\": [0.3833333333333333, 0.6166666666666666], \"matches\": \"x11\", \"showgrid\": true, \"showticklabels\": false}, \"xaxis6\": {\"anchor\": \"y6\", \"domain\": [0.7666666666666666, 0.9999999999999999], \"matches\": \"x12\", \"showgrid\": true, \"showticklabels\": false}, \"xaxis7\": {\"anchor\": \"y7\", \"domain\": [0.0, 0.2333333333333333], \"matches\": \"x10\", \"showgrid\": true, \"showticklabels\": false}, \"xaxis8\": {\"anchor\": \"y8\", \"domain\": [0.3833333333333333, 0.6166666666666666], \"matches\": \"x11\", \"showgrid\": true, \"showticklabels\": false}, \"xaxis9\": {\"anchor\": \"y9\", \"domain\": [0.7666666666666666, 0.9999999999999999], \"matches\": \"x12\", \"showgrid\": true, \"showticklabels\": false}, \"yaxis\": {\"anchor\": \"x\", \"domain\": [0.8625, 1.0], \"showgrid\": true}, \"yaxis10\": {\"anchor\": \"x10\", \"domain\": [0.0, 0.1375], \"showgrid\": true}, \"yaxis11\": {\"anchor\": \"x11\", \"domain\": [0.0, 0.1375], \"showgrid\": true}, \"yaxis12\": {\"anchor\": \"x12\", \"domain\": [0.0, 0.1375], \"showgrid\": true}, \"yaxis2\": {\"anchor\": \"x2\", \"domain\": [0.8625, 1.0], \"showgrid\": true}, \"yaxis3\": {\"anchor\": \"x3\", \"domain\": [0.8625, 1.0], \"showgrid\": true}, \"yaxis4\": {\"anchor\": \"x4\", \"domain\": [0.575, 0.7124999999999999], \"showgrid\": true}, \"yaxis5\": {\"anchor\": \"x5\", \"domain\": [0.575, 0.7124999999999999], \"showgrid\": true}, \"yaxis6\": {\"anchor\": \"x6\", \"domain\": [0.575, 0.7124999999999999], \"showgrid\": true}, \"yaxis7\": {\"anchor\": \"x7\", \"domain\": [0.2875, 0.425], \"showgrid\": true}, \"yaxis8\": {\"anchor\": \"x8\", \"domain\": [0.2875, 0.425], \"showgrid\": true}, \"yaxis9\": {\"anchor\": \"x9\", \"domain\": [0.2875, 0.425], \"showgrid\": true}},                        {\"responsive\": true}                    ).then(function(){\n",
              "                            \n",
              "var gd = document.getElementById('0f7653f6-5a43-493d-a07c-747bb44e2c86');\n",
              "var x = new MutationObserver(function (mutations, observer) {{\n",
              "        var display = window.getComputedStyle(gd).display;\n",
              "        if (!display || display === 'none') {{\n",
              "            console.log([gd, 'removed!']);\n",
              "            Plotly.purge(gd);\n",
              "            observer.disconnect();\n",
              "        }}\n",
              "}});\n",
              "\n",
              "// Listen for the removal of the full notebook cells\n",
              "var notebookContainer = gd.closest('#notebook-container');\n",
              "if (notebookContainer) {{\n",
              "    x.observe(notebookContainer, {childList: true});\n",
              "}}\n",
              "\n",
              "// Listen for the clearing of the current output cell\n",
              "var outputEl = gd.closest('.output');\n",
              "if (outputEl) {{\n",
              "    x.observe(outputEl, {childList: true});\n",
              "}}\n",
              "\n",
              "                        })                };                            </script>        </div>\n",
              "</body>\n",
              "</html>"
            ]
          },
          "metadata": {
            "tags": []
          }
        }
      ]
    },
    {
      "cell_type": "code",
      "metadata": {
        "colab": {
          "base_uri": "https://localhost:8080/",
          "height": 1000
        },
        "id": "nhPv1iS1eo92",
        "outputId": "6b2cc654-a859-4467-c9ae-f0797e2d9cf6"
      },
      "source": [
        "topic_model.visualize_heatmap(n_clusters=20, width=1000, height=1000)"
      ],
      "execution_count": 33,
      "outputs": [
        {
          "output_type": "display_data",
          "data": {
            "text/html": [
              "<html>\n",
              "<head><meta charset=\"utf-8\" /></head>\n",
              "<body>\n",
              "    <div>            <script src=\"https://cdnjs.cloudflare.com/ajax/libs/mathjax/2.7.5/MathJax.js?config=TeX-AMS-MML_SVG\"></script><script type=\"text/javascript\">if (window.MathJax) {MathJax.Hub.Config({SVG: {font: \"STIX-Web\"}});}</script>                <script type=\"text/javascript\">window.PlotlyConfig = {MathJaxConfig: 'local'};</script>\n",
              "        <script src=\"https://cdn.plot.ly/plotly-latest.min.js\"></script>                <div id=\"362b16c5-5ea6-4aa1-a342-d5c2d3508816\" class=\"plotly-graph-div\" style=\"height:1000px; width:1000px;\"></div>            <script type=\"text/javascript\">                                    window.PLOTLYENV=window.PLOTLYENV || {};                                    if (document.getElementById(\"362b16c5-5ea6-4aa1-a342-d5c2d3508816\")) {                    Plotly.newPlot(                        \"362b16c5-5ea6-4aa1-a342-d5c2d3508816\",                        [{\"coloraxis\": \"coloraxis\", \"hovertemplate\": \"x: %{x}<br>y: %{y}<br>Similarity Score: %{z}<extra></extra>\", \"name\": \"0\", \"type\": \"heatmap\", \"x\": [\"-1_work_good_benefits\", \"0_amazon_apple_work\", \"3_microsoft_software_company\", \"13_google_facebook_people\", \"1_learn_technology_learning\", \"20_smart_smart people_work ...\", \"24_projects_interesting pro...\", \"2_team_teams_great team\", \"4_company work_great compan...\", \"5_food_free food_gym\", \"6_overtime_hours_day\", \"8_life balance_work life_wo...\", \"7_environment_work environm...\", \"14_place work_place_great p...\", \"28_home_work home_working h...\", \"9_customer_retail_customers\", \"10_leadership_leadership pr...\", \"11_benefits_good_great bene...\", \"18_good_good benefits_pay b...\", \"12_pay_good pay_good\", \"25_good salary_good_salary ...\", \"15_career_opportunities_gro...\", \"23_intern_easy job_easy get\", \"16_coworkers_great coworker...\", \"22_great training_training ...\", \"17_insurance_benefits_dental\", \"19_stock_stock options_opti...\", \"21_de_et_und\", \"26_company_growing_growth\", \"27_work culture_great cultu...\", \"29_discounts_discount_benef...\"], \"xaxis\": \"x\", \"y\": [\"-1_work_good_benefits\", \"0_amazon_apple_work\", \"3_microsoft_software_company\", \"13_google_facebook_people\", \"1_learn_technology_learning\", \"20_smart_smart people_work ...\", \"24_projects_interesting pro...\", \"2_team_teams_great team\", \"4_company work_great compan...\", \"5_food_free food_gym\", \"6_overtime_hours_day\", \"8_life balance_work life_wo...\", \"7_environment_work environm...\", \"14_place work_place_great p...\", \"28_home_work home_working h...\", \"9_customer_retail_customers\", \"10_leadership_leadership pr...\", \"11_benefits_good_great bene...\", \"18_good_good benefits_pay b...\", \"12_pay_good pay_good\", \"25_good salary_good_salary ...\", \"15_career_opportunities_gro...\", \"23_intern_easy job_easy get\", \"16_coworkers_great coworker...\", \"22_great training_training ...\", \"17_insurance_benefits_dental\", \"19_stock_stock options_opti...\", \"21_de_et_und\", \"26_company_growing_growth\", \"27_work culture_great cultu...\", \"29_discounts_discount_benef...\"], \"yaxis\": \"y\", \"z\": [[1.0000000000000004, 0.6974851039376813, 0.5786345564809363, 0.6096256314643186, 0.7258808317193766, 0.702733075834175, 0.6269098008073083, 0.3875968690675957, 0.5598948113044866, 0.41048844249834865, 0.594695847523452, 0.6294326835505071, 0.5436945732160307, 0.6103120866313875, 0.5419927080794906, 0.6004783874832367, 0.5361378505958945, 0.8120081763887669, 0.7841992681695944, 0.7112316001400834, 0.7028358588914283, 0.6889697190903783, 0.6433356451907837, 0.6312824873591384, 0.6727146354848178, 0.6488506455952432, 0.3793513940530128, 0.49123379497184005, 0.4048495378883222, 0.6204797364868084, 0.5245307712081982], [0.6974851039376813, 0.9999999999999994, 0.7242748899809717, 0.7125946104527354, 0.6074501966134733, 0.46253270560927967, 0.4556475971735742, 0.39292845470129334, 0.6179645351072158, 0.42697204061080163, 0.4406948241693996, 0.4058686371270547, 0.4156971730770987, 0.468583413251055, 0.46403156172945215, 0.6983362648816305, 0.46807459034039484, 0.5121431506399479, 0.46404212175491755, 0.4612935926100078, 0.41933564303510196, 0.5125962920688247, 0.5516992467401918, 0.49401870531719283, 0.43042959142493525, 0.4682569475286006, 0.40774518976165064, 0.4619834787296627, 0.538051217468219, 0.41236493516272354, 0.42254417135731387], [0.5786345564809363, 0.7242748899809717, 1.0000000000000002, 0.642754168137186, 0.622029997890841, 0.4416999662639873, 0.5254814357288339, 0.33818761292193456, 0.6117092151603563, 0.23771996690236477, 0.34116496464645146, 0.3720595621805549, 0.40100879002579803, 0.34771737876945774, 0.42265648814227874, 0.5271052325739558, 0.4831508622213134, 0.41999298580583344, 0.36992123566070034, 0.3268707901048441, 0.31795180579964316, 0.5239260187109518, 0.5397016056531212, 0.42992105221514404, 0.39040618989909565, 0.4555662894090695, 0.31811606873956655, 0.29292781311102956, 0.5511841445717651, 0.33219904793059335, 0.2651674529459865], [0.6096256314643186, 0.7125946104527354, 0.642754168137186, 1.0, 0.5445581253679144, 0.4718293481335677, 0.4873043565864446, 0.3960824537050196, 0.5614542551530475, 0.2577617783166485, 0.3693999749200054, 0.3745651120289367, 0.3533582740274289, 0.4398161672284551, 0.35119653944623447, 0.5840807032885641, 0.4435184601285206, 0.39934750941028996, 0.333687170141621, 0.36067510328014685, 0.3400839957293694, 0.4533969664102439, 0.4559742547479997, 0.4182192254315156, 0.3218077634308456, 0.3595685281650253, 0.3107457339429489, 0.36890051547586356, 0.507219625808571, 0.4234932591824896, 0.3251932265710573], [0.7258808317193766, 0.6074501966134733, 0.622029997890841, 0.5445581253679144, 0.9999999999999996, 0.676545513353368, 0.6864823560912148, 0.29529486728326415, 0.39520789730134553, 0.27649570587791605, 0.33321563739890225, 0.37191956867374565, 0.44344041167083725, 0.4611122626373608, 0.35444877521906953, 0.4476321137704181, 0.42214951508048515, 0.4949038143499337, 0.4066869501175624, 0.33649385100135104, 0.3342696413840646, 0.6166139061353142, 0.5567104520646499, 0.4249449472879192, 0.6220406037922948, 0.38464780721941205, 0.22716007150477674, 0.40271433910020005, 0.4429214058167484, 0.45351964457361477, 0.2899371073080149], [0.702733075834175, 0.46253270560927967, 0.4416999662639873, 0.4718293481335677, 0.676545513353368, 0.9999999999999998, 0.6562765631674431, 0.21676473340931435, 0.36193886603564995, 0.19040761657421093, 0.31414943393681544, 0.39411046894587964, 0.33624339142108556, 0.38998515192400945, 0.3756864118965595, 0.4046763250819155, 0.35829171030747686, 0.5765167671062001, 0.5023450741634126, 0.38970985017233495, 0.4551474095159137, 0.3760170129770546, 0.49060830811212713, 0.47382019745412673, 0.4492510506531763, 0.40556523703503333, 0.16018142794923246, 0.28817564967925097, 0.20880205112538444, 0.4625154351094374, 0.2812867201816958], [0.6269098008073083, 0.4556475971735742, 0.5254814357288339, 0.4873043565864446, 0.6864823560912148, 0.6562765631674431, 0.9999999999999999, 0.3108006342989776, 0.40058424721654007, 0.13653917969703744, 0.346586636901702, 0.33756402885888426, 0.47258771648138437, 0.4190808338211962, 0.37589675524141253, 0.3242865933553494, 0.4117832168443659, 0.4721338413838142, 0.3620524810214911, 0.2624465436963775, 0.2743882334640294, 0.4741891122177897, 0.4429167356674747, 0.4343347719684719, 0.42121041972944373, 0.3079706071525681, 0.1600799940792544, 0.313080217679094, 0.3627349003474135, 0.4335629736505922, 0.23838228656922955], [0.3875968690675957, 0.39292845470129334, 0.33818761292193456, 0.3960824537050196, 0.29529486728326415, 0.21676473340931435, 0.3108006342989776, 1.0000000000000004, 0.5519346399629232, 0.24841391270318974, 0.29042643948936453, 0.2335942713449447, 0.27699198023307536, 0.3465659278759211, 0.2299768710768864, 0.2316574836294699, 0.5396945130692001, 0.3225761039643178, 0.23422037846369226, 0.1827674688984098, 0.3213773450558399, 0.33419154631267206, 0.2829355154617494, 0.4399352794117384, 0.4167827340668877, 0.2681041237520112, 0.2777575826495462, 0.32187705541274325, 0.4190069833056046, 0.36106980636402464, 0.16764882502406614], [0.5598948113044866, 0.6179645351072158, 0.6117092151603563, 0.5614542551530475, 0.39520789730134553, 0.36193886603564995, 0.40058424721654007, 0.5519346399629232, 0.9999999999999997, 0.22901072344236584, 0.34671133348004757, 0.4605728585376917, 0.37990342841188385, 0.501071150746158, 0.3837078264083327, 0.5209614046372981, 0.5501317053054648, 0.4752376480507966, 0.4776109124038219, 0.4572061902745653, 0.5630708667425276, 0.4792002940945984, 0.41231234861334487, 0.5818753946470621, 0.4080418044714773, 0.3614073412623203, 0.3521057097355037, 0.2804144594555014, 0.7117637058941422, 0.49842238591412535, 0.3574549501230357], [0.41048844249834865, 0.42697204061080163, 0.23771996690236477, 0.2577617783166485, 0.27649570587791605, 0.19040761657421093, 0.13653917969703744, 0.24841391270318974, 0.22901072344236584, 1.0000000000000004, 0.23282540575360494, 0.22713461868427318, 0.23554998974279195, 0.25164892163270064, 0.23100592311300291, 0.3451458320758629, 0.16291514259521198, 0.35751125586455307, 0.3419501235016256, 0.29835882583421436, 0.32470102536625295, 0.14280877045238857, 0.17559913437976715, 0.16731957262390165, 0.1838189031251164, 0.3024350340236982, 0.3352456471498366, 0.2616156508313825, 0.1757321136265945, 0.270307338835293, 0.42485400369629217], [0.594695847523452, 0.4406948241693996, 0.34116496464645146, 0.3693999749200054, 0.33321563739890225, 0.31414943393681544, 0.346586636901702, 0.29042643948936453, 0.34671133348004757, 0.23282540575360494, 0.9999999999999998, 0.5663290040810954, 0.4387588838859553, 0.4567896362429734, 0.502433795652278, 0.3856741037452435, 0.29410797909556985, 0.4286090874041638, 0.4167824432358356, 0.4946542288786868, 0.36450218337935475, 0.3835169267524498, 0.47784322186490513, 0.4948118391432108, 0.4083666689187333, 0.36413561388544835, 0.22357657273444553, 0.30474769839004756, 0.18494076351895422, 0.2837484321164227, 0.2979072723309498], [0.6294326835505071, 0.4058686371270547, 0.3720595621805549, 0.3745651120289367, 0.37191956867374565, 0.39411046894587964, 0.33756402885888426, 0.2335942713449447, 0.4605728585376917, 0.22713461868427318, 0.5663290040810954, 0.9999999999999993, 0.531492465004647, 0.5029754045808215, 0.5444392532581046, 0.35250190983498975, 0.4197265919358173, 0.44771360473076216, 0.4529576144211914, 0.4429338511146259, 0.4549540440900254, 0.5642607717707233, 0.38913064918673734, 0.4679709472016278, 0.39838503573844986, 0.38110035531416014, 0.23956251683902488, 0.1856026524343331, 0.31296844439314647, 0.493989592726677, 0.26434669673686484], [0.5436945732160307, 0.4156971730770987, 0.40100879002579803, 0.3533582740274289, 0.44344041167083725, 0.33624339142108556, 0.47258771648138437, 0.27699198023307536, 0.37990342841188385, 0.23554998974279195, 0.4387588838859553, 0.531492465004647, 1.0000000000000004, 0.5648390091249728, 0.5970142215982042, 0.31145200873923196, 0.3628896864873933, 0.39863003894098614, 0.31758126082733157, 0.3037991720139398, 0.28823516259061566, 0.40540098767641364, 0.45694907274951485, 0.35946648427782624, 0.3243183980251961, 0.34999465288951215, 0.1112611496735334, 0.30341121234979007, 0.2904373557027443, 0.48094647348245356, 0.1825537864091515], [0.6103120866313875, 0.468583413251055, 0.34771737876945774, 0.4398161672284551, 0.4611122626373608, 0.38998515192400945, 0.4190808338211962, 0.3465659278759211, 0.501071150746158, 0.25164892163270064, 0.4567896362429734, 0.5029754045808215, 0.5648390091249728, 1.0000000000000002, 0.5827256870533042, 0.4030437017456796, 0.34207505168364855, 0.4415218157132258, 0.3852984035272422, 0.4327982379091207, 0.382634842907405, 0.45312515637981887, 0.5023699569972815, 0.4685365551035384, 0.41439666063478797, 0.33883367745229553, 0.2418702164087771, 0.3669142198789746, 0.27190344811858824, 0.561014762386659, 0.2694605017882309], [0.5419927080794906, 0.46403156172945215, 0.42265648814227874, 0.35119653944623447, 0.35444877521906953, 0.3756864118965595, 0.37589675524141253, 0.2299768710768864, 0.3837078264083327, 0.23100592311300291, 0.502433795652278, 0.5444392532581046, 0.5970142215982042, 0.5827256870533042, 0.9999999999999999, 0.3690931234121545, 0.3305991252047358, 0.33895678881991287, 0.31337138091380407, 0.38211237318868735, 0.27698708013718293, 0.3743602912897802, 0.4983552904046131, 0.41333307048674395, 0.3259561134690691, 0.309182870614064, 0.12084454744321188, 0.27282616257400055, 0.189713412043299, 0.34049989141794734, 0.19624557535286152], [0.6004783874832367, 0.6983362648816305, 0.5271052325739558, 0.5840807032885641, 0.4476321137704181, 0.4046763250819155, 0.3242865933553494, 0.2316574836294699, 0.5209614046372981, 0.3451458320758629, 0.3856741037452435, 0.35250190983498975, 0.31145200873923196, 0.4030437017456796, 0.3690931234121545, 0.9999999999999996, 0.39162010528351116, 0.40643063731206086, 0.4297404022003798, 0.53462230432501, 0.4269028080506006, 0.4381722291022614, 0.4859104473753679, 0.4670433725553426, 0.32292538309384805, 0.4321079463036339, 0.4352043272684234, 0.2981571687159615, 0.4870037621419525, 0.30431249350760214, 0.5882615344341697], [0.5361378505958945, 0.46807459034039484, 0.4831508622213134, 0.4435184601285206, 0.42214951508048515, 0.35829171030747686, 0.4117832168443659, 0.5396945130692001, 0.5501317053054648, 0.16291514259521198, 0.29410797909556985, 0.4197265919358173, 0.3628896864873933, 0.34207505168364855, 0.3305991252047358, 0.39162010528351116, 1.0000000000000007, 0.38507925495807416, 0.28775488486071377, 0.2502329100300841, 0.3199332209976271, 0.5335670839888307, 0.4487554946570841, 0.4652054473346052, 0.43892931848935246, 0.3502897863127813, 0.32364667380916634, 0.4103655377872264, 0.5352895374091045, 0.43596595690946244, 0.2292842146842567], [0.8120081763887669, 0.5121431506399479, 0.41999298580583344, 0.39934750941028996, 0.4949038143499337, 0.5765167671062001, 0.4721338413838142, 0.3225761039643178, 0.4752376480507966, 0.35751125586455307, 0.4286090874041638, 0.44771360473076216, 0.39863003894098614, 0.4415218157132258, 0.33895678881991287, 0.40643063731206086, 0.38507925495807416, 0.9999999999999993, 0.9230578231495592, 0.5427453376603921, 0.6256082408155571, 0.43685714401425113, 0.3755379075602565, 0.5189730060836509, 0.5824286177518762, 0.6998671884878565, 0.33448927161380004, 0.35829766039721606, 0.2508284040639086, 0.5234032234377112, 0.5572428671346581], [0.7841992681695944, 0.46404212175491755, 0.36992123566070034, 0.333687170141621, 0.4066869501175624, 0.5023450741634126, 0.3620524810214911, 0.23422037846369226, 0.4776109124038219, 0.3419501235016256, 0.4167824432358356, 0.4529576144211914, 0.31758126082733157, 0.3852984035272422, 0.31337138091380407, 0.4297404022003798, 0.28775488486071377, 0.9230578231495592, 1.0, 0.756592686818949, 0.7592888232184158, 0.3961980641863871, 0.37806113767813554, 0.5212619104009754, 0.5806286463662357, 0.694260690526438, 0.3834396705972131, 0.27572060854559327, 0.21561996214599596, 0.4320288668189093, 0.614066586883634], [0.7112316001400834, 0.4612935926100078, 0.3268707901048441, 0.36067510328014685, 0.33649385100135104, 0.38970985017233495, 0.2624465436963775, 0.1827674688984098, 0.4572061902745653, 0.29835882583421436, 0.4946542288786868, 0.4429338511146259, 0.3037991720139398, 0.4327982379091207, 0.38211237318868735, 0.53462230432501, 0.2502329100300841, 0.5427453376603921, 0.756592686818949, 1.0000000000000007, 0.8148838211396741, 0.3715106162671885, 0.5109088524899053, 0.5142542420170158, 0.5008518202949441, 0.49983982122945086, 0.3653187657707476, 0.29111196636949266, 0.21785545455200714, 0.3354807070777098, 0.5581781581947143], [0.7028358588914283, 0.41933564303510196, 0.31795180579964316, 0.3400839957293694, 0.3342696413840646, 0.4551474095159137, 0.2743882334640294, 0.3213773450558399, 0.5630708667425276, 0.32470102536625295, 0.36450218337935475, 0.4549540440900254, 0.28823516259061566, 0.382634842907405, 0.27698708013718293, 0.4269028080506006, 0.3199332209976271, 0.6256082408155571, 0.7592888232184158, 0.8148838211396741, 1.0000000000000009, 0.44846148571714317, 0.4011275233297371, 0.5317849488376324, 0.5130536645147961, 0.4292377164396173, 0.32109172536209585, 0.24328931910141127, 0.3153280661536022, 0.5463217174669355, 0.46441643540629984], [0.6889697190903783, 0.5125962920688247, 0.5239260187109518, 0.4533969664102439, 0.6166139061353142, 0.3760170129770546, 0.4741891122177897, 0.33419154631267206, 0.4792002940945984, 0.14280877045238857, 0.3835169267524498, 0.5642607717707233, 0.40540098767641364, 0.45312515637981887, 0.3743602912897802, 0.4381722291022614, 0.5335670839888307, 0.43685714401425113, 0.3961980641863871, 0.3715106162671885, 0.44846148571714317, 0.9999999999999998, 0.5499881595207313, 0.4329110581449158, 0.6046768779673222, 0.3620785596034187, 0.3076292536455968, 0.3742687541504036, 0.6139024886170652, 0.4861292937381162, 0.2647017839883215], [0.6433356451907837, 0.5516992467401918, 0.5397016056531212, 0.4559742547479997, 0.5567104520646499, 0.49060830811212713, 0.4429167356674747, 0.2829355154617494, 0.41231234861334487, 0.17559913437976715, 0.47784322186490513, 0.38913064918673734, 0.45694907274951485, 0.5023699569972815, 0.4983552904046131, 0.4859104473753679, 0.4487554946570841, 0.3755379075602565, 0.37806113767813554, 0.5109088524899053, 0.4011275233297371, 0.5499881595207313, 1.0000000000000007, 0.5277490521266386, 0.5967289745185895, 0.3682258653928764, 0.2446841393916233, 0.3374037343573878, 0.2962870464221625, 0.3145835281032656, 0.22884898067331005], [0.6312824873591384, 0.49401870531719283, 0.42992105221514404, 0.4182192254315156, 0.4249449472879192, 0.47382019745412673, 0.4343347719684719, 0.4399352794117384, 0.5818753946470621, 0.16731957262390165, 0.4948118391432108, 0.4679709472016278, 0.35946648427782624, 0.4685365551035384, 0.41333307048674395, 0.4670433725553426, 0.4652054473346052, 0.5189730060836509, 0.5212619104009754, 0.5142542420170158, 0.5317849488376324, 0.4329110581449158, 0.5277490521266386, 0.9999999999999993, 0.5771861280581988, 0.3824765813991636, 0.20840421006572996, 0.28887308043617643, 0.3306828308325984, 0.48114459831256245, 0.3443138067910078], [0.6727146354848178, 0.43042959142493525, 0.39040618989909565, 0.3218077634308456, 0.6220406037922948, 0.4492510506531763, 0.42121041972944373, 0.4167827340668877, 0.4080418044714773, 0.1838189031251164, 0.4083666689187333, 0.39838503573844986, 0.3243183980251961, 0.41439666063478797, 0.3259561134690691, 0.32292538309384805, 0.43892931848935246, 0.5824286177518762, 0.5806286463662357, 0.5008518202949441, 0.5130536645147961, 0.6046768779673222, 0.5967289745185895, 0.5771861280581988, 1.0000000000000004, 0.38363837867933864, 0.1372013582723839, 0.29944869789416184, 0.24955651162219328, 0.4593783087983464, 0.3188237909999522], [0.6488506455952432, 0.4682569475286006, 0.4555662894090695, 0.3595685281650253, 0.38464780721941205, 0.40556523703503333, 0.3079706071525681, 0.2681041237520112, 0.3614073412623203, 0.3024350340236982, 0.36413561388544835, 0.38110035531416014, 0.34999465288951215, 0.33883367745229553, 0.309182870614064, 0.4321079463036339, 0.3502897863127813, 0.6998671884878565, 0.694260690526438, 0.49983982122945086, 0.4292377164396173, 0.3620785596034187, 0.3682258653928764, 0.3824765813991636, 0.38363837867933864, 1.0, 0.3682832517764299, 0.30715431756967826, 0.2640132935408412, 0.3007760917443505, 0.43737168806914084], [0.3793513940530128, 0.40774518976165064, 0.31811606873956655, 0.3107457339429489, 0.22716007150477674, 0.16018142794923246, 0.1600799940792544, 0.2777575826495462, 0.3521057097355037, 0.3352456471498366, 0.22357657273444553, 0.23956251683902488, 0.1112611496735334, 0.2418702164087771, 0.12084454744321188, 0.4352043272684234, 0.32364667380916634, 0.33448927161380004, 0.3834396705972131, 0.3653187657707476, 0.32109172536209585, 0.3076292536455968, 0.2446841393916233, 0.20840421006572996, 0.1372013582723839, 0.3682832517764299, 1.0000000000000002, 0.18201424341809902, 0.41619732007058713, 0.028333456197497494, 0.47279121822899606], [0.49123379497184005, 0.4619834787296627, 0.29292781311102956, 0.36890051547586356, 0.40271433910020005, 0.28817564967925097, 0.313080217679094, 0.32187705541274325, 0.2804144594555014, 0.2616156508313825, 0.30474769839004756, 0.1856026524343331, 0.30341121234979007, 0.3669142198789746, 0.27282616257400055, 0.2981571687159615, 0.4103655377872264, 0.35829766039721606, 0.27572060854559327, 0.29111196636949266, 0.24328931910141127, 0.3742687541504036, 0.3374037343573878, 0.28887308043617643, 0.29944869789416184, 0.30715431756967826, 0.18201424341809902, 1.0000000000000004, 0.27984345238050584, 0.3759747714131616, 0.2586634427560224], [0.4048495378883222, 0.538051217468219, 0.5511841445717651, 0.507219625808571, 0.4429214058167484, 0.20880205112538444, 0.3627349003474135, 0.4190069833056046, 0.7117637058941422, 0.1757321136265945, 0.18494076351895422, 0.31296844439314647, 0.2904373557027443, 0.27190344811858824, 0.189713412043299, 0.4870037621419525, 0.5352895374091045, 0.2508284040639086, 0.21561996214599596, 0.21785545455200714, 0.3153280661536022, 0.6139024886170652, 0.2962870464221625, 0.3306828308325984, 0.24955651162219328, 0.2640132935408412, 0.41619732007058713, 0.27984345238050584, 1.0000000000000004, 0.3373218813553346, 0.24759486242728893], [0.6204797364868084, 0.41236493516272354, 0.33219904793059335, 0.4234932591824896, 0.45351964457361477, 0.4625154351094374, 0.4335629736505922, 0.36106980636402464, 0.49842238591412535, 0.270307338835293, 0.2837484321164227, 0.493989592726677, 0.48094647348245356, 0.561014762386659, 0.34049989141794734, 0.30431249350760214, 0.43596595690946244, 0.5234032234377112, 0.4320288668189093, 0.3354807070777098, 0.5463217174669355, 0.4861292937381162, 0.3145835281032656, 0.48114459831256245, 0.4593783087983464, 0.3007760917443505, 0.028333456197497494, 0.3759747714131616, 0.3373218813553346, 0.9999999999999997, 0.21663497751232785], [0.5245307712081982, 0.42254417135731387, 0.2651674529459865, 0.3251932265710573, 0.2899371073080149, 0.2812867201816958, 0.23838228656922955, 0.16764882502406614, 0.3574549501230357, 0.42485400369629217, 0.2979072723309498, 0.26434669673686484, 0.1825537864091515, 0.2694605017882309, 0.19624557535286152, 0.5882615344341697, 0.2292842146842567, 0.5572428671346581, 0.614066586883634, 0.5581781581947143, 0.46441643540629984, 0.2647017839883215, 0.22884898067331005, 0.3443138067910078, 0.3188237909999522, 0.43737168806914084, 0.47279121822899606, 0.2586634427560224, 0.24759486242728893, 0.21663497751232785, 0.9999999999999989]]}],                        {\"coloraxis\": {\"colorbar\": {\"title\": {\"text\": \"Similarity Score\"}}, \"colorscale\": [[0.0, \"rgb(247,252,240)\"], [0.125, \"rgb(224,243,219)\"], [0.25, \"rgb(204,235,197)\"], [0.375, \"rgb(168,221,181)\"], [0.5, \"rgb(123,204,196)\"], [0.625, \"rgb(78,179,211)\"], [0.75, \"rgb(43,140,190)\"], [0.875, \"rgb(8,104,172)\"], [1.0, \"rgb(8,64,129)\"]]}, \"height\": 1000, \"hoverlabel\": {\"bgcolor\": \"white\", \"font\": {\"family\": \"Rockwell\", \"size\": 16}}, \"legend\": {\"title\": {\"text\": \"Trend\"}}, \"margin\": {\"t\": 60}, \"showlegend\": true, \"template\": {\"data\": {\"bar\": [{\"error_x\": {\"color\": \"#2a3f5f\"}, \"error_y\": {\"color\": \"#2a3f5f\"}, \"marker\": {\"line\": {\"color\": \"#E5ECF6\", \"width\": 0.5}}, \"type\": \"bar\"}], \"barpolar\": [{\"marker\": {\"line\": {\"color\": \"#E5ECF6\", \"width\": 0.5}}, \"type\": \"barpolar\"}], \"carpet\": [{\"aaxis\": {\"endlinecolor\": \"#2a3f5f\", \"gridcolor\": \"white\", \"linecolor\": \"white\", \"minorgridcolor\": \"white\", \"startlinecolor\": \"#2a3f5f\"}, \"baxis\": {\"endlinecolor\": \"#2a3f5f\", \"gridcolor\": \"white\", \"linecolor\": \"white\", \"minorgridcolor\": \"white\", \"startlinecolor\": \"#2a3f5f\"}, \"type\": \"carpet\"}], \"choropleth\": [{\"colorbar\": {\"outlinewidth\": 0, \"ticks\": \"\"}, \"type\": \"choropleth\"}], \"contour\": [{\"colorbar\": {\"outlinewidth\": 0, \"ticks\": \"\"}, \"colorscale\": [[0.0, \"#0d0887\"], [0.1111111111111111, \"#46039f\"], [0.2222222222222222, \"#7201a8\"], [0.3333333333333333, \"#9c179e\"], [0.4444444444444444, \"#bd3786\"], [0.5555555555555556, \"#d8576b\"], [0.6666666666666666, \"#ed7953\"], [0.7777777777777778, \"#fb9f3a\"], [0.8888888888888888, \"#fdca26\"], [1.0, \"#f0f921\"]], \"type\": \"contour\"}], \"contourcarpet\": [{\"colorbar\": {\"outlinewidth\": 0, \"ticks\": \"\"}, \"type\": \"contourcarpet\"}], \"heatmap\": [{\"colorbar\": {\"outlinewidth\": 0, \"ticks\": \"\"}, \"colorscale\": [[0.0, \"#0d0887\"], [0.1111111111111111, \"#46039f\"], [0.2222222222222222, \"#7201a8\"], [0.3333333333333333, \"#9c179e\"], [0.4444444444444444, \"#bd3786\"], [0.5555555555555556, \"#d8576b\"], [0.6666666666666666, \"#ed7953\"], [0.7777777777777778, \"#fb9f3a\"], [0.8888888888888888, \"#fdca26\"], [1.0, \"#f0f921\"]], \"type\": \"heatmap\"}], \"heatmapgl\": [{\"colorbar\": {\"outlinewidth\": 0, \"ticks\": \"\"}, \"colorscale\": [[0.0, \"#0d0887\"], [0.1111111111111111, \"#46039f\"], [0.2222222222222222, \"#7201a8\"], [0.3333333333333333, \"#9c179e\"], [0.4444444444444444, \"#bd3786\"], [0.5555555555555556, \"#d8576b\"], [0.6666666666666666, \"#ed7953\"], [0.7777777777777778, \"#fb9f3a\"], [0.8888888888888888, \"#fdca26\"], [1.0, \"#f0f921\"]], \"type\": \"heatmapgl\"}], \"histogram\": [{\"marker\": {\"colorbar\": {\"outlinewidth\": 0, \"ticks\": \"\"}}, \"type\": \"histogram\"}], \"histogram2d\": [{\"colorbar\": {\"outlinewidth\": 0, \"ticks\": \"\"}, \"colorscale\": [[0.0, \"#0d0887\"], [0.1111111111111111, \"#46039f\"], [0.2222222222222222, \"#7201a8\"], [0.3333333333333333, \"#9c179e\"], [0.4444444444444444, \"#bd3786\"], [0.5555555555555556, \"#d8576b\"], [0.6666666666666666, \"#ed7953\"], [0.7777777777777778, \"#fb9f3a\"], [0.8888888888888888, \"#fdca26\"], [1.0, \"#f0f921\"]], \"type\": \"histogram2d\"}], \"histogram2dcontour\": [{\"colorbar\": {\"outlinewidth\": 0, \"ticks\": \"\"}, \"colorscale\": [[0.0, \"#0d0887\"], [0.1111111111111111, \"#46039f\"], [0.2222222222222222, \"#7201a8\"], [0.3333333333333333, \"#9c179e\"], [0.4444444444444444, \"#bd3786\"], [0.5555555555555556, \"#d8576b\"], [0.6666666666666666, \"#ed7953\"], [0.7777777777777778, \"#fb9f3a\"], [0.8888888888888888, \"#fdca26\"], [1.0, \"#f0f921\"]], \"type\": \"histogram2dcontour\"}], \"mesh3d\": [{\"colorbar\": {\"outlinewidth\": 0, \"ticks\": \"\"}, \"type\": \"mesh3d\"}], \"parcoords\": [{\"line\": {\"colorbar\": {\"outlinewidth\": 0, \"ticks\": \"\"}}, \"type\": \"parcoords\"}], \"pie\": [{\"automargin\": true, \"type\": \"pie\"}], \"scatter\": [{\"marker\": {\"colorbar\": {\"outlinewidth\": 0, \"ticks\": \"\"}}, \"type\": \"scatter\"}], \"scatter3d\": [{\"line\": {\"colorbar\": {\"outlinewidth\": 0, \"ticks\": \"\"}}, \"marker\": {\"colorbar\": {\"outlinewidth\": 0, \"ticks\": \"\"}}, \"type\": \"scatter3d\"}], \"scattercarpet\": [{\"marker\": {\"colorbar\": {\"outlinewidth\": 0, \"ticks\": \"\"}}, \"type\": \"scattercarpet\"}], \"scattergeo\": [{\"marker\": {\"colorbar\": {\"outlinewidth\": 0, \"ticks\": \"\"}}, \"type\": \"scattergeo\"}], \"scattergl\": [{\"marker\": {\"colorbar\": {\"outlinewidth\": 0, \"ticks\": \"\"}}, \"type\": \"scattergl\"}], \"scattermapbox\": [{\"marker\": {\"colorbar\": {\"outlinewidth\": 0, \"ticks\": \"\"}}, \"type\": \"scattermapbox\"}], \"scatterpolar\": [{\"marker\": {\"colorbar\": {\"outlinewidth\": 0, \"ticks\": \"\"}}, \"type\": \"scatterpolar\"}], \"scatterpolargl\": [{\"marker\": {\"colorbar\": {\"outlinewidth\": 0, \"ticks\": \"\"}}, \"type\": \"scatterpolargl\"}], \"scatterternary\": [{\"marker\": {\"colorbar\": {\"outlinewidth\": 0, \"ticks\": \"\"}}, \"type\": \"scatterternary\"}], \"surface\": [{\"colorbar\": {\"outlinewidth\": 0, \"ticks\": \"\"}, \"colorscale\": [[0.0, \"#0d0887\"], [0.1111111111111111, \"#46039f\"], [0.2222222222222222, \"#7201a8\"], [0.3333333333333333, \"#9c179e\"], [0.4444444444444444, \"#bd3786\"], [0.5555555555555556, \"#d8576b\"], [0.6666666666666666, \"#ed7953\"], [0.7777777777777778, \"#fb9f3a\"], [0.8888888888888888, \"#fdca26\"], [1.0, \"#f0f921\"]], \"type\": \"surface\"}], \"table\": [{\"cells\": {\"fill\": {\"color\": \"#EBF0F8\"}, \"line\": {\"color\": \"white\"}}, \"header\": {\"fill\": {\"color\": \"#C8D4E3\"}, \"line\": {\"color\": \"white\"}}, \"type\": \"table\"}]}, \"layout\": {\"annotationdefaults\": {\"arrowcolor\": \"#2a3f5f\", \"arrowhead\": 0, \"arrowwidth\": 1}, \"autotypenumbers\": \"strict\", \"coloraxis\": {\"colorbar\": {\"outlinewidth\": 0, \"ticks\": \"\"}}, \"colorscale\": {\"diverging\": [[0, \"#8e0152\"], [0.1, \"#c51b7d\"], [0.2, \"#de77ae\"], [0.3, \"#f1b6da\"], [0.4, \"#fde0ef\"], [0.5, \"#f7f7f7\"], [0.6, \"#e6f5d0\"], [0.7, \"#b8e186\"], [0.8, \"#7fbc41\"], [0.9, \"#4d9221\"], [1, \"#276419\"]], \"sequential\": [[0.0, \"#0d0887\"], [0.1111111111111111, \"#46039f\"], [0.2222222222222222, \"#7201a8\"], [0.3333333333333333, \"#9c179e\"], [0.4444444444444444, \"#bd3786\"], [0.5555555555555556, \"#d8576b\"], [0.6666666666666666, \"#ed7953\"], [0.7777777777777778, \"#fb9f3a\"], [0.8888888888888888, \"#fdca26\"], [1.0, \"#f0f921\"]], \"sequentialminus\": [[0.0, \"#0d0887\"], [0.1111111111111111, \"#46039f\"], [0.2222222222222222, \"#7201a8\"], [0.3333333333333333, \"#9c179e\"], [0.4444444444444444, \"#bd3786\"], [0.5555555555555556, \"#d8576b\"], [0.6666666666666666, \"#ed7953\"], [0.7777777777777778, \"#fb9f3a\"], [0.8888888888888888, \"#fdca26\"], [1.0, \"#f0f921\"]]}, \"colorway\": [\"#636efa\", \"#EF553B\", \"#00cc96\", \"#ab63fa\", \"#FFA15A\", \"#19d3f3\", \"#FF6692\", \"#B6E880\", \"#FF97FF\", \"#FECB52\"], \"font\": {\"color\": \"#2a3f5f\"}, \"geo\": {\"bgcolor\": \"white\", \"lakecolor\": \"white\", \"landcolor\": \"#E5ECF6\", \"showlakes\": true, \"showland\": true, \"subunitcolor\": \"white\"}, \"hoverlabel\": {\"align\": \"left\"}, \"hovermode\": \"closest\", \"mapbox\": {\"style\": \"light\"}, \"paper_bgcolor\": \"white\", \"plot_bgcolor\": \"#E5ECF6\", \"polar\": {\"angularaxis\": {\"gridcolor\": \"white\", \"linecolor\": \"white\", \"ticks\": \"\"}, \"bgcolor\": \"#E5ECF6\", \"radialaxis\": {\"gridcolor\": \"white\", \"linecolor\": \"white\", \"ticks\": \"\"}}, \"scene\": {\"xaxis\": {\"backgroundcolor\": \"#E5ECF6\", \"gridcolor\": \"white\", \"gridwidth\": 2, \"linecolor\": \"white\", \"showbackground\": true, \"ticks\": \"\", \"zerolinecolor\": \"white\"}, \"yaxis\": {\"backgroundcolor\": \"#E5ECF6\", \"gridcolor\": \"white\", \"gridwidth\": 2, \"linecolor\": \"white\", \"showbackground\": true, \"ticks\": \"\", \"zerolinecolor\": \"white\"}, \"zaxis\": {\"backgroundcolor\": \"#E5ECF6\", \"gridcolor\": \"white\", \"gridwidth\": 2, \"linecolor\": \"white\", \"showbackground\": true, \"ticks\": \"\", \"zerolinecolor\": \"white\"}}, \"shapedefaults\": {\"line\": {\"color\": \"#2a3f5f\"}}, \"ternary\": {\"aaxis\": {\"gridcolor\": \"white\", \"linecolor\": \"white\", \"ticks\": \"\"}, \"baxis\": {\"gridcolor\": \"white\", \"linecolor\": \"white\", \"ticks\": \"\"}, \"bgcolor\": \"#E5ECF6\", \"caxis\": {\"gridcolor\": \"white\", \"linecolor\": \"white\", \"ticks\": \"\"}}, \"title\": {\"x\": 0.05}, \"xaxis\": {\"automargin\": true, \"gridcolor\": \"white\", \"linecolor\": \"white\", \"ticks\": \"\", \"title\": {\"standoff\": 15}, \"zerolinecolor\": \"white\", \"zerolinewidth\": 2}, \"yaxis\": {\"automargin\": true, \"gridcolor\": \"white\", \"linecolor\": \"white\", \"ticks\": \"\", \"title\": {\"standoff\": 15}, \"zerolinecolor\": \"white\", \"zerolinewidth\": 2}}}, \"title\": {\"font\": {\"color\": \"Black\", \"size\": 22}, \"text\": \"<b>Similarity Matrix\", \"x\": 0.55, \"xanchor\": \"center\", \"y\": 0.95, \"yanchor\": \"top\"}, \"width\": 1000, \"xaxis\": {\"anchor\": \"y\", \"constrain\": \"domain\", \"domain\": [0.0, 1.0], \"scaleanchor\": \"y\"}, \"yaxis\": {\"anchor\": \"x\", \"autorange\": \"reversed\", \"constrain\": \"domain\", \"domain\": [0.0, 1.0]}},                        {\"responsive\": true}                    ).then(function(){\n",
              "                            \n",
              "var gd = document.getElementById('362b16c5-5ea6-4aa1-a342-d5c2d3508816');\n",
              "var x = new MutationObserver(function (mutations, observer) {{\n",
              "        var display = window.getComputedStyle(gd).display;\n",
              "        if (!display || display === 'none') {{\n",
              "            console.log([gd, 'removed!']);\n",
              "            Plotly.purge(gd);\n",
              "            observer.disconnect();\n",
              "        }}\n",
              "}});\n",
              "\n",
              "// Listen for the removal of the full notebook cells\n",
              "var notebookContainer = gd.closest('#notebook-container');\n",
              "if (notebookContainer) {{\n",
              "    x.observe(notebookContainer, {childList: true});\n",
              "}}\n",
              "\n",
              "// Listen for the clearing of the current output cell\n",
              "var outputEl = gd.closest('.output');\n",
              "if (outputEl) {{\n",
              "    x.observe(outputEl, {childList: true});\n",
              "}}\n",
              "\n",
              "                        })                };                            </script>        </div>\n",
              "</body>\n",
              "</html>"
            ]
          },
          "metadata": {
            "tags": []
          }
        }
      ]
    },
    {
      "cell_type": "code",
      "metadata": {
        "colab": {
          "base_uri": "https://localhost:8080/",
          "height": 517
        },
        "id": "2a1xIwXYsNRH",
        "outputId": "4f605dfe-a317-4989-f882-850102c53a99"
      },
      "source": [
        "topic_model.visualize_term_rank()"
      ],
      "execution_count": 34,
      "outputs": [
        {
          "output_type": "display_data",
          "data": {
            "text/html": [
              "<html>\n",
              "<head><meta charset=\"utf-8\" /></head>\n",
              "<body>\n",
              "    <div>            <script src=\"https://cdnjs.cloudflare.com/ajax/libs/mathjax/2.7.5/MathJax.js?config=TeX-AMS-MML_SVG\"></script><script type=\"text/javascript\">if (window.MathJax) {MathJax.Hub.Config({SVG: {font: \"STIX-Web\"}});}</script>                <script type=\"text/javascript\">window.PlotlyConfig = {MathJaxConfig: 'local'};</script>\n",
              "        <script src=\"https://cdn.plot.ly/plotly-latest.min.js\"></script>                <div id=\"643ccb90-f7e9-456d-b96a-3be2c8357591\" class=\"plotly-graph-div\" style=\"height:500px; width:800px;\"></div>            <script type=\"text/javascript\">                                    window.PLOTLYENV=window.PLOTLYENV || {};                                    if (document.getElementById(\"643ccb90-f7e9-456d-b96a-3be2c8357591\")) {                    Plotly.newPlot(                        \"643ccb90-f7e9-456d-b96a-3be2c8357591\",                        [{\"hovertext\": \"<b>Topic -1</b>:work_good_benefits_pay_smart_cultu\", \"line\": {\"color\": \"black\", \"width\": 1.5}, \"mode\": \"lines+lines\", \"name\": \"\", \"opacity\": 0.1, \"type\": \"scatter\", \"x\": [1, 2, 3, 4, 5, 6, 7, 8, 9, 10, 11, 12, 13, 14, 15], \"y\": [0.013163090535727767, 0.01280359817867496, 0.01132850719321504, 0.008750040859205705, 0.008326931449592309, 0.007824103919597543, 0.007572903997678024, 0.0062920443027479935, 0.006126642135538254, 0.005731182262385408, 0.005355243603141049, 0.005051022056946086, 0.005030600400034993, 0.005018428138140858, 0.004954717575665712]}, {\"hovertext\": \"<b>Topic 0</b>:amazon_apple_work_company_working_g\", \"line\": {\"color\": \"black\", \"width\": 1.5}, \"mode\": \"lines+lines\", \"name\": \"\", \"opacity\": 0.1, \"type\": \"scatter\", \"x\": [1, 2, 3, 4, 5, 6, 7, 8, 9, 10, 11, 12, 13, 14, 15], \"y\": [0.027296159037024852, 0.021177135655004085, 0.008506149823228303, 0.007972751174604758, 0.0078070723693398625, 0.006067947917970367, 0.005996239333373955, 0.00535382039528193, 0.0051713843107989025, 0.004897156647646311, 0.004830885112283957, 0.004431301346640857, 0.004333734041544549, 0.004313010696781217, 0.0042388618241429865]}, {\"hovertext\": \"<b>Topic 1</b>:learn_technology_learning_smart_tec\", \"line\": {\"color\": \"black\", \"width\": 1.5}, \"mode\": \"lines+lines\", \"name\": \"\", \"opacity\": 0.1, \"type\": \"scatter\", \"x\": [1, 2, 3, 4, 5, 6, 7, 8, 9, 10, 11, 12, 13, 14, 15], \"y\": [0.03184520146043598, 0.02513424469652154, 0.02084585070935442, 0.014329449459814906, 0.012911933715050247, 0.012863625052087435, 0.011635653336696288, 0.011009611191614362, 0.010437834482677644, 0.00941341037797879, 0.009274950064330595, 0.009016383179252102, 0.008513066255015361, 0.007132775212664823, 0.007101754519984874]}, {\"hovertext\": \"<b>Topic 2</b>:team_teams_great team_team work_env\", \"line\": {\"color\": \"black\", \"width\": 1.5}, \"mode\": \"lines+lines\", \"name\": \"\", \"opacity\": 0.1, \"type\": \"scatter\", \"x\": [1, 2, 3, 4, 5, 6, 7, 8, 9, 10, 11, 12, 13, 14, 15], \"y\": [0.05175060999481095, 0.03381615453468329, 0.017475900649842002, 0.009028172262273286, 0.008949782038157059, 0.008940662719275388, 0.00843875578355484, 0.007943341147027888, 0.006809352726001396, 0.006788102753127612, 0.00641321844906056, 0.005719856289841172, 0.00555392904654447, 0.005411975834573177, 0.005219700941529447]}, {\"hovertext\": \"<b>Topic 3</b>:microsoft_software_company_work_ben\", \"line\": {\"color\": \"black\", \"width\": 1.5}, \"mode\": \"lines+lines\", \"name\": \"\", \"opacity\": 0.1, \"type\": \"scatter\", \"x\": [1, 2, 3, 4, 5, 6, 7, 8, 9, 10, 11, 12, 13, 14, 15], \"y\": [0.04791339811348853, 0.013793895878953407, 0.010043808127899715, 0.008674319952738766, 0.007784837920566532, 0.0070722315108859846, 0.0068809560452056506, 0.006328292556227155, 0.005516336365126923, 0.0054830521328258, 0.005159173181450926, 0.0051129457473592455, 0.004883151765706373, 0.004759077723464276, 0.0047316048754270324]}, {\"hovertext\": \"<b>Topic 4</b>:company work_great company_good com\", \"line\": {\"color\": \"black\", \"width\": 1.5}, \"mode\": \"lines+lines\", \"name\": \"\", \"opacity\": 0.1, \"type\": \"scatter\", \"x\": [1, 2, 3, 4, 5, 6, 7, 8, 9, 10, 11, 12, 13, 14, 15], \"y\": [0.04111823977732474, 0.037074862843296794, 0.02622758106913261, 0.022121718963536183, 0.01807392631323217, 0.013931794658195999, 0.013446017550538005, 0.013024391258259358, 0.012928439521585254, 0.010489685803958534, 0.009878121889563806, 0.00879670807326552, 0.008464911925822556, 0.007889835319496693, 0.007777665740770876]}, {\"hovertext\": \"<b>Topic 5</b>:food_free food_gym_perks_lunch_snac\", \"line\": {\"color\": \"black\", \"width\": 1.5}, \"mode\": \"lines+lines\", \"name\": \"\", \"opacity\": 0.1, \"type\": \"scatter\", \"x\": [1, 2, 3, 4, 5, 6, 7, 8, 9, 10, 11, 12, 13, 14, 15], \"y\": [0.06576730282437593, 0.03332706105677034, 0.016955292922749245, 0.011859774269898213, 0.011030946576525553, 0.010574576732588832, 0.01036490638700457, 0.010329118469260976, 0.010179226303142592, 0.01003140079530235, 0.009523756972299442, 0.00876724141290888, 0.0075506602189812245, 0.006749456672574874, 0.005920769213068267]}, {\"hovertext\": \"<b>Topic 6</b>:overtime_hours_day_days_benefits_wo\", \"line\": {\"color\": \"black\", \"width\": 1.5}, \"mode\": \"lines+lines\", \"name\": \"\", \"opacity\": 0.1, \"type\": \"scatter\", \"x\": [1, 2, 3, 4, 5, 6, 7, 8, 9, 10, 11, 12, 13, 14, 15], \"y\": [0.030917201101886123, 0.026300716453265864, 0.02420668311511934, 0.01758817084667729, 0.01715826502177195, 0.015419185824120068, 0.013281044460272048, 0.01112573085022061, 0.010061656657787816, 0.009820448934431465, 0.009430569636607697, 0.008916325937086732, 0.008793733167927784, 0.007454901992279246, 0.007266752030624533]}, {\"hovertext\": \"<b>Topic 7</b>:environment_work environment_work_w\", \"line\": {\"color\": \"black\", \"width\": 1.5}, \"mode\": \"lines+lines\", \"name\": \"\", \"opacity\": 0.1, \"type\": \"scatter\", \"x\": [1, 2, 3, 4, 5, 6, 7, 8, 9, 10, 11, 12, 13, 14, 15], \"y\": [0.08149851031804377, 0.03348272508925697, 0.025264404599101276, 0.024631334294276445, 0.022976378557137883, 0.018603317864471867, 0.01617754526845671, 0.014691263938203742, 0.013835638097459416, 0.013695610509942826, 0.013579916400408875, 0.013419890968288451, 0.012730706821460703, 0.01224676325886789, 0.009930076029184364]}, {\"hovertext\": \"<b>Topic 8</b>:life balance_work life_work life ba\", \"line\": {\"color\": \"black\", \"width\": 1.5}, \"mode\": \"lines+lines\", \"name\": \"\", \"opacity\": 0.1, \"type\": \"scatter\", \"x\": [1, 2, 3, 4, 5, 6, 7, 8, 9, 10, 11, 12, 13, 14, 15], \"y\": [0.06505533802007586, 0.06464156197999943, 0.06375281882146036, 0.03392614272120608, 0.028114851301827712, 0.026537411614952988, 0.02499733555372737, 0.01260631714867972, 0.012549586106409183, 0.011183996223082363, 0.010872954662319552, 0.009247060744074727, 0.008986037622593604, 0.008907036694752634, 0.008032038285533748]}, {\"hovertext\": \"<b>Topic 9</b>:customer_retail_customers_pay retai\", \"line\": {\"color\": \"black\", \"width\": 1.5}, \"mode\": \"lines+lines\", \"name\": \"\", \"opacity\": 0.1, \"type\": \"scatter\", \"x\": [1, 2, 3, 4, 5, 6, 7, 8, 9, 10, 11, 12, 13, 14, 15], \"y\": [0.03985740463317114, 0.03252091948748778, 0.022363832123696185, 0.009829447146310033, 0.009652115752925596, 0.009061788959733516, 0.008901954173233589, 0.008586850370924983, 0.008429599238396802, 0.00823611271723186, 0.007689572889988882, 0.007614729710516695, 0.007576556465410372, 0.006897837514439335, 0.006316566608134737]}, {\"hovertext\": \"<b>Topic 10</b>:leadership_leadership principles_f\", \"line\": {\"color\": \"black\", \"width\": 1.5}, \"mode\": \"lines+lines\", \"name\": \"\", \"opacity\": 0.1, \"type\": \"scatter\", \"x\": [1, 2, 3, 4, 5, 6, 7, 8, 9, 10, 11, 12, 13, 14, 15], \"y\": [0.04882687021618198, 0.015712875747383073, 0.014027363544502014, 0.012731540831753032, 0.010581091174048592, 0.009399557035055133, 0.008601862674013036, 0.008436248361676477, 0.008034856265700966, 0.007349595582617356, 0.007209302494412388, 0.0061434787209351084, 0.005728504727240912, 0.005534511609870708, 0.004910149838611127]}, {\"hovertext\": \"<b>Topic 11</b>:benefits_good_great benefits_good \", \"line\": {\"color\": \"black\", \"width\": 1.5}, \"mode\": \"lines+lines\", \"name\": \"\", \"opacity\": 0.1, \"type\": \"scatter\", \"x\": [1, 2, 3, 4, 5, 6, 7, 8, 9, 10, 11, 12, 13, 14, 15], \"y\": [0.044954703606579334, 0.023943451013998942, 0.022696807926575486, 0.019901844942037564, 0.019790936173603807, 0.015643634035340255, 0.012090265823791317, 0.008975448135717701, 0.008181876059209182, 0.006864128249096869, 0.006443885841420419, 0.006440239875364951, 0.006328311036683435, 0.006237995844881014, 0.006146616566096711]}, {\"hovertext\": \"<b>Topic 12</b>:pay_good pay_good_pay good_paid ti\", \"line\": {\"color\": \"black\", \"width\": 1.5}, \"mode\": \"lines+lines\", \"name\": \"\", \"opacity\": 0.1, \"type\": \"scatter\", \"x\": [1, 2, 3, 4, 5, 6, 7, 8, 9, 10, 11, 12, 13, 14, 15], \"y\": [0.06186921622678951, 0.02915139315540739, 0.025724206205204103, 0.01777843257447549, 0.014739271799712222, 0.01331099377647412, 0.01247428345127816, 0.009382024375720843, 0.008915078639214417, 0.008669021374959902, 0.008288993728216615, 0.008270446996773815, 0.008093982262044653, 0.007922818631645356, 0.007622894805273186]}, {\"hovertext\": \"<b>Topic 13</b>:google_facebook_people_company_wor\", \"line\": {\"color\": \"black\", \"width\": 1.5}, \"mode\": \"lines+lines\", \"name\": \"\", \"opacity\": 0.1, \"type\": \"scatter\", \"x\": [1, 2, 3, 4, 5, 6, 7, 8, 9, 10, 11, 12, 13, 14, 15], \"y\": [0.04431145246757106, 0.017772252387346317, 0.00931592598954724, 0.008867509662604188, 0.008391038557390786, 0.007754742787110052, 0.007350543471230775, 0.006860105845106836, 0.006085033355705183, 0.005839266418431332, 0.005456528188515794, 0.005403907567645494, 0.005311058209282646, 0.00496417709767171, 0.004810273022856074]}, {\"hovertext\": \"<b>Topic 14</b>:place work_place_great place_great\", \"line\": {\"color\": \"black\", \"width\": 1.5}, \"mode\": \"lines+lines\", \"name\": \"\", \"opacity\": 0.1, \"type\": \"scatter\", \"x\": [1, 2, 3, 4, 5, 6, 7, 8, 9, 10, 11, 12, 13, 14, 15], \"y\": [0.10045628277944363, 0.09850966731974618, 0.04821591705957032, 0.0481853863387055, 0.030670632312186134, 0.030302297083263135, 0.029392583069406706, 0.02925129694923691, 0.02846953275239774, 0.023591446166023784, 0.01436314693999145, 0.01364818101695344, 0.01303778989652952, 0.012952409456951565, 0.012475956315566854]}, {\"hovertext\": \"<b>Topic 15</b>:career_opportunities_growth_opport\", \"line\": {\"color\": \"black\", \"width\": 1.5}, \"mode\": \"lines+lines\", \"name\": \"\", \"opacity\": 0.1, \"type\": \"scatter\", \"x\": [1, 2, 3, 4, 5, 6, 7, 8, 9, 10, 11, 12, 13, 14, 15], \"y\": [0.059886794109561124, 0.04131092140263272, 0.03007217925790509, 0.018559583284690026, 0.01557311319385844, 0.015292702416955076, 0.010547355397616831, 0.010086178434855202, 0.009980265550576828, 0.009693050040933715, 0.008684809084962199, 0.00841667456345993, 0.007229634226830032, 0.006698962770000114, 0.006469256243640054]}, {\"hovertext\": \"<b>Topic 16</b>:coworkers_great coworkers_great_wo\", \"line\": {\"color\": \"black\", \"width\": 1.5}, \"mode\": \"lines+lines\", \"name\": \"\", \"opacity\": 0.1, \"type\": \"scatter\", \"x\": [1, 2, 3, 4, 5, 6, 7, 8, 9, 10, 11, 12, 13, 14, 15], \"y\": [0.08934255441320167, 0.02938237002784559, 0.024134683650505685, 0.02138471583564072, 0.02120293187418999, 0.020446127470108814, 0.01946781775251332, 0.012750337575864494, 0.011548993229036223, 0.010736054555989381, 0.007616224918633168, 0.007475005686201188, 0.007351523462804385, 0.007199904687888274, 0.007136955406173602]}, {\"hovertext\": \"<b>Topic 17</b>:insurance_benefits_dental_health i\", \"line\": {\"color\": \"black\", \"width\": 1.5}, \"mode\": \"lines+lines\", \"name\": \"\", \"opacity\": 0.1, \"type\": \"scatter\", \"x\": [1, 2, 3, 4, 5, 6, 7, 8, 9, 10, 11, 12, 13, 14, 15], \"y\": [0.040070652097864916, 0.02807798446491475, 0.027587396798121673, 0.02145459965071443, 0.014972453454281342, 0.013929720192168234, 0.012786041807115468, 0.011453118074200385, 0.011141824156382301, 0.010629747140958747, 0.009885213862324925, 0.009426014613787009, 0.009194864123711137, 0.008776411917718167, 0.008647859093630717]}, {\"hovertext\": \"<b>Topic 18</b>:good_good benefits_pay benefits_gr\", \"line\": {\"color\": \"black\", \"width\": 1.5}, \"mode\": \"lines+lines\", \"name\": \"\", \"opacity\": 0.1, \"type\": \"scatter\", \"x\": [1, 2, 3, 4, 5, 6, 7, 8, 9, 10, 11, 12, 13, 14, 15], \"y\": [0.03885761980538503, 0.029929264895185017, 0.02726910449897018, 0.02593742170560464, 0.02590244125741461, 0.02410276026380472, 0.02056282979159734, 0.016888837617098966, 0.015585581677029647, 0.012558180252322191, 0.012446433202592635, 0.012122940689842683, 0.010537326535960997, 0.010364395920312608, 0.00987498775648224]}, {\"hovertext\": \"<b>Topic 19</b>:stock_stock options_options_stocks\", \"line\": {\"color\": \"black\", \"width\": 1.5}, \"mode\": \"lines+lines\", \"name\": \"\", \"opacity\": 0.1, \"type\": \"scatter\", \"x\": [1, 2, 3, 4, 5, 6, 7, 8, 9, 10, 11, 12, 13, 14, 15], \"y\": [0.08371083873501912, 0.04489283701249314, 0.04387790625405605, 0.024974108881080495, 0.021350914715309064, 0.01287115841505764, 0.009397870854781352, 0.009183487959046388, 0.009039939398927868, 0.008338068758514944, 0.007860627986491456, 0.007481666913667179, 0.00700009534111747, 0.006526858675393925, 0.006515492602258359]}, {\"hovertext\": \"<b>Topic 20</b>:smart_smart people_work smart_work\", \"line\": {\"color\": \"black\", \"width\": 1.5}, \"mode\": \"lines+lines\", \"name\": \"\", \"opacity\": 0.1, \"type\": \"scatter\", \"x\": [1, 2, 3, 4, 5, 6, 7, 8, 9, 10, 11, 12, 13, 14, 15], \"y\": [0.07155846646703144, 0.06383046323410498, 0.022133794212689867, 0.020637312803551064, 0.015213440027933437, 0.014911577440850496, 0.01339210734628193, 0.012159761928444528, 0.01185603781440381, 0.010533185458862396, 0.009800900222293034, 0.009755334256203316, 0.009729600242152022, 0.00907479651949685, 0.008654726890111063]}, {\"hovertext\": \"<b>Topic 21</b>:de_et_und_les_la_en_ambiance_des_b\", \"line\": {\"color\": \"black\", \"width\": 1.5}, \"mode\": \"lines+lines\", \"name\": \"\", \"opacity\": 0.1, \"type\": \"scatter\", \"x\": [1, 2, 3, 4, 5, 6, 7, 8, 9, 10, 11, 12, 13, 14, 15], \"y\": [0.051307417718221504, 0.03772527521941419, 0.03605531936461147, 0.03205588593112111, 0.02510529732568512, 0.020795172071540236, 0.02059198733965558, 0.019992701566725925, 0.018454801446208546, 0.01739549459934873, 0.016708563438143233, 0.016016572041057237, 0.012271382073332402, 0.011742028431198346, 0.011742028431198346]}, {\"hovertext\": \"<b>Topic 22</b>:great training_training great_ment\", \"line\": {\"color\": \"black\", \"width\": 1.5}, \"mode\": \"lines+lines\", \"name\": \"\", \"opacity\": 0.1, \"type\": \"scatter\", \"x\": [1, 2, 3, 4, 5, 6, 7, 8, 9, 10, 11, 12, 13, 14, 15], \"y\": [0.028234180476359463, 0.01608275624094814, 0.0150170235001085, 0.01475080767385012, 0.01361339250152317, 0.012953034527333108, 0.009375960242698916, 0.009035016398875136, 0.008543692652824097, 0.00770188113494582, 0.0074017340156189194, 0.007166024753234633, 0.007136385144979774, 0.006701364016985361, 0.006589322891000581]}, {\"hovertext\": \"<b>Topic 23</b>:intern_easy job_easy get_interns_e\", \"line\": {\"color\": \"black\", \"width\": 1.5}, \"mode\": \"lines+lines\", \"name\": \"\", \"opacity\": 0.1, \"type\": \"scatter\", \"x\": [1, 2, 3, 4, 5, 6, 7, 8, 9, 10, 11, 12, 13, 14, 15], \"y\": [0.026710003919541894, 0.022571077085434835, 0.022034887153937862, 0.021347301907237815, 0.020445742646339384, 0.018189268809368945, 0.017923269555122398, 0.01731856404900584, 0.01489820840423469, 0.014798645220851052, 0.014130055507256154, 0.012336420841534763, 0.010406232744920394, 0.01009997436037393, 0.009089976924336537]}, {\"hovertext\": \"<b>Topic 24</b>:projects_interesting projects_smar\", \"line\": {\"color\": \"black\", \"width\": 1.5}, \"mode\": \"lines+lines\", \"name\": \"\", \"opacity\": 0.1, \"type\": \"scatter\", \"x\": [1, 2, 3, 4, 5, 6, 7, 8, 9, 10, 11, 12, 13, 14, 15], \"y\": [0.08919331159883151, 0.03305112286849075, 0.031544326737661804, 0.028889321860862956, 0.014038244350132038, 0.012735025437773592, 0.01269262997614585, 0.012542495817334659, 0.012088053769706722, 0.011703960544030315, 0.011284133672221587, 0.009782599428240587, 0.009763561520112193, 0.009201063589748025, 0.0089409599642704]}, {\"hovertext\": \"<b>Topic 25</b>:good salary_good_salary good_good \", \"line\": {\"color\": \"black\", \"width\": 1.5}, \"mode\": \"lines+lines\", \"name\": \"\", \"opacity\": 0.1, \"type\": \"scatter\", \"x\": [1, 2, 3, 4, 5, 6, 7, 8, 9, 10, 11, 12, 13, 14, 15], \"y\": [0.06563887867190837, 0.048746535025318345, 0.03657871011886895, 0.019518147012025686, 0.016798164588380203, 0.015337627119919806, 0.012760984221158744, 0.012372695415996155, 0.012031982906817913, 0.010668341816332829, 0.010160766021272673, 0.00989719984569254, 0.009682815961754026, 0.00912857356429983, 0.008952397440005226]}, {\"hovertext\": \"<b>Topic 26</b>:company_growing_growth_growing com\", \"line\": {\"color\": \"black\", \"width\": 1.5}, \"mode\": \"lines+lines\", \"name\": \"\", \"opacity\": 0.1, \"type\": \"scatter\", \"x\": [1, 2, 3, 4, 5, 6, 7, 8, 9, 10, 11, 12, 13, 14, 15], \"y\": [0.05344951242870507, 0.03047459910850824, 0.03005956343170202, 0.015906870612776382, 0.011212608987759904, 0.010885157998005492, 0.010660222972494854, 0.010608721365366345, 0.01031761297069784, 0.010230984682707653, 0.009959737677343063, 0.00918238490662474, 0.008435223668243565, 0.007884680270805237, 0.00743341432099657]}, {\"hovertext\": \"<b>Topic 27</b>:work culture_great culture_culture\", \"line\": {\"color\": \"black\", \"width\": 1.5}, \"mode\": \"lines+lines\", \"name\": \"\", \"opacity\": 0.1, \"type\": \"scatter\", \"x\": [1, 2, 3, 4, 5, 6, 7, 8, 9, 10, 11, 12, 13, 14, 15], \"y\": [0.058500324276776206, 0.046371337931773726, 0.035363192732473486, 0.025548031753930195, 0.02322744317896308, 0.01987172434389341, 0.01898668724585834, 0.017146689421651234, 0.015174009593589874, 0.013898715010587965, 0.013768904142757308, 0.013436154719535536, 0.011431126281100821, 0.010119835864431435, 0.010001068323492355]}, {\"hovertext\": \"<b>Topic 28</b>:home_work home_working home_work_h\", \"line\": {\"color\": \"black\", \"width\": 1.5}, \"mode\": \"lines+lines\", \"name\": \"\", \"opacity\": 0.1, \"type\": \"scatter\", \"x\": [1, 2, 3, 4, 5, 6, 7, 8, 9, 10, 11, 12, 13, 14, 15], \"y\": [0.14368233022572408, 0.11155542650583392, 0.03476447454383441, 0.033488087741926555, 0.02404557076823264, 0.022969723417304338, 0.02045203065592276, 0.020309115675143513, 0.017340037921354055, 0.017211550462841705, 0.01624729254011481, 0.015678095856737226, 0.014465202347284503, 0.010667170382534055, 0.010154036204790719]}, {\"hovertext\": \"<b>Topic 29</b>:discounts_discount_benefits_great_\", \"line\": {\"color\": \"black\", \"width\": 1.5}, \"mode\": \"lines+lines\", \"name\": \"\", \"opacity\": 0.1, \"type\": \"scatter\", \"x\": [1, 2, 3, 4, 5, 6, 7, 8, 9, 10, 11, 12, 13, 14, 15], \"y\": [0.08869122287995163, 0.03337671321052499, 0.029944203633566067, 0.028159096519371853, 0.024435238428087543, 0.021898295791714775, 0.016745755605428944, 0.0165956496209726, 0.014520754208588591, 0.013892692360236871, 0.012456581091926159, 0.011658281576414627, 0.010711140675473397, 0.010233275783998349, 0.009930385565033938]}],                        {\"height\": 500, \"hoverlabel\": {\"bgcolor\": \"white\", \"font\": {\"family\": \"Rockwell\", \"size\": 16}}, \"showlegend\": false, \"template\": {\"data\": {\"bar\": [{\"error_x\": {\"color\": \"#2a3f5f\"}, \"error_y\": {\"color\": \"#2a3f5f\"}, \"marker\": {\"line\": {\"color\": \"white\", \"width\": 0.5}}, \"type\": \"bar\"}], \"barpolar\": [{\"marker\": {\"line\": {\"color\": \"white\", \"width\": 0.5}}, \"type\": \"barpolar\"}], \"carpet\": [{\"aaxis\": {\"endlinecolor\": \"#2a3f5f\", \"gridcolor\": \"#C8D4E3\", \"linecolor\": \"#C8D4E3\", \"minorgridcolor\": \"#C8D4E3\", \"startlinecolor\": \"#2a3f5f\"}, \"baxis\": {\"endlinecolor\": \"#2a3f5f\", \"gridcolor\": \"#C8D4E3\", \"linecolor\": \"#C8D4E3\", \"minorgridcolor\": \"#C8D4E3\", \"startlinecolor\": \"#2a3f5f\"}, \"type\": \"carpet\"}], \"choropleth\": [{\"colorbar\": {\"outlinewidth\": 0, \"ticks\": \"\"}, \"type\": \"choropleth\"}], \"contour\": [{\"colorbar\": {\"outlinewidth\": 0, \"ticks\": \"\"}, \"colorscale\": [[0.0, \"#0d0887\"], [0.1111111111111111, \"#46039f\"], [0.2222222222222222, \"#7201a8\"], [0.3333333333333333, \"#9c179e\"], [0.4444444444444444, \"#bd3786\"], [0.5555555555555556, \"#d8576b\"], [0.6666666666666666, \"#ed7953\"], [0.7777777777777778, \"#fb9f3a\"], [0.8888888888888888, \"#fdca26\"], [1.0, \"#f0f921\"]], \"type\": \"contour\"}], \"contourcarpet\": [{\"colorbar\": {\"outlinewidth\": 0, \"ticks\": \"\"}, \"type\": \"contourcarpet\"}], \"heatmap\": [{\"colorbar\": {\"outlinewidth\": 0, \"ticks\": \"\"}, \"colorscale\": [[0.0, \"#0d0887\"], [0.1111111111111111, \"#46039f\"], [0.2222222222222222, \"#7201a8\"], [0.3333333333333333, \"#9c179e\"], [0.4444444444444444, \"#bd3786\"], [0.5555555555555556, \"#d8576b\"], [0.6666666666666666, \"#ed7953\"], [0.7777777777777778, \"#fb9f3a\"], [0.8888888888888888, \"#fdca26\"], [1.0, \"#f0f921\"]], \"type\": \"heatmap\"}], \"heatmapgl\": [{\"colorbar\": {\"outlinewidth\": 0, \"ticks\": \"\"}, \"colorscale\": [[0.0, \"#0d0887\"], [0.1111111111111111, \"#46039f\"], [0.2222222222222222, \"#7201a8\"], [0.3333333333333333, \"#9c179e\"], [0.4444444444444444, \"#bd3786\"], [0.5555555555555556, \"#d8576b\"], [0.6666666666666666, \"#ed7953\"], [0.7777777777777778, \"#fb9f3a\"], [0.8888888888888888, \"#fdca26\"], [1.0, \"#f0f921\"]], \"type\": \"heatmapgl\"}], \"histogram\": [{\"marker\": {\"colorbar\": {\"outlinewidth\": 0, \"ticks\": \"\"}}, \"type\": \"histogram\"}], \"histogram2d\": [{\"colorbar\": {\"outlinewidth\": 0, \"ticks\": \"\"}, \"colorscale\": [[0.0, \"#0d0887\"], [0.1111111111111111, \"#46039f\"], [0.2222222222222222, \"#7201a8\"], [0.3333333333333333, \"#9c179e\"], [0.4444444444444444, \"#bd3786\"], [0.5555555555555556, \"#d8576b\"], [0.6666666666666666, \"#ed7953\"], [0.7777777777777778, \"#fb9f3a\"], [0.8888888888888888, \"#fdca26\"], [1.0, \"#f0f921\"]], \"type\": \"histogram2d\"}], \"histogram2dcontour\": [{\"colorbar\": {\"outlinewidth\": 0, \"ticks\": \"\"}, \"colorscale\": [[0.0, \"#0d0887\"], [0.1111111111111111, \"#46039f\"], [0.2222222222222222, \"#7201a8\"], [0.3333333333333333, \"#9c179e\"], [0.4444444444444444, \"#bd3786\"], [0.5555555555555556, \"#d8576b\"], [0.6666666666666666, \"#ed7953\"], [0.7777777777777778, \"#fb9f3a\"], [0.8888888888888888, \"#fdca26\"], [1.0, \"#f0f921\"]], \"type\": \"histogram2dcontour\"}], \"mesh3d\": [{\"colorbar\": {\"outlinewidth\": 0, \"ticks\": \"\"}, \"type\": \"mesh3d\"}], \"parcoords\": [{\"line\": {\"colorbar\": {\"outlinewidth\": 0, \"ticks\": \"\"}}, \"type\": \"parcoords\"}], \"pie\": [{\"automargin\": true, \"type\": \"pie\"}], \"scatter\": [{\"marker\": {\"colorbar\": {\"outlinewidth\": 0, \"ticks\": \"\"}}, \"type\": \"scatter\"}], \"scatter3d\": [{\"line\": {\"colorbar\": {\"outlinewidth\": 0, \"ticks\": \"\"}}, \"marker\": {\"colorbar\": {\"outlinewidth\": 0, \"ticks\": \"\"}}, \"type\": \"scatter3d\"}], \"scattercarpet\": [{\"marker\": {\"colorbar\": {\"outlinewidth\": 0, \"ticks\": \"\"}}, \"type\": \"scattercarpet\"}], \"scattergeo\": [{\"marker\": {\"colorbar\": {\"outlinewidth\": 0, \"ticks\": \"\"}}, \"type\": \"scattergeo\"}], \"scattergl\": [{\"marker\": {\"colorbar\": {\"outlinewidth\": 0, \"ticks\": \"\"}}, \"type\": \"scattergl\"}], \"scattermapbox\": [{\"marker\": {\"colorbar\": {\"outlinewidth\": 0, \"ticks\": \"\"}}, \"type\": \"scattermapbox\"}], \"scatterpolar\": [{\"marker\": {\"colorbar\": {\"outlinewidth\": 0, \"ticks\": \"\"}}, \"type\": \"scatterpolar\"}], \"scatterpolargl\": [{\"marker\": {\"colorbar\": {\"outlinewidth\": 0, \"ticks\": \"\"}}, \"type\": \"scatterpolargl\"}], \"scatterternary\": [{\"marker\": {\"colorbar\": {\"outlinewidth\": 0, \"ticks\": \"\"}}, \"type\": \"scatterternary\"}], \"surface\": [{\"colorbar\": {\"outlinewidth\": 0, \"ticks\": \"\"}, \"colorscale\": [[0.0, \"#0d0887\"], [0.1111111111111111, \"#46039f\"], [0.2222222222222222, \"#7201a8\"], [0.3333333333333333, \"#9c179e\"], [0.4444444444444444, \"#bd3786\"], [0.5555555555555556, \"#d8576b\"], [0.6666666666666666, \"#ed7953\"], [0.7777777777777778, \"#fb9f3a\"], [0.8888888888888888, \"#fdca26\"], [1.0, \"#f0f921\"]], \"type\": \"surface\"}], \"table\": [{\"cells\": {\"fill\": {\"color\": \"#EBF0F8\"}, \"line\": {\"color\": \"white\"}}, \"header\": {\"fill\": {\"color\": \"#C8D4E3\"}, \"line\": {\"color\": \"white\"}}, \"type\": \"table\"}]}, \"layout\": {\"annotationdefaults\": {\"arrowcolor\": \"#2a3f5f\", \"arrowhead\": 0, \"arrowwidth\": 1}, \"autotypenumbers\": \"strict\", \"coloraxis\": {\"colorbar\": {\"outlinewidth\": 0, \"ticks\": \"\"}}, \"colorscale\": {\"diverging\": [[0, \"#8e0152\"], [0.1, \"#c51b7d\"], [0.2, \"#de77ae\"], [0.3, \"#f1b6da\"], [0.4, \"#fde0ef\"], [0.5, \"#f7f7f7\"], [0.6, \"#e6f5d0\"], [0.7, \"#b8e186\"], [0.8, \"#7fbc41\"], [0.9, \"#4d9221\"], [1, \"#276419\"]], \"sequential\": [[0.0, \"#0d0887\"], [0.1111111111111111, \"#46039f\"], [0.2222222222222222, \"#7201a8\"], [0.3333333333333333, \"#9c179e\"], [0.4444444444444444, \"#bd3786\"], [0.5555555555555556, \"#d8576b\"], [0.6666666666666666, \"#ed7953\"], [0.7777777777777778, \"#fb9f3a\"], [0.8888888888888888, \"#fdca26\"], [1.0, \"#f0f921\"]], \"sequentialminus\": [[0.0, \"#0d0887\"], [0.1111111111111111, \"#46039f\"], [0.2222222222222222, \"#7201a8\"], [0.3333333333333333, \"#9c179e\"], [0.4444444444444444, \"#bd3786\"], [0.5555555555555556, \"#d8576b\"], [0.6666666666666666, \"#ed7953\"], [0.7777777777777778, \"#fb9f3a\"], [0.8888888888888888, \"#fdca26\"], [1.0, \"#f0f921\"]]}, \"colorway\": [\"#636efa\", \"#EF553B\", \"#00cc96\", \"#ab63fa\", \"#FFA15A\", \"#19d3f3\", \"#FF6692\", \"#B6E880\", \"#FF97FF\", \"#FECB52\"], \"font\": {\"color\": \"#2a3f5f\"}, \"geo\": {\"bgcolor\": \"white\", \"lakecolor\": \"white\", \"landcolor\": \"white\", \"showlakes\": true, \"showland\": true, \"subunitcolor\": \"#C8D4E3\"}, \"hoverlabel\": {\"align\": \"left\"}, \"hovermode\": \"closest\", \"mapbox\": {\"style\": \"light\"}, \"paper_bgcolor\": \"white\", \"plot_bgcolor\": \"white\", \"polar\": {\"angularaxis\": {\"gridcolor\": \"#EBF0F8\", \"linecolor\": \"#EBF0F8\", \"ticks\": \"\"}, \"bgcolor\": \"white\", \"radialaxis\": {\"gridcolor\": \"#EBF0F8\", \"linecolor\": \"#EBF0F8\", \"ticks\": \"\"}}, \"scene\": {\"xaxis\": {\"backgroundcolor\": \"white\", \"gridcolor\": \"#DFE8F3\", \"gridwidth\": 2, \"linecolor\": \"#EBF0F8\", \"showbackground\": true, \"ticks\": \"\", \"zerolinecolor\": \"#EBF0F8\"}, \"yaxis\": {\"backgroundcolor\": \"white\", \"gridcolor\": \"#DFE8F3\", \"gridwidth\": 2, \"linecolor\": \"#EBF0F8\", \"showbackground\": true, \"ticks\": \"\", \"zerolinecolor\": \"#EBF0F8\"}, \"zaxis\": {\"backgroundcolor\": \"white\", \"gridcolor\": \"#DFE8F3\", \"gridwidth\": 2, \"linecolor\": \"#EBF0F8\", \"showbackground\": true, \"ticks\": \"\", \"zerolinecolor\": \"#EBF0F8\"}}, \"shapedefaults\": {\"line\": {\"color\": \"#2a3f5f\"}}, \"ternary\": {\"aaxis\": {\"gridcolor\": \"#DFE8F3\", \"linecolor\": \"#A2B1C6\", \"ticks\": \"\"}, \"baxis\": {\"gridcolor\": \"#DFE8F3\", \"linecolor\": \"#A2B1C6\", \"ticks\": \"\"}, \"bgcolor\": \"white\", \"caxis\": {\"gridcolor\": \"#DFE8F3\", \"linecolor\": \"#A2B1C6\", \"ticks\": \"\"}}, \"title\": {\"x\": 0.05}, \"xaxis\": {\"automargin\": true, \"gridcolor\": \"#EBF0F8\", \"linecolor\": \"#EBF0F8\", \"ticks\": \"\", \"title\": {\"standoff\": 15}, \"zerolinecolor\": \"#EBF0F8\", \"zerolinewidth\": 2}, \"yaxis\": {\"automargin\": true, \"gridcolor\": \"#EBF0F8\", \"linecolor\": \"#EBF0F8\", \"ticks\": \"\", \"title\": {\"standoff\": 15}, \"zerolinecolor\": \"#EBF0F8\", \"zerolinewidth\": 2}}}, \"title\": {\"font\": {\"color\": \"Black\", \"size\": 22}, \"text\": \"<b>Term score decline per Topic</b>\", \"x\": 0.5, \"xanchor\": \"center\", \"y\": 0.9, \"yanchor\": \"top\"}, \"width\": 800, \"xaxis\": {\"dtick\": 2, \"range\": [0, 15], \"tick0\": 1, \"title\": {\"text\": \"Term Rank\"}}, \"yaxis\": {\"title\": {\"text\": \"c-TF-IDF score\"}}},                        {\"responsive\": true}                    ).then(function(){\n",
              "                            \n",
              "var gd = document.getElementById('643ccb90-f7e9-456d-b96a-3be2c8357591');\n",
              "var x = new MutationObserver(function (mutations, observer) {{\n",
              "        var display = window.getComputedStyle(gd).display;\n",
              "        if (!display || display === 'none') {{\n",
              "            console.log([gd, 'removed!']);\n",
              "            Plotly.purge(gd);\n",
              "            observer.disconnect();\n",
              "        }}\n",
              "}});\n",
              "\n",
              "// Listen for the removal of the full notebook cells\n",
              "var notebookContainer = gd.closest('#notebook-container');\n",
              "if (notebookContainer) {{\n",
              "    x.observe(notebookContainer, {childList: true});\n",
              "}}\n",
              "\n",
              "// Listen for the clearing of the current output cell\n",
              "var outputEl = gd.closest('.output');\n",
              "if (outputEl) {{\n",
              "    x.observe(outputEl, {childList: true});\n",
              "}}\n",
              "\n",
              "                        })                };                            </script>        </div>\n",
              "</body>\n",
              "</html>"
            ]
          },
          "metadata": {
            "tags": []
          }
        }
      ]
    },
    {
      "cell_type": "markdown",
      "metadata": {
        "id": "LXYJ745O-03Z"
      },
      "source": [
        "# **Search Topics**\n",
        "After having trained our model, we can use `find_topics` to search for topics that are similar \n",
        "to an input search_term. Here, we are going to be searching for topics that closely relate the \n",
        "search term \"vehicle\". Then, we extract the most similar topic and check the results: "
      ]
    },
    {
      "cell_type": "code",
      "metadata": {
        "colab": {
          "base_uri": "https://localhost:8080/"
        },
        "id": "lAdiVYej-2i-",
        "outputId": "72ab853a-3f1b-4122-d87e-061fd02b0a92"
      },
      "source": [
        "similar_topics, similarity = topic_model.find_topics(\"management\", top_n=5); similar_topics"
      ],
      "execution_count": 35,
      "outputs": [
        {
          "output_type": "execute_result",
          "data": {
            "text/plain": [
              "[10, 3, 26, 15, 4]"
            ]
          },
          "metadata": {
            "tags": []
          },
          "execution_count": 35
        }
      ]
    },
    {
      "cell_type": "code",
      "metadata": {
        "colab": {
          "base_uri": "https://localhost:8080/"
        },
        "id": "Q9paNa09d3Xy",
        "outputId": "a98a3d0a-cdcf-4c1f-90ac-b654af3b265f"
      },
      "source": [
        "topic_model.get_topic(10)"
      ],
      "execution_count": 36,
      "outputs": [
        {
          "output_type": "execute_result",
          "data": {
            "text/plain": [
              "[('leadership', 0.04882687021618198),\n",
              " ('leadership principles', 0.015712875747383073),\n",
              " ('freedom', 0.014027363544502014),\n",
              " ('company', 0.012731540831753032),\n",
              " ('ownership', 0.010581091174048592),\n",
              " ('autonomy', 0.009399557035055133),\n",
              " ('great leadership', 0.008601862674013036),\n",
              " ('ceo', 0.008436248361676477),\n",
              " ('management', 0.008034856265700966),\n",
              " ('strong', 0.007349595582617356),\n",
              " ('benefits', 0.007209302494412388),\n",
              " ('team', 0.0061434787209351084),\n",
              " ('employees', 0.005728504727240912),\n",
              " ('managers', 0.005534511609870708),\n",
              " ('leaders', 0.004910149838611127)]"
            ]
          },
          "metadata": {
            "tags": []
          },
          "execution_count": 36
        }
      ]
    },
    {
      "cell_type": "code",
      "metadata": {
        "colab": {
          "base_uri": "https://localhost:8080/"
        },
        "id": "ZBAlH-qbtIfI",
        "outputId": "d555f1c5-43cc-4559-9b09-94554dc33f7e"
      },
      "source": [
        "topic_model.get_topic(3)"
      ],
      "execution_count": 37,
      "outputs": [
        {
          "output_type": "execute_result",
          "data": {
            "text/plain": [
              "[('microsoft', 0.04791339811348853),\n",
              " ('software', 0.013793895878953407),\n",
              " ('company', 0.010043808127899715),\n",
              " ('work', 0.008674319952738766),\n",
              " ('benefits', 0.007784837920566532),\n",
              " ('working', 0.0070722315108859846),\n",
              " ('microsoft great', 0.0068809560452056506),\n",
              " ('cloud', 0.006328292556227155),\n",
              " ('employees', 0.005516336365126923),\n",
              " ('working microsoft', 0.0054830521328258),\n",
              " ('technology', 0.005159173181450926),\n",
              " ('career', 0.0051129457473592455),\n",
              " ('smart', 0.004883151765706373),\n",
              " ('opportunities', 0.004759077723464276),\n",
              " ('industry', 0.0047316048754270324)]"
            ]
          },
          "metadata": {
            "tags": []
          },
          "execution_count": 37
        }
      ]
    },
    {
      "cell_type": "code",
      "metadata": {
        "colab": {
          "base_uri": "https://localhost:8080/"
        },
        "id": "IGRw0lH4tVsW",
        "outputId": "416fc1c4-7bc1-49c7-8d37-26577bb53910"
      },
      "source": [
        "topic_model.get_topic(26)"
      ],
      "execution_count": 38,
      "outputs": [
        {
          "output_type": "execute_result",
          "data": {
            "text/plain": [
              "[('company', 0.05344951242870507),\n",
              " ('growing', 0.03047459910850824),\n",
              " ('growth', 0.03005956343170202),\n",
              " ('growing company', 0.015906870612776382),\n",
              " ('opportunity growth', 0.011212608987759904),\n",
              " ('within company', 0.010885157998005492),\n",
              " ('company growing', 0.010660222972494854),\n",
              " ('business', 0.010608721365366345),\n",
              " ('company lots', 0.01031761297069784),\n",
              " ('big company', 0.010230984682707653),\n",
              " ('large company', 0.009959737677343063),\n",
              " ('industry', 0.00918238490662474),\n",
              " ('company growth', 0.008435223668243565),\n",
              " ('grow company', 0.007884680270805237),\n",
              " ('company provides', 0.00743341432099657)]"
            ]
          },
          "metadata": {
            "tags": []
          },
          "execution_count": 38
        }
      ]
    },
    {
      "cell_type": "markdown",
      "metadata": {
        "id": "wekNoQNuUVoU"
      },
      "source": [
        "# **Model serialization**\n",
        "The model and its internal settings can easily be saved. Note that the documents and embeddings will not be saved. However, UMAP and HDBSCAN will be saved. "
      ]
    },
    {
      "cell_type": "code",
      "metadata": {
        "id": "nWUF1uxiSb_a"
      },
      "source": [
        "# Save model\n",
        "#topic_model.save(\"my_model\")\t"
      ],
      "execution_count": 23,
      "outputs": []
    },
    {
      "cell_type": "code",
      "metadata": {
        "id": "y_eHBI1jSb6i"
      },
      "source": [
        "# Load model\n",
        "#my_model = BERTopic.load(\"my_model\")\t"
      ],
      "execution_count": 24,
      "outputs": []
    },
    {
      "cell_type": "markdown",
      "metadata": {
        "id": "2eyImbal7lb8"
      },
      "source": [
        "# **Embedding Models**\n",
        "The parameter `embedding_model` takes in a string pointing to a sentence-transformers model, a SentenceTransformer, or a Flair DocumentEmbedding model."
      ]
    },
    {
      "cell_type": "markdown",
      "metadata": {
        "id": "8ZKyW7NZpnEk"
      },
      "source": [
        "## Sentence-Transformers\n",
        "You can select any model from sentence-transformers here and pass it through BERTopic with embedding_model:\n",
        "\n"
      ]
    },
    {
      "cell_type": "code",
      "metadata": {
        "id": "k7sPgNfzprbP"
      },
      "source": [
        "topic_model = BERTopic(embedding_model=\"xlm-r-bert-base-nli-stsb-mean-tokens\")"
      ],
      "execution_count": 25,
      "outputs": []
    },
    {
      "cell_type": "markdown",
      "metadata": {
        "id": "8vv7i1JTp62V"
      },
      "source": [
        "Or select a SentenceTransformer model with your own parameters:\n"
      ]
    },
    {
      "cell_type": "code",
      "metadata": {
        "id": "Eh5qp58Hp7Ua"
      },
      "source": [
        "from sentence_transformers import SentenceTransformer\n",
        "\n",
        "sentence_model = SentenceTransformer(\"distilbert-base-nli-mean-tokens\", device=\"cpu\")\n",
        "topic_model = BERTopic(embedding_model=sentence_model, verbose=True)"
      ],
      "execution_count": 26,
      "outputs": []
    },
    {
      "cell_type": "markdown",
      "metadata": {
        "id": "SoMc1W-x7-b5"
      },
      "source": [
        "Click [here](https://www.sbert.net/docs/pretrained_models.html) for a list of supported sentence transformers models.  \n"
      ]
    }
  ]
}